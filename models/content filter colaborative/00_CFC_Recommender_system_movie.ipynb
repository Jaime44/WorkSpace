{
  "cells": [
    {
      "cell_type": "markdown",
      "metadata": {
        "colab_type": "text",
        "id": "view-in-github"
      },
      "source": [
        "<a href=\"https://colab.research.google.com/github/Jaime44/WorkSpace/blob/main/models/content%20filter%20colaborative/content-based-recommendation.ipynb\" target=\"_parent\"><img src=\"https://colab.research.google.com/assets/colab-badge.svg\" alt=\"Open In Colab\"/></a>"
      ]
    },
    {
      "cell_type": "code",
      "execution_count": 1,
      "metadata": {},
      "outputs": [
        {
          "name": "stdout",
          "output_type": "stream",
          "text": [
            "El código se está ejecutando en un entorno local.\n"
          ]
        }
      ],
      "source": [
        "import os\n",
        "import sys\n",
        "\n",
        "# Comprueba si el código se está ejecutando en Google Colab\n",
        "try:\n",
        "    import google.colab\n",
        "    IN_COLAB = True\n",
        "except:\n",
        "    IN_COLAB = False\n",
        "\n",
        "path_absolute = ''\n",
        "if IN_COLAB:\n",
        "    print(\"El código se está ejecutando en Google Colab.\")\n",
        "    from google.colab import drive\n",
        "    import tensorflow as tf\n",
        "    print(\"Versión de TensorFlow:\", tf.__version__)\n",
        "    print(\"Dispositivos disponibles:\", tf.config.list_physical_devices())\n",
        "\n",
        "    drive.mount('/content/drive')\n",
        "    path_absolute = '/content/drive/Othercomputers/Mi_portátil/TFM/WorkSpace/Models/content filter colaborative'\n",
        "\n",
        "    path_workspace = '/content/drive/Othercomputers/Mi_portátil/TFM/WorkSpace/'\n",
        "\n",
        "    # Cambia al directorio de tu carpeta en Google Drive\n",
        "    os.chdir(path_absolute)\n",
        "\n",
        "    # Lista los archivos y carpetas en el directorio actual\n",
        "    contenido_carpeta = os.listdir(path_absolute)\n",
        "    print(\"Contenido de la carpeta en Google Drive:\")\n",
        "    print(contenido_carpeta)\n",
        "\n",
        "    # Verificar la GPU\n",
        "    device_name = tf.test.gpu_device_name()\n",
        "    if device_name != '/device:GPU:0':\n",
        "        raise SystemError('GPU no encontrada')\n",
        "    print(f'Encontrada GPU: {device_name}')\n",
        "\n",
        "    # Habilitar la GPU para TensorFlow\n",
        "    physical_devices = tf.config.list_physical_devices('GPU')\n",
        "    if len(physical_devices) > 0:\n",
        "        tf.config.experimental.set_memory_growth(physical_devices[0], True)\n",
        "        print('Memoria de la GPU configurada dinámicamente')\n",
        "    else:\n",
        "        print('No se encontraron dispositivos GPU configurables')\n",
        "else:\n",
        "    print(\"El código se está ejecutando en un entorno local.\")\n",
        "    path_workspace ='C:/Users/jaime/OneDrive - Universidad de Málaga/Escritorio/UNIR/TFM/WorkSpace/'\n",
        "    path_absolute = os.getcwd().replace(\"\\\\\", \"/\")\n",
        "    path_absolute = 'C:/Users/jaime/OneDrive - Universidad de Málaga/Escritorio/UNIR/TFM/WorkSpace/Models/content filter colaborative'\n",
        "\n",
        "datasets_path = \"/datasets/\"\n",
        "path_absolute = path_absolute+datasets_path\n",
        "\n",
        "\n",
        "sys.path.append(path_workspace)"
      ]
    },
    {
      "cell_type": "markdown",
      "metadata": {
        "id": "hzAAprzVY57e"
      },
      "source": [
        "![CBR](https://miro.medium.com/v2/resize:fit:1400/1*H_MMnrpLQrqTSJHdDOCMoA.png)"
      ]
    },
    {
      "cell_type": "markdown",
      "metadata": {
        "id": "wB0JtdB6Y57g"
      },
      "source": [
        "# What is Content Based Recommendation\n",
        "\n",
        "Content-based recommendation, also known as content-based filtering, is a type of system or algorithm that provides recommendations to a user based on their interests and preferences. Those with such recommendation systems analyze the user's past preferences and likes, and suggest new items based on similar content.\n",
        "\n",
        "Content-based recommendation analyzes the content of items and determines the ones that are suitable for the user based on similarity criteria. For example, when making a movie recommendation, the system can take into account the genres, actors, directors, and other features of the movies the user has liked or watched. Based on this information, the system suggests other movies with similar characteristics.\n",
        "\n",
        "This recommendation system can utilize text analysis, tagging, categorization, or other content features along with the user profile or history to better understand the user's preferences. For instance, when making a music recommendation, the system can analyze features such as genres, instruments, tempo, and rhythm.\n",
        "\n",
        "Content-based recommendation systems can be effective in providing personalized recommendations based on user preferences. The recommended items based on the user's past data can capture their interest and provide a better user experience."
      ]
    },
    {
      "cell_type": "markdown",
      "metadata": {
        "id": "GhklwKDvY57h"
      },
      "source": [
        "# Business Problem\n",
        "To recommend movies similar to the movies that a person who comes to our site to watch movies."
      ]
    },
    {
      "cell_type": "markdown",
      "metadata": {
        "id": "O2teCVo9Y57i"
      },
      "source": [
        "# Road Map\n",
        "\n",
        "- 1. Creating the **TF-IDF Matrix**\n",
        "- 2. Creation of **Cosine Similarity Matrix**\n",
        "- 3. Making Recommendations Based on Similarities\n",
        "- 4. Preparation of the Study Script\n"
      ]
    },
    {
      "cell_type": "markdown",
      "metadata": {},
      "source": [
        "## Se cargan las librerías"
      ]
    },
    {
      "cell_type": "code",
      "execution_count": 2,
      "metadata": {
        "execution": {
          "iopub.execute_input": "2023-06-23T12:15:16.51868Z",
          "iopub.status.busy": "2023-06-23T12:15:16.517679Z",
          "iopub.status.idle": "2023-06-23T12:15:18.034241Z",
          "shell.execute_reply": "2023-06-23T12:15:18.033169Z",
          "shell.execute_reply.started": "2023-06-23T12:15:16.51863Z"
        },
        "id": "qfZBn1uiY57j",
        "trusted": true
      },
      "outputs": [],
      "source": [
        "# import Required Libraries\n",
        "\n",
        "import pandas as pd\n",
        "import numpy as np\n",
        "\n",
        "from sklearn.feature_extraction.text import TfidfVectorizer\n",
        "from sklearn.metrics.pairwise import cosine_similarity"
      ]
    },
    {
      "cell_type": "markdown",
      "metadata": {},
      "source": [
        "## Se cargan los Datasets"
      ]
    },
    {
      "cell_type": "code",
      "execution_count": 3,
      "metadata": {
        "id": "G4PWgF_UY57m"
      },
      "outputs": [],
      "source": [
        "# df = pd.read_csv(path_absolute+\"df_mezclado_tags_ratings_movies_links_genTags.csv\")"
      ]
    },
    {
      "cell_type": "code",
      "execution_count": 4,
      "metadata": {
        "execution": {
          "iopub.execute_input": "2023-06-23T12:15:18.045953Z",
          "iopub.status.busy": "2023-06-23T12:15:18.045301Z",
          "iopub.status.idle": "2023-06-23T12:15:19.560512Z",
          "shell.execute_reply": "2023-06-23T12:15:19.559651Z",
          "shell.execute_reply.started": "2023-06-23T12:15:18.045916Z"
        },
        "id": "RsucihNcY57l",
        "trusted": true
      },
      "outputs": [],
      "source": [
        "# dataFrame_onehot_encode = pd.read_csv(path_absolute+'data_moviesRating_tgGen_tgUsrs_onehot_encode.csv', sep=',')\n",
        "\n",
        "# dataFrame_onehot_encode.head()\n"
      ]
    },
    {
      "cell_type": "code",
      "execution_count": 5,
      "metadata": {},
      "outputs": [
        {
          "name": "stderr",
          "output_type": "stream",
          "text": [
            "C:\\Users\\jaime\\AppData\\Local\\Temp\\ipykernel_3432\\4218327248.py:1: DtypeWarning: Columns (3) have mixed types. Specify dtype option on import or set low_memory=False.\n",
            "  dataFrame_without_ohe = pd.read_csv(path_absolute+'data_moviesRating_tgGen_tgUsrs.csv')\n"
          ]
        },
        {
          "name": "stdout",
          "output_type": "stream",
          "text": [
            "(25000095, 8)\n"
          ]
        },
        {
          "data": {
            "text/html": [
              "<div>\n",
              "<style scoped>\n",
              "    .dataframe tbody tr th:only-of-type {\n",
              "        vertical-align: middle;\n",
              "    }\n",
              "\n",
              "    .dataframe tbody tr th {\n",
              "        vertical-align: top;\n",
              "    }\n",
              "\n",
              "    .dataframe thead th {\n",
              "        text-align: right;\n",
              "    }\n",
              "</style>\n",
              "<table border=\"1\" class=\"dataframe\">\n",
              "  <thead>\n",
              "    <tr style=\"text-align: right;\">\n",
              "      <th></th>\n",
              "      <th>userId</th>\n",
              "      <th>movieId</th>\n",
              "      <th>tag_by_user</th>\n",
              "      <th>tag_genome</th>\n",
              "      <th>title</th>\n",
              "      <th>genres</th>\n",
              "      <th>timestamp</th>\n",
              "      <th>rating</th>\n",
              "    </tr>\n",
              "  </thead>\n",
              "  <tbody>\n",
              "    <tr>\n",
              "      <th>0</th>\n",
              "      <td>1</td>\n",
              "      <td>296</td>\n",
              "      <td>NaN</td>\n",
              "      <td>masterpiece, hit men, gratuitous violence, dar...</td>\n",
              "      <td>Pulp Fiction (1994)</td>\n",
              "      <td>Comedy|Crime|Drama|Thriller</td>\n",
              "      <td>1147880044</td>\n",
              "      <td>5.0</td>\n",
              "    </tr>\n",
              "    <tr>\n",
              "      <th>1</th>\n",
              "      <td>3</td>\n",
              "      <td>296</td>\n",
              "      <td>NaN</td>\n",
              "      <td>masterpiece, hit men, gratuitous violence, dar...</td>\n",
              "      <td>Pulp Fiction (1994)</td>\n",
              "      <td>Comedy|Crime|Drama|Thriller</td>\n",
              "      <td>1439474476</td>\n",
              "      <td>5.0</td>\n",
              "    </tr>\n",
              "    <tr>\n",
              "      <th>2</th>\n",
              "      <td>4</td>\n",
              "      <td>296</td>\n",
              "      <td>NaN</td>\n",
              "      <td>masterpiece, hit men, gratuitous violence, dar...</td>\n",
              "      <td>Pulp Fiction (1994)</td>\n",
              "      <td>Comedy|Crime|Drama|Thriller</td>\n",
              "      <td>1573938898</td>\n",
              "      <td>4.0</td>\n",
              "    </tr>\n",
              "    <tr>\n",
              "      <th>3</th>\n",
              "      <td>5</td>\n",
              "      <td>296</td>\n",
              "      <td>NaN</td>\n",
              "      <td>masterpiece, hit men, gratuitous violence, dar...</td>\n",
              "      <td>Pulp Fiction (1994)</td>\n",
              "      <td>Comedy|Crime|Drama|Thriller</td>\n",
              "      <td>830786155</td>\n",
              "      <td>4.0</td>\n",
              "    </tr>\n",
              "    <tr>\n",
              "      <th>4</th>\n",
              "      <td>7</td>\n",
              "      <td>296</td>\n",
              "      <td>NaN</td>\n",
              "      <td>masterpiece, hit men, gratuitous violence, dar...</td>\n",
              "      <td>Pulp Fiction (1994)</td>\n",
              "      <td>Comedy|Crime|Drama|Thriller</td>\n",
              "      <td>835444730</td>\n",
              "      <td>4.0</td>\n",
              "    </tr>\n",
              "  </tbody>\n",
              "</table>\n",
              "</div>"
            ],
            "text/plain": [
              "   userId  movieId tag_by_user  \\\n",
              "0       1      296         NaN   \n",
              "1       3      296         NaN   \n",
              "2       4      296         NaN   \n",
              "3       5      296         NaN   \n",
              "4       7      296         NaN   \n",
              "\n",
              "                                          tag_genome                title  \\\n",
              "0  masterpiece, hit men, gratuitous violence, dar...  Pulp Fiction (1994)   \n",
              "1  masterpiece, hit men, gratuitous violence, dar...  Pulp Fiction (1994)   \n",
              "2  masterpiece, hit men, gratuitous violence, dar...  Pulp Fiction (1994)   \n",
              "3  masterpiece, hit men, gratuitous violence, dar...  Pulp Fiction (1994)   \n",
              "4  masterpiece, hit men, gratuitous violence, dar...  Pulp Fiction (1994)   \n",
              "\n",
              "                        genres   timestamp  rating  \n",
              "0  Comedy|Crime|Drama|Thriller  1147880044     5.0  \n",
              "1  Comedy|Crime|Drama|Thriller  1439474476     5.0  \n",
              "2  Comedy|Crime|Drama|Thriller  1573938898     4.0  \n",
              "3  Comedy|Crime|Drama|Thriller   830786155     4.0  \n",
              "4  Comedy|Crime|Drama|Thriller   835444730     4.0  "
            ]
          },
          "execution_count": 5,
          "metadata": {},
          "output_type": "execute_result"
        }
      ],
      "source": [
        "dataFrame_without_ohe = pd.read_csv(path_absolute+'data_moviesRating_tgGen_tgUsrs.csv')\n",
        "print(dataFrame_without_ohe.shape)\n",
        "dataFrame_without_ohe.head()"
      ]
    },
    {
      "cell_type": "code",
      "execution_count": 6,
      "metadata": {},
      "outputs": [],
      "source": [
        "dataFrame = dataFrame_without_ohe.copy()\n"
      ]
    },
    {
      "cell_type": "code",
      "execution_count": 7,
      "metadata": {},
      "outputs": [
        {
          "name": "stdout",
          "output_type": "stream",
          "text": [
            "(25000095, 8)\n"
          ]
        },
        {
          "data": {
            "text/html": [
              "<div>\n",
              "<style scoped>\n",
              "    .dataframe tbody tr th:only-of-type {\n",
              "        vertical-align: middle;\n",
              "    }\n",
              "\n",
              "    .dataframe tbody tr th {\n",
              "        vertical-align: top;\n",
              "    }\n",
              "\n",
              "    .dataframe thead th {\n",
              "        text-align: right;\n",
              "    }\n",
              "</style>\n",
              "<table border=\"1\" class=\"dataframe\">\n",
              "  <thead>\n",
              "    <tr style=\"text-align: right;\">\n",
              "      <th></th>\n",
              "      <th>userId</th>\n",
              "      <th>movieId</th>\n",
              "      <th>tag_by_user</th>\n",
              "      <th>tag_genome</th>\n",
              "      <th>title</th>\n",
              "      <th>genres</th>\n",
              "      <th>timestamp</th>\n",
              "      <th>rating</th>\n",
              "    </tr>\n",
              "  </thead>\n",
              "  <tbody>\n",
              "    <tr>\n",
              "      <th>0</th>\n",
              "      <td>1</td>\n",
              "      <td>296</td>\n",
              "      <td>NaN</td>\n",
              "      <td>masterpiece, hit men, gratuitous violence, dar...</td>\n",
              "      <td>Pulp Fiction (1994)</td>\n",
              "      <td>Comedy|Crime|Drama|Thriller</td>\n",
              "      <td>1147880044</td>\n",
              "      <td>5.0</td>\n",
              "    </tr>\n",
              "    <tr>\n",
              "      <th>1</th>\n",
              "      <td>3</td>\n",
              "      <td>296</td>\n",
              "      <td>NaN</td>\n",
              "      <td>masterpiece, hit men, gratuitous violence, dar...</td>\n",
              "      <td>Pulp Fiction (1994)</td>\n",
              "      <td>Comedy|Crime|Drama|Thriller</td>\n",
              "      <td>1439474476</td>\n",
              "      <td>5.0</td>\n",
              "    </tr>\n",
              "    <tr>\n",
              "      <th>2</th>\n",
              "      <td>4</td>\n",
              "      <td>296</td>\n",
              "      <td>NaN</td>\n",
              "      <td>masterpiece, hit men, gratuitous violence, dar...</td>\n",
              "      <td>Pulp Fiction (1994)</td>\n",
              "      <td>Comedy|Crime|Drama|Thriller</td>\n",
              "      <td>1573938898</td>\n",
              "      <td>4.0</td>\n",
              "    </tr>\n",
              "    <tr>\n",
              "      <th>3</th>\n",
              "      <td>5</td>\n",
              "      <td>296</td>\n",
              "      <td>NaN</td>\n",
              "      <td>masterpiece, hit men, gratuitous violence, dar...</td>\n",
              "      <td>Pulp Fiction (1994)</td>\n",
              "      <td>Comedy|Crime|Drama|Thriller</td>\n",
              "      <td>830786155</td>\n",
              "      <td>4.0</td>\n",
              "    </tr>\n",
              "    <tr>\n",
              "      <th>4</th>\n",
              "      <td>7</td>\n",
              "      <td>296</td>\n",
              "      <td>NaN</td>\n",
              "      <td>masterpiece, hit men, gratuitous violence, dar...</td>\n",
              "      <td>Pulp Fiction (1994)</td>\n",
              "      <td>Comedy|Crime|Drama|Thriller</td>\n",
              "      <td>835444730</td>\n",
              "      <td>4.0</td>\n",
              "    </tr>\n",
              "  </tbody>\n",
              "</table>\n",
              "</div>"
            ],
            "text/plain": [
              "   userId  movieId tag_by_user  \\\n",
              "0       1      296         NaN   \n",
              "1       3      296         NaN   \n",
              "2       4      296         NaN   \n",
              "3       5      296         NaN   \n",
              "4       7      296         NaN   \n",
              "\n",
              "                                          tag_genome                title  \\\n",
              "0  masterpiece, hit men, gratuitous violence, dar...  Pulp Fiction (1994)   \n",
              "1  masterpiece, hit men, gratuitous violence, dar...  Pulp Fiction (1994)   \n",
              "2  masterpiece, hit men, gratuitous violence, dar...  Pulp Fiction (1994)   \n",
              "3  masterpiece, hit men, gratuitous violence, dar...  Pulp Fiction (1994)   \n",
              "4  masterpiece, hit men, gratuitous violence, dar...  Pulp Fiction (1994)   \n",
              "\n",
              "                        genres   timestamp  rating  \n",
              "0  Comedy|Crime|Drama|Thriller  1147880044     5.0  \n",
              "1  Comedy|Crime|Drama|Thriller  1439474476     5.0  \n",
              "2  Comedy|Crime|Drama|Thriller  1573938898     4.0  \n",
              "3  Comedy|Crime|Drama|Thriller   830786155     4.0  \n",
              "4  Comedy|Crime|Drama|Thriller   835444730     4.0  "
            ]
          },
          "execution_count": 7,
          "metadata": {},
          "output_type": "execute_result"
        }
      ],
      "source": [
        "# dataFrame = dataFrame.sample(n=250000, random_state=42)\n",
        "df = dataFrame.copy()\n",
        "print(df.shape)\n",
        "df.head()"
      ]
    },
    {
      "cell_type": "markdown",
      "metadata": {},
      "source": [
        "## Se eliminan las filas que tengan NaN en las columnas **tag_by_user** o **tag_genome**"
      ]
    },
    {
      "cell_type": "code",
      "execution_count": 8,
      "metadata": {},
      "outputs": [],
      "source": [
        "def contar_valores_nulos(df):\n",
        "    # Cuenta los valores nulos en cada columna del DataFrame\n",
        "    valores_nulos_por_columna = df.isnull().sum()\n",
        "    # Cuenta los valores nulos en todo el DataFrame\n",
        "    total_valores_nulos = df.isnull().sum().sum()\n",
        "    # Imprime la cantidad de valores nulos por columna\n",
        "    print(\"Valores nulos por columna:\")\n",
        "    print(valores_nulos_por_columna)\n",
        "    # Imprime el total de valores nulos en el DataFrame\n",
        "    print(\"\\nTotal de valores nulos en el dataset:\", total_valores_nulos)\n",
        "    \n",
        "def eliminar_filas_nulas(df, columna):\n",
        "    # Seleccionar las filas con valores nulos en la columna deseada\n",
        "    filas_con_nulos = df[df[columna].isnull()]\n",
        "    # Mostrar las filas con valores nulos\n",
        "    # print(\"Filas con valores nulos en la columna\", columna, \":\")\n",
        "    # print(filas_con_nulos)\n",
        "    # Eliminar las filas con valores nulos en la columna deseada\n",
        "    df = df.dropna(subset=[columna])\n",
        "    return df"
      ]
    },
    {
      "cell_type": "code",
      "execution_count": 9,
      "metadata": {},
      "outputs": [],
      "source": [
        "# contar_valores_nulos(df)\n",
        "df = eliminar_filas_nulas(df, 'tag_genome')\n",
        "# contar_valores_nulos(df)\n",
        "df = eliminar_filas_nulas(df, 'tag_by_user')\n",
        "# contar_valores_nulos(df)"
      ]
    },
    {
      "cell_type": "code",
      "execution_count": 10,
      "metadata": {
        "colab": {
          "base_uri": "https://localhost:8080/"
        },
        "id": "__dkBJFGY57w",
        "outputId": "fc7984a7-6365-451c-e51a-d31921df265b"
      },
      "outputs": [
        {
          "name": "stdout",
          "output_type": "stream",
          "text": [
            "(197711, 8)\n"
          ]
        },
        {
          "data": {
            "text/html": [
              "<div>\n",
              "<style scoped>\n",
              "    .dataframe tbody tr th:only-of-type {\n",
              "        vertical-align: middle;\n",
              "    }\n",
              "\n",
              "    .dataframe tbody tr th {\n",
              "        vertical-align: top;\n",
              "    }\n",
              "\n",
              "    .dataframe thead th {\n",
              "        text-align: right;\n",
              "    }\n",
              "</style>\n",
              "<table border=\"1\" class=\"dataframe\">\n",
              "  <thead>\n",
              "    <tr style=\"text-align: right;\">\n",
              "      <th></th>\n",
              "      <th>userId</th>\n",
              "      <th>movieId</th>\n",
              "      <th>tag_by_user</th>\n",
              "      <th>tag_genome</th>\n",
              "      <th>title</th>\n",
              "      <th>genres</th>\n",
              "      <th>timestamp</th>\n",
              "      <th>rating</th>\n",
              "    </tr>\n",
              "  </thead>\n",
              "  <tbody>\n",
              "    <tr>\n",
              "      <th>131</th>\n",
              "      <td>264</td>\n",
              "      <td>296</td>\n",
              "      <td>r:strong language, great cast excellent, ironi...</td>\n",
              "      <td>masterpiece, hit men, gratuitous violence, dar...</td>\n",
              "      <td>Pulp Fiction (1994)</td>\n",
              "      <td>Comedy|Crime|Drama|Thriller</td>\n",
              "      <td>1543393364</td>\n",
              "      <td>2.0</td>\n",
              "    </tr>\n",
              "    <tr>\n",
              "      <th>243</th>\n",
              "      <td>521</td>\n",
              "      <td>296</td>\n",
              "      <td>r:strong language, great cast excellent, ironi...</td>\n",
              "      <td>masterpiece, hit men, gratuitous violence, dar...</td>\n",
              "      <td>Pulp Fiction (1994)</td>\n",
              "      <td>Comedy|Crime|Drama|Thriller</td>\n",
              "      <td>1279793342</td>\n",
              "      <td>5.0</td>\n",
              "    </tr>\n",
              "    <tr>\n",
              "      <th>351</th>\n",
              "      <td>741</td>\n",
              "      <td>296</td>\n",
              "      <td>r:strong language, great cast excellent, ironi...</td>\n",
              "      <td>masterpiece, hit men, gratuitous violence, dar...</td>\n",
              "      <td>Pulp Fiction (1994)</td>\n",
              "      <td>Comedy|Crime|Drama|Thriller</td>\n",
              "      <td>1262230676</td>\n",
              "      <td>4.0</td>\n",
              "    </tr>\n",
              "    <tr>\n",
              "      <th>417</th>\n",
              "      <td>871</td>\n",
              "      <td>296</td>\n",
              "      <td>r:strong language, great cast excellent, ironi...</td>\n",
              "      <td>masterpiece, hit men, gratuitous violence, dar...</td>\n",
              "      <td>Pulp Fiction (1994)</td>\n",
              "      <td>Comedy|Crime|Drama|Thriller</td>\n",
              "      <td>1520214211</td>\n",
              "      <td>4.5</td>\n",
              "    </tr>\n",
              "    <tr>\n",
              "      <th>474</th>\n",
              "      <td>997</td>\n",
              "      <td>296</td>\n",
              "      <td>r:strong language, great cast excellent, ironi...</td>\n",
              "      <td>masterpiece, hit men, gratuitous violence, dar...</td>\n",
              "      <td>Pulp Fiction (1994)</td>\n",
              "      <td>Comedy|Crime|Drama|Thriller</td>\n",
              "      <td>1529249365</td>\n",
              "      <td>5.0</td>\n",
              "    </tr>\n",
              "  </tbody>\n",
              "</table>\n",
              "</div>"
            ],
            "text/plain": [
              "     userId  movieId                                        tag_by_user  \\\n",
              "131     264      296  r:strong language, great cast excellent, ironi...   \n",
              "243     521      296  r:strong language, great cast excellent, ironi...   \n",
              "351     741      296  r:strong language, great cast excellent, ironi...   \n",
              "417     871      296  r:strong language, great cast excellent, ironi...   \n",
              "474     997      296  r:strong language, great cast excellent, ironi...   \n",
              "\n",
              "                                            tag_genome                title  \\\n",
              "131  masterpiece, hit men, gratuitous violence, dar...  Pulp Fiction (1994)   \n",
              "243  masterpiece, hit men, gratuitous violence, dar...  Pulp Fiction (1994)   \n",
              "351  masterpiece, hit men, gratuitous violence, dar...  Pulp Fiction (1994)   \n",
              "417  masterpiece, hit men, gratuitous violence, dar...  Pulp Fiction (1994)   \n",
              "474  masterpiece, hit men, gratuitous violence, dar...  Pulp Fiction (1994)   \n",
              "\n",
              "                          genres   timestamp  rating  \n",
              "131  Comedy|Crime|Drama|Thriller  1543393364     2.0  \n",
              "243  Comedy|Crime|Drama|Thriller  1279793342     5.0  \n",
              "351  Comedy|Crime|Drama|Thriller  1262230676     4.0  \n",
              "417  Comedy|Crime|Drama|Thriller  1520214211     4.5  \n",
              "474  Comedy|Crime|Drama|Thriller  1529249365     5.0  "
            ]
          },
          "execution_count": 10,
          "metadata": {},
          "output_type": "execute_result"
        }
      ],
      "source": [
        "print(df.shape)\n",
        "df.head()"
      ]
    },
    {
      "cell_type": "markdown",
      "metadata": {},
      "source": [
        "## Se toma un subDataset del original "
      ]
    },
    {
      "cell_type": "code",
      "execution_count": 11,
      "metadata": {},
      "outputs": [],
      "source": [
        "dataFrame = df.copy()\n",
        "dataFrame = dataFrame.sample(n=20000, random_state=42)\n",
        "df = dataFrame.copy()"
      ]
    },
    {
      "cell_type": "code",
      "execution_count": 12,
      "metadata": {
        "id": "Fc3ByZcOY57x"
      },
      "outputs": [],
      "source": [
        "# content_df = df[['title', 'genres', 'tag_by_user', 'tag_genome','rating']]\n",
        "content_df = df[['title', 'genres', 'tag_by_user', 'tag_genome', 'timestamp','rating']]"
      ]
    },
    {
      "cell_type": "code",
      "execution_count": 13,
      "metadata": {},
      "outputs": [
        {
          "name": "stdout",
          "output_type": "stream",
          "text": [
            "(20000, 6)\n"
          ]
        }
      ],
      "source": [
        "print(content_df.shape)"
      ]
    },
    {
      "cell_type": "markdown",
      "metadata": {},
      "source": [
        "## Funciones de limpieza de texto en Python"
      ]
    },
    {
      "cell_type": "code",
      "execution_count": 14,
      "metadata": {
        "id": "REzseKbcY57y"
      },
      "outputs": [],
      "source": [
        "import re\n",
        "import string\n",
        "\n",
        "def remove_bars(text):\n",
        "    \"\"\"\n",
        "    Elimina las barras verticales '|' del texto y las reemplaza por espacios.\n",
        "    Parámetros:\n",
        "    text (str): El texto de entrada que contiene barras verticales que se eliminarán.\n",
        "    Retorna:\n",
        "    str: El texto con las barras verticales eliminadas.\n",
        "    \"\"\"\n",
        "    cleaned = re.sub(r'\\|', ' ', text)\n",
        "    return cleaned\n",
        "\n",
        "def separate(text):\n",
        "    \"\"\"\n",
        "    Divide el texto por comas, limpia cada parte eliminando el texto dentro de paréntesis, dígitos, espacios en blanco, puntuación, y lo convierte a minúsculas.\n",
        "    Parámetros:\n",
        "    text (str): El texto de entrada que contiene partes separadas por comas.\n",
        "    Retorna:\n",
        "    str: El texto limpiado y concatenado con cada parte separada por un espacio.\n",
        "    \"\"\"\n",
        "    clean_text = []\n",
        "    for t in text.split(','):\n",
        "        cleaned = re.sub('\\(.*\\)', '', t) # Elimina el texto dentro de paréntesis\n",
        "        cleaned = cleaned.translate(str.maketrans('','', string.digits))\n",
        "        cleaned = cleaned.replace(' ', '')\n",
        "        cleaned = cleaned.translate(str.maketrans('','', string.punctuation)).lower()\n",
        "        clean_text.append(cleaned)\n",
        "    return ' '.join(clean_text)\n",
        "\n",
        "def remove_punc(text):\n",
        "    \"\"\"\n",
        "    Elimina la puntuación y los dígitos del texto y lo convierte a minúsculas.\n",
        "    Parámetros:\n",
        "    text (str): El texto de entrada que se limpiará.\n",
        "    Retorna:\n",
        "    str: El texto limpiado con la puntuación y los dígitos eliminados, convertido a minúsculas.\n",
        "    \"\"\"\n",
        "    try:\n",
        "        cleaned = text.translate(str.maketrans('','', string.punctuation)).lower()\n",
        "        clean_text = cleaned.translate(str.maketrans('','', string.digits))\n",
        "    except Exception as e:\n",
        "        print(f\"ERROR -----------------------------------------> {e} AND {text}\")\n",
        "    return clean_text\n"
      ]
    },
    {
      "cell_type": "code",
      "execution_count": 15,
      "metadata": {
        "colab": {
          "base_uri": "https://localhost:8080/"
        },
        "id": "voapp9L4Y57z",
        "outputId": "e3acfaa6-bb01-4940-deb4-5546b1c6dd45"
      },
      "outputs": [
        {
          "name": "stdout",
          "output_type": "stream",
          "text": [
            "warner bros lancaster gate  \n"
          ]
        }
      ],
      "source": [
        "# Ejemplo de uso: Pixar Animation Studios Warner Bros., Lancaster Gate\n",
        "# text_with_bars = \"oldie but goodie\"\n",
        "# text_with_bars = \"Pixar Animation Studios\"\n",
        "text_with_bars = \"Warner Bros., Lancaster Gate\"\"\"\"  \"\"\"\n",
        "cleaned_text = remove_punc(text_with_bars)\n",
        "print(cleaned_text)"
      ]
    },
    {
      "cell_type": "markdown",
      "metadata": {},
      "source": [
        "## Se eliminan signos de puntuacin de genres, tag_by_user, tag_genome y barras de genres"
      ]
    },
    {
      "cell_type": "code",
      "execution_count": 16,
      "metadata": {
        "id": "tUABzAOZY570"
      },
      "outputs": [],
      "source": [
        "content_df_aux = content_df.copy()\n",
        "content_df_aux['genres'] = (content_df_aux['genres'].apply(remove_bars)).apply(remove_punc)\n",
        "content_df_aux['tag_by_user'] = content_df_aux['tag_by_user'].apply(remove_punc)\n",
        "content_df_aux['tag_genome'] = content_df_aux['tag_genome'].apply(remove_punc)\n",
        "# content_df_aux.set_index('title', inplace=True)\n",
        "content_df_aux = content_df_aux.reset_index()"
      ]
    },
    {
      "cell_type": "code",
      "execution_count": 17,
      "metadata": {
        "colab": {
          "base_uri": "https://localhost:8080/",
          "height": 206
        },
        "id": "8xCYucOFY570",
        "outputId": "8795b106-e65c-463c-cd5d-3fc662e0ca95"
      },
      "outputs": [
        {
          "data": {
            "text/html": [
              "<div>\n",
              "<style scoped>\n",
              "    .dataframe tbody tr th:only-of-type {\n",
              "        vertical-align: middle;\n",
              "    }\n",
              "\n",
              "    .dataframe tbody tr th {\n",
              "        vertical-align: top;\n",
              "    }\n",
              "\n",
              "    .dataframe thead th {\n",
              "        text-align: right;\n",
              "    }\n",
              "</style>\n",
              "<table border=\"1\" class=\"dataframe\">\n",
              "  <thead>\n",
              "    <tr style=\"text-align: right;\">\n",
              "      <th></th>\n",
              "      <th>index</th>\n",
              "      <th>title</th>\n",
              "      <th>genres</th>\n",
              "      <th>tag_by_user</th>\n",
              "      <th>tag_genome</th>\n",
              "      <th>timestamp</th>\n",
              "      <th>rating</th>\n",
              "    </tr>\n",
              "  </thead>\n",
              "  <tbody>\n",
              "    <tr>\n",
              "      <th>0</th>\n",
              "      <td>16524676</td>\n",
              "      <td>Eyes Wide Shut (1999)</td>\n",
              "      <td>drama mystery thriller</td>\n",
              "      <td>mansion sexuality shocking scense toy store dv...</td>\n",
              "      <td>surreal enigmatic obsession sexual erotic</td>\n",
              "      <td>1432910964</td>\n",
              "      <td>4.5</td>\n",
              "    </tr>\n",
              "    <tr>\n",
              "      <th>1</th>\n",
              "      <td>20998795</td>\n",
              "      <td>Tokyo Story (Tôkyô monogatari) (1953)</td>\n",
              "      <td>drama</td>\n",
              "      <td>sightsound gentle old man tea trip song chishu...</td>\n",
              "      <td>masterpiece criterion meditative tokyo japan</td>\n",
              "      <td>1458434226</td>\n",
              "      <td>5.0</td>\n",
              "    </tr>\n",
              "    <tr>\n",
              "      <th>2</th>\n",
              "      <td>23796499</td>\n",
              "      <td>Smokey and the Bandit (1977)</td>\n",
              "      <td>action comedy</td>\n",
              "      <td>chase road trip police money trucking cb radio...</td>\n",
              "      <td>fun movie chase cars beer road movie</td>\n",
              "      <td>1424217798</td>\n",
              "      <td>4.0</td>\n",
              "    </tr>\n",
              "    <tr>\n",
              "      <th>3</th>\n",
              "      <td>24039979</td>\n",
              "      <td>Picnic at Hanging Rock (1975)</td>\n",
              "      <td>drama mystery</td>\n",
              "      <td>lesbianism headmistress trip valentines day in...</td>\n",
              "      <td>surreal mystery australia enigmatic criterion</td>\n",
              "      <td>1241617829</td>\n",
              "      <td>5.0</td>\n",
              "    </tr>\n",
              "    <tr>\n",
              "      <th>4</th>\n",
              "      <td>20594541</td>\n",
              "      <td>Jacket, The (2005)</td>\n",
              "      <td>drama mystery scifi thriller</td>\n",
              "      <td>experiment gfei own it john maybury love psych...</td>\n",
              "      <td>time travel psychological mindfuck amnesia future</td>\n",
              "      <td>1516077153</td>\n",
              "      <td>5.0</td>\n",
              "    </tr>\n",
              "  </tbody>\n",
              "</table>\n",
              "</div>"
            ],
            "text/plain": [
              "      index                                  title  \\\n",
              "0  16524676                  Eyes Wide Shut (1999)   \n",
              "1  20998795  Tokyo Story (Tôkyô monogatari) (1953)   \n",
              "2  23796499           Smokey and the Bandit (1977)   \n",
              "3  24039979          Picnic at Hanging Rock (1975)   \n",
              "4  20594541                     Jacket, The (2005)   \n",
              "\n",
              "                         genres  \\\n",
              "0        drama mystery thriller   \n",
              "1                         drama   \n",
              "2                 action comedy   \n",
              "3                 drama mystery   \n",
              "4  drama mystery scifi thriller   \n",
              "\n",
              "                                         tag_by_user  \\\n",
              "0  mansion sexuality shocking scense toy store dv...   \n",
              "1  sightsound gentle old man tea trip song chishu...   \n",
              "2  chase road trip police money trucking cb radio...   \n",
              "3  lesbianism headmistress trip valentines day in...   \n",
              "4  experiment gfei own it john maybury love psych...   \n",
              "\n",
              "                                          tag_genome   timestamp  rating  \n",
              "0          surreal enigmatic obsession sexual erotic  1432910964     4.5  \n",
              "1       masterpiece criterion meditative tokyo japan  1458434226     5.0  \n",
              "2               fun movie chase cars beer road movie  1424217798     4.0  \n",
              "3      surreal mystery australia enigmatic criterion  1241617829     5.0  \n",
              "4  time travel psychological mindfuck amnesia future  1516077153     5.0  "
            ]
          },
          "execution_count": 17,
          "metadata": {},
          "output_type": "execute_result"
        }
      ],
      "source": [
        "content_df = content_df_aux.copy()\n",
        "content_df.head()"
      ]
    },
    {
      "cell_type": "markdown",
      "metadata": {},
      "source": [
        "## Se crea la bag of words con las columnas genres, tag_by_user y tag_genome"
      ]
    },
    {
      "cell_type": "code",
      "execution_count": 18,
      "metadata": {
        "colab": {
          "base_uri": "https://localhost:8080/",
          "height": 206
        },
        "id": "2QsycL3yY571",
        "outputId": "a6c87b59-3244-47a7-e455-6e1e0017f7da"
      },
      "outputs": [
        {
          "data": {
            "text/html": [
              "<div>\n",
              "<style scoped>\n",
              "    .dataframe tbody tr th:only-of-type {\n",
              "        vertical-align: middle;\n",
              "    }\n",
              "\n",
              "    .dataframe tbody tr th {\n",
              "        vertical-align: top;\n",
              "    }\n",
              "\n",
              "    .dataframe thead th {\n",
              "        text-align: right;\n",
              "    }\n",
              "</style>\n",
              "<table border=\"1\" class=\"dataframe\">\n",
              "  <thead>\n",
              "    <tr style=\"text-align: right;\">\n",
              "      <th></th>\n",
              "      <th>index</th>\n",
              "      <th>title</th>\n",
              "      <th>bag_of_words</th>\n",
              "      <th>timestamp</th>\n",
              "      <th>rating</th>\n",
              "    </tr>\n",
              "  </thead>\n",
              "  <tbody>\n",
              "    <tr>\n",
              "      <th>0</th>\n",
              "      <td>16524676</td>\n",
              "      <td>Eyes Wide Shut (1999)</td>\n",
              "      <td>drama mystery thriller mansion sexuality shock...</td>\n",
              "      <td>1432910964</td>\n",
              "      <td>4.5</td>\n",
              "    </tr>\n",
              "    <tr>\n",
              "      <th>1</th>\n",
              "      <td>20998795</td>\n",
              "      <td>Tokyo Story (Tôkyô monogatari) (1953)</td>\n",
              "      <td>drama sightsound gentle old man tea trip song ...</td>\n",
              "      <td>1458434226</td>\n",
              "      <td>5.0</td>\n",
              "    </tr>\n",
              "    <tr>\n",
              "      <th>2</th>\n",
              "      <td>23796499</td>\n",
              "      <td>Smokey and the Bandit (1977)</td>\n",
              "      <td>action comedy chase road trip police money tru...</td>\n",
              "      <td>1424217798</td>\n",
              "      <td>4.0</td>\n",
              "    </tr>\n",
              "    <tr>\n",
              "      <th>3</th>\n",
              "      <td>24039979</td>\n",
              "      <td>Picnic at Hanging Rock (1975)</td>\n",
              "      <td>drama mystery lesbianism headmistress trip val...</td>\n",
              "      <td>1241617829</td>\n",
              "      <td>5.0</td>\n",
              "    </tr>\n",
              "    <tr>\n",
              "      <th>4</th>\n",
              "      <td>20594541</td>\n",
              "      <td>Jacket, The (2005)</td>\n",
              "      <td>drama mystery scifi thriller experiment gfei o...</td>\n",
              "      <td>1516077153</td>\n",
              "      <td>5.0</td>\n",
              "    </tr>\n",
              "  </tbody>\n",
              "</table>\n",
              "</div>"
            ],
            "text/plain": [
              "      index                                  title  \\\n",
              "0  16524676                  Eyes Wide Shut (1999)   \n",
              "1  20998795  Tokyo Story (Tôkyô monogatari) (1953)   \n",
              "2  23796499           Smokey and the Bandit (1977)   \n",
              "3  24039979          Picnic at Hanging Rock (1975)   \n",
              "4  20594541                     Jacket, The (2005)   \n",
              "\n",
              "                                        bag_of_words   timestamp  rating  \n",
              "0  drama mystery thriller mansion sexuality shock...  1432910964     4.5  \n",
              "1  drama sightsound gentle old man tea trip song ...  1458434226     5.0  \n",
              "2  action comedy chase road trip police money tru...  1424217798     4.0  \n",
              "3  drama mystery lesbianism headmistress trip val...  1241617829     5.0  \n",
              "4  drama mystery scifi thriller experiment gfei o...  1516077153     5.0  "
            ]
          },
          "execution_count": 18,
          "metadata": {},
          "output_type": "execute_result"
        }
      ],
      "source": [
        "df_aux = content_df.copy()\n",
        "df_aux = df_aux[['genres', 'tag_by_user', 'tag_genome']]\n",
        "df_aux['bag_of_words'] = ''\n",
        "df_aux.loc[:, 'bag_of_words'] = df_aux.loc[:, df_aux.columns[0:]].apply(lambda x: ' '.join(x), axis=1)\n",
        "# content_df.set_index('original_title', inplace=True)\n",
        "columnas_a_eliminar = ['tag_by_user', 'tag_genome']\n",
        "# Elimina las columnas especificadas del DataFrame 'data'\n",
        "content_df = content_df.drop(columnas_a_eliminar, axis=1)\n",
        "\n",
        "content_df['genres'] = df_aux['bag_of_words']\n",
        "content_df.rename(columns={'genres': 'bag_of_words'}, inplace=True)\n",
        "\n",
        "content_df.head()"
      ]
    },
    {
      "cell_type": "markdown",
      "metadata": {
        "id": "wa08NJleY572"
      },
      "source": [
        "## Creando la Matriz TF-IDF Matrix"
      ]
    },
    {
      "cell_type": "markdown",
      "metadata": {},
      "source": [
        "La matriz TF-IDF es una herramienta esencial en sistemas de recomendación basados en contenido, ya que ayuda a calcular la similitud entre elementos de contenido utilizando su contenido textual, lo que mejora la precisión de las recomendaciones al encontrar elementos que comparten características semánticas."
      ]
    },
    {
      "cell_type": "code",
      "execution_count": 19,
      "metadata": {
        "id": "OSTRhXOFY572"
      },
      "outputs": [],
      "source": [
        "df = content_df.copy()"
      ]
    },
    {
      "cell_type": "code",
      "execution_count": 20,
      "metadata": {
        "colab": {
          "base_uri": "https://localhost:8080/"
        },
        "execution": {
          "iopub.execute_input": "2023-06-23T12:15:19.935401Z",
          "iopub.status.busy": "2023-06-23T12:15:19.935085Z",
          "iopub.status.idle": "2023-06-23T12:15:19.946358Z",
          "shell.execute_reply": "2023-06-23T12:15:19.945283Z",
          "shell.execute_reply.started": "2023-06-23T12:15:19.935374Z"
        },
        "id": "Tgg0xyrKY573",
        "outputId": "a4a81880-15d8-4b2c-f650-b41bd947e7db",
        "trusted": true
      },
      "outputs": [
        {
          "data": {
            "text/plain": [
              "0    drama mystery thriller mansion sexuality shock...\n",
              "1    drama sightsound gentle old man tea trip song ...\n",
              "2    action comedy chase road trip police money tru...\n",
              "3    drama mystery lesbianism headmistress trip val...\n",
              "4    drama mystery scifi thriller experiment gfei o...\n",
              "Name: bag_of_words, dtype: object"
            ]
          },
          "execution_count": 20,
          "metadata": {},
          "output_type": "execute_result"
        }
      ],
      "source": [
        "df[\"bag_of_words\"].head()"
      ]
    },
    {
      "cell_type": "code",
      "execution_count": 21,
      "metadata": {
        "colab": {
          "base_uri": "https://localhost:8080/"
        },
        "execution": {
          "iopub.execute_input": "2023-06-23T12:15:19.949238Z",
          "iopub.status.busy": "2023-06-23T12:15:19.948388Z",
          "iopub.status.idle": "2023-06-23T12:15:19.970759Z",
          "shell.execute_reply": "2023-06-23T12:15:19.969479Z",
          "shell.execute_reply.started": "2023-06-23T12:15:19.949199Z"
        },
        "id": "XnW_f_i8Y574",
        "outputId": "79e78bf2-44ff-4ba8-ff1e-f29bc0aa5a8e",
        "trusted": true
      },
      "outputs": [
        {
          "data": {
            "text/plain": [
              "0"
            ]
          },
          "execution_count": 21,
          "metadata": {},
          "output_type": "execute_result"
        }
      ],
      "source": [
        "df[\"bag_of_words\"].isnull().sum()"
      ]
    },
    {
      "cell_type": "code",
      "execution_count": 22,
      "metadata": {
        "execution": {
          "iopub.execute_input": "2023-06-23T12:15:19.98745Z",
          "iopub.status.busy": "2023-06-23T12:15:19.987098Z",
          "iopub.status.idle": "2023-06-23T12:15:20.021348Z",
          "shell.execute_reply": "2023-06-23T12:15:20.020187Z",
          "shell.execute_reply.started": "2023-06-23T12:15:19.987419Z"
        },
        "id": "k8eZ1QWzY575",
        "trusted": true
      },
      "outputs": [],
      "source": [
        "# Rellenemos el valor nulo de la variable cin bag_of_words con nada para evitar errores en los siguientes pasos\n",
        "df['bag_of_words'] = df['bag_of_words'].fillna('')"
      ]
    },
    {
      "cell_type": "code",
      "execution_count": 23,
      "metadata": {
        "colab": {
          "base_uri": "https://localhost:8080/"
        },
        "execution": {
          "iopub.execute_input": "2023-06-23T12:15:20.023989Z",
          "iopub.status.busy": "2023-06-23T12:15:20.023434Z",
          "iopub.status.idle": "2023-06-23T12:15:20.039927Z",
          "shell.execute_reply": "2023-06-23T12:15:20.038812Z",
          "shell.execute_reply.started": "2023-06-23T12:15:20.023951Z"
        },
        "id": "gMy0tfc9Y577",
        "outputId": "e425bee3-9055-4595-db1a-975a0c9acc67",
        "trusted": true
      },
      "outputs": [
        {
          "data": {
            "text/plain": [
              "0"
            ]
          },
          "execution_count": 23,
          "metadata": {},
          "output_type": "execute_result"
        }
      ],
      "source": [
        "df[\"bag_of_words\"].isnull().sum()"
      ]
    },
    {
      "cell_type": "code",
      "execution_count": 24,
      "metadata": {
        "execution": {
          "iopub.execute_input": "2023-06-23T12:15:19.97344Z",
          "iopub.status.busy": "2023-06-23T12:15:19.972665Z",
          "iopub.status.idle": "2023-06-23T12:15:19.985681Z",
          "shell.execute_reply": "2023-06-23T12:15:19.984456Z",
          "shell.execute_reply.started": "2023-06-23T12:15:19.973402Z"
        },
        "id": "dD7O_QcUY574",
        "trusted": true
      },
      "outputs": [],
      "source": [
        "# Convertir la colección de textos (en este caso, la bolsa de palabras)\n",
        "# en una matriz TF-IDF.\n",
        "\n",
        "# Vamos a eliminar las construcciones como a, an, the, and,\n",
        "# pero que no tienen sentido para nosotros de nuestros DataFrames.\n",
        "tfidf = TfidfVectorizer(stop_words=\"english\")"
      ]
    },
    {
      "cell_type": "code",
      "execution_count": 25,
      "metadata": {
        "execution": {
          "iopub.execute_input": "2023-06-23T12:15:20.046275Z",
          "iopub.status.busy": "2023-06-23T12:15:20.045694Z",
          "iopub.status.idle": "2023-06-23T12:15:23.540744Z",
          "shell.execute_reply": "2023-06-23T12:15:23.539618Z",
          "shell.execute_reply.started": "2023-06-23T12:15:20.046243Z"
        },
        "id": "dEzMEfk-Y578",
        "trusted": true
      },
      "outputs": [],
      "source": [
        "# ajustar y transformar según el objeto tfidf\n",
        "# Los de las filas son textos 'bolsa de palabras'. Los de las columnas son palabras únicas.\n",
        "\n",
        "# Crear la matriz TF-IDF (Term Frequency-Inverse Document Frequency) a partir de la columna\n",
        "# 'bag_of_words' del conjunto de datos. La matriz TF-IDF es una representación numérica\n",
        "# de los documentos en función de la frecuencia de las palabras que contienen y de\n",
        "# su importancia en el conjunto de documentos.\n",
        "tfidf_matrix = tfidf.fit_transform(df['bag_of_words'])"
      ]
    },
    {
      "cell_type": "code",
      "execution_count": 26,
      "metadata": {
        "colab": {
          "base_uri": "https://localhost:8080/"
        },
        "execution": {
          "iopub.execute_input": "2023-06-23T12:15:23.542302Z",
          "iopub.status.busy": "2023-06-23T12:15:23.541976Z",
          "iopub.status.idle": "2023-06-23T12:15:23.549642Z",
          "shell.execute_reply": "2023-06-23T12:15:23.548537Z",
          "shell.execute_reply.started": "2023-06-23T12:15:23.542275Z"
        },
        "id": "tC3hYr7iY579",
        "outputId": "2c3c1dca-5bd6-40e1-f622-ed91643b1785",
        "trusted": true
      },
      "outputs": [
        {
          "data": {
            "text/plain": [
              "(20000, 26500)"
            ]
          },
          "execution_count": 26,
          "metadata": {},
          "output_type": "execute_result"
        }
      ],
      "source": [
        "# Cada fila representa un documento (en este caso, una película) y\n",
        "# cada columna representa una palabra única en el conjunto de datos.\n",
        "\n",
        "# Los valores en la matriz son las puntuaciones TF-IDF para cada palabra en cada documento.\n",
        "tfidf_matrix.shape"
      ]
    },
    {
      "cell_type": "code",
      "execution_count": 27,
      "metadata": {
        "colab": {
          "base_uri": "https://localhost:8080/"
        },
        "execution": {
          "iopub.execute_input": "2023-06-23T12:15:23.551241Z",
          "iopub.status.busy": "2023-06-23T12:15:23.550928Z",
          "iopub.status.idle": "2023-06-23T12:15:23.563011Z",
          "shell.execute_reply": "2023-06-23T12:15:23.561691Z",
          "shell.execute_reply.started": "2023-06-23T12:15:23.551214Z"
        },
        "id": "eYy0Biw1Y57-",
        "outputId": "3bb92f2e-9c02-452c-9f02-1f0d925f0783",
        "trusted": true
      },
      "outputs": [
        {
          "data": {
            "text/plain": [
              "array(['aa', 'aaliyah', 'aamir', ..., '独闯龙潭', '莫声版', '魔鬼司令'], dtype=object)"
            ]
          },
          "execution_count": 27,
          "metadata": {},
          "output_type": "execute_result"
        }
      ],
      "source": [
        "#Si queremos ver todas las palabras únicas de las columnas\n",
        "\n",
        "# Filas: Cada fila de la matriz corresponde a una película en el conjunto de datos.\n",
        "# Por ejemplo, si tienes 10,000 películas, habrá 10,000 filas en la matriz.\n",
        "\n",
        "# Columnas: Cada columna representa una palabra única en el conjunto de datos.\n",
        "# La cantidad de columnas es igual al número total de palabras únicas en todas\n",
        "# las bolsas de palabras de películas.\n",
        "\n",
        "# Valores: Los valores en la matriz son las puntuaciones TF-IDF para cada palabra en cada película.\n",
        "# Estas puntuaciones miden la importancia relativa de una palabra en un documento en comparación\n",
        "# con su frecuencia en el conjunto de documentos. Valores más altos indican que la palabra\n",
        "# es más importante en el contexto de ese documento.\n",
        "\n",
        "tfidf.get_feature_names_out()\n"
      ]
    },
    {
      "cell_type": "code",
      "execution_count": 28,
      "metadata": {
        "colab": {
          "base_uri": "https://localhost:8080/"
        },
        "execution": {
          "iopub.execute_input": "2023-06-23T12:15:23.564862Z",
          "iopub.status.busy": "2023-06-23T12:15:23.564477Z",
          "iopub.status.idle": "2023-06-23T12:15:30.233899Z",
          "shell.execute_reply": "2023-06-23T12:15:30.232659Z",
          "shell.execute_reply.started": "2023-06-23T12:15:23.564832Z"
        },
        "id": "H4mcAU4sY58A",
        "outputId": "22ae2f54-d310-4bb5-db97-68cc23ac46ad",
        "trusted": true
      },
      "outputs": [
        {
          "data": {
            "text/plain": [
              "array([[0., 0., 0., ..., 0., 0., 0.],\n",
              "       [0., 0., 0., ..., 0., 0., 0.],\n",
              "       [0., 0., 0., ..., 0., 0., 0.],\n",
              "       ...,\n",
              "       [0., 0., 0., ..., 0., 0., 0.],\n",
              "       [0., 0., 0., ..., 0., 0., 0.],\n",
              "       [0., 0., 0., ..., 0., 0., 0.]])"
            ]
          },
          "execution_count": 28,
          "metadata": {},
          "output_type": "execute_result"
        }
      ],
      "source": [
        "# tfidf scores\n",
        "tfidf_matrix.toarray()"
      ]
    },
    {
      "cell_type": "markdown",
      "metadata": {
        "id": "jRsjhOf3Y58A"
      },
      "source": [
        "## Creación de la matriz de similitud del coseno"
      ]
    },
    {
      "cell_type": "code",
      "execution_count": 29,
      "metadata": {
        "execution": {
          "iopub.execute_input": "2023-06-23T12:15:30.236776Z",
          "iopub.status.busy": "2023-06-23T12:15:30.236397Z",
          "iopub.status.idle": "2023-06-23T12:16:12.103401Z",
          "shell.execute_reply": "2023-06-23T12:16:12.102422Z",
          "shell.execute_reply.started": "2023-06-23T12:15:30.236743Z"
        },
        "id": "fYTTsqlNY58B",
        "trusted": true
      },
      "outputs": [],
      "source": [
        "# calcula la similitud coseno entre todas las filas de la matriz TF-IDF.\n",
        "# La similitud coseno mide el coseno del ángulo entre dos vectores y\n",
        "# proporciona una medida de cuán similares son dos documentos.\n",
        "\n",
        "# Calcula cos sim para todos los pares de documentos posibles uno por uno. En la matriz cosine_sim,\n",
        "# cada película tiene similitudes entre sí\n",
        "\n",
        "if IN_COLAB:\n",
        "    import warnings\n",
        "    warnings.filterwarnings(\"ignore\", category=DeprecationWarning)\n",
        "\n",
        "    import cupy as cp\n",
        "    # Convertir la matriz TF-IDF a cupy array\n",
        "    tfidf_matrix_cupy = cp.array(tfidf_matrix.toarray())\n",
        "    # Calcular la similitud del coseno utilizando cupy.matmul\n",
        "    cosine_sim_cupy = cp.matmul(tfidf_matrix_cupy, tfidf_matrix_cupy.T)\n",
        "    cosine_sim = cosine_sim_cupy\n",
        "else:\n",
        "    cosine_sim = cosine_similarity(tfidf_matrix, tfidf_matrix)"
      ]
    },
    {
      "cell_type": "markdown",
      "metadata": {},
      "source": [
        "### OTRA FORMA DE HACER LA SMILITUD DEL COSENO"
      ]
    },
    {
      "cell_type": "markdown",
      "metadata": {},
      "source": [
        "Calcula el producto punto (producto interno) entre pares de vectores o matrices de vectores. \n",
        "En el contexto de matrices, como la matriz TF-IDF, linear_kernel calcula el producto punto entre cada par de filas (documentos) en la matriz."
      ]
    },
    {
      "cell_type": "code",
      "execution_count": 30,
      "metadata": {},
      "outputs": [],
      "source": [
        "# from sklearn.metrics.pairwise import linear_kernel\n",
        "# linear_similarity_matrix = linear_kernel(tfidf_matrix, tfidf_matrix)\n",
        "# linear_similarity_matrix.shape\n"
      ]
    },
    {
      "cell_type": "code",
      "execution_count": 31,
      "metadata": {
        "colab": {
          "base_uri": "https://localhost:8080/"
        },
        "execution": {
          "iopub.execute_input": "2023-06-23T12:16:12.105007Z",
          "iopub.status.busy": "2023-06-23T12:16:12.10469Z",
          "iopub.status.idle": "2023-06-23T12:16:12.111873Z",
          "shell.execute_reply": "2023-06-23T12:16:12.110801Z",
          "shell.execute_reply.started": "2023-06-23T12:16:12.104981Z"
        },
        "id": "RZIl2VjcY58t",
        "outputId": "86f94617-f0fb-44c2-fb6f-3477f3c790f2",
        "trusted": true
      },
      "outputs": [
        {
          "data": {
            "text/plain": [
              "(20000, 20000)"
            ]
          },
          "execution_count": 31,
          "metadata": {},
          "output_type": "execute_result"
        }
      ],
      "source": [
        "# cosine_sim[i, j] representa la similitud coseno entre la película con el índice i y\n",
        "# la película con el índice j en el conjunto de datos.\n",
        "\n",
        "cosine_sim.shape"
      ]
    },
    {
      "cell_type": "code",
      "execution_count": 32,
      "metadata": {
        "id": "tK7Cswt4Y58u"
      },
      "outputs": [
        {
          "data": {
            "text/plain": [
              "array([[1.        , 0.00638517, 0.00800027, ..., 0.00150012, 0.00150587,\n",
              "        0.0023972 ],\n",
              "       [0.00638517, 1.        , 0.00898501, ..., 0.00993785, 0.01581025,\n",
              "        0.01190703],\n",
              "       [0.00800027, 0.00898501, 1.        , ..., 0.0036039 , 0.03747377,\n",
              "        0.02370732],\n",
              "       ...,\n",
              "       [0.00150012, 0.00993785, 0.0036039 , ..., 1.        , 0.02796042,\n",
              "        0.00649719],\n",
              "       [0.00150587, 0.01581025, 0.03747377, ..., 0.02796042, 1.        ,\n",
              "        0.01803002],\n",
              "       [0.0023972 , 0.01190703, 0.02370732, ..., 0.00649719, 0.01803002,\n",
              "        1.        ]])"
            ]
          },
          "execution_count": 32,
          "metadata": {},
          "output_type": "execute_result"
        }
      ],
      "source": [
        "cosine_sim"
      ]
    },
    {
      "cell_type": "code",
      "execution_count": 33,
      "metadata": {
        "id": "hJa168iQY58v"
      },
      "outputs": [
        {
          "data": {
            "text/plain": [
              "(20000,)"
            ]
          },
          "execution_count": 33,
          "metadata": {},
          "output_type": "execute_result"
        }
      ],
      "source": [
        "cosine_sim[1].shape"
      ]
    },
    {
      "cell_type": "markdown",
      "metadata": {
        "id": "6Rw_5tmRY58w"
      },
      "source": [
        "# Recomendaciones basada en la similitud del coseno"
      ]
    },
    {
      "cell_type": "code",
      "execution_count": 108,
      "metadata": {
        "execution": {
          "iopub.execute_input": "2023-06-23T12:16:12.1298Z",
          "iopub.status.busy": "2023-06-23T12:16:12.129447Z",
          "iopub.status.idle": "2023-06-23T12:16:12.140381Z",
          "shell.execute_reply": "2023-06-23T12:16:12.139512Z",
          "shell.execute_reply.started": "2023-06-23T12:16:12.129773Z"
        },
        "id": "LmFlg8WcY58w",
        "trusted": true
      },
      "outputs": [],
      "source": [
        "# Vamos a crear una serie pd de índices y nombres de películas\n",
        "# se crea una Serie de Pandas llamada indices donde los índices son\n",
        "# los títulos de las películas y los valores son los índices originales del DataFrame df.\n",
        "indices = pd.Series(df.index, index=df['title'])"
      ]
    },
    {
      "cell_type": "code",
      "execution_count": 109,
      "metadata": {
        "id": "YFi8srxmY58x"
      },
      "outputs": [
        {
          "data": {
            "text/plain": [
              "title\n",
              "Eyes Wide Shut (1999)                    0\n",
              "Tokyo Story (Tôkyô monogatari) (1953)    1\n",
              "Smokey and the Bandit (1977)             2\n",
              "Picnic at Hanging Rock (1975)            3\n",
              "Jacket, The (2005)                       4\n",
              "dtype: int64"
            ]
          },
          "execution_count": 109,
          "metadata": {},
          "output_type": "execute_result"
        }
      ],
      "source": [
        "indices.head()"
      ]
    },
    {
      "cell_type": "code",
      "execution_count": 110,
      "metadata": {
        "id": "cJjlFMPIY58y"
      },
      "outputs": [
        {
          "data": {
            "text/plain": [
              "(20000,)"
            ]
          },
          "execution_count": 110,
          "metadata": {},
          "output_type": "execute_result"
        }
      ],
      "source": [
        "indices.shape"
      ]
    },
    {
      "cell_type": "code",
      "execution_count": 111,
      "metadata": {
        "execution": {
          "iopub.execute_input": "2023-06-23T12:16:12.142118Z",
          "iopub.status.busy": "2023-06-23T12:16:12.141816Z",
          "iopub.status.idle": "2023-06-23T12:16:12.185782Z",
          "shell.execute_reply": "2023-06-23T12:16:12.184777Z",
          "shell.execute_reply.started": "2023-06-23T12:16:12.142093Z"
        },
        "id": "y96oV5eKY58y",
        "trusted": true
      },
      "outputs": [
        {
          "data": {
            "text/plain": [
              "Star Wars: Episode IV - A New Hope (1977)    152\n",
              "Pulp Fiction (1994)                           93\n",
              "Forrest Gump (1994)                           78\n",
              "Shawshank Redemption, The (1994)              74\n",
              "Matrix, The (1999)                            69\n",
              "Name: title, dtype: int64"
            ]
          },
          "execution_count": 111,
          "metadata": {},
          "output_type": "execute_result"
        }
      ],
      "source": [
        "# contemos la información del índice de las películas y simplifiquemos las películas más repetitivas a las más recientes\n",
        "indices.index.value_counts().head()"
      ]
    },
    {
      "cell_type": "markdown",
      "metadata": {},
      "source": [
        "### Se eliminan las películas duplicadas del índice"
      ]
    },
    {
      "cell_type": "code",
      "execution_count": 112,
      "metadata": {
        "execution": {
          "iopub.execute_input": "2023-06-23T12:16:12.187976Z",
          "iopub.status.busy": "2023-06-23T12:16:12.187383Z",
          "iopub.status.idle": "2023-06-23T12:16:12.20658Z",
          "shell.execute_reply": "2023-06-23T12:16:12.205456Z",
          "shell.execute_reply.started": "2023-06-23T12:16:12.187937Z"
        },
        "id": "jG8ZtEl0Y58z",
        "trusted": true
      },
      "outputs": [],
      "source": [
        "# Se eliminan las películas duplicadas del índice, conservando solo la última aparición de cada película.\n",
        "# Esto se hace para evitar ambigüedades y asegurar que cada película tenga un índice único.\n",
        "indices = indices[~indices.index.duplicated(keep='last')]"
      ]
    },
    {
      "cell_type": "code",
      "execution_count": 113,
      "metadata": {
        "id": "kgxcJMeEY580"
      },
      "outputs": [
        {
          "data": {
            "text/plain": [
              "Smokey and the Bandit (1977)         1\n",
              "Once Upon a Time in Mexico (2003)    1\n",
              "Heavy Metal (1981)                   1\n",
              "Blow-Up (Blowup) (1966)              1\n",
              "Italian Job, The (1969)              1\n",
              "Name: title, dtype: int64"
            ]
          },
          "execution_count": 113,
          "metadata": {},
          "output_type": "execute_result"
        }
      ],
      "source": [
        "indices.index.value_counts().head()"
      ]
    },
    {
      "cell_type": "code",
      "execution_count": 114,
      "metadata": {
        "id": "15p2TrrFY580"
      },
      "outputs": [
        {
          "data": {
            "text/plain": [
              "(5880,)"
            ]
          },
          "execution_count": 114,
          "metadata": {},
          "output_type": "execute_result"
        }
      ],
      "source": [
        "indices.shape"
      ]
    },
    {
      "cell_type": "code",
      "execution_count": 115,
      "metadata": {},
      "outputs": [
        {
          "data": {
            "text/plain": [
              "title\n",
              "Smokey and the Bandit (1977)                         2\n",
              "Family Business (1989)                              14\n",
              "Pirates of Silicon Valley (1999)                    17\n",
              "Man with the Iron Fists, The (2012)                 20\n",
              "I'm So Excited (Los amantes pasajeros) (2013)       41\n",
              "                                                 ...  \n",
              "Pelle the Conqueror (Pelle erobreren) (1987)     19995\n",
              "Man in the Iron Mask, The (1998)                 19996\n",
              "Cowspiracy: The Sustainability Secret (2014)     19997\n",
              "Bolt (2008)                                      19998\n",
              "10 Things I Hate About You (1999)                19999\n",
              "Length: 5880, dtype: int64"
            ]
          },
          "execution_count": 115,
          "metadata": {},
          "output_type": "execute_result"
        }
      ],
      "source": [
        "indices"
      ]
    },
    {
      "cell_type": "markdown",
      "metadata": {},
      "source": [
        "### Pelicula a recomendar"
      ]
    },
    {
      "cell_type": "code",
      "execution_count": 116,
      "metadata": {},
      "outputs": [],
      "source": [
        "movie_title = \"Wolf of Wall Street, The (2013)\""
      ]
    },
    {
      "cell_type": "code",
      "execution_count": 117,
      "metadata": {
        "execution": {
          "iopub.execute_input": "2023-06-23T12:16:12.23721Z",
          "iopub.status.busy": "2023-06-23T12:16:12.236894Z",
          "iopub.status.idle": "2023-06-23T12:16:12.24742Z",
          "shell.execute_reply": "2023-06-23T12:16:12.246442Z",
          "shell.execute_reply.started": "2023-06-23T12:16:12.237185Z"
        },
        "id": "bUiCPiDMY583",
        "trusted": true
      },
      "outputs": [
        {
          "data": {
            "text/plain": [
              "19548"
            ]
          },
          "execution_count": 117,
          "metadata": {},
          "output_type": "execute_result"
        }
      ],
      "source": [
        "# Asigno el índice de la película \"Wolf of Wall Street, The (2013)\" a la variable\n",
        "movie_index = indices[movie_title]\n",
        "movie_index"
      ]
    },
    {
      "cell_type": "markdown",
      "metadata": {},
      "source": [
        "### Para ver en qué se parece la película anterior a las demás películas"
      ]
    },
    {
      "cell_type": "code",
      "execution_count": 43,
      "metadata": {
        "execution": {
          "iopub.execute_input": "2023-06-23T12:16:12.249095Z",
          "iopub.status.busy": "2023-06-23T12:16:12.248794Z",
          "iopub.status.idle": "2023-06-23T12:16:12.260828Z",
          "shell.execute_reply": "2023-06-23T12:16:12.259856Z",
          "shell.execute_reply.started": "2023-06-23T12:16:12.24907Z"
        },
        "id": "Vpil2ODtY583",
        "trusted": true
      },
      "outputs": [
        {
          "data": {
            "text/plain": [
              "array([0.06108063, 0.01546639, 0.00838258, ..., 0.03241003, 0.02223729,\n",
              "       0.01322481])"
            ]
          },
          "execution_count": 43,
          "metadata": {},
          "output_type": "execute_result"
        }
      ],
      "source": [
        "cosine_sim[movie_index]"
      ]
    },
    {
      "cell_type": "code",
      "execution_count": 44,
      "metadata": {
        "id": "Scp4nyE5Y584"
      },
      "outputs": [
        {
          "data": {
            "text/plain": [
              "(20000,)"
            ]
          },
          "execution_count": 44,
          "metadata": {},
          "output_type": "execute_result"
        }
      ],
      "source": [
        "cosine_sim[movie_index].shape"
      ]
    },
    {
      "cell_type": "markdown",
      "metadata": {},
      "source": [
        "# Función de recomendación basada en contenido, dada una pelicula."
      ]
    },
    {
      "cell_type": "code",
      "execution_count": 55,
      "metadata": {
        "id": "MZiyPQziY59D"
      },
      "outputs": [],
      "source": [
        "def content_based_recommender(title, cosine_sim, dataframe, num_recomendations=10):\n",
        "    \"\"\"\n",
        "    Genera recomendaciones basadas en contenido para una película específica.\n",
        "    Parameters:\n",
        "    title (str): El título de la película para la cual se generarán las recomendaciones.\n",
        "    cosine_sim (array-like): Matriz de similitud coseno entre películas.\n",
        "    dataframe (DataFrame): DataFrame que contiene la información de las películas.\n",
        "    num_recomendations (int): El número de recomendaciones a generar (por defecto es 10).\n",
        "    Returns:\n",
        "    Series: Una Serie de Pandas que contiene los títulos de las películas recomendadas.\n",
        "    \"\"\"\n",
        "    # Crear índices basados en los títulos de las películas\n",
        "    indices = pd.Series(dataframe.index, index=dataframe['title'])\n",
        "    indices = indices[~indices.index.duplicated(keep='last')]  # Eliminar índices duplicados\n",
        "    \n",
        "    # Capturar el índice de la película seleccionada\n",
        "    movie_index = indices[title]\n",
        "    \n",
        "    # Calcular los puntajes de similitud basados en el título\n",
        "    if IN_COLAB:\n",
        "        similarity_scores = pd.DataFrame(cosine_sim[movie_index].get(), columns=[\"score\"])\n",
        "    else:\n",
        "        similarity_scores = pd.DataFrame(cosine_sim[movie_index], columns=[\"score\"])\n",
        "    \n",
        "    # Ordenar los índices de las películas por puntaje de similitud\n",
        "    movie_indices_sort = similarity_scores.sort_values(\"score\", ascending=False).index\n",
        "    \n",
        "    # Eliminar títulos duplicados y excluir la película seleccionada\n",
        "    duplicated_titles = dataframe.loc[movie_indices_sort, 'title'].duplicated(keep='first')\n",
        "    indices_sin_duplicados = movie_indices_sort[~duplicated_titles]\n",
        "    filas_sin_duplicados_y_exclusion = dataframe.loc[indices_sin_duplicados]\n",
        "    filas_sin_duplicados_y_exclusion = filas_sin_duplicados_y_exclusion[filas_sin_duplicados_y_exclusion['title'] != title]\n",
        "    \n",
        "    # Devolver los títulos de las películas recomendadas\n",
        "    return filas_sin_duplicados_y_exclusion['title'].head(num_recomendations)\n"
      ]
    },
    {
      "cell_type": "code",
      "execution_count": 56,
      "metadata": {
        "execution": {
          "iopub.execute_input": "2023-06-23T12:16:12.334031Z",
          "iopub.status.busy": "2023-06-23T12:16:12.333416Z",
          "iopub.status.idle": "2023-06-23T12:16:12.372608Z",
          "shell.execute_reply": "2023-06-23T12:16:12.371606Z",
          "shell.execute_reply.started": "2023-06-23T12:16:12.334001Z"
        },
        "id": "fjTv5WQdY59E",
        "trusted": true
      },
      "outputs": [
        {
          "data": {
            "text/plain": [
              "4732                          Too Big to Fail (2011)\n",
              "5249                              Wall Street (1987)\n",
              "19567                             Margin Call (2011)\n",
              "17695                          Big Short, The (2015)\n",
              "18124                           Money Monster (2016)\n",
              "15880                             Boiler Room (2000)\n",
              "216                                Inside Job (2010)\n",
              "12560    Enron: The Smartest Guys in the Room (2005)\n",
              "12286                                 Traffic (2000)\n",
              "2460                               Goodfellas (1990)\n",
              "Name: title, dtype: object"
            ]
          },
          "execution_count": 56,
          "metadata": {},
          "output_type": "execute_result"
        }
      ],
      "source": [
        "content_based_recommender(\"Wolf of Wall Street, The (2013)\", cosine_sim, df)"
      ]
    },
    {
      "cell_type": "code",
      "execution_count": 62,
      "metadata": {},
      "outputs": [
        {
          "data": {
            "text/plain": [
              "14358       Reservoir Dogs (1992)\n",
              "18423         Jackie Brown (1997)\n",
              "19474    Kill Bill: Vol. 2 (2004)\n",
              "15212    Kill Bill: Vol. 1 (2003)\n",
              "17529             Sin City (2005)\n",
              "18467         True Romance (1993)\n",
              "2388            Goodfellas (1990)\n",
              "11012       Godfather, The (1972)\n",
              "14437         Forrest Gump (1994)\n",
              "14616     Django Unchained (2012)\n",
              "Name: title, dtype: object"
            ]
          },
          "execution_count": 62,
          "metadata": {},
          "output_type": "execute_result"
        }
      ],
      "source": [
        "content_based_recommender(\"Matrix, The (1999)\", cosine_sim, df)"
      ]
    },
    {
      "cell_type": "code",
      "execution_count": null,
      "metadata": {},
      "outputs": [],
      "source": [
        "content_based_recommender(\"Star Wars: Episode IV - A New Hope (1977)\", cosine_sim, df)"
      ]
    },
    {
      "cell_type": "code",
      "execution_count": null,
      "metadata": {},
      "outputs": [],
      "source": [
        "content_based_recommender('Pulp Fiction (1994)', cosine_sim, df)"
      ]
    },
    {
      "cell_type": "markdown",
      "metadata": {},
      "source": [
        "# Función de recomendación basada en contenido, dada una pelicula."
      ]
    },
    {
      "cell_type": "code",
      "execution_count": null,
      "metadata": {},
      "outputs": [],
      "source": [
        "# Para un usario se puede medir, pasandole el usario, y de las peliculas que ha visto ir sacando la recomendación por pelicula e ir evaluando el modelo porpelicula."
      ]
    },
    {
      "cell_type": "code",
      "execution_count": 199,
      "metadata": {},
      "outputs": [],
      "source": [
        "def content_based_recommender_for_user(user_id, cosine_sim, completeDataframe, df_bag_of_words, num_recommendations=10):\n",
        "    \"\"\"\n",
        "    Genera recomendaciones basadas en contenido para un usuario específico.\n",
        "    \n",
        "    Parameters:\n",
        "    user_id (int): El ID del usuario para el cual se generarán las recomendaciones.\n",
        "    cosine_sim (array-like): Matriz de similitud coseno entre películas.\n",
        "    dataframe (DataFrame): DataFrame que contiene la información de las películas.\n",
        "    num_recomendations (int): El número de recomendaciones a generar (por defecto es 10).\n",
        "    \n",
        "    Returns:\n",
        "    Series: Una Serie de Pandas que contiene los títulos de las películas recomendadas.\n",
        "    \"\"\"\n",
        "    # Obtener las películas que el usuario ha visto o calificado previamente\n",
        "    peliculas_vistas_usario = completeDataframe[completeDataframe['userId'] == user_id]\n",
        "    peliculas_vistas_usario.dropna(subset=['title'])\n",
        "    titulo_peliculas_vistas = peliculas_vistas_usario['title']\n",
        "    print(f'\\n Peliculas vistas por el usuario{user_id} --> \\n{titulo_peliculas_vistas}\\n')\n",
        "    \n",
        "    for titulo_pelicula in titulo_peliculas_vistas:\n",
        "        print(f\"\\n Peliculas recomendadas según: {titulo_pelicula}: \\n\")\n",
        "        peliculas_recomendadas = content_based_recommender(titulo_pelicula, cosine_sim, df_bag_of_words, num_recommendations)\n",
        "        print(f\"{peliculas_recomendadas}: \\n\\n\")\n",
        "        # En este punto hay que evaluar las recomendaciones (filas_sin_duplicados_y_exclusion) con las peliculas vistas por el usario (titulo_peliculas_vistas)"
      ]
    },
    {
      "cell_type": "code",
      "execution_count": 201,
      "metadata": {},
      "outputs": [
        {
          "name": "stdout",
          "output_type": "stream",
          "text": [
            "\n",
            " Peliculas vistas por el usuario155146 --> \n",
            "22100557              Perfume: The Story of a Murderer (2006)\n",
            "9239195                                      Airplane! (1980)\n",
            "16660659                           Alien: Resurrection (1997)\n",
            "23471588                              Love and Pigeons (1985)\n",
            "8062830                       Resident Evil: Afterlife (2010)\n",
            "8831810                                 Jurassic World (2015)\n",
            "3679116     Master and Commander: The Far Side of the Worl...\n",
            "24553599                       Sun Alley (Sonnenallee) (1999)\n",
            "9567263                                       Zootopia (2016)\n",
            "23471957                                   Bootleggers (1961)\n",
            "8638549                      Grand Budapest Hotel, The (2014)\n",
            "23672186                                        Infini (2015)\n",
            "22895040                                 Atomic Blonde (2017)\n",
            "11682860                          Escape from New York (1981)\n",
            "21954759                                          Life (2017)\n",
            "2959084                       Who Framed Roger Rabbit? (1988)\n",
            "20618759                   We Need to Talk About Kevin (2011)\n",
            "7408163                                    Cloverfield (2008)\n",
            "23984294                                             Paterson\n",
            "24342779                        The Night Comes For Us (2018)\n",
            "7600922                X-Files: I Want to Believe, The (2008)\n",
            "23114889                                Swiss Army Man (2016)\n",
            "20314446                                         Split (2017)\n",
            "6083683                              Gangs of New York (2002)\n",
            "16039237                                      Pandorum (2009)\n",
            "23643308                                       What If (2013)\n",
            "20920059                                Night on Earth (1991)\n",
            "22207782                                          Exam (2009)\n",
            "21925046                                         Enemy (2013)\n",
            "21929083                                     Coherence (2013)\n",
            "9523742                      What We Do in the Shadows (2014)\n",
            "196147                      Back to the Future Part II (1989)\n",
            "22106415                                Number 23, The (2007)\n",
            "9041511                                    Baby Driver (2017)\n",
            "8461348                               Django Unchained (2012)\n",
            "6584469          Sky Captain and the World of Tomorrow (2004)\n",
            "23982413                           Field in England, A (2013)\n",
            "23281796                                    Demolition (2016)\n",
            "8980389                                   The Revenant (2015)\n",
            "21972170                                         Joker (2019)\n",
            "13368420                          Hudsucker Proxy, The (1994)\n",
            "21944516                                    Green Room (2015)\n",
            "22981280              Resident Evil: The Final Chapter (2017)\n",
            "22133193                           Girl Next Door, The (2007)\n",
            "8348660                                      Grey, The (2012)\n",
            "4496161                          2001: A Space Odyssey (1968)\n",
            "24181396                       The Cloverfield Paradox (2018)\n",
            "18249073                                        Easy A (2010)\n",
            "76115                                     Pulp Fiction (1994)\n",
            "7508981                                          Taken (2008)\n",
            "24343258                       Dragged Across Concrete (2018)\n",
            "19760769                                    Barbarella (1968)\n",
            "21862804                                     Blob, The (1988)\n",
            "8681246                                           Lucy (2014)\n",
            "24558596                                 Captive State (2019)\n",
            "8102677                                     Black Swan (2010)\n",
            "16338190                                      3 Idiots (2009)\n",
            "16935906    Birdman: Or (The Unexpected Virtue of Ignoranc...\n",
            "1639244                            Sound of Music, The (1965)\n",
            "4152453                                Johnny Mnemonic (1995)\n",
            "Name: title, dtype: object\n",
            "\n",
            "\n",
            " Peliculas recomendadas según: Perfume: The Story of a Murderer (2006): \n",
            "\n",
            "2687                   Bel Ami (2012)\n",
            "19173            Moll Flanders (1996)\n",
            "6902              Sweeney Todd (2006)\n",
            "1123             War and Peace (2016)\n",
            "13657             Clay Pigeons (1998)\n",
            "10745    Sense and Sensibility (1995)\n",
            "17881    Tale of Two Cities, A (1935)\n",
            "13935                From Hell (2001)\n",
            "8394        Cyrano de Bergerac (1990)\n",
            "15138                  Freeway (1996)\n",
            "Name: title, dtype: object: \n",
            "\n",
            "\n",
            "\n",
            " Peliculas recomendadas según: Airplane! (1980): \n",
            "\n",
            "11320                                    Hot Shots! (1991)\n",
            "10754    Naked Gun: From the Files of Police Squad!, Th...\n",
            "9193             Naked Gun 33 1/3: The Final Insult (1994)\n",
            "12956                       Airplane II: The Sequel (1982)\n",
            "4486        Naked Gun 2 1/2: The Smell of Fear, The (1991)\n",
            "7598                                  Scary Movie 3 (2003)\n",
            "19409                          Jane Austen's Mafia! (1998)\n",
            "879                                     Top Secret! (1984)\n",
            "12049                                 Scary Movie 4 (2006)\n",
            "11557                   Dracula: Dead and Loving It (1995)\n",
            "Name: title, dtype: object: \n",
            "\n",
            "\n",
            "\n",
            " Peliculas recomendadas según: Alien: Resurrection (1997): \n",
            "\n",
            "7609                        Alien³ (a.k.a. Alien 3) (1992)\n",
            "3458                                Alien: Covenant (2017)\n",
            "1451                                         Aliens (1986)\n",
            "8696                        AVP: Alien vs. Predator (2004)\n",
            "16764           AVPR: Aliens vs. Predator - Requiem (2007)\n",
            "14381                                         Alien (1979)\n",
            "9008                               Extraterrestrial (2014)\n",
            "2163                       Galaxy of Terror (Quest) (1981)\n",
            "10602    Save the Green Planet! (Jigureul jikyeora!) (2...\n",
            "7786                                          Gantz (2011)\n",
            "Name: title, dtype: object: \n",
            "\n",
            "\n",
            "\n",
            " Peliculas recomendadas según: Love and Pigeons (1985): \n",
            "\n",
            "3541     Ivan Vasilievich: Back to the Future (Ivan Vas...\n",
            "6036                                 Office Romance (1977)\n",
            "6961     Barber of Siberia, The (Sibirskij tsiryulnik) ...\n",
            "4363                                    Bootleggers (1961)\n",
            "12159    Kidnapping, Caucasian Style (Kavkazskaya plenn...\n",
            "12358                                      Piter FM (2006)\n",
            "590                                        Child 44 (2015)\n",
            "1123                                  War and Peace (2016)\n",
            "15147        Diamond Arm, The (Brilliantovaya ruka) (1968)\n",
            "8704                         Mermaid, The (Rusalka) (2007)\n",
            "Name: title, dtype: object: \n",
            "\n",
            "\n",
            "\n",
            " Peliculas recomendadas según: Resident Evil: Afterlife (2010): \n",
            "\n",
            "10995             Resident Evil: Retribution (2012)\n",
            "18117              Resident Evil: Extinction (2007)\n",
            "15411       Resident Evil: The Final Chapter (2017)\n",
            "11536                          Resident Evil (2002)\n",
            "7460               Resident Evil: Apocalypse (2004)\n",
            "13006                              Max Payne (2008)\n",
            "5140             Mortal Kombat: Annihilation (1997)\n",
            "12452                         Street Fighter (1994)\n",
            "14364    Prince of Persia: The Sands of Time (2010)\n",
            "17418                      Super Mario Bros. (1993)\n",
            "Name: title, dtype: object: \n",
            "\n",
            "\n",
            "\n",
            " Peliculas recomendadas según: Jurassic World (2015): \n",
            "\n",
            "10193    Jurassic World: Fallen Kingdom (2018)\n",
            "18461    Lost World: Jurassic Park, The (1997)\n",
            "10515                 Jurassic Park III (2001)\n",
            "5439                      Jurassic Park (1993)\n",
            "16773                         King Kong (2005)\n",
            "13745                       The Endless (2017)\n",
            "1271      T-Rex: Back to the Cretaceous (1998)\n",
            "9996                        Sing Street (2016)\n",
            "4707                   Son of Kong, The (1933)\n",
            "4240                               2012 (2009)\n",
            "Name: title, dtype: object: \n",
            "\n",
            "\n",
            "\n",
            " Peliculas recomendadas según: Master and Commander: The Far Side of the World (2003): \n",
            "\n",
            "19076                  Dunkirk (2017)\n",
            "12565             Forrest Gump (1994)\n",
            "14347       Dances with Wolves (1990)\n",
            "18131                Gladiator (2000)\n",
            "17415                Tom Jones (1963)\n",
            "19696        Beautiful Mind, A (2001)\n",
            "3256     From Here to Eternity (1953)\n",
            "6019       Terms of Endearment (1983)\n",
            "13346      Saving Private Ryan (1998)\n",
            "14257       The Imitation Game (2014)\n",
            "Name: title, dtype: object: \n",
            "\n",
            "\n",
            "\n",
            " Peliculas recomendadas según: Sun Alley (Sonnenallee) (1999): \n",
            "\n",
            "12347                              Good bye, Lenin! (2003)\n",
            "6911                      Tunnel, The (Tunnel, Der) (2001)\n",
            "10658    Lives of Others, The (Das leben der Anderen) (...\n",
            "16178                                   Reader, The (2008)\n",
            "4287     Before the Fall (NaPolA - Elite für den Führer...\n",
            "15689            White Ribbon, The (Das weiße Band) (2009)\n",
            "9241                      Downfall (Untergang, Der) (2004)\n",
            "5542                        Schultze Gets the Blues (2003)\n",
            "8424                                Book Thief, The (2013)\n",
            "19033                     Knockin' on Heaven's Door (1997)\n",
            "Name: title, dtype: object: \n",
            "\n",
            "\n",
            "\n",
            " Peliculas recomendadas según: Zootopia (2016): \n",
            "\n",
            "14857            Lion King, The (1994)\n",
            "12175                   Aladdin (1992)\n",
            "8845               Brother Bear (2003)\n",
            "5363     Fox and the Hound, The (1981)\n",
            "4890            Aristocats, The (1970)\n",
            "8932                       Sing (2016)\n",
            "9531                      Bambi (1942)\n",
            "14758         Home on the Range (2004)\n",
            "19021                Robin Hood (1973)\n",
            "12425                     Dumbo (1941)\n",
            "Name: title, dtype: object: \n",
            "\n",
            "\n",
            "\n",
            " Peliculas recomendadas según: Bootleggers (1961): \n",
            "\n",
            "3541     Ivan Vasilievich: Back to the Future (Ivan Vas...\n",
            "2721                               Love and Pigeons (1985)\n",
            "6036                                 Office Romance (1977)\n",
            "12358                                      Piter FM (2006)\n",
            "6961     Barber of Siberia, The (Sibirskij tsiryulnik) ...\n",
            "12159    Kidnapping, Caucasian Style (Kavkazskaya plenn...\n",
            "590                                        Child 44 (2015)\n",
            "18727                                      The Crew (2016)\n",
            "6472                           Wow! A Talking Fish! (1983)\n",
            "7886             A Man from Boulevard des Capucines (1987)\n",
            "Name: title, dtype: object: \n",
            "\n",
            "\n",
            "\n",
            " Peliculas recomendadas según: Grand Budapest Hotel, The (2014): \n",
            "\n",
            "5878     Birdman: Or (The Unexpected Virtue of Ignoranc...\n",
            "17516                              Moonrise Kingdom (2012)\n",
            "11630           Life Aquatic with Steve Zissou, The (2004)\n",
            "13777                          English Patient, The (1996)\n",
            "18987                            The Imitation Game (2014)\n",
            "9188                                   Forrest Gump (1994)\n",
            "19462                      The Theory of Everything (2014)\n",
            "19076                                       Dunkirk (2017)\n",
            "3309                          Royal Tenenbaums, The (2001)\n",
            "398                         Darjeeling Limited, The (2007)\n",
            "Name: title, dtype: object: \n",
            "\n",
            "\n",
            "\n",
            " Peliculas recomendadas según: Infini (2015): \n",
            "\n",
            "47                      When Worlds Collide (1951)\n",
            "9062                          Event Horizon (1997)\n",
            "16197    Star Wars: Episode IV - A New Hope (1977)\n",
            "17139                         Europa Report (2013)\n",
            "15444                              Pandorum (2009)\n",
            "13695                              Sunshine (2007)\n",
            "12433        2010: The Year We Make Contact (1984)\n",
            "1026                                Outland (1981)\n",
            "6039                       Ice Pirates, The (1984)\n",
            "4777                                   Life (2017)\n",
            "Name: title, dtype: object: \n",
            "\n",
            "\n",
            "\n",
            " Peliculas recomendadas según: Atomic Blonde (2017): \n",
            "\n",
            "6911     Tunnel, The (Tunnel, Der) (2001)\n",
            "4347                       Gotcha! (1985)\n",
            "15698      The Man from U.N.C.L.E. (2015)\n",
            "19289              Bridge of Spies (2015)\n",
            "19894             13 Rue Madeleine (1947)\n",
            "11935                    Debt, The (2011)\n",
            "909                        Haywire (2011)\n",
            "12347             Good bye, Lenin! (2003)\n",
            "13034                     Unlocked (2017)\n",
            "4433            Good Shepherd, The (2006)\n",
            "Name: title, dtype: object: \n",
            "\n",
            "\n",
            "\n",
            " Peliculas recomendadas según: Escape from New York (1981): \n",
            "\n",
            "3533                    Die Hard: With a Vengeance (1995)\n",
            "4680                                 Warriors, The (1979)\n",
            "17074                              Death Race 2000 (1975)\n",
            "18826                                      Mad Max (1979)\n",
            "4679                    Rambo: First Blood Part II (1985)\n",
            "13113          Taking of Pelham One Two Three, The (1974)\n",
            "4259              First Blood (Rambo: First Blood) (1982)\n",
            "7670                                         Spawn (1997)\n",
            "8824                                 Air Force One (1997)\n",
            "12548    Disappearance of Eleanor Rigby: Them, The (2014)\n",
            "Name: title, dtype: object: \n",
            "\n",
            "\n",
            "\n",
            " Peliculas recomendadas según: Life (2017): \n",
            "\n",
            "14676             Alien: Covenant (2017)\n",
            "19039     Alien³ (a.k.a. Alien 3) (1992)\n",
            "2142                   Red Planet (2000)\n",
            "3159     Galaxy of Terror (Quest) (1981)\n",
            "7215                     Salyut 7 (2017)\n",
            "15751               Europa Report (2013)\n",
            "4067                     Sunshine (2007)\n",
            "4808                  The Martian (2015)\n",
            "5768          Alien: Resurrection (1997)\n",
            "4035                    Planet 51 (2009)\n",
            "Name: title, dtype: object: \n",
            "\n",
            "\n",
            "\n",
            " Peliculas recomendadas según: Who Framed Roger Rabbit? (1988): \n",
            "\n",
            "18842    Looney Tunes: Back in Action (2003)\n",
            "9934                       Fat Albert (2004)\n",
            "15721                   Pete's Dragon (1977)\n",
            "8956                Song of the South (1946)\n",
            "16412                  Watership Down (1978)\n",
            "14342           Hey Arnold! The Movie (2002)\n",
            "5974       Terminator 2: Judgment Day (1991)\n",
            "1633                        Space Jam (1996)\n",
            "1444       E.T. the Extra-Terrestrial (1982)\n",
            "19238                     Day & Night (2010)\n",
            "Name: title, dtype: object: \n",
            "\n",
            "\n",
            "\n",
            " Peliculas recomendadas según: We Need to Talk About Kevin (2011): \n",
            "\n",
            "2240     You Were Never Really Here (2017)\n",
            "18406                      Excision (2012)\n",
            "6711                Despicable Me 3 (2017)\n",
            "12961                     Testament (1983)\n",
            "3407                 Lion King, The (1994)\n",
            "17226                       Aladdin (1992)\n",
            "10224             God Bless America (2011)\n",
            "8381       Martha Marcy May Marlene (2011)\n",
            "1766                     Home Alone (1990)\n",
            "12155                    Antichrist (2009)\n",
            "Name: title, dtype: object: \n",
            "\n",
            "\n",
            "\n",
            " Peliculas recomendadas según: Cloverfield (2008): \n",
            "\n",
            "7530                                       Godzilla (2014)\n",
            "360                                        Colossal (2016)\n",
            "7740        Godzilla vs. Mothra (Mosura tai Gojira) (1964)\n",
            "5817     Graveyard Shift (Stephen King's Graveyard Shif...\n",
            "14755                                     Blob, The (1958)\n",
            "2163                       Galaxy of Terror (Quest) (1981)\n",
            "6858     Godzilla, King of the Monsters! (Kaijû-ô Gojir...\n",
            "5513            Creature from the Black Lagoon, The (1954)\n",
            "7295                                    Pacific Rim (2013)\n",
            "19485          Water Horse: Legend of the Deep, The (2007)\n",
            "Name: title, dtype: object: \n",
            "\n",
            "\n",
            "\n",
            " Peliculas recomendadas según: Paterson: \n",
            "\n",
            "1871                    Crew, The (2000)\n",
            "228                  Poetry (Shi) (2010)\n",
            "7271                  Jersey Boys (2014)\n",
            "5812                  Dinner Rush (2000)\n",
            "2022     Welcome to the Dollhouse (1995)\n",
            "5106                  Indignation (2016)\n",
            "1731                 Garden State (2004)\n",
            "15180                 Cruise, The (1998)\n",
            "4530                       Clerks (1994)\n",
            "9158           Station Agent, The (2003)\n",
            "Name: title, dtype: object: \n",
            "\n",
            "\n",
            "\n",
            " Peliculas recomendadas según: The Night Comes For Us (2018): \n",
            "\n",
            "16033                           Act of Killing, The (2012)\n",
            "19062                          The Raid: Redemption (2011)\n",
            "18442             John Wick: Chapter 3 – Parabellum (2019)\n",
            "9849                           The Raid 2: Berandal (2014)\n",
            "15335                                  Fatal Beauty (1987)\n",
            "17803    Flash Point (a.k.a. Flashpoint) (Dou fo sin) (...\n",
            "380                                            Gold (2016)\n",
            "10225            Philosophers, The (After The Dark) (2013)\n",
            "10666                                      Creed II (2018)\n",
            "8311                            Way of the Gun, The (2000)\n",
            "Name: title, dtype: object: \n",
            "\n",
            "\n",
            "\n",
            " Peliculas recomendadas según: X-Files: I Want to Believe, The (2008): \n",
            "\n",
            "15096    X-Files: Fight the Future, The (1998)\n",
            "5391                           Imperium (2016)\n",
            "3191                        Hidden, The (1987)\n",
            "16391                       Double Take (2001)\n",
            "17945                    Mercury Rising (1998)\n",
            "5321                    Alien: Covenant (2017)\n",
            "5614                    Fire in the Sky (1993)\n",
            "4158                 Echelon Conspiracy (2009)\n",
            "17993              Secret in Their Eyes (2015)\n",
            "4645            Alien³ (a.k.a. Alien 3) (1992)\n",
            "Name: title, dtype: object: \n",
            "\n",
            "\n",
            "\n",
            " Peliculas recomendadas según: Swiss Army Man (2016): \n",
            "\n",
            "19035                                   The Lobster (2015)\n",
            "19601    The Horribly Slow Murderer with the Extremely ...\n",
            "17032                                         Wrong (2012)\n",
            "16204                                       Reality (2014)\n",
            "8537                     Drained (O cheiro do Ralo) (2006)\n",
            "13808                Suicide Club (Jisatsu saakuru) (2001)\n",
            "7701     City of Lost Children, The (Cité des enfants p...\n",
            "5410     Songs From the Second Floor (Sånger från andra...\n",
            "3710                         This Must Be the Place (2011)\n",
            "4032                                    Double, The (2013)\n",
            "Name: title, dtype: object: \n",
            "\n",
            "\n",
            "\n",
            " Peliculas recomendadas según: Split (2017): \n",
            "\n",
            "5506                       Sybil (1976)\n",
            "5212                       Glass (2019)\n",
            "7732            Sixth Sense, The (1999)\n",
            "5854     Three Faces of Eve, The (1957)\n",
            "4165                 Unbreakable (2000)\n",
            "8201               Secret Window (2004)\n",
            "9507                Village, The (2004)\n",
            "6305                    Identity (2003)\n",
            "15205                  The Witch (2015)\n",
            "2366               Thoroughbreds (2018)\n",
            "Name: title, dtype: object: \n",
            "\n",
            "\n",
            "\n",
            " Peliculas recomendadas según: Gangs of New York (2002): \n",
            "\n",
            "4680                                 Warriors, The (1979)\n",
            "2148                         Age of Innocence, The (1993)\n",
            "19916                              Midnight Cowboy (1969)\n",
            "12548    Disappearance of Eleanor Rigby: Them, The (2014)\n",
            "1709                                  My Left Foot (1989)\n",
            "10354                                Departed, The (2006)\n",
            "5812                                   Dinner Rush (2000)\n",
            "2233                                    Goodfellas (1990)\n",
            "16849                        Last Exit to Brooklyn (1989)\n",
            "18808                                      Titanic (1997)\n",
            "Name: title, dtype: object: \n",
            "\n",
            "\n",
            "\n",
            " Peliculas recomendadas según: Pandorum (2009): \n",
            "\n",
            "18665                                 Cargo (2009)\n",
            "19453                            Titan A.E. (2000)\n",
            "47                      When Worlds Collide (1951)\n",
            "6262                         Wing Commander (1999)\n",
            "5367                          Event Horizon (1997)\n",
            "3667     Star Wars: Episode IV - A New Hope (1977)\n",
            "637           Starcrash (a.k.a. Star Crash) (1978)\n",
            "8326         2010: The Year We Make Contact (1984)\n",
            "18169                             Explorers (1985)\n",
            "12289                         Europa Report (2013)\n",
            "Name: title, dtype: object: \n",
            "\n",
            "\n",
            "\n",
            " Peliculas recomendadas según: What If (2013): \n",
            "\n",
            "11952      When Harry Met Sally... (1989)\n",
            "9150     Giant Mechanical Man, The (2012)\n",
            "2679                         Signs (2008)\n",
            "14131                December Boys (2007)\n",
            "11208                Proposal, The (2009)\n",
            "11592                  Love, Rosie (2014)\n",
            "1599                     Lawn Dogs (1997)\n",
            "6827                       Beaches (1988)\n",
            "11228                      One Day (2011)\n",
            "8277          Love and Other Drugs (2010)\n",
            "Name: title, dtype: object: \n",
            "\n",
            "\n",
            "\n",
            " Peliculas recomendadas según: Night on Earth (1991): \n",
            "\n",
            "18978                                   Collateral (2004)\n",
            "358                                      Tangerine (2015)\n",
            "14265                                 Take Me Home (2011)\n",
            "16617                      Where the Sidewalk Ends (1950)\n",
            "12548    Disappearance of Eleanor Rigby: Them, The (2014)\n",
            "18836                                  Down by Law (1986)\n",
            "9313                                          Taxi (2015)\n",
            "17385                               New Year's Eve (2011)\n",
            "12123                              2 Days in Paris (2007)\n",
            "8401                           Out of Towners, The (1970)\n",
            "Name: title, dtype: object: \n",
            "\n",
            "\n",
            "\n",
            " Peliculas recomendadas según: Exam (2009): \n",
            "\n",
            "173                                        Brake (2012)\n",
            "15220                               Village, The (2004)\n",
            "3027                                Five Fingers (2006)\n",
            "7515                               Secret Window (2004)\n",
            "12272                                      Enemy (2013)\n",
            "1028                        Seven (a.k.a. Se7en) (1995)\n",
            "1077                                  Red Lights (2012)\n",
            "16390    Fermat's Room (La habitación de Fermat) (2007)\n",
            "11947                                        Saw (2004)\n",
            "15741                             Shutter Island (2010)\n",
            "Name: title, dtype: object: \n",
            "\n",
            "\n",
            "\n",
            " Peliculas recomendadas según: Enemy (2013): \n",
            "\n",
            "10809    Last Year at Marienbad (L'Année dernière à Mar...\n",
            "12001                                Shutter Island (2010)\n",
            "8201                                  Secret Window (2004)\n",
            "11867                                Under the Skin (2013)\n",
            "16341                              Mulholland Drive (2001)\n",
            "2707                                     Antichrist (2009)\n",
            "7105                                           Exam (2009)\n",
            "9461                           Seven (a.k.a. Se7en) (1995)\n",
            "682                                             Bug (2007)\n",
            "7725                              Blade Runner 2049 (2017)\n",
            "Name: title, dtype: object: \n",
            "\n",
            "\n",
            "\n",
            " Peliculas recomendadas según: Coherence (2013): \n",
            "\n",
            "9493                   Parallels (2015)\n",
            "5798                       Comet (2014)\n",
            "5195               Another Earth (2011)\n",
            "11269            Childhood's End (2015)\n",
            "16715    The Cloverfield Paradox (2018)\n",
            "335             Rim of the World (2019)\n",
            "1974      Screamers: The Hunting (2009)\n",
            "14267             The Invitation (2015)\n",
            "18347         My Science Project (1985)\n",
            "18147                   Spectral (2016)\n",
            "Name: title, dtype: object: \n",
            "\n",
            "\n",
            "\n",
            " Peliculas recomendadas según: What We Do in the Shadows (2014): \n",
            "\n",
            "13096                      Dracula 2000 (2000)\n",
            "5142              Underworld: Awakening (2012)\n",
            "5372                Vampire in Brooklyn (1995)\n",
            "7533                   Freaks of Nature (2015)\n",
            "17883            Underworld: Blood Wars (2016)\n",
            "7462     Underworld: Rise of the Lycans (2009)\n",
            "15415            Only Lovers Left Alive (2013)\n",
            "14422                       Once Bitten (1985)\n",
            "15747                           Dracula (1979)\n",
            "11866             Underworld: Evolution (2006)\n",
            "Name: title, dtype: object: \n",
            "\n",
            "\n",
            "\n",
            " Peliculas recomendadas según: Back to the Future Part II (1989): \n",
            "\n",
            "12209         Back to the Future Part III (1990)\n",
            "3726                   Back to the Future (1985)\n",
            "16159                               12:01 (1993)\n",
            "16963                   Time Machine, The (2002)\n",
            "16431                                 ARQ (2016)\n",
            "11931                           Frequency (2000)\n",
            "13132                     Terminator, The (1984)\n",
            "12819               Peggy Sue Got Married (1986)\n",
            "6039                     Ice Pirates, The (1984)\n",
            "8105     Bill & Ted's Excellent Adventure (1989)\n",
            "Name: title, dtype: object: \n",
            "\n",
            "\n",
            "\n",
            " Peliculas recomendadas según: Number 23, The (2007): \n",
            "\n",
            "15797           Shutter Island (2010)\n",
            "8910            Uninvited, The (2009)\n",
            "18419       Stonehearst Asylum (2014)\n",
            "6326                     Glass (2019)\n",
            "3622                  Identity (2003)\n",
            "4463                Dead Again (1991)\n",
            "7515             Secret Window (2004)\n",
            "18583    They Look Like People (2015)\n",
            "4428         Conspiracy Theory (1997)\n",
            "12143                Game, The (1997)\n",
            "Name: title, dtype: object: \n",
            "\n",
            "\n",
            "\n",
            " Peliculas recomendadas según: Baby Driver (2017): \n",
            "\n",
            "1715     Dirty Mary Crazy Larry (1974)\n",
            "2127         Gone in 60 Seconds (2000)\n",
            "13348                     Heist (2015)\n",
            "19773      Welcome to the Punch (2013)\n",
            "6336                   Sabotage (2014)\n",
            "213                        Heat (1995)\n",
            "17891                 Town, The (2010)\n",
            "12363                 The Trust (2016)\n",
            "5047                  Furious 7 (2015)\n",
            "18574                     Drive (2011)\n",
            "Name: title, dtype: object: \n",
            "\n",
            "\n",
            "\n",
            " Peliculas recomendadas según: Django Unchained (2012): \n",
            "\n",
            "7600                                     Unforgiven (1992)\n",
            "3414                         No Country for Old Men (2007)\n",
            "16705     My Name Is Nobody (Il Mio nome è Nessuno) (1973)\n",
            "11163    For a Few Dollars More (Per qualche dollaro in...\n",
            "11223                       Trigun: Badlands Rumble (2010)\n",
            "5717     Once Upon a Time in the West (C'era una volta ...\n",
            "19160            Butch Cassidy and the Sundance Kid (1969)\n",
            "9149     Good, the Bad and the Ugly, The (Buono, il bru...\n",
            "3166                                         Django (1966)\n",
            "9265                                   Pulp Fiction (1994)\n",
            "Name: title, dtype: object: \n",
            "\n",
            "\n",
            "\n",
            " Peliculas recomendadas según: Sky Captain and the World of Tomorrow (2004): \n",
            "\n",
            "19214                                 Robot Jox (1990)\n",
            "14316                             Short Circuit (1986)\n",
            "2763              Transformers: The Last Knight (2017)\n",
            "17497            Transformers: Dark of the Moon (2011)\n",
            "1075        Transformers: Revenge of the Fallen (2009)\n",
            "19716    Vexille (Bekushiru: 2077 Nihon sakoku) (2007)\n",
            "17198         Robot Carnival (Roboto kânibauru) (1987)\n",
            "5631                                Pacific Rim (2013)\n",
            "3279                                 Surrogates (2009)\n",
            "18953                              Transformers (2007)\n",
            "Name: title, dtype: object: \n",
            "\n",
            "\n",
            "\n",
            " Peliculas recomendadas según: Field in England, A (2013): \n",
            "\n",
            "2145                     Red Badge of Courage, The (1951)\n",
            "5571                             Gods and Generals (2003)\n",
            "9626     C.S.A.: The Confederate States of America (2004)\n",
            "12614                       Birth of a Nation, The (1915)\n",
            "15887    Sandglass, The (Sanatorium pod klepsydra) (1973)\n",
            "615                                          Glory (1989)\n",
            "14572     Holy Mountain, The (Montaña sagrada, La) (1973)\n",
            "11816                                 General, The (1926)\n",
            "7045               Abraham Lincoln: Vampire Hunter (2012)\n",
            "10391                                        Roots (1977)\n",
            "Name: title, dtype: object: \n",
            "\n",
            "\n",
            "\n",
            " Peliculas recomendadas según: Demolition (2016): \n",
            "\n",
            "12548    Disappearance of Eleanor Rigby: Them, The (2014)\n",
            "1292                    The Other Side of the Door (2016)\n",
            "15084                                   Rudderless (2014)\n",
            "15783                                Single Man, A (2009)\n",
            "19321                                   Two Lovers (2008)\n",
            "10452                                     Brothers (2009)\n",
            "13842                                 Thunder Road (2018)\n",
            "6107                 Secret Lives of Dentists, The (2002)\n",
            "16843                                    If I Stay (2014)\n",
            "13847                                Random Hearts (1999)\n",
            "Name: title, dtype: object: \n",
            "\n",
            "\n",
            "\n",
            " Peliculas recomendadas según: The Revenant (2015): \n",
            "\n",
            "17818                            Dances with Wolves (1990)\n",
            "12449                                         Babel (2006)\n",
            "5697                                       Biutiful (2010)\n",
            "6194     Birdman: Or (The Unexpected Virtue of Ignoranc...\n",
            "6019                            Terms of Endearment (1983)\n",
            "3256                          From Here to Eternity (1953)\n",
            "3985                            There Will Be Blood (2007)\n",
            "8929                                            Hud (1963)\n",
            "6436                                       21 Grams (2003)\n",
            "12880                Amores Perros (Love's a Bitch) (2000)\n",
            "Name: title, dtype: object: \n",
            "\n",
            "\n",
            "\n",
            " Peliculas recomendadas según: Joker (2019): \n",
            "\n",
            "1422                            It's All About Love (2003)\n",
            "18199                                   Taxi Driver (1976)\n",
            "13189                                      Sin City (2005)\n",
            "13848                                      Victoria (2015)\n",
            "16744                                    Goodfellas (1990)\n",
            "6547                                        Get Out (2017)\n",
            "9804                     You Were Never Really Here (2017)\n",
            "18024                                      Parasite (2019)\n",
            "2881                             New York, New York (1977)\n",
            "2069     Eden of the East the Movie II: Paradise Lost (...\n",
            "Name: title, dtype: object: \n",
            "\n",
            "\n",
            "\n",
            " Peliculas recomendadas según: Hudsucker Proxy, The (1994): \n",
            "\n",
            "8138               Ladykillers, The (2004)\n",
            "13759    O Brother, Where Art Thou? (2000)\n",
            "14377                Serious Man, A (2009)\n",
            "9115              Miller's Crossing (1990)\n",
            "8667            Intolerable Cruelty (2003)\n",
            "7572              Big Lebowski, The (1998)\n",
            "516                   Hail, Caesar! (2016)\n",
            "15245            Burn After Reading (2008)\n",
            "17002           Inside Llewyn Davis (2013)\n",
            "17986               Raising Arizona (1987)\n",
            "Name: title, dtype: object: \n",
            "\n",
            "\n",
            "\n",
            " Peliculas recomendadas según: Green Room (2015): \n",
            "\n",
            "188            Decline of Western Civilization, The (1981)\n",
            "16950                                      Suburbia (1984)\n",
            "13351                                Hard Core Logo (1996)\n",
            "13563    End of the Century: The Story of the Ramones (...\n",
            "5998                                      Blue Ruin (2013)\n",
            "4261                                  Runaways, The (2010)\n",
            "4536                               Straight to Hell (1987)\n",
            "2404                                 Romper Stomper (1992)\n",
            "15142                We Are the Best! (Vi är bäst!) (2013)\n",
            "9337                           24 Hour Party People (2002)\n",
            "Name: title, dtype: object: \n",
            "\n",
            "\n",
            "\n",
            " Peliculas recomendadas según: Resident Evil: The Final Chapter (2017): \n",
            "\n",
            "18117      Resident Evil: Extinction (2007)\n",
            "11132      Resident Evil: Apocalypse (2004)\n",
            "11536                  Resident Evil (2002)\n",
            "2814        Resident Evil: Afterlife (2010)\n",
            "1381      Resident Evil: Retribution (2012)\n",
            "5246                       Max Payne (2008)\n",
            "5140     Mortal Kombat: Annihilation (1997)\n",
            "12452                 Street Fighter (1994)\n",
            "5304         Lara Croft: Tomb Raider (2001)\n",
            "17418              Super Mario Bros. (1993)\n",
            "Name: title, dtype: object: \n",
            "\n",
            "\n",
            "\n",
            " Peliculas recomendadas según: Girl Next Door, The (2007): \n",
            "\n",
            "17494                                  Donkey Punch (2008)\n",
            "14713                                  Carried Away (1996)\n",
            "19263     Beyond the Clouds (Al di là delle nuvole) (1996)\n",
            "682                                             Bug (2007)\n",
            "8076                                  Hot Spot, The (1990)\n",
            "2892                                 Abandoned, The (2006)\n",
            "3535     8 ½ Women (a.k.a. 8 1/2 Women) (a.k.a. Eight a...\n",
            "4237                                            Gia (1998)\n",
            "117                                          Stevie (2002)\n",
            "10321                                         Stuck (2007)\n",
            "Name: title, dtype: object: \n",
            "\n",
            "\n",
            "\n",
            " Peliculas recomendadas según: Grey, The (2012): \n",
            "\n",
            "19688                     Arctic (2018)\n",
            "17933             Never Cry Wolf (1983)\n",
            "12072    The Mountain Between Us (2017)\n",
            "3044                 Grizzly Man (2005)\n",
            "19384                      Alive (1993)\n",
            "3508                   Edge, The (1997)\n",
            "1616               Into the Wild (2007)\n",
            "6150                   Cast Away (2000)\n",
            "8874                    Fearless (1993)\n",
            "7138                       Alpha (2018)\n",
            "Name: title, dtype: object: \n",
            "\n",
            "\n",
            "\n",
            " Peliculas recomendadas según: 2001: A Space Odyssey (1968): \n",
            "\n",
            "8326                 2010: The Year We Make Contact (1984)\n",
            "7372             Star Wars: Episode IV - A New Hope (1977)\n",
            "1354                                          Alien (1979)\n",
            "15961                                       Gravity (2013)\n",
            "8384                                        Outland (1981)\n",
            "10619                                Silent Running (1972)\n",
            "15751                                 Europa Report (2013)\n",
            "47                              When Worlds Collide (1951)\n",
            "6373                          First Men in the Moon (1964)\n",
            "19217    Star Wars: Episode VI - Return of the Jedi (1983)\n",
            "Name: title, dtype: object: \n",
            "\n",
            "\n",
            "\n",
            " Peliculas recomendadas según: The Cloverfield Paradox (2018): \n",
            "\n",
            "9493            Parallels (2015)\n",
            "14452           Supernova (2000)\n",
            "11463                Life (2017)\n",
            "6257             Sunshine (2007)\n",
            "6653        Europa Report (2013)\n",
            "10619      Silent Running (1972)\n",
            "2142           Red Planet (2000)\n",
            "335      Rim of the World (2019)\n",
            "12731        Interstellar (2014)\n",
            "11824     Childhood's End (2015)\n",
            "Name: title, dtype: object: \n",
            "\n",
            "\n",
            "\n",
            " Peliculas recomendadas según: Easy A (2010): \n",
            "\n",
            "13381             High School Musical (2006)\n",
            "3234                        Palo Alto (2013)\n",
            "13941                          Tamara (2005)\n",
            "15005               Another Gay Movie (2006)\n",
            "16379               What a Girl Wants (2003)\n",
            "2452                          Porky's (1982)\n",
            "8219                       Mean Girls (2004)\n",
            "5949     Fast Times at Ridgemont High (1982)\n",
            "1322                  First Time, The (2012)\n",
            "9621                          Shelter (2007)\n",
            "Name: title, dtype: object: \n",
            "\n",
            "\n",
            "\n",
            " Peliculas recomendadas según: Pulp Fiction (1994): \n",
            "\n",
            "14358       Reservoir Dogs (1992)\n",
            "18423         Jackie Brown (1997)\n",
            "19474    Kill Bill: Vol. 2 (2004)\n",
            "15212    Kill Bill: Vol. 1 (2003)\n",
            "17529             Sin City (2005)\n",
            "18467         True Romance (1993)\n",
            "2388            Goodfellas (1990)\n",
            "11012       Godfather, The (1972)\n",
            "14437         Forrest Gump (1994)\n",
            "14616     Django Unchained (2012)\n",
            "Name: title, dtype: object: \n",
            "\n",
            "\n",
            "\n",
            " Peliculas recomendadas según: Taken (2008): \n",
            "\n",
            "15844                3 Days to Kill (2014)\n",
            "189                         Taken 2 (2012)\n",
            "5655     Suspect, The (Yong-eui-ja) (2013)\n",
            "11430                       Taken 3 (2015)\n",
            "16314                      Commando (1985)\n",
            "5153                   Blood Father (2016)\n",
            "4008           From Paris with Love (2010)\n",
            "7574                          Ronin (1998)\n",
            "17241                         Red 2 (2013)\n",
            "14570                     Homefront (2013)\n",
            "Name: title, dtype: object: \n",
            "\n",
            "\n",
            "\n",
            " Peliculas recomendadas según: Dragged Across Concrete (2018): \n",
            "\n",
            "18436    City on Fire (Lung fu fong wan) (1987)\n",
            "6057                     Lethal Weapon 3 (1992)\n",
            "19773               Welcome to the Punch (2013)\n",
            "12363                          The Trust (2016)\n",
            "939          Place Beyond the Pines, The (2012)\n",
            "18146                    Another 48 Hrs. (1990)\n",
            "1715              Dirty Mary Crazy Larry (1974)\n",
            "947                            Heat, The (2013)\n",
            "13348                              Heist (2015)\n",
            "7658          Stop! Or My Mom Will Shoot (1992)\n",
            "Name: title, dtype: object: \n",
            "\n",
            "\n",
            "\n",
            " Peliculas recomendadas según: Barbarella (1968): \n",
            "\n",
            "4659                        Wild Things (1998)\n",
            "18613                 Blade Runner 2049 (2017)\n",
            "4094     Beyond the Valley of the Dolls (1970)\n",
            "9697                          Moonraker (1979)\n",
            "3159           Galaxy of Terror (Quest) (1981)\n",
            "5321                    Alien: Covenant (2017)\n",
            "637       Starcrash (a.k.a. Star Crash) (1978)\n",
            "7540       Rogue One: A Star Wars Story (2016)\n",
            "6217                              Hanna (2011)\n",
            "15857                             Alien (1979)\n",
            "Name: title, dtype: object: \n",
            "\n",
            "\n",
            "\n",
            " Peliculas recomendadas según: Blob, The (1988): \n",
            "\n",
            "14471            Don't Be Afraid of the Dark (2010)\n",
            "14755                              Blob, The (1958)\n",
            "13941                                 Tamara (2005)\n",
            "13792                                 Baskin (2015)\n",
            "18359                       Faces of Death 5 (1996)\n",
            "19562                              Let Me In (2010)\n",
            "5513     Creature from the Black Lagoon, The (1954)\n",
            "4388                Night of the Living Dead (1990)\n",
            "11494                           Street Trash (1987)\n",
            "391                             Faculty, The (1998)\n",
            "Name: title, dtype: object: \n",
            "\n",
            "\n",
            "\n",
            " Peliculas recomendadas según: Lucy (2014): \n",
            "\n",
            "12424                        Singularity (2017)\n",
            "446                          After Earth (2013)\n",
            "3568                       Transcendence (2014)\n",
            "9225     The Hunger Games: Catching Fire (2013)\n",
            "8694                        Interstellar (2014)\n",
            "11824                    Childhood's End (2015)\n",
            "12872                       Ender's Game (2013)\n",
            "7180            The Amazing Spider-Man 2 (2014)\n",
            "10439                            RoboCop (2014)\n",
            "7475                             Riddick (2013)\n",
            "Name: title, dtype: object: \n",
            "\n",
            "\n",
            "\n",
            " Peliculas recomendadas según: Captive State (2019): \n",
            "\n",
            "14117                                  Alien Nation (1988)\n",
            "19071                                       Skyline (2010)\n",
            "9008                               Extraterrestrial (2014)\n",
            "11312                                  The 5th Wave (2016)\n",
            "10602    Save the Green Planet! (Jigureul jikyeora!) (2...\n",
            "4676                              War of the Worlds (2005)\n",
            "1217                                  Earth to Echo (2014)\n",
            "13499                                     Coneheads (1993)\n",
            "13118                           Aliens in the Attic (2009)\n",
            "18607                                      Oblivion (2013)\n",
            "Name: title, dtype: object: \n",
            "\n",
            "\n",
            "\n",
            " Peliculas recomendadas según: Black Swan (2010): \n",
            "\n",
            "15932                       Perfect Blue (1997)\n",
            "6019                 Terms of Endearment (1983)\n",
            "7625     One Flew Over the Cuckoo's Nest (1975)\n",
            "2196              No Country for Old Men (2007)\n",
            "6316                      Apartment, The (1960)\n",
            "3256               From Here to Eternity (1953)\n",
            "11656                    West Side Story (1961)\n",
            "16956                              Marty (1955)\n",
            "13950             French Connection, The (1971)\n",
            "13480                              Shine (1996)\n",
            "Name: title, dtype: object: \n",
            "\n",
            "\n",
            "\n",
            " Peliculas recomendadas según: 3 Idiots (2009): \n",
            "\n",
            "10972             Lagaan: Once Upon a Time in India (2001)\n",
            "12827                                            PK (2014)\n",
            "10559                                         Queen (2014)\n",
            "17093                             Bajrangi Bhaijaan (2015)\n",
            "4791                                My Name is Khan (2010)\n",
            "4595     Sometimes Happiness, Sometimes Sorrow (Kabhi K...\n",
            "4641                                Chennai Express (2013)\n",
            "4308                                 Chak De India! (2007)\n",
            "555                                 Monsoon Wedding (2001)\n",
            "4985                                     Outsourced (2006)\n",
            "Name: title, dtype: object: \n",
            "\n",
            "\n",
            "\n",
            " Peliculas recomendadas según: Birdman: Or (The Unexpected Virtue of Ignorance) (2014): \n",
            "\n",
            "7647                      Boyhood (2014)\n",
            "3256        From Here to Eternity (1953)\n",
            "10779    The Theory of Everything (2014)\n",
            "11475                    Whiplash (2014)\n",
            "6019          Terms of Endearment (1983)\n",
            "6916            Kramer vs. Kramer (1979)\n",
            "82              On the Waterfront (1954)\n",
            "16747          The Imitation Game (2014)\n",
            "17285                     Ben-Hur (1959)\n",
            "8929                          Hud (1963)\n",
            "Name: title, dtype: object: \n",
            "\n",
            "\n",
            "\n",
            " Peliculas recomendadas según: Sound of Music, The (1965): \n",
            "\n",
            "3150                     My Fair Lady (1964)\n",
            "10950                 West Side Story (1961)\n",
            "11874                            Gigi (1958)\n",
            "4833                       Funny Girl (1968)\n",
            "3256            From Here to Eternity (1953)\n",
            "11087                   South Pacific (1958)\n",
            "12249                         Chicago (2002)\n",
            "16508                         Oliver! (1968)\n",
            "19482    Best Years of Our Lives, The (1946)\n",
            "16190                         Amadeus (1984)\n",
            "Name: title, dtype: object: \n",
            "\n",
            "\n",
            "\n",
            " Peliculas recomendadas según: Johnny Mnemonic (1995): \n",
            "\n",
            "7769                                   Freejack (1992)\n",
            "5876         Lawnmower Man 2: Beyond Cyberspace (1996)\n",
            "4373                         Ghost in the Shell (2017)\n",
            "11824                           Childhood's End (2015)\n",
            "14768    Vexille (Bekushiru: 2077 Nihon sakoku) (2007)\n",
            "18310                                      Tron (1982)\n",
            "3909                                Matrix, The (1999)\n",
            "13575                                 Extracted (2012)\n",
            "6480                               Babylon A.D. (2008)\n",
            "1059                                     Avalon (2001)\n",
            "Name: title, dtype: object: \n",
            "\n",
            "\n",
            "None\n"
          ]
        }
      ],
      "source": [
        "# Recomendar películas para el usuario con ID 123\n",
        "num_recommendations = 10\n",
        "dfCopy= dataFrame.copy()\n",
        "recommended_movies = content_based_recommender_for_user(dfCopy['userId'].sample().iloc[0], cosine_sim, dataFrame,df, num_recommendations)\n",
        "print(recommended_movies)"
      ]
    },
    {
      "cell_type": "markdown",
      "metadata": {},
      "source": [
        "#### Creación de una columna nueva con los valores de similitud de una pelicula con el resto de peliculas. "
      ]
    },
    {
      "cell_type": "code",
      "execution_count": 45,
      "metadata": {
        "execution": {
          "iopub.execute_input": "2023-06-23T12:16:12.263938Z",
          "iopub.status.busy": "2023-06-23T12:16:12.262759Z",
          "iopub.status.idle": "2023-06-23T12:16:12.273482Z",
          "shell.execute_reply": "2023-06-23T12:16:12.272081Z",
          "shell.execute_reply.started": "2023-06-23T12:16:12.263898Z"
        },
        "id": "4pe5yU1qY585",
        "trusted": true
      },
      "outputs": [],
      "source": [
        "# # Veamos los Smilarity Scores que expresan las similitudes entre la película \"Wolf of Wall Street, The (2013)\" y otras películas\n",
        "# if IN_COLAB:\n",
        "#     similarity_scores = pd.DataFrame(cosine_sim[movie_index].get(), columns=[\"score\"])\n",
        "# else:\n",
        "#     similarity_scores = pd.DataFrame(cosine_sim[movie_index],\n",
        "#                                     columns=[\"score\"])"
      ]
    },
    {
      "cell_type": "code",
      "execution_count": 46,
      "metadata": {
        "execution": {
          "iopub.execute_input": "2023-06-23T12:16:12.275506Z",
          "iopub.status.busy": "2023-06-23T12:16:12.274659Z",
          "iopub.status.idle": "2023-06-23T12:16:12.29586Z",
          "shell.execute_reply": "2023-06-23T12:16:12.294949Z",
          "shell.execute_reply.started": "2023-06-23T12:16:12.275476Z"
        },
        "id": "0CR6CdqqY586",
        "trusted": true
      },
      "outputs": [],
      "source": [
        "# # Las similitudes entre la película \"Wolf of Wall Street, The (2013)\" y el resto de películas\n",
        "# similarity_scores.head()"
      ]
    },
    {
      "cell_type": "code",
      "execution_count": 47,
      "metadata": {
        "id": "M_tzyvlwY587"
      },
      "outputs": [],
      "source": [
        "# similarity_scores.shape"
      ]
    },
    {
      "cell_type": "markdown",
      "metadata": {},
      "source": [
        "###  Ordena los índices de las películas en función de sus puntajes de similitud, de mayor a menor."
      ]
    },
    {
      "cell_type": "code",
      "execution_count": 48,
      "metadata": {
        "id": "-Iq1QnSTY588"
      },
      "outputs": [],
      "source": [
        "# movie_indices_sort = similarity_scores.sort_values(\"score\", ascending=False).index"
      ]
    },
    {
      "cell_type": "code",
      "execution_count": 49,
      "metadata": {
        "id": "rdN7VikYY589"
      },
      "outputs": [],
      "source": [
        "# import pandas as pd\n",
        "\n",
        "# # Supongamos que tu DataFrame se llama df y la Serie de índices es index_series\n",
        "# # index_series = Int64Index([9859, 3228, 1656, 8951, 6811, 998, 5030, 6972, 8591, 4820, ...])\n",
        "\n",
        "# # Paso 1\n",
        "# duplicated_titles = df.loc[movie_indices_sort, 'title'].duplicated(keep='first')\n",
        "\n",
        "# # Paso 2\n",
        "# indices_sin_duplicados = movie_indices_sort[~duplicated_titles]\n",
        "\n",
        "# # Paso 3\n",
        "# filas_sin_duplicados = df.loc[indices_sin_duplicados]\n",
        "\n",
        "# # Ahora filas_sin_duplicados contiene las filas correspondientes a los índices\n",
        "# # en index_series, eliminando las filas con títulos duplicados, manteniendo la primera ocurrencia.\n",
        "\n",
        "# # Supongamos que el string que deseas excluir es 'The Promise'\n",
        "# string_a_excluir = movie_title\n",
        "\n",
        "# # Filtrar las filas que no contienen el string a excluir en la columna 'title'\n",
        "# filas_sin_duplicados_y_exclusion = df.loc[indices_sin_duplicados]\n",
        "# filas_sin_duplicados_y_exclusion = filas_sin_duplicados_y_exclusion[filas_sin_duplicados_y_exclusion['title'] != string_a_excluir]"
      ]
    },
    {
      "cell_type": "code",
      "execution_count": 50,
      "metadata": {
        "id": "pGu5TAozY58-"
      },
      "outputs": [],
      "source": [
        "# # Supongamos que el string que deseas excluir es 'The Promise'\n",
        "# string_a_excluir = 'Wolf of Wall Street, The (2013)'\n",
        "\n",
        "# # Filtrar las filas que no contienen el string a excluir en la columna 'title'\n",
        "# filas_sin_duplicados_y_exclusion = df.loc[indices_sin_duplicados]\n",
        "# filas_sin_duplicados_y_exclusion = filas_sin_duplicados_y_exclusion[filas_sin_duplicados_y_exclusion['title'] != string_a_excluir]\n"
      ]
    },
    {
      "cell_type": "code",
      "execution_count": 51,
      "metadata": {
        "id": "0u1aw_4JY58_"
      },
      "outputs": [],
      "source": [
        "# filas_sin_duplicados_y_exclusion.head()"
      ]
    },
    {
      "cell_type": "code",
      "execution_count": 52,
      "metadata": {
        "execution": {
          "iopub.execute_input": "2023-06-23T12:16:12.297319Z",
          "iopub.status.busy": "2023-06-23T12:16:12.296978Z",
          "iopub.status.idle": "2023-06-23T12:16:12.309556Z",
          "shell.execute_reply": "2023-06-23T12:16:12.308788Z",
          "shell.execute_reply.started": "2023-06-23T12:16:12.29729Z"
        },
        "id": "TAKe1pd8Y59A",
        "trusted": true
      },
      "outputs": [],
      "source": [
        "# Vamos a listar las puntuaciones de similitud de la película 'Sherlock Holmes' en orden descendente. Empieza por 1 porque es la primera película.\n",
        "# movie_indices = similarity_scores.sort_values(\"score\", ascending=False)[1:11].index"
      ]
    },
    {
      "cell_type": "code",
      "execution_count": 53,
      "metadata": {
        "execution": {
          "iopub.execute_input": "2023-06-23T12:16:12.311227Z",
          "iopub.status.busy": "2023-06-23T12:16:12.310766Z",
          "iopub.status.idle": "2023-06-23T12:16:12.319044Z",
          "shell.execute_reply": "2023-06-23T12:16:12.318057Z",
          "shell.execute_reply.started": "2023-06-23T12:16:12.3112Z"
        },
        "id": "lML4C2Q_Y59B",
        "trusted": true
      },
      "outputs": [],
      "source": [
        "# Go to the indexes we selected in our first data set\n",
        "# df['title'].iloc[movie_indices]"
      ]
    },
    {
      "cell_type": "code",
      "execution_count": 60,
      "metadata": {
        "execution": {
          "iopub.execute_input": "2023-06-23T12:16:12.461523Z",
          "iopub.status.busy": "2023-06-23T12:16:12.461052Z",
          "iopub.status.idle": "2023-06-23T12:16:12.467372Z",
          "shell.execute_reply": "2023-06-23T12:16:12.466238Z",
          "shell.execute_reply.started": "2023-06-23T12:16:12.461496Z"
        },
        "id": "Aub6OmmdY59H",
        "trusted": true
      },
      "outputs": [],
      "source": [
        "# def calculate_cosine_sim(dataframe):\n",
        "#     tfidf = TfidfVectorizer(stop_words='english')\n",
        "#     dataframe['bag_of_words'] = dataframe['bag_of_words'].fillna('')\n",
        "#     tfidf_matrix = tfidf.fit_transform(dataframe['bag_of_words'])\n",
        "#     cosine_sim = cosine_similarity(tfidf_matrix, tfidf_matrix)\n",
        "#     return cosine_sim"
      ]
    },
    {
      "cell_type": "code",
      "execution_count": 61,
      "metadata": {
        "execution": {
          "iopub.execute_input": "2023-06-23T12:16:12.469016Z",
          "iopub.status.busy": "2023-06-23T12:16:12.468729Z",
          "iopub.status.idle": "2023-06-23T12:16:12.478373Z",
          "shell.execute_reply": "2023-06-23T12:16:12.477458Z",
          "shell.execute_reply.started": "2023-06-23T12:16:12.468991Z"
        },
        "id": "tQYzmtzlY59I",
        "trusted": true
      },
      "outputs": [],
      "source": [
        "# cosine_sim = calculate_cosine_sim(df)\n",
        "# content_based_recommender('Pulp Fiction (1994)', cosine_sim, df)"
      ]
    }
  ],
  "metadata": {
    "accelerator": "GPU",
    "colab": {
      "gpuType": "T4",
      "include_colab_link": true,
      "provenance": []
    },
    "kaggle": {
      "accelerator": "none",
      "dataSources": [
        {
          "datasetId": 3405,
          "sourceId": 6663,
          "sourceType": "datasetVersion"
        }
      ],
      "dockerImageVersionId": 30513,
      "isGpuEnabled": false,
      "isInternetEnabled": true,
      "language": "python",
      "sourceType": "notebook"
    },
    "kernelspec": {
      "display_name": "Python 3",
      "name": "python3"
    },
    "language_info": {
      "codemirror_mode": {
        "name": "ipython",
        "version": 3
      },
      "file_extension": ".py",
      "mimetype": "text/x-python",
      "name": "python",
      "nbconvert_exporter": "python",
      "pygments_lexer": "ipython3",
      "version": "3.10.9"
    }
  },
  "nbformat": 4,
  "nbformat_minor": 0
}
