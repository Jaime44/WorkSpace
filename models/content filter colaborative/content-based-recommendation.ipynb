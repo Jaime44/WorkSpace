{
  "cells": [
    {
      "cell_type": "markdown",
      "metadata": {
        "id": "view-in-github",
        "colab_type": "text"
      },
      "source": [
        "<a href=\"https://colab.research.google.com/github/Jaime44/WorkSpace/blob/main/models/content%20filter%20colaborative/content-based-recommendation.ipynb\" target=\"_parent\"><img src=\"https://colab.research.google.com/assets/colab-badge.svg\" alt=\"Open In Colab\"/></a>"
      ]
    },
    {
      "cell_type": "markdown",
      "metadata": {
        "id": "dybTbwXBY57O"
      },
      "source": [
        "https://www.kaggle.com/code/mehmetisik/content-based-recommendation"
      ]
    },
    {
      "cell_type": "code",
      "source": [
        "path_models_colab = 'Models/content filter colaborative'"
      ],
      "metadata": {
        "id": "tCOxuXiLcQU5"
      },
      "execution_count": 1,
      "outputs": []
    },
    {
      "cell_type": "code",
      "execution_count": 2,
      "metadata": {
        "colab": {
          "base_uri": "https://localhost:8080/"
        },
        "id": "w-B-myYOY57X",
        "outputId": "337b845f-7f06-48f2-be2c-80525dd5001a"
      },
      "outputs": [
        {
          "output_type": "stream",
          "name": "stdout",
          "text": [
            "El código se está ejecutando en Google Colab.\n",
            "Mounted at /content/drive\n",
            "Contenido de la carpeta en Google Drive:\n",
            "['datasets', 'CF_The_age_of_recommeder_System_Original.ipynb', 'Content-Based_and_Tensorflow_Recommender_System_Original.ipynb', 'CF_The_age_of_recommeder_System.ipynb', 'Content-Based_and_Tensorflow_Recommender_System.ipynb', 'content-based-recommendation_Original.ipynb', 'content-based-recommendation.ipynb', 'movie-recommendation-system.ipynb']\n"
          ]
        }
      ],
      "source": [
        "import os\n",
        "# Comprueba si el código se está ejecutando en Google Colab\n",
        "try:\n",
        "    import google.colab\n",
        "    IN_COLAB = True\n",
        "except:\n",
        "    IN_COLAB = False\n",
        "\n",
        "path_absolute = ''\n",
        "if IN_COLAB:\n",
        "    print(\"El código se está ejecutando en Google Colab.\")\n",
        "    from google.colab import drive\n",
        "\n",
        "    drive.mount('/content/drive')\n",
        "    path_absolute = '/content/drive/Othercomputers/Mi_portátil/TFM/WorkSpace/'+path_models_colab\n",
        "\n",
        "    # Cambia al directorio de tu carpeta en Google Drive\n",
        "    os.chdir(path_absolute)\n",
        "\n",
        "    # Lista los archivos y carpetas en el directorio actual\n",
        "    contenido_carpeta = os.listdir(path_absolute)\n",
        "    print(\"Contenido de la carpeta en Google Drive:\")\n",
        "    print(contenido_carpeta)\n",
        "else:\n",
        "    print(\"El código se está ejecutando en un entorno local.\")\n",
        "    path_absolute = os.getcwd().replace(\"\\\\\", \"/\")\n",
        "\n",
        "datasets_path = \"/datasets/\"\n",
        "path_absolute = path_absolute+datasets_path"
      ]
    },
    {
      "cell_type": "markdown",
      "metadata": {
        "id": "hzAAprzVY57e"
      },
      "source": [
        "![CBR](https://miro.medium.com/v2/resize:fit:1400/1*H_MMnrpLQrqTSJHdDOCMoA.png)"
      ]
    },
    {
      "cell_type": "markdown",
      "metadata": {
        "id": "wB0JtdB6Y57g"
      },
      "source": [
        "# What is Content Based Recommendation\n",
        "\n",
        "Content-based recommendation, also known as content-based filtering, is a type of system or algorithm that provides recommendations to a user based on their interests and preferences. Those with such recommendation systems analyze the user's past preferences and likes, and suggest new items based on similar content.\n",
        "\n",
        "Content-based recommendation analyzes the content of items and determines the ones that are suitable for the user based on similarity criteria. For example, when making a movie recommendation, the system can take into account the genres, actors, directors, and other features of the movies the user has liked or watched. Based on this information, the system suggests other movies with similar characteristics.\n",
        "\n",
        "This recommendation system can utilize text analysis, tagging, categorization, or other content features along with the user profile or history to better understand the user's preferences. For instance, when making a music recommendation, the system can analyze features such as genres, instruments, tempo, and rhythm.\n",
        "\n",
        "Content-based recommendation systems can be effective in providing personalized recommendations based on user preferences. The recommended items based on the user's past data can capture their interest and provide a better user experience."
      ]
    },
    {
      "cell_type": "markdown",
      "metadata": {
        "id": "GhklwKDvY57h"
      },
      "source": [
        "# Business Problem\n",
        "To recommend movies similar to the movies that a person who comes to our site to watch movies."
      ]
    },
    {
      "cell_type": "markdown",
      "metadata": {
        "id": "O2teCVo9Y57i"
      },
      "source": [
        "# Road Map\n",
        "\n",
        "- 1. Creating the **TF-IDF Matrix**\n",
        "- 2. Creation of **Cosine Similarity Matrix**\n",
        "- 3. Making Recommendations Based on Similarities\n",
        "- 4. Preparation of the Study Script\n"
      ]
    },
    {
      "cell_type": "code",
      "execution_count": 3,
      "metadata": {
        "execution": {
          "iopub.execute_input": "2023-06-23T12:15:16.51868Z",
          "iopub.status.busy": "2023-06-23T12:15:16.517679Z",
          "iopub.status.idle": "2023-06-23T12:15:18.034241Z",
          "shell.execute_reply": "2023-06-23T12:15:18.033169Z",
          "shell.execute_reply.started": "2023-06-23T12:15:16.51863Z"
        },
        "trusted": true,
        "id": "qfZBn1uiY57j"
      },
      "outputs": [],
      "source": [
        "# import Required Libraries\n",
        "\n",
        "import pandas as pd\n",
        "import numpy as np\n",
        "\n",
        "from sklearn.feature_extraction.text import TfidfVectorizer\n",
        "from sklearn.metrics.pairwise import cosine_similarity"
      ]
    },
    {
      "cell_type": "code",
      "execution_count": 4,
      "metadata": {
        "execution": {
          "iopub.execute_input": "2023-06-23T12:15:18.037956Z",
          "iopub.status.busy": "2023-06-23T12:15:18.037266Z",
          "iopub.status.idle": "2023-06-23T12:15:18.043883Z",
          "shell.execute_reply": "2023-06-23T12:15:18.043081Z",
          "shell.execute_reply.started": "2023-06-23T12:15:18.037916Z"
        },
        "trusted": true,
        "id": "4lCXF3o1Y57k"
      },
      "outputs": [],
      "source": [
        "# Adjusting Row Column Settings\n",
        "\n",
        "pd.set_option('display.max_columns', None)\n",
        "pd.set_option('display.max_rows', None)\n",
        "pd.set_option('display.width', 500)\n",
        "pd.set_option('display.expand_frame_repr', False)"
      ]
    },
    {
      "cell_type": "code",
      "execution_count": 5,
      "metadata": {
        "execution": {
          "iopub.execute_input": "2023-06-23T12:15:18.045953Z",
          "iopub.status.busy": "2023-06-23T12:15:18.045301Z",
          "iopub.status.idle": "2023-06-23T12:15:19.560512Z",
          "shell.execute_reply": "2023-06-23T12:15:19.559651Z",
          "shell.execute_reply.started": "2023-06-23T12:15:18.045916Z"
        },
        "trusted": true,
        "id": "RsucihNcY57l"
      },
      "outputs": [],
      "source": [
        "# Loading the Data Set\n",
        "# df = pd.read_csv(path_absolute+\"movies_metadata.csv\")\n"
      ]
    },
    {
      "cell_type": "code",
      "execution_count": 6,
      "metadata": {
        "id": "G4PWgF_UY57m"
      },
      "outputs": [],
      "source": [
        "df = pd.read_csv(path_absolute+\"df_mezclado_tags_ratings_movies_links_genTags.csv\")"
      ]
    },
    {
      "cell_type": "code",
      "execution_count": 7,
      "metadata": {
        "id": "lnyuOZ8oY57o"
      },
      "outputs": [],
      "source": [
        "tamano_muestra = 35000\n",
        "df = df.sample(n=tamano_muestra, random_state=42)"
      ]
    },
    {
      "cell_type": "code",
      "execution_count": 8,
      "metadata": {
        "colab": {
          "base_uri": "https://localhost:8080/",
          "height": 330
        },
        "id": "EDsc-n3mY57p",
        "outputId": "5bbb5315-bb50-46e6-ce13-d8cc28abac87"
      },
      "outputs": [
        {
          "output_type": "execute_result",
          "data": {
            "text/plain": [
              "         userId  movieId  rating  timestamp_valoraciones tag_df_mezclado_tags_ratings_movies_links_genMov  timestamp_etiquetas                         title                         genres  imdbId  tmdbId  tagId  relevance tag_etiquetas_genómicas\n",
              "1561133   60101     2571     5.0              1053445162                                         dystopia           1244667471            Matrix, The (1999)         Action|Sci-Fi|Thriller  133093   603.0    512    0.12625                  hitman\n",
              "1499330   42923     1228     4.0              1330057917                                          classic           1330057913            Raging Bull (1980)                          Drama   81398  1578.0    710    0.60700               nocturnal\n",
              "1048680    7620    34532     5.0              1144937579                                           Magick           1144937622      Skeleton Key, The (2005)  Drama|Horror|Mystery|Thriller  397101  9913.0   1047    0.05750              true story\n",
              "1703441   62199     5636     3.0              1199318408                                    Anthony Russo           1328741490  Welcome to Collinwood (2002)                   Comedy|Crime  271259  9260.0     27    0.05325                adoption\n",
              "5648649   29801     6250     2.0              1476349149                                     Stephen King           1476349186           Dreamcatcher (2003)   Drama|Horror|Sci-Fi|Thriller  285531  6171.0    276    0.36500               cult film"
            ],
            "text/html": [
              "\n",
              "  <div id=\"df-761161cf-f734-4a69-9044-c4c5433772ab\" class=\"colab-df-container\">\n",
              "    <div>\n",
              "<style scoped>\n",
              "    .dataframe tbody tr th:only-of-type {\n",
              "        vertical-align: middle;\n",
              "    }\n",
              "\n",
              "    .dataframe tbody tr th {\n",
              "        vertical-align: top;\n",
              "    }\n",
              "\n",
              "    .dataframe thead th {\n",
              "        text-align: right;\n",
              "    }\n",
              "</style>\n",
              "<table border=\"1\" class=\"dataframe\">\n",
              "  <thead>\n",
              "    <tr style=\"text-align: right;\">\n",
              "      <th></th>\n",
              "      <th>userId</th>\n",
              "      <th>movieId</th>\n",
              "      <th>rating</th>\n",
              "      <th>timestamp_valoraciones</th>\n",
              "      <th>tag_df_mezclado_tags_ratings_movies_links_genMov</th>\n",
              "      <th>timestamp_etiquetas</th>\n",
              "      <th>title</th>\n",
              "      <th>genres</th>\n",
              "      <th>imdbId</th>\n",
              "      <th>tmdbId</th>\n",
              "      <th>tagId</th>\n",
              "      <th>relevance</th>\n",
              "      <th>tag_etiquetas_genómicas</th>\n",
              "    </tr>\n",
              "  </thead>\n",
              "  <tbody>\n",
              "    <tr>\n",
              "      <th>1561133</th>\n",
              "      <td>60101</td>\n",
              "      <td>2571</td>\n",
              "      <td>5.0</td>\n",
              "      <td>1053445162</td>\n",
              "      <td>dystopia</td>\n",
              "      <td>1244667471</td>\n",
              "      <td>Matrix, The (1999)</td>\n",
              "      <td>Action|Sci-Fi|Thriller</td>\n",
              "      <td>133093</td>\n",
              "      <td>603.0</td>\n",
              "      <td>512</td>\n",
              "      <td>0.12625</td>\n",
              "      <td>hitman</td>\n",
              "    </tr>\n",
              "    <tr>\n",
              "      <th>1499330</th>\n",
              "      <td>42923</td>\n",
              "      <td>1228</td>\n",
              "      <td>4.0</td>\n",
              "      <td>1330057917</td>\n",
              "      <td>classic</td>\n",
              "      <td>1330057913</td>\n",
              "      <td>Raging Bull (1980)</td>\n",
              "      <td>Drama</td>\n",
              "      <td>81398</td>\n",
              "      <td>1578.0</td>\n",
              "      <td>710</td>\n",
              "      <td>0.60700</td>\n",
              "      <td>nocturnal</td>\n",
              "    </tr>\n",
              "    <tr>\n",
              "      <th>1048680</th>\n",
              "      <td>7620</td>\n",
              "      <td>34532</td>\n",
              "      <td>5.0</td>\n",
              "      <td>1144937579</td>\n",
              "      <td>Magick</td>\n",
              "      <td>1144937622</td>\n",
              "      <td>Skeleton Key, The (2005)</td>\n",
              "      <td>Drama|Horror|Mystery|Thriller</td>\n",
              "      <td>397101</td>\n",
              "      <td>9913.0</td>\n",
              "      <td>1047</td>\n",
              "      <td>0.05750</td>\n",
              "      <td>true story</td>\n",
              "    </tr>\n",
              "    <tr>\n",
              "      <th>1703441</th>\n",
              "      <td>62199</td>\n",
              "      <td>5636</td>\n",
              "      <td>3.0</td>\n",
              "      <td>1199318408</td>\n",
              "      <td>Anthony Russo</td>\n",
              "      <td>1328741490</td>\n",
              "      <td>Welcome to Collinwood (2002)</td>\n",
              "      <td>Comedy|Crime</td>\n",
              "      <td>271259</td>\n",
              "      <td>9260.0</td>\n",
              "      <td>27</td>\n",
              "      <td>0.05325</td>\n",
              "      <td>adoption</td>\n",
              "    </tr>\n",
              "    <tr>\n",
              "      <th>5648649</th>\n",
              "      <td>29801</td>\n",
              "      <td>6250</td>\n",
              "      <td>2.0</td>\n",
              "      <td>1476349149</td>\n",
              "      <td>Stephen King</td>\n",
              "      <td>1476349186</td>\n",
              "      <td>Dreamcatcher (2003)</td>\n",
              "      <td>Drama|Horror|Sci-Fi|Thriller</td>\n",
              "      <td>285531</td>\n",
              "      <td>6171.0</td>\n",
              "      <td>276</td>\n",
              "      <td>0.36500</td>\n",
              "      <td>cult film</td>\n",
              "    </tr>\n",
              "  </tbody>\n",
              "</table>\n",
              "</div>\n",
              "    <div class=\"colab-df-buttons\">\n",
              "\n",
              "  <div class=\"colab-df-container\">\n",
              "    <button class=\"colab-df-convert\" onclick=\"convertToInteractive('df-761161cf-f734-4a69-9044-c4c5433772ab')\"\n",
              "            title=\"Convert this dataframe to an interactive table.\"\n",
              "            style=\"display:none;\">\n",
              "\n",
              "  <svg xmlns=\"http://www.w3.org/2000/svg\" height=\"24px\" viewBox=\"0 -960 960 960\">\n",
              "    <path d=\"M120-120v-720h720v720H120Zm60-500h600v-160H180v160Zm220 220h160v-160H400v160Zm0 220h160v-160H400v160ZM180-400h160v-160H180v160Zm440 0h160v-160H620v160ZM180-180h160v-160H180v160Zm440 0h160v-160H620v160Z\"/>\n",
              "  </svg>\n",
              "    </button>\n",
              "\n",
              "  <style>\n",
              "    .colab-df-container {\n",
              "      display:flex;\n",
              "      gap: 12px;\n",
              "    }\n",
              "\n",
              "    .colab-df-convert {\n",
              "      background-color: #E8F0FE;\n",
              "      border: none;\n",
              "      border-radius: 50%;\n",
              "      cursor: pointer;\n",
              "      display: none;\n",
              "      fill: #1967D2;\n",
              "      height: 32px;\n",
              "      padding: 0 0 0 0;\n",
              "      width: 32px;\n",
              "    }\n",
              "\n",
              "    .colab-df-convert:hover {\n",
              "      background-color: #E2EBFA;\n",
              "      box-shadow: 0px 1px 2px rgba(60, 64, 67, 0.3), 0px 1px 3px 1px rgba(60, 64, 67, 0.15);\n",
              "      fill: #174EA6;\n",
              "    }\n",
              "\n",
              "    .colab-df-buttons div {\n",
              "      margin-bottom: 4px;\n",
              "    }\n",
              "\n",
              "    [theme=dark] .colab-df-convert {\n",
              "      background-color: #3B4455;\n",
              "      fill: #D2E3FC;\n",
              "    }\n",
              "\n",
              "    [theme=dark] .colab-df-convert:hover {\n",
              "      background-color: #434B5C;\n",
              "      box-shadow: 0px 1px 3px 1px rgba(0, 0, 0, 0.15);\n",
              "      filter: drop-shadow(0px 1px 2px rgba(0, 0, 0, 0.3));\n",
              "      fill: #FFFFFF;\n",
              "    }\n",
              "  </style>\n",
              "\n",
              "    <script>\n",
              "      const buttonEl =\n",
              "        document.querySelector('#df-761161cf-f734-4a69-9044-c4c5433772ab button.colab-df-convert');\n",
              "      buttonEl.style.display =\n",
              "        google.colab.kernel.accessAllowed ? 'block' : 'none';\n",
              "\n",
              "      async function convertToInteractive(key) {\n",
              "        const element = document.querySelector('#df-761161cf-f734-4a69-9044-c4c5433772ab');\n",
              "        const dataTable =\n",
              "          await google.colab.kernel.invokeFunction('convertToInteractive',\n",
              "                                                    [key], {});\n",
              "        if (!dataTable) return;\n",
              "\n",
              "        const docLinkHtml = 'Like what you see? Visit the ' +\n",
              "          '<a target=\"_blank\" href=https://colab.research.google.com/notebooks/data_table.ipynb>data table notebook</a>'\n",
              "          + ' to learn more about interactive tables.';\n",
              "        element.innerHTML = '';\n",
              "        dataTable['output_type'] = 'display_data';\n",
              "        await google.colab.output.renderOutput(dataTable, element);\n",
              "        const docLink = document.createElement('div');\n",
              "        docLink.innerHTML = docLinkHtml;\n",
              "        element.appendChild(docLink);\n",
              "      }\n",
              "    </script>\n",
              "  </div>\n",
              "\n",
              "\n",
              "<div id=\"df-b6b61179-a84e-445e-9cd6-0769a868e945\">\n",
              "  <button class=\"colab-df-quickchart\" onclick=\"quickchart('df-b6b61179-a84e-445e-9cd6-0769a868e945')\"\n",
              "            title=\"Suggest charts\"\n",
              "            style=\"display:none;\">\n",
              "\n",
              "<svg xmlns=\"http://www.w3.org/2000/svg\" height=\"24px\"viewBox=\"0 0 24 24\"\n",
              "     width=\"24px\">\n",
              "    <g>\n",
              "        <path d=\"M19 3H5c-1.1 0-2 .9-2 2v14c0 1.1.9 2 2 2h14c1.1 0 2-.9 2-2V5c0-1.1-.9-2-2-2zM9 17H7v-7h2v7zm4 0h-2V7h2v10zm4 0h-2v-4h2v4z\"/>\n",
              "    </g>\n",
              "</svg>\n",
              "  </button>\n",
              "\n",
              "<style>\n",
              "  .colab-df-quickchart {\n",
              "      --bg-color: #E8F0FE;\n",
              "      --fill-color: #1967D2;\n",
              "      --hover-bg-color: #E2EBFA;\n",
              "      --hover-fill-color: #174EA6;\n",
              "      --disabled-fill-color: #AAA;\n",
              "      --disabled-bg-color: #DDD;\n",
              "  }\n",
              "\n",
              "  [theme=dark] .colab-df-quickchart {\n",
              "      --bg-color: #3B4455;\n",
              "      --fill-color: #D2E3FC;\n",
              "      --hover-bg-color: #434B5C;\n",
              "      --hover-fill-color: #FFFFFF;\n",
              "      --disabled-bg-color: #3B4455;\n",
              "      --disabled-fill-color: #666;\n",
              "  }\n",
              "\n",
              "  .colab-df-quickchart {\n",
              "    background-color: var(--bg-color);\n",
              "    border: none;\n",
              "    border-radius: 50%;\n",
              "    cursor: pointer;\n",
              "    display: none;\n",
              "    fill: var(--fill-color);\n",
              "    height: 32px;\n",
              "    padding: 0;\n",
              "    width: 32px;\n",
              "  }\n",
              "\n",
              "  .colab-df-quickchart:hover {\n",
              "    background-color: var(--hover-bg-color);\n",
              "    box-shadow: 0 1px 2px rgba(60, 64, 67, 0.3), 0 1px 3px 1px rgba(60, 64, 67, 0.15);\n",
              "    fill: var(--button-hover-fill-color);\n",
              "  }\n",
              "\n",
              "  .colab-df-quickchart-complete:disabled,\n",
              "  .colab-df-quickchart-complete:disabled:hover {\n",
              "    background-color: var(--disabled-bg-color);\n",
              "    fill: var(--disabled-fill-color);\n",
              "    box-shadow: none;\n",
              "  }\n",
              "\n",
              "  .colab-df-spinner {\n",
              "    border: 2px solid var(--fill-color);\n",
              "    border-color: transparent;\n",
              "    border-bottom-color: var(--fill-color);\n",
              "    animation:\n",
              "      spin 1s steps(1) infinite;\n",
              "  }\n",
              "\n",
              "  @keyframes spin {\n",
              "    0% {\n",
              "      border-color: transparent;\n",
              "      border-bottom-color: var(--fill-color);\n",
              "      border-left-color: var(--fill-color);\n",
              "    }\n",
              "    20% {\n",
              "      border-color: transparent;\n",
              "      border-left-color: var(--fill-color);\n",
              "      border-top-color: var(--fill-color);\n",
              "    }\n",
              "    30% {\n",
              "      border-color: transparent;\n",
              "      border-left-color: var(--fill-color);\n",
              "      border-top-color: var(--fill-color);\n",
              "      border-right-color: var(--fill-color);\n",
              "    }\n",
              "    40% {\n",
              "      border-color: transparent;\n",
              "      border-right-color: var(--fill-color);\n",
              "      border-top-color: var(--fill-color);\n",
              "    }\n",
              "    60% {\n",
              "      border-color: transparent;\n",
              "      border-right-color: var(--fill-color);\n",
              "    }\n",
              "    80% {\n",
              "      border-color: transparent;\n",
              "      border-right-color: var(--fill-color);\n",
              "      border-bottom-color: var(--fill-color);\n",
              "    }\n",
              "    90% {\n",
              "      border-color: transparent;\n",
              "      border-bottom-color: var(--fill-color);\n",
              "    }\n",
              "  }\n",
              "</style>\n",
              "\n",
              "  <script>\n",
              "    async function quickchart(key) {\n",
              "      const quickchartButtonEl =\n",
              "        document.querySelector('#' + key + ' button');\n",
              "      quickchartButtonEl.disabled = true;  // To prevent multiple clicks.\n",
              "      quickchartButtonEl.classList.add('colab-df-spinner');\n",
              "      try {\n",
              "        const charts = await google.colab.kernel.invokeFunction(\n",
              "            'suggestCharts', [key], {});\n",
              "      } catch (error) {\n",
              "        console.error('Error during call to suggestCharts:', error);\n",
              "      }\n",
              "      quickchartButtonEl.classList.remove('colab-df-spinner');\n",
              "      quickchartButtonEl.classList.add('colab-df-quickchart-complete');\n",
              "    }\n",
              "    (() => {\n",
              "      let quickchartButtonEl =\n",
              "        document.querySelector('#df-b6b61179-a84e-445e-9cd6-0769a868e945 button');\n",
              "      quickchartButtonEl.style.display =\n",
              "        google.colab.kernel.accessAllowed ? 'block' : 'none';\n",
              "    })();\n",
              "  </script>\n",
              "</div>\n",
              "    </div>\n",
              "  </div>\n"
            ]
          },
          "metadata": {},
          "execution_count": 8
        }
      ],
      "source": [
        "df.head()"
      ]
    },
    {
      "cell_type": "code",
      "execution_count": 9,
      "metadata": {
        "id": "XVK66gi9Y57q"
      },
      "outputs": [],
      "source": [
        "# Eliminar las columnas imdbId y tmdbId\n",
        "# Renombrar las columnas tal que: 'timestamp_valoraciones': 'timestamp_scr' y 'timestamp_etiquetas': 'timestamp_tags'\n",
        "#Mover las columnas de rating y relevance al final y la de tag_etiquetas_genómicas despues de tag_df_mezclado...\n",
        "\n",
        "# Inserta la columna 'rating' en la última posición del DataFrame\n",
        "df.insert(len(df.columns)-1, 'rating', df.pop('rating'))\n",
        "df.insert(len(df.columns)-2, 'relevance', df.pop('relevance'))\n",
        "df.insert(5, 'tag_etiquetas_genómicas', df.pop('tag_etiquetas_genómicas'))\n",
        "\n",
        "df.rename(columns={'timestamp_valoraciones': 'timestamp_rt', 'timestamp_etiquetas': 'timestamp_tags', 'tag_df_mezclado_tags_ratings_movies_links_genMov': 'tag_by_user', 'tag_etiquetas_genómicas': 'gen_tag'}, inplace=True)\n",
        "\n",
        "columnas_a_eliminar = ['imdbId', 'tmdbId']\n",
        "# Elimina las columnas especificadas del DataFrame 'data'\n",
        "df = df.drop(columnas_a_eliminar, axis=1)"
      ]
    },
    {
      "cell_type": "code",
      "execution_count": 10,
      "metadata": {
        "colab": {
          "base_uri": "https://localhost:8080/",
          "height": 206
        },
        "id": "bV3Pv5fIY57r",
        "outputId": "a3f0d276-85b2-4528-da52-7cd121b06dc5"
      },
      "outputs": [
        {
          "output_type": "execute_result",
          "data": {
            "text/plain": [
              "         userId  movieId  timestamp_rt    tag_by_user  timestamp_tags     gen_tag                         title                         genres  tagId  relevance  rating\n",
              "1561133   60101     2571    1053445162       dystopia      1244667471      hitman            Matrix, The (1999)         Action|Sci-Fi|Thriller    512    0.12625     5.0\n",
              "1499330   42923     1228    1330057917        classic      1330057913   nocturnal            Raging Bull (1980)                          Drama    710    0.60700     4.0\n",
              "1048680    7620    34532    1144937579         Magick      1144937622  true story      Skeleton Key, The (2005)  Drama|Horror|Mystery|Thriller   1047    0.05750     5.0\n",
              "1703441   62199     5636    1199318408  Anthony Russo      1328741490    adoption  Welcome to Collinwood (2002)                   Comedy|Crime     27    0.05325     3.0\n",
              "5648649   29801     6250    1476349149   Stephen King      1476349186   cult film           Dreamcatcher (2003)   Drama|Horror|Sci-Fi|Thriller    276    0.36500     2.0"
            ],
            "text/html": [
              "\n",
              "  <div id=\"df-08809185-e199-41af-90ea-167490dca9f6\" class=\"colab-df-container\">\n",
              "    <div>\n",
              "<style scoped>\n",
              "    .dataframe tbody tr th:only-of-type {\n",
              "        vertical-align: middle;\n",
              "    }\n",
              "\n",
              "    .dataframe tbody tr th {\n",
              "        vertical-align: top;\n",
              "    }\n",
              "\n",
              "    .dataframe thead th {\n",
              "        text-align: right;\n",
              "    }\n",
              "</style>\n",
              "<table border=\"1\" class=\"dataframe\">\n",
              "  <thead>\n",
              "    <tr style=\"text-align: right;\">\n",
              "      <th></th>\n",
              "      <th>userId</th>\n",
              "      <th>movieId</th>\n",
              "      <th>timestamp_rt</th>\n",
              "      <th>tag_by_user</th>\n",
              "      <th>timestamp_tags</th>\n",
              "      <th>gen_tag</th>\n",
              "      <th>title</th>\n",
              "      <th>genres</th>\n",
              "      <th>tagId</th>\n",
              "      <th>relevance</th>\n",
              "      <th>rating</th>\n",
              "    </tr>\n",
              "  </thead>\n",
              "  <tbody>\n",
              "    <tr>\n",
              "      <th>1561133</th>\n",
              "      <td>60101</td>\n",
              "      <td>2571</td>\n",
              "      <td>1053445162</td>\n",
              "      <td>dystopia</td>\n",
              "      <td>1244667471</td>\n",
              "      <td>hitman</td>\n",
              "      <td>Matrix, The (1999)</td>\n",
              "      <td>Action|Sci-Fi|Thriller</td>\n",
              "      <td>512</td>\n",
              "      <td>0.12625</td>\n",
              "      <td>5.0</td>\n",
              "    </tr>\n",
              "    <tr>\n",
              "      <th>1499330</th>\n",
              "      <td>42923</td>\n",
              "      <td>1228</td>\n",
              "      <td>1330057917</td>\n",
              "      <td>classic</td>\n",
              "      <td>1330057913</td>\n",
              "      <td>nocturnal</td>\n",
              "      <td>Raging Bull (1980)</td>\n",
              "      <td>Drama</td>\n",
              "      <td>710</td>\n",
              "      <td>0.60700</td>\n",
              "      <td>4.0</td>\n",
              "    </tr>\n",
              "    <tr>\n",
              "      <th>1048680</th>\n",
              "      <td>7620</td>\n",
              "      <td>34532</td>\n",
              "      <td>1144937579</td>\n",
              "      <td>Magick</td>\n",
              "      <td>1144937622</td>\n",
              "      <td>true story</td>\n",
              "      <td>Skeleton Key, The (2005)</td>\n",
              "      <td>Drama|Horror|Mystery|Thriller</td>\n",
              "      <td>1047</td>\n",
              "      <td>0.05750</td>\n",
              "      <td>5.0</td>\n",
              "    </tr>\n",
              "    <tr>\n",
              "      <th>1703441</th>\n",
              "      <td>62199</td>\n",
              "      <td>5636</td>\n",
              "      <td>1199318408</td>\n",
              "      <td>Anthony Russo</td>\n",
              "      <td>1328741490</td>\n",
              "      <td>adoption</td>\n",
              "      <td>Welcome to Collinwood (2002)</td>\n",
              "      <td>Comedy|Crime</td>\n",
              "      <td>27</td>\n",
              "      <td>0.05325</td>\n",
              "      <td>3.0</td>\n",
              "    </tr>\n",
              "    <tr>\n",
              "      <th>5648649</th>\n",
              "      <td>29801</td>\n",
              "      <td>6250</td>\n",
              "      <td>1476349149</td>\n",
              "      <td>Stephen King</td>\n",
              "      <td>1476349186</td>\n",
              "      <td>cult film</td>\n",
              "      <td>Dreamcatcher (2003)</td>\n",
              "      <td>Drama|Horror|Sci-Fi|Thriller</td>\n",
              "      <td>276</td>\n",
              "      <td>0.36500</td>\n",
              "      <td>2.0</td>\n",
              "    </tr>\n",
              "  </tbody>\n",
              "</table>\n",
              "</div>\n",
              "    <div class=\"colab-df-buttons\">\n",
              "\n",
              "  <div class=\"colab-df-container\">\n",
              "    <button class=\"colab-df-convert\" onclick=\"convertToInteractive('df-08809185-e199-41af-90ea-167490dca9f6')\"\n",
              "            title=\"Convert this dataframe to an interactive table.\"\n",
              "            style=\"display:none;\">\n",
              "\n",
              "  <svg xmlns=\"http://www.w3.org/2000/svg\" height=\"24px\" viewBox=\"0 -960 960 960\">\n",
              "    <path d=\"M120-120v-720h720v720H120Zm60-500h600v-160H180v160Zm220 220h160v-160H400v160Zm0 220h160v-160H400v160ZM180-400h160v-160H180v160Zm440 0h160v-160H620v160ZM180-180h160v-160H180v160Zm440 0h160v-160H620v160Z\"/>\n",
              "  </svg>\n",
              "    </button>\n",
              "\n",
              "  <style>\n",
              "    .colab-df-container {\n",
              "      display:flex;\n",
              "      gap: 12px;\n",
              "    }\n",
              "\n",
              "    .colab-df-convert {\n",
              "      background-color: #E8F0FE;\n",
              "      border: none;\n",
              "      border-radius: 50%;\n",
              "      cursor: pointer;\n",
              "      display: none;\n",
              "      fill: #1967D2;\n",
              "      height: 32px;\n",
              "      padding: 0 0 0 0;\n",
              "      width: 32px;\n",
              "    }\n",
              "\n",
              "    .colab-df-convert:hover {\n",
              "      background-color: #E2EBFA;\n",
              "      box-shadow: 0px 1px 2px rgba(60, 64, 67, 0.3), 0px 1px 3px 1px rgba(60, 64, 67, 0.15);\n",
              "      fill: #174EA6;\n",
              "    }\n",
              "\n",
              "    .colab-df-buttons div {\n",
              "      margin-bottom: 4px;\n",
              "    }\n",
              "\n",
              "    [theme=dark] .colab-df-convert {\n",
              "      background-color: #3B4455;\n",
              "      fill: #D2E3FC;\n",
              "    }\n",
              "\n",
              "    [theme=dark] .colab-df-convert:hover {\n",
              "      background-color: #434B5C;\n",
              "      box-shadow: 0px 1px 3px 1px rgba(0, 0, 0, 0.15);\n",
              "      filter: drop-shadow(0px 1px 2px rgba(0, 0, 0, 0.3));\n",
              "      fill: #FFFFFF;\n",
              "    }\n",
              "  </style>\n",
              "\n",
              "    <script>\n",
              "      const buttonEl =\n",
              "        document.querySelector('#df-08809185-e199-41af-90ea-167490dca9f6 button.colab-df-convert');\n",
              "      buttonEl.style.display =\n",
              "        google.colab.kernel.accessAllowed ? 'block' : 'none';\n",
              "\n",
              "      async function convertToInteractive(key) {\n",
              "        const element = document.querySelector('#df-08809185-e199-41af-90ea-167490dca9f6');\n",
              "        const dataTable =\n",
              "          await google.colab.kernel.invokeFunction('convertToInteractive',\n",
              "                                                    [key], {});\n",
              "        if (!dataTable) return;\n",
              "\n",
              "        const docLinkHtml = 'Like what you see? Visit the ' +\n",
              "          '<a target=\"_blank\" href=https://colab.research.google.com/notebooks/data_table.ipynb>data table notebook</a>'\n",
              "          + ' to learn more about interactive tables.';\n",
              "        element.innerHTML = '';\n",
              "        dataTable['output_type'] = 'display_data';\n",
              "        await google.colab.output.renderOutput(dataTable, element);\n",
              "        const docLink = document.createElement('div');\n",
              "        docLink.innerHTML = docLinkHtml;\n",
              "        element.appendChild(docLink);\n",
              "      }\n",
              "    </script>\n",
              "  </div>\n",
              "\n",
              "\n",
              "<div id=\"df-0772de35-08a1-43fe-9ac1-dba92c34005a\">\n",
              "  <button class=\"colab-df-quickchart\" onclick=\"quickchart('df-0772de35-08a1-43fe-9ac1-dba92c34005a')\"\n",
              "            title=\"Suggest charts\"\n",
              "            style=\"display:none;\">\n",
              "\n",
              "<svg xmlns=\"http://www.w3.org/2000/svg\" height=\"24px\"viewBox=\"0 0 24 24\"\n",
              "     width=\"24px\">\n",
              "    <g>\n",
              "        <path d=\"M19 3H5c-1.1 0-2 .9-2 2v14c0 1.1.9 2 2 2h14c1.1 0 2-.9 2-2V5c0-1.1-.9-2-2-2zM9 17H7v-7h2v7zm4 0h-2V7h2v10zm4 0h-2v-4h2v4z\"/>\n",
              "    </g>\n",
              "</svg>\n",
              "  </button>\n",
              "\n",
              "<style>\n",
              "  .colab-df-quickchart {\n",
              "      --bg-color: #E8F0FE;\n",
              "      --fill-color: #1967D2;\n",
              "      --hover-bg-color: #E2EBFA;\n",
              "      --hover-fill-color: #174EA6;\n",
              "      --disabled-fill-color: #AAA;\n",
              "      --disabled-bg-color: #DDD;\n",
              "  }\n",
              "\n",
              "  [theme=dark] .colab-df-quickchart {\n",
              "      --bg-color: #3B4455;\n",
              "      --fill-color: #D2E3FC;\n",
              "      --hover-bg-color: #434B5C;\n",
              "      --hover-fill-color: #FFFFFF;\n",
              "      --disabled-bg-color: #3B4455;\n",
              "      --disabled-fill-color: #666;\n",
              "  }\n",
              "\n",
              "  .colab-df-quickchart {\n",
              "    background-color: var(--bg-color);\n",
              "    border: none;\n",
              "    border-radius: 50%;\n",
              "    cursor: pointer;\n",
              "    display: none;\n",
              "    fill: var(--fill-color);\n",
              "    height: 32px;\n",
              "    padding: 0;\n",
              "    width: 32px;\n",
              "  }\n",
              "\n",
              "  .colab-df-quickchart:hover {\n",
              "    background-color: var(--hover-bg-color);\n",
              "    box-shadow: 0 1px 2px rgba(60, 64, 67, 0.3), 0 1px 3px 1px rgba(60, 64, 67, 0.15);\n",
              "    fill: var(--button-hover-fill-color);\n",
              "  }\n",
              "\n",
              "  .colab-df-quickchart-complete:disabled,\n",
              "  .colab-df-quickchart-complete:disabled:hover {\n",
              "    background-color: var(--disabled-bg-color);\n",
              "    fill: var(--disabled-fill-color);\n",
              "    box-shadow: none;\n",
              "  }\n",
              "\n",
              "  .colab-df-spinner {\n",
              "    border: 2px solid var(--fill-color);\n",
              "    border-color: transparent;\n",
              "    border-bottom-color: var(--fill-color);\n",
              "    animation:\n",
              "      spin 1s steps(1) infinite;\n",
              "  }\n",
              "\n",
              "  @keyframes spin {\n",
              "    0% {\n",
              "      border-color: transparent;\n",
              "      border-bottom-color: var(--fill-color);\n",
              "      border-left-color: var(--fill-color);\n",
              "    }\n",
              "    20% {\n",
              "      border-color: transparent;\n",
              "      border-left-color: var(--fill-color);\n",
              "      border-top-color: var(--fill-color);\n",
              "    }\n",
              "    30% {\n",
              "      border-color: transparent;\n",
              "      border-left-color: var(--fill-color);\n",
              "      border-top-color: var(--fill-color);\n",
              "      border-right-color: var(--fill-color);\n",
              "    }\n",
              "    40% {\n",
              "      border-color: transparent;\n",
              "      border-right-color: var(--fill-color);\n",
              "      border-top-color: var(--fill-color);\n",
              "    }\n",
              "    60% {\n",
              "      border-color: transparent;\n",
              "      border-right-color: var(--fill-color);\n",
              "    }\n",
              "    80% {\n",
              "      border-color: transparent;\n",
              "      border-right-color: var(--fill-color);\n",
              "      border-bottom-color: var(--fill-color);\n",
              "    }\n",
              "    90% {\n",
              "      border-color: transparent;\n",
              "      border-bottom-color: var(--fill-color);\n",
              "    }\n",
              "  }\n",
              "</style>\n",
              "\n",
              "  <script>\n",
              "    async function quickchart(key) {\n",
              "      const quickchartButtonEl =\n",
              "        document.querySelector('#' + key + ' button');\n",
              "      quickchartButtonEl.disabled = true;  // To prevent multiple clicks.\n",
              "      quickchartButtonEl.classList.add('colab-df-spinner');\n",
              "      try {\n",
              "        const charts = await google.colab.kernel.invokeFunction(\n",
              "            'suggestCharts', [key], {});\n",
              "      } catch (error) {\n",
              "        console.error('Error during call to suggestCharts:', error);\n",
              "      }\n",
              "      quickchartButtonEl.classList.remove('colab-df-spinner');\n",
              "      quickchartButtonEl.classList.add('colab-df-quickchart-complete');\n",
              "    }\n",
              "    (() => {\n",
              "      let quickchartButtonEl =\n",
              "        document.querySelector('#df-0772de35-08a1-43fe-9ac1-dba92c34005a button');\n",
              "      quickchartButtonEl.style.display =\n",
              "        google.colab.kernel.accessAllowed ? 'block' : 'none';\n",
              "    })();\n",
              "  </script>\n",
              "</div>\n",
              "    </div>\n",
              "  </div>\n"
            ]
          },
          "metadata": {},
          "execution_count": 10
        }
      ],
      "source": [
        "df.head()"
      ]
    },
    {
      "cell_type": "code",
      "execution_count": 11,
      "metadata": {
        "colab": {
          "base_uri": "https://localhost:8080/"
        },
        "id": "1lM65qPEY57s",
        "outputId": "f63124ef-b55b-4d00-9bf3-cbf3955806fe"
      },
      "outputs": [
        {
          "output_type": "execute_result",
          "data": {
            "text/plain": [
              "(35000, 11)"
            ]
          },
          "metadata": {},
          "execution_count": 11
        }
      ],
      "source": [
        "df.shape"
      ]
    },
    {
      "cell_type": "code",
      "execution_count": 12,
      "metadata": {
        "colab": {
          "base_uri": "https://localhost:8080/"
        },
        "id": "Sigx28qKY57t",
        "outputId": "fba8733e-6de5-44a1-f2a8-a64d4cf834d2"
      },
      "outputs": [
        {
          "output_type": "stream",
          "name": "stdout",
          "text": [
            "<class 'pandas.core.frame.DataFrame'>\n",
            "Int64Index: 35000 entries, 1561133 to 549885\n",
            "Data columns (total 11 columns):\n",
            " #   Column          Non-Null Count  Dtype  \n",
            "---  ------          --------------  -----  \n",
            " 0   userId          35000 non-null  int64  \n",
            " 1   movieId         35000 non-null  int64  \n",
            " 2   timestamp_rt    35000 non-null  int64  \n",
            " 3   tag_by_user     35000 non-null  object \n",
            " 4   timestamp_tags  35000 non-null  int64  \n",
            " 5   gen_tag         35000 non-null  object \n",
            " 6   title           35000 non-null  object \n",
            " 7   genres          35000 non-null  object \n",
            " 8   tagId           35000 non-null  int64  \n",
            " 9   relevance       35000 non-null  float64\n",
            " 10  rating          35000 non-null  float64\n",
            "dtypes: float64(2), int64(5), object(4)\n",
            "memory usage: 3.2+ MB\n"
          ]
        }
      ],
      "source": [
        "df.info()"
      ]
    },
    {
      "cell_type": "code",
      "execution_count": 13,
      "metadata": {
        "colab": {
          "base_uri": "https://localhost:8080/"
        },
        "id": "f2PG7oEoY57u",
        "outputId": "eeaa77eb-868b-4a16-d766-56083f94f89b"
      },
      "outputs": [
        {
          "output_type": "stream",
          "name": "stdout",
          "text": [
            "Valores nulos por columna:\n",
            "userId            0\n",
            "movieId           0\n",
            "timestamp_rt      0\n",
            "tag_by_user       0\n",
            "timestamp_tags    0\n",
            "gen_tag           0\n",
            "title             0\n",
            "genres            0\n",
            "tagId             0\n",
            "relevance         0\n",
            "rating            0\n",
            "dtype: int64\n",
            "\n",
            "Total de valores nulos en el dataset: 0\n"
          ]
        }
      ],
      "source": [
        "# Cuenta los valores nulos en cada columna del DataFrame\n",
        "valores_nulos_por_columna = df.isnull().sum()\n",
        "\n",
        "# Cuenta los valores nulos en todo el DataFrame\n",
        "total_valores_nulos = df.isnull().sum().sum()\n",
        "\n",
        "# Imprime la cantidad de valores nulos por columna\n",
        "print(\"Valores nulos por columna:\")\n",
        "print(valores_nulos_por_columna)\n",
        "\n",
        "# Imprime el total de valores nulos en el DataFrame\n",
        "print(\"\\nTotal de valores nulos en el dataset:\", total_valores_nulos)"
      ]
    },
    {
      "cell_type": "code",
      "execution_count": 14,
      "metadata": {
        "colab": {
          "base_uri": "https://localhost:8080/"
        },
        "id": "yzaFyvriY57v",
        "outputId": "fc8008db-91d1-440d-d274-d7d5371504fc"
      },
      "outputs": [
        {
          "output_type": "stream",
          "name": "stdout",
          "text": [
            "Filas con valores nulos en la columna tag:\n",
            "Empty DataFrame\n",
            "Columns: [userId, movieId, timestamp_rt, tag_by_user, timestamp_tags, gen_tag, title, genres, tagId, relevance, rating]\n",
            "Index: []\n",
            "DataFrame después de eliminar filas con valores nulos:\n",
            "Valores nulos por columna:\n",
            "userId            0\n",
            "movieId           0\n",
            "timestamp_rt      0\n",
            "tag_by_user       0\n",
            "timestamp_tags    0\n",
            "gen_tag           0\n",
            "title             0\n",
            "genres            0\n",
            "tagId             0\n",
            "relevance         0\n",
            "rating            0\n",
            "dtype: int64\n",
            "\n",
            "Total de valores nulos en el dataset: 0\n"
          ]
        }
      ],
      "source": [
        "# Seleccionar las filas con valores nulos en la columna deseada\n",
        "filas_con_nulos = df[df['tag_by_user'].isnull()]\n",
        "\n",
        "# Mostrar las filas con valores nulos\n",
        "print(\"Filas con valores nulos en la columna tag:\")\n",
        "print(filas_con_nulos)\n",
        "\n",
        "# Eliminar las filas con valores nulos en la columna deseada\n",
        "df = df.dropna(subset=['tag_by_user'])\n",
        "print(\"DataFrame después de eliminar filas con valores nulos:\")\n",
        "# Cuenta los valores nulos en cada columna del DataFrame\n",
        "valores_nulos_por_columna = df.isnull().sum()\n",
        "# Cuenta los valores nulos en todo el DataFrame\n",
        "total_valores_nulos = df.isnull().sum().sum()\n",
        "# Imprime la cantidad de valores nulos por columna\n",
        "print(\"Valores nulos por columna:\")\n",
        "print(valores_nulos_por_columna)\n",
        "# Imprime el total de valores nulos en el DataFrame\n",
        "print(\"\\nTotal de valores nulos en el dataset:\", total_valores_nulos)"
      ]
    },
    {
      "cell_type": "code",
      "execution_count": 15,
      "metadata": {
        "colab": {
          "base_uri": "https://localhost:8080/"
        },
        "id": "__dkBJFGY57w",
        "outputId": "fc7984a7-6365-451c-e51a-d31921df265b"
      },
      "outputs": [
        {
          "output_type": "execute_result",
          "data": {
            "text/plain": [
              "(35000, 11)"
            ]
          },
          "metadata": {},
          "execution_count": 15
        }
      ],
      "source": [
        "df.shape"
      ]
    },
    {
      "cell_type": "code",
      "execution_count": 16,
      "metadata": {
        "id": "Fc3ByZcOY57x"
      },
      "outputs": [],
      "source": [
        "content_df = df[['title', 'genres', 'tag_by_user', 'gen_tag', 'relevance', 'rating']]"
      ]
    },
    {
      "cell_type": "code",
      "execution_count": 17,
      "metadata": {
        "id": "yCoJq5cfY57y"
      },
      "outputs": [],
      "source": [
        "content_df = content_df.dropna(subset=['tag_by_user'])"
      ]
    },
    {
      "cell_type": "code",
      "execution_count": 18,
      "metadata": {
        "id": "REzseKbcY57y"
      },
      "outputs": [],
      "source": [
        "import re\n",
        "import string\n",
        "\n",
        "def remove_bars(text):\n",
        "    # Eliminar barras y dejar palabras separadas por un espacio\n",
        "    cleaned = re.sub(r'\\|', ' ', text)\n",
        "    return cleaned\n",
        "\n",
        "def separate(text):\n",
        "    clean_text = []\n",
        "    for t in text.split(','):\n",
        "        cleaned = re.sub('\\(.*\\)', '', t) # Remove text inside parentheses\n",
        "        cleaned = cleaned.translate(str.maketrans('','', string.digits))\n",
        "        cleaned = cleaned.replace(' ', '')\n",
        "        cleaned = cleaned.translate(str.maketrans('','', string.punctuation)).lower()\n",
        "        clean_text.append(cleaned)\n",
        "    return ' '.join(clean_text)\n",
        "\n",
        "def remove_punc(text):\n",
        "    try:\n",
        "        cleaned = text.translate(str.maketrans('','', string.punctuation)).lower()\n",
        "        clean_text = cleaned.translate(str.maketrans('','', string.digits))\n",
        "    except Exception as e:\n",
        "        print(f\"ERROR -----------------------------------------> {e} AND {text}\")\n",
        "    return clean_text"
      ]
    },
    {
      "cell_type": "code",
      "execution_count": 19,
      "metadata": {
        "colab": {
          "base_uri": "https://localhost:8080/"
        },
        "id": "voapp9L4Y57z",
        "outputId": "e3acfaa6-bb01-4940-deb4-5546b1c6dd45"
      },
      "outputs": [
        {
          "output_type": "stream",
          "name": "stdout",
          "text": [
            "oldie but goodie\n"
          ]
        }
      ],
      "source": [
        "# Ejemplo de uso: Pixar Animation Studios Warner Bros., Lancaster Gate\n",
        "text_with_bars = \"oldie but goodie\"\n",
        "\n",
        "# text_with_bars = \"Pixar Animation Studios\"\n",
        "\n",
        "# text_with_bars = \"Warner Bros., Lancaster Gate\"\n",
        "\n",
        "cleaned_text = remove_punc(text_with_bars)\n",
        "print(cleaned_text)"
      ]
    },
    {
      "cell_type": "code",
      "execution_count": 20,
      "metadata": {
        "id": "tUABzAOZY570"
      },
      "outputs": [],
      "source": [
        "content_df['genres'] = (content_df['genres'].apply(remove_bars)).apply(remove_punc)\n",
        "content_df['tag_by_user'] = content_df['tag_by_user'].apply(remove_punc)\n",
        "# content_df.set_index('title', inplace=True)\n",
        "content_df = content_df.reset_index()"
      ]
    },
    {
      "cell_type": "code",
      "execution_count": 21,
      "metadata": {
        "colab": {
          "base_uri": "https://localhost:8080/",
          "height": 206
        },
        "id": "8xCYucOFY570",
        "outputId": "8795b106-e65c-463c-cd5d-3fc662e0ca95"
      },
      "outputs": [
        {
          "output_type": "execute_result",
          "data": {
            "text/plain": [
              "     index                         title                         genres    tag_by_user     gen_tag  relevance  rating\n",
              "0  1561133            Matrix, The (1999)          action scifi thriller       dystopia      hitman    0.12625     5.0\n",
              "1  1499330            Raging Bull (1980)                          drama        classic   nocturnal    0.60700     4.0\n",
              "2  1048680      Skeleton Key, The (2005)  drama horror mystery thriller         magick  true story    0.05750     5.0\n",
              "3  1703441  Welcome to Collinwood (2002)                   comedy crime  anthony russo    adoption    0.05325     3.0\n",
              "4  5648649           Dreamcatcher (2003)    drama horror scifi thriller   stephen king   cult film    0.36500     2.0"
            ],
            "text/html": [
              "\n",
              "  <div id=\"df-fc630081-45b3-4082-808e-afc565cf904f\" class=\"colab-df-container\">\n",
              "    <div>\n",
              "<style scoped>\n",
              "    .dataframe tbody tr th:only-of-type {\n",
              "        vertical-align: middle;\n",
              "    }\n",
              "\n",
              "    .dataframe tbody tr th {\n",
              "        vertical-align: top;\n",
              "    }\n",
              "\n",
              "    .dataframe thead th {\n",
              "        text-align: right;\n",
              "    }\n",
              "</style>\n",
              "<table border=\"1\" class=\"dataframe\">\n",
              "  <thead>\n",
              "    <tr style=\"text-align: right;\">\n",
              "      <th></th>\n",
              "      <th>index</th>\n",
              "      <th>title</th>\n",
              "      <th>genres</th>\n",
              "      <th>tag_by_user</th>\n",
              "      <th>gen_tag</th>\n",
              "      <th>relevance</th>\n",
              "      <th>rating</th>\n",
              "    </tr>\n",
              "  </thead>\n",
              "  <tbody>\n",
              "    <tr>\n",
              "      <th>0</th>\n",
              "      <td>1561133</td>\n",
              "      <td>Matrix, The (1999)</td>\n",
              "      <td>action scifi thriller</td>\n",
              "      <td>dystopia</td>\n",
              "      <td>hitman</td>\n",
              "      <td>0.12625</td>\n",
              "      <td>5.0</td>\n",
              "    </tr>\n",
              "    <tr>\n",
              "      <th>1</th>\n",
              "      <td>1499330</td>\n",
              "      <td>Raging Bull (1980)</td>\n",
              "      <td>drama</td>\n",
              "      <td>classic</td>\n",
              "      <td>nocturnal</td>\n",
              "      <td>0.60700</td>\n",
              "      <td>4.0</td>\n",
              "    </tr>\n",
              "    <tr>\n",
              "      <th>2</th>\n",
              "      <td>1048680</td>\n",
              "      <td>Skeleton Key, The (2005)</td>\n",
              "      <td>drama horror mystery thriller</td>\n",
              "      <td>magick</td>\n",
              "      <td>true story</td>\n",
              "      <td>0.05750</td>\n",
              "      <td>5.0</td>\n",
              "    </tr>\n",
              "    <tr>\n",
              "      <th>3</th>\n",
              "      <td>1703441</td>\n",
              "      <td>Welcome to Collinwood (2002)</td>\n",
              "      <td>comedy crime</td>\n",
              "      <td>anthony russo</td>\n",
              "      <td>adoption</td>\n",
              "      <td>0.05325</td>\n",
              "      <td>3.0</td>\n",
              "    </tr>\n",
              "    <tr>\n",
              "      <th>4</th>\n",
              "      <td>5648649</td>\n",
              "      <td>Dreamcatcher (2003)</td>\n",
              "      <td>drama horror scifi thriller</td>\n",
              "      <td>stephen king</td>\n",
              "      <td>cult film</td>\n",
              "      <td>0.36500</td>\n",
              "      <td>2.0</td>\n",
              "    </tr>\n",
              "  </tbody>\n",
              "</table>\n",
              "</div>\n",
              "    <div class=\"colab-df-buttons\">\n",
              "\n",
              "  <div class=\"colab-df-container\">\n",
              "    <button class=\"colab-df-convert\" onclick=\"convertToInteractive('df-fc630081-45b3-4082-808e-afc565cf904f')\"\n",
              "            title=\"Convert this dataframe to an interactive table.\"\n",
              "            style=\"display:none;\">\n",
              "\n",
              "  <svg xmlns=\"http://www.w3.org/2000/svg\" height=\"24px\" viewBox=\"0 -960 960 960\">\n",
              "    <path d=\"M120-120v-720h720v720H120Zm60-500h600v-160H180v160Zm220 220h160v-160H400v160Zm0 220h160v-160H400v160ZM180-400h160v-160H180v160Zm440 0h160v-160H620v160ZM180-180h160v-160H180v160Zm440 0h160v-160H620v160Z\"/>\n",
              "  </svg>\n",
              "    </button>\n",
              "\n",
              "  <style>\n",
              "    .colab-df-container {\n",
              "      display:flex;\n",
              "      gap: 12px;\n",
              "    }\n",
              "\n",
              "    .colab-df-convert {\n",
              "      background-color: #E8F0FE;\n",
              "      border: none;\n",
              "      border-radius: 50%;\n",
              "      cursor: pointer;\n",
              "      display: none;\n",
              "      fill: #1967D2;\n",
              "      height: 32px;\n",
              "      padding: 0 0 0 0;\n",
              "      width: 32px;\n",
              "    }\n",
              "\n",
              "    .colab-df-convert:hover {\n",
              "      background-color: #E2EBFA;\n",
              "      box-shadow: 0px 1px 2px rgba(60, 64, 67, 0.3), 0px 1px 3px 1px rgba(60, 64, 67, 0.15);\n",
              "      fill: #174EA6;\n",
              "    }\n",
              "\n",
              "    .colab-df-buttons div {\n",
              "      margin-bottom: 4px;\n",
              "    }\n",
              "\n",
              "    [theme=dark] .colab-df-convert {\n",
              "      background-color: #3B4455;\n",
              "      fill: #D2E3FC;\n",
              "    }\n",
              "\n",
              "    [theme=dark] .colab-df-convert:hover {\n",
              "      background-color: #434B5C;\n",
              "      box-shadow: 0px 1px 3px 1px rgba(0, 0, 0, 0.15);\n",
              "      filter: drop-shadow(0px 1px 2px rgba(0, 0, 0, 0.3));\n",
              "      fill: #FFFFFF;\n",
              "    }\n",
              "  </style>\n",
              "\n",
              "    <script>\n",
              "      const buttonEl =\n",
              "        document.querySelector('#df-fc630081-45b3-4082-808e-afc565cf904f button.colab-df-convert');\n",
              "      buttonEl.style.display =\n",
              "        google.colab.kernel.accessAllowed ? 'block' : 'none';\n",
              "\n",
              "      async function convertToInteractive(key) {\n",
              "        const element = document.querySelector('#df-fc630081-45b3-4082-808e-afc565cf904f');\n",
              "        const dataTable =\n",
              "          await google.colab.kernel.invokeFunction('convertToInteractive',\n",
              "                                                    [key], {});\n",
              "        if (!dataTable) return;\n",
              "\n",
              "        const docLinkHtml = 'Like what you see? Visit the ' +\n",
              "          '<a target=\"_blank\" href=https://colab.research.google.com/notebooks/data_table.ipynb>data table notebook</a>'\n",
              "          + ' to learn more about interactive tables.';\n",
              "        element.innerHTML = '';\n",
              "        dataTable['output_type'] = 'display_data';\n",
              "        await google.colab.output.renderOutput(dataTable, element);\n",
              "        const docLink = document.createElement('div');\n",
              "        docLink.innerHTML = docLinkHtml;\n",
              "        element.appendChild(docLink);\n",
              "      }\n",
              "    </script>\n",
              "  </div>\n",
              "\n",
              "\n",
              "<div id=\"df-778bae36-5f80-463e-8051-05d9ecafa30f\">\n",
              "  <button class=\"colab-df-quickchart\" onclick=\"quickchart('df-778bae36-5f80-463e-8051-05d9ecafa30f')\"\n",
              "            title=\"Suggest charts\"\n",
              "            style=\"display:none;\">\n",
              "\n",
              "<svg xmlns=\"http://www.w3.org/2000/svg\" height=\"24px\"viewBox=\"0 0 24 24\"\n",
              "     width=\"24px\">\n",
              "    <g>\n",
              "        <path d=\"M19 3H5c-1.1 0-2 .9-2 2v14c0 1.1.9 2 2 2h14c1.1 0 2-.9 2-2V5c0-1.1-.9-2-2-2zM9 17H7v-7h2v7zm4 0h-2V7h2v10zm4 0h-2v-4h2v4z\"/>\n",
              "    </g>\n",
              "</svg>\n",
              "  </button>\n",
              "\n",
              "<style>\n",
              "  .colab-df-quickchart {\n",
              "      --bg-color: #E8F0FE;\n",
              "      --fill-color: #1967D2;\n",
              "      --hover-bg-color: #E2EBFA;\n",
              "      --hover-fill-color: #174EA6;\n",
              "      --disabled-fill-color: #AAA;\n",
              "      --disabled-bg-color: #DDD;\n",
              "  }\n",
              "\n",
              "  [theme=dark] .colab-df-quickchart {\n",
              "      --bg-color: #3B4455;\n",
              "      --fill-color: #D2E3FC;\n",
              "      --hover-bg-color: #434B5C;\n",
              "      --hover-fill-color: #FFFFFF;\n",
              "      --disabled-bg-color: #3B4455;\n",
              "      --disabled-fill-color: #666;\n",
              "  }\n",
              "\n",
              "  .colab-df-quickchart {\n",
              "    background-color: var(--bg-color);\n",
              "    border: none;\n",
              "    border-radius: 50%;\n",
              "    cursor: pointer;\n",
              "    display: none;\n",
              "    fill: var(--fill-color);\n",
              "    height: 32px;\n",
              "    padding: 0;\n",
              "    width: 32px;\n",
              "  }\n",
              "\n",
              "  .colab-df-quickchart:hover {\n",
              "    background-color: var(--hover-bg-color);\n",
              "    box-shadow: 0 1px 2px rgba(60, 64, 67, 0.3), 0 1px 3px 1px rgba(60, 64, 67, 0.15);\n",
              "    fill: var(--button-hover-fill-color);\n",
              "  }\n",
              "\n",
              "  .colab-df-quickchart-complete:disabled,\n",
              "  .colab-df-quickchart-complete:disabled:hover {\n",
              "    background-color: var(--disabled-bg-color);\n",
              "    fill: var(--disabled-fill-color);\n",
              "    box-shadow: none;\n",
              "  }\n",
              "\n",
              "  .colab-df-spinner {\n",
              "    border: 2px solid var(--fill-color);\n",
              "    border-color: transparent;\n",
              "    border-bottom-color: var(--fill-color);\n",
              "    animation:\n",
              "      spin 1s steps(1) infinite;\n",
              "  }\n",
              "\n",
              "  @keyframes spin {\n",
              "    0% {\n",
              "      border-color: transparent;\n",
              "      border-bottom-color: var(--fill-color);\n",
              "      border-left-color: var(--fill-color);\n",
              "    }\n",
              "    20% {\n",
              "      border-color: transparent;\n",
              "      border-left-color: var(--fill-color);\n",
              "      border-top-color: var(--fill-color);\n",
              "    }\n",
              "    30% {\n",
              "      border-color: transparent;\n",
              "      border-left-color: var(--fill-color);\n",
              "      border-top-color: var(--fill-color);\n",
              "      border-right-color: var(--fill-color);\n",
              "    }\n",
              "    40% {\n",
              "      border-color: transparent;\n",
              "      border-right-color: var(--fill-color);\n",
              "      border-top-color: var(--fill-color);\n",
              "    }\n",
              "    60% {\n",
              "      border-color: transparent;\n",
              "      border-right-color: var(--fill-color);\n",
              "    }\n",
              "    80% {\n",
              "      border-color: transparent;\n",
              "      border-right-color: var(--fill-color);\n",
              "      border-bottom-color: var(--fill-color);\n",
              "    }\n",
              "    90% {\n",
              "      border-color: transparent;\n",
              "      border-bottom-color: var(--fill-color);\n",
              "    }\n",
              "  }\n",
              "</style>\n",
              "\n",
              "  <script>\n",
              "    async function quickchart(key) {\n",
              "      const quickchartButtonEl =\n",
              "        document.querySelector('#' + key + ' button');\n",
              "      quickchartButtonEl.disabled = true;  // To prevent multiple clicks.\n",
              "      quickchartButtonEl.classList.add('colab-df-spinner');\n",
              "      try {\n",
              "        const charts = await google.colab.kernel.invokeFunction(\n",
              "            'suggestCharts', [key], {});\n",
              "      } catch (error) {\n",
              "        console.error('Error during call to suggestCharts:', error);\n",
              "      }\n",
              "      quickchartButtonEl.classList.remove('colab-df-spinner');\n",
              "      quickchartButtonEl.classList.add('colab-df-quickchart-complete');\n",
              "    }\n",
              "    (() => {\n",
              "      let quickchartButtonEl =\n",
              "        document.querySelector('#df-778bae36-5f80-463e-8051-05d9ecafa30f button');\n",
              "      quickchartButtonEl.style.display =\n",
              "        google.colab.kernel.accessAllowed ? 'block' : 'none';\n",
              "    })();\n",
              "  </script>\n",
              "</div>\n",
              "    </div>\n",
              "  </div>\n"
            ]
          },
          "metadata": {},
          "execution_count": 21
        }
      ],
      "source": [
        "content_df.head()"
      ]
    },
    {
      "cell_type": "code",
      "execution_count": 22,
      "metadata": {
        "colab": {
          "base_uri": "https://localhost:8080/",
          "height": 206
        },
        "id": "2QsycL3yY571",
        "outputId": "a6c87b59-3244-47a7-e455-6e1e0017f7da"
      },
      "outputs": [
        {
          "output_type": "execute_result",
          "data": {
            "text/plain": [
              "     index                         title                                       bag_of_words  relevance  rating\n",
              "0  1561133            Matrix, The (1999)             action scifi thriller dystopia hitman     0.12625     5.0\n",
              "1  1499330            Raging Bull (1980)                           drama classic nocturnal     0.60700     4.0\n",
              "2  1048680      Skeleton Key, The (2005)   drama horror mystery thriller magick true story     0.05750     5.0\n",
              "3  1703441  Welcome to Collinwood (2002)               comedy crime anthony russo adoption     0.05325     3.0\n",
              "4  5648649           Dreamcatcher (2003)  drama horror scifi thriller stephen king cult ...    0.36500     2.0"
            ],
            "text/html": [
              "\n",
              "  <div id=\"df-fbf900e8-b90e-45ef-b59f-c81264abb0ef\" class=\"colab-df-container\">\n",
              "    <div>\n",
              "<style scoped>\n",
              "    .dataframe tbody tr th:only-of-type {\n",
              "        vertical-align: middle;\n",
              "    }\n",
              "\n",
              "    .dataframe tbody tr th {\n",
              "        vertical-align: top;\n",
              "    }\n",
              "\n",
              "    .dataframe thead th {\n",
              "        text-align: right;\n",
              "    }\n",
              "</style>\n",
              "<table border=\"1\" class=\"dataframe\">\n",
              "  <thead>\n",
              "    <tr style=\"text-align: right;\">\n",
              "      <th></th>\n",
              "      <th>index</th>\n",
              "      <th>title</th>\n",
              "      <th>bag_of_words</th>\n",
              "      <th>relevance</th>\n",
              "      <th>rating</th>\n",
              "    </tr>\n",
              "  </thead>\n",
              "  <tbody>\n",
              "    <tr>\n",
              "      <th>0</th>\n",
              "      <td>1561133</td>\n",
              "      <td>Matrix, The (1999)</td>\n",
              "      <td>action scifi thriller dystopia hitman</td>\n",
              "      <td>0.12625</td>\n",
              "      <td>5.0</td>\n",
              "    </tr>\n",
              "    <tr>\n",
              "      <th>1</th>\n",
              "      <td>1499330</td>\n",
              "      <td>Raging Bull (1980)</td>\n",
              "      <td>drama classic nocturnal</td>\n",
              "      <td>0.60700</td>\n",
              "      <td>4.0</td>\n",
              "    </tr>\n",
              "    <tr>\n",
              "      <th>2</th>\n",
              "      <td>1048680</td>\n",
              "      <td>Skeleton Key, The (2005)</td>\n",
              "      <td>drama horror mystery thriller magick true story</td>\n",
              "      <td>0.05750</td>\n",
              "      <td>5.0</td>\n",
              "    </tr>\n",
              "    <tr>\n",
              "      <th>3</th>\n",
              "      <td>1703441</td>\n",
              "      <td>Welcome to Collinwood (2002)</td>\n",
              "      <td>comedy crime anthony russo adoption</td>\n",
              "      <td>0.05325</td>\n",
              "      <td>3.0</td>\n",
              "    </tr>\n",
              "    <tr>\n",
              "      <th>4</th>\n",
              "      <td>5648649</td>\n",
              "      <td>Dreamcatcher (2003)</td>\n",
              "      <td>drama horror scifi thriller stephen king cult ...</td>\n",
              "      <td>0.36500</td>\n",
              "      <td>2.0</td>\n",
              "    </tr>\n",
              "  </tbody>\n",
              "</table>\n",
              "</div>\n",
              "    <div class=\"colab-df-buttons\">\n",
              "\n",
              "  <div class=\"colab-df-container\">\n",
              "    <button class=\"colab-df-convert\" onclick=\"convertToInteractive('df-fbf900e8-b90e-45ef-b59f-c81264abb0ef')\"\n",
              "            title=\"Convert this dataframe to an interactive table.\"\n",
              "            style=\"display:none;\">\n",
              "\n",
              "  <svg xmlns=\"http://www.w3.org/2000/svg\" height=\"24px\" viewBox=\"0 -960 960 960\">\n",
              "    <path d=\"M120-120v-720h720v720H120Zm60-500h600v-160H180v160Zm220 220h160v-160H400v160Zm0 220h160v-160H400v160ZM180-400h160v-160H180v160Zm440 0h160v-160H620v160ZM180-180h160v-160H180v160Zm440 0h160v-160H620v160Z\"/>\n",
              "  </svg>\n",
              "    </button>\n",
              "\n",
              "  <style>\n",
              "    .colab-df-container {\n",
              "      display:flex;\n",
              "      gap: 12px;\n",
              "    }\n",
              "\n",
              "    .colab-df-convert {\n",
              "      background-color: #E8F0FE;\n",
              "      border: none;\n",
              "      border-radius: 50%;\n",
              "      cursor: pointer;\n",
              "      display: none;\n",
              "      fill: #1967D2;\n",
              "      height: 32px;\n",
              "      padding: 0 0 0 0;\n",
              "      width: 32px;\n",
              "    }\n",
              "\n",
              "    .colab-df-convert:hover {\n",
              "      background-color: #E2EBFA;\n",
              "      box-shadow: 0px 1px 2px rgba(60, 64, 67, 0.3), 0px 1px 3px 1px rgba(60, 64, 67, 0.15);\n",
              "      fill: #174EA6;\n",
              "    }\n",
              "\n",
              "    .colab-df-buttons div {\n",
              "      margin-bottom: 4px;\n",
              "    }\n",
              "\n",
              "    [theme=dark] .colab-df-convert {\n",
              "      background-color: #3B4455;\n",
              "      fill: #D2E3FC;\n",
              "    }\n",
              "\n",
              "    [theme=dark] .colab-df-convert:hover {\n",
              "      background-color: #434B5C;\n",
              "      box-shadow: 0px 1px 3px 1px rgba(0, 0, 0, 0.15);\n",
              "      filter: drop-shadow(0px 1px 2px rgba(0, 0, 0, 0.3));\n",
              "      fill: #FFFFFF;\n",
              "    }\n",
              "  </style>\n",
              "\n",
              "    <script>\n",
              "      const buttonEl =\n",
              "        document.querySelector('#df-fbf900e8-b90e-45ef-b59f-c81264abb0ef button.colab-df-convert');\n",
              "      buttonEl.style.display =\n",
              "        google.colab.kernel.accessAllowed ? 'block' : 'none';\n",
              "\n",
              "      async function convertToInteractive(key) {\n",
              "        const element = document.querySelector('#df-fbf900e8-b90e-45ef-b59f-c81264abb0ef');\n",
              "        const dataTable =\n",
              "          await google.colab.kernel.invokeFunction('convertToInteractive',\n",
              "                                                    [key], {});\n",
              "        if (!dataTable) return;\n",
              "\n",
              "        const docLinkHtml = 'Like what you see? Visit the ' +\n",
              "          '<a target=\"_blank\" href=https://colab.research.google.com/notebooks/data_table.ipynb>data table notebook</a>'\n",
              "          + ' to learn more about interactive tables.';\n",
              "        element.innerHTML = '';\n",
              "        dataTable['output_type'] = 'display_data';\n",
              "        await google.colab.output.renderOutput(dataTable, element);\n",
              "        const docLink = document.createElement('div');\n",
              "        docLink.innerHTML = docLinkHtml;\n",
              "        element.appendChild(docLink);\n",
              "      }\n",
              "    </script>\n",
              "  </div>\n",
              "\n",
              "\n",
              "<div id=\"df-73cbf721-3dcf-404a-890f-5482230bddf9\">\n",
              "  <button class=\"colab-df-quickchart\" onclick=\"quickchart('df-73cbf721-3dcf-404a-890f-5482230bddf9')\"\n",
              "            title=\"Suggest charts\"\n",
              "            style=\"display:none;\">\n",
              "\n",
              "<svg xmlns=\"http://www.w3.org/2000/svg\" height=\"24px\"viewBox=\"0 0 24 24\"\n",
              "     width=\"24px\">\n",
              "    <g>\n",
              "        <path d=\"M19 3H5c-1.1 0-2 .9-2 2v14c0 1.1.9 2 2 2h14c1.1 0 2-.9 2-2V5c0-1.1-.9-2-2-2zM9 17H7v-7h2v7zm4 0h-2V7h2v10zm4 0h-2v-4h2v4z\"/>\n",
              "    </g>\n",
              "</svg>\n",
              "  </button>\n",
              "\n",
              "<style>\n",
              "  .colab-df-quickchart {\n",
              "      --bg-color: #E8F0FE;\n",
              "      --fill-color: #1967D2;\n",
              "      --hover-bg-color: #E2EBFA;\n",
              "      --hover-fill-color: #174EA6;\n",
              "      --disabled-fill-color: #AAA;\n",
              "      --disabled-bg-color: #DDD;\n",
              "  }\n",
              "\n",
              "  [theme=dark] .colab-df-quickchart {\n",
              "      --bg-color: #3B4455;\n",
              "      --fill-color: #D2E3FC;\n",
              "      --hover-bg-color: #434B5C;\n",
              "      --hover-fill-color: #FFFFFF;\n",
              "      --disabled-bg-color: #3B4455;\n",
              "      --disabled-fill-color: #666;\n",
              "  }\n",
              "\n",
              "  .colab-df-quickchart {\n",
              "    background-color: var(--bg-color);\n",
              "    border: none;\n",
              "    border-radius: 50%;\n",
              "    cursor: pointer;\n",
              "    display: none;\n",
              "    fill: var(--fill-color);\n",
              "    height: 32px;\n",
              "    padding: 0;\n",
              "    width: 32px;\n",
              "  }\n",
              "\n",
              "  .colab-df-quickchart:hover {\n",
              "    background-color: var(--hover-bg-color);\n",
              "    box-shadow: 0 1px 2px rgba(60, 64, 67, 0.3), 0 1px 3px 1px rgba(60, 64, 67, 0.15);\n",
              "    fill: var(--button-hover-fill-color);\n",
              "  }\n",
              "\n",
              "  .colab-df-quickchart-complete:disabled,\n",
              "  .colab-df-quickchart-complete:disabled:hover {\n",
              "    background-color: var(--disabled-bg-color);\n",
              "    fill: var(--disabled-fill-color);\n",
              "    box-shadow: none;\n",
              "  }\n",
              "\n",
              "  .colab-df-spinner {\n",
              "    border: 2px solid var(--fill-color);\n",
              "    border-color: transparent;\n",
              "    border-bottom-color: var(--fill-color);\n",
              "    animation:\n",
              "      spin 1s steps(1) infinite;\n",
              "  }\n",
              "\n",
              "  @keyframes spin {\n",
              "    0% {\n",
              "      border-color: transparent;\n",
              "      border-bottom-color: var(--fill-color);\n",
              "      border-left-color: var(--fill-color);\n",
              "    }\n",
              "    20% {\n",
              "      border-color: transparent;\n",
              "      border-left-color: var(--fill-color);\n",
              "      border-top-color: var(--fill-color);\n",
              "    }\n",
              "    30% {\n",
              "      border-color: transparent;\n",
              "      border-left-color: var(--fill-color);\n",
              "      border-top-color: var(--fill-color);\n",
              "      border-right-color: var(--fill-color);\n",
              "    }\n",
              "    40% {\n",
              "      border-color: transparent;\n",
              "      border-right-color: var(--fill-color);\n",
              "      border-top-color: var(--fill-color);\n",
              "    }\n",
              "    60% {\n",
              "      border-color: transparent;\n",
              "      border-right-color: var(--fill-color);\n",
              "    }\n",
              "    80% {\n",
              "      border-color: transparent;\n",
              "      border-right-color: var(--fill-color);\n",
              "      border-bottom-color: var(--fill-color);\n",
              "    }\n",
              "    90% {\n",
              "      border-color: transparent;\n",
              "      border-bottom-color: var(--fill-color);\n",
              "    }\n",
              "  }\n",
              "</style>\n",
              "\n",
              "  <script>\n",
              "    async function quickchart(key) {\n",
              "      const quickchartButtonEl =\n",
              "        document.querySelector('#' + key + ' button');\n",
              "      quickchartButtonEl.disabled = true;  // To prevent multiple clicks.\n",
              "      quickchartButtonEl.classList.add('colab-df-spinner');\n",
              "      try {\n",
              "        const charts = await google.colab.kernel.invokeFunction(\n",
              "            'suggestCharts', [key], {});\n",
              "      } catch (error) {\n",
              "        console.error('Error during call to suggestCharts:', error);\n",
              "      }\n",
              "      quickchartButtonEl.classList.remove('colab-df-spinner');\n",
              "      quickchartButtonEl.classList.add('colab-df-quickchart-complete');\n",
              "    }\n",
              "    (() => {\n",
              "      let quickchartButtonEl =\n",
              "        document.querySelector('#df-73cbf721-3dcf-404a-890f-5482230bddf9 button');\n",
              "      quickchartButtonEl.style.display =\n",
              "        google.colab.kernel.accessAllowed ? 'block' : 'none';\n",
              "    })();\n",
              "  </script>\n",
              "</div>\n",
              "    </div>\n",
              "  </div>\n"
            ]
          },
          "metadata": {},
          "execution_count": 22
        }
      ],
      "source": [
        "content_df_aux = content_df.copy()\n",
        "content_df_aux = content_df_aux[['genres', 'tag_by_user', 'gen_tag']]\n",
        "content_df_aux['bag_of_words'] = ''\n",
        "content_df_aux.loc[:, 'bag_of_words'] = content_df_aux.loc[:, content_df_aux.columns[0:]].apply(lambda x: ' '.join(x), axis=1)\n",
        "# content_df.set_index('original_title', inplace=True)\n",
        "columnas_a_eliminar = ['tag_by_user', 'gen_tag']\n",
        "# Elimina las columnas especificadas del DataFrame 'data'\n",
        "content_df = content_df.drop(columnas_a_eliminar, axis=1)\n",
        "\n",
        "content_df['genres'] = content_df_aux['bag_of_words']\n",
        "content_df.rename(columns={'genres': 'bag_of_words'}, inplace=True)\n",
        "\n",
        "content_df.head()"
      ]
    },
    {
      "cell_type": "markdown",
      "metadata": {
        "id": "wa08NJleY572"
      },
      "source": [
        "# 1. Creating the TF-IDF Matrix"
      ]
    },
    {
      "cell_type": "code",
      "execution_count": 23,
      "metadata": {
        "id": "OSTRhXOFY572"
      },
      "outputs": [],
      "source": [
        "df = content_df.copy()"
      ]
    },
    {
      "cell_type": "code",
      "execution_count": 24,
      "metadata": {
        "execution": {
          "iopub.execute_input": "2023-06-23T12:15:19.935401Z",
          "iopub.status.busy": "2023-06-23T12:15:19.935085Z",
          "iopub.status.idle": "2023-06-23T12:15:19.946358Z",
          "shell.execute_reply": "2023-06-23T12:15:19.945283Z",
          "shell.execute_reply.started": "2023-06-23T12:15:19.935374Z"
        },
        "trusted": true,
        "colab": {
          "base_uri": "https://localhost:8080/"
        },
        "id": "Tgg0xyrKY573",
        "outputId": "a4a81880-15d8-4b2c-f650-b41bd947e7db"
      },
      "outputs": [
        {
          "output_type": "execute_result",
          "data": {
            "text/plain": [
              "0               action scifi thriller dystopia hitman \n",
              "1                             drama classic nocturnal \n",
              "2     drama horror mystery thriller magick true story \n",
              "3                 comedy crime anthony russo adoption \n",
              "4    drama horror scifi thriller stephen king cult ...\n",
              "Name: bag_of_words, dtype: object"
            ]
          },
          "metadata": {},
          "execution_count": 24
        }
      ],
      "source": [
        "df[\"bag_of_words\"].head()"
      ]
    },
    {
      "cell_type": "code",
      "execution_count": 25,
      "metadata": {
        "execution": {
          "iopub.execute_input": "2023-06-23T12:15:19.949238Z",
          "iopub.status.busy": "2023-06-23T12:15:19.948388Z",
          "iopub.status.idle": "2023-06-23T12:15:19.970759Z",
          "shell.execute_reply": "2023-06-23T12:15:19.969479Z",
          "shell.execute_reply.started": "2023-06-23T12:15:19.949199Z"
        },
        "trusted": true,
        "colab": {
          "base_uri": "https://localhost:8080/"
        },
        "id": "XnW_f_i8Y574",
        "outputId": "79e78bf2-44ff-4ba8-ff1e-f29bc0aa5a8e"
      },
      "outputs": [
        {
          "output_type": "execute_result",
          "data": {
            "text/plain": [
              "0"
            ]
          },
          "metadata": {},
          "execution_count": 25
        }
      ],
      "source": [
        "df[\"bag_of_words\"].isnull().sum()"
      ]
    },
    {
      "cell_type": "code",
      "execution_count": 26,
      "metadata": {
        "execution": {
          "iopub.execute_input": "2023-06-23T12:15:19.97344Z",
          "iopub.status.busy": "2023-06-23T12:15:19.972665Z",
          "iopub.status.idle": "2023-06-23T12:15:19.985681Z",
          "shell.execute_reply": "2023-06-23T12:15:19.984456Z",
          "shell.execute_reply.started": "2023-06-23T12:15:19.973402Z"
        },
        "trusted": true,
        "id": "dD7O_QcUY574"
      },
      "outputs": [],
      "source": [
        "# Convertir la colección de textos (en este caso, la bolsa de palabras)\n",
        "# en una matriz TF-IDF.\n",
        "\n",
        "# Vamos a eliminar las construcciones como a, an, the, and,\n",
        "# pero que no tienen sentido para nosotros de nuestros DataFrames.\n",
        "tfidf = TfidfVectorizer(stop_words=\"english\")"
      ]
    },
    {
      "cell_type": "code",
      "execution_count": 27,
      "metadata": {
        "execution": {
          "iopub.execute_input": "2023-06-23T12:15:19.98745Z",
          "iopub.status.busy": "2023-06-23T12:15:19.987098Z",
          "iopub.status.idle": "2023-06-23T12:15:20.021348Z",
          "shell.execute_reply": "2023-06-23T12:15:20.020187Z",
          "shell.execute_reply.started": "2023-06-23T12:15:19.987419Z"
        },
        "trusted": true,
        "id": "k8eZ1QWzY575"
      },
      "outputs": [],
      "source": [
        "# Rellenemos el valor nulo de la variable cin bag_of_words con nada para evitar errores en los siguientes pasos\n",
        "df['bag_of_words'] = df['bag_of_words'].fillna('')"
      ]
    },
    {
      "cell_type": "code",
      "execution_count": 28,
      "metadata": {
        "execution": {
          "iopub.execute_input": "2023-06-23T12:15:20.023989Z",
          "iopub.status.busy": "2023-06-23T12:15:20.023434Z",
          "iopub.status.idle": "2023-06-23T12:15:20.039927Z",
          "shell.execute_reply": "2023-06-23T12:15:20.038812Z",
          "shell.execute_reply.started": "2023-06-23T12:15:20.023951Z"
        },
        "trusted": true,
        "colab": {
          "base_uri": "https://localhost:8080/"
        },
        "id": "gMy0tfc9Y577",
        "outputId": "e425bee3-9055-4595-db1a-975a0c9acc67"
      },
      "outputs": [
        {
          "output_type": "execute_result",
          "data": {
            "text/plain": [
              "0"
            ]
          },
          "metadata": {},
          "execution_count": 28
        }
      ],
      "source": [
        "df[\"bag_of_words\"].isnull().sum()"
      ]
    },
    {
      "cell_type": "code",
      "execution_count": 29,
      "metadata": {
        "execution": {
          "iopub.execute_input": "2023-06-23T12:15:20.046275Z",
          "iopub.status.busy": "2023-06-23T12:15:20.045694Z",
          "iopub.status.idle": "2023-06-23T12:15:23.540744Z",
          "shell.execute_reply": "2023-06-23T12:15:23.539618Z",
          "shell.execute_reply.started": "2023-06-23T12:15:20.046243Z"
        },
        "trusted": true,
        "id": "dEzMEfk-Y578"
      },
      "outputs": [],
      "source": [
        "# ajustar y transformar según el objeto tfidf\n",
        "# Los de las filas son textos 'bolsa de palabras'. Los de las columnas son palabras únicas.\n",
        "\n",
        "# Crear la matriz TF-IDF (Term Frequency-Inverse Document Frequency) a partir de la columna\n",
        "# 'bag_of_words' del conjunto de datos. La matriz TF-IDF es una representación numérica\n",
        "# de los documentos en función de la frecuencia de las palabras que contienen y de\n",
        "# su importancia en el conjunto de documentos.\n",
        "tfidf_matrix = tfidf.fit_transform(df['bag_of_words'])"
      ]
    },
    {
      "cell_type": "code",
      "execution_count": 30,
      "metadata": {
        "execution": {
          "iopub.execute_input": "2023-06-23T12:15:23.542302Z",
          "iopub.status.busy": "2023-06-23T12:15:23.541976Z",
          "iopub.status.idle": "2023-06-23T12:15:23.549642Z",
          "shell.execute_reply": "2023-06-23T12:15:23.548537Z",
          "shell.execute_reply.started": "2023-06-23T12:15:23.542275Z"
        },
        "trusted": true,
        "colab": {
          "base_uri": "https://localhost:8080/"
        },
        "id": "tC3hYr7iY579",
        "outputId": "2c3c1dca-5bd6-40e1-f622-ed91643b1785"
      },
      "outputs": [
        {
          "output_type": "execute_result",
          "data": {
            "text/plain": [
              "(35000, 7258)"
            ]
          },
          "metadata": {},
          "execution_count": 30
        }
      ],
      "source": [
        "# Cada fila representa un documento (en este caso, una película) y\n",
        "# cada columna representa una palabra única en el conjunto de datos.\n",
        "\n",
        "# Los valores en la matriz son las puntuaciones TF-IDF para cada palabra en cada documento.\n",
        "tfidf_matrix.shape"
      ]
    },
    {
      "cell_type": "code",
      "execution_count": 31,
      "metadata": {
        "execution": {
          "iopub.execute_input": "2023-06-23T12:15:23.551241Z",
          "iopub.status.busy": "2023-06-23T12:15:23.550928Z",
          "iopub.status.idle": "2023-06-23T12:15:23.563011Z",
          "shell.execute_reply": "2023-06-23T12:15:23.561691Z",
          "shell.execute_reply.started": "2023-06-23T12:15:23.551214Z"
        },
        "trusted": true,
        "colab": {
          "base_uri": "https://localhost:8080/"
        },
        "id": "eYy0Biw1Y57-",
        "outputId": "3bb92f2e-9c02-452c-9f02-1f0d925f0783"
      },
      "outputs": [
        {
          "output_type": "execute_result",
          "data": {
            "text/plain": [
              "array(['007', '100', '11', ..., 'zucker', 'zydeco', '奇趣马戏团'], dtype=object)"
            ]
          },
          "metadata": {},
          "execution_count": 31
        }
      ],
      "source": [
        "#Si queremos ver todas las palabras únicas de las columnas\n",
        "\n",
        "# Filas: Cada fila de la matriz corresponde a una película en el conjunto de datos.\n",
        "# Por ejemplo, si tienes 10,000 películas, habrá 10,000 filas en la matriz.\n",
        "\n",
        "# Columnas: Cada columna representa una palabra única en el conjunto de datos.\n",
        "# La cantidad de columnas es igual al número total de palabras únicas en todas\n",
        "# las bolsas de palabras de películas.\n",
        "\n",
        "# Valores: Los valores en la matriz son las puntuaciones TF-IDF para cada palabra en cada película.\n",
        "# Estas puntuaciones miden la importancia relativa de una palabra en un documento en comparación\n",
        "# con su frecuencia en el conjunto de documentos. Valores más altos indican que la palabra\n",
        "# es más importante en el contexto de ese documento.\n",
        "\n",
        "tfidf.get_feature_names_out()\n"
      ]
    },
    {
      "cell_type": "code",
      "execution_count": 32,
      "metadata": {
        "execution": {
          "iopub.execute_input": "2023-06-23T12:15:23.564862Z",
          "iopub.status.busy": "2023-06-23T12:15:23.564477Z",
          "iopub.status.idle": "2023-06-23T12:15:30.233899Z",
          "shell.execute_reply": "2023-06-23T12:15:30.232659Z",
          "shell.execute_reply.started": "2023-06-23T12:15:23.564832Z"
        },
        "trusted": true,
        "colab": {
          "base_uri": "https://localhost:8080/"
        },
        "id": "H4mcAU4sY58A",
        "outputId": "22ae2f54-d310-4bb5-db97-68cc23ac46ad"
      },
      "outputs": [
        {
          "output_type": "execute_result",
          "data": {
            "text/plain": [
              "array([[0., 0., 0., ..., 0., 0., 0.],\n",
              "       [0., 0., 0., ..., 0., 0., 0.],\n",
              "       [0., 0., 0., ..., 0., 0., 0.],\n",
              "       ...,\n",
              "       [0., 0., 0., ..., 0., 0., 0.],\n",
              "       [0., 0., 0., ..., 0., 0., 0.],\n",
              "       [0., 0., 0., ..., 0., 0., 0.]])"
            ]
          },
          "metadata": {},
          "execution_count": 32
        }
      ],
      "source": [
        "# tfidf scores\n",
        "tfidf_matrix.toarray()"
      ]
    },
    {
      "cell_type": "markdown",
      "metadata": {
        "id": "jRsjhOf3Y58A"
      },
      "source": [
        "# 2. Creation of Cosine Similarity Matrix"
      ]
    },
    {
      "cell_type": "code",
      "execution_count": 33,
      "metadata": {
        "execution": {
          "iopub.execute_input": "2023-06-23T12:15:30.236776Z",
          "iopub.status.busy": "2023-06-23T12:15:30.236397Z",
          "iopub.status.idle": "2023-06-23T12:16:12.103401Z",
          "shell.execute_reply": "2023-06-23T12:16:12.102422Z",
          "shell.execute_reply.started": "2023-06-23T12:15:30.236743Z"
        },
        "trusted": true,
        "id": "fYTTsqlNY58B"
      },
      "outputs": [],
      "source": [
        "# calcula la similitud coseno entre todas las filas de la matriz TF-IDF.\n",
        "# La similitud coseno mide el coseno del ángulo entre dos vectores y\n",
        "# proporciona una medida de cuán similares son dos documentos.\n",
        "\n",
        "# Calcula cos sim para todos los pares de documentos posibles uno por uno. En la matriz cosine_sim,\n",
        "# cada película tiene similitudes entre sí\n",
        "\n",
        "# cosine_sim = cosine_similarity(tfidf_matrix, tfidf_matrix)"
      ]
    },
    {
      "cell_type": "code",
      "source": [
        "import cupy as cp\n",
        "\n",
        "# Convertir la matriz TF-IDF a cupy array\n",
        "tfidf_matrix_cupy = cp.array(tfidf_matrix.toarray())\n",
        "\n",
        "# Calcular la similitud del coseno utilizando cupy.matmul\n",
        "cosine_sim_cupy = cp.matmul(tfidf_matrix_cupy, tfidf_matrix_cupy.T)\n",
        "\n",
        "cosine_sim = cosine_sim_cupy\n"
      ],
      "metadata": {
        "id": "oPBu-_pyEaVm"
      },
      "execution_count": 34,
      "outputs": []
    },
    {
      "cell_type": "code",
      "source": [
        "cosine_sim = cosine_sim_cupy"
      ],
      "metadata": {
        "id": "byYQ0miLFiZx"
      },
      "execution_count": 35,
      "outputs": []
    },
    {
      "cell_type": "code",
      "execution_count": 36,
      "metadata": {
        "execution": {
          "iopub.execute_input": "2023-06-23T12:16:12.105007Z",
          "iopub.status.busy": "2023-06-23T12:16:12.10469Z",
          "iopub.status.idle": "2023-06-23T12:16:12.111873Z",
          "shell.execute_reply": "2023-06-23T12:16:12.110801Z",
          "shell.execute_reply.started": "2023-06-23T12:16:12.104981Z"
        },
        "trusted": true,
        "colab": {
          "base_uri": "https://localhost:8080/"
        },
        "id": "RZIl2VjcY58t",
        "outputId": "86f94617-f0fb-44c2-fb6f-3477f3c790f2"
      },
      "outputs": [
        {
          "output_type": "execute_result",
          "data": {
            "text/plain": [
              "(35000, 35000)"
            ]
          },
          "metadata": {},
          "execution_count": 36
        }
      ],
      "source": [
        "# cosine_sim[i, j] representa la similitud coseno entre la película con el índice i y\n",
        "# la película con el índice j en el conjunto de datos.\n",
        "\n",
        "cosine_sim.shape"
      ]
    },
    {
      "cell_type": "code",
      "execution_count": null,
      "metadata": {
        "id": "tK7Cswt4Y58u"
      },
      "outputs": [],
      "source": [
        "cosine_sim"
      ]
    },
    {
      "cell_type": "code",
      "execution_count": null,
      "metadata": {
        "execution": {
          "iopub.execute_input": "2023-06-23T12:16:12.113661Z",
          "iopub.status.busy": "2023-06-23T12:16:12.113313Z",
          "iopub.status.idle": "2023-06-23T12:16:12.128073Z",
          "shell.execute_reply": "2023-06-23T12:16:12.127061Z",
          "shell.execute_reply.started": "2023-06-23T12:16:12.113632Z"
        },
        "trusted": true,
        "id": "MZuXG5yrY58v"
      },
      "outputs": [],
      "source": [
        "# Para ver en qué se parece la película del índice 1 a todas las demás películas\n",
        "\n",
        "cosine_sim[1]"
      ]
    },
    {
      "cell_type": "code",
      "execution_count": null,
      "metadata": {
        "id": "hJa168iQY58v"
      },
      "outputs": [],
      "source": [
        "cosine_sim[1].shape"
      ]
    },
    {
      "cell_type": "markdown",
      "metadata": {
        "id": "6Rw_5tmRY58w"
      },
      "source": [
        "# 3. Making Recommendations Based on Similarities"
      ]
    },
    {
      "cell_type": "code",
      "execution_count": null,
      "metadata": {
        "execution": {
          "iopub.execute_input": "2023-06-23T12:16:12.1298Z",
          "iopub.status.busy": "2023-06-23T12:16:12.129447Z",
          "iopub.status.idle": "2023-06-23T12:16:12.140381Z",
          "shell.execute_reply": "2023-06-23T12:16:12.139512Z",
          "shell.execute_reply.started": "2023-06-23T12:16:12.129773Z"
        },
        "trusted": true,
        "id": "LmFlg8WcY58w"
      },
      "outputs": [],
      "source": [
        "# Vamos a crear una serie pd de índices y nombres de películas\n",
        "# se crea una Serie de Pandas llamada indices donde los índices son\n",
        "# los títulos de las películas y los valores son los índices originales del DataFrame df.\n",
        "indices = pd.Series(df.index, index=df['title'])"
      ]
    },
    {
      "cell_type": "code",
      "execution_count": null,
      "metadata": {
        "id": "YFi8srxmY58x"
      },
      "outputs": [],
      "source": [
        "indices.head()"
      ]
    },
    {
      "cell_type": "code",
      "execution_count": null,
      "metadata": {
        "id": "cJjlFMPIY58y"
      },
      "outputs": [],
      "source": [
        "indices.shape"
      ]
    },
    {
      "cell_type": "code",
      "execution_count": null,
      "metadata": {
        "execution": {
          "iopub.execute_input": "2023-06-23T12:16:12.142118Z",
          "iopub.status.busy": "2023-06-23T12:16:12.141816Z",
          "iopub.status.idle": "2023-06-23T12:16:12.185782Z",
          "shell.execute_reply": "2023-06-23T12:16:12.184777Z",
          "shell.execute_reply.started": "2023-06-23T12:16:12.142093Z"
        },
        "trusted": true,
        "id": "y96oV5eKY58y"
      },
      "outputs": [],
      "source": [
        "# contemos la información del índice de las películas y simplifiquemos las películas más repetitivas a las más recientes\n",
        "\n",
        "indices.index.value_counts().head()"
      ]
    },
    {
      "cell_type": "code",
      "execution_count": null,
      "metadata": {
        "execution": {
          "iopub.execute_input": "2023-06-23T12:16:12.187976Z",
          "iopub.status.busy": "2023-06-23T12:16:12.187383Z",
          "iopub.status.idle": "2023-06-23T12:16:12.20658Z",
          "shell.execute_reply": "2023-06-23T12:16:12.205456Z",
          "shell.execute_reply.started": "2023-06-23T12:16:12.187937Z"
        },
        "trusted": true,
        "id": "jG8ZtEl0Y58z"
      },
      "outputs": [],
      "source": [
        "# Se eliminan las películas duplicadas del índice, conservando solo la última aparición de cada película.\n",
        "# Esto se hace para evitar ambigüedades y asegurar que cada película tenga un índice único.\n",
        "indices = indices[~indices.index.duplicated(keep='last')]"
      ]
    },
    {
      "cell_type": "code",
      "execution_count": null,
      "metadata": {
        "id": "kgxcJMeEY580"
      },
      "outputs": [],
      "source": [
        "indices.index.value_counts().head()"
      ]
    },
    {
      "cell_type": "code",
      "execution_count": null,
      "metadata": {
        "id": "15p2TrrFY580"
      },
      "outputs": [],
      "source": [
        "indices.shape"
      ]
    },
    {
      "cell_type": "code",
      "execution_count": null,
      "metadata": {
        "execution": {
          "iopub.execute_input": "2023-06-23T12:16:12.208671Z",
          "iopub.status.busy": "2023-06-23T12:16:12.208193Z",
          "iopub.status.idle": "2023-06-23T12:16:12.224304Z",
          "shell.execute_reply": "2023-06-23T12:16:12.223012Z",
          "shell.execute_reply.started": "2023-06-23T12:16:12.208632Z"
        },
        "trusted": true,
        "id": "UyExBYauY581"
      },
      "outputs": [],
      "source": [
        "indices[\"Matrix, The (1999)\"]"
      ]
    },
    {
      "cell_type": "code",
      "execution_count": null,
      "metadata": {
        "execution": {
          "iopub.execute_input": "2023-06-23T12:16:12.226973Z",
          "iopub.status.busy": "2023-06-23T12:16:12.225797Z",
          "iopub.status.idle": "2023-06-23T12:16:12.235522Z",
          "shell.execute_reply": "2023-06-23T12:16:12.234429Z",
          "shell.execute_reply.started": "2023-06-23T12:16:12.226939Z"
        },
        "trusted": true,
        "id": "CH8drTjNY582"
      },
      "outputs": [],
      "source": [
        "indices[\"Wolf of Wall Street, The (2013)\"]"
      ]
    },
    {
      "cell_type": "code",
      "execution_count": null,
      "metadata": {
        "execution": {
          "iopub.execute_input": "2023-06-23T12:16:12.23721Z",
          "iopub.status.busy": "2023-06-23T12:16:12.236894Z",
          "iopub.status.idle": "2023-06-23T12:16:12.24742Z",
          "shell.execute_reply": "2023-06-23T12:16:12.246442Z",
          "shell.execute_reply.started": "2023-06-23T12:16:12.237185Z"
        },
        "trusted": true,
        "id": "bUiCPiDMY583"
      },
      "outputs": [],
      "source": [
        "# Asigno el índice de la película \"Sherlock Holmes\" a la variable\n",
        "movie_title = \"Wolf of Wall Street, The (2013)\"\n",
        "movie_index = indices[movie_title]"
      ]
    },
    {
      "cell_type": "code",
      "execution_count": null,
      "metadata": {
        "execution": {
          "iopub.execute_input": "2023-06-23T12:16:12.249095Z",
          "iopub.status.busy": "2023-06-23T12:16:12.248794Z",
          "iopub.status.idle": "2023-06-23T12:16:12.260828Z",
          "shell.execute_reply": "2023-06-23T12:16:12.259856Z",
          "shell.execute_reply.started": "2023-06-23T12:16:12.24907Z"
        },
        "trusted": true,
        "id": "Vpil2ODtY583"
      },
      "outputs": [],
      "source": [
        "cosine_sim[movie_index]"
      ]
    },
    {
      "cell_type": "code",
      "execution_count": null,
      "metadata": {
        "id": "Scp4nyE5Y584"
      },
      "outputs": [],
      "source": [
        "cosine_sim[movie_index].shape"
      ]
    },
    {
      "cell_type": "code",
      "execution_count": null,
      "metadata": {
        "execution": {
          "iopub.execute_input": "2023-06-23T12:16:12.263938Z",
          "iopub.status.busy": "2023-06-23T12:16:12.262759Z",
          "iopub.status.idle": "2023-06-23T12:16:12.273482Z",
          "shell.execute_reply": "2023-06-23T12:16:12.272081Z",
          "shell.execute_reply.started": "2023-06-23T12:16:12.263898Z"
        },
        "trusted": true,
        "id": "4pe5yU1qY585"
      },
      "outputs": [],
      "source": [
        "# Veamos los Smilarity Scores que expresan las similitudes entre la película \"Wolf of Wall Street, The (2013)\" y otras películas\n",
        "# similarity_scores = pd.DataFrame(cosine_sim[movie_index],\n",
        "#                                  columns=[\"score\"])\n",
        "\n",
        "similarity_scores = pd.DataFrame(cosine_sim[movie_index].get(), columns=[\"score\"])"
      ]
    },
    {
      "cell_type": "code",
      "execution_count": null,
      "metadata": {
        "execution": {
          "iopub.execute_input": "2023-06-23T12:16:12.275506Z",
          "iopub.status.busy": "2023-06-23T12:16:12.274659Z",
          "iopub.status.idle": "2023-06-23T12:16:12.29586Z",
          "shell.execute_reply": "2023-06-23T12:16:12.294949Z",
          "shell.execute_reply.started": "2023-06-23T12:16:12.275476Z"
        },
        "trusted": true,
        "id": "0CR6CdqqY586"
      },
      "outputs": [],
      "source": [
        "# Las similitudes entre la película 'Sherlock Holmes' y el resto de películas\n",
        "\n",
        "similarity_scores.head()"
      ]
    },
    {
      "cell_type": "code",
      "execution_count": null,
      "metadata": {
        "id": "M_tzyvlwY587"
      },
      "outputs": [],
      "source": [
        "similarity_scores.shape"
      ]
    },
    {
      "cell_type": "code",
      "execution_count": null,
      "metadata": {
        "id": "-Iq1QnSTY588"
      },
      "outputs": [],
      "source": [
        "movie_indices_sort = similarity_scores.sort_values(\"score\", ascending=False).index"
      ]
    },
    {
      "cell_type": "code",
      "execution_count": null,
      "metadata": {
        "id": "rdN7VikYY589"
      },
      "outputs": [],
      "source": [
        "import pandas as pd\n",
        "\n",
        "# Supongamos que tu DataFrame se llama df y la Serie de índices es index_series\n",
        "# index_series = Int64Index([9859, 3228, 1656, 8951, 6811, 998, 5030, 6972, 8591, 4820, ...])\n",
        "\n",
        "# Paso 1\n",
        "duplicated_titles = df.loc[movie_indices_sort, 'title'].duplicated(keep='first')\n",
        "\n",
        "# Paso 2\n",
        "indices_sin_duplicados = movie_indices_sort[~duplicated_titles]\n",
        "\n",
        "# Paso 3\n",
        "filas_sin_duplicados = df.loc[indices_sin_duplicados]\n",
        "\n",
        "# Ahora filas_sin_duplicados contiene las filas correspondientes a los índices\n",
        "# en index_series, eliminando las filas con títulos duplicados, manteniendo la primera ocurrencia.\n",
        "\n",
        "# Supongamos que el string que deseas excluir es 'The Promise'\n",
        "string_a_excluir = movie_title\n",
        "\n",
        "# Filtrar las filas que no contienen el string a excluir en la columna 'title'\n",
        "filas_sin_duplicados_y_exclusion = df.loc[indices_sin_duplicados]\n",
        "filas_sin_duplicados_y_exclusion = filas_sin_duplicados_y_exclusion[filas_sin_duplicados_y_exclusion['title'] != string_a_excluir]"
      ]
    },
    {
      "cell_type": "code",
      "execution_count": null,
      "metadata": {
        "id": "pGu5TAozY58-"
      },
      "outputs": [],
      "source": [
        "# Supongamos que el string que deseas excluir es 'The Promise'\n",
        "string_a_excluir = 'Wolf of Wall Street, The (2013)'\n",
        "\n",
        "# Filtrar las filas que no contienen el string a excluir en la columna 'title'\n",
        "filas_sin_duplicados_y_exclusion = df.loc[indices_sin_duplicados]\n",
        "filas_sin_duplicados_y_exclusion = filas_sin_duplicados_y_exclusion[filas_sin_duplicados_y_exclusion['title'] != string_a_excluir]\n"
      ]
    },
    {
      "cell_type": "code",
      "execution_count": null,
      "metadata": {
        "id": "0u1aw_4JY58_"
      },
      "outputs": [],
      "source": [
        "filas_sin_duplicados_y_exclusion.head()"
      ]
    },
    {
      "cell_type": "code",
      "execution_count": null,
      "metadata": {
        "execution": {
          "iopub.execute_input": "2023-06-23T12:16:12.297319Z",
          "iopub.status.busy": "2023-06-23T12:16:12.296978Z",
          "iopub.status.idle": "2023-06-23T12:16:12.309556Z",
          "shell.execute_reply": "2023-06-23T12:16:12.308788Z",
          "shell.execute_reply.started": "2023-06-23T12:16:12.29729Z"
        },
        "trusted": true,
        "id": "TAKe1pd8Y59A"
      },
      "outputs": [],
      "source": [
        "# Vamos a listar las puntuaciones de similitud de la película 'Sherlock Holmes' en orden descendente. Empieza por 1 porque es la primera película.\n",
        "\n",
        "# movie_indices = similarity_scores.sort_values(\"score\", ascending=False)[1:11].index"
      ]
    },
    {
      "cell_type": "code",
      "execution_count": null,
      "metadata": {
        "execution": {
          "iopub.execute_input": "2023-06-23T12:16:12.311227Z",
          "iopub.status.busy": "2023-06-23T12:16:12.310766Z",
          "iopub.status.idle": "2023-06-23T12:16:12.319044Z",
          "shell.execute_reply": "2023-06-23T12:16:12.318057Z",
          "shell.execute_reply.started": "2023-06-23T12:16:12.3112Z"
        },
        "trusted": true,
        "id": "lML4C2Q_Y59B"
      },
      "outputs": [],
      "source": [
        "# Go to the indexes we selected in our first data set\n",
        "\n",
        "# df['title'].iloc[movie_indices]"
      ]
    },
    {
      "cell_type": "markdown",
      "metadata": {
        "id": "7uS1EChoY59B"
      },
      "source": [
        "# 4. Preparation of the Study Script"
      ]
    },
    {
      "cell_type": "code",
      "execution_count": null,
      "metadata": {
        "execution": {
          "iopub.execute_input": "2023-06-23T12:16:12.325559Z",
          "iopub.status.busy": "2023-06-23T12:16:12.324552Z",
          "iopub.status.idle": "2023-06-23T12:16:12.332261Z",
          "shell.execute_reply": "2023-06-23T12:16:12.331271Z",
          "shell.execute_reply.started": "2023-06-23T12:16:12.325526Z"
        },
        "trusted": true,
        "id": "qh4GIRCoY59C"
      },
      "outputs": [],
      "source": [
        "# def content_based_recommender(title, cosine_sim, dataframe):\n",
        "#     # create indexes\n",
        "#     indices = pd.Series(dataframe.index, index=dataframe['title'])\n",
        "#     indices = indices[~indices.index.duplicated(keep='last')]\n",
        "#     # capturing index of title\n",
        "#     movie_index = indices[title]\n",
        "#     # calculate similarity scores based on title\n",
        "#     similarity_scores = pd.DataFrame(cosine_sim[movie_index], columns=[\"score\"])\n",
        "#     # Bringing the top 10 movies except for itself\n",
        "#     movie_indices = similarity_scores.sort_values(\"score\", ascending=False)[1:11].index\n",
        "#     return dataframe['title'].iloc[movie_indices]"
      ]
    },
    {
      "cell_type": "code",
      "execution_count": null,
      "metadata": {
        "id": "MZiyPQziY59D"
      },
      "outputs": [],
      "source": [
        "def content_based_recommender(title, cosine_sim, dataframe):\n",
        "    # create indexes\n",
        "    indices = pd.Series(dataframe.index, index=dataframe['title'])\n",
        "    indices = indices[~indices.index.duplicated(keep='last')]\n",
        "    # capturing index of title\n",
        "    movie_index = indices[title]\n",
        "    # calculate similarity scores based on title\n",
        "    # similarity_scores = pd.DataFrame(cosine_sim[movie_index], columns=[\"score\"])\n",
        "\n",
        "    similarity_scores = pd.DataFrame(cosine_sim[movie_index].get(), columns=[\"score\"])\n",
        "\n",
        "    # Bringing the top 10 movies except for itself\n",
        "    movie_indices_sort = similarity_scores.sort_values(\"score\", ascending=False).index\n",
        "    duplicated_titles = dataframe.loc[movie_indices_sort, 'title'].duplicated(keep='first')\n",
        "    indices_sin_duplicados = movie_indices_sort[~duplicated_titles]\n",
        "    filas_sin_duplicados_y_exclusion = dataframe.loc[indices_sin_duplicados]\n",
        "    filas_sin_duplicados_y_exclusion = filas_sin_duplicados_y_exclusion[filas_sin_duplicados_y_exclusion['title'] != title]\n",
        "    return filas_sin_duplicados_y_exclusion['title'].head(10)"
      ]
    },
    {
      "cell_type": "code",
      "execution_count": null,
      "metadata": {
        "execution": {
          "iopub.execute_input": "2023-06-23T12:16:12.334031Z",
          "iopub.status.busy": "2023-06-23T12:16:12.333416Z",
          "iopub.status.idle": "2023-06-23T12:16:12.372608Z",
          "shell.execute_reply": "2023-06-23T12:16:12.371606Z",
          "shell.execute_reply.started": "2023-06-23T12:16:12.334001Z"
        },
        "trusted": true,
        "id": "fjTv5WQdY59E"
      },
      "outputs": [],
      "source": [
        "content_based_recommender(\"Wolf of Wall Street, The (2013)\", cosine_sim, df)"
      ]
    },
    {
      "cell_type": "code",
      "execution_count": null,
      "metadata": {
        "execution": {
          "iopub.execute_input": "2023-06-23T12:16:12.374272Z",
          "iopub.status.busy": "2023-06-23T12:16:12.373941Z",
          "iopub.status.idle": "2023-06-23T12:16:12.401623Z",
          "shell.execute_reply": "2023-06-23T12:16:12.400627Z",
          "shell.execute_reply.started": "2023-06-23T12:16:12.374244Z"
        },
        "trusted": true,
        "id": "0v71rZTdY59F"
      },
      "outputs": [],
      "source": [
        "content_based_recommender(\"Matrix, The (1999)\", cosine_sim, df)"
      ]
    },
    {
      "cell_type": "code",
      "execution_count": null,
      "metadata": {
        "execution": {
          "iopub.execute_input": "2023-06-23T12:16:12.40348Z",
          "iopub.status.busy": "2023-06-23T12:16:12.402979Z",
          "iopub.status.idle": "2023-06-23T12:16:12.433072Z",
          "shell.execute_reply": "2023-06-23T12:16:12.432054Z",
          "shell.execute_reply.started": "2023-06-23T12:16:12.403451Z"
        },
        "trusted": true,
        "id": "2bvmP7Z0Y59G"
      },
      "outputs": [],
      "source": [
        "content_based_recommender(\"Star Wars: Episode IV - A New Hope (1977)\", cosine_sim, df)"
      ]
    },
    {
      "cell_type": "code",
      "execution_count": null,
      "metadata": {
        "execution": {
          "iopub.execute_input": "2023-06-23T12:16:12.434772Z",
          "iopub.status.busy": "2023-06-23T12:16:12.434261Z",
          "iopub.status.idle": "2023-06-23T12:16:12.459896Z",
          "shell.execute_reply": "2023-06-23T12:16:12.45909Z",
          "shell.execute_reply.started": "2023-06-23T12:16:12.434742Z"
        },
        "trusted": true,
        "id": "uqZYNcIsY59H"
      },
      "outputs": [],
      "source": [
        "content_based_recommender('Pulp Fiction (1994)', cosine_sim, df)"
      ]
    },
    {
      "cell_type": "code",
      "execution_count": null,
      "metadata": {
        "execution": {
          "iopub.execute_input": "2023-06-23T12:16:12.461523Z",
          "iopub.status.busy": "2023-06-23T12:16:12.461052Z",
          "iopub.status.idle": "2023-06-23T12:16:12.467372Z",
          "shell.execute_reply": "2023-06-23T12:16:12.466238Z",
          "shell.execute_reply.started": "2023-06-23T12:16:12.461496Z"
        },
        "trusted": true,
        "id": "Aub6OmmdY59H"
      },
      "outputs": [],
      "source": [
        "def calculate_cosine_sim(dataframe):\n",
        "    tfidf = TfidfVectorizer(stop_words='english')\n",
        "    dataframe['bag_of_words'] = dataframe['bag_of_words'].fillna('')\n",
        "    tfidf_matrix = tfidf.fit_transform(dataframe['bag_of_words'])\n",
        "    cosine_sim = cosine_similarity(tfidf_matrix, tfidf_matrix)\n",
        "    return cosine_sim"
      ]
    },
    {
      "cell_type": "code",
      "execution_count": null,
      "metadata": {
        "execution": {
          "iopub.execute_input": "2023-06-23T12:16:12.469016Z",
          "iopub.status.busy": "2023-06-23T12:16:12.468729Z",
          "iopub.status.idle": "2023-06-23T12:16:12.478373Z",
          "shell.execute_reply": "2023-06-23T12:16:12.477458Z",
          "shell.execute_reply.started": "2023-06-23T12:16:12.468991Z"
        },
        "trusted": true,
        "id": "tQYzmtzlY59I"
      },
      "outputs": [],
      "source": [
        "# cosine_sim = calculate_cosine_sim(df)\n",
        "# content_based_recommender('Pulp Fiction (1994)', cosine_sim, df)"
      ]
    }
  ],
  "metadata": {
    "kaggle": {
      "accelerator": "none",
      "dataSources": [
        {
          "datasetId": 3405,
          "sourceId": 6663,
          "sourceType": "datasetVersion"
        }
      ],
      "dockerImageVersionId": 30513,
      "isGpuEnabled": false,
      "isInternetEnabled": true,
      "language": "python",
      "sourceType": "notebook"
    },
    "kernelspec": {
      "display_name": "Python 3",
      "name": "python3"
    },
    "language_info": {
      "codemirror_mode": {
        "name": "ipython",
        "version": 3
      },
      "file_extension": ".py",
      "mimetype": "text/x-python",
      "name": "python",
      "nbconvert_exporter": "python",
      "pygments_lexer": "ipython3",
      "version": "3.10.9"
    },
    "colab": {
      "provenance": [],
      "gpuType": "T4",
      "include_colab_link": true
    },
    "accelerator": "GPU"
  },
  "nbformat": 4,
  "nbformat_minor": 0
}