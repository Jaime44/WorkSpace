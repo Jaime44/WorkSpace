{
 "cells": [
  {
   "cell_type": "markdown",
   "metadata": {},
   "source": [
    "https://www.kaggle.com/code/mejbahahammad/movie-recommender-systems-using-neural-network/notebook"
   ]
  },
  {
   "cell_type": "markdown",
   "metadata": {
    "papermill": {
     "duration": 0.012048,
     "end_time": "2020-09-07T12:57:02.990253",
     "exception": false,
     "start_time": "2020-09-07T12:57:02.978205",
     "status": "completed"
    },
    "tags": []
   },
   "source": [
    "# Recommender Systems\n",
    "\n",
    "we will use RBMs to build a recommender system, one of\n",
    "the most successful applications of machine learning to date and widely\n",
    "used in industry to help predict user preferences for movies, music, books,\n",
    "news, search, shopping, digital advertising, and online dating.\n",
    "There are two major categories of recommender systems—collaborative\n",
    "filtering recommender systems and content-based filtering recommender\n",
    "systems. Collaborative filtering involves building a recommender system\n",
    "from a user’s past behavior and those of other users to which the user is\n",
    "similar to. This recommender system can then predict items that the user\n",
    "may have an interest in even though the user has never expressed explicit\n",
    "interest. Movie recommendations on Netflix rely on collaborative filtering.\n",
    "Content-based filtering involves learning the distinct properties of an item\n",
    "to recommend additional items with similar properties. Music\n",
    "recommendations on Pandora rely on content-based filtering."
   ]
  },
  {
   "cell_type": "markdown",
   "metadata": {
    "papermill": {
     "duration": 0.011423,
     "end_time": "2020-09-07T12:57:03.012446",
     "exception": false,
     "start_time": "2020-09-07T12:57:03.001023",
     "status": "completed"
    },
    "tags": []
   },
   "source": [
    "# Collaborative Filtering\n",
    "\n",
    "Content-based filtering is not commonly used because it is a rather difficult\n",
    "task to learn the distinct properties of items—this level of understanding is\n",
    "very challenging for artificial machines to achieve currently. It is much\n",
    "easier to collect and analyze a large amount of information on users’\n",
    "behaviors and preferences and make predictions based on this. Therefore,\n",
    "collaborative filtering is much more widely used and is the type of\n",
    "recommender system we will focus on here.\n",
    "\n",
    "Collaborative filtering requires no knowledge of the underlying items\n",
    "themselves. Rather, collaborative filtering assumes that users that agreed in\n",
    "the past will agree in the future and that user preferences remain stable over\n",
    "time. By modeling how similar users are to other users, collaborative\n",
    "filtering can make pretty powerful recommendations. Moreover,\n",
    "collaborative filtering does not have to rely on explicit data (i.e., ratings that\n",
    "users provide). Rather, it can work with implicit data such as how long or\n",
    "how often a user views or clicks on a particular item. For example, in the\n",
    "past Netflix asked users to rate movies but now uses implicit user behavior\n",
    "to make inferences about user likes and dislikes.\n",
    "\n",
    "However, collaborative filtering has its challenges. First, it requires a lot of\n",
    "user data to make good recommendations. Second, it is a very\n",
    "computationally demanding task. Third, the datasets are generally very\n",
    "sparse since users will have exhibited preferences for only a small fraction\n",
    "of all the items in the universe of possible items. Assuming we have enough\n",
    "data, there are techniques we can use to handle the sparsity of the data and\n",
    "efficiently solve the problem, which we will cover in this chapter."
   ]
  },
  {
   "cell_type": "markdown",
   "metadata": {
    "papermill": {
     "duration": 0.009663,
     "end_time": "2020-09-07T12:57:03.032055",
     "exception": false,
     "start_time": "2020-09-07T12:57:03.022392",
     "status": "completed"
    },
    "tags": []
   },
   "source": []
  },
  {
   "cell_type": "markdown",
   "metadata": {
    "papermill": {
     "duration": 0.009801,
     "end_time": "2020-09-07T12:57:03.051884",
     "exception": false,
     "start_time": "2020-09-07T12:57:03.042083",
     "status": "completed"
    },
    "tags": []
   },
   "source": [
    "# MovieLens Dataset\n",
    "\n",
    "Instead of the 100 million ratings Netflix dataset, we will use a smaller\n",
    "movie ratings dataset known as the MovieLens 20M Dataset, provided by\n",
    "GroupLens, a research lab in the Department of Computer Science and\n",
    "Engineering at the University of Minnesota, Twin Cities. The data contains\n",
    "20,000,263 ratings across 27,278 movies created by 138,493 users from\n",
    "January 9, 1995 to March 31, 2015. Of users who rated at least 20 movies\n",
    "each, we will select a subset at random.\n",
    "This dataset is more manageable to work with than the 100 million ratings\n",
    "dataset from Netflix. Because the file size exceeds one hundred megabytes,\n",
    "the file is not accessible on GitHub. You will need to download the file\n",
    "directly from the MovieLens website."
   ]
  },
  {
   "cell_type": "code",
   "execution_count": 1,
   "metadata": {
    "execution": {
     "iopub.execute_input": "2020-09-07T12:57:03.092627Z",
     "iopub.status.busy": "2020-09-07T12:57:03.081010Z",
     "iopub.status.idle": "2020-09-07T12:57:12.262565Z",
     "shell.execute_reply": "2020-09-07T12:57:12.261703Z"
    },
    "papermill": {
     "duration": 9.200818,
     "end_time": "2020-09-07T12:57:12.262701",
     "exception": false,
     "start_time": "2020-09-07T12:57:03.061883",
     "status": "completed"
    },
    "tags": []
   },
   "outputs": [],
   "source": [
    "import numpy as np\n",
    "import pandas as pd\n",
    "import os, time, re\n",
    "import pickle, gzip, datetime\n",
    "\n",
    "from datetime import datetime\n",
    "\n",
    "now = datetime.now()\n",
    "\n",
    "import matplotlib.pyplot as plt\n",
    "import seaborn as sns\n",
    "color = sns.color_palette()\n",
    "import matplotlib as mpl\n",
    "%matplotlib inline\n",
    "\n",
    "\n",
    "from sklearn import preprocessing as pp\n",
    "from sklearn.model_selection import train_test_split\n",
    "from sklearn.model_selection import StratifiedKFold\n",
    "from sklearn.metrics import log_loss\n",
    "from sklearn.metrics import precision_recall_curve, average_precision_score\n",
    "from sklearn.metrics import roc_curve, auc, roc_auc_score, mean_squared_error\n",
    "# import lightgbm as lgb\n",
    "\n",
    "import tensorflow as tf\n",
    "import keras\n",
    "\n",
    "from tensorflow.keras.models import Sequential, Model\n",
    "from tensorflow.keras.layers import Activation, Dense, Dropout, Concatenate\n",
    "from tensorflow.keras.layers import BatchNormalization, Input, Lambda\n",
    "from tensorflow.keras.layers import Embedding, Flatten, dot\n",
    "from tensorflow.keras import regularizers\n",
    "from tensorflow.keras.losses import mse, binary_crossentropy"
   ]
  },
  {
   "cell_type": "markdown",
   "metadata": {
    "papermill": {
     "duration": 0.00979,
     "end_time": "2020-09-07T12:57:12.282745",
     "exception": false,
     "start_time": "2020-09-07T12:57:12.272955",
     "status": "completed"
    },
    "tags": []
   },
   "source": [
    "# Load the data"
   ]
  },
  {
   "cell_type": "code",
   "execution_count": 2,
   "metadata": {
    "execution": {
     "iopub.execute_input": "2020-09-07T12:57:12.312932Z",
     "iopub.status.busy": "2020-09-07T12:57:12.312101Z",
     "iopub.status.idle": "2020-09-07T12:57:22.591402Z",
     "shell.execute_reply": "2020-09-07T12:57:22.590724Z"
    },
    "papermill": {
     "duration": 10.298925,
     "end_time": "2020-09-07T12:57:22.591533",
     "exception": false,
     "start_time": "2020-09-07T12:57:12.292608",
     "status": "completed"
    },
    "tags": []
   },
   "outputs": [],
   "source": [
    "# ratingDF = pd.read_csv('../input/movielens-20m-dataset/ratings.csv')\n",
    "ratingDF = pd.read_csv(\"C:/Users/jaime/OneDrive - Universidad de Málaga/Escritorio/UNIR/TFM/WorkSpace/Notebooks/ratings/ratings.csv\")"
   ]
  },
  {
   "cell_type": "markdown",
   "metadata": {
    "papermill": {
     "duration": 0.01034,
     "end_time": "2020-09-07T12:57:22.612028",
     "exception": false,
     "start_time": "2020-09-07T12:57:22.601688",
     "status": "completed"
    },
    "tags": []
   },
   "source": [
    "# Convert fields into appropriate data types"
   ]
  },
  {
   "cell_type": "code",
   "execution_count": 3,
   "metadata": {},
   "outputs": [
    {
     "data": {
      "text/plain": [
       "(20000263, 4)"
      ]
     },
     "execution_count": 3,
     "metadata": {},
     "output_type": "execute_result"
    }
   ],
   "source": [
    "data = ratingDF.copy()\n",
    "data.shape"
   ]
  },
  {
   "cell_type": "code",
   "execution_count": 4,
   "metadata": {},
   "outputs": [],
   "source": [
    "# tamano_muestra = 60000\n",
    "# ratingDF = ratingDF.sample(n=tamano_muestra, random_state=42)  "
   ]
  },
  {
   "cell_type": "markdown",
   "metadata": {},
   "source": [
    "Pasa el usuario ID, pelicula ID a entero, la puntuación a float y el timestamp lo pone en modo fecha y hora"
   ]
  },
  {
   "cell_type": "code",
   "execution_count": 5,
   "metadata": {
    "execution": {
     "iopub.execute_input": "2020-09-07T12:57:35.576368Z",
     "iopub.status.busy": "2020-09-07T12:57:32.417887Z",
     "iopub.status.idle": "2020-09-07T12:59:36.595004Z",
     "shell.execute_reply": "2020-09-07T12:59:36.594165Z"
    },
    "papermill": {
     "duration": 133.973068,
     "end_time": "2020-09-07T12:59:36.595152",
     "exception": false,
     "start_time": "2020-09-07T12:57:22.622084",
     "status": "completed"
    },
    "tags": []
   },
   "outputs": [],
   "source": [
    "ratingDF.userId = ratingDF.userId.astype(str).astype(int)\n",
    "ratingDF.movieId = ratingDF.movieId.astype(str).astype(int)\n",
    "ratingDF.rating = ratingDF.rating.astype(str).astype(float)\n",
    "ratingDF.timestamp = ratingDF.timestamp.apply(lambda x: now.strftime(\"%m/%d/%Y, %H:%M:%S\"))"
   ]
  },
  {
   "cell_type": "code",
   "execution_count": 6,
   "metadata": {},
   "outputs": [
    {
     "data": {
      "text/html": [
       "<div>\n",
       "<style scoped>\n",
       "    .dataframe tbody tr th:only-of-type {\n",
       "        vertical-align: middle;\n",
       "    }\n",
       "\n",
       "    .dataframe tbody tr th {\n",
       "        vertical-align: top;\n",
       "    }\n",
       "\n",
       "    .dataframe thead th {\n",
       "        text-align: right;\n",
       "    }\n",
       "</style>\n",
       "<table border=\"1\" class=\"dataframe\">\n",
       "  <thead>\n",
       "    <tr style=\"text-align: right;\">\n",
       "      <th></th>\n",
       "      <th>userId</th>\n",
       "      <th>movieId</th>\n",
       "      <th>rating</th>\n",
       "      <th>timestamp</th>\n",
       "    </tr>\n",
       "  </thead>\n",
       "  <tbody>\n",
       "    <tr>\n",
       "      <th>0</th>\n",
       "      <td>1</td>\n",
       "      <td>2</td>\n",
       "      <td>3.5</td>\n",
       "      <td>12/09/2023, 21:48:16</td>\n",
       "    </tr>\n",
       "    <tr>\n",
       "      <th>1</th>\n",
       "      <td>1</td>\n",
       "      <td>29</td>\n",
       "      <td>3.5</td>\n",
       "      <td>12/09/2023, 21:48:16</td>\n",
       "    </tr>\n",
       "    <tr>\n",
       "      <th>2</th>\n",
       "      <td>1</td>\n",
       "      <td>32</td>\n",
       "      <td>3.5</td>\n",
       "      <td>12/09/2023, 21:48:16</td>\n",
       "    </tr>\n",
       "    <tr>\n",
       "      <th>3</th>\n",
       "      <td>1</td>\n",
       "      <td>47</td>\n",
       "      <td>3.5</td>\n",
       "      <td>12/09/2023, 21:48:16</td>\n",
       "    </tr>\n",
       "    <tr>\n",
       "      <th>4</th>\n",
       "      <td>1</td>\n",
       "      <td>50</td>\n",
       "      <td>3.5</td>\n",
       "      <td>12/09/2023, 21:48:16</td>\n",
       "    </tr>\n",
       "  </tbody>\n",
       "</table>\n",
       "</div>"
      ],
      "text/plain": [
       "   userId  movieId  rating             timestamp\n",
       "0       1        2     3.5  12/09/2023, 21:48:16\n",
       "1       1       29     3.5  12/09/2023, 21:48:16\n",
       "2       1       32     3.5  12/09/2023, 21:48:16\n",
       "3       1       47     3.5  12/09/2023, 21:48:16\n",
       "4       1       50     3.5  12/09/2023, 21:48:16"
      ]
     },
     "execution_count": 6,
     "metadata": {},
     "output_type": "execute_result"
    }
   ],
   "source": [
    "ratingDF.head()"
   ]
  },
  {
   "cell_type": "markdown",
   "metadata": {},
   "source": [
    "Obtengo el número de usuarios y peliculas unico, tmabién el total de puntuaciones.\n",
    "Por último la media de puntuaciones por usuario"
   ]
  },
  {
   "cell_type": "code",
   "execution_count": 7,
   "metadata": {
    "execution": {
     "iopub.execute_input": "2020-09-07T12:59:36.626897Z",
     "iopub.status.busy": "2020-09-07T12:59:36.626135Z",
     "iopub.status.idle": "2020-09-07T12:59:36.866803Z",
     "shell.execute_reply": "2020-09-07T12:59:36.867403Z"
    },
    "papermill": {
     "duration": 0.261304,
     "end_time": "2020-09-07T12:59:36.867580",
     "exception": false,
     "start_time": "2020-09-07T12:59:36.606276",
     "status": "completed"
    },
    "tags": []
   },
   "outputs": [],
   "source": [
    "n_users = ratingDF.userId.unique().shape[0]\n",
    "n_movies = ratingDF.movieId.unique().shape[0]\n",
    "n_ratings = len(ratingDF)\n",
    "avg_ratings_per_user = n_ratings/n_users"
   ]
  },
  {
   "cell_type": "code",
   "execution_count": 8,
   "metadata": {
    "execution": {
     "iopub.execute_input": "2020-09-07T12:59:36.895743Z",
     "iopub.status.busy": "2020-09-07T12:59:36.894732Z",
     "iopub.status.idle": "2020-09-07T12:59:36.898589Z",
     "shell.execute_reply": "2020-09-07T12:59:36.899219Z"
    },
    "papermill": {
     "duration": 0.021455,
     "end_time": "2020-09-07T12:59:36.899392",
     "exception": false,
     "start_time": "2020-09-07T12:59:36.877937",
     "status": "completed"
    },
    "tags": []
   },
   "outputs": [
    {
     "name": "stdout",
     "output_type": "stream",
     "text": [
      "Number of unique users:  138493\n",
      "Number of unique movies:  26744\n",
      "Number of total ratings:  20000263\n",
      "Average number of ratings per user:  144.4135299257002\n"
     ]
    }
   ],
   "source": [
    "print('Number of unique users: ', n_users)\n",
    "print('Number of unique movies: ', n_movies)\n",
    "print('Number of total ratings: ', n_ratings)\n",
    "print('Average number of ratings per user: ', avg_ratings_per_user)"
   ]
  },
  {
   "cell_type": "markdown",
   "metadata": {},
   "source": [
    "Selecciona las 10000 peliculas con mayor puntuación\n",
    "- groupby(\"movieId\").count(): Agrupa las calificaciones por el identificador de la película y cuenta cuántas calificaciones tiene cada película.\n",
    "- sort_values(by=\"rating\", ascending=False): Ordena el resultado en orden descendente según el número de calificaciones.\n",
    "- [0:1000].index: Selecciona las primeras 1000 películas después de ordenar y extrae sus identificadores.\n",
    "\n",
    "- ratingDF.movieId.isin(movieIndex): Crea una máscara booleana que es True para las filas donde el identificador de la película está en movieIndex.\n",
    "- ratingDF[ratingDF.movieId.isin(movieIndex)]: Filtra el conjunto de datos original (ratingDF) para incluir solo las filas correspondientes a las 1000 películas más populares."
   ]
  },
  {
   "cell_type": "code",
   "execution_count": 9,
   "metadata": {
    "execution": {
     "iopub.execute_input": "2020-09-07T12:59:37.433144Z",
     "iopub.status.busy": "2020-09-07T12:59:37.078847Z",
     "iopub.status.idle": "2020-09-07T12:59:45.511431Z",
     "shell.execute_reply": "2020-09-07T12:59:45.510745Z"
    },
    "papermill": {
     "duration": 8.601118,
     "end_time": "2020-09-07T12:59:45.511570",
     "exception": false,
     "start_time": "2020-09-07T12:59:36.910452",
     "status": "completed"
    },
    "tags": []
   },
   "outputs": [
    {
     "data": {
      "text/plain": [
       "userId       12840344\n",
       "movieId      12840344\n",
       "rating       12840344\n",
       "timestamp    12840344\n",
       "dtype: int64"
      ]
     },
     "execution_count": 9,
     "metadata": {},
     "output_type": "execute_result"
    }
   ],
   "source": [
    "movieIndex = ratingDF.groupby(\"movieId\").count().sort_values(by= \\\n",
    "\"rating\",ascending=False)[0:1000].index\n",
    "ratingDFX2 = ratingDF[ratingDF.movieId.isin(movieIndex)]\n",
    "ratingDFX2.count()"
   ]
  },
  {
   "cell_type": "code",
   "execution_count": 10,
   "metadata": {},
   "outputs": [
    {
     "data": {
      "text/html": [
       "<div>\n",
       "<style scoped>\n",
       "    .dataframe tbody tr th:only-of-type {\n",
       "        vertical-align: middle;\n",
       "    }\n",
       "\n",
       "    .dataframe tbody tr th {\n",
       "        vertical-align: top;\n",
       "    }\n",
       "\n",
       "    .dataframe thead th {\n",
       "        text-align: right;\n",
       "    }\n",
       "</style>\n",
       "<table border=\"1\" class=\"dataframe\">\n",
       "  <thead>\n",
       "    <tr style=\"text-align: right;\">\n",
       "      <th></th>\n",
       "      <th>userId</th>\n",
       "      <th>movieId</th>\n",
       "      <th>rating</th>\n",
       "      <th>timestamp</th>\n",
       "    </tr>\n",
       "  </thead>\n",
       "  <tbody>\n",
       "    <tr>\n",
       "      <th>0</th>\n",
       "      <td>1</td>\n",
       "      <td>2</td>\n",
       "      <td>3.5</td>\n",
       "      <td>12/09/2023, 21:48:16</td>\n",
       "    </tr>\n",
       "    <tr>\n",
       "      <th>1</th>\n",
       "      <td>1</td>\n",
       "      <td>29</td>\n",
       "      <td>3.5</td>\n",
       "      <td>12/09/2023, 21:48:16</td>\n",
       "    </tr>\n",
       "    <tr>\n",
       "      <th>2</th>\n",
       "      <td>1</td>\n",
       "      <td>32</td>\n",
       "      <td>3.5</td>\n",
       "      <td>12/09/2023, 21:48:16</td>\n",
       "    </tr>\n",
       "    <tr>\n",
       "      <th>3</th>\n",
       "      <td>1</td>\n",
       "      <td>47</td>\n",
       "      <td>3.5</td>\n",
       "      <td>12/09/2023, 21:48:16</td>\n",
       "    </tr>\n",
       "    <tr>\n",
       "      <th>4</th>\n",
       "      <td>1</td>\n",
       "      <td>50</td>\n",
       "      <td>3.5</td>\n",
       "      <td>12/09/2023, 21:48:16</td>\n",
       "    </tr>\n",
       "  </tbody>\n",
       "</table>\n",
       "</div>"
      ],
      "text/plain": [
       "   userId  movieId  rating             timestamp\n",
       "0       1        2     3.5  12/09/2023, 21:48:16\n",
       "1       1       29     3.5  12/09/2023, 21:48:16\n",
       "2       1       32     3.5  12/09/2023, 21:48:16\n",
       "3       1       47     3.5  12/09/2023, 21:48:16\n",
       "4       1       50     3.5  12/09/2023, 21:48:16"
      ]
     },
     "execution_count": 10,
     "metadata": {},
     "output_type": "execute_result"
    }
   ],
   "source": [
    "ratingDFX2.head()"
   ]
  },
  {
   "cell_type": "markdown",
   "metadata": {},
   "source": [
    "Lo mismo que antes pero ahora selccion aleatoriamente los 10000 usuarios."
   ]
  },
  {
   "cell_type": "code",
   "execution_count": 11,
   "metadata": {
    "execution": {
     "iopub.execute_input": "2020-09-07T12:59:45.917321Z",
     "iopub.status.busy": "2020-09-07T12:59:45.635376Z",
     "iopub.status.idle": "2020-09-07T12:59:48.714842Z",
     "shell.execute_reply": "2020-09-07T12:59:48.714011Z"
    },
    "papermill": {
     "duration": 3.192523,
     "end_time": "2020-09-07T12:59:48.714992",
     "exception": false,
     "start_time": "2020-09-07T12:59:45.522469",
     "status": "completed"
    },
    "tags": []
   },
   "outputs": [
    {
     "data": {
      "text/plain": [
       "userId       90213\n",
       "movieId      90213\n",
       "rating       90213\n",
       "timestamp    90213\n",
       "dtype: int64"
      ]
     },
     "execution_count": 11,
     "metadata": {},
     "output_type": "execute_result"
    }
   ],
   "source": [
    "userIndex = ratingDFX2.groupby(\"userId\").count().sort_values(by= \\\n",
    "\"rating\",ascending=False).sample(n=1000, random_state=2018).index\n",
    "ratingDFX3 = ratingDFX2[ratingDFX2.userId.isin(userIndex)]\n",
    "ratingDFX3.count()"
   ]
  },
  {
   "cell_type": "code",
   "execution_count": 12,
   "metadata": {},
   "outputs": [
    {
     "data": {
      "text/html": [
       "<div>\n",
       "<style scoped>\n",
       "    .dataframe tbody tr th:only-of-type {\n",
       "        vertical-align: middle;\n",
       "    }\n",
       "\n",
       "    .dataframe tbody tr th {\n",
       "        vertical-align: top;\n",
       "    }\n",
       "\n",
       "    .dataframe thead th {\n",
       "        text-align: right;\n",
       "    }\n",
       "</style>\n",
       "<table border=\"1\" class=\"dataframe\">\n",
       "  <thead>\n",
       "    <tr style=\"text-align: right;\">\n",
       "      <th></th>\n",
       "      <th>userId</th>\n",
       "      <th>movieId</th>\n",
       "      <th>rating</th>\n",
       "      <th>timestamp</th>\n",
       "    </tr>\n",
       "  </thead>\n",
       "  <tbody>\n",
       "    <tr>\n",
       "      <th>4943</th>\n",
       "      <td>49</td>\n",
       "      <td>50</td>\n",
       "      <td>5.0</td>\n",
       "      <td>12/09/2023, 21:48:16</td>\n",
       "    </tr>\n",
       "    <tr>\n",
       "      <th>4944</th>\n",
       "      <td>49</td>\n",
       "      <td>163</td>\n",
       "      <td>3.5</td>\n",
       "      <td>12/09/2023, 21:48:16</td>\n",
       "    </tr>\n",
       "    <tr>\n",
       "      <th>4945</th>\n",
       "      <td>49</td>\n",
       "      <td>216</td>\n",
       "      <td>3.0</td>\n",
       "      <td>12/09/2023, 21:48:16</td>\n",
       "    </tr>\n",
       "    <tr>\n",
       "      <th>4946</th>\n",
       "      <td>49</td>\n",
       "      <td>296</td>\n",
       "      <td>5.0</td>\n",
       "      <td>12/09/2023, 21:48:16</td>\n",
       "    </tr>\n",
       "    <tr>\n",
       "      <th>4947</th>\n",
       "      <td>49</td>\n",
       "      <td>333</td>\n",
       "      <td>3.0</td>\n",
       "      <td>12/09/2023, 21:48:16</td>\n",
       "    </tr>\n",
       "  </tbody>\n",
       "</table>\n",
       "</div>"
      ],
      "text/plain": [
       "      userId  movieId  rating             timestamp\n",
       "4943      49       50     5.0  12/09/2023, 21:48:16\n",
       "4944      49      163     3.5  12/09/2023, 21:48:16\n",
       "4945      49      216     3.0  12/09/2023, 21:48:16\n",
       "4946      49      296     5.0  12/09/2023, 21:48:16\n",
       "4947      49      333     3.0  12/09/2023, 21:48:16"
      ]
     },
     "execution_count": 12,
     "metadata": {},
     "output_type": "execute_result"
    }
   ],
   "source": [
    "ratingDFX3.head()"
   ]
  },
  {
   "cell_type": "markdown",
   "metadata": {
    "papermill": {
     "duration": 0.010609,
     "end_time": "2020-09-07T12:59:48.736449",
     "exception": false,
     "start_time": "2020-09-07T12:59:48.725840",
     "status": "completed"
    },
    "tags": []
   },
   "source": [
    "También reindexaremos movieID y userID a un rango de 1 a 1.000 para nuestro conjunto de datos reducido:"
   ]
  },
  {
   "cell_type": "code",
   "execution_count": 13,
   "metadata": {
    "execution": {
     "iopub.execute_input": "2020-09-07T12:59:48.764631Z",
     "iopub.status.busy": "2020-09-07T12:59:48.763783Z",
     "iopub.status.idle": "2020-09-07T12:59:48.770430Z",
     "shell.execute_reply": "2020-09-07T12:59:48.769645Z"
    },
    "papermill": {
     "duration": 0.0234,
     "end_time": "2020-09-07T12:59:48.770557",
     "exception": false,
     "start_time": "2020-09-07T12:59:48.747157",
     "status": "completed"
    },
    "tags": []
   },
   "outputs": [],
   "source": [
    "movies = ratingDFX3.movieId.unique()\n",
    "moviesDF = pd.DataFrame(data=movies,columns=['originalMovieId'])\n",
    "moviesDF['newMovieId'] = moviesDF.index+1"
   ]
  },
  {
   "cell_type": "code",
   "execution_count": 14,
   "metadata": {},
   "outputs": [
    {
     "data": {
      "text/html": [
       "<div>\n",
       "<style scoped>\n",
       "    .dataframe tbody tr th:only-of-type {\n",
       "        vertical-align: middle;\n",
       "    }\n",
       "\n",
       "    .dataframe tbody tr th {\n",
       "        vertical-align: top;\n",
       "    }\n",
       "\n",
       "    .dataframe thead th {\n",
       "        text-align: right;\n",
       "    }\n",
       "</style>\n",
       "<table border=\"1\" class=\"dataframe\">\n",
       "  <thead>\n",
       "    <tr style=\"text-align: right;\">\n",
       "      <th></th>\n",
       "      <th>originalMovieId</th>\n",
       "      <th>newMovieId</th>\n",
       "    </tr>\n",
       "  </thead>\n",
       "  <tbody>\n",
       "    <tr>\n",
       "      <th>0</th>\n",
       "      <td>50</td>\n",
       "      <td>1</td>\n",
       "    </tr>\n",
       "    <tr>\n",
       "      <th>1</th>\n",
       "      <td>163</td>\n",
       "      <td>2</td>\n",
       "    </tr>\n",
       "    <tr>\n",
       "      <th>2</th>\n",
       "      <td>216</td>\n",
       "      <td>3</td>\n",
       "    </tr>\n",
       "    <tr>\n",
       "      <th>3</th>\n",
       "      <td>296</td>\n",
       "      <td>4</td>\n",
       "    </tr>\n",
       "    <tr>\n",
       "      <th>4</th>\n",
       "      <td>333</td>\n",
       "      <td>5</td>\n",
       "    </tr>\n",
       "  </tbody>\n",
       "</table>\n",
       "</div>"
      ],
      "text/plain": [
       "   originalMovieId  newMovieId\n",
       "0               50           1\n",
       "1              163           2\n",
       "2              216           3\n",
       "3              296           4\n",
       "4              333           5"
      ]
     },
     "execution_count": 14,
     "metadata": {},
     "output_type": "execute_result"
    }
   ],
   "source": [
    "moviesDF.head()"
   ]
  },
  {
   "cell_type": "code",
   "execution_count": 15,
   "metadata": {
    "execution": {
     "iopub.execute_input": "2020-09-07T12:59:48.799492Z",
     "iopub.status.busy": "2020-09-07T12:59:48.798741Z",
     "iopub.status.idle": "2020-09-07T12:59:48.804566Z",
     "shell.execute_reply": "2020-09-07T12:59:48.803809Z"
    },
    "papermill": {
     "duration": 0.023085,
     "end_time": "2020-09-07T12:59:48.804689",
     "exception": false,
     "start_time": "2020-09-07T12:59:48.781604",
     "status": "completed"
    },
    "tags": []
   },
   "outputs": [],
   "source": [
    "users = ratingDFX3.userId.unique()\n",
    "usersDF = pd.DataFrame(data=users,columns=['originalUserId'])\n",
    "usersDF['newUserId'] = usersDF.index+1"
   ]
  },
  {
   "cell_type": "code",
   "execution_count": 16,
   "metadata": {},
   "outputs": [
    {
     "data": {
      "text/html": [
       "<div>\n",
       "<style scoped>\n",
       "    .dataframe tbody tr th:only-of-type {\n",
       "        vertical-align: middle;\n",
       "    }\n",
       "\n",
       "    .dataframe tbody tr th {\n",
       "        vertical-align: top;\n",
       "    }\n",
       "\n",
       "    .dataframe thead th {\n",
       "        text-align: right;\n",
       "    }\n",
       "</style>\n",
       "<table border=\"1\" class=\"dataframe\">\n",
       "  <thead>\n",
       "    <tr style=\"text-align: right;\">\n",
       "      <th></th>\n",
       "      <th>originalUserId</th>\n",
       "      <th>newUserId</th>\n",
       "    </tr>\n",
       "  </thead>\n",
       "  <tbody>\n",
       "    <tr>\n",
       "      <th>0</th>\n",
       "      <td>49</td>\n",
       "      <td>1</td>\n",
       "    </tr>\n",
       "    <tr>\n",
       "      <th>1</th>\n",
       "      <td>260</td>\n",
       "      <td>2</td>\n",
       "    </tr>\n",
       "    <tr>\n",
       "      <th>2</th>\n",
       "      <td>311</td>\n",
       "      <td>3</td>\n",
       "    </tr>\n",
       "    <tr>\n",
       "      <th>3</th>\n",
       "      <td>319</td>\n",
       "      <td>4</td>\n",
       "    </tr>\n",
       "    <tr>\n",
       "      <th>4</th>\n",
       "      <td>499</td>\n",
       "      <td>5</td>\n",
       "    </tr>\n",
       "  </tbody>\n",
       "</table>\n",
       "</div>"
      ],
      "text/plain": [
       "   originalUserId  newUserId\n",
       "0              49          1\n",
       "1             260          2\n",
       "2             311          3\n",
       "3             319          4\n",
       "4             499          5"
      ]
     },
     "execution_count": 16,
     "metadata": {},
     "output_type": "execute_result"
    }
   ],
   "source": [
    "usersDF.head()"
   ]
  },
  {
   "cell_type": "code",
   "execution_count": 17,
   "metadata": {
    "execution": {
     "iopub.execute_input": "2020-09-07T12:59:48.835668Z",
     "iopub.status.busy": "2020-09-07T12:59:48.834390Z",
     "iopub.status.idle": "2020-09-07T12:59:48.903050Z",
     "shell.execute_reply": "2020-09-07T12:59:48.902247Z"
    },
    "papermill": {
     "duration": 0.08748,
     "end_time": "2020-09-07T12:59:48.903184",
     "exception": false,
     "start_time": "2020-09-07T12:59:48.815704",
     "status": "completed"
    },
    "tags": []
   },
   "outputs": [],
   "source": [
    "ratingDFX3 = ratingDFX3.merge(moviesDF,left_on='movieId', \\\n",
    "right_on='originalMovieId')\n",
    "ratingDFX3.drop(labels='originalMovieId', axis=1, inplace=True)\n",
    "ratingDFX3 = ratingDFX3.merge(usersDF,left_on='userId', \\\n",
    "right_on='originalUserId')\n",
    "ratingDFX3.drop(labels='originalUserId', axis=1, inplace=True)"
   ]
  },
  {
   "cell_type": "code",
   "execution_count": 18,
   "metadata": {},
   "outputs": [
    {
     "data": {
      "text/html": [
       "<div>\n",
       "<style scoped>\n",
       "    .dataframe tbody tr th:only-of-type {\n",
       "        vertical-align: middle;\n",
       "    }\n",
       "\n",
       "    .dataframe tbody tr th {\n",
       "        vertical-align: top;\n",
       "    }\n",
       "\n",
       "    .dataframe thead th {\n",
       "        text-align: right;\n",
       "    }\n",
       "</style>\n",
       "<table border=\"1\" class=\"dataframe\">\n",
       "  <thead>\n",
       "    <tr style=\"text-align: right;\">\n",
       "      <th></th>\n",
       "      <th>userId</th>\n",
       "      <th>movieId</th>\n",
       "      <th>rating</th>\n",
       "      <th>timestamp</th>\n",
       "      <th>newMovieId</th>\n",
       "      <th>newUserId</th>\n",
       "    </tr>\n",
       "  </thead>\n",
       "  <tbody>\n",
       "    <tr>\n",
       "      <th>0</th>\n",
       "      <td>49</td>\n",
       "      <td>50</td>\n",
       "      <td>5.0</td>\n",
       "      <td>12/09/2023, 21:48:16</td>\n",
       "      <td>1</td>\n",
       "      <td>1</td>\n",
       "    </tr>\n",
       "    <tr>\n",
       "      <th>1</th>\n",
       "      <td>49</td>\n",
       "      <td>163</td>\n",
       "      <td>3.5</td>\n",
       "      <td>12/09/2023, 21:48:16</td>\n",
       "      <td>2</td>\n",
       "      <td>1</td>\n",
       "    </tr>\n",
       "    <tr>\n",
       "      <th>2</th>\n",
       "      <td>49</td>\n",
       "      <td>216</td>\n",
       "      <td>3.0</td>\n",
       "      <td>12/09/2023, 21:48:16</td>\n",
       "      <td>3</td>\n",
       "      <td>1</td>\n",
       "    </tr>\n",
       "    <tr>\n",
       "      <th>3</th>\n",
       "      <td>49</td>\n",
       "      <td>296</td>\n",
       "      <td>5.0</td>\n",
       "      <td>12/09/2023, 21:48:16</td>\n",
       "      <td>4</td>\n",
       "      <td>1</td>\n",
       "    </tr>\n",
       "    <tr>\n",
       "      <th>4</th>\n",
       "      <td>49</td>\n",
       "      <td>333</td>\n",
       "      <td>3.0</td>\n",
       "      <td>12/09/2023, 21:48:16</td>\n",
       "      <td>5</td>\n",
       "      <td>1</td>\n",
       "    </tr>\n",
       "  </tbody>\n",
       "</table>\n",
       "</div>"
      ],
      "text/plain": [
       "   userId  movieId  rating             timestamp  newMovieId  newUserId\n",
       "0      49       50     5.0  12/09/2023, 21:48:16           1          1\n",
       "1      49      163     3.5  12/09/2023, 21:48:16           2          1\n",
       "2      49      216     3.0  12/09/2023, 21:48:16           3          1\n",
       "3      49      296     5.0  12/09/2023, 21:48:16           4          1\n",
       "4      49      333     3.0  12/09/2023, 21:48:16           5          1"
      ]
     },
     "execution_count": 18,
     "metadata": {},
     "output_type": "execute_result"
    }
   ],
   "source": [
    "ratingDFX3.head()"
   ]
  },
  {
   "cell_type": "markdown",
   "metadata": {
    "papermill": {
     "duration": 0.010566,
     "end_time": "2020-09-07T12:59:48.925121",
     "exception": false,
     "start_time": "2020-09-07T12:59:48.914555",
     "status": "completed"
    },
    "tags": []
   },
   "source": [
    "Calculemos el número de usuarios únicos, películas únicas, valoraciones totales y número medio de valoraciones por usuario para nuestro conjunto de datos reducido:"
   ]
  },
  {
   "cell_type": "code",
   "execution_count": 19,
   "metadata": {
    "execution": {
     "iopub.execute_input": "2020-09-07T12:59:48.953879Z",
     "iopub.status.busy": "2020-09-07T12:59:48.953087Z",
     "iopub.status.idle": "2020-09-07T12:59:48.958207Z",
     "shell.execute_reply": "2020-09-07T12:59:48.957567Z"
    },
    "papermill": {
     "duration": 0.022373,
     "end_time": "2020-09-07T12:59:48.958333",
     "exception": false,
     "start_time": "2020-09-07T12:59:48.935960",
     "status": "completed"
    },
    "tags": []
   },
   "outputs": [],
   "source": [
    "n_users = ratingDFX3.userId.unique().shape[0]\n",
    "n_movies = ratingDFX3.movieId.unique().shape[0]\n",
    "n_ratings = len(ratingDFX3)\n",
    "avg_ratings_per_user = n_ratings/n_users"
   ]
  },
  {
   "cell_type": "code",
   "execution_count": 20,
   "metadata": {
    "execution": {
     "iopub.execute_input": "2020-09-07T12:59:48.987825Z",
     "iopub.status.busy": "2020-09-07T12:59:48.986872Z",
     "iopub.status.idle": "2020-09-07T12:59:48.990475Z",
     "shell.execute_reply": "2020-09-07T12:59:48.991207Z"
    },
    "papermill": {
     "duration": 0.021635,
     "end_time": "2020-09-07T12:59:48.991368",
     "exception": false,
     "start_time": "2020-09-07T12:59:48.969733",
     "status": "completed"
    },
    "tags": []
   },
   "outputs": [
    {
     "name": "stdout",
     "output_type": "stream",
     "text": [
      "Number of unique users:  1000\n",
      "Number of unique movies:  1000\n",
      "Number of total ratings:  90213\n",
      "Average number of ratings per user:  90.213\n"
     ]
    }
   ],
   "source": [
    "print('Number of unique users: ', n_users)\n",
    "print('Number of unique movies: ', n_movies)\n",
    "print('Number of total ratings: ', n_ratings)\n",
    "print('Average number of ratings per user: ', avg_ratings_per_user)"
   ]
  },
  {
   "cell_type": "markdown",
   "metadata": {
    "papermill": {
     "duration": 0.011613,
     "end_time": "2020-09-07T12:59:49.014207",
     "exception": false,
     "start_time": "2020-09-07T12:59:49.002594",
     "status": "completed"
    },
    "tags": []
   },
   "source": [
    "Conjunto de entrenamiento\n",
    "\n",
    "Conjunto de test\n",
    "\n",
    "Conjunto de validación\n",
    "\n",
    "Generemos un conjunto de prueba y un conjunto de validación a partir de este conjunto de datos reducido, de modo que cada conjunto de retención represente el 5% del conjunto de datos reducido:"
   ]
  },
  {
   "cell_type": "code",
   "execution_count": 21,
   "metadata": {
    "execution": {
     "iopub.execute_input": "2020-09-07T12:59:49.047674Z",
     "iopub.status.busy": "2020-09-07T12:59:49.046901Z",
     "iopub.status.idle": "2020-09-07T12:59:49.064222Z",
     "shell.execute_reply": "2020-09-07T12:59:49.063431Z"
    },
    "papermill": {
     "duration": 0.038482,
     "end_time": "2020-09-07T12:59:49.064355",
     "exception": false,
     "start_time": "2020-09-07T12:59:49.025873",
     "status": "completed"
    },
    "tags": []
   },
   "outputs": [],
   "source": [
    "X_train, X_test = train_test_split(ratingDFX3,\n",
    "test_size=0.10, shuffle=True, random_state=2018)\n",
    "X_validation, X_test = train_test_split(X_test,\n",
    "test_size=0.50, shuffle=True, random_state=2018)"
   ]
  },
  {
   "cell_type": "code",
   "execution_count": 22,
   "metadata": {
    "execution": {
     "iopub.execute_input": "2020-09-07T12:59:49.093648Z",
     "iopub.status.busy": "2020-09-07T12:59:49.092792Z",
     "iopub.status.idle": "2020-09-07T12:59:49.098778Z",
     "shell.execute_reply": "2020-09-07T12:59:49.098057Z"
    },
    "papermill": {
     "duration": 0.023142,
     "end_time": "2020-09-07T12:59:49.098900",
     "exception": false,
     "start_time": "2020-09-07T12:59:49.075758",
     "status": "completed"
    },
    "tags": []
   },
   "outputs": [
    {
     "name": "stdout",
     "output_type": "stream",
     "text": [
      "Shape of train set: (81191, 6)\n",
      "Shape of validation set: (4511, 6)\n",
      "Shape of test set:  (4511, 6)\n"
     ]
    }
   ],
   "source": [
    "print('Shape of train set:', X_train.shape)\n",
    "print('Shape of validation set:',X_validation.shape)\n",
    "print('Shape of test set: ',X_test.shape)"
   ]
  },
  {
   "cell_type": "code",
   "execution_count": 23,
   "metadata": {
    "execution": {
     "iopub.execute_input": "2020-09-07T12:59:49.128186Z",
     "iopub.status.busy": "2020-09-07T12:59:49.127398Z",
     "iopub.status.idle": "2020-09-07T12:59:49.130624Z",
     "shell.execute_reply": "2020-09-07T12:59:49.131637Z"
    },
    "papermill": {
     "duration": 0.021494,
     "end_time": "2020-09-07T12:59:49.131799",
     "exception": false,
     "start_time": "2020-09-07T12:59:49.110305",
     "status": "completed"
    },
    "tags": []
   },
   "outputs": [
    {
     "name": "stdout",
     "output_type": "stream",
     "text": [
      "Size of train set: 487146\n",
      "Size of validation set: 27066\n",
      "Size of test set:  27066\n"
     ]
    }
   ],
   "source": [
    "print('Size of train set:', X_train.size)\n",
    "print('Size of validation set:',X_validation.size)\n",
    "print('Size of test set: ',X_test.size)"
   ]
  },
  {
   "cell_type": "markdown",
   "metadata": {
    "papermill": {
     "duration": 0.011228,
     "end_time": "2020-09-07T12:59:49.154989",
     "exception": false,
     "start_time": "2020-09-07T12:59:49.143761",
     "status": "completed"
    },
    "tags": []
   },
   "source": [
    "## Define the Cost Function: Mean Squared Error"
   ]
  },
  {
   "cell_type": "markdown",
   "metadata": {},
   "source": [
    "Está creando una matriz ratings_train inicializada con ceros y luego la está llenando\n",
    "con calificaciones de películas proporcionadas en el conjunto de entrenamiento X_train"
   ]
  },
  {
   "cell_type": "code",
   "execution_count": 24,
   "metadata": {
    "execution": {
     "iopub.execute_input": "2020-09-07T12:59:49.186082Z",
     "iopub.status.busy": "2020-09-07T12:59:49.184990Z",
     "iopub.status.idle": "2020-09-07T12:59:49.442841Z",
     "shell.execute_reply": "2020-09-07T12:59:49.442119Z"
    },
    "papermill": {
     "duration": 0.276461,
     "end_time": "2020-09-07T12:59:49.442989",
     "exception": false,
     "start_time": "2020-09-07T12:59:49.166528",
     "status": "completed"
    },
    "tags": []
   },
   "outputs": [],
   "source": [
    "# Generate ratings matrix for train\n",
    "ratings_train = np.zeros((n_users, n_movies))\n",
    "for row in X_train.itertuples():\n",
    "    # row[6]-1 --> El índice del usuario menos uno porque en las amtrices los indices empizan por 0 y en el datset por 1.\n",
    "    # row[5]-1 --> El índice de la pelicual menos uno porque en las amtrices los indices empizan por 0 y en el datset por 1.\n",
    "\n",
    "    #La posición usuario, pelicula tiene la puntuación del dataset.\n",
    "    ratings_train[row[6]-1, row[5]-1] = row[3]"
   ]
  },
  {
   "cell_type": "markdown",
   "metadata": {},
   "source": [
    "En este bloque de código, se está calculando y mostrando la \"esparsez\" de la matriz ratings_train. \n",
    "\n",
    "La esparsez se refiere a la proporción de elementos no nulos (diferentes de cero) en la matriz \n",
    "\n",
    "en comparación con el número total de elementos posibles."
   ]
  },
  {
   "cell_type": "code",
   "execution_count": 25,
   "metadata": {
    "execution": {
     "iopub.execute_input": "2020-09-07T12:59:49.474941Z",
     "iopub.status.busy": "2020-09-07T12:59:49.474146Z",
     "iopub.status.idle": "2020-09-07T12:59:49.498254Z",
     "shell.execute_reply": "2020-09-07T12:59:49.497271Z"
    },
    "papermill": {
     "duration": 0.04322,
     "end_time": "2020-09-07T12:59:49.498441",
     "exception": false,
     "start_time": "2020-09-07T12:59:49.455221",
     "status": "completed"
    },
    "tags": []
   },
   "outputs": [
    {
     "name": "stdout",
     "output_type": "stream",
     "text": [
      "Sparsity: 8.12%\n"
     ]
    }
   ],
   "source": [
    "sparsity = float(len(ratings_train.nonzero()[0]))  #Calcula el número total de elementos en la matriz multiplicando el número de filas por el número de columnas.\n",
    "sparsity /= (ratings_train.shape[0] * ratings_train.shape[1]) # Divide la cantidad de elementos no cero entre el número total de elementos, normalizando así la esparsez para que esté en el rango [0, 1].\n",
    "sparsity *= 100\n",
    "print('Sparsity: {:4.2f}%'.format(sparsity))"
   ]
  },
  {
   "cell_type": "code",
   "execution_count": 26,
   "metadata": {
    "execution": {
     "iopub.execute_input": "2020-09-07T12:59:49.531518Z",
     "iopub.status.busy": "2020-09-07T12:59:49.530409Z",
     "iopub.status.idle": "2020-09-07T12:59:49.554498Z",
     "shell.execute_reply": "2020-09-07T12:59:49.553791Z"
    },
    "papermill": {
     "duration": 0.043113,
     "end_time": "2020-09-07T12:59:49.554646",
     "exception": false,
     "start_time": "2020-09-07T12:59:49.511533",
     "status": "completed"
    },
    "tags": []
   },
   "outputs": [],
   "source": [
    "# Generate ratings matrix for validation\n",
    "ratings_validation = np.zeros((n_users, n_movies))\n",
    "for row in X_validation.itertuples():\n",
    "    ratings_validation[row[6]-1, row[5]-1] = row[3]"
   ]
  },
  {
   "cell_type": "code",
   "execution_count": 27,
   "metadata": {
    "execution": {
     "iopub.execute_input": "2020-09-07T12:59:49.587905Z",
     "iopub.status.busy": "2020-09-07T12:59:49.586797Z",
     "iopub.status.idle": "2020-09-07T12:59:49.607044Z",
     "shell.execute_reply": "2020-09-07T12:59:49.606337Z"
    },
    "papermill": {
     "duration": 0.039896,
     "end_time": "2020-09-07T12:59:49.607183",
     "exception": false,
     "start_time": "2020-09-07T12:59:49.567287",
     "status": "completed"
    },
    "tags": []
   },
   "outputs": [],
   "source": [
    "# Generate ratings matrix for test\n",
    "ratings_test = np.zeros((n_users, n_movies))\n",
    "for row in X_test.itertuples():\n",
    "    ratings_test[row[6]-1, row[5]-1] = row[3]"
   ]
  },
  {
   "cell_type": "markdown",
   "metadata": {
    "papermill": {
     "duration": 0.011735,
     "end_time": "2020-09-07T12:59:49.631352",
     "exception": false,
     "start_time": "2020-09-07T12:59:49.619617",
     "status": "completed"
    },
    "tags": []
   },
   "source": [
    "# Perform Baseline Experiments"
   ]
  },
  {
   "cell_type": "markdown",
   "metadata": {},
   "source": [
    "ratings_validation.nonzero():\n",
    "\n",
    "- ratings_validation.nonzero() devuelve las coordenadas (índices) de los elementos no cero en la matriz ratings_validation. Este método devuelve dos arreglos, uno para las coordenadas de las filas y otro para las coordenadas de las columnas donde los elementos son diferentes de cero.\n",
    "Indexación de ratings_validation:\n",
    "\n",
    "- ratings_validation[ratings_validation.nonzero()] realiza la indexación de la matriz ratings_validation utilizando las coordenadas de los elementos no cero. Esto devuelve un array con los valores de las calificaciones correspondientes a las coordenadas no cero en la matriz de validación.\n",
    "\n",
    "Flatten:\n",
    "\n",
    "- .flatten() se utiliza para aplanar el array resultante a una dimensión. Esto es necesario porque ratings_validation.nonzero() devuelve coordenadas bidimensionales, pero actual_validation debe ser un array unidimensional que contenga las calificaciones reales."
   ]
  },
  {
   "cell_type": "code",
   "execution_count": 28,
   "metadata": {
    "execution": {
     "iopub.execute_input": "2020-09-07T12:59:49.661919Z",
     "iopub.status.busy": "2020-09-07T12:59:49.661187Z",
     "iopub.status.idle": "2020-09-07T12:59:49.678598Z",
     "shell.execute_reply": "2020-09-07T12:59:49.677893Z"
    },
    "papermill": {
     "duration": 0.035042,
     "end_time": "2020-09-07T12:59:49.678725",
     "exception": false,
     "start_time": "2020-09-07T12:59:49.643683",
     "status": "completed"
    },
    "tags": []
   },
   "outputs": [],
   "source": [
    "actual_validation = ratings_validation[ratings_validation.nonzero()].flatten()"
   ]
  },
  {
   "cell_type": "markdown",
   "metadata": {},
   "source": [
    "Se está inicializando un array pred_validation con ceros, y luego se asigna el valor 3.5 a todos los elementos del array. Vamos a desglosar \n",
    "\n",
    "Esta inicialización se realiza comúnmente para establecer un punto de partida antes de que el modelo realice sus predicciones. Luego, durante el entrenamiento, el modelo ajustará estas predicciones para minimizar la función de pérdida en comparación con las calificaciones reales del conjunto de validación."
   ]
  },
  {
   "cell_type": "code",
   "execution_count": 29,
   "metadata": {
    "execution": {
     "iopub.execute_input": "2020-09-07T12:59:49.712658Z",
     "iopub.status.busy": "2020-09-07T12:59:49.711566Z",
     "iopub.status.idle": "2020-09-07T12:59:49.717458Z",
     "shell.execute_reply": "2020-09-07T12:59:49.716408Z"
    },
    "papermill": {
     "duration": 0.026547,
     "end_time": "2020-09-07T12:59:49.717630",
     "exception": false,
     "start_time": "2020-09-07T12:59:49.691083",
     "status": "completed"
    },
    "tags": []
   },
   "outputs": [
    {
     "data": {
      "text/plain": [
       "array([[3.5],\n",
       "       [3.5],\n",
       "       [3.5],\n",
       "       ...,\n",
       "       [3.5],\n",
       "       [3.5],\n",
       "       [3.5]])"
      ]
     },
     "execution_count": 29,
     "metadata": {},
     "output_type": "execute_result"
    }
   ],
   "source": [
    "pred_validation = np.zeros((len(X_validation),1))\n",
    "pred_validation[pred_validation==0] = 3.5\n",
    "pred_validation"
   ]
  },
  {
   "cell_type": "code",
   "execution_count": 30,
   "metadata": {
    "execution": {
     "iopub.execute_input": "2020-09-07T12:59:49.754355Z",
     "iopub.status.busy": "2020-09-07T12:59:49.753292Z",
     "iopub.status.idle": "2020-09-07T12:59:49.760396Z",
     "shell.execute_reply": "2020-09-07T12:59:49.759452Z"
    },
    "papermill": {
     "duration": 0.025224,
     "end_time": "2020-09-07T12:59:49.760575",
     "exception": false,
     "start_time": "2020-09-07T12:59:49.735351",
     "status": "completed"
    },
    "tags": []
   },
   "outputs": [
    {
     "name": "stdout",
     "output_type": "stream",
     "text": [
      "Mean  Squared Error is :  1.055420084238528\n"
     ]
    }
   ],
   "source": [
    "print(\"Mean  Squared Error is : \", mean_squared_error(pred_validation, actual_validation))"
   ]
  },
  {
   "cell_type": "markdown",
   "metadata": {},
   "source": [
    "Está imputando predicciones para el conjunto de validación utilizando la media de las calificaciones no nulas en el conjunto de entrenamiento. La idea es llenar las calificaciones faltantes en el conjunto de validación con la media de las calificaciones observadas en el conjunto de entrenamiento. Este enfoque proporciona una manera simple de asignar valores a las calificaciones faltantes para evaluar el rendimiento del modelo en el conjunto de validación."
   ]
  },
  {
   "cell_type": "code",
   "execution_count": 31,
   "metadata": {
    "execution": {
     "iopub.execute_input": "2020-09-07T12:59:49.793919Z",
     "iopub.status.busy": "2020-09-07T12:59:49.792832Z",
     "iopub.status.idle": "2020-09-07T12:59:49.851214Z",
     "shell.execute_reply": "2020-09-07T12:59:49.850432Z"
    },
    "papermill": {
     "duration": 0.076873,
     "end_time": "2020-09-07T12:59:49.851351",
     "exception": false,
     "start_time": "2020-09-07T12:59:49.774478",
     "status": "completed"
    },
    "tags": []
   },
   "outputs": [],
   "source": [
    "ratings_validation_prediction = np.zeros((n_users, n_movies))\n",
    "i = 0\n",
    "for row in ratings_train:\n",
    "    ratings_validation_prediction[i][ratings_validation_prediction[i]==0] = np.mean(row[row>0])\n",
    "    i += 1"
   ]
  },
  {
   "cell_type": "code",
   "execution_count": 32,
   "metadata": {
    "execution": {
     "iopub.execute_input": "2020-09-07T12:59:49.884984Z",
     "iopub.status.busy": "2020-09-07T12:59:49.883800Z",
     "iopub.status.idle": "2020-09-07T12:59:49.900961Z",
     "shell.execute_reply": "2020-09-07T12:59:49.899985Z"
    },
    "papermill": {
     "duration": 0.037303,
     "end_time": "2020-09-07T12:59:49.901166",
     "exception": false,
     "start_time": "2020-09-07T12:59:49.863863",
     "status": "completed"
    },
    "tags": []
   },
   "outputs": [
    {
     "name": "stdout",
     "output_type": "stream",
     "text": [
      "Mean squared error using user average: 0.9090717929472647\n"
     ]
    }
   ],
   "source": [
    "pred_validation = ratings_validation_prediction  [ratings_validation.nonzero()].flatten()\n",
    "user_average = mean_squared_error(pred_validation, actual_validation)\n",
    "print('Mean squared error using user average:', user_average)"
   ]
  },
  {
   "cell_type": "markdown",
   "metadata": {},
   "source": [
    "Realiza una imputación de predicciones para el conjunto de validación utilizando la media de las calificaciones no nulas en el conjunto de entrenamiento, pero lo hace por columna (por película) en lugar de por fila (por usuario). La diferencia en la forma de la matriz resultante (ratings_validation_prediction) es el resultado de esta transposición. Ambos enfoques proporcionan formas de imputar predicciones para evaluar el rendimiento del modelo en el conjunto de validación."
   ]
  },
  {
   "cell_type": "code",
   "execution_count": 33,
   "metadata": {
    "execution": {
     "iopub.execute_input": "2020-09-07T12:59:49.939082Z",
     "iopub.status.busy": "2020-09-07T12:59:49.938297Z",
     "iopub.status.idle": "2020-09-07T12:59:50.019301Z",
     "shell.execute_reply": "2020-09-07T12:59:50.018560Z"
    },
    "papermill": {
     "duration": 0.103274,
     "end_time": "2020-09-07T12:59:50.019448",
     "exception": false,
     "start_time": "2020-09-07T12:59:49.916174",
     "status": "completed"
    },
    "tags": []
   },
   "outputs": [],
   "source": [
    "ratings_validation_prediction = np.zeros((n_users, n_movies)).T\n",
    "i = 0\n",
    "for row in ratings_train.T:\n",
    "    ratings_validation_prediction[i][ratings_validation_prediction[i]==0] = np.mean(row[row>0])\n",
    "    i += 1"
   ]
  },
  {
   "cell_type": "code",
   "execution_count": 34,
   "metadata": {
    "execution": {
     "iopub.execute_input": "2020-09-07T12:59:50.053143Z",
     "iopub.status.busy": "2020-09-07T12:59:50.052334Z",
     "iopub.status.idle": "2020-09-07T12:59:50.071905Z",
     "shell.execute_reply": "2020-09-07T12:59:50.072778Z"
    },
    "papermill": {
     "duration": 0.040464,
     "end_time": "2020-09-07T12:59:50.073029",
     "exception": false,
     "start_time": "2020-09-07T12:59:50.032565",
     "status": "completed"
    },
    "tags": []
   },
   "outputs": [
    {
     "name": "stdout",
     "output_type": "stream",
     "text": [
      "Mean squared error using movie average: 0.9136057106858655\n"
     ]
    }
   ],
   "source": [
    "ratings_validation_prediction = ratings_validation_prediction.T\n",
    "pred_validation = ratings_validation_prediction[ratings_validation.nonzero()].flatten()\n",
    "movie_average = mean_squared_error(pred_validation, actual_validation)\n",
    "print('Mean squared error using movie average:', movie_average)"
   ]
  },
  {
   "cell_type": "markdown",
   "metadata": {},
   "source": [
    "1. Embedding Layer en Redes Neuronales:\n",
    "\n",
    "- En redes neuronales, una capa de embedding se utiliza para representar datos categóricos, como índices de usuarios o elementos, en un espacio de características continuas (vectores de números reales).\n",
    "- En el contexto de un modelo de recomendación, los índices de usuarios y elementos (películas en este caso) son datos categóricos que se deben convertir en representaciones numéricas continuas.\n",
    "\n",
    "2. Parámetros de la Capa de Embedding:\n",
    "\n",
    "- input_dim: Especifica el tamaño del vocabulario de entrada, es decir, el número total de usuarios únicos en este caso. Se añade 1 porque los índices suelen comenzar desde 1 en lugar de 0.\n",
    "- output_dim: Determina la dimensión del espacio de embedding, es decir, el número de factores latentes que se están utilizando para representar a cada usuario. Este valor es un hiperparámetro ajustable y se ha establecido en 1 en tu código.\n",
    "\n",
    "3. Entrada y Salida de la Capa:\n",
    "\n",
    "- user_input: Es la entrada que representa al usuario. En este caso, es un tensor de forma (batch_size, 1), donde cada elemento es el índice del usuario.\n",
    "- user_embedding: Es la salida de la capa de embedding. Será un tensor de forma (batch_size, 1, output_dim), donde el último eje representa la representación continua del usuario en el espacio de factores latentes.\n",
    "\n",
    "4. Nombre de la Capa:\n",
    "\n",
    "- name='user_embedding': Proporciona un nombre identificativo a la capa. Este nombre es útil al inspeccionar o referenciar la capa más adelante en el código.\n",
    "\n",
    "En resumen, la capa de embedding para usuarios convierte los índices de usuarios (datos categóricos) en vectores de números reales en un espacio de factores latentes. Estos vectores representan características no observadas (latent factors) que el modelo aprenderá durante el entrenamiento para hacer recomendaciones más precisas. La elección del número de factores latentes (output_dim) es un hiperparámetro crucial que afecta el rendimiento del modelo y suele ser sintonizado mediante validación cruzada u otras técnicas de ajuste de hiperparámetros."
   ]
  },
  {
   "cell_type": "code",
   "execution_count": 35,
   "metadata": {
    "execution": {
     "iopub.execute_input": "2020-09-07T12:59:50.118095Z",
     "iopub.status.busy": "2020-09-07T12:59:50.117274Z",
     "iopub.status.idle": "2020-09-07T12:59:50.336521Z",
     "shell.execute_reply": "2020-09-07T12:59:50.335614Z"
    },
    "papermill": {
     "duration": 0.245601,
     "end_time": "2020-09-07T12:59:50.336694",
     "exception": false,
     "start_time": "2020-09-07T12:59:50.091093",
     "status": "completed"
    },
    "tags": []
   },
   "outputs": [
    {
     "name": "stdout",
     "output_type": "stream",
     "text": [
      "Number of Latent Factors: 1\n",
      "User Input Shape: (None, 1)\n",
      "User Embedding Shape: (None, 1, 1)\n",
      "Flattened User Vector Shape: (None, 1)\n",
      "Movie Input Shape: (None, 1)\n",
      "Movie Embedding Shape: (None, 1, 1)\n",
      "Flattened Movie Vector Shape: (None, 1)\n",
      "Product Shape: (None, 1)\n",
      "Model Summary:\n",
      "Model: \"model\"\n",
      "__________________________________________________________________________________________________\n",
      " Layer (type)                   Output Shape         Param #     Connected to                     \n",
      "==================================================================================================\n",
      " movie (InputLayer)             [(None, 1)]          0           []                               \n",
      "                                                                                                  \n",
      " user (InputLayer)              [(None, 1)]          0           []                               \n",
      "                                                                                                  \n",
      " movie_embedding (Embedding)    (None, 1, 1)         1001        ['movie[0][0]']                  \n",
      "                                                                                                  \n",
      " user_embedding (Embedding)     (None, 1, 1)         1001        ['user[0][0]']                   \n",
      "                                                                                                  \n",
      " flatten_movies (Flatten)       (None, 1)            0           ['movie_embedding[0][0]']        \n",
      "                                                                                                  \n",
      " flatten_users (Flatten)        (None, 1)            0           ['user_embedding[0][0]']         \n",
      "                                                                                                  \n",
      " dot (Dot)                      (None, 1)            0           ['flatten_movies[0][0]',         \n",
      "                                                                  'flatten_users[0][0]']          \n",
      "                                                                                                  \n",
      "==================================================================================================\n",
      "Total params: 2,002\n",
      "Trainable params: 2,002\n",
      "Non-trainable params: 0\n",
      "__________________________________________________________________________________________________\n",
      "Model Compiled Successfully\n"
     ]
    }
   ],
   "source": [
    "# Definición del número de factores latentes\n",
    "n_latent_factors = 1  # Se establece en 1 para representar características no observadas que el modelo aprenderá durante el entrenamiento.\n",
    "print(f\"Number of Latent Factors: {n_latent_factors}\")\n",
    "\n",
    "# Definición de la entrada del usuario (user_input)\n",
    "user_input = Input(shape=[1], name='user')  # Capa de entrada para la información del usuario.\n",
    "print(f\"User Input Shape: {user_input.shape}\")\n",
    "\n",
    "# Creación de la capa de embedding para usuarios (user_embedding)\n",
    "user_embedding = Embedding(input_dim=n_users + 1, output_dim=n_latent_factors, name='user_embedding')(user_input)\n",
    "# La capa de embedding asigna a cada usuario un vector en el espacio de factores latentes.\n",
    "print(f\"User Embedding Shape: {user_embedding.shape}\")\n",
    "\n",
    "# Aplanamiento de la capa de embedding para usuarios (user_vec)\n",
    "user_vec = Flatten(name='flatten_users')(user_embedding)\n",
    "# Se aplana el embedding para obtener un vector unidimensional que representa al usuario en el espacio de factores latentes.\n",
    "print(f\"Flattened User Vector Shape: {user_vec.shape}\")\n",
    "\n",
    "# Definición de la entrada de la película (movie_input)\n",
    "movie_input = Input(shape=[1], name='movie')  # Capa de entrada para la información de la película.\n",
    "print(f\"Movie Input Shape: {movie_input.shape}\")\n",
    "\n",
    "# Creación de la capa de embedding para películas (movie_embedding)\n",
    "movie_embedding = Embedding(input_dim=n_movies + 1, output_dim=n_latent_factors, name='movie_embedding')(movie_input)\n",
    "# La capa de embedding asigna a cada película un vector en el espacio de factores latentes.\n",
    "print(f\"Movie Embedding Shape: {movie_embedding.shape}\")\n",
    "\n",
    "# Aplanamiento de la capa de embedding para películas (movie_vec)\n",
    "movie_vec = Flatten(name='flatten_movies')(movie_embedding)\n",
    "# Se aplana el embedding para obtener un vector unidimensional que representa la película en el espacio de factores latentes.\n",
    "print(f\"Flattened Movie Vector Shape: {movie_vec.shape}\")\n",
    "\n",
    "# Cálculo del producto punto entre los vectores de película y usuario (product)\n",
    "product = dot([movie_vec, user_vec], axes=1)\n",
    "# El modelo calcula el producto punto entre los vectores de película y usuario para predecir las calificaciones.\n",
    "print(f\"Product Shape: {product.shape}\")\n",
    "\n",
    "# Definición del modelo (model)\n",
    "model = Model(inputs=[user_input, movie_input], outputs=product)\n",
    "# Se define el modelo con las capas de entrada y salida especificadas.\n",
    "print(\"Model Summary:\")\n",
    "model.summary()\n",
    "\n",
    "# Compilación del modelo con la función de pérdida y optimizador\n",
    "model.compile('adam', 'mean_squared_error')\n",
    "# El modelo se compila utilizando el optimizador Adam y la función de pérdida de error cuadrático medio.\n",
    "print(\"Model Compiled Successfully\")"
   ]
  },
  {
   "cell_type": "code",
   "execution_count": 36,
   "metadata": {
    "execution": {
     "iopub.execute_input": "2020-09-07T12:59:50.380121Z",
     "iopub.status.busy": "2020-09-07T12:59:50.379098Z",
     "iopub.status.idle": "2020-09-07T13:04:24.334888Z",
     "shell.execute_reply": "2020-09-07T13:04:24.334156Z"
    },
    "papermill": {
     "duration": 273.981229,
     "end_time": "2020-09-07T13:04:24.335058",
     "exception": false,
     "start_time": "2020-09-07T12:59:50.353829",
     "status": "completed"
    },
    "tags": []
   },
   "outputs": [
    {
     "name": "stdout",
     "output_type": "stream",
     "text": [
      "Epoch 1/100\n",
      "2538/2538 [==============================] - 5s 2ms/step - loss: 13.4509 - val_loss: 11.5304\n",
      "Epoch 2/100\n",
      "2538/2538 [==============================] - 5s 2ms/step - loss: 8.8107 - val_loss: 6.2771\n",
      "Epoch 3/100\n",
      "2538/2538 [==============================] - 5s 2ms/step - loss: 4.4790 - val_loss: 3.2553\n",
      "Epoch 4/100\n",
      "2538/2538 [==============================] - 5s 2ms/step - loss: 2.4939 - val_loss: 2.0179\n",
      "Epoch 5/100\n",
      "2538/2538 [==============================] - 5s 2ms/step - loss: 1.6197 - val_loss: 1.4237\n",
      "Epoch 6/100\n",
      "2538/2538 [==============================] - 5s 2ms/step - loss: 1.1866 - val_loss: 1.1278\n",
      "Epoch 7/100\n",
      "2538/2538 [==============================] - 5s 2ms/step - loss: 0.9679 - val_loss: 0.9741\n",
      "Epoch 8/100\n",
      "2538/2538 [==============================] - 5s 2ms/step - loss: 0.8552 - val_loss: 0.8917\n",
      "Epoch 9/100\n",
      "2538/2538 [==============================] - 5s 2ms/step - loss: 0.7963 - val_loss: 0.8507\n",
      "Epoch 10/100\n",
      "2538/2538 [==============================] - 5s 2ms/step - loss: 0.7653 - val_loss: 0.8266\n",
      "Epoch 11/100\n",
      "2538/2538 [==============================] - 5s 2ms/step - loss: 0.7487 - val_loss: 0.8136\n",
      "Epoch 12/100\n",
      "2538/2538 [==============================] - 5s 2ms/step - loss: 0.7398 - val_loss: 0.8074\n",
      "Epoch 13/100\n",
      "2538/2538 [==============================] - 5s 2ms/step - loss: 0.7349 - val_loss: 0.8044\n",
      "Epoch 14/100\n",
      "2538/2538 [==============================] - 5s 2ms/step - loss: 0.7320 - val_loss: 0.8020\n",
      "Epoch 15/100\n",
      "2538/2538 [==============================] - 6s 2ms/step - loss: 0.7304 - val_loss: 0.8004\n",
      "Epoch 16/100\n",
      "2538/2538 [==============================] - 7s 3ms/step - loss: 0.7294 - val_loss: 0.8000\n",
      "Epoch 17/100\n",
      "2538/2538 [==============================] - 6s 2ms/step - loss: 0.7289 - val_loss: 0.7991\n",
      "Epoch 18/100\n",
      "2538/2538 [==============================] - 6s 2ms/step - loss: 0.7284 - val_loss: 0.8003\n",
      "Epoch 19/100\n",
      "2538/2538 [==============================] - 6s 2ms/step - loss: 0.7283 - val_loss: 0.7995\n",
      "Epoch 20/100\n",
      "2538/2538 [==============================] - 5s 2ms/step - loss: 0.7281 - val_loss: 0.7987\n",
      "Epoch 21/100\n",
      "2538/2538 [==============================] - 5s 2ms/step - loss: 0.7280 - val_loss: 0.7992\n",
      "Epoch 22/100\n",
      "2538/2538 [==============================] - 5s 2ms/step - loss: 0.7281 - val_loss: 0.7993\n",
      "Epoch 23/100\n",
      "2538/2538 [==============================] - 5s 2ms/step - loss: 0.7279 - val_loss: 0.7984\n",
      "Epoch 24/100\n",
      "2538/2538 [==============================] - 6s 2ms/step - loss: 0.7278 - val_loss: 0.7996\n",
      "Epoch 25/100\n",
      "2538/2538 [==============================] - 6s 2ms/step - loss: 0.7278 - val_loss: 0.7976\n",
      "Epoch 26/100\n",
      "2538/2538 [==============================] - 6s 2ms/step - loss: 0.7279 - val_loss: 0.7990\n",
      "Epoch 27/100\n",
      "2538/2538 [==============================] - 6s 2ms/step - loss: 0.7278 - val_loss: 0.7982\n",
      "Epoch 28/100\n",
      "2538/2538 [==============================] - 6s 2ms/step - loss: 0.7278 - val_loss: 0.7983\n",
      "Epoch 29/100\n",
      "2538/2538 [==============================] - 6s 2ms/step - loss: 0.7279 - val_loss: 0.7980\n",
      "Epoch 30/100\n",
      "2538/2538 [==============================] - 6s 2ms/step - loss: 0.7277 - val_loss: 0.7982\n",
      "Epoch 31/100\n",
      "2538/2538 [==============================] - 5s 2ms/step - loss: 0.7278 - val_loss: 0.7974\n",
      "Epoch 32/100\n",
      "2538/2538 [==============================] - 5s 2ms/step - loss: 0.7277 - val_loss: 0.7971\n",
      "Epoch 33/100\n",
      "2538/2538 [==============================] - 5s 2ms/step - loss: 0.7278 - val_loss: 0.7983\n",
      "Epoch 34/100\n",
      "2538/2538 [==============================] - 5s 2ms/step - loss: 0.7279 - val_loss: 0.7965\n",
      "Epoch 35/100\n",
      "2538/2538 [==============================] - 5s 2ms/step - loss: 0.7277 - val_loss: 0.7981\n",
      "Epoch 36/100\n",
      "2538/2538 [==============================] - 5s 2ms/step - loss: 0.7277 - val_loss: 0.7977\n",
      "Epoch 37/100\n",
      "2538/2538 [==============================] - 6s 2ms/step - loss: 0.7278 - val_loss: 0.7976\n",
      "Epoch 38/100\n",
      "2538/2538 [==============================] - 6s 2ms/step - loss: 0.7278 - val_loss: 0.7974\n",
      "Epoch 39/100\n",
      "2538/2538 [==============================] - 6s 2ms/step - loss: 0.7277 - val_loss: 0.7983\n",
      "Epoch 40/100\n",
      "2538/2538 [==============================] - 6s 2ms/step - loss: 0.7278 - val_loss: 0.7960\n",
      "Epoch 41/100\n",
      "2538/2538 [==============================] - 6s 2ms/step - loss: 0.7277 - val_loss: 0.7974\n",
      "Epoch 42/100\n",
      "2538/2538 [==============================] - 6s 2ms/step - loss: 0.7277 - val_loss: 0.7974\n",
      "Epoch 43/100\n",
      "2538/2538 [==============================] - 5s 2ms/step - loss: 0.7279 - val_loss: 0.7982\n",
      "Epoch 44/100\n",
      "2538/2538 [==============================] - 5s 2ms/step - loss: 0.7276 - val_loss: 0.7984\n",
      "Epoch 45/100\n",
      "2538/2538 [==============================] - 5s 2ms/step - loss: 0.7278 - val_loss: 0.7985\n",
      "Epoch 46/100\n",
      "2538/2538 [==============================] - 5s 2ms/step - loss: 0.7277 - val_loss: 0.7982\n",
      "Epoch 47/100\n",
      "2538/2538 [==============================] - 6s 2ms/step - loss: 0.7277 - val_loss: 0.7980\n",
      "Epoch 48/100\n",
      "2538/2538 [==============================] - 6s 2ms/step - loss: 0.7278 - val_loss: 0.7978\n",
      "Epoch 49/100\n",
      "2538/2538 [==============================] - 6s 2ms/step - loss: 0.7279 - val_loss: 0.7983\n",
      "Epoch 50/100\n",
      "2538/2538 [==============================] - 6s 2ms/step - loss: 0.7276 - val_loss: 0.7997\n",
      "Epoch 51/100\n",
      "2538/2538 [==============================] - 5s 2ms/step - loss: 0.7276 - val_loss: 0.7987\n",
      "Epoch 52/100\n",
      "2538/2538 [==============================] - 6s 2ms/step - loss: 0.7278 - val_loss: 0.7994\n",
      "Epoch 53/100\n",
      "2538/2538 [==============================] - 6s 2ms/step - loss: 0.7279 - val_loss: 0.7980\n",
      "Epoch 54/100\n",
      "2538/2538 [==============================] - 5s 2ms/step - loss: 0.7277 - val_loss: 0.7977\n",
      "Epoch 55/100\n",
      "2538/2538 [==============================] - 5s 2ms/step - loss: 0.7279 - val_loss: 0.7974\n",
      "Epoch 56/100\n",
      "2538/2538 [==============================] - 5s 2ms/step - loss: 0.7277 - val_loss: 0.7977\n",
      "Epoch 57/100\n",
      "2538/2538 [==============================] - 5s 2ms/step - loss: 0.7277 - val_loss: 0.7980\n",
      "Epoch 58/100\n",
      "2538/2538 [==============================] - 5s 2ms/step - loss: 0.7279 - val_loss: 0.7980\n",
      "Epoch 59/100\n",
      "2538/2538 [==============================] - 6s 2ms/step - loss: 0.7276 - val_loss: 0.7986\n",
      "Epoch 60/100\n",
      "2538/2538 [==============================] - 6s 2ms/step - loss: 0.7278 - val_loss: 0.7996\n",
      "Epoch 61/100\n",
      "2538/2538 [==============================] - 6s 2ms/step - loss: 0.7278 - val_loss: 0.7987\n",
      "Epoch 62/100\n",
      "2538/2538 [==============================] - 6s 2ms/step - loss: 0.7278 - val_loss: 0.7974\n",
      "Epoch 63/100\n",
      "2538/2538 [==============================] - 6s 2ms/step - loss: 0.7277 - val_loss: 0.7979\n",
      "Epoch 64/100\n",
      "2538/2538 [==============================] - 5s 2ms/step - loss: 0.7278 - val_loss: 0.7978\n",
      "Epoch 65/100\n",
      "2538/2538 [==============================] - 6s 2ms/step - loss: 0.7277 - val_loss: 0.8000\n",
      "Epoch 66/100\n",
      "2538/2538 [==============================] - 5s 2ms/step - loss: 0.7278 - val_loss: 0.7992\n",
      "Epoch 67/100\n",
      "2538/2538 [==============================] - 5s 2ms/step - loss: 0.7278 - val_loss: 0.7981\n",
      "Epoch 68/100\n",
      "2538/2538 [==============================] - 6s 2ms/step - loss: 0.7277 - val_loss: 0.7985\n",
      "Epoch 69/100\n",
      "2538/2538 [==============================] - 6s 2ms/step - loss: 0.7278 - val_loss: 0.7986\n",
      "Epoch 70/100\n",
      "2538/2538 [==============================] - 6s 2ms/step - loss: 0.7278 - val_loss: 0.7981\n",
      "Epoch 71/100\n",
      "2538/2538 [==============================] - 6s 2ms/step - loss: 0.7277 - val_loss: 0.7983\n",
      "Epoch 72/100\n",
      "2538/2538 [==============================] - 6s 2ms/step - loss: 0.7277 - val_loss: 0.7969\n",
      "Epoch 73/100\n",
      "2538/2538 [==============================] - 5s 2ms/step - loss: 0.7278 - val_loss: 0.7978\n",
      "Epoch 74/100\n",
      "2538/2538 [==============================] - 5s 2ms/step - loss: 0.7278 - val_loss: 0.7984\n",
      "Epoch 75/100\n",
      "2538/2538 [==============================] - 6s 2ms/step - loss: 0.7278 - val_loss: 0.7988\n",
      "Epoch 76/100\n",
      "2538/2538 [==============================] - 6s 2ms/step - loss: 0.7277 - val_loss: 0.7994\n",
      "Epoch 77/100\n",
      "2538/2538 [==============================] - 6s 2ms/step - loss: 0.7278 - val_loss: 0.7981\n",
      "Epoch 78/100\n",
      "2538/2538 [==============================] - 6s 2ms/step - loss: 0.7277 - val_loss: 0.7976\n",
      "Epoch 79/100\n",
      "2538/2538 [==============================] - 6s 2ms/step - loss: 0.7277 - val_loss: 0.7980\n",
      "Epoch 80/100\n",
      "2538/2538 [==============================] - 6s 2ms/step - loss: 0.7277 - val_loss: 0.7976\n",
      "Epoch 81/100\n",
      "2538/2538 [==============================] - 5s 2ms/step - loss: 0.7278 - val_loss: 0.7987\n",
      "Epoch 82/100\n",
      "2538/2538 [==============================] - 5s 2ms/step - loss: 0.7276 - val_loss: 0.7985\n",
      "Epoch 83/100\n",
      "2538/2538 [==============================] - 5s 2ms/step - loss: 0.7277 - val_loss: 0.7974\n",
      "Epoch 84/100\n",
      "2538/2538 [==============================] - 6s 2ms/step - loss: 0.7278 - val_loss: 0.7979\n",
      "Epoch 85/100\n",
      "2538/2538 [==============================] - 8s 3ms/step - loss: 0.7277 - val_loss: 0.7983\n",
      "Epoch 86/100\n",
      "2538/2538 [==============================] - 6s 2ms/step - loss: 0.7277 - val_loss: 0.7990\n",
      "Epoch 87/100\n",
      "2538/2538 [==============================] - 6s 2ms/step - loss: 0.7277 - val_loss: 0.7980\n",
      "Epoch 88/100\n",
      "2538/2538 [==============================] - 6s 2ms/step - loss: 0.7278 - val_loss: 0.7989\n",
      "Epoch 89/100\n",
      "2538/2538 [==============================] - 6s 2ms/step - loss: 0.7277 - val_loss: 0.7978\n",
      "Epoch 90/100\n",
      "2538/2538 [==============================] - 6s 2ms/step - loss: 0.7278 - val_loss: 0.7968\n",
      "Epoch 91/100\n",
      "2538/2538 [==============================] - 6s 2ms/step - loss: 0.7277 - val_loss: 0.7975\n",
      "Epoch 92/100\n",
      "2538/2538 [==============================] - 6s 2ms/step - loss: 0.7278 - val_loss: 0.7985\n",
      "Epoch 93/100\n",
      "2538/2538 [==============================] - 6s 2ms/step - loss: 0.7277 - val_loss: 0.7986\n",
      "Epoch 94/100\n",
      "2538/2538 [==============================] - 6s 2ms/step - loss: 0.7277 - val_loss: 0.7972\n",
      "Epoch 95/100\n",
      "2538/2538 [==============================] - 6s 2ms/step - loss: 0.7277 - val_loss: 0.7964\n",
      "Epoch 96/100\n",
      "2538/2538 [==============================] - 6s 2ms/step - loss: 0.7278 - val_loss: 0.7973\n",
      "Epoch 97/100\n",
      "2538/2538 [==============================] - 6s 2ms/step - loss: 0.7276 - val_loss: 0.7961\n",
      "Epoch 98/100\n",
      "2538/2538 [==============================] - 6s 2ms/step - loss: 0.7278 - val_loss: 0.7972\n",
      "Epoch 99/100\n",
      "2538/2538 [==============================] - 6s 2ms/step - loss: 0.7277 - val_loss: 0.7983\n",
      "Epoch 100/100\n",
      "2538/2538 [==============================] - 6s 2ms/step - loss: 0.7278 - val_loss: 0.7979\n"
     ]
    }
   ],
   "source": [
    "history = model.fit(x=[X_train.newUserId, X_train.newMovieId],\n",
    "                    y=X_train.rating, epochs=100,\n",
    "                    validation_data=([X_validation.newUserId,\n",
    "                                      X_validation.newMovieId], X_validation.rating),\n",
    "                    verbose=1)"
   ]
  },
  {
   "cell_type": "code",
   "execution_count": 37,
   "metadata": {
    "execution": {
     "iopub.execute_input": "2020-09-07T13:04:25.118561Z",
     "iopub.status.busy": "2020-09-07T13:04:25.117674Z",
     "iopub.status.idle": "2020-09-07T13:04:25.422555Z",
     "shell.execute_reply": "2020-09-07T13:04:25.423631Z"
    },
    "papermill": {
     "duration": 0.676271,
     "end_time": "2020-09-07T13:04:25.423893",
     "exception": false,
     "start_time": "2020-09-07T13:04:24.747622",
     "status": "completed"
    },
    "tags": []
   },
   "outputs": [
    {
     "name": "stdout",
     "output_type": "stream",
     "text": [
      "Minimum MSE:  0.7959678769111633\n"
     ]
    },
    {
     "data": {
      "image/png": "[encoded data removed]",
      "text/plain": [
       "<Figure size 640x480 with 1 Axes>"
      ]
     },
     "metadata": {},
     "output_type": "display_data"
    }
   ],
   "source": [
    "pd.Series(history.history['val_loss'][10:]).plot(logy=False)\n",
    "plt.xlabel(\"Epoch\")\n",
    "plt.ylabel(\"Validation Error\")\n",
    "print('Minimum MSE: ', min(history.history['val_loss']))"
   ]
  },
  {
   "cell_type": "code",
   "execution_count": 38,
   "metadata": {},
   "outputs": [
    {
     "data": {
      "text/plain": [
       "<matplotlib.legend.Legend at 0x1e36b9023e0>"
      ]
     },
     "execution_count": 38,
     "metadata": {},
     "output_type": "execute_result"
    },
    {
     "data": {
      "image/png": "[encoded data removed]",
      "text/plain": [
       "<Figure size 1200x400 with 1 Axes>"
      ]
     },
     "metadata": {},
     "output_type": "display_data"
    }
   ],
   "source": [
    "# Visualizar la pérdida\n",
    "plt.figure(figsize=(12, 4))\n",
    "\n",
    "# Pérdida\n",
    "plt.subplot(1, 2, 1)\n",
    "plt.plot(history.history['loss'], label='Train Loss')\n",
    "plt.plot(history.history['val_loss'], label='Validation Loss')\n",
    "plt.title('Training and Validation Loss')\n",
    "plt.xlabel('Epoch')\n",
    "plt.ylabel('Loss')\n",
    "plt.legend()"
   ]
  },
  {
   "cell_type": "code",
   "execution_count": 39,
   "metadata": {},
   "outputs": [
    {
     "name": "stdout",
     "output_type": "stream",
     "text": [
      "141/141 [==============================] - 0s 2ms/step - loss: 0.7979\n",
      "MSE:  0.7979094386100769\n"
     ]
    }
   ],
   "source": [
    "result = model.evaluate(\n",
    "    x=[X_validation.newUserId, X_validation.newMovieId],\n",
    "    y=X_validation.rating\n",
    ")\n",
    "print('MSE: ',result)\n"
   ]
  },
  {
   "cell_type": "code",
   "execution_count": 40,
   "metadata": {},
   "outputs": [
    {
     "name": "stdout",
     "output_type": "stream",
     "text": [
      "141/141 [==============================] - 0s 2ms/step\n"
     ]
    },
    {
     "data": {
      "text/plain": [
       "array([[4.4001837],\n",
       "       [4.3245106],\n",
       "       [3.7938883],\n",
       "       ...,\n",
       "       [3.0670702],\n",
       "       [3.4217558],\n",
       "       [2.917901 ]], dtype=float32)"
      ]
     },
     "execution_count": 40,
     "metadata": {},
     "output_type": "execute_result"
    }
   ],
   "source": [
    "predictions_proba = model.predict( x=[X_validation.newUserId, X_validation.newMovieId])\n",
    "predictions_proba"
   ]
  },
  {
   "cell_type": "markdown",
   "metadata": {},
   "source": [
    "# MODIFICADO"
   ]
  },
  {
   "cell_type": "code",
   "execution_count": 41,
   "metadata": {},
   "outputs": [],
   "source": [
    "tf.keras.backend.clear_session()\n",
    "tf.random.set_seed(51)\n",
    "np.random.seed(51)"
   ]
  },
  {
   "cell_type": "code",
   "execution_count": 42,
   "metadata": {},
   "outputs": [],
   "source": [
    "# Define la función R cuadrado personalizada para tensores de TensorFlow\n",
    "from tensorflow.keras import backend as K\n",
    "\n",
    "def r2_score_tf(y_true, y_pred):\n",
    "    SS_res = K.sum(K.square(y_true - y_pred))\n",
    "    SS_tot = K.sum(K.square(y_true - K.mean(y_true)))\n",
    "    return 1 - SS_res / (SS_tot + K.epsilon())"
   ]
  },
  {
   "cell_type": "code",
   "execution_count": 43,
   "metadata": {},
   "outputs": [
    {
     "name": "stdout",
     "output_type": "stream",
     "text": [
      "Model: \"model\"\n",
      "__________________________________________________________________________________________________\n",
      " Layer (type)                   Output Shape         Param #     Connected to                     \n",
      "==================================================================================================\n",
      " movie (InputLayer)             [(None, 1)]          0           []                               \n",
      "                                                                                                  \n",
      " user (InputLayer)              [(None, 1)]          0           []                               \n",
      "                                                                                                  \n",
      " movie_embedding (Embedding)    (None, 1, 1)         1001        ['movie[0][0]']                  \n",
      "                                                                                                  \n",
      " user_embedding (Embedding)     (None, 1, 1)         1001        ['user[0][0]']                   \n",
      "                                                                                                  \n",
      " flatten_movies (Flatten)       (None, 1)            0           ['movie_embedding[0][0]']        \n",
      "                                                                                                  \n",
      " flatten_users (Flatten)        (None, 1)            0           ['user_embedding[0][0]']         \n",
      "                                                                                                  \n",
      " concatenate (Concatenate)      (None, 2)            0           ['flatten_movies[0][0]',         \n",
      "                                                                  'flatten_users[0][0]']          \n",
      "                                                                                                  \n",
      " dense (Dense)                  (None, 128)          384         ['concatenate[0][0]']            \n",
      "                                                                                                  \n",
      " dense_1 (Dense)                (None, 64)           8256        ['dense[0][0]']                  \n",
      "                                                                                                  \n",
      " dense_2 (Dense)                (None, 32)           2080        ['dense_1[0][0]']                \n",
      "                                                                                                  \n",
      " dense_3 (Dense)                (None, 1)            33          ['dense_2[0][0]']                \n",
      "                                                                                                  \n",
      "==================================================================================================\n",
      "Total params: 12,755\n",
      "Trainable params: 12,755\n",
      "Non-trainable params: 0\n",
      "__________________________________________________________________________________________________\n"
     ]
    }
   ],
   "source": [
    "# Definir la entrada del usuario y su embedding\n",
    "user_input = Input(shape=[1], name='user')\n",
    "user_embedding = Embedding(input_dim=n_users + 1, output_dim=n_latent_factors, name='user_embedding')(user_input)\n",
    "user_vec = Flatten(name='flatten_users')(user_embedding)\n",
    "\n",
    "# Definir la entrada de la película y su embedding\n",
    "movie_input = Input(shape=[1], name='movie')\n",
    "movie_embedding = Embedding(input_dim=n_movies + 1, output_dim=n_latent_factors, name='movie_embedding')(movie_input)\n",
    "movie_vec = Flatten(name='flatten_movies')(movie_embedding)\n",
    "\n",
    "# Concatenar los embeddings de usuario y película\n",
    "# product = dot([movie_vec, user_vec], axes=1)\n",
    "concatenated = Concatenate()([movie_vec, user_vec])\n",
    "\n",
    "# Añadir capas Dense con activación ReLU\n",
    "dense_layer1 = Dense(128, activation='relu')(concatenated)\n",
    "dense_layer2 = Dense(64, activation='relu')(dense_layer1)\n",
    "dense_layer3 = Dense(32, activation='relu')(dense_layer2)\n",
    "\n",
    "# Capa de salida con activación lineal\n",
    "output = Dense(1, activation='linear')(dense_layer3)\n",
    "\n",
    "# Crear el modelo con métrica R cuadrado\n",
    "model_nonlinear_r2 = Model(inputs=[user_input, movie_input], outputs=output)\n",
    "\n",
    "# Compila el modelo utilizando la función R cuadrado personalizada\n",
    "model_nonlinear_r2.compile(optimizer='adam', loss='mean_squared_error', metrics=['mean_absolute_error',r2_score_tf])\n",
    "\n",
    "# Mostrar un resumen del modelo\n",
    "model_nonlinear_r2.summary()\n"
   ]
  },
  {
   "cell_type": "code",
   "execution_count": 44,
   "metadata": {},
   "outputs": [
    {
     "name": "stdout",
     "output_type": "stream",
     "text": [
      "Epoch 1/150\n",
      "1269/1269 [==============================] - 6s 4ms/step - loss: 1.1749 - mean_absolute_error: 0.7891 - r2_score_tf: -0.1513 - val_loss: 0.8024 - val_mean_absolute_error: 0.6785 - val_r2_score_tf: 0.2100\n",
      "Epoch 2/150\n",
      "1269/1269 [==============================] - 4s 3ms/step - loss: 0.7465 - mean_absolute_error: 0.6634 - r2_score_tf: 0.2732 - val_loss: 0.8105 - val_mean_absolute_error: 0.6723 - val_r2_score_tf: 0.2002\n",
      "Epoch 3/150\n",
      "1269/1269 [==============================] - 4s 3ms/step - loss: 0.7392 - mean_absolute_error: 0.6588 - r2_score_tf: 0.2787 - val_loss: 0.7940 - val_mean_absolute_error: 0.6806 - val_r2_score_tf: 0.2172\n",
      "Epoch 4/150\n",
      "1269/1269 [==============================] - 4s 3ms/step - loss: 0.7357 - mean_absolute_error: 0.6578 - r2_score_tf: 0.2818 - val_loss: 0.8027 - val_mean_absolute_error: 0.6869 - val_r2_score_tf: 0.2073\n",
      "Epoch 5/150\n",
      "1269/1269 [==============================] - 4s 3ms/step - loss: 0.7345 - mean_absolute_error: 0.6570 - r2_score_tf: 0.2817 - val_loss: 0.7891 - val_mean_absolute_error: 0.6731 - val_r2_score_tf: 0.2217\n",
      "Epoch 6/150\n",
      "1269/1269 [==============================] - 4s 3ms/step - loss: 0.7330 - mean_absolute_error: 0.6564 - r2_score_tf: 0.2848 - val_loss: 0.7975 - val_mean_absolute_error: 0.6707 - val_r2_score_tf: 0.2139\n",
      "Epoch 7/150\n",
      "1269/1269 [==============================] - 4s 3ms/step - loss: 0.7297 - mean_absolute_error: 0.6548 - r2_score_tf: 0.2875 - val_loss: 0.7915 - val_mean_absolute_error: 0.6768 - val_r2_score_tf: 0.2191\n",
      "Epoch 8/150\n",
      "1269/1269 [==============================] - 4s 3ms/step - loss: 0.7304 - mean_absolute_error: 0.6551 - r2_score_tf: 0.2881 - val_loss: 0.7980 - val_mean_absolute_error: 0.6687 - val_r2_score_tf: 0.2129\n",
      "Epoch 9/150\n",
      "1269/1269 [==============================] - 4s 3ms/step - loss: 0.7298 - mean_absolute_error: 0.6548 - r2_score_tf: 0.2874 - val_loss: 0.7936 - val_mean_absolute_error: 0.6791 - val_r2_score_tf: 0.2160\n",
      "Epoch 10/150\n",
      "1269/1269 [==============================] - 4s 3ms/step - loss: 0.7273 - mean_absolute_error: 0.6537 - r2_score_tf: 0.2898 - val_loss: 0.7921 - val_mean_absolute_error: 0.6796 - val_r2_score_tf: 0.2171\n",
      "Epoch 11/150\n",
      "1269/1269 [==============================] - 4s 3ms/step - loss: 0.7273 - mean_absolute_error: 0.6543 - r2_score_tf: 0.2890 - val_loss: 0.8167 - val_mean_absolute_error: 0.7021 - val_r2_score_tf: 0.1911\n",
      "Epoch 12/150\n",
      "1269/1269 [==============================] - 4s 3ms/step - loss: 0.7268 - mean_absolute_error: 0.6530 - r2_score_tf: 0.2904 - val_loss: 0.7989 - val_mean_absolute_error: 0.6708 - val_r2_score_tf: 0.2114\n",
      "Epoch 13/150\n",
      "1269/1269 [==============================] - 4s 3ms/step - loss: 0.7250 - mean_absolute_error: 0.6530 - r2_score_tf: 0.2937 - val_loss: 0.8018 - val_mean_absolute_error: 0.6714 - val_r2_score_tf: 0.2082\n",
      "Epoch 14/150\n",
      "1269/1269 [==============================] - 4s 3ms/step - loss: 0.7240 - mean_absolute_error: 0.6523 - r2_score_tf: 0.2934 - val_loss: 0.8113 - val_mean_absolute_error: 0.6711 - val_r2_score_tf: 0.1997\n",
      "Epoch 15/150\n",
      "1269/1269 [==============================] - 4s 3ms/step - loss: 0.7238 - mean_absolute_error: 0.6521 - r2_score_tf: 0.2938 - val_loss: 0.7905 - val_mean_absolute_error: 0.6720 - val_r2_score_tf: 0.2201\n",
      "Epoch 16/150\n",
      "1269/1269 [==============================] - 4s 3ms/step - loss: 0.7225 - mean_absolute_error: 0.6518 - r2_score_tf: 0.2949 - val_loss: 0.7911 - val_mean_absolute_error: 0.6708 - val_r2_score_tf: 0.2190\n",
      "Epoch 17/150\n",
      "1269/1269 [==============================] - 4s 3ms/step - loss: 0.7232 - mean_absolute_error: 0.6516 - r2_score_tf: 0.2931 - val_loss: 0.7908 - val_mean_absolute_error: 0.6736 - val_r2_score_tf: 0.2194\n",
      "Epoch 18/150\n",
      "1269/1269 [==============================] - 4s 3ms/step - loss: 0.7215 - mean_absolute_error: 0.6514 - r2_score_tf: 0.2960 - val_loss: 0.7942 - val_mean_absolute_error: 0.6744 - val_r2_score_tf: 0.2150\n",
      "Epoch 19/150\n",
      "1269/1269 [==============================] - 4s 3ms/step - loss: 0.7200 - mean_absolute_error: 0.6505 - r2_score_tf: 0.2971 - val_loss: 0.7984 - val_mean_absolute_error: 0.6858 - val_r2_score_tf: 0.2108\n",
      "Epoch 20/150\n",
      "1269/1269 [==============================] - 4s 3ms/step - loss: 0.7208 - mean_absolute_error: 0.6509 - r2_score_tf: 0.2967 - val_loss: 0.7969 - val_mean_absolute_error: 0.6721 - val_r2_score_tf: 0.2131\n",
      "Epoch 21/150\n",
      "1269/1269 [==============================] - 4s 3ms/step - loss: 0.7198 - mean_absolute_error: 0.6504 - r2_score_tf: 0.2981 - val_loss: 0.8096 - val_mean_absolute_error: 0.6940 - val_r2_score_tf: 0.1992\n",
      "Epoch 22/150\n",
      "1269/1269 [==============================] - 4s 3ms/step - loss: 0.7190 - mean_absolute_error: 0.6498 - r2_score_tf: 0.2980 - val_loss: 0.7919 - val_mean_absolute_error: 0.6752 - val_r2_score_tf: 0.2176\n",
      "Epoch 23/150\n",
      "1269/1269 [==============================] - 4s 3ms/step - loss: 0.7183 - mean_absolute_error: 0.6493 - r2_score_tf: 0.2991 - val_loss: 0.7893 - val_mean_absolute_error: 0.6740 - val_r2_score_tf: 0.2207\n",
      "Epoch 24/150\n",
      "1269/1269 [==============================] - 4s 3ms/step - loss: 0.7180 - mean_absolute_error: 0.6492 - r2_score_tf: 0.2984 - val_loss: 0.7929 - val_mean_absolute_error: 0.6704 - val_r2_score_tf: 0.2175\n",
      "Epoch 25/150\n",
      "1269/1269 [==============================] - 4s 3ms/step - loss: 0.7182 - mean_absolute_error: 0.6495 - r2_score_tf: 0.2971 - val_loss: 0.7988 - val_mean_absolute_error: 0.6704 - val_r2_score_tf: 0.2112\n",
      "Epoch 26/150\n",
      "1269/1269 [==============================] - 4s 3ms/step - loss: 0.7173 - mean_absolute_error: 0.6492 - r2_score_tf: 0.2993 - val_loss: 0.7917 - val_mean_absolute_error: 0.6747 - val_r2_score_tf: 0.2177\n",
      "Epoch 27/150\n",
      "1269/1269 [==============================] - 4s 3ms/step - loss: 0.7171 - mean_absolute_error: 0.6489 - r2_score_tf: 0.3005 - val_loss: 0.7902 - val_mean_absolute_error: 0.6743 - val_r2_score_tf: 0.2196\n",
      "Epoch 28/150\n",
      "1269/1269 [==============================] - 4s 3ms/step - loss: 0.7167 - mean_absolute_error: 0.6488 - r2_score_tf: 0.3016 - val_loss: 0.7908 - val_mean_absolute_error: 0.6726 - val_r2_score_tf: 0.2189\n",
      "Epoch 29/150\n",
      "1269/1269 [==============================] - 4s 3ms/step - loss: 0.7163 - mean_absolute_error: 0.6486 - r2_score_tf: 0.3005 - val_loss: 0.8000 - val_mean_absolute_error: 0.6735 - val_r2_score_tf: 0.2096\n",
      "Epoch 30/150\n",
      "1269/1269 [==============================] - 4s 3ms/step - loss: 0.7158 - mean_absolute_error: 0.6484 - r2_score_tf: 0.3010 - val_loss: 0.7943 - val_mean_absolute_error: 0.6703 - val_r2_score_tf: 0.2153\n",
      "Epoch 31/150\n",
      "1269/1269 [==============================] - 4s 3ms/step - loss: 0.7163 - mean_absolute_error: 0.6485 - r2_score_tf: 0.3009 - val_loss: 0.7945 - val_mean_absolute_error: 0.6734 - val_r2_score_tf: 0.2147\n",
      "Epoch 32/150\n",
      "1269/1269 [==============================] - 4s 3ms/step - loss: 0.7153 - mean_absolute_error: 0.6480 - r2_score_tf: 0.3009 - val_loss: 0.8011 - val_mean_absolute_error: 0.6708 - val_r2_score_tf: 0.2093\n",
      "Epoch 33/150\n",
      "1269/1269 [==============================] - 4s 3ms/step - loss: 0.7156 - mean_absolute_error: 0.6481 - r2_score_tf: 0.2997 - val_loss: 0.7961 - val_mean_absolute_error: 0.6689 - val_r2_score_tf: 0.2144\n",
      "Epoch 34/150\n",
      "1269/1269 [==============================] - 4s 3ms/step - loss: 0.7148 - mean_absolute_error: 0.6476 - r2_score_tf: 0.3018 - val_loss: 0.7883 - val_mean_absolute_error: 0.6737 - val_r2_score_tf: 0.2214\n",
      "Epoch 35/150\n",
      "1269/1269 [==============================] - 4s 3ms/step - loss: 0.7149 - mean_absolute_error: 0.6478 - r2_score_tf: 0.3015 - val_loss: 0.7914 - val_mean_absolute_error: 0.6714 - val_r2_score_tf: 0.2187\n",
      "Epoch 36/150\n",
      "1269/1269 [==============================] - 4s 3ms/step - loss: 0.7147 - mean_absolute_error: 0.6479 - r2_score_tf: 0.3021 - val_loss: 0.7909 - val_mean_absolute_error: 0.6807 - val_r2_score_tf: 0.2187\n",
      "Epoch 37/150\n",
      "1269/1269 [==============================] - 4s 3ms/step - loss: 0.7138 - mean_absolute_error: 0.6472 - r2_score_tf: 0.3025 - val_loss: 0.7914 - val_mean_absolute_error: 0.6757 - val_r2_score_tf: 0.2179\n",
      "Epoch 38/150\n",
      "1269/1269 [==============================] - 4s 3ms/step - loss: 0.7143 - mean_absolute_error: 0.6476 - r2_score_tf: 0.3010 - val_loss: 0.7901 - val_mean_absolute_error: 0.6770 - val_r2_score_tf: 0.2196\n",
      "Epoch 39/150\n",
      "1269/1269 [==============================] - 4s 3ms/step - loss: 0.7144 - mean_absolute_error: 0.6475 - r2_score_tf: 0.3019 - val_loss: 0.7948 - val_mean_absolute_error: 0.6695 - val_r2_score_tf: 0.2154\n",
      "Epoch 40/150\n",
      "1269/1269 [==============================] - 4s 3ms/step - loss: 0.7133 - mean_absolute_error: 0.6468 - r2_score_tf: 0.3037 - val_loss: 0.7908 - val_mean_absolute_error: 0.6738 - val_r2_score_tf: 0.2183\n",
      "Epoch 41/150\n",
      "1269/1269 [==============================] - 4s 3ms/step - loss: 0.7132 - mean_absolute_error: 0.6469 - r2_score_tf: 0.3047 - val_loss: 0.7947 - val_mean_absolute_error: 0.6713 - val_r2_score_tf: 0.2150\n",
      "Epoch 42/150\n",
      "1269/1269 [==============================] - 4s 3ms/step - loss: 0.7131 - mean_absolute_error: 0.6469 - r2_score_tf: 0.3018 - val_loss: 0.7966 - val_mean_absolute_error: 0.6690 - val_r2_score_tf: 0.2147\n",
      "Epoch 43/150\n",
      "1269/1269 [==============================] - 4s 3ms/step - loss: 0.7134 - mean_absolute_error: 0.6471 - r2_score_tf: 0.3038 - val_loss: 0.7963 - val_mean_absolute_error: 0.6707 - val_r2_score_tf: 0.2133\n",
      "Epoch 44/150\n",
      "1269/1269 [==============================] - 4s 3ms/step - loss: 0.7134 - mean_absolute_error: 0.6471 - r2_score_tf: 0.3042 - val_loss: 0.7905 - val_mean_absolute_error: 0.6711 - val_r2_score_tf: 0.2196\n",
      "Epoch 45/150\n",
      "1269/1269 [==============================] - 4s 3ms/step - loss: 0.7130 - mean_absolute_error: 0.6469 - r2_score_tf: 0.3041 - val_loss: 0.7943 - val_mean_absolute_error: 0.6698 - val_r2_score_tf: 0.2162\n",
      "Epoch 46/150\n",
      "1269/1269 [==============================] - 4s 3ms/step - loss: 0.7131 - mean_absolute_error: 0.6469 - r2_score_tf: 0.3042 - val_loss: 0.7911 - val_mean_absolute_error: 0.6751 - val_r2_score_tf: 0.2186\n",
      "Epoch 47/150\n",
      "1269/1269 [==============================] - 4s 3ms/step - loss: 0.7131 - mean_absolute_error: 0.6469 - r2_score_tf: 0.3041 - val_loss: 0.7919 - val_mean_absolute_error: 0.6734 - val_r2_score_tf: 0.2184\n",
      "Epoch 48/150\n",
      "1269/1269 [==============================] - 4s 3ms/step - loss: 0.7130 - mean_absolute_error: 0.6471 - r2_score_tf: 0.3034 - val_loss: 0.7902 - val_mean_absolute_error: 0.6730 - val_r2_score_tf: 0.2200\n",
      "Epoch 49/150\n",
      "1269/1269 [==============================] - 4s 3ms/step - loss: 0.7127 - mean_absolute_error: 0.6467 - r2_score_tf: 0.3057 - val_loss: 0.7890 - val_mean_absolute_error: 0.6706 - val_r2_score_tf: 0.2213\n",
      "Epoch 50/150\n",
      "1269/1269 [==============================] - 4s 3ms/step - loss: 0.7119 - mean_absolute_error: 0.6462 - r2_score_tf: 0.3035 - val_loss: 0.7939 - val_mean_absolute_error: 0.6714 - val_r2_score_tf: 0.2157\n",
      "Epoch 51/150\n",
      "1269/1269 [==============================] - 4s 3ms/step - loss: 0.7119 - mean_absolute_error: 0.6464 - r2_score_tf: 0.3042 - val_loss: 0.7954 - val_mean_absolute_error: 0.6692 - val_r2_score_tf: 0.2156\n",
      "Epoch 52/150\n",
      "1269/1269 [==============================] - 4s 3ms/step - loss: 0.7125 - mean_absolute_error: 0.6469 - r2_score_tf: 0.3033 - val_loss: 0.7956 - val_mean_absolute_error: 0.6722 - val_r2_score_tf: 0.2143\n",
      "Epoch 53/150\n",
      "1269/1269 [==============================] - 4s 3ms/step - loss: 0.7114 - mean_absolute_error: 0.6459 - r2_score_tf: 0.3051 - val_loss: 0.7929 - val_mean_absolute_error: 0.6723 - val_r2_score_tf: 0.2171\n",
      "Epoch 54/150\n",
      "1269/1269 [==============================] - 4s 3ms/step - loss: 0.7116 - mean_absolute_error: 0.6463 - r2_score_tf: 0.3058 - val_loss: 0.7908 - val_mean_absolute_error: 0.6741 - val_r2_score_tf: 0.2196\n",
      "Epoch 55/150\n",
      "1269/1269 [==============================] - 4s 3ms/step - loss: 0.7113 - mean_absolute_error: 0.6460 - r2_score_tf: 0.3067 - val_loss: 0.8118 - val_mean_absolute_error: 0.6716 - val_r2_score_tf: 0.1992\n",
      "Epoch 56/150\n",
      "1269/1269 [==============================] - 4s 3ms/step - loss: 0.7109 - mean_absolute_error: 0.6457 - r2_score_tf: 0.3055 - val_loss: 0.8005 - val_mean_absolute_error: 0.6709 - val_r2_score_tf: 0.2098\n",
      "Epoch 57/150\n",
      "1269/1269 [==============================] - 5s 4ms/step - loss: 0.7113 - mean_absolute_error: 0.6461 - r2_score_tf: 0.3053 - val_loss: 0.8033 - val_mean_absolute_error: 0.6891 - val_r2_score_tf: 0.2051\n",
      "Epoch 58/150\n",
      "1269/1269 [==============================] - 5s 4ms/step - loss: 0.7109 - mean_absolute_error: 0.6459 - r2_score_tf: 0.3061 - val_loss: 0.7944 - val_mean_absolute_error: 0.6741 - val_r2_score_tf: 0.2151\n",
      "Epoch 59/150\n",
      "1269/1269 [==============================] - 5s 4ms/step - loss: 0.7109 - mean_absolute_error: 0.6458 - r2_score_tf: 0.3071 - val_loss: 0.7903 - val_mean_absolute_error: 0.6724 - val_r2_score_tf: 0.2193\n",
      "Epoch 60/150\n",
      "1269/1269 [==============================] - 6s 5ms/step - loss: 0.7107 - mean_absolute_error: 0.6458 - r2_score_tf: 0.3061 - val_loss: 0.7996 - val_mean_absolute_error: 0.6703 - val_r2_score_tf: 0.2103\n",
      "Epoch 61/150\n",
      "1269/1269 [==============================] - 7s 5ms/step - loss: 0.7107 - mean_absolute_error: 0.6457 - r2_score_tf: 0.3058 - val_loss: 0.7992 - val_mean_absolute_error: 0.6858 - val_r2_score_tf: 0.2095\n",
      "Epoch 62/150\n",
      "1269/1269 [==============================] - 7s 6ms/step - loss: 0.7110 - mean_absolute_error: 0.6458 - r2_score_tf: 0.3066 - val_loss: 0.7925 - val_mean_absolute_error: 0.6721 - val_r2_score_tf: 0.2172\n",
      "Epoch 63/150\n",
      "1269/1269 [==============================] - 7s 6ms/step - loss: 0.7102 - mean_absolute_error: 0.6455 - r2_score_tf: 0.3078 - val_loss: 0.7906 - val_mean_absolute_error: 0.6741 - val_r2_score_tf: 0.2194\n",
      "Epoch 64/150\n",
      "1269/1269 [==============================] - 7s 6ms/step - loss: 0.7101 - mean_absolute_error: 0.6454 - r2_score_tf: 0.3072 - val_loss: 0.7888 - val_mean_absolute_error: 0.6707 - val_r2_score_tf: 0.2220\n",
      "Epoch 65/150\n",
      "1269/1269 [==============================] - 5s 4ms/step - loss: 0.7097 - mean_absolute_error: 0.6452 - r2_score_tf: 0.3073 - val_loss: 0.8005 - val_mean_absolute_error: 0.6705 - val_r2_score_tf: 0.2096\n",
      "Epoch 66/150\n",
      "1269/1269 [==============================] - 6s 4ms/step - loss: 0.7100 - mean_absolute_error: 0.6454 - r2_score_tf: 0.3059 - val_loss: 0.7899 - val_mean_absolute_error: 0.6735 - val_r2_score_tf: 0.2200\n",
      "Epoch 67/150\n",
      "1269/1269 [==============================] - 5s 4ms/step - loss: 0.7099 - mean_absolute_error: 0.6453 - r2_score_tf: 0.3076 - val_loss: 0.7876 - val_mean_absolute_error: 0.6734 - val_r2_score_tf: 0.2226\n",
      "Epoch 68/150\n",
      "1269/1269 [==============================] - 7s 5ms/step - loss: 0.7097 - mean_absolute_error: 0.6452 - r2_score_tf: 0.3079 - val_loss: 0.7988 - val_mean_absolute_error: 0.6699 - val_r2_score_tf: 0.2111\n",
      "Epoch 69/150\n",
      "1269/1269 [==============================] - 9s 7ms/step - loss: 0.7096 - mean_absolute_error: 0.6451 - r2_score_tf: 0.3084 - val_loss: 0.7926 - val_mean_absolute_error: 0.6750 - val_r2_score_tf: 0.2169\n",
      "Epoch 70/150\n",
      "1269/1269 [==============================] - 8s 6ms/step - loss: 0.7095 - mean_absolute_error: 0.6451 - r2_score_tf: 0.3073 - val_loss: 0.7911 - val_mean_absolute_error: 0.6715 - val_r2_score_tf: 0.2190\n",
      "Epoch 71/150\n",
      "1269/1269 [==============================] - 8s 6ms/step - loss: 0.7096 - mean_absolute_error: 0.6452 - r2_score_tf: 0.3066 - val_loss: 0.7893 - val_mean_absolute_error: 0.6742 - val_r2_score_tf: 0.2202\n",
      "Epoch 72/150\n",
      "1269/1269 [==============================] - 8s 6ms/step - loss: 0.7093 - mean_absolute_error: 0.6451 - r2_score_tf: 0.3085 - val_loss: 0.7900 - val_mean_absolute_error: 0.6724 - val_r2_score_tf: 0.2198\n",
      "Epoch 73/150\n",
      "1269/1269 [==============================] - 8s 6ms/step - loss: 0.7087 - mean_absolute_error: 0.6448 - r2_score_tf: 0.3072 - val_loss: 0.8024 - val_mean_absolute_error: 0.6697 - val_r2_score_tf: 0.2081\n",
      "Epoch 74/150\n",
      "1269/1269 [==============================] - 8s 6ms/step - loss: 0.7092 - mean_absolute_error: 0.6450 - r2_score_tf: 0.3093 - val_loss: 0.8010 - val_mean_absolute_error: 0.6704 - val_r2_score_tf: 0.2092\n",
      "Epoch 75/150\n",
      "1269/1269 [==============================] - 8s 6ms/step - loss: 0.7096 - mean_absolute_error: 0.6452 - r2_score_tf: 0.3074 - val_loss: 0.7967 - val_mean_absolute_error: 0.6694 - val_r2_score_tf: 0.2137\n",
      "Epoch 76/150\n",
      "1269/1269 [==============================] - 8s 6ms/step - loss: 0.7086 - mean_absolute_error: 0.6447 - r2_score_tf: 0.3089 - val_loss: 0.7916 - val_mean_absolute_error: 0.6708 - val_r2_score_tf: 0.2189\n",
      "Epoch 77/150\n",
      "1269/1269 [==============================] - 8s 6ms/step - loss: 0.7088 - mean_absolute_error: 0.6445 - r2_score_tf: 0.3065 - val_loss: 0.7926 - val_mean_absolute_error: 0.6733 - val_r2_score_tf: 0.2171\n",
      "Epoch 78/150\n",
      "1269/1269 [==============================] - 8s 6ms/step - loss: 0.7082 - mean_absolute_error: 0.6441 - r2_score_tf: 0.3069 - val_loss: 0.7933 - val_mean_absolute_error: 0.6713 - val_r2_score_tf: 0.2166\n",
      "Epoch 79/150\n",
      "1269/1269 [==============================] - 8s 6ms/step - loss: 0.7091 - mean_absolute_error: 0.6447 - r2_score_tf: 0.3070 - val_loss: 0.7903 - val_mean_absolute_error: 0.6706 - val_r2_score_tf: 0.2206\n",
      "Epoch 80/150\n",
      "1269/1269 [==============================] - 8s 6ms/step - loss: 0.7088 - mean_absolute_error: 0.6443 - r2_score_tf: 0.3063 - val_loss: 0.7925 - val_mean_absolute_error: 0.6699 - val_r2_score_tf: 0.2181\n",
      "Epoch 81/150\n",
      "1269/1269 [==============================] - 8s 6ms/step - loss: 0.7084 - mean_absolute_error: 0.6442 - r2_score_tf: 0.3069 - val_loss: 0.7903 - val_mean_absolute_error: 0.6700 - val_r2_score_tf: 0.2200\n",
      "Epoch 82/150\n",
      "1269/1269 [==============================] - 8s 6ms/step - loss: 0.7087 - mean_absolute_error: 0.6441 - r2_score_tf: 0.3079 - val_loss: 0.7882 - val_mean_absolute_error: 0.6713 - val_r2_score_tf: 0.2226\n",
      "Epoch 83/150\n",
      "1269/1269 [==============================] - 8s 6ms/step - loss: 0.7079 - mean_absolute_error: 0.6439 - r2_score_tf: 0.3076 - val_loss: 0.7910 - val_mean_absolute_error: 0.6735 - val_r2_score_tf: 0.2191\n",
      "Epoch 84/150\n",
      "1269/1269 [==============================] - 8s 6ms/step - loss: 0.7083 - mean_absolute_error: 0.6442 - r2_score_tf: 0.3087 - val_loss: 0.7924 - val_mean_absolute_error: 0.6760 - val_r2_score_tf: 0.2175\n",
      "Epoch 85/150\n",
      "1269/1269 [==============================] - 8s 6ms/step - loss: 0.7076 - mean_absolute_error: 0.6441 - r2_score_tf: 0.3076 - val_loss: 0.7925 - val_mean_absolute_error: 0.6772 - val_r2_score_tf: 0.2169\n",
      "Epoch 86/150\n",
      "1269/1269 [==============================] - 8s 6ms/step - loss: 0.7085 - mean_absolute_error: 0.6441 - r2_score_tf: 0.3081 - val_loss: 0.7915 - val_mean_absolute_error: 0.6736 - val_r2_score_tf: 0.2184\n",
      "Epoch 87/150\n",
      "1269/1269 [==============================] - 8s 6ms/step - loss: 0.7077 - mean_absolute_error: 0.6435 - r2_score_tf: 0.3070 - val_loss: 0.7907 - val_mean_absolute_error: 0.6722 - val_r2_score_tf: 0.2191\n",
      "Epoch 88/150\n",
      "1269/1269 [==============================] - 8s 6ms/step - loss: 0.7078 - mean_absolute_error: 0.6439 - r2_score_tf: 0.3099 - val_loss: 0.8016 - val_mean_absolute_error: 0.6707 - val_r2_score_tf: 0.2086\n",
      "Epoch 89/150\n",
      "1269/1269 [==============================] - 8s 6ms/step - loss: 0.7075 - mean_absolute_error: 0.6436 - r2_score_tf: 0.3098 - val_loss: 0.8011 - val_mean_absolute_error: 0.6700 - val_r2_score_tf: 0.2096\n",
      "Epoch 90/150\n",
      "1269/1269 [==============================] - 8s 6ms/step - loss: 0.7078 - mean_absolute_error: 0.6437 - r2_score_tf: 0.3088 - val_loss: 0.7920 - val_mean_absolute_error: 0.6713 - val_r2_score_tf: 0.2185\n",
      "Epoch 91/150\n",
      "1269/1269 [==============================] - 8s 6ms/step - loss: 0.7075 - mean_absolute_error: 0.6435 - r2_score_tf: 0.3089 - val_loss: 0.7915 - val_mean_absolute_error: 0.6703 - val_r2_score_tf: 0.2189\n",
      "Epoch 92/150\n",
      "1269/1269 [==============================] - 8s 6ms/step - loss: 0.7076 - mean_absolute_error: 0.6440 - r2_score_tf: 0.3072 - val_loss: 0.8004 - val_mean_absolute_error: 0.6705 - val_r2_score_tf: 0.2100\n",
      "Epoch 93/150\n",
      "1269/1269 [==============================] - 8s 6ms/step - loss: 0.7078 - mean_absolute_error: 0.6437 - r2_score_tf: 0.3084 - val_loss: 0.7951 - val_mean_absolute_error: 0.6760 - val_r2_score_tf: 0.2143\n",
      "Epoch 94/150\n",
      "1269/1269 [==============================] - 8s 6ms/step - loss: 0.7073 - mean_absolute_error: 0.6436 - r2_score_tf: 0.3095 - val_loss: 0.7923 - val_mean_absolute_error: 0.6721 - val_r2_score_tf: 0.2176\n",
      "Epoch 95/150\n",
      "1269/1269 [==============================] - 8s 7ms/step - loss: 0.7070 - mean_absolute_error: 0.6434 - r2_score_tf: 0.3100 - val_loss: 0.8015 - val_mean_absolute_error: 0.6703 - val_r2_score_tf: 0.2087\n",
      "Epoch 96/150\n",
      "1269/1269 [==============================] - 8s 6ms/step - loss: 0.7069 - mean_absolute_error: 0.6432 - r2_score_tf: 0.3098 - val_loss: 0.7994 - val_mean_absolute_error: 0.6840 - val_r2_score_tf: 0.2100\n",
      "Epoch 97/150\n",
      "1269/1269 [==============================] - 8s 6ms/step - loss: 0.7068 - mean_absolute_error: 0.6431 - r2_score_tf: 0.3103 - val_loss: 0.7923 - val_mean_absolute_error: 0.6735 - val_r2_score_tf: 0.2176\n",
      "Epoch 98/150\n",
      "1269/1269 [==============================] - 8s 6ms/step - loss: 0.7064 - mean_absolute_error: 0.6428 - r2_score_tf: 0.3110 - val_loss: 0.7986 - val_mean_absolute_error: 0.6725 - val_r2_score_tf: 0.2110\n",
      "Epoch 99/150\n",
      "1269/1269 [==============================] - 8s 6ms/step - loss: 0.7066 - mean_absolute_error: 0.6429 - r2_score_tf: 0.3096 - val_loss: 0.7944 - val_mean_absolute_error: 0.6756 - val_r2_score_tf: 0.2159\n",
      "Epoch 100/150\n",
      "1269/1269 [==============================] - 8s 7ms/step - loss: 0.7063 - mean_absolute_error: 0.6427 - r2_score_tf: 0.3112 - val_loss: 0.7939 - val_mean_absolute_error: 0.6713 - val_r2_score_tf: 0.2162\n",
      "Epoch 101/150\n",
      "1269/1269 [==============================] - 8s 6ms/step - loss: 0.7060 - mean_absolute_error: 0.6427 - r2_score_tf: 0.3099 - val_loss: 0.7945 - val_mean_absolute_error: 0.6730 - val_r2_score_tf: 0.2159\n",
      "Epoch 102/150\n",
      "1269/1269 [==============================] - 8s 6ms/step - loss: 0.7061 - mean_absolute_error: 0.6426 - r2_score_tf: 0.3116 - val_loss: 0.7953 - val_mean_absolute_error: 0.6700 - val_r2_score_tf: 0.2153\n",
      "Epoch 103/150\n",
      "1269/1269 [==============================] - 8s 6ms/step - loss: 0.7059 - mean_absolute_error: 0.6425 - r2_score_tf: 0.3095 - val_loss: 0.7973 - val_mean_absolute_error: 0.6733 - val_r2_score_tf: 0.2136\n",
      "Epoch 104/150\n",
      "1269/1269 [==============================] - 8s 6ms/step - loss: 0.7057 - mean_absolute_error: 0.6427 - r2_score_tf: 0.3107 - val_loss: 0.7951 - val_mean_absolute_error: 0.6745 - val_r2_score_tf: 0.2152\n",
      "Epoch 105/150\n",
      "1269/1269 [==============================] - 8s 6ms/step - loss: 0.7055 - mean_absolute_error: 0.6426 - r2_score_tf: 0.3099 - val_loss: 0.7940 - val_mean_absolute_error: 0.6744 - val_r2_score_tf: 0.2162\n",
      "Epoch 106/150\n",
      "1269/1269 [==============================] - 8s 6ms/step - loss: 0.7052 - mean_absolute_error: 0.6424 - r2_score_tf: 0.3093 - val_loss: 0.7937 - val_mean_absolute_error: 0.6725 - val_r2_score_tf: 0.2167\n",
      "Epoch 107/150\n",
      "1269/1269 [==============================] - 8s 6ms/step - loss: 0.7055 - mean_absolute_error: 0.6427 - r2_score_tf: 0.3114 - val_loss: 0.7935 - val_mean_absolute_error: 0.6728 - val_r2_score_tf: 0.2169\n",
      "Epoch 108/150\n",
      "1269/1269 [==============================] - 8s 6ms/step - loss: 0.7055 - mean_absolute_error: 0.6427 - r2_score_tf: 0.3105 - val_loss: 0.7955 - val_mean_absolute_error: 0.6717 - val_r2_score_tf: 0.2151\n",
      "Epoch 109/150\n",
      "1269/1269 [==============================] - 8s 6ms/step - loss: 0.7051 - mean_absolute_error: 0.6425 - r2_score_tf: 0.3117 - val_loss: 0.7986 - val_mean_absolute_error: 0.6731 - val_r2_score_tf: 0.2121\n",
      "Epoch 110/150\n",
      "1269/1269 [==============================] - 7s 6ms/step - loss: 0.7048 - mean_absolute_error: 0.6422 - r2_score_tf: 0.3119 - val_loss: 0.7963 - val_mean_absolute_error: 0.6721 - val_r2_score_tf: 0.2133\n",
      "Epoch 111/150\n",
      "1269/1269 [==============================] - 8s 6ms/step - loss: 0.7046 - mean_absolute_error: 0.6421 - r2_score_tf: 0.3125 - val_loss: 0.7948 - val_mean_absolute_error: 0.6744 - val_r2_score_tf: 0.2153\n",
      "Epoch 112/150\n",
      "1269/1269 [==============================] - 8s 6ms/step - loss: 0.7047 - mean_absolute_error: 0.6421 - r2_score_tf: 0.3114 - val_loss: 0.8012 - val_mean_absolute_error: 0.6710 - val_r2_score_tf: 0.2092\n",
      "Epoch 113/150\n",
      "1269/1269 [==============================] - 8s 6ms/step - loss: 0.7045 - mean_absolute_error: 0.6419 - r2_score_tf: 0.3122 - val_loss: 0.8047 - val_mean_absolute_error: 0.6732 - val_r2_score_tf: 0.2056\n",
      "Epoch 114/150\n",
      "1269/1269 [==============================] - 8s 6ms/step - loss: 0.7038 - mean_absolute_error: 0.6418 - r2_score_tf: 0.3132 - val_loss: 0.7929 - val_mean_absolute_error: 0.6747 - val_r2_score_tf: 0.2170\n",
      "Epoch 115/150\n",
      "1269/1269 [==============================] - 8s 6ms/step - loss: 0.7038 - mean_absolute_error: 0.6419 - r2_score_tf: 0.3108 - val_loss: 0.7947 - val_mean_absolute_error: 0.6732 - val_r2_score_tf: 0.2162\n",
      "Epoch 116/150\n",
      "1269/1269 [==============================] - 7s 6ms/step - loss: 0.7039 - mean_absolute_error: 0.6418 - r2_score_tf: 0.3124 - val_loss: 0.7960 - val_mean_absolute_error: 0.6724 - val_r2_score_tf: 0.2149\n",
      "Epoch 117/150\n",
      "1269/1269 [==============================] - 8s 6ms/step - loss: 0.7031 - mean_absolute_error: 0.6418 - r2_score_tf: 0.3128 - val_loss: 0.7986 - val_mean_absolute_error: 0.6724 - val_r2_score_tf: 0.2116\n",
      "Epoch 118/150\n",
      "1269/1269 [==============================] - 8s 7ms/step - loss: 0.7032 - mean_absolute_error: 0.6418 - r2_score_tf: 0.3134 - val_loss: 0.7954 - val_mean_absolute_error: 0.6735 - val_r2_score_tf: 0.2146\n",
      "Epoch 119/150\n",
      "1269/1269 [==============================] - 5s 4ms/step - loss: 0.7030 - mean_absolute_error: 0.6415 - r2_score_tf: 0.3135 - val_loss: 0.7978 - val_mean_absolute_error: 0.6763 - val_r2_score_tf: 0.2121\n",
      "Epoch 120/150\n",
      "1269/1269 [==============================] - 6s 5ms/step - loss: 0.7027 - mean_absolute_error: 0.6417 - r2_score_tf: 0.3122 - val_loss: 0.7934 - val_mean_absolute_error: 0.6741 - val_r2_score_tf: 0.2166\n",
      "Epoch 121/150\n",
      "1269/1269 [==============================] - 8s 6ms/step - loss: 0.7024 - mean_absolute_error: 0.6416 - r2_score_tf: 0.3130 - val_loss: 0.7968 - val_mean_absolute_error: 0.6785 - val_r2_score_tf: 0.2129\n",
      "Epoch 122/150\n",
      "1269/1269 [==============================] - 8s 6ms/step - loss: 0.7021 - mean_absolute_error: 0.6412 - r2_score_tf: 0.3125 - val_loss: 0.7999 - val_mean_absolute_error: 0.6733 - val_r2_score_tf: 0.2104\n",
      "Epoch 123/150\n",
      "1269/1269 [==============================] - 8s 6ms/step - loss: 0.7015 - mean_absolute_error: 0.6409 - r2_score_tf: 0.3143 - val_loss: 0.7980 - val_mean_absolute_error: 0.6731 - val_r2_score_tf: 0.2120\n",
      "Epoch 124/150\n",
      "1269/1269 [==============================] - 8s 6ms/step - loss: 0.7019 - mean_absolute_error: 0.6412 - r2_score_tf: 0.3138 - val_loss: 0.7927 - val_mean_absolute_error: 0.6754 - val_r2_score_tf: 0.2172\n",
      "Epoch 125/150\n",
      "1269/1269 [==============================] - 8s 6ms/step - loss: 0.7011 - mean_absolute_error: 0.6410 - r2_score_tf: 0.3140 - val_loss: 0.7985 - val_mean_absolute_error: 0.6731 - val_r2_score_tf: 0.2113\n",
      "Epoch 126/150\n",
      "1269/1269 [==============================] - 8s 6ms/step - loss: 0.7011 - mean_absolute_error: 0.6406 - r2_score_tf: 0.3155 - val_loss: 0.7950 - val_mean_absolute_error: 0.6765 - val_r2_score_tf: 0.2146\n",
      "Epoch 127/150\n",
      "1269/1269 [==============================] - 8s 6ms/step - loss: 0.7007 - mean_absolute_error: 0.6405 - r2_score_tf: 0.3158 - val_loss: 0.7928 - val_mean_absolute_error: 0.6722 - val_r2_score_tf: 0.2169\n",
      "Epoch 128/150\n",
      "1269/1269 [==============================] - 8s 6ms/step - loss: 0.7000 - mean_absolute_error: 0.6403 - r2_score_tf: 0.3167 - val_loss: 0.7914 - val_mean_absolute_error: 0.6748 - val_r2_score_tf: 0.2183\n",
      "Epoch 129/150\n",
      "1269/1269 [==============================] - 8s 6ms/step - loss: 0.6998 - mean_absolute_error: 0.6404 - r2_score_tf: 0.3172 - val_loss: 0.7994 - val_mean_absolute_error: 0.6721 - val_r2_score_tf: 0.2103\n",
      "Epoch 130/150\n",
      "1269/1269 [==============================] - 7s 6ms/step - loss: 0.7002 - mean_absolute_error: 0.6404 - r2_score_tf: 0.3172 - val_loss: 0.7916 - val_mean_absolute_error: 0.6749 - val_r2_score_tf: 0.2179\n",
      "Epoch 131/150\n",
      "1269/1269 [==============================] - 8s 6ms/step - loss: 0.6995 - mean_absolute_error: 0.6404 - r2_score_tf: 0.3161 - val_loss: 0.7962 - val_mean_absolute_error: 0.6726 - val_r2_score_tf: 0.2137\n",
      "Epoch 132/150\n",
      "1269/1269 [==============================] - 8s 6ms/step - loss: 0.6994 - mean_absolute_error: 0.6399 - r2_score_tf: 0.3174 - val_loss: 0.7905 - val_mean_absolute_error: 0.6738 - val_r2_score_tf: 0.2187\n",
      "Epoch 133/150\n",
      "1269/1269 [==============================] - 8s 6ms/step - loss: 0.6988 - mean_absolute_error: 0.6399 - r2_score_tf: 0.3182 - val_loss: 0.7934 - val_mean_absolute_error: 0.6766 - val_r2_score_tf: 0.2158\n",
      "Epoch 134/150\n",
      "1269/1269 [==============================] - 8s 6ms/step - loss: 0.6982 - mean_absolute_error: 0.6395 - r2_score_tf: 0.3176 - val_loss: 0.8011 - val_mean_absolute_error: 0.6745 - val_r2_score_tf: 0.2082\n",
      "Epoch 135/150\n",
      "1269/1269 [==============================] - 8s 6ms/step - loss: 0.6984 - mean_absolute_error: 0.6396 - r2_score_tf: 0.3178 - val_loss: 0.7932 - val_mean_absolute_error: 0.6737 - val_r2_score_tf: 0.2168\n",
      "Epoch 136/150\n",
      "1269/1269 [==============================] - 8s 6ms/step - loss: 0.6981 - mean_absolute_error: 0.6396 - r2_score_tf: 0.3184 - val_loss: 0.7897 - val_mean_absolute_error: 0.6720 - val_r2_score_tf: 0.2202\n",
      "Epoch 137/150\n",
      "1269/1269 [==============================] - 8s 6ms/step - loss: 0.6978 - mean_absolute_error: 0.6395 - r2_score_tf: 0.3177 - val_loss: 0.7946 - val_mean_absolute_error: 0.6733 - val_r2_score_tf: 0.2152\n",
      "Epoch 138/150\n",
      "1269/1269 [==============================] - 8s 6ms/step - loss: 0.6974 - mean_absolute_error: 0.6393 - r2_score_tf: 0.3192 - val_loss: 0.7923 - val_mean_absolute_error: 0.6737 - val_r2_score_tf: 0.2166\n",
      "Epoch 139/150\n",
      "1269/1269 [==============================] - 8s 6ms/step - loss: 0.6976 - mean_absolute_error: 0.6393 - r2_score_tf: 0.3191 - val_loss: 0.7932 - val_mean_absolute_error: 0.6755 - val_r2_score_tf: 0.2163\n",
      "Epoch 140/150\n",
      "1269/1269 [==============================] - 8s 6ms/step - loss: 0.6975 - mean_absolute_error: 0.6393 - r2_score_tf: 0.3185 - val_loss: 0.7957 - val_mean_absolute_error: 0.6756 - val_r2_score_tf: 0.2136\n",
      "Epoch 141/150\n",
      "1269/1269 [==============================] - 7s 6ms/step - loss: 0.6968 - mean_absolute_error: 0.6390 - r2_score_tf: 0.3188 - val_loss: 0.7942 - val_mean_absolute_error: 0.6803 - val_r2_score_tf: 0.2150\n",
      "Epoch 142/150\n",
      "1269/1269 [==============================] - 8s 6ms/step - loss: 0.6967 - mean_absolute_error: 0.6386 - r2_score_tf: 0.3201 - val_loss: 0.7935 - val_mean_absolute_error: 0.6739 - val_r2_score_tf: 0.2161\n",
      "Epoch 143/150\n",
      "1269/1269 [==============================] - 8s 6ms/step - loss: 0.6969 - mean_absolute_error: 0.6389 - r2_score_tf: 0.3192 - val_loss: 0.7918 - val_mean_absolute_error: 0.6770 - val_r2_score_tf: 0.2173\n",
      "Epoch 144/150\n",
      "1269/1269 [==============================] - 8s 6ms/step - loss: 0.6959 - mean_absolute_error: 0.6384 - r2_score_tf: 0.3207 - val_loss: 0.7952 - val_mean_absolute_error: 0.6736 - val_r2_score_tf: 0.2148\n",
      "Epoch 145/150\n",
      "1269/1269 [==============================] - 8s 6ms/step - loss: 0.6955 - mean_absolute_error: 0.6381 - r2_score_tf: 0.3210 - val_loss: 0.8064 - val_mean_absolute_error: 0.6724 - val_r2_score_tf: 0.2033\n",
      "Epoch 146/150\n",
      "1269/1269 [==============================] - 8s 6ms/step - loss: 0.6957 - mean_absolute_error: 0.6384 - r2_score_tf: 0.3204 - val_loss: 0.7968 - val_mean_absolute_error: 0.6715 - val_r2_score_tf: 0.2130\n",
      "Epoch 147/150\n",
      "1269/1269 [==============================] - 8s 6ms/step - loss: 0.6957 - mean_absolute_error: 0.6385 - r2_score_tf: 0.3203 - val_loss: 0.7983 - val_mean_absolute_error: 0.6731 - val_r2_score_tf: 0.2121\n",
      "Epoch 148/150\n",
      "1269/1269 [==============================] - 8s 6ms/step - loss: 0.6955 - mean_absolute_error: 0.6384 - r2_score_tf: 0.3213 - val_loss: 0.7915 - val_mean_absolute_error: 0.6752 - val_r2_score_tf: 0.2178\n",
      "Epoch 149/150\n",
      "1269/1269 [==============================] - 8s 6ms/step - loss: 0.6951 - mean_absolute_error: 0.6379 - r2_score_tf: 0.3223 - val_loss: 0.7951 - val_mean_absolute_error: 0.6797 - val_r2_score_tf: 0.2144\n",
      "Epoch 150/150\n",
      "1269/1269 [==============================] - 8s 6ms/step - loss: 0.6946 - mean_absolute_error: 0.6378 - r2_score_tf: 0.3217 - val_loss: 0.7959 - val_mean_absolute_error: 0.6756 - val_r2_score_tf: 0.2131\n"
     ]
    }
   ],
   "source": [
    "# Entrenar el modelo\n",
    "history_nonlinear_r2 = model_nonlinear_r2.fit(\n",
    "    x=[X_train.newUserId, X_train.newMovieId],\n",
    "    y=X_train.rating,\n",
    "    epochs=150, \n",
    "    batch_size=64,\n",
    "    validation_data=([X_validation.newUserId, X_validation.newMovieId], X_validation.rating),\n",
    "    verbose=1\n",
    ")\n"
   ]
  },
  {
   "cell_type": "code",
   "execution_count": 45,
   "metadata": {},
   "outputs": [
    {
     "data": {
      "image/png": "[encoded data removed]",
      "text/plain": [
       "<Figure size 1200x400 with 2 Axes>"
      ]
     },
     "metadata": {},
     "output_type": "display_data"
    }
   ],
   "source": [
    "# Visualizar la pérdida y el R cuadrado en entrenamiento y validación\n",
    "plt.figure(figsize=(12, 4))\n",
    "\n",
    "# Pérdida\n",
    "plt.subplot(1, 2, 1)\n",
    "plt.plot(history_nonlinear_r2.history['loss'], label='Train Loss')\n",
    "plt.plot(history_nonlinear_r2.history['val_loss'], label='Validation Loss')\n",
    "plt.title('Training and Validation Loss')\n",
    "plt.xlabel('Epoch')\n",
    "plt.ylabel('Loss')\n",
    "plt.legend()\n",
    "\n",
    "# Visualiza el R cuadrado en entrenamiento y validación\n",
    "plt.subplot(1, 2, 2)\n",
    "plt.plot(history_nonlinear_r2.history['r2_score_tf'], label='Train')\n",
    "plt.plot(history_nonlinear_r2.history['val_r2_score_tf'], label='Validation')\n",
    "plt.title('R^2 Score')\n",
    "plt.xlabel('Epoch')\n",
    "plt.ylabel('R^2 Score')\n",
    "plt.legend()\n",
    "\n",
    "plt.tight_layout()\n",
    "plt.show()"
   ]
  },
  {
   "cell_type": "code",
   "execution_count": 46,
   "metadata": {},
   "outputs": [
    {
     "name": "stdout",
     "output_type": "stream",
     "text": [
      "Minimum MSE:  0.7876108288764954\n"
     ]
    },
    {
     "data": {
      "image/png": "[encoded data removed]",
      "text/plain": [
       "<Figure size 640x480 with 1 Axes>"
      ]
     },
     "metadata": {},
     "output_type": "display_data"
    }
   ],
   "source": [
    "pd.Series(history_nonlinear_r2.history['val_loss'][10:]).plot(logy=False)\n",
    "plt.xlabel(\"Epoch\")\n",
    "plt.ylabel(\"Validation Error\")\n",
    "print('Minimum MSE: ', min(history_nonlinear_r2.history['val_loss']))"
   ]
  },
  {
   "cell_type": "code",
   "execution_count": 47,
   "metadata": {},
   "outputs": [
    {
     "name": "stdout",
     "output_type": "stream",
     "text": [
      "141/141 [==============================] - 1s 5ms/step - loss: 0.7959 - mean_absolute_error: 0.6756 - r2_score_tf: 0.1947\n"
     ]
    },
    {
     "data": {
      "text/plain": [
       "[0.7958753705024719, 0.6756430268287659, 0.19467423856258392]"
      ]
     },
     "execution_count": 47,
     "metadata": {},
     "output_type": "execute_result"
    }
   ],
   "source": [
    "result = model_nonlinear_r2.evaluate(\n",
    "    x=[X_validation.newUserId, X_validation.newMovieId],\n",
    "    y=X_validation.rating\n",
    ")\n",
    "result"
   ]
  },
  {
   "cell_type": "code",
   "execution_count": 48,
   "metadata": {},
   "outputs": [
    {
     "name": "stdout",
     "output_type": "stream",
     "text": [
      "141/141 [==============================] - 1s 4ms/step\n"
     ]
    },
    {
     "data": {
      "text/plain": [
       "array([[4.5314493],\n",
       "       [4.437235 ],\n",
       "       [3.8797371],\n",
       "       ...,\n",
       "       [2.9236662],\n",
       "       [3.126723 ],\n",
       "       [2.8269427]], dtype=float32)"
      ]
     },
     "execution_count": 48,
     "metadata": {},
     "output_type": "execute_result"
    }
   ],
   "source": [
    "predictions_proba = model_nonlinear_r2.predict( x=[X_validation.newUserId, X_validation.newMovieId])\n",
    "predictions_proba"
   ]
  },
  {
   "cell_type": "markdown",
   "metadata": {},
   "source": [
    "-----------------------------------------------------------------------------------------------------"
   ]
  },
  {
   "cell_type": "code",
   "execution_count": 49,
   "metadata": {},
   "outputs": [
    {
     "name": "stdout",
     "output_type": "stream",
     "text": [
      "141/141 [==============================] - 1s 3ms/step\n"
     ]
    }
   ],
   "source": [
    "# Obtener predicciones para el conjunto de prueba\n",
    "predictions = model.predict( x=[X_validation.newUserId, X_validation.newMovieId])"
   ]
  },
  {
   "cell_type": "markdown",
   "metadata": {},
   "source": [
    "Copio el datset de validación, coloco la columna de puntuación al final del datset, añado las predicciones y el error cometido en cada predicción"
   ]
  },
  {
   "cell_type": "code",
   "execution_count": 50,
   "metadata": {},
   "outputs": [
    {
     "data": {
      "text/plain": [
       "array([[4.4001837],\n",
       "       [4.3245106],\n",
       "       [3.7938883],\n",
       "       ...,\n",
       "       [3.0670702],\n",
       "       [3.4217558],\n",
       "       [2.917901 ]], dtype=float32)"
      ]
     },
     "execution_count": 50,
     "metadata": {},
     "output_type": "execute_result"
    }
   ],
   "source": [
    "predictions"
   ]
  },
  {
   "cell_type": "code",
   "execution_count": 51,
   "metadata": {},
   "outputs": [
    {
     "data": {
      "text/html": [
       "<div>\n",
       "<style scoped>\n",
       "    .dataframe tbody tr th:only-of-type {\n",
       "        vertical-align: middle;\n",
       "    }\n",
       "\n",
       "    .dataframe tbody tr th {\n",
       "        vertical-align: top;\n",
       "    }\n",
       "\n",
       "    .dataframe thead th {\n",
       "        text-align: right;\n",
       "    }\n",
       "</style>\n",
       "<table border=\"1\" class=\"dataframe\">\n",
       "  <thead>\n",
       "    <tr style=\"text-align: right;\">\n",
       "      <th></th>\n",
       "      <th>userId</th>\n",
       "      <th>movieId</th>\n",
       "      <th>timestamp</th>\n",
       "      <th>newMovieId</th>\n",
       "      <th>newUserId</th>\n",
       "      <th>rating</th>\n",
       "      <th>rating_predictions</th>\n",
       "      <th>error</th>\n",
       "    </tr>\n",
       "  </thead>\n",
       "  <tbody>\n",
       "    <tr>\n",
       "      <th>58632</th>\n",
       "      <td>104102</td>\n",
       "      <td>3578</td>\n",
       "      <td>12/09/2023, 21:48:16</td>\n",
       "      <td>234</td>\n",
       "      <td>731</td>\n",
       "      <td>5.0</td>\n",
       "      <td>4.400184</td>\n",
       "      <td>0.599816</td>\n",
       "    </tr>\n",
       "    <tr>\n",
       "      <th>6501</th>\n",
       "      <td>20257</td>\n",
       "      <td>1284</td>\n",
       "      <td>12/09/2023, 21:48:16</td>\n",
       "      <td>861</td>\n",
       "      <td>137</td>\n",
       "      <td>4.0</td>\n",
       "      <td>4.324511</td>\n",
       "      <td>-0.324511</td>\n",
       "    </tr>\n",
       "    <tr>\n",
       "      <th>45799</th>\n",
       "      <td>125007</td>\n",
       "      <td>2959</td>\n",
       "      <td>12/09/2023, 21:48:16</td>\n",
       "      <td>64</td>\n",
       "      <td>893</td>\n",
       "      <td>5.0</td>\n",
       "      <td>3.793888</td>\n",
       "      <td>1.206112</td>\n",
       "    </tr>\n",
       "    <tr>\n",
       "      <th>7180</th>\n",
       "      <td>20579</td>\n",
       "      <td>5218</td>\n",
       "      <td>12/09/2023, 21:48:16</td>\n",
       "      <td>379</td>\n",
       "      <td>145</td>\n",
       "      <td>4.0</td>\n",
       "      <td>3.596973</td>\n",
       "      <td>0.403027</td>\n",
       "    </tr>\n",
       "    <tr>\n",
       "      <th>143</th>\n",
       "      <td>311</td>\n",
       "      <td>546</td>\n",
       "      <td>12/09/2023, 21:48:16</td>\n",
       "      <td>115</td>\n",
       "      <td>3</td>\n",
       "      <td>1.0</td>\n",
       "      <td>1.971357</td>\n",
       "      <td>-0.971357</td>\n",
       "    </tr>\n",
       "  </tbody>\n",
       "</table>\n",
       "</div>"
      ],
      "text/plain": [
       "       userId  movieId             timestamp  newMovieId  newUserId  rating  \\\n",
       "58632  104102     3578  12/09/2023, 21:48:16         234        731     5.0   \n",
       "6501    20257     1284  12/09/2023, 21:48:16         861        137     4.0   \n",
       "45799  125007     2959  12/09/2023, 21:48:16          64        893     5.0   \n",
       "7180    20579     5218  12/09/2023, 21:48:16         379        145     4.0   \n",
       "143       311      546  12/09/2023, 21:48:16         115          3     1.0   \n",
       "\n",
       "       rating_predictions     error  \n",
       "58632            4.400184  0.599816  \n",
       "6501             4.324511 -0.324511  \n",
       "45799            3.793888  1.206112  \n",
       "7180             3.596973  0.403027  \n",
       "143              1.971357 -0.971357  "
      ]
     },
     "execution_count": 51,
     "metadata": {},
     "output_type": "execute_result"
    }
   ],
   "source": [
    "X_validation_with_predicitons = X_validation.copy()\n",
    "X_validation_with_predicitons.insert(X_validation_with_predicitons.columns.get_loc(X_validation_with_predicitons.columns[-1]), 'rating', X_validation_with_predicitons.pop('rating'))\n",
    "X_validation_with_predicitons['rating_predictions'] = predictions\n",
    "X_validation_with_predicitons['error'] = X_validation_with_predicitons['rating'] - X_validation_with_predicitons['rating_predictions']\n",
    "# X_validation_with_predicitons = X_validation_with_predicitons.drop(['timestamp'], axis=1)\n",
    "X_validation_with_predicitons.head()"
   ]
  },
  {
   "cell_type": "code",
   "execution_count": 52,
   "metadata": {},
   "outputs": [
    {
     "name": "stdout",
     "output_type": "stream",
     "text": [
      "Recomendaría 1 de las 2 películas que mejor a puntuado el usuario 5\n"
     ]
    },
    {
     "data": {
      "text/html": [
       "<div>\n",
       "<style scoped>\n",
       "    .dataframe tbody tr th:only-of-type {\n",
       "        vertical-align: middle;\n",
       "    }\n",
       "\n",
       "    .dataframe tbody tr th {\n",
       "        vertical-align: top;\n",
       "    }\n",
       "\n",
       "    .dataframe thead th {\n",
       "        text-align: right;\n",
       "    }\n",
       "</style>\n",
       "<table border=\"1\" class=\"dataframe\">\n",
       "  <thead>\n",
       "    <tr style=\"text-align: right;\">\n",
       "      <th></th>\n",
       "      <th>userId</th>\n",
       "      <th>movieId</th>\n",
       "      <th>timestamp</th>\n",
       "      <th>newMovieId</th>\n",
       "      <th>newUserId</th>\n",
       "      <th>rating</th>\n",
       "      <th>rating_predictions</th>\n",
       "      <th>error</th>\n",
       "      <th>recommended_movies</th>\n",
       "    </tr>\n",
       "  </thead>\n",
       "  <tbody>\n",
       "    <tr>\n",
       "      <th>78463</th>\n",
       "      <td>499</td>\n",
       "      <td>329</td>\n",
       "      <td>12/09/2023, 21:48:16</td>\n",
       "      <td>100</td>\n",
       "      <td>5</td>\n",
       "      <td>4.0</td>\n",
       "      <td>3.154918</td>\n",
       "      <td>0.845082</td>\n",
       "      <td>134</td>\n",
       "    </tr>\n",
       "    <tr>\n",
       "      <th>78480</th>\n",
       "      <td>499</td>\n",
       "      <td>1584</td>\n",
       "      <td>12/09/2023, 21:48:16</td>\n",
       "      <td>274</td>\n",
       "      <td>5</td>\n",
       "      <td>4.0</td>\n",
       "      <td>3.407422</td>\n",
       "      <td>0.592578</td>\n",
       "      <td>274</td>\n",
       "    </tr>\n",
       "    <tr>\n",
       "      <th>78484</th>\n",
       "      <td>499</td>\n",
       "      <td>2407</td>\n",
       "      <td>12/09/2023, 21:48:16</td>\n",
       "      <td>278</td>\n",
       "      <td>5</td>\n",
       "      <td>3.0</td>\n",
       "      <td>3.295387</td>\n",
       "      <td>-0.295387</td>\n",
       "      <td>278</td>\n",
       "    </tr>\n",
       "    <tr>\n",
       "      <th>78466</th>\n",
       "      <td>499</td>\n",
       "      <td>1196</td>\n",
       "      <td>12/09/2023, 21:48:16</td>\n",
       "      <td>134</td>\n",
       "      <td>5</td>\n",
       "      <td>3.0</td>\n",
       "      <td>4.081174</td>\n",
       "      <td>-1.081174</td>\n",
       "      <td>100</td>\n",
       "    </tr>\n",
       "    <tr>\n",
       "      <th>78474</th>\n",
       "      <td>499</td>\n",
       "      <td>3623</td>\n",
       "      <td>12/09/2023, 21:48:16</td>\n",
       "      <td>235</td>\n",
       "      <td>5</td>\n",
       "      <td>3.0</td>\n",
       "      <td>2.934129</td>\n",
       "      <td>0.065871</td>\n",
       "      <td>235</td>\n",
       "    </tr>\n",
       "  </tbody>\n",
       "</table>\n",
       "</div>"
      ],
      "text/plain": [
       "       userId  movieId             timestamp  newMovieId  newUserId  rating  \\\n",
       "78463     499      329  12/09/2023, 21:48:16         100          5     4.0   \n",
       "78480     499     1584  12/09/2023, 21:48:16         274          5     4.0   \n",
       "78484     499     2407  12/09/2023, 21:48:16         278          5     3.0   \n",
       "78466     499     1196  12/09/2023, 21:48:16         134          5     3.0   \n",
       "78474     499     3623  12/09/2023, 21:48:16         235          5     3.0   \n",
       "\n",
       "       rating_predictions     error  recommended_movies  \n",
       "78463            3.154918  0.845082                 134  \n",
       "78480            3.407422  0.592578                 274  \n",
       "78484            3.295387 -0.295387                 278  \n",
       "78466            4.081174 -1.081174                 100  \n",
       "78474            2.934129  0.065871                 235  "
      ]
     },
     "execution_count": 52,
     "metadata": {},
     "output_type": "execute_result"
    }
   ],
   "source": [
    "userID = 5\n",
    "num_movie_to_recomed = 5\n",
    "group_by_userID  = X_validation_with_predicitons.groupby('newUserId').get_group(userID)\n",
    "order_by_true_rating = group_by_userID.sort_values(by='rating', ascending=False)\n",
    "order_by_predict_rating = group_by_userID.sort_values(by='rating_predictions', ascending=False)\n",
    "df_group_by_user_order_rating_recommended_mov = order_by_true_rating.copy()\n",
    "df_group_by_user_order_rating_recommended_mov['recommended_movies'] = order_by_predict_rating['newMovieId'].values\n",
    "num_movie_to_recomed = len(df_group_by_user_order_rating_recommended_mov.newMovieId.unique())\n",
    "num_movie_to_recomed = int(num_movie_to_recomed/2)\n",
    "count_shared_movies = df_group_by_user_order_rating_recommended_mov.head(num_movie_to_recomed)['newMovieId'].isin(df_group_by_user_order_rating_recommended_mov.head(num_movie_to_recomed)['recommended_movies']).sum()\n",
    "print(f\"Recomendaría {count_shared_movies} de las {num_movie_to_recomed} películas que mejor a puntuado el usuario {df_group_by_user_order_rating_recommended_mov.newUserId.unique()[0]}\")\n",
    "df_group_by_user_order_rating_recommended_mov"
   ]
  },
  {
   "cell_type": "code",
   "execution_count": 53,
   "metadata": {},
   "outputs": [
    {
     "name": "stdout",
     "output_type": "stream",
     "text": [
      "El recomendador a recomendado correctamente un media de 1 películas de una media de 2 ya vistas y puntuadas por los usuarios\n"
     ]
    }
   ],
   "source": [
    "num_movie_saw_by_user = 0\n",
    "num_movie_recommended_by_user = 0\n",
    "n_users = X_validation_with_predicitons.userId.unique().shape[0]\n",
    "\n",
    "for userID in X_validation_with_predicitons.newUserId.unique():\n",
    "    group_by_userID  = X_validation_with_predicitons.groupby('newUserId').get_group(userID)\n",
    "    order_by_true_rating = group_by_userID.sort_values(by='rating', ascending=False)\n",
    "    order_by_predict_rating = group_by_userID.sort_values(by='rating_predictions', ascending=False)\n",
    "    df_group_by_user_order_rating_recommended_mov = order_by_true_rating.copy()\n",
    "    df_group_by_user_order_rating_recommended_mov['recommended_movies'] = order_by_predict_rating['newMovieId'].values\n",
    "    num_movie_to_saw= len(df_group_by_user_order_rating_recommended_mov.newMovieId.unique())\n",
    "\n",
    "    # num_movie_saw_by_user = num_movie_saw_by_user + num_movie_to_saw\n",
    "\n",
    "    num_movie_to_recomed = int(num_movie_to_saw/2)\n",
    "\n",
    "    num_movie_saw_by_user = num_movie_saw_by_user + num_movie_to_recomed\n",
    "\n",
    "    count_shared_movies = df_group_by_user_order_rating_recommended_mov.head(num_movie_to_recomed)['newMovieId'].isin(df_group_by_user_order_rating_recommended_mov.head(num_movie_to_recomed)['recommended_movies']).sum()\n",
    "    num_movie_recommended_by_user = num_movie_recommended_by_user + count_shared_movies\n",
    "    # print(f\"Recomendaría {count_shared_movies} de las {num_movie_to_recomed} películas que mejor a puntuado el usuario {df_group_by_user_order_rating_recommended_mov.newUserId.unique()[0]}\")\n",
    "    \n",
    "\n",
    "\n",
    "mean_movie_saw_by_user = num_movie_saw_by_user/n_users\n",
    "mean_movie_recommended_by_user = num_movie_recommended_by_user/n_users\n",
    "\n",
    "print(f\"El recomendador a recomendado correctamente un media de {round(mean_movie_recommended_by_user)} películas de una media de {round(mean_movie_saw_by_user)} ya vistas y puntuadas por los usuarios\")"
   ]
  },
  {
   "cell_type": "markdown",
   "metadata": {},
   "source": [
    "Que porcentaje de peliculas predichas estan en la misma posción que las peliculas ordenadas por calificación (real)"
   ]
  },
  {
   "cell_type": "code",
   "execution_count": 54,
   "metadata": {},
   "outputs": [
    {
     "name": "stdout",
     "output_type": "stream",
     "text": [
      "El porcentaje de aciertos en la ordenación de peliculas para el usuario  5 es de 60.0%\n"
     ]
    },
    {
     "data": {
      "text/html": [
       "<div>\n",
       "<style scoped>\n",
       "    .dataframe tbody tr th:only-of-type {\n",
       "        vertical-align: middle;\n",
       "    }\n",
       "\n",
       "    .dataframe tbody tr th {\n",
       "        vertical-align: top;\n",
       "    }\n",
       "\n",
       "    .dataframe thead th {\n",
       "        text-align: right;\n",
       "    }\n",
       "</style>\n",
       "<table border=\"1\" class=\"dataframe\">\n",
       "  <thead>\n",
       "    <tr style=\"text-align: right;\">\n",
       "      <th></th>\n",
       "      <th>userId</th>\n",
       "      <th>movieId</th>\n",
       "      <th>timestamp</th>\n",
       "      <th>newMovieId</th>\n",
       "      <th>newUserId</th>\n",
       "      <th>rating</th>\n",
       "      <th>rating_predictions</th>\n",
       "      <th>error</th>\n",
       "      <th>recommended_movies</th>\n",
       "    </tr>\n",
       "  </thead>\n",
       "  <tbody>\n",
       "    <tr>\n",
       "      <th>78463</th>\n",
       "      <td>499</td>\n",
       "      <td>329</td>\n",
       "      <td>12/09/2023, 21:48:16</td>\n",
       "      <td>100</td>\n",
       "      <td>5</td>\n",
       "      <td>4.0</td>\n",
       "      <td>3.154918</td>\n",
       "      <td>0.845082</td>\n",
       "      <td>134</td>\n",
       "    </tr>\n",
       "    <tr>\n",
       "      <th>78480</th>\n",
       "      <td>499</td>\n",
       "      <td>1584</td>\n",
       "      <td>12/09/2023, 21:48:16</td>\n",
       "      <td>274</td>\n",
       "      <td>5</td>\n",
       "      <td>4.0</td>\n",
       "      <td>3.407422</td>\n",
       "      <td>0.592578</td>\n",
       "      <td>274</td>\n",
       "    </tr>\n",
       "    <tr>\n",
       "      <th>78484</th>\n",
       "      <td>499</td>\n",
       "      <td>2407</td>\n",
       "      <td>12/09/2023, 21:48:16</td>\n",
       "      <td>278</td>\n",
       "      <td>5</td>\n",
       "      <td>3.0</td>\n",
       "      <td>3.295387</td>\n",
       "      <td>-0.295387</td>\n",
       "      <td>278</td>\n",
       "    </tr>\n",
       "    <tr>\n",
       "      <th>78466</th>\n",
       "      <td>499</td>\n",
       "      <td>1196</td>\n",
       "      <td>12/09/2023, 21:48:16</td>\n",
       "      <td>134</td>\n",
       "      <td>5</td>\n",
       "      <td>3.0</td>\n",
       "      <td>4.081174</td>\n",
       "      <td>-1.081174</td>\n",
       "      <td>100</td>\n",
       "    </tr>\n",
       "    <tr>\n",
       "      <th>78474</th>\n",
       "      <td>499</td>\n",
       "      <td>3623</td>\n",
       "      <td>12/09/2023, 21:48:16</td>\n",
       "      <td>235</td>\n",
       "      <td>5</td>\n",
       "      <td>3.0</td>\n",
       "      <td>2.934129</td>\n",
       "      <td>0.065871</td>\n",
       "      <td>235</td>\n",
       "    </tr>\n",
       "  </tbody>\n",
       "</table>\n",
       "</div>"
      ],
      "text/plain": [
       "       userId  movieId             timestamp  newMovieId  newUserId  rating  \\\n",
       "78463     499      329  12/09/2023, 21:48:16         100          5     4.0   \n",
       "78480     499     1584  12/09/2023, 21:48:16         274          5     4.0   \n",
       "78484     499     2407  12/09/2023, 21:48:16         278          5     3.0   \n",
       "78466     499     1196  12/09/2023, 21:48:16         134          5     3.0   \n",
       "78474     499     3623  12/09/2023, 21:48:16         235          5     3.0   \n",
       "\n",
       "       rating_predictions     error  recommended_movies  \n",
       "78463            3.154918  0.845082                 134  \n",
       "78480            3.407422  0.592578                 274  \n",
       "78484            3.295387 -0.295387                 278  \n",
       "78466            4.081174 -1.081174                 100  \n",
       "78474            2.934129  0.065871                 235  "
      ]
     },
     "execution_count": 54,
     "metadata": {},
     "output_type": "execute_result"
    }
   ],
   "source": [
    "userID = 5\n",
    "num_movie_to_recomed = 5\n",
    "group_by_userID  = X_validation_with_predicitons.groupby('newUserId').get_group(userID)\n",
    "order_by_true_rating = group_by_userID.sort_values(by='rating', ascending=False)\n",
    "order_by_predict_rating = group_by_userID.sort_values(by='rating_predictions', ascending=False)\n",
    "df_group_by_user_order_rating_recommended_mov = order_by_true_rating.copy()\n",
    "df_group_by_user_order_rating_recommended_mov['recommended_movies'] = order_by_predict_rating['newMovieId'].values\n",
    "comparison_result = df_group_by_user_order_rating_recommended_mov['newMovieId'] == df_group_by_user_order_rating_recommended_mov['recommended_movies']\n",
    "count_true_false = comparison_result.value_counts()\n",
    "if True in count_true_false.index:\n",
    "    porcentaje_aciertos = count_true_false[True] / len(df_group_by_user_order_rating_recommended_mov) * 100\n",
    "else:\n",
    "    porcentaje_aciertos = 0\n",
    "print(f\"El porcentaje de aciertos en la ordenación de peliculas para el usuario  {df_group_by_user_order_rating_recommended_mov.newUserId.unique()[0]} es de {porcentaje_aciertos}%\")\n",
    "df_group_by_user_order_rating_recommended_mov"
   ]
  },
  {
   "cell_type": "code",
   "execution_count": 55,
   "metadata": {},
   "outputs": [
    {
     "name": "stdout",
     "output_type": "stream",
     "text": [
      "El porcentaje medio de aciertos es de 49%\n"
     ]
    }
   ],
   "source": [
    "sum_percent = 0\n",
    "for userID in X_validation_with_predicitons.newUserId.unique():\n",
    "    group_by_userID  = X_validation_with_predicitons.groupby('newUserId').get_group(userID)\n",
    "    order_by_true_rating = group_by_userID.sort_values(by='rating', ascending=False)\n",
    "    order_by_predict_rating = group_by_userID.sort_values(by='rating_predictions', ascending=False)\n",
    "    df_group_by_user_order_rating_recommended_mov = order_by_true_rating.copy()\n",
    "    df_group_by_user_order_rating_recommended_mov['recommended_movies'] = order_by_predict_rating['newMovieId'].values\n",
    "    comparison_result = df_group_by_user_order_rating_recommended_mov['newMovieId'] == df_group_by_user_order_rating_recommended_mov['recommended_movies']\n",
    "    count_true_false = comparison_result.value_counts()\n",
    "    if True in count_true_false.index:\n",
    "        porcentaje_aciertos = count_true_false[True] / len(df_group_by_user_order_rating_recommended_mov) * 100\n",
    "    else:\n",
    "        porcentaje_aciertos = 0\n",
    "    # print(f\"El porcentaje de aciertos en la ordenación de peliculas para el usuario  {df_group_by_user_order_rating_recommended_mov.newUserId.unique()[0]} es de {porcentaje_aciertos}%\")\n",
    "    sum_percent = sum_percent + porcentaje_aciertos\n",
    "\n",
    "total = len(X_validation_with_predicitons.newUserId.unique())\n",
    "\n",
    "print(f\"El porcentaje medio de aciertos es de {round(sum_percent/total)}%\")"
   ]
  }
 ],
 "metadata": {
  "kernelspec": {
   "display_name": "Python 3",
   "language": "python",
   "name": "python3"
  },
  "language_info": {
   "codemirror_mode": {
    "name": "ipython",
    "version": 3
   },
   "file_extension": ".py",
   "mimetype": "text/x-python",
   "name": "python",
   "nbconvert_exporter": "python",
   "pygments_lexer": "ipython3",
   "version": "3.10.9"
  },
  "papermill": {
   "duration": 448.110949,
   "end_time": "2020-09-07T13:04:25.892302",
   "environment_variables": {},
   "exception": null,
   "input_path": "__notebook__.ipynb",
   "output_path": "__notebook__.ipynb",
   "parameters": {},
   "start_time": "2020-09-07T12:56:57.781353",
   "version": "2.1.0"
  }
 },
 "nbformat": 4,
 "nbformat_minor": 4
}
