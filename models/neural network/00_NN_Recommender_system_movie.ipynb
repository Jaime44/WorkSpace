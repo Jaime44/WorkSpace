{
  "cells": [
    {
      "cell_type": "markdown",
      "metadata": {
        "colab_type": "text",
        "id": "view-in-github"
      },
      "source": [
        "<a href=\"https://colab.research.google.com/github/Jaime44/WorkSpace/blob/main/models/neural%20network/00_NN_Recommender_system_movie.ipynb\" target=\"_parent\"><img src=\"https://colab.research.google.com/assets/colab-badge.svg\" alt=\"Open In Colab\"/></a>"
      ]
    },
    {
      "cell_type": "code",
      "execution_count": 1,
      "metadata": {
        "colab": {
          "base_uri": "https://localhost:8080/"
        },
        "id": "PQQ3GFiWPZSK",
        "outputId": "64e4199a-8de4-4721-c00f-f1915f1b53ce"
      },
      "outputs": [
        {
          "name": "stdout",
          "output_type": "stream",
          "text": [
            "El código se está ejecutando en un entorno local.\n"
          ]
        }
      ],
      "source": [
        "import os\n",
        "import sys\n",
        "\n",
        "# Comprueba si el código se está ejecutando en Google Colab\n",
        "try:\n",
        "    import google.colab\n",
        "    IN_COLAB = True\n",
        "except:\n",
        "    IN_COLAB = False\n",
        "\n",
        "path_absolute = ''\n",
        "if IN_COLAB:\n",
        "    print(\"El código se está ejecutando en Google Colab.\")\n",
        "    from google.colab import drive\n",
        "    import tensorflow as tf\n",
        "    print(\"Versión de TensorFlow:\", tf.__version__)\n",
        "    print(\"Dispositivos disponibles:\", tf.config.list_physical_devices())\n",
        "\n",
        "    drive.mount('/content/drive')\n",
        "    path_absolute = '/content/drive/Othercomputers/Mi_portátil/TFM/WorkSpace/Models/neural network'\n",
        "\n",
        "    path_workspace = '/content/drive/Othercomputers/Mi_portátil/TFM/WorkSpace/'\n",
        "\n",
        "    # Cambia al directorio de tu carpeta en Google Drive\n",
        "    os.chdir(path_absolute)\n",
        "\n",
        "    # Lista los archivos y carpetas en el directorio actual\n",
        "    contenido_carpeta = os.listdir(path_absolute)\n",
        "    print(\"Contenido de la carpeta en Google Drive:\")\n",
        "    print(contenido_carpeta)\n",
        "\n",
        "    # Verificar la GPU\n",
        "    device_name = tf.test.gpu_device_name()\n",
        "    if device_name != '/device:GPU:0':\n",
        "        raise SystemError('GPU no encontrada')\n",
        "    print(f'Encontrada GPU: {device_name}')\n",
        "\n",
        "    # Habilitar la GPU para TensorFlow\n",
        "    physical_devices = tf.config.list_physical_devices('GPU')\n",
        "    if len(physical_devices) > 0:\n",
        "        tf.config.experimental.set_memory_growth(physical_devices[0], True)\n",
        "        print('Memoria de la GPU configurada dinámicamente')\n",
        "    else:\n",
        "        print('No se encontraron dispositivos GPU configurables')\n",
        "else:\n",
        "    print(\"El código se está ejecutando en un entorno local.\")\n",
        "    path_workspace ='C:/Users/jaime/OneDrive - Universidad de Málaga/Escritorio/UNIR/TFM/WorkSpace/'\n",
        "    path_absolute = os.getcwd().replace(\"\\\\\", \"/\")\n",
        "    path_absolute = 'C:/Users/jaime/OneDrive - Universidad de Málaga/Escritorio/UNIR/TFM/WorkSpace/Models/neural network'\n",
        "\n",
        "datasets_path = \"/datasets/\"\n",
        "path_absolute = path_absolute+datasets_path\n",
        "\n",
        "\n",
        "sys.path.append(path_workspace)"
      ]
    },
    {
      "cell_type": "code",
      "execution_count": 2,
      "metadata": {
        "id": "Jaef6KzRaJYQ"
      },
      "outputs": [],
      "source": [
        "import numpy as np\n",
        "import pandas as pd\n",
        "import seaborn as sns\n",
        "import tensorflow as tf\n",
        "import matplotlib as mpl\n",
        "import Utils.utils as util\n",
        "import matplotlib.pyplot as plt\n",
        "\n",
        "\n",
        "from keras import backend as K\n",
        "from keras.models import Model\n",
        "from IPython.display import SVG\n",
        "from wordcloud import WordCloud\n",
        "from keras.callbacks import EarlyStopping\n",
        "# from keras.utils.vis_utils import model_to_dot\n",
        "from tensorflow.keras.utils import plot_model\n",
        "from sklearn.model_selection import train_test_split\n",
        "from keras.optimizers import Adam,SGD,Adagrad,Adadelta,RMSprop\n",
        "from keras.layers import Dense,Dropout,Flatten,Embedding,BatchNormalization,Concatenate,Add,Concatenate,Dot,Input,dot,concatenate\n",
        "\n",
        "\n",
        "\n",
        "\n",
        "# # Configure visualisations\n",
        "# %matplotlib inline\n",
        "# mpl.style.use( 'ggplot' )\n",
        "# plt.style.use('fivethirtyeight')\n",
        "# sns.set(context=\"notebook\", palette=\"dark\", style = 'whitegrid' , color_codes=True)"
      ]
    },
    {
      "cell_type": "code",
      "execution_count": 3,
      "metadata": {
        "id": "MYOYZ4YfaJYS"
      },
      "outputs": [],
      "source": [
        "# dataFrame_onehot_encode = pd.read_csv(path_absolute+'data_moviesRating_tgGen_tgUsrs_onehot_encode.csv', sep=',')\n",
        "\n",
        "# dataFrame_onehot_encode.head()"
      ]
    },
    {
      "cell_type": "code",
      "execution_count": 4,
      "metadata": {
        "colab": {
          "base_uri": "https://localhost:8080/",
          "height": 241
        },
        "id": "T-PCayp5PZSL",
        "outputId": "5491448a-69ff-419f-b0b2-a42113d52f30"
      },
      "outputs": [
        {
          "name": "stderr",
          "output_type": "stream",
          "text": [
            "C:\\Users\\jaime\\AppData\\Local\\Temp\\ipykernel_23844\\1541070402.py:1: DtypeWarning: Columns (3) have mixed types. Specify dtype option on import or set low_memory=False.\n",
            "  dataFrame_without_ohe = pd.read_csv(path_absolute+'data_moviesRating_tgGen_tgUsrs.csv')\n"
          ]
        },
        {
          "data": {
            "text/html": [
              "<div>\n",
              "<style scoped>\n",
              "    .dataframe tbody tr th:only-of-type {\n",
              "        vertical-align: middle;\n",
              "    }\n",
              "\n",
              "    .dataframe tbody tr th {\n",
              "        vertical-align: top;\n",
              "    }\n",
              "\n",
              "    .dataframe thead th {\n",
              "        text-align: right;\n",
              "    }\n",
              "</style>\n",
              "<table border=\"1\" class=\"dataframe\">\n",
              "  <thead>\n",
              "    <tr style=\"text-align: right;\">\n",
              "      <th></th>\n",
              "      <th>userId</th>\n",
              "      <th>movieId</th>\n",
              "      <th>tag_by_user</th>\n",
              "      <th>tag_genome</th>\n",
              "      <th>title</th>\n",
              "      <th>genres</th>\n",
              "      <th>timestamp</th>\n",
              "      <th>rating</th>\n",
              "    </tr>\n",
              "  </thead>\n",
              "  <tbody>\n",
              "    <tr>\n",
              "      <th>0</th>\n",
              "      <td>1</td>\n",
              "      <td>296</td>\n",
              "      <td>NaN</td>\n",
              "      <td>masterpiece, hit men, gratuitous violence, dar...</td>\n",
              "      <td>Pulp Fiction (1994)</td>\n",
              "      <td>Comedy|Crime|Drama|Thriller</td>\n",
              "      <td>1147880044</td>\n",
              "      <td>5.0</td>\n",
              "    </tr>\n",
              "    <tr>\n",
              "      <th>1</th>\n",
              "      <td>3</td>\n",
              "      <td>296</td>\n",
              "      <td>NaN</td>\n",
              "      <td>masterpiece, hit men, gratuitous violence, dar...</td>\n",
              "      <td>Pulp Fiction (1994)</td>\n",
              "      <td>Comedy|Crime|Drama|Thriller</td>\n",
              "      <td>1439474476</td>\n",
              "      <td>5.0</td>\n",
              "    </tr>\n",
              "    <tr>\n",
              "      <th>2</th>\n",
              "      <td>4</td>\n",
              "      <td>296</td>\n",
              "      <td>NaN</td>\n",
              "      <td>masterpiece, hit men, gratuitous violence, dar...</td>\n",
              "      <td>Pulp Fiction (1994)</td>\n",
              "      <td>Comedy|Crime|Drama|Thriller</td>\n",
              "      <td>1573938898</td>\n",
              "      <td>4.0</td>\n",
              "    </tr>\n",
              "    <tr>\n",
              "      <th>3</th>\n",
              "      <td>5</td>\n",
              "      <td>296</td>\n",
              "      <td>NaN</td>\n",
              "      <td>masterpiece, hit men, gratuitous violence, dar...</td>\n",
              "      <td>Pulp Fiction (1994)</td>\n",
              "      <td>Comedy|Crime|Drama|Thriller</td>\n",
              "      <td>830786155</td>\n",
              "      <td>4.0</td>\n",
              "    </tr>\n",
              "    <tr>\n",
              "      <th>4</th>\n",
              "      <td>7</td>\n",
              "      <td>296</td>\n",
              "      <td>NaN</td>\n",
              "      <td>masterpiece, hit men, gratuitous violence, dar...</td>\n",
              "      <td>Pulp Fiction (1994)</td>\n",
              "      <td>Comedy|Crime|Drama|Thriller</td>\n",
              "      <td>835444730</td>\n",
              "      <td>4.0</td>\n",
              "    </tr>\n",
              "  </tbody>\n",
              "</table>\n",
              "</div>"
            ],
            "text/plain": [
              "   userId  movieId tag_by_user  \\\n",
              "0       1      296         NaN   \n",
              "1       3      296         NaN   \n",
              "2       4      296         NaN   \n",
              "3       5      296         NaN   \n",
              "4       7      296         NaN   \n",
              "\n",
              "                                          tag_genome                title  \\\n",
              "0  masterpiece, hit men, gratuitous violence, dar...  Pulp Fiction (1994)   \n",
              "1  masterpiece, hit men, gratuitous violence, dar...  Pulp Fiction (1994)   \n",
              "2  masterpiece, hit men, gratuitous violence, dar...  Pulp Fiction (1994)   \n",
              "3  masterpiece, hit men, gratuitous violence, dar...  Pulp Fiction (1994)   \n",
              "4  masterpiece, hit men, gratuitous violence, dar...  Pulp Fiction (1994)   \n",
              "\n",
              "                        genres   timestamp  rating  \n",
              "0  Comedy|Crime|Drama|Thriller  1147880044     5.0  \n",
              "1  Comedy|Crime|Drama|Thriller  1439474476     5.0  \n",
              "2  Comedy|Crime|Drama|Thriller  1573938898     4.0  \n",
              "3  Comedy|Crime|Drama|Thriller   830786155     4.0  \n",
              "4  Comedy|Crime|Drama|Thriller   835444730     4.0  "
            ]
          },
          "execution_count": 4,
          "metadata": {},
          "output_type": "execute_result"
        }
      ],
      "source": [
        "dataFrame_without_ohe = pd.read_csv(path_absolute+'data_moviesRating_tgGen_tgUsrs.csv')\n",
        "print(dataFrame_without_ohe.shape)\n",
        "dataFrame_without_ohe.head()"
      ]
    },
    {
      "cell_type": "code",
      "execution_count": 7,
      "metadata": {},
      "outputs": [
        {
          "name": "stdout",
          "output_type": "stream",
          "text": [
            "(23107403, 8)\n"
          ]
        },
        {
          "data": {
            "text/html": [
              "<div>\n",
              "<style scoped>\n",
              "    .dataframe tbody tr th:only-of-type {\n",
              "        vertical-align: middle;\n",
              "    }\n",
              "\n",
              "    .dataframe tbody tr th {\n",
              "        vertical-align: top;\n",
              "    }\n",
              "\n",
              "    .dataframe thead th {\n",
              "        text-align: right;\n",
              "    }\n",
              "</style>\n",
              "<table border=\"1\" class=\"dataframe\">\n",
              "  <thead>\n",
              "    <tr style=\"text-align: right;\">\n",
              "      <th></th>\n",
              "      <th>userId</th>\n",
              "      <th>movieId</th>\n",
              "      <th>tag_by_user</th>\n",
              "      <th>tag_genome</th>\n",
              "      <th>title</th>\n",
              "      <th>genres</th>\n",
              "      <th>timestamp</th>\n",
              "      <th>rating</th>\n",
              "    </tr>\n",
              "  </thead>\n",
              "  <tbody>\n",
              "    <tr>\n",
              "      <th>0</th>\n",
              "      <td>1</td>\n",
              "      <td>296</td>\n",
              "      <td>NaN</td>\n",
              "      <td>masterpiece, hit men, gratuitous violence, dar...</td>\n",
              "      <td>Pulp Fiction (1994)</td>\n",
              "      <td>Comedy|Crime|Drama|Thriller</td>\n",
              "      <td>1147880044</td>\n",
              "      <td>5.0</td>\n",
              "    </tr>\n",
              "    <tr>\n",
              "      <th>1</th>\n",
              "      <td>3</td>\n",
              "      <td>296</td>\n",
              "      <td>NaN</td>\n",
              "      <td>masterpiece, hit men, gratuitous violence, dar...</td>\n",
              "      <td>Pulp Fiction (1994)</td>\n",
              "      <td>Comedy|Crime|Drama|Thriller</td>\n",
              "      <td>1439474476</td>\n",
              "      <td>5.0</td>\n",
              "    </tr>\n",
              "    <tr>\n",
              "      <th>2</th>\n",
              "      <td>4</td>\n",
              "      <td>296</td>\n",
              "      <td>NaN</td>\n",
              "      <td>masterpiece, hit men, gratuitous violence, dar...</td>\n",
              "      <td>Pulp Fiction (1994)</td>\n",
              "      <td>Comedy|Crime|Drama|Thriller</td>\n",
              "      <td>1573938898</td>\n",
              "      <td>4.0</td>\n",
              "    </tr>\n",
              "    <tr>\n",
              "      <th>3</th>\n",
              "      <td>5</td>\n",
              "      <td>296</td>\n",
              "      <td>NaN</td>\n",
              "      <td>masterpiece, hit men, gratuitous violence, dar...</td>\n",
              "      <td>Pulp Fiction (1994)</td>\n",
              "      <td>Comedy|Crime|Drama|Thriller</td>\n",
              "      <td>830786155</td>\n",
              "      <td>4.0</td>\n",
              "    </tr>\n",
              "    <tr>\n",
              "      <th>5</th>\n",
              "      <td>8</td>\n",
              "      <td>296</td>\n",
              "      <td>NaN</td>\n",
              "      <td>masterpiece, hit men, gratuitous violence, dar...</td>\n",
              "      <td>Pulp Fiction (1994)</td>\n",
              "      <td>Comedy|Crime|Drama|Thriller</td>\n",
              "      <td>890489713</td>\n",
              "      <td>5.0</td>\n",
              "    </tr>\n",
              "  </tbody>\n",
              "</table>\n",
              "</div>"
            ],
            "text/plain": [
              "   userId  movieId tag_by_user  \\\n",
              "0       1      296         NaN   \n",
              "1       3      296         NaN   \n",
              "2       4      296         NaN   \n",
              "3       5      296         NaN   \n",
              "5       8      296         NaN   \n",
              "\n",
              "                                          tag_genome                title  \\\n",
              "0  masterpiece, hit men, gratuitous violence, dar...  Pulp Fiction (1994)   \n",
              "1  masterpiece, hit men, gratuitous violence, dar...  Pulp Fiction (1994)   \n",
              "2  masterpiece, hit men, gratuitous violence, dar...  Pulp Fiction (1994)   \n",
              "3  masterpiece, hit men, gratuitous violence, dar...  Pulp Fiction (1994)   \n",
              "5  masterpiece, hit men, gratuitous violence, dar...  Pulp Fiction (1994)   \n",
              "\n",
              "                        genres   timestamp  rating  \n",
              "0  Comedy|Crime|Drama|Thriller  1147880044     5.0  \n",
              "1  Comedy|Crime|Drama|Thriller  1439474476     5.0  \n",
              "2  Comedy|Crime|Drama|Thriller  1573938898     4.0  \n",
              "3  Comedy|Crime|Drama|Thriller   830786155     4.0  \n",
              "5  Comedy|Crime|Drama|Thriller   890489713     5.0  "
            ]
          },
          "execution_count": 7,
          "metadata": {},
          "output_type": "execute_result"
        }
      ],
      "source": [
        "# Filtrar usuarios con al menos x calificaciones\n",
        "min_n_ratings=50\n",
        "df_aux = dataFrame_without_ohe.copy()\n",
        "df_filtered_by_ratings_counts = df_aux.groupby('userId').filter(lambda x: len(x) >= min_n_ratings)\n",
        "print(df_filtered_by_ratings_counts.shape)\n",
        "# print(df_filtered['userId'].value_counts().sort_values(ascending=False))\n",
        "# print(df_filtered['userId'].value_counts().sort_values(ascending=True))\n",
        "df_filtered_by_ratings_counts.head()\n"
      ]
    },
    {
      "cell_type": "code",
      "execution_count": 8,
      "metadata": {},
      "outputs": [],
      "source": [
        "dataFrame = df_filtered_by_ratings_counts.copy()\n",
        "# dataFrame = dataFrame_onehot_encode.copy()"
      ]
    },
    {
      "cell_type": "code",
      "execution_count": 9,
      "metadata": {},
      "outputs": [
        {
          "name": "stdout",
          "output_type": "stream",
          "text": [
            "(200000, 8)\n"
          ]
        },
        {
          "data": {
            "text/html": [
              "<div>\n",
              "<style scoped>\n",
              "    .dataframe tbody tr th:only-of-type {\n",
              "        vertical-align: middle;\n",
              "    }\n",
              "\n",
              "    .dataframe tbody tr th {\n",
              "        vertical-align: top;\n",
              "    }\n",
              "\n",
              "    .dataframe thead th {\n",
              "        text-align: right;\n",
              "    }\n",
              "</style>\n",
              "<table border=\"1\" class=\"dataframe\">\n",
              "  <thead>\n",
              "    <tr style=\"text-align: right;\">\n",
              "      <th></th>\n",
              "      <th>userId</th>\n",
              "      <th>movieId</th>\n",
              "      <th>tag_by_user</th>\n",
              "      <th>tag_genome</th>\n",
              "      <th>title</th>\n",
              "      <th>genres</th>\n",
              "      <th>timestamp</th>\n",
              "      <th>rating</th>\n",
              "    </tr>\n",
              "  </thead>\n",
              "  <tbody>\n",
              "    <tr>\n",
              "      <th>3247187</th>\n",
              "      <td>65707</td>\n",
              "      <td>4306</td>\n",
              "      <td>NaN</td>\n",
              "      <td>animation, oscar (best animated feature), comp...</td>\n",
              "      <td>Shrek (2001)</td>\n",
              "      <td>Adventure|Animation|Children|Comedy|Fantasy|Ro...</td>\n",
              "      <td>1429178074</td>\n",
              "      <td>4.0</td>\n",
              "    </tr>\n",
              "    <tr>\n",
              "      <th>1103377</th>\n",
              "      <td>1579</td>\n",
              "      <td>364</td>\n",
              "      <td>NaN</td>\n",
              "      <td>animated, animation, oscar (best animated feat...</td>\n",
              "      <td>Lion King, The (1994)</td>\n",
              "      <td>Adventure|Animation|Children|Drama|Musical|IMAX</td>\n",
              "      <td>844449457</td>\n",
              "      <td>3.0</td>\n",
              "    </tr>\n",
              "    <tr>\n",
              "      <th>13549468</th>\n",
              "      <td>158132</td>\n",
              "      <td>908</td>\n",
              "      <td>NaN</td>\n",
              "      <td>mistaken identity, imdb top 250, espionage, sp...</td>\n",
              "      <td>North by Northwest (1959)</td>\n",
              "      <td>Action|Adventure|Mystery|Romance|Thriller</td>\n",
              "      <td>1072120915</td>\n",
              "      <td>4.5</td>\n",
              "    </tr>\n",
              "    <tr>\n",
              "      <th>1281291</th>\n",
              "      <td>112347</td>\n",
              "      <td>480</td>\n",
              "      <td>NaN</td>\n",
              "      <td>adventure, big budget, spielberg, dinosaurs, s...</td>\n",
              "      <td>Jurassic Park (1993)</td>\n",
              "      <td>Action|Adventure|Sci-Fi|Thriller</td>\n",
              "      <td>848516510</td>\n",
              "      <td>3.0</td>\n",
              "    </tr>\n",
              "    <tr>\n",
              "      <th>6000055</th>\n",
              "      <td>58015</td>\n",
              "      <td>5669</td>\n",
              "      <td>NaN</td>\n",
              "      <td>documentary, guns, violence, canada, social co...</td>\n",
              "      <td>Bowling for Columbine (2002)</td>\n",
              "      <td>Documentary</td>\n",
              "      <td>1231107233</td>\n",
              "      <td>2.5</td>\n",
              "    </tr>\n",
              "  </tbody>\n",
              "</table>\n",
              "</div>"
            ],
            "text/plain": [
              "          userId  movieId tag_by_user  \\\n",
              "3247187    65707     4306         NaN   \n",
              "1103377     1579      364         NaN   \n",
              "13549468  158132      908         NaN   \n",
              "1281291   112347      480         NaN   \n",
              "6000055    58015     5669         NaN   \n",
              "\n",
              "                                                 tag_genome  \\\n",
              "3247187   animation, oscar (best animated feature), comp...   \n",
              "1103377   animated, animation, oscar (best animated feat...   \n",
              "13549468  mistaken identity, imdb top 250, espionage, sp...   \n",
              "1281291   adventure, big budget, spielberg, dinosaurs, s...   \n",
              "6000055   documentary, guns, violence, canada, social co...   \n",
              "\n",
              "                                 title  \\\n",
              "3247187                   Shrek (2001)   \n",
              "1103377          Lion King, The (1994)   \n",
              "13549468     North by Northwest (1959)   \n",
              "1281291           Jurassic Park (1993)   \n",
              "6000055   Bowling for Columbine (2002)   \n",
              "\n",
              "                                                     genres   timestamp  \\\n",
              "3247187   Adventure|Animation|Children|Comedy|Fantasy|Ro...  1429178074   \n",
              "1103377     Adventure|Animation|Children|Drama|Musical|IMAX   844449457   \n",
              "13549468          Action|Adventure|Mystery|Romance|Thriller  1072120915   \n",
              "1281291                    Action|Adventure|Sci-Fi|Thriller   848516510   \n",
              "6000055                                         Documentary  1231107233   \n",
              "\n",
              "          rating  \n",
              "3247187      4.0  \n",
              "1103377      3.0  \n",
              "13549468     4.5  \n",
              "1281291      3.0  \n",
              "6000055      2.5  "
            ]
          },
          "execution_count": 9,
          "metadata": {},
          "output_type": "execute_result"
        }
      ],
      "source": [
        "dataFrame = dataFrame.sample(n=200000, random_state=42)\n",
        "df = dataFrame.copy()\n",
        "print(df.shape)\n",
        "df.head()"
      ]
    },
    {
      "cell_type": "code",
      "execution_count": 10,
      "metadata": {},
      "outputs": [],
      "source": [
        "# import pandas as pd\n",
        "\n",
        "# # Supongamos que 'df' es tu DataFrame que contiene las columnas 'userId' y 'movieId'\n",
        "\n",
        "# # Crear un diccionario para almacenar las ocurrencias de cada par de valores\n",
        "# ocurrencias = {}\n",
        "\n",
        "# # Iterar sobre el DataFrame para contar las ocurrencias de cada par de valores\n",
        "# for index, row in df.iterrows():\n",
        "#     userId = row['userId']\n",
        "#     movieId = row['movieId']\n",
        "#     par_valores = (userId, movieId)\n",
        "#     ocurrencias[par_valores] = ocurrencias.get(par_valores, 0) + 1\n",
        "\n",
        "# # Imprimir todas las ocurrencias encontradas\n",
        "# for par_valores, frecuencia in ocurrencias.items():\n",
        "#     print(f\"El par de valores {par_valores} se repite {frecuencia} veces.\")\n"
      ]
    },
    {
      "cell_type": "code",
      "execution_count": 11,
      "metadata": {},
      "outputs": [],
      "source": [
        "df = df[~df.duplicated(subset=['userId', 'movieId'], keep='first')]"
      ]
    },
    {
      "cell_type": "code",
      "execution_count": 12,
      "metadata": {},
      "outputs": [
        {
          "data": {
            "text/plain": [
              "(200000, 8)"
            ]
          },
          "execution_count": 12,
          "metadata": {},
          "output_type": "execute_result"
        }
      ],
      "source": [
        "df.shape"
      ]
    },
    {
      "cell_type": "markdown",
      "metadata": {
        "id": "Cd45x0ahPZSL"
      },
      "source": [
        "## Explore dataset"
      ]
    },
    {
      "cell_type": "code",
      "execution_count": 13,
      "metadata": {
        "colab": {
          "base_uri": "https://localhost:8080/"
        },
        "id": "jsfUuaGvaJYV",
        "outputId": "44419f15-cec7-4c64-deb4-008cf787bac9"
      },
      "outputs": [
        {
          "name": "stdout",
          "output_type": "stream",
          "text": [
            "<class 'pandas.core.frame.DataFrame'>\n",
            "Int64Index: 200000 entries, 3247187 to 7124801\n",
            "Data columns (total 8 columns):\n",
            " #   Column       Non-Null Count   Dtype  \n",
            "---  ------       --------------   -----  \n",
            " 0   userId       200000 non-null  int64  \n",
            " 1   movieId      200000 non-null  int64  \n",
            " 2   tag_by_user  1718 non-null    object \n",
            " 3   tag_genome   197176 non-null  object \n",
            " 4   title        200000 non-null  object \n",
            " 5   genres       200000 non-null  object \n",
            " 6   timestamp    200000 non-null  int64  \n",
            " 7   rating       200000 non-null  float64\n",
            "dtypes: float64(1), int64(3), object(4)\n",
            "memory usage: 13.7+ MB\n"
          ]
        }
      ],
      "source": [
        "df.info()"
      ]
    },
    {
      "cell_type": "code",
      "execution_count": 14,
      "metadata": {
        "colab": {
          "base_uri": "https://localhost:8080/"
        },
        "id": "CJnM-vGePZSM",
        "outputId": "6ac5d832-4cb2-4950-9c1f-139c73f2e404"
      },
      "outputs": [
        {
          "name": "stdout",
          "output_type": "stream",
          "text": [
            "Valores nulos para la columna userId: 0\n",
            "Valores nulos para la columna rating: 0\n",
            "Valores nulos para la columna movieId: 0\n"
          ]
        }
      ],
      "source": [
        "# Valores nulos\n",
        "print(f\"Valores nulos para la columna userId: {df['userId'].isnull().sum()}\")\n",
        "print(f\"Valores nulos para la columna rating: {df['rating'].isnull().sum()}\")\n",
        "print(f\"Valores nulos para la columna movieId: {df['movieId'].isnull().sum()}\")"
      ]
    },
    {
      "cell_type": "code",
      "execution_count": 15,
      "metadata": {
        "colab": {
          "base_uri": "https://localhost:8080/"
        },
        "id": "25vSW3QrPZSM",
        "outputId": "207a37f0-ab9a-4acf-db96-ca3c128792c6"
      },
      "outputs": [
        {
          "data": {
            "text/plain": [
              "4.0    53052\n",
              "3.0    39199\n",
              "5.0    27380\n",
              "3.5    26330\n",
              "4.5    17696\n",
              "2.0    13314\n",
              "2.5    10373\n",
              "1.0     6256\n",
              "1.5     3272\n",
              "0.5     3128\n",
              "Name: rating, dtype: int64"
            ]
          },
          "execution_count": 15,
          "metadata": {},
          "output_type": "execute_result"
        }
      ],
      "source": [
        "# Se cuenta los valores unicos de rating\n",
        "df['rating'].value_counts()"
      ]
    },
    {
      "cell_type": "code",
      "execution_count": 16,
      "metadata": {
        "colab": {
          "base_uri": "https://localhost:8080/"
        },
        "id": "oqyhS-n9PZSN",
        "outputId": "ca5b1e10-af2e-4fb6-cd9f-e304a4b97844"
      },
      "outputs": [
        {
          "data": {
            "text/plain": [
              "72315     281\n",
              "80974      95\n",
              "20055      72\n",
              "137293     67\n",
              "33844      58\n",
              "         ... \n",
              "47003       1\n",
              "15366       1\n",
              "113186      1\n",
              "23181       1\n",
              "122248      1\n",
              "Name: userId, Length: 69717, dtype: int64"
            ]
          },
          "execution_count": 16,
          "metadata": {},
          "output_type": "execute_result"
        }
      ],
      "source": [
        "# Se cuenta los valores unicos de usuarios\n",
        "df['userId'].value_counts()"
      ]
    },
    {
      "cell_type": "code",
      "execution_count": 17,
      "metadata": {
        "colab": {
          "base_uri": "https://localhost:8080/"
        },
        "id": "gkXHnrmWPZSN",
        "outputId": "b61d85de-a434-478c-c611-3e578fc87716"
      },
      "outputs": [
        {
          "data": {
            "text/plain": [
              "356       576\n",
              "318       557\n",
              "593       536\n",
              "296       530\n",
              "2571      527\n",
              "         ... \n",
              "57848       1\n",
              "91474       1\n",
              "71542       1\n",
              "129723      1\n",
              "27416       1\n",
              "Name: movieId, Length: 13492, dtype: int64"
            ]
          },
          "execution_count": 17,
          "metadata": {},
          "output_type": "execute_result"
        }
      ],
      "source": [
        "# Se cuenta los valores unicos de peliculas\n",
        "df['movieId'].value_counts()"
      ]
    },
    {
      "cell_type": "code",
      "execution_count": 18,
      "metadata": {
        "colab": {
          "base_uri": "https://localhost:8080/"
        },
        "id": "-ooRM-nnPZSN",
        "outputId": "d602b457-b6a6-49b6-e5b4-f3ca0dff2157"
      },
      "outputs": [
        {
          "name": "stdout",
          "output_type": "stream",
          "text": [
            "Rango de valores cd rating: (0.5, 5.0)\n"
          ]
        }
      ],
      "source": [
        "rango_valores = df['rating'].describe()['min'], df['rating'].describe()['max']\n",
        "print(\"Rango de valores cd rating:\", rango_valores)"
      ]
    },
    {
      "cell_type": "code",
      "execution_count": 19,
      "metadata": {
        "colab": {
          "base_uri": "https://localhost:8080/"
        },
        "id": "x0oqP9EePZSN",
        "outputId": "96acb3e8-5a9a-4230-f865-d0a4439bdfe5"
      },
      "outputs": [
        {
          "data": {
            "text/plain": [
              "title\n",
              "Boy Named Charlie Brown, A (1969)                5.0\n",
              "Good Boys (2019)                                 5.0\n",
              "Fireworks (1947)                                 5.0\n",
              "Guy Named Joe, A (1943)                          5.0\n",
              "Kingsglaive: Final Fantasy XV (2016)             5.0\n",
              "O Lucky Man! (1973)                              5.0\n",
              "Burmese Harp, The (Biruma no tategoto) (1956)    5.0\n",
              "There Once Was a Dog (1982)                      5.0\n",
              "Bustin' Down the Door (2009)                     5.0\n",
              "The... Beautiful Country (1977)                  5.0\n",
              "Name: rating, dtype: float64"
            ]
          },
          "execution_count": 19,
          "metadata": {},
          "output_type": "execute_result"
        }
      ],
      "source": [
        "#promedio de calificaciones agrupado por titulos\n",
        "df.groupby('title')['rating'].mean().sort_values(ascending=False).head(10)"
      ]
    },
    {
      "cell_type": "code",
      "execution_count": 20,
      "metadata": {
        "colab": {
          "base_uri": "https://localhost:8080/"
        },
        "id": "IxTHYNeUPZSN",
        "outputId": "03b0d49c-0c0a-4ca9-aa99-80536819f514"
      },
      "outputs": [],
      "source": [
        "# Cuantos generos distintos hay y cuantqas peliculas clasificadas con ese genero entre otros.\n",
        "if 'genres' in df.columns:\n",
        "    genres = {}\n",
        "    def find_genres():\n",
        "        for genre in df['genres']:\n",
        "            words = genre.split('|')\n",
        "            for word in words:\n",
        "                genres[word] = genres.get(word, 0) + 1\n",
        "    find_genres()\n",
        "    # genres['None'] = genres.pop('(no genres listed)')\n",
        "    genres\n",
        "\n"
      ]
    },
    {
      "cell_type": "code",
      "execution_count": 21,
      "metadata": {
        "colab": {
          "base_uri": "https://localhost:8080/",
          "height": 384
        },
        "id": "WONXvgGgPZSN",
        "outputId": "599c539f-fe2b-44b6-c22f-855eb58cd3fa"
      },
      "outputs": [
        {
          "data": {
            "image/png": "[encoded data removed]",
            "text/plain": [
              "<Figure size 640x480 with 1 Axes>"
            ]
          },
          "metadata": {},
          "output_type": "display_data"
        }
      ],
      "source": [
        "# Nube de palabras para los generos\n",
        "if 'genres' in df.columns:\n",
        "    wordcloud = WordCloud(width=800, height=500, background_color = 'white',\n",
        "                        min_font_size=6, contour_color='black', contour_width=2).generate_from_frequencies(genres)\n",
        "    plt.imshow(wordcloud)\n",
        "    plt.axis('off')\n",
        "    plt.show()"
      ]
    },
    {
      "cell_type": "code",
      "execution_count": 22,
      "metadata": {
        "colab": {
          "base_uri": "https://localhost:8080/",
          "height": 394
        },
        "id": "H9uYT_2IPZSO",
        "outputId": "98ccb0c6-6dcc-46d2-865a-667e985205d0"
      },
      "outputs": [
        {
          "data": {
            "text/html": [
              "<div>\n",
              "<style scoped>\n",
              "    .dataframe tbody tr th:only-of-type {\n",
              "        vertical-align: middle;\n",
              "    }\n",
              "\n",
              "    .dataframe tbody tr th {\n",
              "        vertical-align: top;\n",
              "    }\n",
              "\n",
              "    .dataframe thead th {\n",
              "        text-align: right;\n",
              "    }\n",
              "</style>\n",
              "<table border=\"1\" class=\"dataframe\">\n",
              "  <thead>\n",
              "    <tr style=\"text-align: right;\">\n",
              "      <th></th>\n",
              "      <th>mean ratings</th>\n",
              "      <th>total ratings</th>\n",
              "    </tr>\n",
              "    <tr>\n",
              "      <th>title</th>\n",
              "      <th></th>\n",
              "      <th></th>\n",
              "    </tr>\n",
              "  </thead>\n",
              "  <tbody>\n",
              "    <tr>\n",
              "      <th>Forrest Gump (1994)</th>\n",
              "      <td>3.988715</td>\n",
              "      <td>576</td>\n",
              "    </tr>\n",
              "    <tr>\n",
              "      <th>Shawshank Redemption, The (1994)</th>\n",
              "      <td>4.412926</td>\n",
              "      <td>557</td>\n",
              "    </tr>\n",
              "    <tr>\n",
              "      <th>Silence of the Lambs, The (1991)</th>\n",
              "      <td>4.191231</td>\n",
              "      <td>536</td>\n",
              "    </tr>\n",
              "    <tr>\n",
              "      <th>Pulp Fiction (1994)</th>\n",
              "      <td>4.317925</td>\n",
              "      <td>530</td>\n",
              "    </tr>\n",
              "    <tr>\n",
              "      <th>Matrix, The (1999)</th>\n",
              "      <td>4.188805</td>\n",
              "      <td>527</td>\n",
              "    </tr>\n",
              "    <tr>\n",
              "      <th>Star Wars: Episode IV - A New Hope (1977)</th>\n",
              "      <td>4.027723</td>\n",
              "      <td>505</td>\n",
              "    </tr>\n",
              "    <tr>\n",
              "      <th>Jurassic Park (1993)</th>\n",
              "      <td>3.676734</td>\n",
              "      <td>447</td>\n",
              "    </tr>\n",
              "    <tr>\n",
              "      <th>Terminator 2: Judgment Day (1991)</th>\n",
              "      <td>3.938341</td>\n",
              "      <td>446</td>\n",
              "    </tr>\n",
              "    <tr>\n",
              "      <th>Star Wars: Episode V - The Empire Strikes Back (1980)</th>\n",
              "      <td>4.152425</td>\n",
              "      <td>433</td>\n",
              "    </tr>\n",
              "    <tr>\n",
              "      <th>Star Wars: Episode VI - Return of the Jedi (1983)</th>\n",
              "      <td>4.029268</td>\n",
              "      <td>410</td>\n",
              "    </tr>\n",
              "  </tbody>\n",
              "</table>\n",
              "</div>"
            ],
            "text/plain": [
              "                                                    mean ratings  \\\n",
              "title                                                              \n",
              "Forrest Gump (1994)                                     3.988715   \n",
              "Shawshank Redemption, The (1994)                        4.412926   \n",
              "Silence of the Lambs, The (1991)                        4.191231   \n",
              "Pulp Fiction (1994)                                     4.317925   \n",
              "Matrix, The (1999)                                      4.188805   \n",
              "Star Wars: Episode IV - A New Hope (1977)               4.027723   \n",
              "Jurassic Park (1993)                                    3.676734   \n",
              "Terminator 2: Judgment Day (1991)                       3.938341   \n",
              "Star Wars: Episode V - The Empire Strikes Back ...      4.152425   \n",
              "Star Wars: Episode VI - Return of the Jedi (1983)       4.029268   \n",
              "\n",
              "                                                    total ratings  \n",
              "title                                                              \n",
              "Forrest Gump (1994)                                           576  \n",
              "Shawshank Redemption, The (1994)                              557  \n",
              "Silence of the Lambs, The (1991)                              536  \n",
              "Pulp Fiction (1994)                                           530  \n",
              "Matrix, The (1999)                                            527  \n",
              "Star Wars: Episode IV - A New Hope (1977)                     505  \n",
              "Jurassic Park (1993)                                          447  \n",
              "Terminator 2: Judgment Day (1991)                             446  \n",
              "Star Wars: Episode V - The Empire Strikes Back ...            433  \n",
              "Star Wars: Episode VI - Return of the Jedi (1983)             410  "
            ]
          },
          "execution_count": 22,
          "metadata": {},
          "output_type": "execute_result"
        }
      ],
      "source": [
        "#Peliculas más puntuadas\n",
        "df_n_ratings = pd.DataFrame(df.groupby('title')['rating'].mean())\n",
        "df_n_ratings['total ratings'] = pd.DataFrame(df.groupby('title')['rating'].count())\n",
        "df_n_ratings.rename(columns = {'rating': 'mean ratings'}, inplace=True)\n",
        "df_n_ratings.sort_values('total ratings', ascending=False).head(10)"
      ]
    },
    {
      "cell_type": "code",
      "execution_count": 23,
      "metadata": {
        "colab": {
          "base_uri": "https://localhost:8080/",
          "height": 493
        },
        "id": "JX62aTQ6PZSO",
        "outputId": "9563b7f2-eb97-446b-8642-14add6608428"
      },
      "outputs": [
        {
          "data": {
            "image/png": "[encoded data removed]",
            "text/plain": [
              "<Figure size 1000x500 with 1 Axes>"
            ]
          },
          "metadata": {},
          "output_type": "display_data"
        }
      ],
      "source": [
        "# histograma de la distribución de frecuencia del número total de calificaciones en el DataFrame\n",
        "plt.figure(figsize=(10,5))\n",
        "sns.histplot(df_n_ratings['total ratings'], bins=50, kde=True)  # kde=True incluye la estimación de densidad kernel\n",
        "plt.xlabel('Número total de calificaciones')\n",
        "plt.ylabel('Frecuencia')\n",
        "plt.show()"
      ]
    },
    {
      "cell_type": "code",
      "execution_count": 24,
      "metadata": {
        "colab": {
          "base_uri": "https://localhost:8080/",
          "height": 394
        },
        "id": "iPA32A2iPZSO",
        "outputId": "e4365442-1f6a-4016-f659-19d3b55a8806"
      },
      "outputs": [
        {
          "data": {
            "text/html": [
              "<div>\n",
              "<style scoped>\n",
              "    .dataframe tbody tr th:only-of-type {\n",
              "        vertical-align: middle;\n",
              "    }\n",
              "\n",
              "    .dataframe tbody tr th {\n",
              "        vertical-align: top;\n",
              "    }\n",
              "\n",
              "    .dataframe thead th {\n",
              "        text-align: right;\n",
              "    }\n",
              "</style>\n",
              "<table border=\"1\" class=\"dataframe\">\n",
              "  <thead>\n",
              "    <tr style=\"text-align: right;\">\n",
              "      <th></th>\n",
              "      <th>mean ratings</th>\n",
              "      <th>total ratings</th>\n",
              "    </tr>\n",
              "    <tr>\n",
              "      <th>title</th>\n",
              "      <th></th>\n",
              "      <th></th>\n",
              "    </tr>\n",
              "  </thead>\n",
              "  <tbody>\n",
              "    <tr>\n",
              "      <th>Boy Named Charlie Brown, A (1969)</th>\n",
              "      <td>5.0</td>\n",
              "      <td>1</td>\n",
              "    </tr>\n",
              "    <tr>\n",
              "      <th>Good Boys (2019)</th>\n",
              "      <td>5.0</td>\n",
              "      <td>1</td>\n",
              "    </tr>\n",
              "    <tr>\n",
              "      <th>Fireworks (1947)</th>\n",
              "      <td>5.0</td>\n",
              "      <td>1</td>\n",
              "    </tr>\n",
              "    <tr>\n",
              "      <th>Guy Named Joe, A (1943)</th>\n",
              "      <td>5.0</td>\n",
              "      <td>1</td>\n",
              "    </tr>\n",
              "    <tr>\n",
              "      <th>Kingsglaive: Final Fantasy XV (2016)</th>\n",
              "      <td>5.0</td>\n",
              "      <td>1</td>\n",
              "    </tr>\n",
              "    <tr>\n",
              "      <th>O Lucky Man! (1973)</th>\n",
              "      <td>5.0</td>\n",
              "      <td>1</td>\n",
              "    </tr>\n",
              "    <tr>\n",
              "      <th>Burmese Harp, The (Biruma no tategoto) (1956)</th>\n",
              "      <td>5.0</td>\n",
              "      <td>1</td>\n",
              "    </tr>\n",
              "    <tr>\n",
              "      <th>There Once Was a Dog (1982)</th>\n",
              "      <td>5.0</td>\n",
              "      <td>1</td>\n",
              "    </tr>\n",
              "    <tr>\n",
              "      <th>Bustin' Down the Door (2009)</th>\n",
              "      <td>5.0</td>\n",
              "      <td>1</td>\n",
              "    </tr>\n",
              "    <tr>\n",
              "      <th>The... Beautiful Country (1977)</th>\n",
              "      <td>5.0</td>\n",
              "      <td>1</td>\n",
              "    </tr>\n",
              "  </tbody>\n",
              "</table>\n",
              "</div>"
            ],
            "text/plain": [
              "                                               mean ratings  total ratings\n",
              "title                                                                     \n",
              "Boy Named Charlie Brown, A (1969)                       5.0              1\n",
              "Good Boys (2019)                                        5.0              1\n",
              "Fireworks (1947)                                        5.0              1\n",
              "Guy Named Joe, A (1943)                                 5.0              1\n",
              "Kingsglaive: Final Fantasy XV (2016)                    5.0              1\n",
              "O Lucky Man! (1973)                                     5.0              1\n",
              "Burmese Harp, The (Biruma no tategoto) (1956)           5.0              1\n",
              "There Once Was a Dog (1982)                             5.0              1\n",
              "Bustin' Down the Door (2009)                            5.0              1\n",
              "The... Beautiful Country (1977)                         5.0              1"
            ]
          },
          "execution_count": 24,
          "metadata": {},
          "output_type": "execute_result"
        }
      ],
      "source": [
        "# Calificaciones promedio más altas en función de la columna 'mean ratings'.\n",
        "df_n_ratings.sort_values('mean ratings', ascending=False).head(10)"
      ]
    },
    {
      "cell_type": "code",
      "execution_count": 25,
      "metadata": {
        "colab": {
          "base_uri": "https://localhost:8080/"
        },
        "id": "LeDr1jmIPZSO",
        "outputId": "fd189c21-42c2-484f-ffc3-5831e7e85752"
      },
      "outputs": [
        {
          "name": "stdout",
          "output_type": "stream",
          "text": [
            "Nº total de usuarios que han valorado con 5,0 :  385 \n",
            "\n",
            "Nº total de usuarios individuales que han valorado con 5,0 :  369\n"
          ]
        }
      ],
      "source": [
        "print('Nº total de usuarios que han valorado con 5,0 : ', len(df_n_ratings.loc[df_n_ratings['mean ratings'] == 5]), '\\n')\n",
        "print('Nº total de usuarios individuales que han valorado con 5,0 : ', len(df_n_ratings.loc[(df_n_ratings['mean ratings'] == 5)\n",
        "                                                                           & (df_n_ratings['total ratings'] == 1)]))"
      ]
    },
    {
      "cell_type": "code",
      "execution_count": 26,
      "metadata": {
        "colab": {
          "base_uri": "https://localhost:8080/",
          "height": 493
        },
        "id": "lSYVtyXTPZSO",
        "outputId": "48b84751-b186-420d-9376-4eadbc42eba3"
      },
      "outputs": [
        {
          "data": {
            "image/png": "[encoded data removed]",
            "text/plain": [
              "<Figure size 1000x500 with 1 Axes>"
            ]
          },
          "metadata": {},
          "output_type": "display_data"
        }
      ],
      "source": [
        "plt.figure(figsize=(10,5))\n",
        "sns.histplot(df_n_ratings['mean ratings'], bins=50, kde=True)\n",
        "plt.xlabel('Media de calificaciones')\n",
        "plt.ylabel('Frecuencia')\n",
        "plt.show()"
      ]
    },
    {
      "cell_type": "code",
      "execution_count": 27,
      "metadata": {
        "colab": {
          "base_uri": "https://localhost:8080/",
          "height": 818
        },
        "id": "TJBz0YDxPZSO",
        "outputId": "95c49db8-995c-4168-a16c-be3b2d1abfe1"
      },
      "outputs": [
        {
          "data": {
            "text/plain": [
              "<seaborn.axisgrid.JointGrid at 0x156d71dcfd0>"
            ]
          },
          "execution_count": 27,
          "metadata": {},
          "output_type": "execute_result"
        },
        {
          "data": {
            "image/png": "[encoded data removed]",
            "text/plain": [
              "<Figure size 800x800 with 3 Axes>"
            ]
          },
          "metadata": {},
          "output_type": "display_data"
        }
      ],
      "source": [
        "# Mean Ratings vs Total Number of Ratings\n",
        "sns.jointplot(x='mean ratings', y='total ratings', data=df_n_ratings, height=8, ratio=4)\n"
      ]
    },
    {
      "cell_type": "markdown",
      "metadata": {
        "id": "PBU7buFHPZSO"
      },
      "source": [
        "## MODELS"
      ]
    },
    {
      "cell_type": "code",
      "execution_count": 28,
      "metadata": {
        "colab": {
          "base_uri": "https://localhost:8080/",
          "height": 143
        },
        "id": "hsdE9rmLPZSO",
        "outputId": "269d5de4-f39b-496e-950f-7713a657d41a"
      },
      "outputs": [
        {
          "data": {
            "text/html": [
              "<div>\n",
              "<style scoped>\n",
              "    .dataframe tbody tr th:only-of-type {\n",
              "        vertical-align: middle;\n",
              "    }\n",
              "\n",
              "    .dataframe tbody tr th {\n",
              "        vertical-align: top;\n",
              "    }\n",
              "\n",
              "    .dataframe thead th {\n",
              "        text-align: right;\n",
              "    }\n",
              "</style>\n",
              "<table border=\"1\" class=\"dataframe\">\n",
              "  <thead>\n",
              "    <tr style=\"text-align: right;\">\n",
              "      <th></th>\n",
              "      <th>userId</th>\n",
              "      <th>movieId</th>\n",
              "      <th>tag_by_user</th>\n",
              "      <th>tag_genome</th>\n",
              "      <th>title</th>\n",
              "      <th>genres</th>\n",
              "      <th>timestamp</th>\n",
              "      <th>rating</th>\n",
              "    </tr>\n",
              "  </thead>\n",
              "  <tbody>\n",
              "    <tr>\n",
              "      <th>3247187</th>\n",
              "      <td>65707</td>\n",
              "      <td>4306</td>\n",
              "      <td>NaN</td>\n",
              "      <td>animation, oscar (best animated feature), comp...</td>\n",
              "      <td>Shrek (2001)</td>\n",
              "      <td>Adventure|Animation|Children|Comedy|Fantasy|Ro...</td>\n",
              "      <td>1429178074</td>\n",
              "      <td>4.0</td>\n",
              "    </tr>\n",
              "    <tr>\n",
              "      <th>1103377</th>\n",
              "      <td>1579</td>\n",
              "      <td>364</td>\n",
              "      <td>NaN</td>\n",
              "      <td>animated, animation, oscar (best animated feat...</td>\n",
              "      <td>Lion King, The (1994)</td>\n",
              "      <td>Adventure|Animation|Children|Drama|Musical|IMAX</td>\n",
              "      <td>844449457</td>\n",
              "      <td>3.0</td>\n",
              "    </tr>\n",
              "    <tr>\n",
              "      <th>13549468</th>\n",
              "      <td>158132</td>\n",
              "      <td>908</td>\n",
              "      <td>NaN</td>\n",
              "      <td>mistaken identity, imdb top 250, espionage, sp...</td>\n",
              "      <td>North by Northwest (1959)</td>\n",
              "      <td>Action|Adventure|Mystery|Romance|Thriller</td>\n",
              "      <td>1072120915</td>\n",
              "      <td>4.5</td>\n",
              "    </tr>\n",
              "  </tbody>\n",
              "</table>\n",
              "</div>"
            ],
            "text/plain": [
              "          userId  movieId tag_by_user  \\\n",
              "3247187    65707     4306         NaN   \n",
              "1103377     1579      364         NaN   \n",
              "13549468  158132      908         NaN   \n",
              "\n",
              "                                                 tag_genome  \\\n",
              "3247187   animation, oscar (best animated feature), comp...   \n",
              "1103377   animated, animation, oscar (best animated feat...   \n",
              "13549468  mistaken identity, imdb top 250, espionage, sp...   \n",
              "\n",
              "                              title  \\\n",
              "3247187                Shrek (2001)   \n",
              "1103377       Lion King, The (1994)   \n",
              "13549468  North by Northwest (1959)   \n",
              "\n",
              "                                                     genres   timestamp  \\\n",
              "3247187   Adventure|Animation|Children|Comedy|Fantasy|Ro...  1429178074   \n",
              "1103377     Adventure|Animation|Children|Drama|Musical|IMAX   844449457   \n",
              "13549468          Action|Adventure|Mystery|Romance|Thriller  1072120915   \n",
              "\n",
              "          rating  \n",
              "3247187      4.0  \n",
              "1103377      3.0  \n",
              "13549468     4.5  "
            ]
          },
          "execution_count": 28,
          "metadata": {},
          "output_type": "execute_result"
        }
      ],
      "source": [
        "df.head(3)"
      ]
    },
    {
      "cell_type": "code",
      "execution_count": 29,
      "metadata": {},
      "outputs": [],
      "source": [
        "df_aux = df.copy()\n",
        "if 'genres' not in df.columns:\n",
        "    columnas_deseadas = [col for col in df.columns if col not in ['tag_by_user', 'tag_genome', 'title', 'timestamp']]\n",
        "    df_aux = df.loc[:, columnas_deseadas]\n",
        "    print(df_aux.head())"
      ]
    },
    {
      "cell_type": "code",
      "execution_count": 30,
      "metadata": {
        "colab": {
          "base_uri": "https://localhost:8080/"
        },
        "id": "JBitvYMZPZSO",
        "outputId": "9fafb6aa-eafa-4044-c310-d88fe20c19a1"
      },
      "outputs": [
        {
          "name": "stdout",
          "output_type": "stream",
          "text": [
            "Usuarios unicos: 69717 y peliculas unicas 13492\n",
            "(160000, 3) (40000, 3)\n"
          ]
        }
      ],
      "source": [
        "\n",
        "# La asignación de índices únicos y la posterior división del DataFrame en conjuntos de entrenamiento y\n",
        "# prueba pueden ser necesarias por varias razones en el contexto de modelos de recomendación y\n",
        "# aprendizaje automático en general:\n",
        "\n",
        "# Índices numéricos: Algunos algoritmos y modelos de aprendizaje automático requieren que las\n",
        "# entradas sean números enteros. Al asignar índices únicos a los usuarios y películas,\n",
        "# se asegura de que cada entidad esté representada por un identificador numérico único,\n",
        "# lo que facilita el procesamiento por parte de los modelos.\n",
        "\n",
        "# Consistencia en los datos de entrada: Al asignar índices únicos y transformar los datos originales,\n",
        "# se crea una representación consistente y única para cada usuario y película en el conjunto de datos.\n",
        "# Esto facilita el manejo y la interpretación de los datos durante el preprocesamiento y el entrenamiento\n",
        "# del modelo.\n",
        "\n",
        "# Reproducibilidad: La división aleatoria del DataFrame en conjuntos de entrenamiento y\n",
        "# prueba utilizando np.random.rand() con una semilla (random_state) proporciona reproducibilidad.\n",
        "# Esto significa que si vuelves a ejecutar el código con la misma semilla, obtendrás la misma\n",
        "# división de datos, lo que es útil para comparar resultados y depurar el código.\n",
        "\n",
        "# Evaluación del modelo: La división en conjuntos de entrenamiento y prueba es esencial para\n",
        "# evaluar el rendimiento del modelo. El conjunto de entrenamiento se utiliza para entrenar el modelo,\n",
        "# mientras que el conjunto de prueba se reserva para evaluar su rendimiento en datos no vistos.\n",
        "\n",
        "# En resumen, estas operaciones son prácticas comunes en el preprocesamiento de datos para modelos\n",
        "# de aprendizaje automático, especialmente cuando se trata de conjuntos de datos que contienen\n",
        "# variables categóricas o identificadores que deben ser representados de manera numérica y\n",
        "# cuando se busca garantizar la consistencia y la reproducibilidad en el procesamiento de datos.\n",
        "\n",
        "\n",
        "# userId\tmovieId\ttimestamp_rt\ttag_by_user\ttimestamp_tags\tgen_tag\ttitle\tgenres\ttagId\trelevance\trating\n",
        "# df_aux = df_aux[['userId', 'movieId','rating']]\n",
        "\n",
        "# Crear diccionarios de asignación de índices únicos\n",
        "user_unique_ids = df_aux['userId'].unique()\n",
        "movie_unique_ids = df_aux['movieId'].unique()\n",
        "\n",
        "userid2idx = {user_id: idx for idx, user_id in enumerate(user_unique_ids)}\n",
        "movieid2idx = {movie_id: idx for idx, movie_id in enumerate(movie_unique_ids)}\n",
        "\n",
        "# Aplicar la asignación de índices únicos al DataFrame\n",
        "df_aux['userId'] = df_aux['userId'].apply(lambda x: userid2idx[x])\n",
        "df_aux['movieId'] = df_aux['movieId'].apply(lambda x: movieid2idx[x])\n",
        "\n",
        "# Dividir dataset en entrenamiento y test\n",
        "if 'genres' in df.columns:\n",
        "    X = df_aux[['userId', 'movieId', 'genres']]  # UserId y movieId\n",
        "    Y = df_aux['rating']                # rating\n",
        "else:\n",
        "    df_except_last = df.iloc[:, :-1]\n",
        "    X = df_aux.iloc[:, :-1]\n",
        "    Y = df_aux['rating']             \n",
        "\n",
        "\n",
        "x_train, x_test, y_train, y_test = train_test_split(X, Y, test_size=0.2, random_state=42)\n",
        "\n",
        "# Resetear los índices de x_train y x_test\n",
        "x_train.reset_index(drop=True, inplace=True)\n",
        "x_test.reset_index(drop=True, inplace=True)\n",
        "\n",
        "n_genres = 19\n",
        "print(f'Usuarios unicos: {len(user_unique_ids)} y peliculas unicas {len(movie_unique_ids)}')\n",
        "print(x_train.shape , x_test.shape)"
      ]
    },
    {
      "cell_type": "code",
      "execution_count": 31,
      "metadata": {},
      "outputs": [],
      "source": [
        "\n",
        "\n",
        "\n",
        "\n",
        "# # Dividir dataset en entrenamiento y test\n",
        "# x_train, x_test, y_train, y_test = train_test_split(df_aux[['userId', 'movieId', 'genres']], df_aux['rating'], test_size=0.2, random_state=42)\n",
        "\n",
        "# # Resetear los índices de x_train y x_test\n",
        "# x_train.reset_index(drop=True, inplace=True)\n",
        "# x_test.reset_index(drop=True, inplace=True)"
      ]
    },
    {
      "cell_type": "code",
      "execution_count": 32,
      "metadata": {},
      "outputs": [
        {
          "data": {
            "text/html": [
              "<div>\n",
              "<style scoped>\n",
              "    .dataframe tbody tr th:only-of-type {\n",
              "        vertical-align: middle;\n",
              "    }\n",
              "\n",
              "    .dataframe tbody tr th {\n",
              "        vertical-align: top;\n",
              "    }\n",
              "\n",
              "    .dataframe thead th {\n",
              "        text-align: right;\n",
              "    }\n",
              "</style>\n",
              "<table border=\"1\" class=\"dataframe\">\n",
              "  <thead>\n",
              "    <tr style=\"text-align: right;\">\n",
              "      <th></th>\n",
              "      <th>userId</th>\n",
              "      <th>movieId</th>\n",
              "      <th>genres</th>\n",
              "    </tr>\n",
              "  </thead>\n",
              "  <tbody>\n",
              "    <tr>\n",
              "      <th>0</th>\n",
              "      <td>62053</td>\n",
              "      <td>405</td>\n",
              "      <td>Comedy|Crime|Drama|Thriller</td>\n",
              "    </tr>\n",
              "    <tr>\n",
              "      <th>1</th>\n",
              "      <td>39526</td>\n",
              "      <td>150</td>\n",
              "      <td>Action|Sci-Fi|Thriller|IMAX</td>\n",
              "    </tr>\n",
              "    <tr>\n",
              "      <th>2</th>\n",
              "      <td>28332</td>\n",
              "      <td>3538</td>\n",
              "      <td>Crime|Drama</td>\n",
              "    </tr>\n",
              "    <tr>\n",
              "      <th>3</th>\n",
              "      <td>50719</td>\n",
              "      <td>111</td>\n",
              "      <td>Thriller</td>\n",
              "    </tr>\n",
              "    <tr>\n",
              "      <th>4</th>\n",
              "      <td>2770</td>\n",
              "      <td>2919</td>\n",
              "      <td>Drama|Horror|Thriller</td>\n",
              "    </tr>\n",
              "    <tr>\n",
              "      <th>...</th>\n",
              "      <td>...</td>\n",
              "      <td>...</td>\n",
              "      <td>...</td>\n",
              "    </tr>\n",
              "    <tr>\n",
              "      <th>159995</th>\n",
              "      <td>54991</td>\n",
              "      <td>763</td>\n",
              "      <td>Action|Adventure|Drama|Fantasy</td>\n",
              "    </tr>\n",
              "    <tr>\n",
              "      <th>159996</th>\n",
              "      <td>20863</td>\n",
              "      <td>4256</td>\n",
              "      <td>Thriller</td>\n",
              "    </tr>\n",
              "    <tr>\n",
              "      <th>159997</th>\n",
              "      <td>57760</td>\n",
              "      <td>6541</td>\n",
              "      <td>Crime|Mystery</td>\n",
              "    </tr>\n",
              "    <tr>\n",
              "      <th>159998</th>\n",
              "      <td>12781</td>\n",
              "      <td>653</td>\n",
              "      <td>Action|Romance|War|Western</td>\n",
              "    </tr>\n",
              "    <tr>\n",
              "      <th>159999</th>\n",
              "      <td>38980</td>\n",
              "      <td>944</td>\n",
              "      <td>Action|Adventure</td>\n",
              "    </tr>\n",
              "  </tbody>\n",
              "</table>\n",
              "<p>160000 rows × 3 columns</p>\n",
              "</div>"
            ],
            "text/plain": [
              "        userId  movieId                          genres\n",
              "0        62053      405     Comedy|Crime|Drama|Thriller\n",
              "1        39526      150     Action|Sci-Fi|Thriller|IMAX\n",
              "2        28332     3538                     Crime|Drama\n",
              "3        50719      111                        Thriller\n",
              "4         2770     2919           Drama|Horror|Thriller\n",
              "...        ...      ...                             ...\n",
              "159995   54991      763  Action|Adventure|Drama|Fantasy\n",
              "159996   20863     4256                        Thriller\n",
              "159997   57760     6541                   Crime|Mystery\n",
              "159998   12781      653      Action|Romance|War|Western\n",
              "159999   38980      944                Action|Adventure\n",
              "\n",
              "[160000 rows x 3 columns]"
            ]
          },
          "execution_count": 32,
          "metadata": {},
          "output_type": "execute_result"
        }
      ],
      "source": [
        "x_train"
      ]
    },
    {
      "cell_type": "code",
      "execution_count": 33,
      "metadata": {},
      "outputs": [
        {
          "data": {
            "text/plain": [
              "42608       5.0\n",
              "6890265     4.0\n",
              "21039149    4.5\n",
              "1217956     4.0\n",
              "22231538    2.5\n",
              "           ... \n",
              "3744488     3.0\n",
              "5587199     1.5\n",
              "24452459    5.0\n",
              "18344917    1.5\n",
              "2068693     4.0\n",
              "Name: rating, Length: 160000, dtype: float64"
            ]
          },
          "execution_count": 33,
          "metadata": {},
          "output_type": "execute_result"
        }
      ],
      "source": [
        "y_train"
      ]
    },
    {
      "cell_type": "markdown",
      "metadata": {
        "id": "aqmxPpi0PZSP"
      },
      "source": [
        "### Definicicón de parametros"
      ]
    },
    {
      "cell_type": "code",
      "execution_count": 34,
      "metadata": {
        "id": "Arc_0HTxPZSP"
      },
      "outputs": [],
      "source": [
        "# Definición del número de factores latentes\n",
        "n_latent_factors = 10\n",
        "# learning_rate = 5e-4\n",
        "lr = 1e-3\n",
        "#Función de perdida\n",
        "loss_function = 'mse'\n",
        "#Bartch\n",
        "batch_size = 128\n",
        "#Epoch\n",
        "epochs = 150\n",
        "#Paciencia early stopping\n",
        "pte = 3"
      ]
    },
    {
      "cell_type": "code",
      "execution_count": 35,
      "metadata": {
        "id": "rwc6ZBpSPZSP"
      },
      "outputs": [],
      "source": [
        "es = EarlyStopping(monitor=\"val_loss\",\n",
        "                   mode=\"min\",\n",
        "                   verbose=1,\n",
        "                   patience=pte)"
      ]
    },
    {
      "cell_type": "code",
      "execution_count": 36,
      "metadata": {
        "id": "XlTWGJBCPZSP"
      },
      "outputs": [],
      "source": [
        "# Deprecated\n",
        "# def train_model(model):\n",
        "#     # Entrenar el modelo y obtener el objeto history\n",
        "#     history = model.fit(x=[x_train['userId'], x_train['movieId']], y=y_train,\n",
        "#                         batch_size= batch_size, epochs=epochs, verbose= 1,\n",
        "#                         validation_data=([x_test['userId'], x_test['movieId']], y_test),\n",
        "#                         callbacks=[es])\n",
        "#     return history"
      ]
    },
    {
      "cell_type": "code",
      "execution_count": 37,
      "metadata": {},
      "outputs": [],
      "source": [
        "def train_model(model, x=None, y=None, x_test=None, y_test=None):\n",
        "    # Definir los datos de entrada si no se proporcionan\n",
        "    if x is None:\n",
        "        x = [x_train['userId'], x_train['movieId']]\n",
        "    if y is None:\n",
        "        y = y_train\n",
        "    if x_test is None:\n",
        "        x_test = [x_test['userId'], x_test['movieId']] if x_test is not None else None  # Corrección aquí\n",
        "    if y_test is None:\n",
        "        y_test = y_test\n",
        "    \n",
        "    # Entrenar el modelo y obtener el objeto history\n",
        "    history = model.fit(x=x, y=y,\n",
        "                        batch_size=batch_size, epochs=epochs, verbose=1,\n",
        "                        validation_data=(x_test, y_test),\n",
        "                        callbacks=[es])\n",
        "    return history\n"
      ]
    },
    {
      "cell_type": "code",
      "execution_count": 38,
      "metadata": {
        "id": "ETiJQLtrPZSP"
      },
      "outputs": [],
      "source": [
        "#Deprecated no tiene sentido mostrar el accuracy en modelos de regrsión\n",
        "# def plot_loss(history):\n",
        "#     loss = history.history['loss']\n",
        "#     val_loss = history.history['val_loss']\n",
        "#     accuracy = history.history['accuracy']\n",
        "#     val_accuracy = history.history['val_accuracy']\n",
        "\n",
        "#     fig, ax1 = plt.subplots(figsize=(10, 8))\n",
        "\n",
        "#     color = 'tab:red'\n",
        "#     ax1.set_xlabel('Epochs')\n",
        "#     ax1.set_ylabel('Loss', color=color)\n",
        "#     ax1.plot(loss, 'r--', label='Training Loss')\n",
        "#     ax1.plot(val_loss, 'b-', label='Validation Loss')\n",
        "#     ax1.tick_params(axis='y', labelcolor=color)\n",
        "\n",
        "#     ax2 = ax1.twinx()\n",
        "#     color = 'tab:green'\n",
        "#     ax2.set_ylabel('Accuracy', color=color)\n",
        "#     ax2.plot(accuracy, 'g-.', label='Training Accuracy')\n",
        "#     ax2.plot(val_accuracy, 'y:', label='Validation Accuracy')\n",
        "#     ax2.tick_params(axis='y', labelcolor=color)\n",
        "\n",
        "#     # Añadir leyendas\n",
        "#     ax1.legend(loc='upper left')\n",
        "#     ax2.legend(loc='upper right')\n",
        "\n",
        "#     fig.tight_layout()\n",
        "#     plt.title('Model Loss and Accuracy')\n",
        "#     plt.show()\n",
        "\n",
        "\n",
        "def plot_loss(history):\n",
        "    loss = history.history['loss']\n",
        "    val_loss = history.history['val_loss']\n",
        "\n",
        "    fig, ax1 = plt.subplots(figsize=(10, 8))\n",
        "\n",
        "    color = 'tab:red'\n",
        "    ax1.set_xlabel('Epochs')\n",
        "    ax1.set_ylabel('Loss', color=color)\n",
        "    ax1.plot(loss, 'r--', label='Training Loss')\n",
        "    ax1.plot(val_loss, 'b-', label='Validation Loss')\n",
        "    ax1.tick_params(axis='y', labelcolor=color)\n",
        "\n",
        "    # Añadir leyendas\n",
        "    ax1.legend(loc='upper left')\n",
        "\n",
        "    fig.tight_layout()\n",
        "    plt.title('Model Loss and Accuracy')\n",
        "    plt.show()"
      ]
    },
    {
      "cell_type": "markdown",
      "metadata": {
        "id": "4iGwN6B5PZSP"
      },
      "source": [
        "### Arquitectura 1"
      ]
    },
    {
      "cell_type": "code",
      "execution_count": 39,
      "metadata": {
        "id": "xY90DnKfPZSP"
      },
      "outputs": [],
      "source": [
        "K.clear_session()\n",
        "tf.random.set_seed(51)\n",
        "np.random.seed(51)"
      ]
    },
    {
      "cell_type": "code",
      "execution_count": 40,
      "metadata": {
        "colab": {
          "base_uri": "https://localhost:8080/"
        },
        "id": "7TFaeSg0PZSP",
        "outputId": "1c4d43c6-e6b7-4687-8e55-13b162e4341c"
      },
      "outputs": [
        {
          "name": "stdout",
          "output_type": "stream",
          "text": [
            "Model: \"model\"\n",
            "__________________________________________________________________________________________________\n",
            " Layer (type)                   Output Shape         Param #     Connected to                     \n",
            "==================================================================================================\n",
            " User_Input (InputLayer)        [(None, 1)]          0           []                               \n",
            "                                                                                                  \n",
            " Movie_Input (InputLayer)       [(None, 1)]          0           []                               \n",
            "                                                                                                  \n",
            " User_Embedding (Embedding)     (None, 1, 10)        697170      ['User_Input[0][0]']             \n",
            "                                                                                                  \n",
            " Movie_Embedding (Embedding)    (None, 1, 10)        134920      ['Movie_Input[0][0]']            \n",
            "                                                                                                  \n",
            " User_Vector (Flatten)          (None, 10)           0           ['User_Embedding[0][0]']         \n",
            "                                                                                                  \n",
            " Movie_Vector (Flatten)         (None, 10)           0           ['Movie_Embedding[0][0]']        \n",
            "                                                                                                  \n",
            " Dot_Product (Dot)              (None, 1)            0           ['User_Vector[0][0]',            \n",
            "                                                                  'Movie_Vector[0][0]']           \n",
            "                                                                                                  \n",
            "==================================================================================================\n",
            "Total params: 832,090\n",
            "Trainable params: 832,090\n",
            "Non-trainable params: 0\n",
            "__________________________________________________________________________________________________\n"
          ]
        }
      ],
      "source": [
        "# Obtención del número único de usuarios y películas en el conjunto de datos de calificaciones\n",
        "n_users, n_movies = len(df['userId'].unique()), len(df['movieId'].unique())\n",
        "\n",
        "# Definición de la entrada del usuario\n",
        "user_input = Input(shape=(1,), name='User_Input')\n",
        "\n",
        "# Creación de la capa de embedding para usuarios\n",
        "user_embeddings = Embedding(input_dim=n_users, output_dim=n_latent_factors, input_length=1,\n",
        "                            name='User_Embedding')(user_input)\n",
        "user_vector = Flatten(name='User_Vector')(user_embeddings)\n",
        "\n",
        "# Definición de la entrada de la película\n",
        "movie_input = Input(shape=(1,), name='Movie_Input')\n",
        "\n",
        "# Creación de la capa de embedding para películas\n",
        "movie_embeddings = Embedding(input_dim=n_movies, output_dim=n_latent_factors, input_length=1,\n",
        "                             name='Movie_Embedding')(movie_input)\n",
        "movie_vector = Flatten(name='Movie_Vector')(movie_embeddings)\n",
        "\n",
        "# Combinación de los vectores de usuario y película mediante el producto punto\n",
        "merged_vectors = dot([user_vector, movie_vector], name='Dot_Product', axes=1)\n",
        "\n",
        "# Creación del modelo utilizando Model API de Keras\n",
        "model_a1 = Model([user_input, movie_input], merged_vectors)\n",
        "\n",
        "model_a1.summary()\n",
        "# Visualizar el modelo de Keras en formato DOT y luego lo convierte a formato SVG para mostrarlo\n",
        "# SVG(model_to_dot( model_a1,  show_shapes=True, show_layer_names=True).create(prog='dot', format='svg'))\n",
        "\n",
        "#Compilar modelo SGD,Adagrad,Adadelta,RMSprop\n",
        "model_a1.compile(loss=loss_function, optimizer = Adam(learning_rate=lr) )"
      ]
    },
    {
      "cell_type": "markdown",
      "metadata": {
        "id": "5jnfWcY2PZSQ"
      },
      "source": [
        "### Arquitectura 2"
      ]
    },
    {
      "cell_type": "code",
      "execution_count": 41,
      "metadata": {
        "id": "uVxiLqYhPZSQ"
      },
      "outputs": [],
      "source": [
        "K.clear_session()\n",
        "tf.random.set_seed(51)\n",
        "np.random.seed(51)"
      ]
    },
    {
      "cell_type": "code",
      "execution_count": 42,
      "metadata": {
        "colab": {
          "base_uri": "https://localhost:8080/"
        },
        "id": "uJMoH7PCPZSQ",
        "outputId": "0d88d8dd-5943-4eb5-f350-2de064cb2be5"
      },
      "outputs": [
        {
          "name": "stdout",
          "output_type": "stream",
          "text": [
            "Model: \"model\"\n",
            "__________________________________________________________________________________________________\n",
            " Layer (type)                   Output Shape         Param #     Connected to                     \n",
            "==================================================================================================\n",
            " user_input (InputLayer)        [(None, 1)]          0           []                               \n",
            "                                                                                                  \n",
            " movie_input (InputLayer)       [(None, 1)]          0           []                               \n",
            "                                                                                                  \n",
            " user_embedding (Embedding)     (None, 1, 10)        697170      ['user_input[0][0]']             \n",
            "                                                                                                  \n",
            " movie_embedding (Embedding)    (None, 1, 10)        134920      ['movie_input[0][0]']            \n",
            "                                                                                                  \n",
            " FlattenUsers (Flatten)         (None, 10)           0           ['user_embedding[0][0]']         \n",
            "                                                                                                  \n",
            " FlattenMovies (Flatten)        (None, 10)           0           ['movie_embedding[0][0]']        \n",
            "                                                                                                  \n",
            " dropout (Dropout)              (None, 10)           0           ['FlattenUsers[0][0]']           \n",
            "                                                                                                  \n",
            " dropout_1 (Dropout)            (None, 10)           0           ['FlattenMovies[0][0]']          \n",
            "                                                                                                  \n",
            " Similarity-Dot-Product (Dot)   (None, 1)            0           ['dropout[0][0]',                \n",
            "                                                                  'dropout_1[0][0]']              \n",
            "                                                                                                  \n",
            " dense (Dense)                  (None, 96)           192         ['Similarity-Dot-Product[0][0]'] \n",
            "                                                                                                  \n",
            " dropout_2 (Dropout)            (None, 96)           0           ['dense[0][0]']                  \n",
            "                                                                                                  \n",
            " dense_1 (Dense)                (None, 1)            97          ['dropout_2[0][0]']              \n",
            "                                                                                                  \n",
            "==================================================================================================\n",
            "Total params: 832,379\n",
            "Trainable params: 832,379\n",
            "Non-trainable params: 0\n",
            "__________________________________________________________________________________________________\n"
          ]
        }
      ],
      "source": [
        "# Obtener el número único de películas y usuarios en el DataFrame\n",
        "n_movies = len(df['movieId'].unique())\n",
        "n_users = len(df['userId'].unique())\n",
        "\n",
        "# Definir la capa de entrada para el usuario con un solo valor entero (userId)\n",
        "user_input = Input(shape=(1,), name='user_input', dtype='int64')\n",
        "\n",
        "# Crear la capa de embedding para usuarios\n",
        "user_embedding = Embedding(n_users, n_latent_factors, name='user_embedding')(user_input)\n",
        "user_vec = Flatten(name='FlattenUsers')(user_embedding)  # Aplanar la salida de la capa de embedding\n",
        "user_vec = Dropout(0.40)(user_vec)  # Aplicar Dropout para regularización\n",
        "\n",
        "# Definir la capa de entrada para la película con un solo valor entero (movieId)\n",
        "movie_input = Input(shape=(1,), name='movie_input', dtype='int64')\n",
        "\n",
        "# Crear la capa de embedding para películas\n",
        "movie_embedding = Embedding(n_movies, n_latent_factors, name='movie_embedding')(movie_input)\n",
        "movie_vec = Flatten(name='FlattenMovies')(movie_embedding)  # Aplanar la salida de la capa de embedding\n",
        "movie_vec = Dropout(0.40)(movie_vec)  # Aplicar Dropout para regularización\n",
        "\n",
        "# Calcular la similitud entre los vectores de usuario y película mediante el producto punto\n",
        "similarity = dot([user_vec, movie_vec], name='Similarity-Dot-Product', axes=1)\n",
        "\n",
        "# Definir una capa de red neuronal para procesar la similitud calculada\n",
        "nn_inp = Dense(96, activation='relu')(similarity)\n",
        "nn_inp = Dropout(0.4)(nn_inp)  # Aplicar Dropout para regularización\n",
        "# nn_inp = BatchNormalization()(nn_inp)  # Normalización por lotes (comentada, opcional)\n",
        "nn_inp = Dense(1, activation='relu')(nn_inp)\n",
        "\n",
        "# Crear el modelo utilizando Model API de Keras\n",
        "model_a2 = Model([user_input, movie_input], nn_inp)\n",
        "model_a2.summary()  # Mostrar resumen del modelo en términos de parámetros y capas\n",
        "\n",
        "# Compilar el modelo con la función de pérdida y el optimizador especificados\n",
        "model_a2.compile(loss=loss_function, optimizer= Adam(learning_rate=lr) )\n"
      ]
    },
    {
      "cell_type": "markdown",
      "metadata": {
        "id": "mKFvSVGhPZSQ"
      },
      "source": [
        "### Arquitectura 3"
      ]
    },
    {
      "cell_type": "code",
      "execution_count": 43,
      "metadata": {
        "id": "Zl_bp225PZSQ"
      },
      "outputs": [],
      "source": [
        "K.clear_session()\n",
        "tf.random.set_seed(51)\n",
        "np.random.seed(51)"
      ]
    },
    {
      "cell_type": "code",
      "execution_count": 44,
      "metadata": {
        "colab": {
          "base_uri": "https://localhost:8080/"
        },
        "id": "gvSMEh3WPZSY",
        "outputId": "51ebb9a1-a88a-4a80-905f-094287cf1636"
      },
      "outputs": [
        {
          "name": "stdout",
          "output_type": "stream",
          "text": [
            "Model: \"model\"\n",
            "__________________________________________________________________________________________________\n",
            " Layer (type)                   Output Shape         Param #     Connected to                     \n",
            "==================================================================================================\n",
            " User_Input (InputLayer)        [(None, 1)]          0           []                               \n",
            "                                                                                                  \n",
            " Movie_input (InputLayer)       [(None, 1)]          0           []                               \n",
            "                                                                                                  \n",
            " User_Embedding (Embedding)     (None, 1, 10)        697180      ['User_Input[0][0]']             \n",
            "                                                                                                  \n",
            " Movie_Embedding (Embedding)    (None, 1, 10)        134930      ['Movie_input[0][0]']            \n",
            "                                                                                                  \n",
            " User_Vector (Flatten)          (None, 10)           0           ['User_Embedding[0][0]']         \n",
            "                                                                                                  \n",
            " Movie_Vector (Flatten)         (None, 10)           0           ['Movie_Embedding[0][0]']        \n",
            "                                                                                                  \n",
            " Concatenation (Concatenate)    (None, 20)           0           ['User_Vector[0][0]',            \n",
            "                                                                  'Movie_Vector[0][0]']           \n",
            "                                                                                                  \n",
            " dense (Dense)                  (None, 100)          2100        ['Concatenation[0][0]']          \n",
            "                                                                                                  \n",
            " dropout (Dropout)              (None, 100)          0           ['dense[0][0]']                  \n",
            "                                                                                                  \n",
            " dense_1 (Dense)                (None, 1)            101         ['dropout[0][0]']                \n",
            "                                                                                                  \n",
            "==================================================================================================\n",
            "Total params: 834,311\n",
            "Trainable params: 834,311\n",
            "Non-trainable params: 0\n",
            "__________________________________________________________________________________________________\n"
          ]
        }
      ],
      "source": [
        "# Obtener el número único de películas y usuarios en el DataFrame\n",
        "n_movies = len(df['movieId'].unique())\n",
        "n_users = len(df['userId'].unique())\n",
        "\n",
        "# Definir la capa de entrada para el usuario con un solo valor entero (userId)\n",
        "user_input = Input(shape=(1,), name='User_Input')\n",
        "\n",
        "# Crear la capa de embedding para usuarios\n",
        "user_embeddings = Embedding(input_dim=n_users+1, output_dim=n_latent_factors, input_length=1, name='User_Embedding')(user_input)\n",
        "user_vector = Flatten(name='User_Vector')(user_embeddings)  # Aplanar la salida de la capa de embedding\n",
        "\n",
        "# Definir la capa de entrada para la película con un solo valor entero (movieId)\n",
        "movie_input = Input(shape=(1,), name='Movie_input')\n",
        "\n",
        "# Crear la capa de embedding para películas\n",
        "movie_embeddings = Embedding(input_dim=n_movies+1, output_dim=n_latent_factors, input_length=1, name='Movie_Embedding')(movie_input)\n",
        "movie_vector = Flatten(name='Movie_Vector')(movie_embeddings)  # Aplanar la salida de la capa de embedding\n",
        "\n",
        "# Concatenar los vectores de usuario y película\n",
        "merged_vectors = concatenate([user_vector, movie_vector], name='Concatenation')\n",
        "\n",
        "# Capa densa con 100 unidades y función de activación ReLU\n",
        "dense_layer_1 = Dense(100, activation='relu')(merged_vectors)\n",
        "\n",
        "# Aplicar Dropout para regularización\n",
        "dense_layer_3 = Dropout(0.5)(dense_layer_1)\n",
        "\n",
        "# Capa densa de salida con 1 unidad\n",
        "dense_layer_2 = Dense(1)(dense_layer_3)\n",
        "\n",
        "# Crear el modelo utilizando Model API de Keras\n",
        "model_a3 = Model([user_input, movie_input], dense_layer_2)\n",
        "\n",
        "# Compilar el modelo con la función de pérdida, el optimizador y métricas especificados\n",
        "model_a3.compile(loss=loss_function, optimizer=Adam(learning_rate=5e-4), metrics=['accuracy'])\n",
        "model_a3.summary()  # Mostrar resumen del modelo en términos de parámetros y capas\n"
      ]
    },
    {
      "cell_type": "markdown",
      "metadata": {
        "id": "ucDOjbalPZSZ"
      },
      "source": [
        "### Arquitectura 4"
      ]
    },
    {
      "cell_type": "code",
      "execution_count": 45,
      "metadata": {
        "id": "emFwvRPkPZSZ"
      },
      "outputs": [],
      "source": [
        "K.clear_session()\n",
        "tf.random.set_seed(51)\n",
        "np.random.seed(51)"
      ]
    },
    {
      "cell_type": "code",
      "execution_count": 46,
      "metadata": {
        "id": "I1478NopPZSZ"
      },
      "outputs": [
        {
          "name": "stdout",
          "output_type": "stream",
          "text": [
            "Model: \"model\"\n",
            "__________________________________________________________________________________________________\n",
            " Layer (type)                   Output Shape         Param #     Connected to                     \n",
            "==================================================================================================\n",
            " movie (InputLayer)             [(None, 1)]          0           []                               \n",
            "                                                                                                  \n",
            " user (InputLayer)              [(None, 1)]          0           []                               \n",
            "                                                                                                  \n",
            " movie_embedding (Embedding)    (None, 1, 10)        134930      ['movie[0][0]']                  \n",
            "                                                                                                  \n",
            " user_embedding (Embedding)     (None, 1, 10)        697180      ['user[0][0]']                   \n",
            "                                                                                                  \n",
            " flatten_movies (Flatten)       (None, 10)           0           ['movie_embedding[0][0]']        \n",
            "                                                                                                  \n",
            " flatten_users (Flatten)        (None, 10)           0           ['user_embedding[0][0]']         \n",
            "                                                                                                  \n",
            " dot (Dot)                      (None, 1)            0           ['flatten_movies[0][0]',         \n",
            "                                                                  'flatten_users[0][0]']          \n",
            "                                                                                                  \n",
            "==================================================================================================\n",
            "Total params: 832,110\n",
            "Trainable params: 832,110\n",
            "Non-trainable params: 0\n",
            "__________________________________________________________________________________________________\n"
          ]
        }
      ],
      "source": [
        "# Definición de la entrada del usuario (user_input)\n",
        "user_input = Input(shape=[1], name='user')  # Capa de entrada para la información del usuario.\n",
        "# print(f\"User Input Shape: {user_input.shape}\")\n",
        "\n",
        "# Creación de la capa de embedding para usuarios (user_embedding)\n",
        "user_embedding = Embedding(input_dim=n_users + 1, output_dim=n_latent_factors, name='user_embedding')(user_input)\n",
        "# La capa de embedding asigna a cada usuario un vector en el espacio de factores latentes.\n",
        "# print(f\"User Embedding Shape: {user_embedding.shape}\")\n",
        "\n",
        "# Aplanamiento de la capa de embedding para usuarios (user_vec)\n",
        "user_vec = Flatten(name='flatten_users')(user_embedding)\n",
        "# Se aplana el embedding para obtener un vector unidimensional que representa al usuario en el espacio de factores latentes.\n",
        "# print(f\"Flattened User Vector Shape: {user_vec.shape}\")\n",
        "\n",
        "# Definición de la entrada de la película (movie_input)\n",
        "movie_input = Input(shape=[1], name='movie')  # Capa de entrada para la información de la película.\n",
        "# print(f\"Movie Input Shape: {movie_input.shape}\")\n",
        "\n",
        "# Creación de la capa de embedding para películas (movie_embedding)\n",
        "movie_embedding = Embedding(input_dim=n_movies + 1, output_dim=n_latent_factors, name='movie_embedding')(movie_input)\n",
        "# La capa de embedding asigna a cada película un vector en el espacio de factores latentes.\n",
        "# print(f\"Movie Embedding Shape: {movie_embedding.shape}\")\n",
        "\n",
        "# Aplanamiento de la capa de embedding para películas (movie_vec)\n",
        "movie_vec = Flatten(name='flatten_movies')(movie_embedding)\n",
        "# Se aplana el embedding para obtener un vector unidimensional que representa la película en el espacio de factores latentes.\n",
        "# print(f\"Flattened Movie Vector Shape: {movie_vec.shape}\")\n",
        "\n",
        "# Cálculo del producto punto entre los vectores de película y usuario (product)\n",
        "product = dot([movie_vec, user_vec], axes=1)\n",
        "# El modelo calcula el producto punto entre los vectores de película y usuario para predecir las calificaciones.\n",
        "# print(f\"Product Shape: {product.shape}\")\n",
        "\n",
        "# Definición del modelo (model)\n",
        "model_a4 = Model(inputs=[user_input, movie_input], outputs=product)\n",
        "\n",
        "# Compilación del modelo con la función de pérdida y optimizador\n",
        "model_a4.compile(loss=loss_function, optimizer = Adam(learning_rate=lr) )\n",
        "\n",
        "model_a4.summary()"
      ]
    },
    {
      "cell_type": "markdown",
      "metadata": {
        "id": "Kiz3CkkPPZSZ"
      },
      "source": [
        "### Arquitectura 5"
      ]
    },
    {
      "cell_type": "code",
      "execution_count": 47,
      "metadata": {
        "id": "rhEyYpyvPZSa"
      },
      "outputs": [],
      "source": [
        "K.clear_session()\n",
        "tf.random.set_seed(51)\n",
        "np.random.seed(51)"
      ]
    },
    {
      "cell_type": "code",
      "execution_count": 48,
      "metadata": {
        "id": "BDqbhxHHPZSa"
      },
      "outputs": [
        {
          "name": "stdout",
          "output_type": "stream",
          "text": [
            "Model: \"model\"\n",
            "__________________________________________________________________________________________________\n",
            " Layer (type)                   Output Shape         Param #     Connected to                     \n",
            "==================================================================================================\n",
            " user (InputLayer)              [(None, 1)]          0           []                               \n",
            "                                                                                                  \n",
            " movie (InputLayer)             [(None, 1)]          0           []                               \n",
            "                                                                                                  \n",
            " user_embedding (Embedding)     (None, 1, 10)        697180      ['user[0][0]']                   \n",
            "                                                                                                  \n",
            " movie_embedding (Embedding)    (None, 1, 10)        134930      ['movie[0][0]']                  \n",
            "                                                                                                  \n",
            " flatten_users (Flatten)        (None, 10)           0           ['user_embedding[0][0]']         \n",
            "                                                                                                  \n",
            " flatten_movies (Flatten)       (None, 10)           0           ['movie_embedding[0][0]']        \n",
            "                                                                                                  \n",
            " Concatenation (Concatenate)    (None, 20)           0           ['flatten_users[0][0]',          \n",
            "                                                                  'flatten_movies[0][0]']         \n",
            "                                                                                                  \n",
            " dense (Dense)                  (None, 128)          2688        ['Concatenation[0][0]']          \n",
            "                                                                                                  \n",
            " dense_1 (Dense)                (None, 64)           8256        ['dense[0][0]']                  \n",
            "                                                                                                  \n",
            " dense_2 (Dense)                (None, 32)           2080        ['dense_1[0][0]']                \n",
            "                                                                                                  \n",
            " dense_3 (Dense)                (None, 1)            33          ['dense_2[0][0]']                \n",
            "                                                                                                  \n",
            "==================================================================================================\n",
            "Total params: 845,167\n",
            "Trainable params: 845,167\n",
            "Non-trainable params: 0\n",
            "__________________________________________________________________________________________________\n"
          ]
        }
      ],
      "source": [
        "# Definir la entrada del usuario y su embedding\n",
        "user_input = Input(shape=[1], name='user')\n",
        "user_embedding = Embedding(input_dim=n_users + 1, output_dim=n_latent_factors, name='user_embedding')(user_input)\n",
        "user_vec = Flatten(name='flatten_users')(user_embedding)\n",
        "\n",
        "# Definir la entrada de la película y su embedding\n",
        "movie_input = Input(shape=[1], name='movie')\n",
        "movie_embedding = Embedding(input_dim=n_movies + 1, output_dim=n_latent_factors, name='movie_embedding')(movie_input)\n",
        "movie_vec = Flatten(name='flatten_movies')(movie_embedding)\n",
        "\n",
        "# Concatenar los embeddings de usuario y película\n",
        "concatenated = concatenate([user_vec, movie_vec], name='Concatenation')\n",
        "\n",
        "# Añadir capas Dense con activación ReLU\n",
        "dense_layer1 = Dense(128, activation='relu')(concatenated)\n",
        "dense_layer2 = Dense(64, activation='relu')(dense_layer1)\n",
        "dense_layer3 = Dense(32, activation='relu')(dense_layer2)\n",
        "\n",
        "# Capa de salida con activación lineal\n",
        "output = Dense(1, activation='linear')(dense_layer3)\n",
        "\n",
        "# Crear el modelo con métrica R cuadrado\n",
        "model_a5 = Model(inputs=[user_input, movie_input], outputs=output)\n",
        "\n",
        "# Compilación del modelo con la función de pérdida y optimizador\n",
        "model_a5.compile(loss=loss_function, optimizer = Adam(learning_rate=lr) )\n",
        "\n",
        "model_a5.summary()"
      ]
    },
    {
      "cell_type": "markdown",
      "metadata": {
        "id": "y05smwd6PZSa"
      },
      "source": [
        "### Arquitectura 6"
      ]
    },
    {
      "cell_type": "code",
      "execution_count": 49,
      "metadata": {
        "id": "XV2-_kkfPZSa"
      },
      "outputs": [],
      "source": [
        "K.clear_session()\n",
        "tf.random.set_seed(51)\n",
        "np.random.seed(51)"
      ]
    },
    {
      "cell_type": "code",
      "execution_count": 50,
      "metadata": {
        "id": "ZWdeYVEoPZSa"
      },
      "outputs": [
        {
          "name": "stdout",
          "output_type": "stream",
          "text": [
            "Model: \"model_x\"\n",
            "__________________________________________________________________________________________________\n",
            " Layer (type)                   Output Shape         Param #     Connected to                     \n",
            "==================================================================================================\n",
            " user_id (InputLayer)           [(None, 1)]          0           []                               \n",
            "                                                                                                  \n",
            " item_id (InputLayer)           [(None, 1)]          0           []                               \n",
            "                                                                                                  \n",
            " user_emb (Embedding)           (None, 1, 10)        697170      ['user_id[0][0]']                \n",
            "                                                                                                  \n",
            " item_emb (Embedding)           (None, 1, 10)        134920      ['item_id[0][0]']                \n",
            "                                                                                                  \n",
            " flatten (Flatten)              (None, 10)           0           ['user_emb[0][0]']               \n",
            "                                                                                                  \n",
            " flatten_1 (Flatten)            (None, 10)           0           ['item_emb[0][0]']               \n",
            "                                                                                                  \n",
            " dot (Dot)                      (None, 1)            0           ['flatten[0][0]',                \n",
            "                                                                  'flatten_1[0][0]']              \n",
            "                                                                                                  \n",
            " user_bias (Embedding)          (None, 1, 1)         69717       ['user_id[0][0]']                \n",
            "                                                                                                  \n",
            " item_bias (Embedding)          (None, 1, 1)         13492       ['item_id[0][0]']                \n",
            "                                                                                                  \n",
            " add (Add)                      (None, 1, 1)         0           ['dot[0][0]',                    \n",
            "                                                                  'user_bias[0][0]',              \n",
            "                                                                  'item_bias[0][0]']              \n",
            "                                                                                                  \n",
            " flat (Flatten)                 (None, 1)            0           ['add[0][0]']                    \n",
            "                                                                                                  \n",
            "==================================================================================================\n",
            "Total params: 915,299\n",
            "Trainable params: 915,299\n",
            "Non-trainable params: 0\n",
            "__________________________________________________________________________________________________\n"
          ]
        }
      ],
      "source": [
        "user_input = Input(shape=(1,), name=\"user_id\", dtype=tf.int32)\n",
        "item_input = Input(shape=(1,), name=\"item_id\", dtype=tf.int32)\n",
        "\n",
        "user_embedding = Embedding(n_users,\n",
        "                                  n_latent_factors,\n",
        "                                  name=\"user_emb\")(user_input)\n",
        "\n",
        "user_bias = Embedding(n_users, 1, name=\"user_bias\")(user_input)\n",
        "\n",
        "item_embedding = Embedding(n_movies,\n",
        "                                  n_latent_factors,\n",
        "                                  name=\"item_emb\")(item_input)\n",
        "item_bias = Embedding(n_movies, 1, name=\"item_bias\")(item_input)\n",
        "\n",
        "user_vector = Flatten()(user_embedding)\n",
        "item_vector = Flatten()(item_embedding)\n",
        "\n",
        "dot_user_item = Dot(name=\"dot\", axes=1)([user_vector, item_vector])\n",
        "output = Add(name=\"add\")([dot_user_item, user_bias, item_bias])\n",
        "output = Flatten(name=\"flat\")(output)\n",
        "\n",
        "model_a6 = Model([user_input, item_input], output, name=\"model_x\")\n",
        "\n",
        "model_a6.compile(loss=loss_function, optimizer = Adam(learning_rate=lr) )\n",
        "\n",
        "model_a6.summary()"
      ]
    },
    {
      "cell_type": "code",
      "execution_count": 51,
      "metadata": {},
      "outputs": [],
      "source": [
        "import tensorflow as tf\n",
        "import tensorflow_probability as tfp\n",
        "from sklearn.metrics import mean_squared_error, mean_absolute_error, r2_score\n",
        "\n",
        "# Definir las métricas personalizadas en TensorFlow/Keras\n",
        "def rmse(y_true, y_pred):\n",
        "    return tf.sqrt(tf.reduce_mean(tf.square(y_true - y_pred)))\n",
        "\n",
        "def mae(y_true, y_pred):\n",
        "    return tf.reduce_mean(tf.abs(y_true - y_pred))\n",
        "\n",
        "def mape(y_true, y_pred):\n",
        "    return tf.reduce_mean(tf.abs((y_true - y_pred) / y_true)) * 100\n",
        "\n",
        "def mse(y_true, y_pred):\n",
        "    return tf.reduce_mean(tf.square(y_true - y_pred))\n",
        "\n",
        "def pearson_corr(y_true, y_pred):\n",
        "    # Convertir y_pred a tipo float64\n",
        "    y_pred = y_pred.astype(np.float64)\n",
        "    # Calcular la correlación de Pearson\n",
        "    return tfp.stats.correlation(y_true, y_pred, sample_axis=0, event_axis=1)\n"
      ]
    },
    {
      "cell_type": "code",
      "execution_count": 94,
      "metadata": {},
      "outputs": [],
      "source": [
        "def calcular_metricas(model, x_test, y_test):\n",
        "    # Obtener predicciones del modelo\n",
        "    predictions = model.predict(x_test)\n",
        "    \n",
        "    # Aplanar predicciones\n",
        "    predictions = predictions.ravel()\n",
        "    \n",
        "    # Calcular métricas\n",
        "    rmse_val = rmse(y_test, predictions)\n",
        "    mae_val = mae(y_test, predictions)\n",
        "    mape_val = mape(y_test, predictions)\n",
        "    mse_val = mse(y_test, predictions)\n",
        "    r2_val = r2_score(y_test, predictions)\n",
        "    # pearson_corr_val = pearson_corr(y_test, predictions)\n",
        "    \n",
        "    # Imprimir métricas\n",
        "    print(\"RMSE:\", rmse_val.numpy())\n",
        "    print(\"MAE:\", mae_val.numpy())\n",
        "    print(\"MSE:\", mse_val.numpy())\n",
        "    print(\"R2 Score:\", r2_val)\n",
        "    print(f\"MAPE: {(mape_val.numpy())/100} \\nMAPE %: {mape_val.numpy()} %\")\n",
        "    # print(\"Pearson Correlation:\", pearson_corr_val)"
      ]
    },
    {
      "cell_type": "code",
      "execution_count": 53,
      "metadata": {},
      "outputs": [],
      "source": [
        "# from sklearn.metrics import mean_squared_error, accuracy_score, r2_score\n",
        "\n",
        "# y_pred = model_a6.predict([x_test['userId'], x_test['movieId']])\n",
        "# mse = mean_squared_error(y_test, y_pred)\n",
        "# print(f'Mean Squared Error: {mse}')\n",
        "\n",
        "# rmse = np.sqrt(mse)\n",
        "# print(f'Root Mean Squared Error: {rmse}')\n",
        "\n",
        "# # Calcular R cuadrado\n",
        "# r2 = r2_score(y_test, y_pred)\n",
        "# print(f'R Squared: {r2}')\n",
        "\n",
        "# from scipy.stats import pearsonr\n",
        "\n",
        "# # Calcular la correlación de Pearson\n",
        "# correlation, _ = pearsonr(np.array(y_test), y_pred.flatten())\n",
        "# print(f'Pearson Correlation: {correlation}')"
      ]
    },
    {
      "cell_type": "markdown",
      "metadata": {},
      "source": [
        "375/375 [==============================] - 1s 1ms/step:\n",
        "\n",
        "Indica que se realizaron 375 iteraciones o pasos durante el proceso de evaluación, y cada iteración tardó aproximadamente 1 milisegundo.\n",
        "\n",
        "1. Mean Squared Error (MSE): 3.0927204499125063:\n",
        "\n",
        "El MSE es una medida del promedio de los cuadrados de las diferencias entre las predicciones del modelo y los valores reales. En este caso, un MSE de 3.09 indica que las predicciones tienden a desviarse, en promedio, al cuadrado de 3.09 unidades de la verdad.\n",
        "\n",
        "2. Root Mean Squared Error (RMSE): 1.7586132178260534:\n",
        "\n",
        "El RMSE es simplemente la raíz cuadrada del MSE. En este caso, un RMSE de 1.76 significa que, en promedio, las predicciones tienden a desviarse alrededor de 1.76 unidades de la verdad.\n",
        "\n",
        "3. R Squared: -1.8672807452362834:\n",
        "\n",
        "El R cuadrado (R2) es una medida de la proporción de la varianza en la variable dependiente que es predecible a partir de las variables independientes. Un valor negativo de R2 no es común y sugiere que el modelo no es apropiado para estos datos, ya que es peor que simplemente predecir la media de los datos observados.\n",
        "\n",
        "4. Pearson Correlation: 0.3082110202566218:\n",
        "\n",
        "La correlación de Pearson es una medida de la fuerza y dirección de la relación lineal entre dos variables. Un valor de 0.31 indica una correlación positiva débil. Sin embargo, la correlación por sí sola no proporciona una imagen completa y debe interpretarse junto con otras métricas.\n",
        "\n",
        "En general, estas métricas sugieren que el modelo puede no estar funcionando tan bien en tus datos de prueba. El MSE y RMSE indican el error absoluto promedio, y un R2 negativo sugiere que el modelo no está explicando la varianza de los datos de manera efectiva. La correlación de Pearson, aunque positiva, es relativamente baja. Puedes considerar ajustar tu modelo o explorar otras métricas y técnicas para mejorar su rendimiento."
      ]
    },
    {
      "cell_type": "code",
      "execution_count": 54,
      "metadata": {},
      "outputs": [],
      "source": [
        "# def calculate_metrics(y_true, y_pred, k=5):\n",
        "#     \"\"\"\n",
        "#     Calcula métricas de evaluación para un modelo de recomendación.\n",
        "\n",
        "#     Parámetros:\n",
        "#     - y_true: Valores reales de calificación.\n",
        "#     - y_pred: Predicciones del modelo.\n",
        "#     - k: Número de elementos recomendados por usuario.\n",
        "\n",
        "#     Devuelve:\n",
        "#     - precision: Precisión.\n",
        "#     - recall: Recall.\n",
        "#     - mrr: Mean Reciprocal Rank.\n",
        "#     - map: Mean Average Precision.\n",
        "#     - coverage: Cobertura.\n",
        "#     \"\"\"\n",
        "    \n",
        "#     # Obtener índices de las principales predicciones para cada usuario\n",
        "#     top_k_indices = np.argsort(y_pred, axis=1)[:, -k:]\n",
        "\n",
        "#     # Inicializar listas para almacenar métricas por usuario\n",
        "#     precision_list = []\n",
        "#     recall_list = []\n",
        "#     reciprocal_ranks = []\n",
        "#     average_precision_list = []\n",
        "\n",
        "#     enumerated_y_test = enumerate(y_test.items())\n",
        "\n",
        "#     # Iterar sobre cada usuario en los datos\n",
        "#     # for i in range(len(y_true)):\n",
        "#     for i, (index, value) in enumerated_y_test:\n",
        "#         # Encontrar elementos recomendados que también son valorados positivamente por el usuario\n",
        "#         true_positives = np.intersect1d(top_k_indices[i], np.where(np.atleast_1d(y_true.iloc[i]) > 0))\n",
        "\n",
        "#         # Calcular precision y recall para el usuario actual\n",
        "#         precision = len(true_positives) / k if k > 0 else 0\n",
        "#         recall = len(true_positives) / len(np.where(np.atleast_1d(y_true.iloc[i]) > 0)[0]) if len(np.where(np.atleast_1d(y_true.iloc[i]) > 0)[0]) > 0 else 0\n",
        "\n",
        "#         # Calcular el Reciprocal Rank para el usuario actual\n",
        "#         reciprocal_rank = 1 / (np.where(top_k_indices[i] == np.where(np.atleast_1d(y_true.iloc[i]) > 0)[0][0])[0][0] + 1) if len(true_positives) > 0 else 0\n",
        "\n",
        "#         # Calcular el Average Precision para el usuario actual\n",
        "#         positive_indices = np.where(np.atleast_1d(y_true.iloc[i]) > 0)[0]\n",
        "#         average_precision = np.sum([(len(np.intersect1d(top_k_indices[i][:j+1], positive_indices))) / (j+1) for j in range(min(k, len(positive_indices)))]) / min(k, len(positive_indices)) if len(positive_indices) > 0 else 0\n",
        "\n",
        "#         # Agregar métricas a las listas\n",
        "#         precision_list.append(precision)\n",
        "#         recall_list.append(recall)\n",
        "#         reciprocal_ranks.append(reciprocal_rank)\n",
        "#         average_precision_list.append(average_precision)\n",
        "\n",
        "#     # Calcular promedio de las métricas\n",
        "#     precision = np.mean(precision_list)\n",
        "#     recall = np.mean(recall_list)\n",
        "#     mrr = np.mean(reciprocal_ranks)\n",
        "#     map_value = np.mean(average_precision_list)\n",
        "\n",
        "#     # Calcular la Cobertura\n",
        "#     coverage = len(np.unique(top_k_indices)) / len(y_true)  # Suponiendo que todos los usuarios tienen el mismo conjunto de elementos\n",
        "\n",
        "#     # Devolver las métricas calculadas\n",
        "#     return precision, recall, mrr, map_value, coverage\n"
      ]
    },
    {
      "cell_type": "code",
      "execution_count": 55,
      "metadata": {},
      "outputs": [],
      "source": [
        "# # Suponiendo que 'x_test' y 'y_test' son las variables de entrada y salida del conjunto de prueba\n",
        "# predictions = model_a6.predict([x_test['userId'], x_test['movieId']])\n",
        "\n",
        "# # Calcular métricas de rendimiento\n",
        "# precision, recall, mrr, map_value, coverage = calculate_metrics(y_test, predictions)\n",
        "# print(f'\\nPrecision: {precision}')\n",
        "# print(f'Recall: {recall}')\n",
        "# print(f'Mean Reciprocal Rank (MRR): {mrr}')\n",
        "# print(f'Mean Average Precision (MAP): {map_value}')\n",
        "# print(f'Coverage: {coverage}')"
      ]
    },
    {
      "cell_type": "markdown",
      "metadata": {},
      "source": [
        "Basándome en los resultados proporcionados, puedo hacer algunas observaciones:\n",
        "\n",
        "1. **Precision: 0.20:** La precisión es relativamente baja (20%). Esto podría indicar que, en promedio, solo el 20% de los elementos recomendados son relevantes para los usuarios. Una precisión más alta sería preferible.\n",
        "\n",
        "2. **Recall: 1.0:** El recall es alto (100%). Esto sugiere que el modelo ha identificado todos los elementos relevantes para los usuarios en el conjunto de prueba. Aunque un recall del 100% es positivo, la baja precisión indica que también hay elementos irrelevantes en las recomendaciones.\n",
        "\n",
        "3. **Mean Reciprocal Rank (MRR): 1.0:** El MRR es 1.0, lo que indica que, en promedio, el elemento relevante para cada usuario está en la posición 1 de las recomendaciones. Esto es una señal positiva, ya que un MRR de 1.0 sugiere que el modelo está dando la máxima prioridad a los elementos relevantes.\n",
        "\n",
        "4. **Mean Average Precision (MAP): 1.0:** Un MAP de 1.0 indica que el modelo proporciona la máxima precisión para cada usuario, considerando todas las posiciones de las recomendaciones. Esto es un buen indicador de rendimiento.\n",
        "\n",
        "5. **Coverage: 8.33e-05:** La cobertura es muy baja (0.0083%). Esto podría significar que el modelo tiene un conjunto limitado de elementos recomendados en comparación con el conjunto total de elementos posibles. Una mayor cobertura sería deseable para garantizar que el modelo pueda recomendar una amplia variedad de elementos.\n",
        "\n",
        "En resumen, el modelo tiene un recall perfecto y una priorización efectiva de los elementos relevantes, pero la baja precisión y cobertura indican áreas donde podría mejorarse. Es crucial equilibrar la precisión y la cobertura para garantizar que el modelo proporcione recomendaciones relevantes y diversificadas."
      ]
    },
    {
      "cell_type": "code",
      "execution_count": 56,
      "metadata": {},
      "outputs": [],
      "source": [
        "# https://medium.com/decathlondigital/building-a-rnn-recommendation-engine-with-tensorflow-505644aa9ff3\n",
        "\n",
        "# https://medium.com/@karina.condeixa/building-a-ranking-based-recommendations-system-e3adeb2c00f7\n",
        "\n",
        "# https://medium.com/@m_n_malaeb/recall-and-precision-at-k-for-recommender-systems-618483226c54\n",
        "\n",
        "# https://towardsdatascience.com/evaluation-metrics-for-recommendation-systems-an-overview-71290690ecba\n",
        "\n",
        "# https://sdsawtelle.github.io/blog/output/mean-average-precision-MAP-for-recommender-systems.html?source=post_page-----71290690ecba--------------------------------"
      ]
    },
    {
      "cell_type": "code",
      "execution_count": 57,
      "metadata": {},
      "outputs": [],
      "source": [
        "# x_test[(x_test['userId'] == 422)]"
      ]
    },
    {
      "cell_type": "code",
      "execution_count": 58,
      "metadata": {},
      "outputs": [],
      "source": [
        "# #Concatenar el dataframe de test con el objeto series de claificaciones\n",
        "# df_test_concat = pd.concat([x_test, y_test], axis=1)\n",
        "# #Obtenemos un dataframe para un único usuario\n",
        "# df_test_by_unq_user = df_test_concat.loc[df_test_concat['userId'] == 422]\n",
        "# #Obtenemos un objeto Series con la columna rating a predecir. \n",
        "# y_test_by_unq_user = df_test_by_unq_user['rating']\n"
      ]
    },
    {
      "cell_type": "code",
      "execution_count": 59,
      "metadata": {},
      "outputs": [],
      "source": [
        "# df_test_by_unq_user"
      ]
    },
    {
      "cell_type": "code",
      "execution_count": 60,
      "metadata": {},
      "outputs": [],
      "source": [
        "# predictions = model_a6.predict([df_test_by_unq_user['userId'], df_test_by_unq_user['movieId']])"
      ]
    },
    {
      "cell_type": "code",
      "execution_count": 61,
      "metadata": {},
      "outputs": [],
      "source": [
        "# predictions"
      ]
    },
    {
      "cell_type": "code",
      "execution_count": 62,
      "metadata": {},
      "outputs": [],
      "source": [
        "# x_test"
      ]
    },
    {
      "cell_type": "code",
      "execution_count": 63,
      "metadata": {},
      "outputs": [],
      "source": [
        "# predictions.shape"
      ]
    },
    {
      "cell_type": "code",
      "execution_count": 64,
      "metadata": {},
      "outputs": [],
      "source": [
        "# predictions"
      ]
    },
    {
      "cell_type": "code",
      "execution_count": 65,
      "metadata": {},
      "outputs": [],
      "source": [
        "# y_test.shape"
      ]
    },
    {
      "cell_type": "code",
      "execution_count": 66,
      "metadata": {},
      "outputs": [],
      "source": [
        "# y_test"
      ]
    },
    {
      "cell_type": "code",
      "execution_count": 67,
      "metadata": {},
      "outputs": [],
      "source": [
        "# y_aux = y_test\n",
        "# y_aux"
      ]
    },
    {
      "cell_type": "code",
      "execution_count": 68,
      "metadata": {},
      "outputs": [],
      "source": [
        "# import numpy as np\n",
        "\n",
        "# def get_user_ratings(y_true):\n",
        "#     \"\"\"\n",
        "#     Obtiene las calificaciones reales de los usuarios.\n",
        "\n",
        "#     Args:\n",
        "#         y_true (pd.Series): Serie de pandas que contiene las calificaciones reales de los usuarios.\n",
        "\n",
        "#     Returns:\n",
        "#         dict: Un diccionario que mapea los índices de usuarios a sus calificaciones reales.\n",
        "#     \"\"\"\n",
        "#     user_ratings = {}\n",
        "#     for user_id, rating in y_true.items():\n",
        "#         user_ratings.setdefault(user_id, []).append(rating)\n",
        "#     return user_ratings\n",
        "\n",
        "# # Transformar y_true en un diccionario de calificaciones de usuario\n",
        "# y_true_dict = get_user_ratings(y_test)\n",
        "\n",
        "# # Convertir y_pred en una lista de listas de calificaciones predichas\n",
        "# y_pred_list = y_pred.tolist()\n",
        "\n",
        "# # Suponiendo que y_pred es una lista de calificaciones predichas para cada usuario en el mismo orden que y_true\n",
        "# y_pred_dict = {}\n",
        "# for i, (user_id, rating) in enumerate(y_test.items()):\n",
        "#     y_pred_dict[user_id] = y_pred_list[i]\n",
        "\n",
        "# # Ejemplo de cómo usar estos datos transformados\n",
        "# print(\"Calificaciones reales del usuario 190102:\", y_true_dict[190102])\n",
        "# print(\"Calificación predicha del usuario 190102:\", y_pred_dict[190102])\n"
      ]
    },
    {
      "cell_type": "code",
      "execution_count": 69,
      "metadata": {},
      "outputs": [],
      "source": [
        "\n",
        "# def mean_reciprocal_rank(y_true, y_pred):\n",
        "#     \"\"\"\n",
        "#     Calcula el Mean Reciprocal Rank para las predicciones del modelo.\n",
        "\n",
        "#     Args:\n",
        "#         y_true (list): Lista de listas que contiene las películas reales que cada usuario ha visto.\n",
        "#         y_pred (list): Lista de listas que contiene las películas recomendadas por el modelo para cada usuario.\n",
        "\n",
        "#     Returns:\n",
        "#         float: El Mean Reciprocal Rank para todos los usuarios.\n",
        "#     \"\"\"\n",
        "#     reciprocal_ranks = []\n",
        "#     total_users = len(y_true)\n",
        "#     for i, (user_id, rating) in enumerate(y_test.items()):\n",
        "#         relevant_items = set(y_true[user_id])\n",
        "#         rank = next((idx for idx, val in enumerate(y_pred[i]) if val in relevant_items), None)\n",
        "#         if rank is not None:\n",
        "#             reciprocal_ranks.append(1.0 / (rank + 1))\n",
        "#     mean_reciprocal_rank = sum(reciprocal_ranks) / total_users\n",
        "#     return mean_reciprocal_rank"
      ]
    },
    {
      "cell_type": "code",
      "execution_count": 70,
      "metadata": {},
      "outputs": [],
      "source": [
        "# print(\"Mean Reciprocal Rank: {}\".format(mean_reciprocal_rank(y_true_dict, y_pred_list)))"
      ]
    },
    {
      "cell_type": "code",
      "execution_count": 71,
      "metadata": {},
      "outputs": [],
      "source": [
        "# from collections import defaultdict\n",
        "\n",
        "\n",
        "\n",
        "# def precision_at_k(y_true, y_pred, k):\n",
        "#     \"\"\"\n",
        "#     Calcula la Precision@K para las predicciones del modelo.\n",
        "\n",
        "#     Args:\n",
        "#         y_true (list): Lista de listas que contiene las películas reales que cada usuario ha visto.\n",
        "#         y_pred (list): Lista de listas que contiene las películas recomendadas por el modelo para cada usuario.\n",
        "#         k (int): El número de recomendaciones consideradas para el cálculo de la Precision@K.\n",
        "\n",
        "#     Returns:\n",
        "#         float: El valor medio de la Precision@K para todos los usuarios.\n",
        "#     \"\"\"\n",
        "#     precision_sum = 0\n",
        "#     total_users = len(y_true)\n",
        "#     for i in range(total_users):\n",
        "#         true_positives = len(set(y_true[i]) & set(y_pred[i][:k]))\n",
        "#         precision_sum += true_positives / float(k)\n",
        "#     precision_at_k = precision_sum / total_users\n",
        "#     return precision_at_k\n",
        "\n",
        "# def f1_score(y_true, y_pred, k):\n",
        "#     \"\"\"\n",
        "#     Calcula el F1 Score para las predicciones del modelo.\n",
        "\n",
        "#     Args:\n",
        "#         y_true (list): Lista de listas que contiene las películas reales que cada usuario ha visto.\n",
        "#         y_pred (list): Lista de listas que contiene las películas recomendadas por el modelo para cada usuario.\n",
        "#         k (int): El número de recomendaciones consideradas para el cálculo del F1 Score.\n",
        "\n",
        "#     Returns:\n",
        "#         float: El valor medio del F1 Score para todos los usuarios.\n",
        "#     \"\"\"\n",
        "#     precision = precision_at_k(y_true, y_pred, k)\n",
        "#     recall = recall_at_k(y_true, y_pred, k)\n",
        "#     f1 = 2 * (precision * recall) / (precision + recall)\n",
        "#     return f1\n",
        "\n",
        "# def average_precision(y_true, y_pred, k):\n",
        "#     \"\"\"\n",
        "#     Calcula el Mean Average Precision@K para las predicciones del modelo.\n",
        "\n",
        "#     Args:\n",
        "#         y_true (list): Lista de listas que contiene las películas reales que cada usuario ha visto.\n",
        "#         y_pred (list): Lista de listas que contiene las películas recomendadas por el modelo para cada usuario.\n",
        "#         k (int): El número de recomendaciones consideradas para el cálculo del Mean Average Precision@K.\n",
        "\n",
        "#     Returns:\n",
        "#         float: El valor medio del Mean Average Precision@K para todos los usuarios.\n",
        "#     \"\"\"\n",
        "#     average_precision_sum = 0\n",
        "#     total_users = len(y_true)\n",
        "#     for i in range(total_users):\n",
        "#         true_positives = len(set(y_true[i]) & set(y_pred[i][:k]))\n",
        "#         average_precision_sum += true_positives / float(k)\n",
        "#     mean_average_precision = average_precision_sum / total_users\n",
        "#     return mean_average_precision\n",
        "\n",
        "# def discounted_cumulative_gain(y_true, y_pred, k):\n",
        "#     \"\"\"\n",
        "#     Calcula el Discounted Cumulative Gain para las predicciones del modelo.\n",
        "\n",
        "#     Args:\n",
        "#         y_true (list): Lista de listas que contiene las películas reales que cada usuario ha visto.\n",
        "#         y_pred (list): Lista de listas que contiene las películas recomendadas por el modelo para cada usuario.\n",
        "#         k (int): El número de recomendaciones consideradas para el cálculo del Discounted Cumulative Gain.\n",
        "\n",
        "#     Returns:\n",
        "#         list: Una lista que contiene el Discounted Cumulative Gain para cada usuario.\n",
        "#     \"\"\"\n",
        "#     dcg_values = []\n",
        "#     total_users = len(y_true)\n",
        "#     for i in range(total_users):\n",
        "#         true_items = y_true[i]\n",
        "#         pred_items = y_pred[i][:k]\n",
        "#         dcg = 0\n",
        "#         for idx, item in enumerate(pred_items):\n",
        "#             if item in true_items:\n",
        "#                 relevance = 1\n",
        "#             else:\n",
        "#                 relevance = 0\n",
        "#             dcg += (2 ** relevance - 1) / (log2(idx + 2))\n",
        "#         dcg_values.append(dcg)\n",
        "#     return dcg_values\n",
        "\n",
        "# def ideal_discounted_cumulative_gain(y_true, k):\n",
        "#     \"\"\"\n",
        "#     Calcula el Ideal Discounted Cumulative Gain para las predicciones del modelo.\n",
        "\n",
        "#     Args:\n",
        "#         y_true (list): Lista de listas que contiene las películas reales que cada usuario ha visto.\n",
        "#         k (int): El número de recomendaciones consideradas para el cálculo del Ideal Discounted Cumulative Gain.\n",
        "\n",
        "#     Returns:\n",
        "#         list: Una lista que contiene el Ideal Discounted Cumulative Gain para cada usuario.\n",
        "#     \"\"\"\n",
        "#     idcg_values = []\n",
        "#     total_users = len(y_true)\n",
        "#     for i in range(total_users):\n",
        "#         true_items = y_true[i]\n",
        "#         num_true_items = len(true_items)\n",
        "#         num_relevant_items = min(num_true_items, k)\n",
        "#         idcg = sum((2 ** 1 - 1) / (log2(idx + 2)) for idx in range(num_relevant_items))\n",
        "#         idcg_values.append(idcg)\n",
        "#     return idcg_values\n",
        "\n",
        "# def normalized_discounted_cumulative_gain(y_true, y_pred, k):\n",
        "#     \"\"\"\n",
        "#     Calcula el Normalized Discounted Cumulative Gain para las predicciones del modelo.\n",
        "\n",
        "#     Args:\n",
        "#         y_true (list): Lista de listas que contiene las películas reales que cada usuario ha visto.\n",
        "#         y_pred (list): Lista de listas que contiene las películas recomendadas por el modelo para cada usuario.\n",
        "#         k (int): El número de recomendaciones consideradas para el cálculo del Normalized Discounted Cumulative Gain.\n",
        "\n",
        "#     Returns:\n",
        "#         list: Una lista que contiene el Normalized Discounted Cumulative Gain para cada usuario.\n",
        "#     \"\"\"\n",
        "#     dcg = discounted_cumulative_gain(y_true, y_pred, k)\n",
        "#     idcg = ideal_discounted_cumulative_gain(y_true, k)\n",
        "#     ndcg_values = [dcg_val / idcg_val if idcg_val > 0 else 0 for dcg_val, idcg_val in zip(dcg, idcg)]\n",
        "#     return ndcg_values"
      ]
    },
    {
      "cell_type": "code",
      "execution_count": 72,
      "metadata": {},
      "outputs": [],
      "source": [
        "# # Definir el valor de K\n",
        "# k = 3\n",
        "\n",
        "# print(\"Recall@{}: {}\".format(k, recall_at_k(y_test, y_pred, k)))\n",
        "# print(\"Precision@{}: {}\".format(k, precision_at_k(y_test, y_pred, k)))\n",
        "# print(\"F1 Score@{}: {}\".format(k, f1_score(y_test, y_pred, k)))\n",
        "# print(\"Mean Average Precision@{}: {}\".format(k, average_precision(y_test, y_pred, k)))\n",
        "# print(\"Mean Reciprocal Rank: {}\".format(mean_reciprocal_rank(y_test, y_pred)))\n",
        "# print(\"Normalized Discounted Cumulative Gain@{}: {}\".format(k, normalized_discounted_cumulative_gain(y_test, y_pred, k)))"
      ]
    },
    {
      "cell_type": "markdown",
      "metadata": {
        "id": "axPNvKSzPZSb"
      },
      "source": [
        "### Arquitectura 7"
      ]
    },
    {
      "cell_type": "code",
      "execution_count": 73,
      "metadata": {
        "id": "O3YTwFY9PZSb"
      },
      "outputs": [],
      "source": [
        "K.clear_session()\n",
        "tf.random.set_seed(51)\n",
        "np.random.seed(51)"
      ]
    },
    {
      "cell_type": "code",
      "execution_count": 74,
      "metadata": {
        "id": "7C1Kc9j5PZSb"
      },
      "outputs": [
        {
          "name": "stdout",
          "output_type": "stream",
          "text": [
            "Model: \"model_y\"\n",
            "__________________________________________________________________________________________________\n",
            " Layer (type)                   Output Shape         Param #     Connected to                     \n",
            "==================================================================================================\n",
            " user_id (InputLayer)           [(None, 1)]          0           []                               \n",
            "                                                                                                  \n",
            " item_id (InputLayer)           [(None, 1)]          0           []                               \n",
            "                                                                                                  \n",
            " user_emb (Embedding)           (None, 1, 10)        697170      ['user_id[0][0]']                \n",
            "                                                                                                  \n",
            " item_emb (Embedding)           (None, 1, 10)        134920      ['item_id[0][0]']                \n",
            "                                                                                                  \n",
            " concat (Concatenate)           (None, 1, 20)        0           ['user_emb[0][0]',               \n",
            "                                                                  'item_emb[0][0]']               \n",
            "                                                                                                  \n",
            " flat (Flatten)                 (None, 20)           0           ['concat[0][0]']                 \n",
            "                                                                                                  \n",
            " dense (Dense)                  (None, 128)          2688        ['flat[0][0]']                   \n",
            "                                                                                                  \n",
            " dropout (Dropout)              (None, 128)          0           ['dense[0][0]']                  \n",
            "                                                                                                  \n",
            " batch_normalization (BatchNorm  (None, 128)         512         ['dropout[0][0]']                \n",
            " alization)                                                                                       \n",
            "                                                                                                  \n",
            " dense_1 (Dense)                (None, 64)           8256        ['batch_normalization[0][0]']    \n",
            "                                                                                                  \n",
            " dropout_1 (Dropout)            (None, 64)           0           ['dense_1[0][0]']                \n",
            "                                                                                                  \n",
            " batch_normalization_1 (BatchNo  (None, 64)          256         ['dropout_1[0][0]']              \n",
            " rmalization)                                                                                     \n",
            "                                                                                                  \n",
            " prediction (Dense)             (None, 1)            65          ['batch_normalization_1[0][0]']  \n",
            "                                                                                                  \n",
            "==================================================================================================\n",
            "Total params: 843,867\n",
            "Trainable params: 843,483\n",
            "Non-trainable params: 384\n",
            "__________________________________________________________________________________________________\n"
          ]
        }
      ],
      "source": [
        "hidden_units = [128, 64]\n",
        "\n",
        "user_input = Input(shape=(1,), name=\"user_id\", dtype=tf.int32)\n",
        "item_input = Input(shape=(1,), name=\"item_id\", dtype=tf.int32)\n",
        "user_embedding = Embedding(n_users,\n",
        "                                  n_latent_factors,\n",
        "                                  name=\"user_emb\")(user_input)\n",
        "item_embedding = Embedding(n_movies,\n",
        "                                  n_latent_factors,\n",
        "                                  name=\"item_emb\")(item_input)\n",
        "\n",
        "concatenated = Concatenate(name=\"concat\")([user_embedding, item_embedding])\n",
        "out = Flatten(name=\"flat\")(concatenated)\n",
        "\n",
        "for n_hidden in hidden_units:\n",
        "    out = Dense(n_hidden,\n",
        "                       activation=\"relu\")(out)\n",
        "    out = Dropout(0.4)(out)\n",
        "    out = BatchNormalization()(out)\n",
        "\n",
        "out = Dense(1, activation=\"sigmoid\", name=\"prediction\")(out)\n",
        "\n",
        "model_a7 = Model(inputs = [user_input, item_input],\n",
        "                      outputs = out, name=\"model_y\")\n",
        "\n",
        "model_a7.compile(loss=loss_function, optimizer = Adam(learning_rate=lr) )\n",
        "\n",
        "model_a7.summary()"
      ]
    },
    {
      "cell_type": "markdown",
      "metadata": {},
      "source": [
        "# A1"
      ]
    },
    {
      "cell_type": "code",
      "execution_count": 75,
      "metadata": {},
      "outputs": [
        {
          "name": "stdout",
          "output_type": "stream",
          "text": [
            "Epoch 1/150\n",
            "1250/1250 [==============================] - 11s 8ms/step - loss: 13.4858 - val_loss: 13.5428\n",
            "Epoch 2/150\n",
            "1250/1250 [==============================] - 9s 8ms/step - loss: 13.3597 - val_loss: 13.5099\n",
            "Epoch 3/150\n",
            "1250/1250 [==============================] - 9s 7ms/step - loss: 12.7179 - val_loss: 13.3535\n",
            "Epoch 4/150\n",
            "1250/1250 [==============================] - 9s 7ms/step - loss: 11.3699 - val_loss: 13.0367\n",
            "Epoch 5/150\n",
            "1250/1250 [==============================] - 9s 7ms/step - loss: 9.5474 - val_loss: 12.5913\n",
            "Epoch 6/150\n",
            "1250/1250 [==============================] - 9s 8ms/step - loss: 7.6047 - val_loss: 12.0838\n",
            "Epoch 7/150\n",
            "1250/1250 [==============================] - 9s 7ms/step - loss: 5.8588 - val_loss: 11.5897\n",
            "Epoch 8/150\n",
            "1250/1250 [==============================] - 10s 8ms/step - loss: 4.4692 - val_loss: 11.1606\n",
            "Epoch 9/150\n",
            "1250/1250 [==============================] - 10s 8ms/step - loss: 3.4215 - val_loss: 10.8120\n",
            "Epoch 10/150\n",
            "1250/1250 [==============================] - 11s 9ms/step - loss: 2.6401 - val_loss: 10.5330\n",
            "Epoch 11/150\n",
            "1250/1250 [==============================] - 12s 9ms/step - loss: 2.0543 - val_loss: 10.3170\n",
            "Epoch 12/150\n",
            "1250/1250 [==============================] - 11s 9ms/step - loss: 1.6116 - val_loss: 10.1458\n",
            "Epoch 13/150\n",
            "1250/1250 [==============================] - 11s 9ms/step - loss: 1.2729 - val_loss: 10.0139\n",
            "Epoch 14/150\n",
            "1250/1250 [==============================] - 11s 9ms/step - loss: 1.0120 - val_loss: 9.9089\n",
            "Epoch 15/150\n",
            "1250/1250 [==============================] - 11s 9ms/step - loss: 0.8090 - val_loss: 9.8277\n",
            "Epoch 16/150\n",
            "1250/1250 [==============================] - 11s 9ms/step - loss: 0.6506 - val_loss: 9.7670\n",
            "Epoch 17/150\n",
            "1250/1250 [==============================] - 12s 10ms/step - loss: 0.5262 - val_loss: 9.7175\n",
            "Epoch 18/150\n",
            "1250/1250 [==============================] - 10s 8ms/step - loss: 0.4281 - val_loss: 9.6837\n",
            "Epoch 19/150\n",
            "1250/1250 [==============================] - 10s 8ms/step - loss: 0.3500 - val_loss: 9.6545\n",
            "Epoch 20/150\n",
            "1250/1250 [==============================] - 11s 9ms/step - loss: 0.2875 - val_loss: 9.6358\n",
            "Epoch 21/150\n",
            "1250/1250 [==============================] - 10s 8ms/step - loss: 0.2373 - val_loss: 9.6228\n",
            "Epoch 22/150\n",
            "1250/1250 [==============================] - 9s 8ms/step - loss: 0.1968 - val_loss: 9.6127\n",
            "Epoch 23/150\n",
            "1250/1250 [==============================] - 10s 8ms/step - loss: 0.1641 - val_loss: 9.6046\n",
            "Epoch 24/150\n",
            "1250/1250 [==============================] - 10s 8ms/step - loss: 0.1375 - val_loss: 9.5992\n",
            "Epoch 25/150\n",
            "1250/1250 [==============================] - 10s 8ms/step - loss: 0.1160 - val_loss: 9.5969\n",
            "Epoch 26/150\n",
            "1250/1250 [==============================] - 10s 8ms/step - loss: 0.0983 - val_loss: 9.5931\n",
            "Epoch 27/150\n",
            "1250/1250 [==============================] - 11s 8ms/step - loss: 0.0841 - val_loss: 9.5903\n",
            "Epoch 28/150\n",
            "1250/1250 [==============================] - 9s 7ms/step - loss: 0.0724 - val_loss: 9.5898\n",
            "Epoch 29/150\n",
            "1250/1250 [==============================] - 10s 8ms/step - loss: 0.0629 - val_loss: 9.5844\n",
            "Epoch 30/150\n",
            "1250/1250 [==============================] - 11s 9ms/step - loss: 0.0549 - val_loss: 9.5798\n",
            "Epoch 31/150\n",
            "1250/1250 [==============================] - 10s 8ms/step - loss: 0.0486 - val_loss: 9.5806\n",
            "Epoch 32/150\n",
            "1250/1250 [==============================] - 11s 9ms/step - loss: 0.0432 - val_loss: 9.5769\n",
            "Epoch 33/150\n",
            "1250/1250 [==============================] - 11s 9ms/step - loss: 0.0389 - val_loss: 9.5705\n",
            "Epoch 34/150\n",
            "1250/1250 [==============================] - 21s 17ms/step - loss: 0.0353 - val_loss: 9.5702\n",
            "Epoch 35/150\n",
            "1250/1250 [==============================] - 19s 15ms/step - loss: 0.0323 - val_loss: 9.5631\n",
            "Epoch 36/150\n",
            "1250/1250 [==============================] - 12s 10ms/step - loss: 0.0299 - val_loss: 9.5673\n",
            "Epoch 37/150\n",
            "1250/1250 [==============================] - 14s 11ms/step - loss: 0.0278 - val_loss: 9.5584\n",
            "Epoch 38/150\n",
            "1250/1250 [==============================] - 12s 10ms/step - loss: 0.0261 - val_loss: 9.5548\n",
            "Epoch 39/150\n",
            "1250/1250 [==============================] - 12s 10ms/step - loss: 0.0246 - val_loss: 9.5473\n",
            "Epoch 40/150\n",
            "1250/1250 [==============================] - 12s 10ms/step - loss: 0.0235 - val_loss: 9.5460\n",
            "Epoch 41/150\n",
            "1250/1250 [==============================] - 14s 11ms/step - loss: 0.0224 - val_loss: 9.5372\n",
            "Epoch 42/150\n",
            "1250/1250 [==============================] - 12s 9ms/step - loss: 0.0216 - val_loss: 9.5348\n",
            "Epoch 43/150\n",
            "1250/1250 [==============================] - 12s 10ms/step - loss: 0.0207 - val_loss: 9.5296\n",
            "Epoch 44/150\n",
            "1250/1250 [==============================] - 10s 8ms/step - loss: 0.0201 - val_loss: 9.5296\n",
            "Epoch 45/150\n",
            "1250/1250 [==============================] - 10s 8ms/step - loss: 0.0196 - val_loss: 9.5210\n",
            "Epoch 46/150\n",
            "1250/1250 [==============================] - 12s 9ms/step - loss: 0.0191 - val_loss: 9.5190\n",
            "Epoch 47/150\n",
            "1250/1250 [==============================] - 11s 9ms/step - loss: 0.0187 - val_loss: 9.5124\n",
            "Epoch 48/150\n",
            "1250/1250 [==============================] - 12s 10ms/step - loss: 0.0183 - val_loss: 9.5083\n",
            "Epoch 49/150\n",
            "1250/1250 [==============================] - 13s 10ms/step - loss: 0.0179 - val_loss: 9.4987\n",
            "Epoch 50/150\n",
            "1250/1250 [==============================] - 12s 10ms/step - loss: 0.0177 - val_loss: 9.4974\n",
            "Epoch 51/150\n",
            "1250/1250 [==============================] - 12s 10ms/step - loss: 0.0175 - val_loss: 9.4877\n",
            "Epoch 52/150\n",
            "1250/1250 [==============================] - 12s 10ms/step - loss: 0.0173 - val_loss: 9.4851\n",
            "Epoch 53/150\n",
            "1250/1250 [==============================] - 13s 10ms/step - loss: 0.0170 - val_loss: 9.4778\n",
            "Epoch 54/150\n",
            "1250/1250 [==============================] - 12s 10ms/step - loss: 0.0168 - val_loss: 9.4720\n",
            "Epoch 55/150\n",
            "1250/1250 [==============================] - 12s 10ms/step - loss: 0.0167 - val_loss: 9.4643\n",
            "Epoch 56/150\n",
            "1250/1250 [==============================] - 12s 10ms/step - loss: 0.0166 - val_loss: 9.4597\n",
            "Epoch 57/150\n",
            "1250/1250 [==============================] - 13s 10ms/step - loss: 0.0165 - val_loss: 9.4521\n",
            "Epoch 58/150\n",
            "1250/1250 [==============================] - 13s 10ms/step - loss: 0.0163 - val_loss: 9.4464\n",
            "Epoch 59/150\n",
            "1250/1250 [==============================] - 13s 10ms/step - loss: 0.0162 - val_loss: 9.4374\n",
            "Epoch 60/150\n",
            "1250/1250 [==============================] - 12s 10ms/step - loss: 0.0161 - val_loss: 9.4363\n",
            "Epoch 61/150\n",
            "1250/1250 [==============================] - 12s 10ms/step - loss: 0.0160 - val_loss: 9.4254\n",
            "Epoch 62/150\n",
            "1250/1250 [==============================] - 13s 10ms/step - loss: 0.0160 - val_loss: 9.4218\n",
            "Epoch 63/150\n",
            "1250/1250 [==============================] - 12s 10ms/step - loss: 0.0158 - val_loss: 9.4145\n",
            "Epoch 64/150\n",
            "1250/1250 [==============================] - 12s 10ms/step - loss: 0.0158 - val_loss: 9.4076\n",
            "Epoch 65/150\n",
            "1250/1250 [==============================] - 13s 10ms/step - loss: 0.0157 - val_loss: 9.3997\n",
            "Epoch 66/150\n",
            "1250/1250 [==============================] - 13s 10ms/step - loss: 0.0156 - val_loss: 9.3931\n",
            "Epoch 67/150\n",
            "1250/1250 [==============================] - 12s 10ms/step - loss: 0.0156 - val_loss: 9.3851\n",
            "Epoch 68/150\n",
            "1250/1250 [==============================] - 13s 10ms/step - loss: 0.0155 - val_loss: 9.3809\n",
            "Epoch 69/150\n",
            "1250/1250 [==============================] - 12s 10ms/step - loss: 0.0154 - val_loss: 9.3716\n",
            "Epoch 70/150\n",
            "1250/1250 [==============================] - 12s 10ms/step - loss: 0.0154 - val_loss: 9.3666\n",
            "Epoch 71/150\n",
            "1250/1250 [==============================] - 12s 10ms/step - loss: 0.0154 - val_loss: 9.3587\n",
            "Epoch 72/150\n",
            "1250/1250 [==============================] - 15s 12ms/step - loss: 0.0153 - val_loss: 9.3536\n",
            "Epoch 73/150\n",
            "1250/1250 [==============================] - 11s 9ms/step - loss: 0.0152 - val_loss: 9.3456\n",
            "Epoch 74/150\n",
            "1250/1250 [==============================] - 10s 8ms/step - loss: 0.0152 - val_loss: 9.3394\n",
            "Epoch 75/150\n",
            "1250/1250 [==============================] - 10s 8ms/step - loss: 0.0151 - val_loss: 9.3349\n",
            "Epoch 76/150\n",
            "1250/1250 [==============================] - 10s 8ms/step - loss: 0.0151 - val_loss: 9.3292\n",
            "Epoch 77/150\n",
            "1250/1250 [==============================] - 10s 8ms/step - loss: 0.0150 - val_loss: 9.3195\n",
            "Epoch 78/150\n",
            "1250/1250 [==============================] - 10s 8ms/step - loss: 0.0150 - val_loss: 9.3128\n",
            "Epoch 79/150\n",
            "1250/1250 [==============================] - 10s 8ms/step - loss: 0.0149 - val_loss: 9.3050\n",
            "Epoch 80/150\n",
            "1250/1250 [==============================] - 10s 8ms/step - loss: 0.0149 - val_loss: 9.3000\n",
            "Epoch 81/150\n",
            "1250/1250 [==============================] - 10s 8ms/step - loss: 0.0149 - val_loss: 9.2941\n",
            "Epoch 82/150\n",
            "1250/1250 [==============================] - 10s 8ms/step - loss: 0.0148 - val_loss: 9.2860\n",
            "Epoch 83/150\n",
            "1250/1250 [==============================] - 10s 8ms/step - loss: 0.0148 - val_loss: 9.2800\n",
            "Epoch 84/150\n",
            "1250/1250 [==============================] - 11s 8ms/step - loss: 0.0147 - val_loss: 9.2695\n",
            "Epoch 85/150\n",
            "1250/1250 [==============================] - 10s 8ms/step - loss: 0.0147 - val_loss: 9.2672\n",
            "Epoch 86/150\n",
            "1250/1250 [==============================] - 10s 8ms/step - loss: 0.0146 - val_loss: 9.2617\n",
            "Epoch 87/150\n",
            "1250/1250 [==============================] - 10s 8ms/step - loss: 0.0145 - val_loss: 9.2555\n",
            "Epoch 88/150\n",
            "1250/1250 [==============================] - 10s 8ms/step - loss: 0.0146 - val_loss: 9.2500\n",
            "Epoch 89/150\n",
            "1250/1250 [==============================] - 10s 8ms/step - loss: 0.0145 - val_loss: 9.2466\n",
            "Epoch 90/150\n",
            "1250/1250 [==============================] - 10s 8ms/step - loss: 0.0145 - val_loss: 9.2380\n",
            "Epoch 91/150\n",
            "1250/1250 [==============================] - 10s 8ms/step - loss: 0.0144 - val_loss: 9.2319\n",
            "Epoch 92/150\n",
            "1250/1250 [==============================] - 10s 8ms/step - loss: 0.0144 - val_loss: 9.2229\n",
            "Epoch 93/150\n",
            "1250/1250 [==============================] - 10s 8ms/step - loss: 0.0143 - val_loss: 9.2185\n",
            "Epoch 94/150\n",
            "1250/1250 [==============================] - 10s 8ms/step - loss: 0.0143 - val_loss: 9.2101\n",
            "Epoch 95/150\n",
            "1250/1250 [==============================] - 10s 8ms/step - loss: 0.0142 - val_loss: 9.2027\n",
            "Epoch 96/150\n",
            "1250/1250 [==============================] - 10s 8ms/step - loss: 0.0143 - val_loss: 9.1992\n",
            "Epoch 97/150\n",
            "1250/1250 [==============================] - 10s 8ms/step - loss: 0.0142 - val_loss: 9.1908\n",
            "Epoch 98/150\n",
            "1250/1250 [==============================] - 10s 8ms/step - loss: 0.0141 - val_loss: 9.1859\n",
            "Epoch 99/150\n",
            "1250/1250 [==============================] - 10s 8ms/step - loss: 0.0142 - val_loss: 9.1785\n",
            "Epoch 100/150\n",
            "1250/1250 [==============================] - 10s 8ms/step - loss: 0.0140 - val_loss: 9.1721\n",
            "Epoch 101/150\n",
            "1250/1250 [==============================] - 10s 8ms/step - loss: 0.0140 - val_loss: 9.1638\n",
            "Epoch 102/150\n",
            "1250/1250 [==============================] - 10s 8ms/step - loss: 0.0139 - val_loss: 9.1614\n",
            "Epoch 103/150\n",
            "1250/1250 [==============================] - 10s 8ms/step - loss: 0.0140 - val_loss: 9.1499\n",
            "Epoch 104/150\n",
            "1250/1250 [==============================] - 10s 8ms/step - loss: 0.0140 - val_loss: 9.1459\n",
            "Epoch 105/150\n",
            "1250/1250 [==============================] - 9s 7ms/step - loss: 0.0139 - val_loss: 9.1377\n",
            "Epoch 106/150\n",
            "1250/1250 [==============================] - 9s 7ms/step - loss: 0.0139 - val_loss: 9.1321\n",
            "Epoch 107/150\n",
            "1250/1250 [==============================] - 10s 8ms/step - loss: 0.0138 - val_loss: 9.1262\n",
            "Epoch 108/150\n",
            "1250/1250 [==============================] - 9s 7ms/step - loss: 0.0138 - val_loss: 9.1210\n",
            "Epoch 109/150\n",
            "1250/1250 [==============================] - 9s 7ms/step - loss: 0.0137 - val_loss: 9.1145\n",
            "Epoch 110/150\n",
            "1250/1250 [==============================] - 9s 8ms/step - loss: 0.0137 - val_loss: 9.1089\n",
            "Epoch 111/150\n",
            "1250/1250 [==============================] - 13s 10ms/step - loss: 0.0137 - val_loss: 9.1040\n",
            "Epoch 112/150\n",
            "1250/1250 [==============================] - 10s 8ms/step - loss: 0.0136 - val_loss: 9.0981\n",
            "Epoch 113/150\n",
            "1250/1250 [==============================] - 13s 10ms/step - loss: 0.0136 - val_loss: 9.0915\n",
            "Epoch 114/150\n",
            "1250/1250 [==============================] - 13s 11ms/step - loss: 0.0135 - val_loss: 9.0870\n",
            "Epoch 115/150\n",
            "1250/1250 [==============================] - 13s 10ms/step - loss: 0.0135 - val_loss: 9.0786\n",
            "Epoch 116/150\n",
            "1250/1250 [==============================] - 12s 10ms/step - loss: 0.0136 - val_loss: 9.0723\n",
            "Epoch 117/150\n",
            "1250/1250 [==============================] - 14s 11ms/step - loss: 0.0134 - val_loss: 9.0667\n",
            "Epoch 118/150\n",
            "1250/1250 [==============================] - 14s 11ms/step - loss: 0.0134 - val_loss: 9.0599\n",
            "Epoch 119/150\n",
            "1250/1250 [==============================] - 13s 10ms/step - loss: 0.0134 - val_loss: 9.0572\n",
            "Epoch 120/150\n",
            "1250/1250 [==============================] - 13s 11ms/step - loss: 0.0134 - val_loss: 9.0467\n",
            "Epoch 121/150\n",
            "1250/1250 [==============================] - 13s 10ms/step - loss: 0.0133 - val_loss: 9.0429\n",
            "Epoch 122/150\n",
            "1250/1250 [==============================] - 13s 10ms/step - loss: 0.0133 - val_loss: 9.0341\n",
            "Epoch 123/150\n",
            "1250/1250 [==============================] - 12s 10ms/step - loss: 0.0133 - val_loss: 9.0307\n",
            "Epoch 124/150\n",
            "1250/1250 [==============================] - 14s 11ms/step - loss: 0.0132 - val_loss: 9.0240\n",
            "Epoch 125/150\n",
            "1250/1250 [==============================] - 16s 13ms/step - loss: 0.0132 - val_loss: 9.0191\n",
            "Epoch 126/150\n",
            "1250/1250 [==============================] - 14s 11ms/step - loss: 0.0132 - val_loss: 9.0134\n",
            "Epoch 127/150\n",
            "1250/1250 [==============================] - 13s 11ms/step - loss: 0.0131 - val_loss: 9.0074\n",
            "Epoch 128/150\n",
            "1250/1250 [==============================] - 13s 10ms/step - loss: 0.0131 - val_loss: 8.9989\n",
            "Epoch 129/150\n",
            "1250/1250 [==============================] - 13s 10ms/step - loss: 0.0131 - val_loss: 8.9935\n",
            "Epoch 130/150\n",
            "1250/1250 [==============================] - 13s 10ms/step - loss: 0.0130 - val_loss: 8.9875\n",
            "Epoch 131/150\n",
            "1250/1250 [==============================] - 13s 10ms/step - loss: 0.0130 - val_loss: 8.9835\n",
            "Epoch 132/150\n",
            "1250/1250 [==============================] - 13s 10ms/step - loss: 0.0130 - val_loss: 8.9795\n",
            "Epoch 133/150\n",
            "1250/1250 [==============================] - 13s 10ms/step - loss: 0.0130 - val_loss: 8.9695\n",
            "Epoch 134/150\n",
            "1250/1250 [==============================] - 13s 11ms/step - loss: 0.0129 - val_loss: 8.9680\n",
            "Epoch 135/150\n",
            "1250/1250 [==============================] - 13s 10ms/step - loss: 0.0129 - val_loss: 8.9632\n",
            "Epoch 136/150\n",
            "1250/1250 [==============================] - 13s 11ms/step - loss: 0.0129 - val_loss: 8.9576\n",
            "Epoch 137/150\n",
            "1250/1250 [==============================] - 13s 11ms/step - loss: 0.0128 - val_loss: 8.9499\n",
            "Epoch 138/150\n",
            "1250/1250 [==============================] - 13s 11ms/step - loss: 0.0128 - val_loss: 8.9427\n",
            "Epoch 139/150\n",
            "1250/1250 [==============================] - 13s 10ms/step - loss: 0.0128 - val_loss: 8.9407\n",
            "Epoch 140/150\n",
            "1250/1250 [==============================] - 13s 10ms/step - loss: 0.0127 - val_loss: 8.9360\n",
            "Epoch 141/150\n",
            "1250/1250 [==============================] - 13s 10ms/step - loss: 0.0127 - val_loss: 8.9295\n",
            "Epoch 142/150\n",
            "1250/1250 [==============================] - 13s 11ms/step - loss: 0.0127 - val_loss: 8.9273\n",
            "Epoch 143/150\n",
            "1250/1250 [==============================] - 13s 10ms/step - loss: 0.0127 - val_loss: 8.9183\n",
            "Epoch 144/150\n",
            "1250/1250 [==============================] - 13s 11ms/step - loss: 0.0126 - val_loss: 8.9141\n",
            "Epoch 145/150\n",
            "1250/1250 [==============================] - 13s 10ms/step - loss: 0.0126 - val_loss: 8.9098\n",
            "Epoch 146/150\n",
            "1250/1250 [==============================] - 13s 10ms/step - loss: 0.0126 - val_loss: 8.9041\n",
            "Epoch 147/150\n",
            "1250/1250 [==============================] - 13s 10ms/step - loss: 0.0125 - val_loss: 8.8976\n",
            "Epoch 148/150\n",
            "1250/1250 [==============================] - 13s 10ms/step - loss: 0.0125 - val_loss: 8.8933\n",
            "Epoch 149/150\n",
            "1250/1250 [==============================] - 13s 10ms/step - loss: 0.0125 - val_loss: 8.8875\n",
            "Epoch 150/150\n",
            "1250/1250 [==============================] - 13s 10ms/step - loss: 0.0125 - val_loss: 8.8839\n"
          ]
        },
        {
          "data": {
            "image/png": "[encoded data removed]",
            "text/plain": [
              "<Figure size 1000x800 with 1 Axes>"
            ]
          },
          "metadata": {},
          "output_type": "display_data"
        },
        {
          "name": "stdout",
          "output_type": "stream",
          "text": [
            "1250/1250 [==============================] - 4s 3ms/step\n",
            "RMSE: 2.98058042111432\n",
            "MAE: 2.5313239955037803\n",
            "MAPE: 74.41168138342363\n",
            "MSE: 8.883859646730016\n",
            "R2 Score: -6.890193660420645\n"
          ]
        }
      ],
      "source": [
        "history_mda1 = train_model(model_a1, [x_train['userId'], x_train['movieId']], y_train, [x_test['userId'], x_test['movieId']], y_test)\n",
        "plot_loss(history_mda1)\n",
        "# Llamar a la función para calcular métricas\n",
        "calcular_metricas(model_a1, [x_test['userId'], x_test['movieId']], y_test)"
      ]
    },
    {
      "cell_type": "markdown",
      "metadata": {},
      "source": [
        "# A2"
      ]
    },
    {
      "cell_type": "code",
      "execution_count": 76,
      "metadata": {},
      "outputs": [
        {
          "name": "stdout",
          "output_type": "stream",
          "text": [
            "Epoch 1/150\n",
            "1250/1250 [==============================] - 16s 11ms/step - loss: 1.9477 - val_loss: 1.1324\n",
            "Epoch 2/150\n",
            "1250/1250 [==============================] - 14s 11ms/step - loss: 1.2141 - val_loss: 1.1359\n",
            "Epoch 3/150\n",
            "1250/1250 [==============================] - 14s 11ms/step - loss: 1.0985 - val_loss: 1.1717\n",
            "Epoch 4/150\n",
            "1250/1250 [==============================] - 14s 11ms/step - loss: 0.9687 - val_loss: 1.2057\n",
            "Epoch 4: early stopping\n"
          ]
        },
        {
          "data": {
            "image/png": "[encoded data removed]",
            "text/plain": [
              "<Figure size 1000x800 with 1 Axes>"
            ]
          },
          "metadata": {},
          "output_type": "display_data"
        },
        {
          "name": "stdout",
          "output_type": "stream",
          "text": [
            "1250/1250 [==============================] - 4s 3ms/step\n",
            "RMSE: 1.098056716644737\n",
            "MAE: 0.8815044796466828\n",
            "MAPE: 39.5246499983006\n",
            "MSE: 1.2057285529686204\n",
            "R2 Score: -0.07086696133508608\n"
          ]
        }
      ],
      "source": [
        "history_mda2 = train_model(model_a2, [x_train['userId'], x_train['movieId']], y_train, [x_test['userId'], x_test['movieId']], y_test)\n",
        "plot_loss(history_mda2)\n",
        "calcular_metricas(model_a2, [x_test['userId'], x_test['movieId']], y_test)"
      ]
    },
    {
      "cell_type": "markdown",
      "metadata": {},
      "source": [
        "# A3"
      ]
    },
    {
      "cell_type": "code",
      "execution_count": 77,
      "metadata": {},
      "outputs": [
        {
          "name": "stdout",
          "output_type": "stream",
          "text": [
            "Epoch 1/150\n",
            "1250/1250 [==============================] - 16s 11ms/step - loss: 2.7384 - accuracy: 0.0287 - val_loss: 0.9621 - val_accuracy: 0.0318\n",
            "Epoch 2/150\n",
            "1250/1250 [==============================] - 14s 11ms/step - loss: 1.0510 - accuracy: 0.0311 - val_loss: 0.9355 - val_accuracy: 0.0318\n",
            "Epoch 3/150\n",
            "1250/1250 [==============================] - 13s 11ms/step - loss: 0.8893 - accuracy: 0.0311 - val_loss: 0.9648 - val_accuracy: 0.0318\n",
            "Epoch 4/150\n",
            "1250/1250 [==============================] - 13s 10ms/step - loss: 0.7947 - accuracy: 0.0311 - val_loss: 0.9838 - val_accuracy: 0.0318\n",
            "Epoch 5/150\n",
            "1250/1250 [==============================] - 13s 11ms/step - loss: 0.7218 - accuracy: 0.0310 - val_loss: 1.0000 - val_accuracy: 0.0318\n",
            "Epoch 5: early stopping\n"
          ]
        },
        {
          "data": {
            "image/png": "[encoded data removed]",
            "text/plain": [
              "<Figure size 1000x800 with 1 Axes>"
            ]
          },
          "metadata": {},
          "output_type": "display_data"
        },
        {
          "name": "stdout",
          "output_type": "stream",
          "text": [
            "1250/1250 [==============================] - 4s 3ms/step\n",
            "RMSE: 0.9999936686099244\n",
            "MAE: 0.7781256875127553\n",
            "MAPE: 33.28106631346815\n",
            "MSE: 0.9999873372599355\n",
            "R2 Score: 0.11186195384643882\n"
          ]
        }
      ],
      "source": [
        "history_mda3 = train_model(model_a3, [x_train['userId'], x_train['movieId']], y_train, [x_test['userId'], x_test['movieId']], y_test)\n",
        "plot_loss(history_mda3)\n",
        "calcular_metricas(model_a3, [x_test['userId'], x_test['movieId']], y_test)"
      ]
    },
    {
      "cell_type": "markdown",
      "metadata": {},
      "source": [
        "# A4"
      ]
    },
    {
      "cell_type": "code",
      "execution_count": 78,
      "metadata": {},
      "outputs": [
        {
          "name": "stdout",
          "output_type": "stream",
          "text": [
            "Epoch 1/150\n",
            "1250/1250 [==============================] - 14s 10ms/step - loss: 13.4856 - val_loss: 13.5424\n",
            "Epoch 2/150\n",
            "1250/1250 [==============================] - 12s 9ms/step - loss: 13.3545 - val_loss: 13.5022\n",
            "Epoch 3/150\n",
            "1250/1250 [==============================] - 12s 10ms/step - loss: 12.6870 - val_loss: 13.3090\n",
            "Epoch 4/150\n",
            "1250/1250 [==============================] - 12s 10ms/step - loss: 11.2884 - val_loss: 12.9189\n",
            "Epoch 5/150\n",
            "1250/1250 [==============================] - 12s 9ms/step - loss: 9.4094 - val_loss: 12.3762\n",
            "Epoch 6/150\n",
            "1250/1250 [==============================] - 12s 10ms/step - loss: 7.4296 - val_loss: 11.7671\n",
            "Epoch 7/150\n",
            "1250/1250 [==============================] - 12s 10ms/step - loss: 5.6758 - val_loss: 11.1904\n",
            "Epoch 8/150\n",
            "1250/1250 [==============================] - 12s 10ms/step - loss: 4.2949 - val_loss: 10.7011\n",
            "Epoch 9/150\n",
            "1250/1250 [==============================] - 12s 10ms/step - loss: 3.2629 - val_loss: 10.3167\n",
            "Epoch 10/150\n",
            "1250/1250 [==============================] - 12s 10ms/step - loss: 2.4987 - val_loss: 10.0179\n",
            "Epoch 11/150\n",
            "1250/1250 [==============================] - 12s 10ms/step - loss: 1.9295 - val_loss: 9.7912\n",
            "Epoch 12/150\n",
            "1250/1250 [==============================] - 12s 9ms/step - loss: 1.5029 - val_loss: 9.6182\n",
            "Epoch 13/150\n",
            "1250/1250 [==============================] - 11s 9ms/step - loss: 1.1806 - val_loss: 9.4890\n",
            "Epoch 14/150\n",
            "1250/1250 [==============================] - 11s 9ms/step - loss: 0.9345 - val_loss: 9.3880\n",
            "Epoch 15/150\n",
            "1250/1250 [==============================] - 11s 9ms/step - loss: 0.7450 - val_loss: 9.3133\n",
            "Epoch 16/150\n",
            "1250/1250 [==============================] - 11s 9ms/step - loss: 0.5982 - val_loss: 9.2584\n",
            "Epoch 17/150\n",
            "1250/1250 [==============================] - 11s 9ms/step - loss: 0.4834 - val_loss: 9.2201\n",
            "Epoch 18/150\n",
            "1250/1250 [==============================] - 11s 9ms/step - loss: 0.3931 - val_loss: 9.1874\n",
            "Epoch 19/150\n",
            "1250/1250 [==============================] - 11s 9ms/step - loss: 0.3214 - val_loss: 9.1708\n",
            "Epoch 20/150\n",
            "1250/1250 [==============================] - 12s 9ms/step - loss: 0.2645 - val_loss: 9.1527\n",
            "Epoch 21/150\n",
            "1250/1250 [==============================] - 11s 9ms/step - loss: 0.2188 - val_loss: 9.1452\n",
            "Epoch 22/150\n",
            "1250/1250 [==============================] - 11s 9ms/step - loss: 0.1818 - val_loss: 9.1372\n",
            "Epoch 23/150\n",
            "1250/1250 [==============================] - 11s 9ms/step - loss: 0.1521 - val_loss: 9.1345\n",
            "Epoch 24/150\n",
            "1250/1250 [==============================] - 11s 9ms/step - loss: 0.1280 - val_loss: 9.1292\n",
            "Epoch 25/150\n",
            "1250/1250 [==============================] - 11s 9ms/step - loss: 0.1084 - val_loss: 9.1315\n",
            "Epoch 26/150\n",
            "1250/1250 [==============================] - 11s 9ms/step - loss: 0.0924 - val_loss: 9.1260\n",
            "Epoch 27/150\n",
            "1250/1250 [==============================] - 11s 9ms/step - loss: 0.0792 - val_loss: 9.1282\n",
            "Epoch 28/150\n",
            "1250/1250 [==============================] - 11s 9ms/step - loss: 0.0685 - val_loss: 9.1245\n",
            "Epoch 29/150\n",
            "1250/1250 [==============================] - 11s 9ms/step - loss: 0.0597 - val_loss: 9.1275\n",
            "Epoch 30/150\n",
            "1250/1250 [==============================] - 11s 9ms/step - loss: 0.0525 - val_loss: 9.1205\n",
            "Epoch 31/150\n",
            "1250/1250 [==============================] - 11s 9ms/step - loss: 0.0465 - val_loss: 9.1244\n",
            "Epoch 32/150\n",
            "1250/1250 [==============================] - 11s 9ms/step - loss: 0.0415 - val_loss: 9.1194\n",
            "Epoch 33/150\n",
            "1250/1250 [==============================] - 11s 9ms/step - loss: 0.0375 - val_loss: 9.1222\n",
            "Epoch 34/150\n",
            "1250/1250 [==============================] - 11s 9ms/step - loss: 0.0340 - val_loss: 9.1166\n",
            "Epoch 35/150\n",
            "1250/1250 [==============================] - 11s 8ms/step - loss: 0.0312 - val_loss: 9.1172\n",
            "Epoch 36/150\n",
            "1250/1250 [==============================] - 11s 9ms/step - loss: 0.0289 - val_loss: 9.1107\n",
            "Epoch 37/150\n",
            "1250/1250 [==============================] - 11s 9ms/step - loss: 0.0269 - val_loss: 9.1126\n",
            "Epoch 38/150\n",
            "1250/1250 [==============================] - 11s 9ms/step - loss: 0.0254 - val_loss: 9.1041\n",
            "Epoch 39/150\n",
            "1250/1250 [==============================] - 11s 9ms/step - loss: 0.0239 - val_loss: 9.1085\n",
            "Epoch 40/150\n",
            "1250/1250 [==============================] - 11s 9ms/step - loss: 0.0228 - val_loss: 9.1049\n",
            "Epoch 41/150\n",
            "1250/1250 [==============================] - 11s 9ms/step - loss: 0.0218 - val_loss: 9.0989\n",
            "Epoch 42/150\n",
            "1250/1250 [==============================] - 11s 9ms/step - loss: 0.0210 - val_loss: 9.0972\n",
            "Epoch 43/150\n",
            "1250/1250 [==============================] - 11s 9ms/step - loss: 0.0203 - val_loss: 9.0958\n",
            "Epoch 44/150\n",
            "1250/1250 [==============================] - 11s 9ms/step - loss: 0.0196 - val_loss: 9.0912\n",
            "Epoch 45/150\n",
            "1250/1250 [==============================] - 11s 9ms/step - loss: 0.0192 - val_loss: 9.0876\n",
            "Epoch 46/150\n",
            "1250/1250 [==============================] - 11s 9ms/step - loss: 0.0187 - val_loss: 9.0822\n",
            "Epoch 47/150\n",
            "1250/1250 [==============================] - 11s 9ms/step - loss: 0.0182 - val_loss: 9.0820\n",
            "Epoch 48/150\n",
            "1250/1250 [==============================] - 11s 9ms/step - loss: 0.0179 - val_loss: 9.0756\n",
            "Epoch 49/150\n",
            "1250/1250 [==============================] - 11s 9ms/step - loss: 0.0176 - val_loss: 9.0711\n",
            "Epoch 50/150\n",
            "1250/1250 [==============================] - 8s 7ms/step - loss: 0.0173 - val_loss: 9.0660\n",
            "Epoch 51/150\n",
            "1250/1250 [==============================] - 10s 8ms/step - loss: 0.0171 - val_loss: 9.0646\n",
            "Epoch 52/150\n",
            "1250/1250 [==============================] - 11s 9ms/step - loss: 0.0169 - val_loss: 9.0559\n",
            "Epoch 53/150\n",
            "1250/1250 [==============================] - 12s 10ms/step - loss: 0.0166 - val_loss: 9.0568\n",
            "Epoch 54/150\n",
            "1250/1250 [==============================] - 11s 9ms/step - loss: 0.0165 - val_loss: 9.0483\n",
            "Epoch 55/150\n",
            "1250/1250 [==============================] - 11s 9ms/step - loss: 0.0163 - val_loss: 9.0444\n",
            "Epoch 56/150\n",
            "1250/1250 [==============================] - 11s 8ms/step - loss: 0.0162 - val_loss: 9.0383\n",
            "Epoch 57/150\n",
            "1250/1250 [==============================] - 11s 9ms/step - loss: 0.0160 - val_loss: 9.0331\n",
            "Epoch 58/150\n",
            "1250/1250 [==============================] - 11s 9ms/step - loss: 0.0159 - val_loss: 9.0256\n",
            "Epoch 59/150\n",
            "1250/1250 [==============================] - 11s 9ms/step - loss: 0.0159 - val_loss: 9.0223\n",
            "Epoch 60/150\n",
            "1250/1250 [==============================] - 11s 9ms/step - loss: 0.0157 - val_loss: 9.0149\n",
            "Epoch 61/150\n",
            "1250/1250 [==============================] - 11s 9ms/step - loss: 0.0156 - val_loss: 9.0113\n",
            "Epoch 62/150\n",
            "1250/1250 [==============================] - 11s 9ms/step - loss: 0.0155 - val_loss: 9.0039\n",
            "Epoch 63/150\n",
            "1250/1250 [==============================] - 11s 9ms/step - loss: 0.0155 - val_loss: 8.9992\n",
            "Epoch 64/150\n",
            "1250/1250 [==============================] - 11s 9ms/step - loss: 0.0154 - val_loss: 8.9909\n",
            "Epoch 65/150\n",
            "1250/1250 [==============================] - 11s 9ms/step - loss: 0.0153 - val_loss: 8.9871\n",
            "Epoch 66/150\n",
            "1250/1250 [==============================] - 11s 9ms/step - loss: 0.0153 - val_loss: 8.9818\n",
            "Epoch 67/150\n",
            "1250/1250 [==============================] - 11s 9ms/step - loss: 0.0152 - val_loss: 8.9748\n",
            "Epoch 68/150\n",
            "1250/1250 [==============================] - 11s 9ms/step - loss: 0.0152 - val_loss: 8.9687\n",
            "Epoch 69/150\n",
            "1250/1250 [==============================] - 11s 9ms/step - loss: 0.0151 - val_loss: 8.9654\n",
            "Epoch 70/150\n",
            "1250/1250 [==============================] - 11s 9ms/step - loss: 0.0150 - val_loss: 8.9576\n",
            "Epoch 71/150\n",
            "1250/1250 [==============================] - 11s 9ms/step - loss: 0.0150 - val_loss: 8.9537\n",
            "Epoch 72/150\n",
            "1250/1250 [==============================] - 11s 9ms/step - loss: 0.0149 - val_loss: 8.9451\n",
            "Epoch 73/150\n",
            "1250/1250 [==============================] - 11s 9ms/step - loss: 0.0148 - val_loss: 8.9397\n",
            "Epoch 74/150\n",
            "1250/1250 [==============================] - 11s 9ms/step - loss: 0.0148 - val_loss: 8.9326\n",
            "Epoch 75/150\n",
            "1250/1250 [==============================] - 11s 9ms/step - loss: 0.0148 - val_loss: 8.9280\n",
            "Epoch 76/150\n",
            "1250/1250 [==============================] - 12s 9ms/step - loss: 0.0147 - val_loss: 8.9212\n",
            "Epoch 77/150\n",
            "1250/1250 [==============================] - 11s 9ms/step - loss: 0.0146 - val_loss: 8.9158\n",
            "Epoch 78/150\n",
            "1250/1250 [==============================] - 11s 9ms/step - loss: 0.0146 - val_loss: 8.9064\n",
            "Epoch 79/150\n",
            "1250/1250 [==============================] - 11s 9ms/step - loss: 0.0146 - val_loss: 8.9050\n",
            "Epoch 80/150\n",
            "1250/1250 [==============================] - 11s 9ms/step - loss: 0.0145 - val_loss: 8.8949\n",
            "Epoch 81/150\n",
            "1250/1250 [==============================] - 11s 9ms/step - loss: 0.0145 - val_loss: 8.8915\n",
            "Epoch 82/150\n",
            "1250/1250 [==============================] - 11s 9ms/step - loss: 0.0144 - val_loss: 8.8838\n",
            "Epoch 83/150\n",
            "1250/1250 [==============================] - 12s 9ms/step - loss: 0.0144 - val_loss: 8.8761\n",
            "Epoch 84/150\n",
            "1250/1250 [==============================] - 11s 9ms/step - loss: 0.0144 - val_loss: 8.8735\n",
            "Epoch 85/150\n",
            "1250/1250 [==============================] - 11s 9ms/step - loss: 0.0142 - val_loss: 8.8680\n",
            "Epoch 86/150\n",
            "1250/1250 [==============================] - 11s 9ms/step - loss: 0.0143 - val_loss: 8.8608\n",
            "Epoch 87/150\n",
            "1250/1250 [==============================] - 11s 9ms/step - loss: 0.0143 - val_loss: 8.8537\n",
            "Epoch 88/150\n",
            "1250/1250 [==============================] - 11s 9ms/step - loss: 0.0142 - val_loss: 8.8479\n",
            "Epoch 89/150\n",
            "1250/1250 [==============================] - 11s 9ms/step - loss: 0.0141 - val_loss: 8.8438\n",
            "Epoch 90/150\n",
            "1250/1250 [==============================] - 11s 9ms/step - loss: 0.0141 - val_loss: 8.8369\n",
            "Epoch 91/150\n",
            "1250/1250 [==============================] - 11s 9ms/step - loss: 0.0141 - val_loss: 8.8328\n",
            "Epoch 92/150\n",
            "1250/1250 [==============================] - 11s 9ms/step - loss: 0.0140 - val_loss: 8.8225\n",
            "Epoch 93/150\n",
            "1250/1250 [==============================] - 11s 9ms/step - loss: 0.0140 - val_loss: 8.8184\n",
            "Epoch 94/150\n",
            "1250/1250 [==============================] - 11s 9ms/step - loss: 0.0140 - val_loss: 8.8117\n",
            "Epoch 95/150\n",
            "1250/1250 [==============================] - 11s 9ms/step - loss: 0.0139 - val_loss: 8.8058\n",
            "Epoch 96/150\n",
            "1250/1250 [==============================] - 11s 9ms/step - loss: 0.0139 - val_loss: 8.7987\n",
            "Epoch 97/150\n",
            "1250/1250 [==============================] - 11s 9ms/step - loss: 0.0139 - val_loss: 8.7952\n",
            "Epoch 98/150\n",
            "1250/1250 [==============================] - 11s 9ms/step - loss: 0.0138 - val_loss: 8.7868\n",
            "Epoch 99/150\n",
            "1250/1250 [==============================] - 11s 9ms/step - loss: 0.0138 - val_loss: 8.7831\n",
            "Epoch 100/150\n",
            "1250/1250 [==============================] - 11s 9ms/step - loss: 0.0138 - val_loss: 8.7739\n",
            "Epoch 101/150\n",
            "1250/1250 [==============================] - 11s 9ms/step - loss: 0.0137 - val_loss: 8.7700\n",
            "Epoch 102/150\n",
            "1250/1250 [==============================] - 11s 9ms/step - loss: 0.0136 - val_loss: 8.7650\n",
            "Epoch 103/150\n",
            "1250/1250 [==============================] - 11s 9ms/step - loss: 0.0137 - val_loss: 8.7588\n",
            "Epoch 104/150\n",
            "1250/1250 [==============================] - 11s 9ms/step - loss: 0.0136 - val_loss: 8.7512\n",
            "Epoch 105/150\n",
            "1250/1250 [==============================] - 12s 10ms/step - loss: 0.0135 - val_loss: 8.7476\n",
            "Epoch 106/150\n",
            "1250/1250 [==============================] - 14s 11ms/step - loss: 0.0135 - val_loss: 8.7407\n",
            "Epoch 107/150\n",
            "1250/1250 [==============================] - 16s 13ms/step - loss: 0.0135 - val_loss: 8.7380\n",
            "Epoch 108/150\n",
            "1250/1250 [==============================] - 18s 14ms/step - loss: 0.0134 - val_loss: 8.7331\n",
            "Epoch 109/150\n",
            "1250/1250 [==============================] - 14s 11ms/step - loss: 0.0134 - val_loss: 8.7271\n",
            "Epoch 110/150\n",
            "1250/1250 [==============================] - 13s 10ms/step - loss: 0.0134 - val_loss: 8.7201\n",
            "Epoch 111/150\n",
            "1250/1250 [==============================] - 12s 10ms/step - loss: 0.0133 - val_loss: 8.7143\n",
            "Epoch 112/150\n",
            "1250/1250 [==============================] - 12s 10ms/step - loss: 0.0133 - val_loss: 8.7089\n",
            "Epoch 113/150\n",
            "1250/1250 [==============================] - 12s 9ms/step - loss: 0.0133 - val_loss: 8.7016\n",
            "Epoch 114/150\n",
            "1250/1250 [==============================] - 12s 9ms/step - loss: 0.0132 - val_loss: 8.6970\n",
            "Epoch 115/150\n",
            "1250/1250 [==============================] - 12s 10ms/step - loss: 0.0132 - val_loss: 8.6934\n",
            "Epoch 116/150\n",
            "1250/1250 [==============================] - 12s 10ms/step - loss: 0.0132 - val_loss: 8.6841\n",
            "Epoch 117/150\n",
            "1250/1250 [==============================] - 12s 10ms/step - loss: 0.0132 - val_loss: 8.6824\n",
            "Epoch 118/150\n",
            "1250/1250 [==============================] - 12s 10ms/step - loss: 0.0131 - val_loss: 8.6733\n",
            "Epoch 119/150\n",
            "1250/1250 [==============================] - 12s 10ms/step - loss: 0.0131 - val_loss: 8.6702\n",
            "Epoch 120/150\n",
            "1250/1250 [==============================] - 12s 10ms/step - loss: 0.0130 - val_loss: 8.6646\n",
            "Epoch 121/150\n",
            "1250/1250 [==============================] - 11s 9ms/step - loss: 0.0130 - val_loss: 8.6611\n",
            "Epoch 122/150\n",
            "1250/1250 [==============================] - 9s 8ms/step - loss: 0.0130 - val_loss: 8.6529\n",
            "Epoch 123/150\n",
            "1250/1250 [==============================] - 12s 10ms/step - loss: 0.0129 - val_loss: 8.6480\n",
            "Epoch 124/150\n",
            "1250/1250 [==============================] - 14s 11ms/step - loss: 0.0129 - val_loss: 8.6423\n",
            "Epoch 125/150\n",
            "1250/1250 [==============================] - 13s 10ms/step - loss: 0.0129 - val_loss: 8.6369\n",
            "Epoch 126/150\n",
            "1250/1250 [==============================] - 13s 11ms/step - loss: 0.0128 - val_loss: 8.6315\n",
            "Epoch 127/150\n",
            "1250/1250 [==============================] - 13s 10ms/step - loss: 0.0128 - val_loss: 8.6255\n",
            "Epoch 128/150\n",
            "1250/1250 [==============================] - 13s 10ms/step - loss: 0.0128 - val_loss: 8.6202\n",
            "Epoch 129/150\n",
            "1250/1250 [==============================] - 13s 10ms/step - loss: 0.0128 - val_loss: 8.6160\n",
            "Epoch 130/150\n",
            "1250/1250 [==============================] - 13s 10ms/step - loss: 0.0127 - val_loss: 8.6107\n",
            "Epoch 131/150\n",
            "1250/1250 [==============================] - 13s 10ms/step - loss: 0.0127 - val_loss: 8.6036\n",
            "Epoch 132/150\n",
            "1250/1250 [==============================] - 14s 11ms/step - loss: 0.0127 - val_loss: 8.6001\n",
            "Epoch 133/150\n",
            "1250/1250 [==============================] - 13s 10ms/step - loss: 0.0127 - val_loss: 8.5956\n",
            "Epoch 134/150\n",
            "1250/1250 [==============================] - 13s 11ms/step - loss: 0.0126 - val_loss: 8.5902\n",
            "Epoch 135/150\n",
            "1250/1250 [==============================] - 13s 11ms/step - loss: 0.0126 - val_loss: 8.5839\n",
            "Epoch 136/150\n",
            "1250/1250 [==============================] - 13s 11ms/step - loss: 0.0126 - val_loss: 8.5810\n",
            "Epoch 137/150\n",
            "1250/1250 [==============================] - 13s 10ms/step - loss: 0.0125 - val_loss: 8.5739\n",
            "Epoch 138/150\n",
            "1250/1250 [==============================] - 13s 10ms/step - loss: 0.0125 - val_loss: 8.5692\n",
            "Epoch 139/150\n",
            "1250/1250 [==============================] - 12s 10ms/step - loss: 0.0125 - val_loss: 8.5651\n",
            "Epoch 140/150\n",
            "1250/1250 [==============================] - 12s 9ms/step - loss: 0.0124 - val_loss: 8.5578\n",
            "Epoch 141/150\n",
            "1250/1250 [==============================] - 12s 10ms/step - loss: 0.0124 - val_loss: 8.5542\n",
            "Epoch 142/150\n",
            "1250/1250 [==============================] - 11s 9ms/step - loss: 0.0124 - val_loss: 8.5503\n",
            "Epoch 143/150\n",
            "1250/1250 [==============================] - 13s 11ms/step - loss: 0.0124 - val_loss: 8.5438\n",
            "Epoch 144/150\n",
            "1250/1250 [==============================] - 14s 11ms/step - loss: 0.0123 - val_loss: 8.5420\n",
            "Epoch 145/150\n",
            "1250/1250 [==============================] - 13s 11ms/step - loss: 0.0123 - val_loss: 8.5347\n",
            "Epoch 146/150\n",
            "1250/1250 [==============================] - 13s 11ms/step - loss: 0.0123 - val_loss: 8.5282\n",
            "Epoch 147/150\n",
            "1250/1250 [==============================] - 13s 10ms/step - loss: 0.0123 - val_loss: 8.5259\n",
            "Epoch 148/150\n",
            "1250/1250 [==============================] - 13s 10ms/step - loss: 0.0122 - val_loss: 8.5208\n",
            "Epoch 149/150\n",
            "1250/1250 [==============================] - 13s 11ms/step - loss: 0.0121 - val_loss: 8.5165\n",
            "Epoch 150/150\n",
            "1250/1250 [==============================] - 14s 11ms/step - loss: 0.0122 - val_loss: 8.5118\n"
          ]
        },
        {
          "data": {
            "image/png": "[encoded data removed]",
            "text/plain": [
              "<Figure size 1000x800 with 1 Axes>"
            ]
          },
          "metadata": {},
          "output_type": "display_data"
        },
        {
          "name": "stdout",
          "output_type": "stream",
          "text": [
            "1250/1250 [==============================] - 4s 3ms/step\n",
            "RMSE: 2.917503024404574\n",
            "MAE: 2.465536440476465\n",
            "MAPE: 72.77262977298\n",
            "MSE: 8.511823897409835\n",
            "R2 Score: -6.559770372855942\n"
          ]
        }
      ],
      "source": [
        "history_mda4 = train_model(model_a4, [x_train['userId'], x_train['movieId']], y_train, [x_test['userId'], x_test['movieId']], y_test)\n",
        "plot_loss(history_mda4)\n",
        "calcular_metricas(model_a4, [x_test['userId'], x_test['movieId']], y_test)"
      ]
    },
    {
      "cell_type": "markdown",
      "metadata": {},
      "source": [
        "# A5"
      ]
    },
    {
      "cell_type": "code",
      "execution_count": 79,
      "metadata": {},
      "outputs": [
        {
          "name": "stdout",
          "output_type": "stream",
          "text": [
            "Epoch 1/150\n",
            "1250/1250 [==============================] - 16s 11ms/step - loss: 1.2316 - val_loss: 0.9137\n",
            "Epoch 2/150\n",
            "1250/1250 [==============================] - 12s 10ms/step - loss: 0.7309 - val_loss: 0.9102\n",
            "Epoch 3/150\n",
            "1250/1250 [==============================] - 12s 10ms/step - loss: 0.5791 - val_loss: 0.9744\n",
            "Epoch 4/150\n",
            "1250/1250 [==============================] - 13s 10ms/step - loss: 0.4653 - val_loss: 1.0569\n",
            "Epoch 5/150\n",
            "1250/1250 [==============================] - 13s 10ms/step - loss: 0.3608 - val_loss: 1.0709\n",
            "Epoch 5: early stopping\n"
          ]
        },
        {
          "data": {
            "image/png": "[encoded data removed]",
            "text/plain": [
              "<Figure size 1000x800 with 1 Axes>"
            ]
          },
          "metadata": {},
          "output_type": "display_data"
        },
        {
          "name": "stdout",
          "output_type": "stream",
          "text": [
            "1250/1250 [==============================] - 4s 3ms/step\n",
            "RMSE: 1.0348296214572084\n",
            "MAE: 0.78962213588655\n",
            "MAPE: 34.88688099462598\n",
            "MSE: 1.070872345445269\n",
            "R2 Score: 0.048905483973724184\n"
          ]
        }
      ],
      "source": [
        "history_mda5 = train_model(model_a5, [x_train['userId'], x_train['movieId']], y_train, [x_test['userId'], x_test['movieId']], y_test)\n",
        "plot_loss(history_mda5)\n",
        "calcular_metricas(model_a5, [x_test['userId'], x_test['movieId']], y_test)"
      ]
    },
    {
      "cell_type": "markdown",
      "metadata": {},
      "source": [
        "# A6"
      ]
    },
    {
      "cell_type": "code",
      "execution_count": 80,
      "metadata": {},
      "outputs": [
        {
          "name": "stdout",
          "output_type": "stream",
          "text": [
            "Epoch 1/150\n",
            "1250/1250 [==============================] - 17s 11ms/step - loss: 12.4633 - val_loss: 11.4950\n",
            "Epoch 2/150\n",
            "1250/1250 [==============================] - 13s 11ms/step - loss: 10.3513 - val_loss: 9.6673\n",
            "Epoch 3/150\n",
            "1250/1250 [==============================] - 13s 10ms/step - loss: 8.1692 - val_loss: 8.0303\n",
            "Epoch 4/150\n",
            "1250/1250 [==============================] - 13s 10ms/step - loss: 5.9942 - val_loss: 6.6257\n",
            "Epoch 5/150\n",
            "1250/1250 [==============================] - 14s 11ms/step - loss: 4.1733 - val_loss: 5.5421\n",
            "Epoch 6/150\n",
            "1250/1250 [==============================] - 14s 11ms/step - loss: 2.8838 - val_loss: 4.7969\n",
            "Epoch 7/150\n",
            "1250/1250 [==============================] - 13s 10ms/step - loss: 2.0358 - val_loss: 4.3218\n",
            "Epoch 8/150\n",
            "1250/1250 [==============================] - 14s 11ms/step - loss: 1.4751 - val_loss: 4.0259\n",
            "Epoch 9/150\n",
            "1250/1250 [==============================] - 14s 11ms/step - loss: 1.0926 - val_loss: 3.8459\n",
            "Epoch 10/150\n",
            "1250/1250 [==============================] - 14s 12ms/step - loss: 0.8240 - val_loss: 3.7381\n",
            "Epoch 11/150\n",
            "1250/1250 [==============================] - 14s 11ms/step - loss: 0.6305 - val_loss: 3.6750\n",
            "Epoch 12/150\n",
            "1250/1250 [==============================] - 14s 12ms/step - loss: 0.4883 - val_loss: 3.6409\n",
            "Epoch 13/150\n",
            "1250/1250 [==============================] - 15s 12ms/step - loss: 0.3823 - val_loss: 3.6245\n",
            "Epoch 14/150\n",
            "1250/1250 [==============================] - 13s 10ms/step - loss: 0.3019 - val_loss: 3.6215\n",
            "Epoch 15/150\n",
            "1250/1250 [==============================] - 13s 10ms/step - loss: 0.2404 - val_loss: 3.6251\n",
            "Epoch 16/150\n",
            "1250/1250 [==============================] - 13s 10ms/step - loss: 0.1929 - val_loss: 3.6323\n",
            "Epoch 17/150\n",
            "1250/1250 [==============================] - 13s 11ms/step - loss: 0.1556 - val_loss: 3.6425\n",
            "Epoch 17: early stopping\n"
          ]
        },
        {
          "data": {
            "image/png": "[encoded data removed]",
            "text/plain": [
              "<Figure size 1000x800 with 1 Axes>"
            ]
          },
          "metadata": {},
          "output_type": "display_data"
        },
        {
          "name": "stdout",
          "output_type": "stream",
          "text": [
            "1250/1250 [==============================] - 4s 3ms/step\n",
            "RMSE: 1.9085377738486147\n",
            "MAE: 1.605288593353884\n",
            "MAPE: 48.56876936693732\n",
            "MSE: 3.642516434207026\n",
            "R2 Score: -2.2350983941689146\n"
          ]
        }
      ],
      "source": [
        "history_mda6 = train_model(model_a6, [x_train['userId'], x_train['movieId']], y_train, [x_test['userId'], x_test['movieId']], y_test)\n",
        "plot_loss(history_mda6)\n",
        "calcular_metricas(model_a6, [x_test['userId'], x_test['movieId']], y_test)"
      ]
    },
    {
      "cell_type": "markdown",
      "metadata": {},
      "source": [
        "# A7"
      ]
    },
    {
      "cell_type": "code",
      "execution_count": 81,
      "metadata": {
        "id": "gPDQIWssPZSb"
      },
      "outputs": [
        {
          "name": "stdout",
          "output_type": "stream",
          "text": [
            "Epoch 1/150\n",
            "1250/1250 [==============================] - 19s 13ms/step - loss: 7.7195 - val_loss: 7.4972\n",
            "Epoch 2/150\n",
            "1250/1250 [==============================] - 15s 12ms/step - loss: 7.4525 - val_loss: 7.4961\n",
            "Epoch 3/150\n",
            "1250/1250 [==============================] - 16s 13ms/step - loss: 7.4512 - val_loss: 7.4959\n",
            "Epoch 4/150\n",
            "1250/1250 [==============================] - 16s 12ms/step - loss: 7.4508 - val_loss: 7.4958\n",
            "Epoch 5/150\n",
            "1250/1250 [==============================] - 16s 13ms/step - loss: 7.4507 - val_loss: 7.4958\n",
            "Epoch 6/150\n",
            "1250/1250 [==============================] - 16s 13ms/step - loss: 7.4507 - val_loss: 7.4958\n",
            "Epoch 7/150\n",
            "1250/1250 [==============================] - 16s 12ms/step - loss: 7.4506 - val_loss: 7.4958\n",
            "Epoch 8/150\n",
            "1250/1250 [==============================] - 15s 12ms/step - loss: 7.4506 - val_loss: 7.4958\n",
            "Epoch 9/150\n",
            "1250/1250 [==============================] - 16s 13ms/step - loss: 7.4506 - val_loss: 7.4958\n",
            "Epoch 10/150\n",
            "1250/1250 [==============================] - 16s 12ms/step - loss: 7.4506 - val_loss: 7.4958\n",
            "Epoch 11/150\n",
            "1250/1250 [==============================] - 16s 13ms/step - loss: 7.4507 - val_loss: 7.4958\n",
            "Epoch 12/150\n",
            "1250/1250 [==============================] - 16s 12ms/step - loss: 7.4506 - val_loss: 7.4958\n",
            "Epoch 13/150\n",
            "1250/1250 [==============================] - 15s 12ms/step - loss: 7.4506 - val_loss: 7.4958\n",
            "Epoch 13: early stopping\n"
          ]
        },
        {
          "data": {
            "image/png": "[encoded data removed]",
            "text/plain": [
              "<Figure size 1000x800 with 1 Axes>"
            ]
          },
          "metadata": {},
          "output_type": "display_data"
        },
        {
          "name": "stdout",
          "output_type": "stream",
          "text": [
            "1250/1250 [==============================] - 5s 3ms/step\n",
            "RMSE: 2.7378492942139054\n",
            "MAE: 2.5400875015079976\n",
            "MAPE: 68.80168853537911\n",
            "MSE: 7.49581875782758\n",
            "R2 Score: -5.657406126901489\n"
          ]
        }
      ],
      "source": [
        "history_mda7 = train_model(model_a7, [x_train['userId'], x_train['movieId']], y_train, [x_test['userId'], x_test['movieId']], y_test)\n",
        "plot_loss(history_mda7)\n",
        "calcular_metricas(model_a7, [x_test['userId'], x_test['movieId']], y_test)"
      ]
    },
    {
      "cell_type": "markdown",
      "metadata": {},
      "source": [
        "### Arquitectura 8"
      ]
    },
    {
      "cell_type": "code",
      "execution_count": 82,
      "metadata": {},
      "outputs": [],
      "source": [
        "K.clear_session()\n",
        "tf.random.set_seed(51)\n",
        "np.random.seed(51)"
      ]
    },
    {
      "cell_type": "code",
      "execution_count": 83,
      "metadata": {},
      "outputs": [
        {
          "name": "stdout",
          "output_type": "stream",
          "text": [
            "Model: \"model\"\n",
            "__________________________________________________________________________________________________\n",
            " Layer (type)                   Output Shape         Param #     Connected to                     \n",
            "==================================================================================================\n",
            " input_1 (InputLayer)           [(None, 1)]          0           []                               \n",
            "                                                                                                  \n",
            " input_2 (InputLayer)           [(None, 1)]          0           []                               \n",
            "                                                                                                  \n",
            " embedding (Embedding)          (None, 1, 50)        3485850     ['input_1[0][0]']                \n",
            "                                                                                                  \n",
            " embedding_1 (Embedding)        (None, 1, 50)        674600      ['input_2[0][0]']                \n",
            "                                                                                                  \n",
            " flatten (Flatten)              (None, 50)           0           ['embedding[0][0]']              \n",
            "                                                                                                  \n",
            " flatten_1 (Flatten)            (None, 50)           0           ['embedding_1[0][0]']            \n",
            "                                                                                                  \n",
            " input_3 (InputLayer)           [(None, 20)]         0           []                               \n",
            "                                                                                                  \n",
            " concatenate (Concatenate)      (None, 120)          0           ['flatten[0][0]',                \n",
            "                                                                  'flatten_1[0][0]',              \n",
            "                                                                  'input_3[0][0]']                \n",
            "                                                                                                  \n",
            " dense (Dense)                  (None, 128)          15488       ['concatenate[0][0]']            \n",
            "                                                                                                  \n",
            " dense_1 (Dense)                (None, 64)           8256        ['dense[0][0]']                  \n",
            "                                                                                                  \n",
            " dense_2 (Dense)                (None, 1)            65          ['dense_1[0][0]']                \n",
            "                                                                                                  \n",
            "==================================================================================================\n",
            "Total params: 4,184,259\n",
            "Trainable params: 4,184,259\n",
            "Non-trainable params: 0\n",
            "__________________________________________________________________________________________________\n"
          ]
        }
      ],
      "source": [
        "import numpy as np\n",
        "from keras.models import Model\n",
        "from keras.layers import Input, Embedding, Flatten, Concatenate, Dense\n",
        "from sklearn.preprocessing import MultiLabelBinarizer\n",
        "from sklearn.model_selection import train_test_split\n",
        "\n",
        "# Supongamos que tienes tus datos en las matrices 'usuarios', 'peliculas', 'generos' y 'calificaciones'\n",
        "# 'usuarios', 'peliculas' y 'generos' son listas de IDs de usuarios, películas y géneros, respectivamente\n",
        "# 'calificaciones' es una lista de calificaciones correspondientes a cada par usuario-película\n",
        "\n",
        "# Convertir los datos de género a una lista de listas\n",
        "generos_list = [generos.split('|') for generos in df_aux['genres']]\n",
        "\n",
        "# Inicializar y ajustar el codificador one-hot\n",
        "mlb = MultiLabelBinarizer()\n",
        "generos_one_hot = mlb.fit_transform(generos_list)\n",
        "\n",
        "#------------------------------------------------------------------------------\n",
        "# # Asignar índices únicos a usuarios y películas\n",
        "# user_unique_ids = df_aux['userId'].unique()\n",
        "# movie_unique_ids = df_aux['movieId'].unique()\n",
        "\n",
        "# userid2idx = {user_id: idx for idx, user_id in enumerate(user_unique_ids)}\n",
        "# movieid2idx = {movie_id: idx for idx, movie_id in enumerate(movie_unique_ids)}\n",
        "\n",
        "# # Aplicar la asignación de índices únicos al DataFrame\n",
        "# df_aux['userId'] = df_aux['userId'].apply(lambda x: userid2idx[x])\n",
        "# df_aux['movieId'] = df_aux['movieId'].apply(lambda x: movieid2idx[x])\n",
        "\n",
        "# # Dividir dataset en entrenamiento y test\n",
        "# x_train, x_test, y_train, y_test = train_test_split(df_aux[['userId', 'movieId', 'genres']], df_aux['rating'], test_size=0.2, random_state=42)\n",
        "\n",
        "# # Resetear los índices de x_train y x_test\n",
        "# x_train.reset_index(drop=True, inplace=True)\n",
        "# x_test.reset_index(drop=True, inplace=True)\n",
        "#------------------------------------------------------------------------------\n",
        "\n",
        "# Definir las capas de entrada\n",
        "input_usuario = Input(shape=[1])\n",
        "input_pelicula = Input(shape=[1])\n",
        "input_genero = Input(shape=[generos_one_hot.shape[1]])  # Número de géneros únicos\n",
        "\n",
        "# Definir las capas de embedding para usuarios y películas\n",
        "embedding_usuario = Embedding(input_dim=len(user_unique_ids), output_dim=50)(input_usuario)\n",
        "embedding_pelicula = Embedding(input_dim=len(movie_unique_ids), output_dim=50)(input_pelicula)\n",
        "\n",
        "# Aplanar las capas de embedding\n",
        "flat_usuario = Flatten()(embedding_usuario)\n",
        "flat_pelicula = Flatten()(embedding_pelicula)\n",
        "\n",
        "# Concatenar las capas de embedding con los géneros codificados one-hot\n",
        "concat = Concatenate()([flat_usuario, flat_pelicula, input_genero])\n",
        "\n",
        "# Agregar capas densas\n",
        "dense1 = Dense(128, activation='relu')(concat)\n",
        "dense2 = Dense(64, activation='relu')(dense1)\n",
        "output = Dense(1)(dense2)\n",
        "\n",
        "# Compilar el modelo\n",
        "modelo_a8 = Model(inputs=[input_usuario, input_pelicula, input_genero], outputs=output)\n",
        "# Generar la codificación one-hot de los géneros solo para las filas relevantes\n",
        "generos_one_hot_train = generos_one_hot[x_train.index]\n",
        "generos_one_hot_test = generos_one_hot[x_test.index]\n",
        "\n",
        "# Compilar el modelo\n",
        "modelo_a8.compile(loss='mse', optimizer='adam', metrics=['mae'])\n",
        "modelo_a8.summary()"
      ]
    },
    {
      "cell_type": "code",
      "execution_count": 84,
      "metadata": {},
      "outputs": [
        {
          "name": "stdout",
          "output_type": "stream",
          "text": [
            "Epoch 1/150\n",
            "1250/1250 [==============================] - 50s 38ms/step - loss: 1.1845 - mae: 0.8269 - val_loss: 0.9226 - val_mae: 0.7440\n",
            "Epoch 2/150\n",
            "1250/1250 [==============================] - 52s 41ms/step - loss: 0.6482 - mae: 0.6097 - val_loss: 0.9562 - val_mae: 0.7573\n",
            "Epoch 3/150\n",
            "1250/1250 [==============================] - 50s 40ms/step - loss: 0.3476 - mae: 0.4366 - val_loss: 1.0482 - val_mae: 0.7955\n",
            "Epoch 4/150\n",
            "1250/1250 [==============================] - 56s 45ms/step - loss: 0.2019 - mae: 0.3363 - val_loss: 1.0656 - val_mae: 0.7976\n",
            "Epoch 4: early stopping\n"
          ]
        },
        {
          "data": {
            "image/png": "[encoded data removed]",
            "text/plain": [
              "<Figure size 1000x800 with 1 Axes>"
            ]
          },
          "metadata": {},
          "output_type": "display_data"
        },
        {
          "name": "stdout",
          "output_type": "stream",
          "text": [
            "1250/1250 [==============================] - 3s 2ms/step\n",
            "RMSE: 1.0322797272412132\n",
            "MAE: 0.7976229516686871\n",
            "MAPE: 35.237513934893975\n",
            "MSE: 1.0656014352731933\n",
            "R2 Score: 0.0535868391141856\n"
          ]
        }
      ],
      "source": [
        "# history_mda8 = modelo_a8.fit([x_train['userId'], x_train['movieId'], generos_one_hot_train], y_train, epochs=10, batch_size=128, validation_data=([x_test['userId'], x_test['movieId'], generos_one_hot_test], y_test))\n",
        "history_mda8 = train_model(modelo_a8, [x_train['userId'], x_train['movieId'], generos_one_hot_train], y_train, [x_test['userId'], x_test['movieId'], generos_one_hot_test], y_test)\n",
        "plot_loss(history_mda8)\n",
        "calcular_metricas(modelo_a8, [x_test['userId'], x_test['movieId'], generos_one_hot_test], y_test)"
      ]
    },
    {
      "cell_type": "markdown",
      "metadata": {
        "id": "XvKF0exaPZSb"
      },
      "source": [
        "# Model Evaluation\n",
        "\n",
        "Intentamos medir el rendimiento del modelo proporcionando productos candidatos al modelo y evaluando los resultados. Los productos candidatos se combinan con 49 productos seleccionados entre los productos no comprados y un producto objetivo representado en la variable output_sequence. Si el producto objetivo aparece en los k primeros resultados del modelo, lo consideramos un acierto.\n",
        "\n",
        "Por otro lado; Hidasi y Karatzoglou (2018) definen \"recall@k\" como una métrica de evaluación como \"la proporción de casos que tienen el elemento deseado entre los primeros k elementos en todos los casos de prueba.\" Además, otra métrica de evaluación es \"MRR@k\", que es la media de los rangos recíprocos de los ítems objetivo. El rango recíproco se fija en cero si el rango es superior a k."
      ]
    }
  ],
  "metadata": {
    "accelerator": "GPU",
    "colab": {
      "gpuType": "T4",
      "include_colab_link": true,
      "provenance": []
    },
    "kernelspec": {
      "display_name": "Python 3",
      "name": "python3"
    },
    "language_info": {
      "codemirror_mode": {
        "name": "ipython",
        "version": 3
      },
      "file_extension": ".py",
      "mimetype": "text/x-python",
      "name": "python",
      "nbconvert_exporter": "python",
      "pygments_lexer": "ipython3",
      "version": "3.10.9"
    }
  },
  "nbformat": 4,
  "nbformat_minor": 0
}
