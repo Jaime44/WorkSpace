{
  "cells": [
    {
      "cell_type": "markdown",
      "metadata": {
        "colab_type": "text",
        "id": "view-in-github"
      },
      "source": [
        "<a href=\"https://colab.research.google.com/github/Jaime44/WorkSpace/blob/main/models/neural%20network/00_NN_Recommender_system_movie.ipynb\" target=\"_parent\"><img src=\"https://colab.research.google.com/assets/colab-badge.svg\" alt=\"Open In Colab\"/></a>"
      ]
    },
    {
      "cell_type": "code",
      "execution_count": 1,
      "metadata": {
        "id": "juAAHlEpaJYN"
      },
      "outputs": [],
      "source": [
        "# import os\n",
        "# import sys\n",
        "# try:\n",
        "#     import google.colab\n",
        "#     IN_COLAB = True\n",
        "# except:\n",
        "#     IN_COLAB = False\n",
        "\n",
        "# path_absolute = ''\n",
        "# if IN_COLAB:\n",
        "#     print(\"El código se está ejecutando en Google Colab.\")\n",
        "#     from google.colab import drive\n",
        "\n",
        "#     drive.mount('/content/drive')\n",
        "#     path_absolute = '/content/drive/Othercomputers/Mi_portátil/TFM/WorkSpace/Models/neural network'\n",
        "\n",
        "#     # Cambia al directorio de tu carpeta en Google Drive\n",
        "#     os.chdir(path_absolute)\n",
        "\n",
        "#     # Lista los archivos y carpetas en el directorio actual\n",
        "#     contenido_carpeta = os.listdir(path_absolute)\n",
        "#     print(\"Contenido de la carpeta en Google Drive:\")\n",
        "#     print(contenido_carpeta)\n",
        "# else:\n",
        "#     print(\"El código se está ejecutando en un entorno local.\")\n",
        "#     path_absolute = os.getcwd().replace(\"\\\\\", \"/\")\n",
        "#     path_absolute = 'C:/Users/jaime/OneDrive - Universidad de Málaga/Escritorio/UNIR/TFM/WorkSpace/Models/neural network'\n",
        "\n",
        "# datasets_path = \"/datasets/\"\n",
        "# path_absolute = path_absolute+datasets_path\n",
        "\n",
        "# path_workspace ='C:/Users/jaime/OneDrive - Universidad de Málaga/Escritorio/UNIR/TFM/WorkSpace/'\n",
        "# sys.path.append(path_workspace)"
      ]
    },
    {
      "cell_type": "code",
      "execution_count": 2,
      "metadata": {
        "colab": {
          "base_uri": "https://localhost:8080/"
        },
        "id": "PQQ3GFiWPZSK",
        "outputId": "64e4199a-8de4-4721-c00f-f1915f1b53ce"
      },
      "outputs": [
        {
          "name": "stdout",
          "output_type": "stream",
          "text": [
            "El código se está ejecutando en un entorno local.\n"
          ]
        }
      ],
      "source": [
        "import os\n",
        "import sys\n",
        "\n",
        "# Comprueba si el código se está ejecutando en Google Colab\n",
        "try:\n",
        "    import google.colab\n",
        "    IN_COLAB = True\n",
        "except:\n",
        "    IN_COLAB = False\n",
        "\n",
        "path_absolute = ''\n",
        "if IN_COLAB:\n",
        "    print(\"El código se está ejecutando en Google Colab.\")\n",
        "    from google.colab import drive\n",
        "    import tensorflow as tf\n",
        "    print(\"Versión de TensorFlow:\", tf.__version__)\n",
        "    print(\"Dispositivos disponibles:\", tf.config.list_physical_devices())\n",
        "\n",
        "    drive.mount('/content/drive')\n",
        "    path_absolute = '/content/drive/Othercomputers/Mi_portátil/TFM/WorkSpace/Models/neural network'\n",
        "\n",
        "    path_workspace = '/content/drive/Othercomputers/Mi_portátil/TFM/WorkSpace/'\n",
        "\n",
        "    # Cambia al directorio de tu carpeta en Google Drive\n",
        "    os.chdir(path_absolute)\n",
        "\n",
        "    # Lista los archivos y carpetas en el directorio actual\n",
        "    contenido_carpeta = os.listdir(path_absolute)\n",
        "    print(\"Contenido de la carpeta en Google Drive:\")\n",
        "    print(contenido_carpeta)\n",
        "\n",
        "    # Verificar la GPU\n",
        "    device_name = tf.test.gpu_device_name()\n",
        "    if device_name != '/device:GPU:0':\n",
        "        raise SystemError('GPU no encontrada')\n",
        "    print(f'Encontrada GPU: {device_name}')\n",
        "\n",
        "    # Habilitar la GPU para TensorFlow\n",
        "    physical_devices = tf.config.list_physical_devices('GPU')\n",
        "    if len(physical_devices) > 0:\n",
        "        tf.config.experimental.set_memory_growth(physical_devices[0], True)\n",
        "        print('Memoria de la GPU configurada dinámicamente')\n",
        "    else:\n",
        "        print('No se encontraron dispositivos GPU configurables')\n",
        "else:\n",
        "    print(\"El código se está ejecutando en un entorno local.\")\n",
        "    path_workspace ='C:/Users/jaime/OneDrive - Universidad de Málaga/Escritorio/UNIR/TFM/WorkSpace/'\n",
        "    path_absolute = os.getcwd().replace(\"\\\\\", \"/\")\n",
        "    path_absolute = 'C:/Users/jaime/OneDrive - Universidad de Málaga/Escritorio/UNIR/TFM/WorkSpace/Models/neural network'\n",
        "\n",
        "datasets_path = \"/datasets/\"\n",
        "path_absolute = path_absolute+datasets_path\n",
        "\n",
        "\n",
        "sys.path.append(path_workspace)"
      ]
    },
    {
      "cell_type": "code",
      "execution_count": 3,
      "metadata": {
        "id": "Jaef6KzRaJYQ"
      },
      "outputs": [],
      "source": [
        "import numpy as np\n",
        "import pandas as pd\n",
        "import seaborn as sns\n",
        "import tensorflow as tf\n",
        "import matplotlib as mpl\n",
        "import Utils.utils as util\n",
        "import matplotlib.pyplot as plt\n",
        "\n",
        "\n",
        "from keras import backend as K\n",
        "from keras.models import Model\n",
        "from IPython.display import SVG\n",
        "from wordcloud import WordCloud\n",
        "from keras.callbacks import EarlyStopping\n",
        "# from keras.utils.vis_utils import model_to_dot\n",
        "from tensorflow.keras.utils import plot_model\n",
        "from sklearn.model_selection import train_test_split\n",
        "from keras.optimizers import Adam,SGD,Adagrad,Adadelta,RMSprop\n",
        "from keras.layers import Dense,Dropout,Flatten,Embedding,BatchNormalization,Concatenate,Add,Concatenate,Dot,Input,dot,concatenate\n",
        "\n",
        "\n",
        "\n",
        "\n",
        "# # Configure visualisations\n",
        "# %matplotlib inline\n",
        "# mpl.style.use( 'ggplot' )\n",
        "# plt.style.use('fivethirtyeight')\n",
        "# sns.set(context=\"notebook\", palette=\"dark\", style = 'whitegrid' , color_codes=True)"
      ]
    },
    {
      "cell_type": "code",
      "execution_count": 4,
      "metadata": {
        "id": "MYOYZ4YfaJYS"
      },
      "outputs": [
        {
          "name": "stdout",
          "output_type": "stream",
          "text": [
            "Valor: 0, Frecuencia: 831019\n",
            "Valor: 1, Frecuencia: 3711\n",
            "Total de valores distintos: 2\n",
            "        userId  movieId  timestamp_scr            tag  tag_encoded  \\\n",
            "113058     449   184399     1538936950  coming of age          119   \n",
            "113059     449   184399     1538936950  middle school         7280   \n",
            "113060    3063   184399     1566164444      realistic         1022   \n",
            "113061    3448   184399     1538418727        anxiety         8417   \n",
            "113062    3448   184399     1538418727     bo burnham         8589   \n",
            "...        ...      ...            ...            ...          ...   \n",
            "834675  161542   180163     1510150268           dark          169   \n",
            "834676  161542   180163     1510150268     disturbing         2571   \n",
            "834706  162174   153778     1472645881          hindi        14803   \n",
            "834707  162174   153778     1472645881          india         4333   \n",
            "834708  162174   153778     1472645881         indian        22540   \n",
            "\n",
            "        timestamp_tags                     title  (no genres listed)  Action  \\\n",
            "113058      1538936963       Eighth Grade (2018)                   1       0   \n",
            "113059      1538936974       Eighth Grade (2018)                   1       0   \n",
            "113060      1567949705       Eighth Grade (2018)                   1       0   \n",
            "113061      1540275619       Eighth Grade (2018)                   1       0   \n",
            "113062      1540275612       Eighth Grade (2018)                   1       0   \n",
            "...                ...                       ...                 ...     ...   \n",
            "834675      1510150284     Stanley Pickle (2010)                   1       0   \n",
            "834676      1510150280     Stanley Pickle (2010)                   1       0   \n",
            "834706      1472648734  Good Boy, Bad Boy (2007)                   1       0   \n",
            "834707      1472648738  Good Boy, Bad Boy (2007)                   1       0   \n",
            "834708      1472648741  Good Boy, Bad Boy (2007)                   1       0   \n",
            "\n",
            "        Adventure  ...  Horror  IMAX  Musical  Mystery  Romance  Sci-Fi  \\\n",
            "113058          0  ...       0     0        0        0        0       0   \n",
            "113059          0  ...       0     0        0        0        0       0   \n",
            "113060          0  ...       0     0        0        0        0       0   \n",
            "113061          0  ...       0     0        0        0        0       0   \n",
            "113062          0  ...       0     0        0        0        0       0   \n",
            "...           ...  ...     ...   ...      ...      ...      ...     ...   \n",
            "834675          0  ...       0     0        0        0        0       0   \n",
            "834676          0  ...       0     0        0        0        0       0   \n",
            "834706          0  ...       0     0        0        0        0       0   \n",
            "834707          0  ...       0     0        0        0        0       0   \n",
            "834708          0  ...       0     0        0        0        0       0   \n",
            "\n",
            "        Thriller  War  Western  rating  \n",
            "113058         0    0        0     4.5  \n",
            "113059         0    0        0     4.5  \n",
            "113060         0    0        0     4.5  \n",
            "113061         0    0        0     3.0  \n",
            "113062         0    0        0     3.0  \n",
            "...          ...  ...      ...     ...  \n",
            "834675         0    0        0     4.5  \n",
            "834676         0    0        0     4.5  \n",
            "834706         0    0        0     2.0  \n",
            "834707         0    0        0     2.0  \n",
            "834708         0    0        0     2.0  \n",
            "\n",
            "[3711 rows x 28 columns]\n",
            "Valor: 4.0, Frecuencia: 190918\n",
            "Valor: 5.0, Frecuencia: 170044\n",
            "Valor: 4.5, Frecuencia: 137493\n",
            "Valor: 3.5, Frecuencia: 128696\n",
            "Valor: 3.0, Frecuencia: 87995\n",
            "Valor: 2.5, Frecuencia: 43148\n",
            "Valor: 2.0, Frecuencia: 32755\n",
            "Valor: 1.5, Frecuencia: 16604\n",
            "Valor: 1.0, Frecuencia: 14626\n",
            "Valor: 0.5, Frecuencia: 12451\n",
            "Total de valores distintos: 10\n"
          ]
        },
        {
          "data": {
            "text/html": [
              "<div>\n",
              "<style scoped>\n",
              "    .dataframe tbody tr th:only-of-type {\n",
              "        vertical-align: middle;\n",
              "    }\n",
              "\n",
              "    .dataframe tbody tr th {\n",
              "        vertical-align: top;\n",
              "    }\n",
              "\n",
              "    .dataframe thead th {\n",
              "        text-align: right;\n",
              "    }\n",
              "</style>\n",
              "<table border=\"1\" class=\"dataframe\">\n",
              "  <thead>\n",
              "    <tr style=\"text-align: right;\">\n",
              "      <th></th>\n",
              "      <th>userId</th>\n",
              "      <th>movieId</th>\n",
              "      <th>tag_encoded</th>\n",
              "      <th>Action</th>\n",
              "      <th>Adventure</th>\n",
              "      <th>Animation</th>\n",
              "      <th>Children</th>\n",
              "      <th>Comedy</th>\n",
              "      <th>Crime</th>\n",
              "      <th>Documentary</th>\n",
              "      <th>...</th>\n",
              "      <th>Horror</th>\n",
              "      <th>IMAX</th>\n",
              "      <th>Musical</th>\n",
              "      <th>Mystery</th>\n",
              "      <th>Romance</th>\n",
              "      <th>Sci-Fi</th>\n",
              "      <th>Thriller</th>\n",
              "      <th>War</th>\n",
              "      <th>Western</th>\n",
              "      <th>rating</th>\n",
              "    </tr>\n",
              "  </thead>\n",
              "  <tbody>\n",
              "    <tr>\n",
              "      <th>0</th>\n",
              "      <td>3</td>\n",
              "      <td>260</td>\n",
              "      <td>0</td>\n",
              "      <td>1</td>\n",
              "      <td>1</td>\n",
              "      <td>0</td>\n",
              "      <td>0</td>\n",
              "      <td>0</td>\n",
              "      <td>0</td>\n",
              "      <td>0</td>\n",
              "      <td>...</td>\n",
              "      <td>0</td>\n",
              "      <td>0</td>\n",
              "      <td>0</td>\n",
              "      <td>0</td>\n",
              "      <td>0</td>\n",
              "      <td>1</td>\n",
              "      <td>0</td>\n",
              "      <td>0</td>\n",
              "      <td>0</td>\n",
              "      <td>4.0</td>\n",
              "    </tr>\n",
              "    <tr>\n",
              "      <th>1</th>\n",
              "      <td>3</td>\n",
              "      <td>260</td>\n",
              "      <td>1</td>\n",
              "      <td>1</td>\n",
              "      <td>1</td>\n",
              "      <td>0</td>\n",
              "      <td>0</td>\n",
              "      <td>0</td>\n",
              "      <td>0</td>\n",
              "      <td>0</td>\n",
              "      <td>...</td>\n",
              "      <td>0</td>\n",
              "      <td>0</td>\n",
              "      <td>0</td>\n",
              "      <td>0</td>\n",
              "      <td>0</td>\n",
              "      <td>1</td>\n",
              "      <td>0</td>\n",
              "      <td>0</td>\n",
              "      <td>0</td>\n",
              "      <td>4.0</td>\n",
              "    </tr>\n",
              "    <tr>\n",
              "      <th>2</th>\n",
              "      <td>264</td>\n",
              "      <td>260</td>\n",
              "      <td>2</td>\n",
              "      <td>1</td>\n",
              "      <td>1</td>\n",
              "      <td>0</td>\n",
              "      <td>0</td>\n",
              "      <td>0</td>\n",
              "      <td>0</td>\n",
              "      <td>0</td>\n",
              "      <td>...</td>\n",
              "      <td>0</td>\n",
              "      <td>0</td>\n",
              "      <td>0</td>\n",
              "      <td>0</td>\n",
              "      <td>0</td>\n",
              "      <td>1</td>\n",
              "      <td>0</td>\n",
              "      <td>0</td>\n",
              "      <td>0</td>\n",
              "      <td>3.0</td>\n",
              "    </tr>\n",
              "    <tr>\n",
              "      <th>3</th>\n",
              "      <td>264</td>\n",
              "      <td>260</td>\n",
              "      <td>3</td>\n",
              "      <td>1</td>\n",
              "      <td>1</td>\n",
              "      <td>0</td>\n",
              "      <td>0</td>\n",
              "      <td>0</td>\n",
              "      <td>0</td>\n",
              "      <td>0</td>\n",
              "      <td>...</td>\n",
              "      <td>0</td>\n",
              "      <td>0</td>\n",
              "      <td>0</td>\n",
              "      <td>0</td>\n",
              "      <td>0</td>\n",
              "      <td>1</td>\n",
              "      <td>0</td>\n",
              "      <td>0</td>\n",
              "      <td>0</td>\n",
              "      <td>3.0</td>\n",
              "    </tr>\n",
              "    <tr>\n",
              "      <th>4</th>\n",
              "      <td>264</td>\n",
              "      <td>260</td>\n",
              "      <td>4</td>\n",
              "      <td>1</td>\n",
              "      <td>1</td>\n",
              "      <td>0</td>\n",
              "      <td>0</td>\n",
              "      <td>0</td>\n",
              "      <td>0</td>\n",
              "      <td>0</td>\n",
              "      <td>...</td>\n",
              "      <td>0</td>\n",
              "      <td>0</td>\n",
              "      <td>0</td>\n",
              "      <td>0</td>\n",
              "      <td>0</td>\n",
              "      <td>1</td>\n",
              "      <td>0</td>\n",
              "      <td>0</td>\n",
              "      <td>0</td>\n",
              "      <td>3.0</td>\n",
              "    </tr>\n",
              "  </tbody>\n",
              "</table>\n",
              "<p>5 rows × 23 columns</p>\n",
              "</div>"
            ],
            "text/plain": [
              "   userId  movieId  tag_encoded  Action  Adventure  Animation  Children  \\\n",
              "0       3      260            0       1          1          0         0   \n",
              "1       3      260            1       1          1          0         0   \n",
              "2     264      260            2       1          1          0         0   \n",
              "3     264      260            3       1          1          0         0   \n",
              "4     264      260            4       1          1          0         0   \n",
              "\n",
              "   Comedy  Crime  Documentary  ...  Horror  IMAX  Musical  Mystery  Romance  \\\n",
              "0       0      0            0  ...       0     0        0        0        0   \n",
              "1       0      0            0  ...       0     0        0        0        0   \n",
              "2       0      0            0  ...       0     0        0        0        0   \n",
              "3       0      0            0  ...       0     0        0        0        0   \n",
              "4       0      0            0  ...       0     0        0        0        0   \n",
              "\n",
              "   Sci-Fi  Thriller  War  Western  rating  \n",
              "0       1         0    0        0     4.0  \n",
              "1       1         0    0        0     4.0  \n",
              "2       1         0    0        0     3.0  \n",
              "3       1         0    0        0     3.0  \n",
              "4       1         0    0        0     3.0  \n",
              "\n",
              "[5 rows x 23 columns]"
            ]
          },
          "execution_count": 4,
          "metadata": {},
          "output_type": "execute_result"
        }
      ],
      "source": [
        "dataFrame_ohe = pd.read_csv(path_absolute+'df_movies_rating_2.csv', sep=',')\n",
        "data_ohe = dataFrame_ohe.copy()\n",
        "\n",
        "tamano_muestra = 200000\n",
        "# Obtiene una muestra aleatoria uniforme del DataFrame\n",
        "# data_ohe = data_ohe.sample(n=tamano_muestra, random_state=42)  # random_state para reproducibilidad\n",
        "\n",
        "\n",
        "# Quito las calumnas categoricas de título y tag ambas estan represnetadas en las columnas númericas de tag_encode e id movie.\n",
        "util.contar_ocurrencias(data_ohe, '(no genres listed)')\n",
        "util.mostrar_filas_por_valor(data_ohe, '(no genres listed)', 1)\n",
        "\n",
        "# Total de clases(Puntuaciones) a predecir\n",
        "# 4.0,5.0,3.5,4.5,3.0,2.5,1.0,1.5,0.5\n",
        "data_ohe = util.eliminar_columnas(data_ohe, ['tag', 'title', '(no genres listed)'])\n",
        "util.contar_ocurrencias(data_ohe, 'rating')\n",
        "\n",
        "data_ohe = util.eliminar_columnas(data_ohe, ['timestamp_tags', 'timestamp_scr'])\n",
        "\n",
        "data_ohe.head()"
      ]
    },
    {
      "cell_type": "code",
      "execution_count": 5,
      "metadata": {
        "colab": {
          "base_uri": "https://localhost:8080/",
          "height": 241
        },
        "id": "T-PCayp5PZSL",
        "outputId": "5491448a-69ff-419f-b0b2-a42113d52f30"
      },
      "outputs": [
        {
          "name": "stdout",
          "output_type": "stream",
          "text": [
            "(8949372, 13)\n",
            "(8949372, 11)\n"
          ]
        },
        {
          "data": {
            "text/html": [
              "<div>\n",
              "<style scoped>\n",
              "    .dataframe tbody tr th:only-of-type {\n",
              "        vertical-align: middle;\n",
              "    }\n",
              "\n",
              "    .dataframe tbody tr th {\n",
              "        vertical-align: top;\n",
              "    }\n",
              "\n",
              "    .dataframe thead th {\n",
              "        text-align: right;\n",
              "    }\n",
              "</style>\n",
              "<table border=\"1\" class=\"dataframe\">\n",
              "  <thead>\n",
              "    <tr style=\"text-align: right;\">\n",
              "      <th></th>\n",
              "      <th>userId</th>\n",
              "      <th>movieId</th>\n",
              "      <th>timestamp_rt</th>\n",
              "      <th>tag_by_user</th>\n",
              "      <th>timestamp_tags</th>\n",
              "      <th>gen_tag</th>\n",
              "      <th>title</th>\n",
              "      <th>genres</th>\n",
              "      <th>tagId</th>\n",
              "      <th>relevance</th>\n",
              "      <th>rating</th>\n",
              "    </tr>\n",
              "  </thead>\n",
              "  <tbody>\n",
              "    <tr>\n",
              "      <th>0</th>\n",
              "      <td>3</td>\n",
              "      <td>260</td>\n",
              "      <td>1439472239</td>\n",
              "      <td>classic</td>\n",
              "      <td>1439472355</td>\n",
              "      <td>art</td>\n",
              "      <td>Star Wars: Episode IV - A New Hope (1977)</td>\n",
              "      <td>Action|Adventure|Sci-Fi</td>\n",
              "      <td>75</td>\n",
              "      <td>0.26025</td>\n",
              "      <td>4.0</td>\n",
              "    </tr>\n",
              "    <tr>\n",
              "      <th>1</th>\n",
              "      <td>3</td>\n",
              "      <td>260</td>\n",
              "      <td>1439472239</td>\n",
              "      <td>sci-fi</td>\n",
              "      <td>1439472256</td>\n",
              "      <td>art</td>\n",
              "      <td>Star Wars: Episode IV - A New Hope (1977)</td>\n",
              "      <td>Action|Adventure|Sci-Fi</td>\n",
              "      <td>75</td>\n",
              "      <td>0.26025</td>\n",
              "      <td>4.0</td>\n",
              "    </tr>\n",
              "    <tr>\n",
              "      <th>2</th>\n",
              "      <td>264</td>\n",
              "      <td>260</td>\n",
              "      <td>1543390081</td>\n",
              "      <td>aliens</td>\n",
              "      <td>1543390134</td>\n",
              "      <td>art</td>\n",
              "      <td>Star Wars: Episode IV - A New Hope (1977)</td>\n",
              "      <td>Action|Adventure|Sci-Fi</td>\n",
              "      <td>75</td>\n",
              "      <td>0.26025</td>\n",
              "      <td>3.0</td>\n",
              "    </tr>\n",
              "    <tr>\n",
              "      <th>3</th>\n",
              "      <td>264</td>\n",
              "      <td>260</td>\n",
              "      <td>1543390081</td>\n",
              "      <td>oldie but goodie</td>\n",
              "      <td>1543390130</td>\n",
              "      <td>art</td>\n",
              "      <td>Star Wars: Episode IV - A New Hope (1977)</td>\n",
              "      <td>Action|Adventure|Sci-Fi</td>\n",
              "      <td>75</td>\n",
              "      <td>0.26025</td>\n",
              "      <td>3.0</td>\n",
              "    </tr>\n",
              "    <tr>\n",
              "      <th>4</th>\n",
              "      <td>264</td>\n",
              "      <td>260</td>\n",
              "      <td>1543390081</td>\n",
              "      <td>scifi cult</td>\n",
              "      <td>1543390105</td>\n",
              "      <td>art</td>\n",
              "      <td>Star Wars: Episode IV - A New Hope (1977)</td>\n",
              "      <td>Action|Adventure|Sci-Fi</td>\n",
              "      <td>75</td>\n",
              "      <td>0.26025</td>\n",
              "      <td>3.0</td>\n",
              "    </tr>\n",
              "  </tbody>\n",
              "</table>\n",
              "</div>"
            ],
            "text/plain": [
              "   userId  movieId  timestamp_rt       tag_by_user  timestamp_tags gen_tag  \\\n",
              "0       3      260    1439472239           classic      1439472355     art   \n",
              "1       3      260    1439472239            sci-fi      1439472256     art   \n",
              "2     264      260    1543390081            aliens      1543390134     art   \n",
              "3     264      260    1543390081  oldie but goodie      1543390130     art   \n",
              "4     264      260    1543390081        scifi cult      1543390105     art   \n",
              "\n",
              "                                       title                   genres  tagId  \\\n",
              "0  Star Wars: Episode IV - A New Hope (1977)  Action|Adventure|Sci-Fi     75   \n",
              "1  Star Wars: Episode IV - A New Hope (1977)  Action|Adventure|Sci-Fi     75   \n",
              "2  Star Wars: Episode IV - A New Hope (1977)  Action|Adventure|Sci-Fi     75   \n",
              "3  Star Wars: Episode IV - A New Hope (1977)  Action|Adventure|Sci-Fi     75   \n",
              "4  Star Wars: Episode IV - A New Hope (1977)  Action|Adventure|Sci-Fi     75   \n",
              "\n",
              "   relevance  rating  \n",
              "0    0.26025     4.0  \n",
              "1    0.26025     4.0  \n",
              "2    0.26025     3.0  \n",
              "3    0.26025     3.0  \n",
              "4    0.26025     3.0  "
            ]
          },
          "execution_count": 5,
          "metadata": {},
          "output_type": "execute_result"
        }
      ],
      "source": [
        "#Carga de datos y preprocesado\n",
        "\n",
        "dataFrame = pd.read_csv(path_absolute+'/df_mezclado_tags_ratings_movies_links_genTags.csv')\n",
        "\n",
        "print(dataFrame.shape)\n",
        "\n",
        "data = dataFrame.copy()\n",
        "# data = data.sample(n=100000, random_state=42)\n",
        "\n",
        "# Inserta la columna 'rating' en la última posición del DataFrame\n",
        "data.insert(len(data.columns)-1, 'rating', data.pop('rating'))\n",
        "# Inserta la columna 'relevance' en la penúltima posición del DataFrame\n",
        "data.insert(len(data.columns)-2, 'relevance', data.pop('relevance'))\n",
        "# Inserta la columna 'tag_etiquetas_genómicas' despues de tag_df_mezclado\n",
        "data.insert(5, 'tag_etiquetas_genómicas', data.pop('tag_etiquetas_genómicas'))\n",
        "\n",
        "# Renombrar algunas columnas:\n",
        "data.rename(columns={'timestamp_valoraciones': 'timestamp_rt', 'timestamp_etiquetas': 'timestamp_tags',\n",
        "                     'tag_df_mezclado_tags_ratings_movies_links_genMov': 'tag_by_user',\n",
        "                     'tag_etiquetas_genómicas': 'gen_tag'}, inplace=True)\n",
        "\n",
        "# Elimino las columnas:\n",
        "columnas_a_eliminar = ['imdbId', 'tmdbId']\n",
        "data = data.drop(columnas_a_eliminar, axis=1)\n",
        "print(data.shape)\n",
        "data.head()"
      ]
    },
    {
      "cell_type": "code",
      "execution_count": 6,
      "metadata": {},
      "outputs": [],
      "source": [
        "df = data_ohe.copy()"
      ]
    },
    {
      "cell_type": "markdown",
      "metadata": {
        "id": "Cd45x0ahPZSL"
      },
      "source": [
        "## Explore dataset"
      ]
    },
    {
      "cell_type": "code",
      "execution_count": 7,
      "metadata": {
        "colab": {
          "base_uri": "https://localhost:8080/"
        },
        "id": "jsfUuaGvaJYV",
        "outputId": "44419f15-cec7-4c64-deb4-008cf787bac9"
      },
      "outputs": [
        {
          "name": "stdout",
          "output_type": "stream",
          "text": [
            "<class 'pandas.core.frame.DataFrame'>\n",
            "RangeIndex: 834730 entries, 0 to 834729\n",
            "Data columns (total 23 columns):\n",
            " #   Column       Non-Null Count   Dtype  \n",
            "---  ------       --------------   -----  \n",
            " 0   userId       834730 non-null  int64  \n",
            " 1   movieId      834730 non-null  int64  \n",
            " 2   tag_encoded  834730 non-null  int64  \n",
            " 3   Action       834730 non-null  int64  \n",
            " 4   Adventure    834730 non-null  int64  \n",
            " 5   Animation    834730 non-null  int64  \n",
            " 6   Children     834730 non-null  int64  \n",
            " 7   Comedy       834730 non-null  int64  \n",
            " 8   Crime        834730 non-null  int64  \n",
            " 9   Documentary  834730 non-null  int64  \n",
            " 10  Drama        834730 non-null  int64  \n",
            " 11  Fantasy      834730 non-null  int64  \n",
            " 12  Film-Noir    834730 non-null  int64  \n",
            " 13  Horror       834730 non-null  int64  \n",
            " 14  IMAX         834730 non-null  int64  \n",
            " 15  Musical      834730 non-null  int64  \n",
            " 16  Mystery      834730 non-null  int64  \n",
            " 17  Romance      834730 non-null  int64  \n",
            " 18  Sci-Fi       834730 non-null  int64  \n",
            " 19  Thriller     834730 non-null  int64  \n",
            " 20  War          834730 non-null  int64  \n",
            " 21  Western      834730 non-null  int64  \n",
            " 22  rating       834730 non-null  float64\n",
            "dtypes: float64(1), int64(22)\n",
            "memory usage: 146.5 MB\n"
          ]
        }
      ],
      "source": [
        "df.info()"
      ]
    },
    {
      "cell_type": "code",
      "execution_count": 8,
      "metadata": {
        "colab": {
          "base_uri": "https://localhost:8080/"
        },
        "id": "CJnM-vGePZSM",
        "outputId": "6ac5d832-4cb2-4950-9c1f-139c73f2e404"
      },
      "outputs": [
        {
          "name": "stdout",
          "output_type": "stream",
          "text": [
            "Valores nulos para la columna userId: 0\n",
            "Valores nulos para la columna rating: 0\n",
            "Valores nulos para la columna movieId: 0\n"
          ]
        }
      ],
      "source": [
        "# Valores nulos\n",
        "print(f\"Valores nulos para la columna userId: {df['userId'].isnull().sum()}\")\n",
        "print(f\"Valores nulos para la columna rating: {df['rating'].isnull().sum()}\")\n",
        "print(f\"Valores nulos para la columna movieId: {df['movieId'].isnull().sum()}\")"
      ]
    },
    {
      "cell_type": "code",
      "execution_count": 9,
      "metadata": {
        "colab": {
          "base_uri": "https://localhost:8080/"
        },
        "id": "25vSW3QrPZSM",
        "outputId": "207a37f0-ab9a-4acf-db96-ca3c128792c6"
      },
      "outputs": [
        {
          "data": {
            "text/plain": [
              "4.0    190918\n",
              "5.0    170044\n",
              "4.5    137493\n",
              "3.5    128696\n",
              "3.0     87995\n",
              "2.5     43148\n",
              "2.0     32755\n",
              "1.5     16604\n",
              "1.0     14626\n",
              "0.5     12451\n",
              "Name: rating, dtype: int64"
            ]
          },
          "execution_count": 9,
          "metadata": {},
          "output_type": "execute_result"
        }
      ],
      "source": [
        "# Se cuenta los valores unicos de rating\n",
        "df['rating'].value_counts()"
      ]
    },
    {
      "cell_type": "code",
      "execution_count": 10,
      "metadata": {
        "colab": {
          "base_uri": "https://localhost:8080/"
        },
        "id": "oqyhS-n9PZSN",
        "outputId": "ca5b1e10-af2e-4fb6-cd9f-e304a4b97844"
      },
      "outputs": [
        {
          "data": {
            "text/plain": [
              "6550      20645\n",
              "160540    11720\n",
              "155146    11413\n",
              "131347    10027\n",
              "14116      8608\n",
              "          ...  \n",
              "26943         1\n",
              "98219         1\n",
              "4546          1\n",
              "33504         1\n",
              "80228         1\n",
              "Name: userId, Length: 13281, dtype: int64"
            ]
          },
          "execution_count": 10,
          "metadata": {},
          "output_type": "execute_result"
        }
      ],
      "source": [
        "# Se cuenta los valores unicos de usuarios\n",
        "df['userId'].value_counts()"
      ]
    },
    {
      "cell_type": "code",
      "execution_count": 11,
      "metadata": {
        "colab": {
          "base_uri": "https://localhost:8080/"
        },
        "id": "gkXHnrmWPZSN",
        "outputId": "b61d85de-a434-478c-c611-3e578fc87716"
      },
      "outputs": [
        {
          "data": {
            "text/plain": [
              "260       4762\n",
              "296       4697\n",
              "79132     4690\n",
              "2571      3527\n",
              "318       3520\n",
              "          ... \n",
              "186283       1\n",
              "186293       1\n",
              "188745       1\n",
              "189019       1\n",
              "202319       1\n",
              "Name: movieId, Length: 22082, dtype: int64"
            ]
          },
          "execution_count": 11,
          "metadata": {},
          "output_type": "execute_result"
        }
      ],
      "source": [
        "# Se cuenta los valores unicos de peliculas\n",
        "df['movieId'].value_counts()"
      ]
    },
    {
      "cell_type": "code",
      "execution_count": 12,
      "metadata": {
        "colab": {
          "base_uri": "https://localhost:8080/"
        },
        "id": "-ooRM-nnPZSN",
        "outputId": "d602b457-b6a6-49b6-e5b4-f3ca0dff2157"
      },
      "outputs": [
        {
          "name": "stdout",
          "output_type": "stream",
          "text": [
            "Rango de valores cd rating: (0.5, 5.0)\n"
          ]
        }
      ],
      "source": [
        "rango_valores = df['rating'].describe()['min'], df['rating'].describe()['max']\n",
        "print(\"Rango de valores cd rating:\", rango_valores)"
      ]
    },
    {
      "cell_type": "code",
      "execution_count": 13,
      "metadata": {
        "colab": {
          "base_uri": "https://localhost:8080/"
        },
        "id": "x0oqP9EePZSN",
        "outputId": "96acb3e8-5a9a-4230-f865-d0a4439bdfe5"
      },
      "outputs": [
        {
          "ename": "KeyError",
          "evalue": "'title'",
          "output_type": "error",
          "traceback": [
            "\u001b[1;31m---------------------------------------------------------------------------\u001b[0m",
            "\u001b[1;31mKeyError\u001b[0m                                  Traceback (most recent call last)",
            "Cell \u001b[1;32mIn[13], line 2\u001b[0m\n\u001b[0;32m      1\u001b[0m \u001b[38;5;66;03m#promedio de calificaciones agrupado por titulos\u001b[39;00m\n\u001b[1;32m----> 2\u001b[0m \u001b[43mdf\u001b[49m\u001b[38;5;241;43m.\u001b[39;49m\u001b[43mgroupby\u001b[49m\u001b[43m(\u001b[49m\u001b[38;5;124;43m'\u001b[39;49m\u001b[38;5;124;43mtitle\u001b[39;49m\u001b[38;5;124;43m'\u001b[39;49m\u001b[43m)\u001b[49m[\u001b[38;5;124m'\u001b[39m\u001b[38;5;124mrating\u001b[39m\u001b[38;5;124m'\u001b[39m]\u001b[38;5;241m.\u001b[39mmean()\u001b[38;5;241m.\u001b[39msort_values(ascending\u001b[38;5;241m=\u001b[39m\u001b[38;5;28;01mFalse\u001b[39;00m)\u001b[38;5;241m.\u001b[39mhead(\u001b[38;5;241m10\u001b[39m)\n",
            "File \u001b[1;32mc:\\Users\\jaime\\Anaconda3\\lib\\site-packages\\pandas\\core\\frame.py:8402\u001b[0m, in \u001b[0;36mDataFrame.groupby\u001b[1;34m(self, by, axis, level, as_index, sort, group_keys, squeeze, observed, dropna)\u001b[0m\n\u001b[0;32m   8399\u001b[0m     \u001b[38;5;28;01mraise\u001b[39;00m \u001b[38;5;167;01mTypeError\u001b[39;00m(\u001b[38;5;124m\"\u001b[39m\u001b[38;5;124mYou have to supply one of \u001b[39m\u001b[38;5;124m'\u001b[39m\u001b[38;5;124mby\u001b[39m\u001b[38;5;124m'\u001b[39m\u001b[38;5;124m and \u001b[39m\u001b[38;5;124m'\u001b[39m\u001b[38;5;124mlevel\u001b[39m\u001b[38;5;124m'\u001b[39m\u001b[38;5;124m\"\u001b[39m)\n\u001b[0;32m   8400\u001b[0m axis \u001b[38;5;241m=\u001b[39m \u001b[38;5;28mself\u001b[39m\u001b[38;5;241m.\u001b[39m_get_axis_number(axis)\n\u001b[1;32m-> 8402\u001b[0m \u001b[38;5;28;01mreturn\u001b[39;00m \u001b[43mDataFrameGroupBy\u001b[49m\u001b[43m(\u001b[49m\n\u001b[0;32m   8403\u001b[0m \u001b[43m    \u001b[49m\u001b[43mobj\u001b[49m\u001b[38;5;241;43m=\u001b[39;49m\u001b[38;5;28;43mself\u001b[39;49m\u001b[43m,\u001b[49m\n\u001b[0;32m   8404\u001b[0m \u001b[43m    \u001b[49m\u001b[43mkeys\u001b[49m\u001b[38;5;241;43m=\u001b[39;49m\u001b[43mby\u001b[49m\u001b[43m,\u001b[49m\n\u001b[0;32m   8405\u001b[0m \u001b[43m    \u001b[49m\u001b[43maxis\u001b[49m\u001b[38;5;241;43m=\u001b[39;49m\u001b[43maxis\u001b[49m\u001b[43m,\u001b[49m\n\u001b[0;32m   8406\u001b[0m \u001b[43m    \u001b[49m\u001b[43mlevel\u001b[49m\u001b[38;5;241;43m=\u001b[39;49m\u001b[43mlevel\u001b[49m\u001b[43m,\u001b[49m\n\u001b[0;32m   8407\u001b[0m \u001b[43m    \u001b[49m\u001b[43mas_index\u001b[49m\u001b[38;5;241;43m=\u001b[39;49m\u001b[43mas_index\u001b[49m\u001b[43m,\u001b[49m\n\u001b[0;32m   8408\u001b[0m \u001b[43m    \u001b[49m\u001b[43msort\u001b[49m\u001b[38;5;241;43m=\u001b[39;49m\u001b[43msort\u001b[49m\u001b[43m,\u001b[49m\n\u001b[0;32m   8409\u001b[0m \u001b[43m    \u001b[49m\u001b[43mgroup_keys\u001b[49m\u001b[38;5;241;43m=\u001b[39;49m\u001b[43mgroup_keys\u001b[49m\u001b[43m,\u001b[49m\n\u001b[0;32m   8410\u001b[0m \u001b[43m    \u001b[49m\u001b[43msqueeze\u001b[49m\u001b[38;5;241;43m=\u001b[39;49m\u001b[43msqueeze\u001b[49m\u001b[43m,\u001b[49m\n\u001b[0;32m   8411\u001b[0m \u001b[43m    \u001b[49m\u001b[43mobserved\u001b[49m\u001b[38;5;241;43m=\u001b[39;49m\u001b[43mobserved\u001b[49m\u001b[43m,\u001b[49m\n\u001b[0;32m   8412\u001b[0m \u001b[43m    \u001b[49m\u001b[43mdropna\u001b[49m\u001b[38;5;241;43m=\u001b[39;49m\u001b[43mdropna\u001b[49m\u001b[43m,\u001b[49m\n\u001b[0;32m   8413\u001b[0m \u001b[43m\u001b[49m\u001b[43m)\u001b[49m\n",
            "File \u001b[1;32mc:\\Users\\jaime\\Anaconda3\\lib\\site-packages\\pandas\\core\\groupby\\groupby.py:965\u001b[0m, in \u001b[0;36mGroupBy.__init__\u001b[1;34m(self, obj, keys, axis, level, grouper, exclusions, selection, as_index, sort, group_keys, squeeze, observed, mutated, dropna)\u001b[0m\n\u001b[0;32m    962\u001b[0m \u001b[38;5;28;01mif\u001b[39;00m grouper \u001b[38;5;129;01mis\u001b[39;00m \u001b[38;5;28;01mNone\u001b[39;00m:\n\u001b[0;32m    963\u001b[0m     \u001b[38;5;28;01mfrom\u001b[39;00m \u001b[38;5;21;01mpandas\u001b[39;00m\u001b[38;5;21;01m.\u001b[39;00m\u001b[38;5;21;01mcore\u001b[39;00m\u001b[38;5;21;01m.\u001b[39;00m\u001b[38;5;21;01mgroupby\u001b[39;00m\u001b[38;5;21;01m.\u001b[39;00m\u001b[38;5;21;01mgrouper\u001b[39;00m \u001b[38;5;28;01mimport\u001b[39;00m get_grouper\n\u001b[1;32m--> 965\u001b[0m     grouper, exclusions, obj \u001b[38;5;241m=\u001b[39m \u001b[43mget_grouper\u001b[49m\u001b[43m(\u001b[49m\n\u001b[0;32m    966\u001b[0m \u001b[43m        \u001b[49m\u001b[43mobj\u001b[49m\u001b[43m,\u001b[49m\n\u001b[0;32m    967\u001b[0m \u001b[43m        \u001b[49m\u001b[43mkeys\u001b[49m\u001b[43m,\u001b[49m\n\u001b[0;32m    968\u001b[0m \u001b[43m        \u001b[49m\u001b[43maxis\u001b[49m\u001b[38;5;241;43m=\u001b[39;49m\u001b[43maxis\u001b[49m\u001b[43m,\u001b[49m\n\u001b[0;32m    969\u001b[0m \u001b[43m        \u001b[49m\u001b[43mlevel\u001b[49m\u001b[38;5;241;43m=\u001b[39;49m\u001b[43mlevel\u001b[49m\u001b[43m,\u001b[49m\n\u001b[0;32m    970\u001b[0m \u001b[43m        \u001b[49m\u001b[43msort\u001b[49m\u001b[38;5;241;43m=\u001b[39;49m\u001b[43msort\u001b[49m\u001b[43m,\u001b[49m\n\u001b[0;32m    971\u001b[0m \u001b[43m        \u001b[49m\u001b[43mobserved\u001b[49m\u001b[38;5;241;43m=\u001b[39;49m\u001b[43mobserved\u001b[49m\u001b[43m,\u001b[49m\n\u001b[0;32m    972\u001b[0m \u001b[43m        \u001b[49m\u001b[43mmutated\u001b[49m\u001b[38;5;241;43m=\u001b[39;49m\u001b[38;5;28;43mself\u001b[39;49m\u001b[38;5;241;43m.\u001b[39;49m\u001b[43mmutated\u001b[49m\u001b[43m,\u001b[49m\n\u001b[0;32m    973\u001b[0m \u001b[43m        \u001b[49m\u001b[43mdropna\u001b[49m\u001b[38;5;241;43m=\u001b[39;49m\u001b[38;5;28;43mself\u001b[39;49m\u001b[38;5;241;43m.\u001b[39;49m\u001b[43mdropna\u001b[49m\u001b[43m,\u001b[49m\n\u001b[0;32m    974\u001b[0m \u001b[43m    \u001b[49m\u001b[43m)\u001b[49m\n\u001b[0;32m    976\u001b[0m \u001b[38;5;28mself\u001b[39m\u001b[38;5;241m.\u001b[39mobj \u001b[38;5;241m=\u001b[39m obj\n\u001b[0;32m    977\u001b[0m \u001b[38;5;28mself\u001b[39m\u001b[38;5;241m.\u001b[39maxis \u001b[38;5;241m=\u001b[39m obj\u001b[38;5;241m.\u001b[39m_get_axis_number(axis)\n",
            "File \u001b[1;32mc:\\Users\\jaime\\Anaconda3\\lib\\site-packages\\pandas\\core\\groupby\\grouper.py:888\u001b[0m, in \u001b[0;36mget_grouper\u001b[1;34m(obj, key, axis, level, sort, observed, mutated, validate, dropna)\u001b[0m\n\u001b[0;32m    886\u001b[0m         in_axis, level, gpr \u001b[38;5;241m=\u001b[39m \u001b[38;5;28;01mFalse\u001b[39;00m, gpr, \u001b[38;5;28;01mNone\u001b[39;00m\n\u001b[0;32m    887\u001b[0m     \u001b[38;5;28;01melse\u001b[39;00m:\n\u001b[1;32m--> 888\u001b[0m         \u001b[38;5;28;01mraise\u001b[39;00m \u001b[38;5;167;01mKeyError\u001b[39;00m(gpr)\n\u001b[0;32m    889\u001b[0m \u001b[38;5;28;01melif\u001b[39;00m \u001b[38;5;28misinstance\u001b[39m(gpr, Grouper) \u001b[38;5;129;01mand\u001b[39;00m gpr\u001b[38;5;241m.\u001b[39mkey \u001b[38;5;129;01mis\u001b[39;00m \u001b[38;5;129;01mnot\u001b[39;00m \u001b[38;5;28;01mNone\u001b[39;00m:\n\u001b[0;32m    890\u001b[0m     \u001b[38;5;66;03m# Add key to exclusions\u001b[39;00m\n\u001b[0;32m    891\u001b[0m     exclusions\u001b[38;5;241m.\u001b[39madd(gpr\u001b[38;5;241m.\u001b[39mkey)\n",
            "\u001b[1;31mKeyError\u001b[0m: 'title'"
          ]
        }
      ],
      "source": [
        "#promedio de calificaciones agrupado por titulos\n",
        "df.groupby('title')['rating'].mean().sort_values(ascending=False).head(10)"
      ]
    },
    {
      "cell_type": "code",
      "execution_count": null,
      "metadata": {
        "colab": {
          "base_uri": "https://localhost:8080/"
        },
        "id": "IxTHYNeUPZSN",
        "outputId": "03b0d49c-0c0a-4ca9-aa99-80536819f514"
      },
      "outputs": [],
      "source": [
        "# Cuantos generos distintos hay y cuantqas peliculas clasificadas con ese genero entre otros.\n",
        "genres = {}\n",
        "def find_genres():\n",
        "    for genre in df['genres']:\n",
        "        words = genre.split('|')\n",
        "        for word in words:\n",
        "            genres[word] = genres.get(word, 0) + 1\n",
        "find_genres()\n",
        "genres['None'] = genres.pop('(no genres listed)')\n",
        "genres"
      ]
    },
    {
      "cell_type": "code",
      "execution_count": null,
      "metadata": {
        "colab": {
          "base_uri": "https://localhost:8080/",
          "height": 384
        },
        "id": "WONXvgGgPZSN",
        "outputId": "599c539f-fe2b-44b6-c22f-855eb58cd3fa"
      },
      "outputs": [],
      "source": [
        "# Nube de palabras para los generos\n",
        "wordcloud = WordCloud(width=800, height=500, background_color = 'white',\n",
        "                      min_font_size=6, contour_color='black', contour_width=2).generate_from_frequencies(genres)\n",
        "plt.imshow(wordcloud)\n",
        "plt.axis('off')\n",
        "plt.show()"
      ]
    },
    {
      "cell_type": "code",
      "execution_count": null,
      "metadata": {
        "colab": {
          "base_uri": "https://localhost:8080/",
          "height": 394
        },
        "id": "H9uYT_2IPZSO",
        "outputId": "98ccb0c6-6dcc-46d2-865a-667e985205d0"
      },
      "outputs": [],
      "source": [
        "#Peliculas más puntuadas\n",
        "df_n_ratings = pd.DataFrame(df.groupby('title')['rating'].mean())\n",
        "df_n_ratings['total ratings'] = pd.DataFrame(df.groupby('title')['rating'].count())\n",
        "df_n_ratings.rename(columns = {'rating': 'mean ratings'}, inplace=True)\n",
        "df_n_ratings.sort_values('total ratings', ascending=False).head(10)"
      ]
    },
    {
      "cell_type": "code",
      "execution_count": null,
      "metadata": {
        "colab": {
          "base_uri": "https://localhost:8080/",
          "height": 493
        },
        "id": "JX62aTQ6PZSO",
        "outputId": "9563b7f2-eb97-446b-8642-14add6608428"
      },
      "outputs": [],
      "source": [
        "# histograma de la distribución de frecuencia del número total de calificaciones en el DataFrame\n",
        "plt.figure(figsize=(10,5))\n",
        "sns.histplot(df_n_ratings['total ratings'], bins=50, kde=True)  # kde=True incluye la estimación de densidad kernel\n",
        "plt.xlabel('Número total de calificaciones')\n",
        "plt.ylabel('Frecuencia')\n",
        "plt.show()"
      ]
    },
    {
      "cell_type": "code",
      "execution_count": null,
      "metadata": {
        "colab": {
          "base_uri": "https://localhost:8080/",
          "height": 394
        },
        "id": "iPA32A2iPZSO",
        "outputId": "e4365442-1f6a-4016-f659-19d3b55a8806"
      },
      "outputs": [],
      "source": [
        "# Calificaciones promedio más altas en función de la columna 'mean ratings'.\n",
        "df_n_ratings.sort_values('mean ratings', ascending=False).head(10)"
      ]
    },
    {
      "cell_type": "code",
      "execution_count": null,
      "metadata": {
        "colab": {
          "base_uri": "https://localhost:8080/"
        },
        "id": "LeDr1jmIPZSO",
        "outputId": "fd189c21-42c2-484f-ffc3-5831e7e85752"
      },
      "outputs": [],
      "source": [
        "print('Nº total de usuarios que han valorado con 5,0 : ', len(df_n_ratings.loc[df_n_ratings['mean ratings'] == 5]), '\\n')\n",
        "print('Nº total de usuarios individuales que han valorado con 5,0 : ', len(df_n_ratings.loc[(df_n_ratings['mean ratings'] == 5)\n",
        "                                                                           & (df_n_ratings['total ratings'] == 1)]))"
      ]
    },
    {
      "cell_type": "code",
      "execution_count": null,
      "metadata": {
        "colab": {
          "base_uri": "https://localhost:8080/",
          "height": 493
        },
        "id": "lSYVtyXTPZSO",
        "outputId": "48b84751-b186-420d-9376-4eadbc42eba3"
      },
      "outputs": [],
      "source": [
        "plt.figure(figsize=(10,5))\n",
        "sns.histplot(df_n_ratings['mean ratings'], bins=50, kde=True)\n",
        "plt.xlabel('Media de calificaciones')\n",
        "plt.ylabel('Frecuencia')\n",
        "plt.show()"
      ]
    },
    {
      "cell_type": "code",
      "execution_count": null,
      "metadata": {
        "colab": {
          "base_uri": "https://localhost:8080/",
          "height": 818
        },
        "id": "TJBz0YDxPZSO",
        "outputId": "95c49db8-995c-4168-a16c-be3b2d1abfe1"
      },
      "outputs": [],
      "source": [
        "# Mean Ratings vs Total Number of Ratings\n",
        "sns.jointplot(x='mean ratings', y='total ratings', data=df_n_ratings, height=8, ratio=4)\n"
      ]
    },
    {
      "cell_type": "markdown",
      "metadata": {
        "id": "PBU7buFHPZSO"
      },
      "source": [
        "## MODELS"
      ]
    },
    {
      "cell_type": "code",
      "execution_count": null,
      "metadata": {
        "colab": {
          "base_uri": "https://localhost:8080/",
          "height": 143
        },
        "id": "hsdE9rmLPZSO",
        "outputId": "269d5de4-f39b-496e-950f-7713a657d41a"
      },
      "outputs": [],
      "source": [
        "df.head(3)"
      ]
    },
    {
      "cell_type": "code",
      "execution_count": 16,
      "metadata": {
        "colab": {
          "base_uri": "https://localhost:8080/"
        },
        "id": "JBitvYMZPZSO",
        "outputId": "9fafb6aa-eafa-4044-c310-d88fe20c19a1"
      },
      "outputs": [
        {
          "name": "stdout",
          "output_type": "stream",
          "text": [
            "(667784, 2) (166946, 2)\n"
          ]
        }
      ],
      "source": [
        "\n",
        "# La asignación de índices únicos y la posterior división del DataFrame en conjuntos de entrenamiento y\n",
        "# prueba pueden ser necesarias por varias razones en el contexto de modelos de recomendación y\n",
        "# aprendizaje automático en general:\n",
        "\n",
        "# Índices numéricos: Algunos algoritmos y modelos de aprendizaje automático requieren que las\n",
        "# entradas sean números enteros. Al asignar índices únicos a los usuarios y películas,\n",
        "# se asegura de que cada entidad esté representada por un identificador numérico único,\n",
        "# lo que facilita el procesamiento por parte de los modelos.\n",
        "\n",
        "# Consistencia en los datos de entrada: Al asignar índices únicos y transformar los datos originales,\n",
        "# se crea una representación consistente y única para cada usuario y película en el conjunto de datos.\n",
        "# Esto facilita el manejo y la interpretación de los datos durante el preprocesamiento y el entrenamiento\n",
        "# del modelo.\n",
        "\n",
        "# Reproducibilidad: La división aleatoria del DataFrame en conjuntos de entrenamiento y\n",
        "# prueba utilizando np.random.rand() con una semilla (random_state) proporciona reproducibilidad.\n",
        "# Esto significa que si vuelves a ejecutar el código con la misma semilla, obtendrás la misma\n",
        "# división de datos, lo que es útil para comparar resultados y depurar el código.\n",
        "\n",
        "# Evaluación del modelo: La división en conjuntos de entrenamiento y prueba es esencial para\n",
        "# evaluar el rendimiento del modelo. El conjunto de entrenamiento se utiliza para entrenar el modelo,\n",
        "# mientras que el conjunto de prueba se reserva para evaluar su rendimiento en datos no vistos.\n",
        "\n",
        "# En resumen, estas operaciones son prácticas comunes en el preprocesamiento de datos para modelos\n",
        "# de aprendizaje automático, especialmente cuando se trata de conjuntos de datos que contienen\n",
        "# variables categóricas o identificadores que deben ser representados de manera numérica y\n",
        "# cuando se busca garantizar la consistencia y la reproducibilidad en el procesamiento de datos.\n",
        "\n",
        "df_aux = df.copy()\n",
        "# userId\tmovieId\ttimestamp_rt\ttag_by_user\ttimestamp_tags\tgen_tag\ttitle\tgenres\ttagId\trelevance\trating\n",
        "# df_aux = df_aux[['userId', 'movieId','rating']]\n",
        "\n",
        "# Crear diccionarios de asignación de índices únicos\n",
        "user_unique_ids = df_aux['userId'].unique()\n",
        "movie_unique_ids = df_aux['movieId'].unique()\n",
        "\n",
        "userid2idx = {user_id: idx for idx, user_id in enumerate(user_unique_ids)}\n",
        "movieid2idx = {movie_id: idx for idx, movie_id in enumerate(movie_unique_ids)}\n",
        "\n",
        "# Aplicar la asignación de índices únicos al DataFrame\n",
        "df_aux['userId'] = df_aux['userId'].apply(lambda x: userid2idx[x])\n",
        "df_aux['movieId'] = df_aux['movieId'].apply(lambda x: movieid2idx[x])\n",
        "\n",
        "# Dividir dataset en entrenamiento y test\n",
        "X = df_aux[['userId', 'movieId']]  # UserId y movieId\n",
        "Y = df_aux['rating']                # rating\n",
        "\n",
        "x_train, x_test, y_train, y_test = train_test_split(X, Y, test_size=0.2, random_state=42)\n",
        "\n",
        "print(x_train.shape , x_test.shape)"
      ]
    },
    {
      "cell_type": "code",
      "execution_count": null,
      "metadata": {},
      "outputs": [],
      "source": [
        "x_train"
      ]
    },
    {
      "cell_type": "code",
      "execution_count": null,
      "metadata": {},
      "outputs": [],
      "source": [
        "y_train"
      ]
    },
    {
      "cell_type": "markdown",
      "metadata": {
        "id": "aqmxPpi0PZSP"
      },
      "source": [
        "### Definicicón de parametros"
      ]
    },
    {
      "cell_type": "code",
      "execution_count": 18,
      "metadata": {
        "id": "Arc_0HTxPZSP"
      },
      "outputs": [],
      "source": [
        "# Definición del número de factores latentes\n",
        "n_latent_factors = 10\n",
        "# learning_rate = 5e-4\n",
        "lr = 1e-3\n",
        "#Función de perdida\n",
        "loss_function = 'mse'\n",
        "\n",
        "#Bartch\n",
        "batch_size = 256\n",
        "#Epoch\n",
        "epochs = 100\n",
        "#Paciencia early stopping\n",
        "pte = 3"
      ]
    },
    {
      "cell_type": "code",
      "execution_count": 19,
      "metadata": {
        "id": "rwc6ZBpSPZSP"
      },
      "outputs": [],
      "source": [
        "es = EarlyStopping(monitor=\"val_loss\",\n",
        "                   mode=\"min\",\n",
        "                   verbose=1,\n",
        "                   patience=pte)"
      ]
    },
    {
      "cell_type": "code",
      "execution_count": 20,
      "metadata": {
        "id": "XlTWGJBCPZSP"
      },
      "outputs": [],
      "source": [
        "def train_model(model):\n",
        "    # Entrenar el modelo y obtener el objeto history\n",
        "    history = model.fit(x=[x_train['userId'], x_train['movieId']], y=y_train,\n",
        "                        batch_size= batch_size, epochs=epochs, verbose= 1,\n",
        "                        validation_data=([x_test['userId'], x_test['movieId']], y_test),\n",
        "                        callbacks=[es])\n",
        "    return history"
      ]
    },
    {
      "cell_type": "code",
      "execution_count": 21,
      "metadata": {
        "id": "ETiJQLtrPZSP"
      },
      "outputs": [],
      "source": [
        "def plot_loss(history):\n",
        "    loss = history.history['loss']\n",
        "    val_loss = history.history['val_loss']\n",
        "    accuracy = history.history['accuracy']\n",
        "    val_accuracy = history.history['val_accuracy']\n",
        "\n",
        "    fig, ax1 = plt.subplots(figsize=(10, 8))\n",
        "\n",
        "    color = 'tab:red'\n",
        "    ax1.set_xlabel('Epochs')\n",
        "    ax1.set_ylabel('Loss', color=color)\n",
        "    ax1.plot(loss, 'r--', label='Training Loss')\n",
        "    ax1.plot(val_loss, 'b-', label='Validation Loss')\n",
        "    ax1.tick_params(axis='y', labelcolor=color)\n",
        "\n",
        "    ax2 = ax1.twinx()\n",
        "    color = 'tab:green'\n",
        "    ax2.set_ylabel('Accuracy', color=color)\n",
        "    ax2.plot(accuracy, 'g-.', label='Training Accuracy')\n",
        "    ax2.plot(val_accuracy, 'y:', label='Validation Accuracy')\n",
        "    ax2.tick_params(axis='y', labelcolor=color)\n",
        "\n",
        "    # Añadir leyendas\n",
        "    ax1.legend(loc='upper left')\n",
        "    ax2.legend(loc='upper right')\n",
        "\n",
        "    fig.tight_layout()\n",
        "    plt.title('Model Loss and Accuracy')\n",
        "    plt.show()\n"
      ]
    },
    {
      "cell_type": "markdown",
      "metadata": {
        "id": "4iGwN6B5PZSP"
      },
      "source": [
        "### Arquitectura 1"
      ]
    },
    {
      "cell_type": "code",
      "execution_count": null,
      "metadata": {
        "id": "xY90DnKfPZSP"
      },
      "outputs": [],
      "source": [
        "K.clear_session()\n",
        "tf.random.set_seed(51)\n",
        "np.random.seed(51)"
      ]
    },
    {
      "cell_type": "code",
      "execution_count": null,
      "metadata": {
        "colab": {
          "base_uri": "https://localhost:8080/"
        },
        "id": "7TFaeSg0PZSP",
        "outputId": "1c4d43c6-e6b7-4687-8e55-13b162e4341c"
      },
      "outputs": [],
      "source": [
        "# Obtención del número único de usuarios y películas en el conjunto de datos de calificaciones\n",
        "n_users, n_movies = len(df['userId'].unique()), len(df['movieId'].unique())\n",
        "\n",
        "# Definición de la entrada del usuario\n",
        "user_input = Input(shape=(1,), name='User_Input')\n",
        "\n",
        "# Creación de la capa de embedding para usuarios\n",
        "user_embeddings = Embedding(input_dim=n_users, output_dim=n_latent_factors, input_length=1,\n",
        "                            name='User_Embedding')(user_input)\n",
        "user_vector = Flatten(name='User_Vector')(user_embeddings)\n",
        "\n",
        "# Definición de la entrada de la película\n",
        "movie_input = Input(shape=(1,), name='Movie_Input')\n",
        "\n",
        "# Creación de la capa de embedding para películas\n",
        "movie_embeddings = Embedding(input_dim=n_movies, output_dim=n_latent_factors, input_length=1,\n",
        "                             name='Movie_Embedding')(movie_input)\n",
        "movie_vector = Flatten(name='Movie_Vector')(movie_embeddings)\n",
        "\n",
        "# Combinación de los vectores de usuario y película mediante el producto punto\n",
        "merged_vectors = dot([user_vector, movie_vector], name='Dot_Product', axes=1)\n",
        "\n",
        "# Creación del modelo utilizando Model API de Keras\n",
        "model_a1 = Model([user_input, movie_input], merged_vectors)\n",
        "\n",
        "model_a1.summary()\n",
        "# Visualizar el modelo de Keras en formato DOT y luego lo convierte a formato SVG para mostrarlo\n",
        "# SVG(model_to_dot( model_a1,  show_shapes=True, show_layer_names=True).create(prog='dot', format='svg'))\n",
        "\n",
        "#Compilar modelo SGD,Adagrad,Adadelta,RMSprop\n",
        "model_a1.compile(loss=loss_function, optimizer = Adam(learning_rate=lr), metrics = ['accuracy'])"
      ]
    },
    {
      "cell_type": "code",
      "execution_count": null,
      "metadata": {
        "colab": {
          "base_uri": "https://localhost:8080/",
          "height": 1000
        },
        "id": "_e-N5UcTPZSQ",
        "outputId": "d8b9c341-7bae-455d-bdf6-f0ddd1ac2531"
      },
      "outputs": [],
      "source": [
        "history_mda1 = train_model(model_a1)\n",
        "plot_loss(history_mda1)"
      ]
    },
    {
      "cell_type": "markdown",
      "metadata": {
        "id": "5jnfWcY2PZSQ"
      },
      "source": [
        "### Arquitectura 2"
      ]
    },
    {
      "cell_type": "code",
      "execution_count": null,
      "metadata": {
        "id": "uVxiLqYhPZSQ"
      },
      "outputs": [],
      "source": [
        "K.clear_session()\n",
        "tf.random.set_seed(51)\n",
        "np.random.seed(51)"
      ]
    },
    {
      "cell_type": "code",
      "execution_count": 22,
      "metadata": {
        "colab": {
          "base_uri": "https://localhost:8080/"
        },
        "id": "uJMoH7PCPZSQ",
        "outputId": "0d88d8dd-5943-4eb5-f350-2de064cb2be5"
      },
      "outputs": [
        {
          "name": "stdout",
          "output_type": "stream",
          "text": [
            "Model: \"model\"\n",
            "__________________________________________________________________________________________________\n",
            " Layer (type)                   Output Shape         Param #     Connected to                     \n",
            "==================================================================================================\n",
            " user_input (InputLayer)        [(None, 1)]          0           []                               \n",
            "                                                                                                  \n",
            " movie_input (InputLayer)       [(None, 1)]          0           []                               \n",
            "                                                                                                  \n",
            " user_embedding (Embedding)     (None, 1, 10)        132810      ['user_input[0][0]']             \n",
            "                                                                                                  \n",
            " movie_embedding (Embedding)    (None, 1, 10)        220820      ['movie_input[0][0]']            \n",
            "                                                                                                  \n",
            " FlattenUsers (Flatten)         (None, 10)           0           ['user_embedding[0][0]']         \n",
            "                                                                                                  \n",
            " FlattenMovies (Flatten)        (None, 10)           0           ['movie_embedding[0][0]']        \n",
            "                                                                                                  \n",
            " dropout (Dropout)              (None, 10)           0           ['FlattenUsers[0][0]']           \n",
            "                                                                                                  \n",
            " dropout_1 (Dropout)            (None, 10)           0           ['FlattenMovies[0][0]']          \n",
            "                                                                                                  \n",
            " Similarity-Dot-Product (Dot)   (None, 1)            0           ['dropout[0][0]',                \n",
            "                                                                  'dropout_1[0][0]']              \n",
            "                                                                                                  \n",
            " dense (Dense)                  (None, 96)           192         ['Similarity-Dot-Product[0][0]'] \n",
            "                                                                                                  \n",
            " dropout_2 (Dropout)            (None, 96)           0           ['dense[0][0]']                  \n",
            "                                                                                                  \n",
            " dense_1 (Dense)                (None, 1)            97          ['dropout_2[0][0]']              \n",
            "                                                                                                  \n",
            "==================================================================================================\n",
            "Total params: 353,919\n",
            "Trainable params: 353,919\n",
            "Non-trainable params: 0\n",
            "__________________________________________________________________________________________________\n"
          ]
        }
      ],
      "source": [
        "# Obtener el número único de películas y usuarios en el DataFrame\n",
        "n_movies = len(df['movieId'].unique())\n",
        "n_users = len(df['userId'].unique())\n",
        "\n",
        "# Definir la capa de entrada para el usuario con un solo valor entero (userId)\n",
        "user_input = Input(shape=(1,), name='user_input', dtype='int64')\n",
        "\n",
        "# Crear la capa de embedding para usuarios\n",
        "user_embedding = Embedding(n_users, n_latent_factors, name='user_embedding')(user_input)\n",
        "user_vec = Flatten(name='FlattenUsers')(user_embedding)  # Aplanar la salida de la capa de embedding\n",
        "user_vec = Dropout(0.40)(user_vec)  # Aplicar Dropout para regularización\n",
        "\n",
        "# Definir la capa de entrada para la película con un solo valor entero (movieId)\n",
        "movie_input = Input(shape=(1,), name='movie_input', dtype='int64')\n",
        "\n",
        "# Crear la capa de embedding para películas\n",
        "movie_embedding = Embedding(n_movies, n_latent_factors, name='movie_embedding')(movie_input)\n",
        "movie_vec = Flatten(name='FlattenMovies')(movie_embedding)  # Aplanar la salida de la capa de embedding\n",
        "movie_vec = Dropout(0.40)(movie_vec)  # Aplicar Dropout para regularización\n",
        "\n",
        "# Calcular la similitud entre los vectores de usuario y película mediante el producto punto\n",
        "similarity = dot([user_vec, movie_vec], name='Similarity-Dot-Product', axes=1)\n",
        "\n",
        "# Definir una capa de red neuronal para procesar la similitud calculada\n",
        "nn_inp = Dense(96, activation='relu')(similarity)\n",
        "nn_inp = Dropout(0.4)(nn_inp)  # Aplicar Dropout para regularización\n",
        "# nn_inp = BatchNormalization()(nn_inp)  # Normalización por lotes (comentada, opcional)\n",
        "nn_inp = Dense(1, activation='relu')(nn_inp)\n",
        "\n",
        "# Crear el modelo utilizando Model API de Keras\n",
        "model_a2 = Model([user_input, movie_input], nn_inp)\n",
        "model_a2.summary()  # Mostrar resumen del modelo en términos de parámetros y capas\n",
        "\n",
        "# Compilar el modelo con la función de pérdida y el optimizador especificados\n",
        "model_a2.compile(loss=loss_function, optimizer= Adam(learning_rate=lr), metrics = ['accuracy'])\n"
      ]
    },
    {
      "cell_type": "code",
      "execution_count": null,
      "metadata": {
        "colab": {
          "base_uri": "https://localhost:8080/",
          "height": 1000
        },
        "id": "55bY_O1QPZSQ",
        "outputId": "347cce5c-d816-494b-976a-89c605e87691"
      },
      "outputs": [],
      "source": [
        "history_mda2 = train_model(model_a2)\n",
        "plot_loss(history_mda2)"
      ]
    },
    {
      "cell_type": "markdown",
      "metadata": {
        "id": "mKFvSVGhPZSQ"
      },
      "source": [
        "### Arquitectura 3"
      ]
    },
    {
      "cell_type": "code",
      "execution_count": null,
      "metadata": {
        "id": "Zl_bp225PZSQ"
      },
      "outputs": [],
      "source": [
        "K.clear_session()\n",
        "tf.random.set_seed(51)\n",
        "np.random.seed(51)"
      ]
    },
    {
      "cell_type": "code",
      "execution_count": null,
      "metadata": {
        "colab": {
          "base_uri": "https://localhost:8080/"
        },
        "id": "gvSMEh3WPZSY",
        "outputId": "51ebb9a1-a88a-4a80-905f-094287cf1636"
      },
      "outputs": [],
      "source": [
        "# Obtener el número único de películas y usuarios en el DataFrame\n",
        "n_movies = len(df['movieId'].unique())\n",
        "n_users = len(df['userId'].unique())\n",
        "\n",
        "# Definir la capa de entrada para el usuario con un solo valor entero (userId)\n",
        "user_input = Input(shape=(1,), name='User_Input')\n",
        "\n",
        "# Crear la capa de embedding para usuarios\n",
        "user_embeddings = Embedding(input_dim=n_users+1, output_dim=n_latent_factors, input_length=1, name='User_Embedding')(user_input)\n",
        "user_vector = Flatten(name='User_Vector')(user_embeddings)  # Aplanar la salida de la capa de embedding\n",
        "\n",
        "# Definir la capa de entrada para la película con un solo valor entero (movieId)\n",
        "movie_input = Input(shape=(1,), name='Movie_input')\n",
        "\n",
        "# Crear la capa de embedding para películas\n",
        "movie_embeddings = Embedding(input_dim=n_movies+1, output_dim=n_latent_factors, input_length=1, name='Movie_Embedding')(movie_input)\n",
        "movie_vector = Flatten(name='Movie_Vector')(movie_embeddings)  # Aplanar la salida de la capa de embedding\n",
        "\n",
        "# Concatenar los vectores de usuario y película\n",
        "merged_vectors = concatenate([user_vector, movie_vector], name='Concatenation')\n",
        "\n",
        "# Capa densa con 100 unidades y función de activación ReLU\n",
        "dense_layer_1 = Dense(100, activation='relu')(merged_vectors)\n",
        "\n",
        "# Aplicar Dropout para regularización\n",
        "dense_layer_3 = Dropout(0.5)(dense_layer_1)\n",
        "\n",
        "# Capa densa de salida con 1 unidad\n",
        "dense_layer_2 = Dense(1)(dense_layer_3)\n",
        "\n",
        "# Crear el modelo utilizando Model API de Keras\n",
        "model_a3 = Model([user_input, movie_input], dense_layer_2)\n",
        "\n",
        "# Compilar el modelo con la función de pérdida, el optimizador y métricas especificados\n",
        "model_a3.compile(loss=loss_function, optimizer=Adam(learning_rate=5e-4), metrics=['accuracy'])\n",
        "model_a3.summary()  # Mostrar resumen del modelo en términos de parámetros y capas\n"
      ]
    },
    {
      "cell_type": "code",
      "execution_count": null,
      "metadata": {
        "colab": {
          "base_uri": "https://localhost:8080/"
        },
        "id": "M8d456OePZSZ",
        "outputId": "1586350c-88ab-46ea-974b-defc5c7853da"
      },
      "outputs": [],
      "source": [
        "history_mda3 = train_model(model_a3)\n",
        "plot_loss(history_mda3)"
      ]
    },
    {
      "cell_type": "markdown",
      "metadata": {
        "id": "ucDOjbalPZSZ"
      },
      "source": [
        "### Arquitectura 4"
      ]
    },
    {
      "cell_type": "code",
      "execution_count": null,
      "metadata": {
        "id": "emFwvRPkPZSZ"
      },
      "outputs": [],
      "source": [
        "K.clear_session()\n",
        "tf.random.set_seed(51)\n",
        "np.random.seed(51)"
      ]
    },
    {
      "cell_type": "code",
      "execution_count": null,
      "metadata": {
        "id": "I1478NopPZSZ"
      },
      "outputs": [],
      "source": [
        "# Definición de la entrada del usuario (user_input)\n",
        "user_input = Input(shape=[1], name='user')  # Capa de entrada para la información del usuario.\n",
        "# print(f\"User Input Shape: {user_input.shape}\")\n",
        "\n",
        "# Creación de la capa de embedding para usuarios (user_embedding)\n",
        "user_embedding = Embedding(input_dim=n_users + 1, output_dim=n_latent_factors, name='user_embedding')(user_input)\n",
        "# La capa de embedding asigna a cada usuario un vector en el espacio de factores latentes.\n",
        "# print(f\"User Embedding Shape: {user_embedding.shape}\")\n",
        "\n",
        "# Aplanamiento de la capa de embedding para usuarios (user_vec)\n",
        "user_vec = Flatten(name='flatten_users')(user_embedding)\n",
        "# Se aplana el embedding para obtener un vector unidimensional que representa al usuario en el espacio de factores latentes.\n",
        "# print(f\"Flattened User Vector Shape: {user_vec.shape}\")\n",
        "\n",
        "# Definición de la entrada de la película (movie_input)\n",
        "movie_input = Input(shape=[1], name='movie')  # Capa de entrada para la información de la película.\n",
        "# print(f\"Movie Input Shape: {movie_input.shape}\")\n",
        "\n",
        "# Creación de la capa de embedding para películas (movie_embedding)\n",
        "movie_embedding = Embedding(input_dim=n_movies + 1, output_dim=n_latent_factors, name='movie_embedding')(movie_input)\n",
        "# La capa de embedding asigna a cada película un vector en el espacio de factores latentes.\n",
        "# print(f\"Movie Embedding Shape: {movie_embedding.shape}\")\n",
        "\n",
        "# Aplanamiento de la capa de embedding para películas (movie_vec)\n",
        "movie_vec = Flatten(name='flatten_movies')(movie_embedding)\n",
        "# Se aplana el embedding para obtener un vector unidimensional que representa la película en el espacio de factores latentes.\n",
        "# print(f\"Flattened Movie Vector Shape: {movie_vec.shape}\")\n",
        "\n",
        "# Cálculo del producto punto entre los vectores de película y usuario (product)\n",
        "product = dot([movie_vec, user_vec], axes=1)\n",
        "# El modelo calcula el producto punto entre los vectores de película y usuario para predecir las calificaciones.\n",
        "# print(f\"Product Shape: {product.shape}\")\n",
        "\n",
        "# Definición del modelo (model)\n",
        "model_a4 = Model(inputs=[user_input, movie_input], outputs=product)\n",
        "\n",
        "# Compilación del modelo con la función de pérdida y optimizador\n",
        "model_a4.compile(loss=loss_function, optimizer = Adam(learning_rate=lr), metrics = ['accuracy'])\n",
        "\n",
        "model_a4.summary()"
      ]
    },
    {
      "cell_type": "code",
      "execution_count": null,
      "metadata": {
        "id": "S2aKHR9kPZSZ"
      },
      "outputs": [],
      "source": [
        "history_mda4 = train_model(model_a4)\n",
        "plot_loss(history_mda4)"
      ]
    },
    {
      "cell_type": "markdown",
      "metadata": {
        "id": "Kiz3CkkPPZSZ"
      },
      "source": [
        "### Arquitectura 5"
      ]
    },
    {
      "cell_type": "code",
      "execution_count": null,
      "metadata": {
        "id": "rhEyYpyvPZSa"
      },
      "outputs": [],
      "source": [
        "K.clear_session()\n",
        "tf.random.set_seed(51)\n",
        "np.random.seed(51)"
      ]
    },
    {
      "cell_type": "code",
      "execution_count": null,
      "metadata": {
        "id": "BDqbhxHHPZSa"
      },
      "outputs": [],
      "source": [
        "# Definir la entrada del usuario y su embedding\n",
        "user_input = Input(shape=[1], name='user')\n",
        "user_embedding = Embedding(input_dim=n_users + 1, output_dim=n_latent_factors, name='user_embedding')(user_input)\n",
        "user_vec = Flatten(name='flatten_users')(user_embedding)\n",
        "\n",
        "# Definir la entrada de la película y su embedding\n",
        "movie_input = Input(shape=[1], name='movie')\n",
        "movie_embedding = Embedding(input_dim=n_movies + 1, output_dim=n_latent_factors, name='movie_embedding')(movie_input)\n",
        "movie_vec = Flatten(name='flatten_movies')(movie_embedding)\n",
        "\n",
        "# Concatenar los embeddings de usuario y película\n",
        "concatenated = concatenate([user_vec, movie_vec], name='Concatenation')\n",
        "\n",
        "# Añadir capas Dense con activación ReLU\n",
        "dense_layer1 = Dense(128, activation='relu')(concatenated)\n",
        "dense_layer2 = Dense(64, activation='relu')(dense_layer1)\n",
        "dense_layer3 = Dense(32, activation='relu')(dense_layer2)\n",
        "\n",
        "# Capa de salida con activación lineal\n",
        "output = Dense(1, activation='linear')(dense_layer3)\n",
        "\n",
        "# Crear el modelo con métrica R cuadrado\n",
        "model_a5 = Model(inputs=[user_input, movie_input], outputs=output)\n",
        "\n",
        "# Compilación del modelo con la función de pérdida y optimizador\n",
        "model_a5.compile(loss=loss_function, optimizer = Adam(learning_rate=lr), metrics = ['accuracy'])\n",
        "\n",
        "model_a5.summary()"
      ]
    },
    {
      "cell_type": "code",
      "execution_count": null,
      "metadata": {
        "id": "sKayPcw-PZSa"
      },
      "outputs": [],
      "source": [
        "history_mda5 = train_model(model_a5)\n",
        "plot_loss(history_mda5)"
      ]
    },
    {
      "cell_type": "markdown",
      "metadata": {
        "id": "y05smwd6PZSa"
      },
      "source": [
        "### Arquitectura 6"
      ]
    },
    {
      "cell_type": "code",
      "execution_count": 14,
      "metadata": {
        "id": "XV2-_kkfPZSa"
      },
      "outputs": [],
      "source": [
        "K.clear_session()\n",
        "tf.random.set_seed(51)\n",
        "np.random.seed(51)"
      ]
    },
    {
      "cell_type": "code",
      "execution_count": 23,
      "metadata": {
        "id": "ZWdeYVEoPZSa"
      },
      "outputs": [
        {
          "name": "stdout",
          "output_type": "stream",
          "text": [
            "Model: \"model_x\"\n",
            "__________________________________________________________________________________________________\n",
            " Layer (type)                   Output Shape         Param #     Connected to                     \n",
            "==================================================================================================\n",
            " user_id (InputLayer)           [(None, 1)]          0           []                               \n",
            "                                                                                                  \n",
            " item_id (InputLayer)           [(None, 1)]          0           []                               \n",
            "                                                                                                  \n",
            " user_emb (Embedding)           (None, 1, 10)        132810      ['user_id[0][0]']                \n",
            "                                                                                                  \n",
            " item_emb (Embedding)           (None, 1, 10)        220820      ['item_id[0][0]']                \n",
            "                                                                                                  \n",
            " flatten (Flatten)              (None, 10)           0           ['user_emb[0][0]']               \n",
            "                                                                                                  \n",
            " flatten_1 (Flatten)            (None, 10)           0           ['item_emb[0][0]']               \n",
            "                                                                                                  \n",
            " dot (Dot)                      (None, 1)            0           ['flatten[0][0]',                \n",
            "                                                                  'flatten_1[0][0]']              \n",
            "                                                                                                  \n",
            " user_bias (Embedding)          (None, 1, 1)         13281       ['user_id[0][0]']                \n",
            "                                                                                                  \n",
            " item_bias (Embedding)          (None, 1, 1)         22082       ['item_id[0][0]']                \n",
            "                                                                                                  \n",
            " add (Add)                      (None, 1, 1)         0           ['dot[0][0]',                    \n",
            "                                                                  'user_bias[0][0]',              \n",
            "                                                                  'item_bias[0][0]']              \n",
            "                                                                                                  \n",
            " flat (Flatten)                 (None, 1)            0           ['add[0][0]']                    \n",
            "                                                                                                  \n",
            "==================================================================================================\n",
            "Total params: 388,993\n",
            "Trainable params: 388,993\n",
            "Non-trainable params: 0\n",
            "__________________________________________________________________________________________________\n"
          ]
        }
      ],
      "source": [
        "user_input = Input(shape=(1,), name=\"user_id\", dtype=tf.int32)\n",
        "item_input = Input(shape=(1,), name=\"item_id\", dtype=tf.int32)\n",
        "\n",
        "user_embedding = Embedding(n_users,\n",
        "                                  n_latent_factors,\n",
        "                                  name=\"user_emb\")(user_input)\n",
        "\n",
        "user_bias = Embedding(n_users, 1, name=\"user_bias\")(user_input)\n",
        "\n",
        "item_embedding = Embedding(n_movies,\n",
        "                                  n_latent_factors,\n",
        "                                  name=\"item_emb\")(item_input)\n",
        "item_bias = Embedding(n_movies, 1, name=\"item_bias\")(item_input)\n",
        "\n",
        "user_vector = Flatten()(user_embedding)\n",
        "item_vector = Flatten()(item_embedding)\n",
        "\n",
        "dot_user_item = Dot(name=\"dot\", axes=1)([user_vector, item_vector])\n",
        "output = Add(name=\"add\")([dot_user_item, user_bias, item_bias])\n",
        "output = Flatten(name=\"flat\")(output)\n",
        "\n",
        "model_a6 = Model([user_input, item_input], output, name=\"model_x\")\n",
        "\n",
        "model_a6.compile(loss=loss_function, optimizer = Adam(learning_rate=lr), metrics = ['accuracy'])\n",
        "\n",
        "model_a6.summary()"
      ]
    },
    {
      "cell_type": "code",
      "execution_count": 24,
      "metadata": {
        "id": "Dw-uDExdPZSa"
      },
      "outputs": [
        {
          "name": "stdout",
          "output_type": "stream",
          "text": [
            "Epoch 1/100\n",
            "2609/2609 [==============================] - 14s 5ms/step - loss: 6.9736 - accuracy: 0.0127 - val_loss: 2.5438 - val_accuracy: 0.0174\n",
            "Epoch 2/100\n",
            "2609/2609 [==============================] - 13s 5ms/step - loss: 1.7696 - accuracy: 0.0172 - val_loss: 1.3492 - val_accuracy: 0.0176\n",
            "Epoch 3/100\n",
            "2609/2609 [==============================] - 13s 5ms/step - loss: 1.0658 - accuracy: 0.0174 - val_loss: 0.9645 - val_accuracy: 0.0177\n",
            "Epoch 4/100\n",
            "2609/2609 [==============================] - 13s 5ms/step - loss: 0.7716 - accuracy: 0.0174 - val_loss: 0.7654 - val_accuracy: 0.0177\n",
            "Epoch 5/100\n",
            "2609/2609 [==============================] - 13s 5ms/step - loss: 0.6073 - accuracy: 0.0174 - val_loss: 0.6484 - val_accuracy: 0.0177\n",
            "Epoch 6/100\n",
            "2609/2609 [==============================] - 13s 5ms/step - loss: 0.5054 - accuracy: 0.0174 - val_loss: 0.5714 - val_accuracy: 0.0177\n",
            "Epoch 7/100\n",
            "2609/2609 [==============================] - 13s 5ms/step - loss: 0.4343 - accuracy: 0.0174 - val_loss: 0.5151 - val_accuracy: 0.0177\n",
            "Epoch 8/100\n",
            "2609/2609 [==============================] - 13s 5ms/step - loss: 0.3813 - accuracy: 0.0174 - val_loss: 0.4731 - val_accuracy: 0.0176\n",
            "Epoch 9/100\n",
            "2609/2609 [==============================] - 12s 5ms/step - loss: 0.3410 - accuracy: 0.0174 - val_loss: 0.4412 - val_accuracy: 0.0177\n",
            "Epoch 10/100\n",
            "2609/2609 [==============================] - 13s 5ms/step - loss: 0.3095 - accuracy: 0.0174 - val_loss: 0.4159 - val_accuracy: 0.0176\n",
            "Epoch 11/100\n",
            "2609/2609 [==============================] - 13s 5ms/step - loss: 0.2845 - accuracy: 0.0174 - val_loss: 0.3965 - val_accuracy: 0.0177\n",
            "Epoch 12/100\n",
            "2609/2609 [==============================] - 12s 5ms/step - loss: 0.2641 - accuracy: 0.0174 - val_loss: 0.3814 - val_accuracy: 0.0176\n",
            "Epoch 13/100\n",
            "2609/2609 [==============================] - 13s 5ms/step - loss: 0.2475 - accuracy: 0.0174 - val_loss: 0.3690 - val_accuracy: 0.0176\n",
            "Epoch 14/100\n",
            "2609/2609 [==============================] - 13s 5ms/step - loss: 0.2337 - accuracy: 0.0174 - val_loss: 0.3586 - val_accuracy: 0.0176\n",
            "Epoch 15/100\n",
            "2609/2609 [==============================] - 14s 5ms/step - loss: 0.2222 - accuracy: 0.0174 - val_loss: 0.3505 - val_accuracy: 0.0177\n",
            "Epoch 16/100\n",
            "2609/2609 [==============================] - 13s 5ms/step - loss: 0.2125 - accuracy: 0.0174 - val_loss: 0.3440 - val_accuracy: 0.0176\n",
            "Epoch 17/100\n",
            "2609/2609 [==============================] - 12s 5ms/step - loss: 0.2041 - accuracy: 0.0174 - val_loss: 0.3383 - val_accuracy: 0.0176\n",
            "Epoch 18/100\n",
            "2609/2609 [==============================] - 13s 5ms/step - loss: 0.1969 - accuracy: 0.0174 - val_loss: 0.3344 - val_accuracy: 0.0176\n",
            "Epoch 19/100\n",
            "2609/2609 [==============================] - 14s 6ms/step - loss: 0.1908 - accuracy: 0.0174 - val_loss: 0.3305 - val_accuracy: 0.0176\n",
            "Epoch 20/100\n",
            "2609/2609 [==============================] - 14s 5ms/step - loss: 0.1855 - accuracy: 0.0174 - val_loss: 0.3279 - val_accuracy: 0.0176\n",
            "Epoch 21/100\n",
            "2609/2609 [==============================] - 14s 5ms/step - loss: 0.1810 - accuracy: 0.0174 - val_loss: 0.3254 - val_accuracy: 0.0176\n",
            "Epoch 22/100\n",
            "2609/2609 [==============================] - 13s 5ms/step - loss: 0.1769 - accuracy: 0.0174 - val_loss: 0.3233 - val_accuracy: 0.0176\n",
            "Epoch 23/100\n",
            "2609/2609 [==============================] - 12s 5ms/step - loss: 0.1734 - accuracy: 0.0174 - val_loss: 0.3220 - val_accuracy: 0.0176\n",
            "Epoch 24/100\n",
            "2609/2609 [==============================] - 16s 6ms/step - loss: 0.1704 - accuracy: 0.0174 - val_loss: 0.3204 - val_accuracy: 0.0176\n",
            "Epoch 25/100\n",
            "2609/2609 [==============================] - 21s 8ms/step - loss: 0.1675 - accuracy: 0.0174 - val_loss: 0.3188 - val_accuracy: 0.0176\n",
            "Epoch 26/100\n",
            "2609/2609 [==============================] - 14s 5ms/step - loss: 0.1650 - accuracy: 0.0174 - val_loss: 0.3183 - val_accuracy: 0.0176\n",
            "Epoch 27/100\n",
            "2609/2609 [==============================] - 13s 5ms/step - loss: 0.1627 - accuracy: 0.0174 - val_loss: 0.3179 - val_accuracy: 0.0176\n",
            "Epoch 28/100\n",
            "2609/2609 [==============================] - 13s 5ms/step - loss: 0.1606 - accuracy: 0.0174 - val_loss: 0.3169 - val_accuracy: 0.0176\n",
            "Epoch 29/100\n",
            "2609/2609 [==============================] - 12s 4ms/step - loss: 0.1586 - accuracy: 0.0174 - val_loss: 0.3163 - val_accuracy: 0.0176\n",
            "Epoch 30/100\n",
            "2609/2609 [==============================] - 11s 4ms/step - loss: 0.1568 - accuracy: 0.0174 - val_loss: 0.3156 - val_accuracy: 0.0176\n",
            "Epoch 31/100\n",
            "2609/2609 [==============================] - 13s 5ms/step - loss: 0.1551 - accuracy: 0.0174 - val_loss: 0.3156 - val_accuracy: 0.0176\n",
            "Epoch 32/100\n",
            "2609/2609 [==============================] - 14s 5ms/step - loss: 0.1536 - accuracy: 0.0174 - val_loss: 0.3145 - val_accuracy: 0.0176\n",
            "Epoch 33/100\n",
            "2609/2609 [==============================] - 13s 5ms/step - loss: 0.1521 - accuracy: 0.0174 - val_loss: 0.3147 - val_accuracy: 0.0176\n",
            "Epoch 34/100\n",
            "2609/2609 [==============================] - 12s 5ms/step - loss: 0.1507 - accuracy: 0.0174 - val_loss: 0.3142 - val_accuracy: 0.0175\n",
            "Epoch 35/100\n",
            "2609/2609 [==============================] - 13s 5ms/step - loss: 0.1494 - accuracy: 0.0174 - val_loss: 0.3141 - val_accuracy: 0.0176\n",
            "Epoch 36/100\n",
            "2609/2609 [==============================] - 12s 5ms/step - loss: 0.1482 - accuracy: 0.0174 - val_loss: 0.3138 - val_accuracy: 0.0176\n",
            "Epoch 37/100\n",
            "2609/2609 [==============================] - 12s 5ms/step - loss: 0.1471 - accuracy: 0.0174 - val_loss: 0.3136 - val_accuracy: 0.0176\n",
            "Epoch 38/100\n",
            "2609/2609 [==============================] - 16s 6ms/step - loss: 0.1461 - accuracy: 0.0174 - val_loss: 0.3135 - val_accuracy: 0.0176\n",
            "Epoch 39/100\n",
            "2609/2609 [==============================] - 13s 5ms/step - loss: 0.1451 - accuracy: 0.0174 - val_loss: 0.3136 - val_accuracy: 0.0176\n",
            "Epoch 40/100\n",
            "2609/2609 [==============================] - 12s 5ms/step - loss: 0.1441 - accuracy: 0.0174 - val_loss: 0.3135 - val_accuracy: 0.0176\n",
            "Epoch 41/100\n",
            "2609/2609 [==============================] - 14s 5ms/step - loss: 0.1431 - accuracy: 0.0174 - val_loss: 0.3137 - val_accuracy: 0.0176\n",
            "Epoch 42/100\n",
            "2609/2609 [==============================] - 14s 5ms/step - loss: 0.1423 - accuracy: 0.0174 - val_loss: 0.3140 - val_accuracy: 0.0175\n",
            "Epoch 43/100\n",
            "2609/2609 [==============================] - 13s 5ms/step - loss: 0.1415 - accuracy: 0.0174 - val_loss: 0.3141 - val_accuracy: 0.0176\n",
            "Epoch 43: early stopping\n"
          ]
        },
        {
          "data": {
            "image/png": "[encoded data removed]",
            "text/plain": [
              "<Figure size 1000x800 with 2 Axes>"
            ]
          },
          "metadata": {},
          "output_type": "display_data"
        }
      ],
      "source": [
        "history_mda6 = train_model(model_a6)\n",
        "plot_loss(history_mda6)"
      ]
    },
    {
      "cell_type": "code",
      "execution_count": null,
      "metadata": {},
      "outputs": [],
      "source": [
        "from sklearn.metrics import mean_squared_error, accuracy_score, r2_score\n",
        "\n",
        "y_pred = model_a6.predict([x_test['userId'], x_test['movieId']])\n",
        "mse = mean_squared_error(y_test, y_pred)\n",
        "print(f'Mean Squared Error: {mse}')\n",
        "\n",
        "rmse = np.sqrt(mse)\n",
        "print(f'Root Mean Squared Error: {rmse}')\n",
        "\n",
        "# Calcular R cuadrado\n",
        "r2 = r2_score(y_test, y_pred)\n",
        "print(f'R Squared: {r2}')\n",
        "\n",
        "from scipy.stats import pearsonr\n",
        "\n",
        "# Calcular la correlación de Pearson\n",
        "correlation, _ = pearsonr(np.array(y_test), y_pred.flatten())\n",
        "print(f'Pearson Correlation: {correlation}')"
      ]
    },
    {
      "cell_type": "markdown",
      "metadata": {},
      "source": [
        "375/375 [==============================] - 1s 1ms/step:\n",
        "\n",
        "Indica que se realizaron 375 iteraciones o pasos durante el proceso de evaluación, y cada iteración tardó aproximadamente 1 milisegundo.\n",
        "\n",
        "1. Mean Squared Error (MSE): 3.0927204499125063:\n",
        "\n",
        "El MSE es una medida del promedio de los cuadrados de las diferencias entre las predicciones del modelo y los valores reales. En este caso, un MSE de 3.09 indica que las predicciones tienden a desviarse, en promedio, al cuadrado de 3.09 unidades de la verdad.\n",
        "\n",
        "2. Root Mean Squared Error (RMSE): 1.7586132178260534:\n",
        "\n",
        "El RMSE es simplemente la raíz cuadrada del MSE. En este caso, un RMSE de 1.76 significa que, en promedio, las predicciones tienden a desviarse alrededor de 1.76 unidades de la verdad.\n",
        "\n",
        "3. R Squared: -1.8672807452362834:\n",
        "\n",
        "El R cuadrado (R2) es una medida de la proporción de la varianza en la variable dependiente que es predecible a partir de las variables independientes. Un valor negativo de R2 no es común y sugiere que el modelo no es apropiado para estos datos, ya que es peor que simplemente predecir la media de los datos observados.\n",
        "\n",
        "4. Pearson Correlation: 0.3082110202566218:\n",
        "\n",
        "La correlación de Pearson es una medida de la fuerza y dirección de la relación lineal entre dos variables. Un valor de 0.31 indica una correlación positiva débil. Sin embargo, la correlación por sí sola no proporciona una imagen completa y debe interpretarse junto con otras métricas.\n",
        "\n",
        "En general, estas métricas sugieren que el modelo puede no estar funcionando tan bien en tus datos de prueba. El MSE y RMSE indican el error absoluto promedio, y un R2 negativo sugiere que el modelo no está explicando la varianza de los datos de manera efectiva. La correlación de Pearson, aunque positiva, es relativamente baja. Puedes considerar ajustar tu modelo o explorar otras métricas y técnicas para mejorar su rendimiento."
      ]
    },
    {
      "cell_type": "code",
      "execution_count": null,
      "metadata": {},
      "outputs": [],
      "source": [
        "def calculate_metrics(y_true, y_pred, k=5):\n",
        "    \"\"\"\n",
        "    Calcula métricas de evaluación para un modelo de recomendación.\n",
        "\n",
        "    Parámetros:\n",
        "    - y_true: Valores reales de calificación.\n",
        "    - y_pred: Predicciones del modelo.\n",
        "    - k: Número de elementos recomendados por usuario.\n",
        "\n",
        "    Devuelve:\n",
        "    - precision: Precisión.\n",
        "    - recall: Recall.\n",
        "    - mrr: Mean Reciprocal Rank.\n",
        "    - map: Mean Average Precision.\n",
        "    - coverage: Cobertura.\n",
        "    \"\"\"\n",
        "    \n",
        "    # Obtener índices de las principales predicciones para cada usuario\n",
        "    top_k_indices = np.argsort(y_pred, axis=1)[:, -k:]\n",
        "\n",
        "    # Inicializar listas para almacenar métricas por usuario\n",
        "    precision_list = []\n",
        "    recall_list = []\n",
        "    reciprocal_ranks = []\n",
        "    average_precision_list = []\n",
        "\n",
        "    enumerated_y_test = enumerate(y_test.items())\n",
        "\n",
        "    # Iterar sobre cada usuario en los datos\n",
        "    # for i in range(len(y_true)):\n",
        "    for i, (index, value) in enumerated_y_test:\n",
        "        # Encontrar elementos recomendados que también son valorados positivamente por el usuario\n",
        "        true_positives = np.intersect1d(top_k_indices[i], np.where(np.atleast_1d(y_true.iloc[i]) > 0))\n",
        "\n",
        "        # Calcular precision y recall para el usuario actual\n",
        "        precision = len(true_positives) / k if k > 0 else 0\n",
        "        recall = len(true_positives) / len(np.where(np.atleast_1d(y_true.iloc[i]) > 0)[0]) if len(np.where(np.atleast_1d(y_true.iloc[i]) > 0)[0]) > 0 else 0\n",
        "\n",
        "        # Calcular el Reciprocal Rank para el usuario actual\n",
        "        reciprocal_rank = 1 / (np.where(top_k_indices[i] == np.where(np.atleast_1d(y_true.iloc[i]) > 0)[0][0])[0][0] + 1) if len(true_positives) > 0 else 0\n",
        "\n",
        "        # Calcular el Average Precision para el usuario actual\n",
        "        positive_indices = np.where(np.atleast_1d(y_true.iloc[i]) > 0)[0]\n",
        "        average_precision = np.sum([(len(np.intersect1d(top_k_indices[i][:j+1], positive_indices))) / (j+1) for j in range(min(k, len(positive_indices)))]) / min(k, len(positive_indices)) if len(positive_indices) > 0 else 0\n",
        "\n",
        "        # Agregar métricas a las listas\n",
        "        precision_list.append(precision)\n",
        "        recall_list.append(recall)\n",
        "        reciprocal_ranks.append(reciprocal_rank)\n",
        "        average_precision_list.append(average_precision)\n",
        "\n",
        "    # Calcular promedio de las métricas\n",
        "    precision = np.mean(precision_list)\n",
        "    recall = np.mean(recall_list)\n",
        "    mrr = np.mean(reciprocal_ranks)\n",
        "    map_value = np.mean(average_precision_list)\n",
        "\n",
        "    # Calcular la Cobertura\n",
        "    coverage = len(np.unique(top_k_indices)) / len(y_true)  # Suponiendo que todos los usuarios tienen el mismo conjunto de elementos\n",
        "\n",
        "    # Devolver las métricas calculadas\n",
        "    return precision, recall, mrr, map_value, coverage\n"
      ]
    },
    {
      "cell_type": "code",
      "execution_count": null,
      "metadata": {},
      "outputs": [],
      "source": [
        "# Suponiendo que 'x_test' y 'y_test' son las variables de entrada y salida del conjunto de prueba\n",
        "predictions = model_a6.predict([x_test['userId'], x_test['movieId']])\n",
        "\n",
        "# Calcular métricas de rendimiento\n",
        "precision, recall, mrr, map_value, coverage = calculate_metrics(y_test, predictions)\n",
        "print(f'\\nPrecision: {precision}')\n",
        "print(f'Recall: {recall}')\n",
        "print(f'Mean Reciprocal Rank (MRR): {mrr}')\n",
        "print(f'Mean Average Precision (MAP): {map_value}')\n",
        "print(f'Coverage: {coverage}')"
      ]
    },
    {
      "cell_type": "markdown",
      "metadata": {},
      "source": [
        "Basándome en los resultados proporcionados, puedo hacer algunas observaciones:\n",
        "\n",
        "1. **Precision: 0.20:** La precisión es relativamente baja (20%). Esto podría indicar que, en promedio, solo el 20% de los elementos recomendados son relevantes para los usuarios. Una precisión más alta sería preferible.\n",
        "\n",
        "2. **Recall: 1.0:** El recall es alto (100%). Esto sugiere que el modelo ha identificado todos los elementos relevantes para los usuarios en el conjunto de prueba. Aunque un recall del 100% es positivo, la baja precisión indica que también hay elementos irrelevantes en las recomendaciones.\n",
        "\n",
        "3. **Mean Reciprocal Rank (MRR): 1.0:** El MRR es 1.0, lo que indica que, en promedio, el elemento relevante para cada usuario está en la posición 1 de las recomendaciones. Esto es una señal positiva, ya que un MRR de 1.0 sugiere que el modelo está dando la máxima prioridad a los elementos relevantes.\n",
        "\n",
        "4. **Mean Average Precision (MAP): 1.0:** Un MAP de 1.0 indica que el modelo proporciona la máxima precisión para cada usuario, considerando todas las posiciones de las recomendaciones. Esto es un buen indicador de rendimiento.\n",
        "\n",
        "5. **Coverage: 8.33e-05:** La cobertura es muy baja (0.0083%). Esto podría significar que el modelo tiene un conjunto limitado de elementos recomendados en comparación con el conjunto total de elementos posibles. Una mayor cobertura sería deseable para garantizar que el modelo pueda recomendar una amplia variedad de elementos.\n",
        "\n",
        "En resumen, el modelo tiene un recall perfecto y una priorización efectiva de los elementos relevantes, pero la baja precisión y cobertura indican áreas donde podría mejorarse. Es crucial equilibrar la precisión y la cobertura para garantizar que el modelo proporcione recomendaciones relevantes y diversificadas."
      ]
    },
    {
      "cell_type": "code",
      "execution_count": null,
      "metadata": {},
      "outputs": [],
      "source": [
        "https://medium.com/decathlondigital/building-a-rnn-recommendation-engine-with-tensorflow-505644aa9ff3"
      ]
    },
    {
      "cell_type": "code",
      "execution_count": null,
      "metadata": {},
      "outputs": [],
      "source": [
        "https://medium.com/@m_n_malaeb/recall-and-precision-at-k-for-recommender-systems-618483226c54\n"
      ]
    },
    {
      "cell_type": "code",
      "execution_count": null,
      "metadata": {},
      "outputs": [],
      "source": [
        "https://towardsdatascience.com/evaluation-metrics-for-recommendation-systems-an-overview-71290690ecba"
      ]
    },
    {
      "cell_type": "code",
      "execution_count": null,
      "metadata": {},
      "outputs": [],
      "source": [
        "https://sdsawtelle.github.io/blog/output/mean-average-precision-MAP-for-recommender-systems.html?source=post_page-----71290690ecba--------------------------------"
      ]
    },
    {
      "cell_type": "code",
      "execution_count": null,
      "metadata": {},
      "outputs": [],
      "source": [
        "https://medium.com/decathlondigital/building-a-rnn-recommendation-engine-with-tensorflow-505644aa9ff3"
      ]
    },
    {
      "cell_type": "code",
      "execution_count": null,
      "metadata": {},
      "outputs": [],
      "source": [
        "https://medium.com/@m_n_malaeb/recall-and-precision-at-k-for-recommender-systems-618483226c54"
      ]
    },
    {
      "cell_type": "code",
      "execution_count": null,
      "metadata": {},
      "outputs": [],
      "source": [
        "https://medium.com/@karina.condeixa/building-a-ranking-based-recommendations-system-e3adeb2c00f7"
      ]
    },
    {
      "cell_type": "code",
      "execution_count": 25,
      "metadata": {},
      "outputs": [],
      "source": [
        "#Concatenar el dataframe de test con el objeto series de claificaciones\n",
        "df_test_concat = pd.concat([x_test, y_test], axis=1)\n",
        "#Obtenemos un dataframe para un único usuario\n",
        "df_test_by_unq_user = df_test_concat.loc[df_test_concat['userId'] == 2235]\n",
        "#Obtenemos un objeto Series con la columna rating a predecir. \n",
        "y_test_by_unq_user = df_test_by_unq_user['rating']\n"
      ]
    },
    {
      "cell_type": "code",
      "execution_count": 26,
      "metadata": {},
      "outputs": [
        {
          "data": {
            "text/html": [
              "<div>\n",
              "<style scoped>\n",
              "    .dataframe tbody tr th:only-of-type {\n",
              "        vertical-align: middle;\n",
              "    }\n",
              "\n",
              "    .dataframe tbody tr th {\n",
              "        vertical-align: top;\n",
              "    }\n",
              "\n",
              "    .dataframe thead th {\n",
              "        text-align: right;\n",
              "    }\n",
              "</style>\n",
              "<table border=\"1\" class=\"dataframe\">\n",
              "  <thead>\n",
              "    <tr style=\"text-align: right;\">\n",
              "      <th></th>\n",
              "      <th>userId</th>\n",
              "      <th>movieId</th>\n",
              "      <th>rating</th>\n",
              "    </tr>\n",
              "  </thead>\n",
              "  <tbody>\n",
              "    <tr>\n",
              "      <th>10689</th>\n",
              "      <td>2235</td>\n",
              "      <td>8</td>\n",
              "      <td>2.5</td>\n",
              "    </tr>\n",
              "    <tr>\n",
              "      <th>83615</th>\n",
              "      <td>2235</td>\n",
              "      <td>151</td>\n",
              "      <td>5.0</td>\n",
              "    </tr>\n",
              "    <tr>\n",
              "      <th>251448</th>\n",
              "      <td>2235</td>\n",
              "      <td>707</td>\n",
              "      <td>3.5</td>\n",
              "    </tr>\n",
              "    <tr>\n",
              "      <th>83619</th>\n",
              "      <td>2235</td>\n",
              "      <td>151</td>\n",
              "      <td>5.0</td>\n",
              "    </tr>\n",
              "    <tr>\n",
              "      <th>83617</th>\n",
              "      <td>2235</td>\n",
              "      <td>151</td>\n",
              "      <td>5.0</td>\n",
              "    </tr>\n",
              "    <tr>\n",
              "      <th>834005</th>\n",
              "      <td>2235</td>\n",
              "      <td>21860</td>\n",
              "      <td>3.0</td>\n",
              "    </tr>\n",
              "    <tr>\n",
              "      <th>723117</th>\n",
              "      <td>2235</td>\n",
              "      <td>7009</td>\n",
              "      <td>5.0</td>\n",
              "    </tr>\n",
              "    <tr>\n",
              "      <th>407704</th>\n",
              "      <td>2235</td>\n",
              "      <td>1402</td>\n",
              "      <td>3.0</td>\n",
              "    </tr>\n",
              "  </tbody>\n",
              "</table>\n",
              "</div>"
            ],
            "text/plain": [
              "        userId  movieId  rating\n",
              "10689     2235        8     2.5\n",
              "83615     2235      151     5.0\n",
              "251448    2235      707     3.5\n",
              "83619     2235      151     5.0\n",
              "83617     2235      151     5.0\n",
              "834005    2235    21860     3.0\n",
              "723117    2235     7009     5.0\n",
              "407704    2235     1402     3.0"
            ]
          },
          "execution_count": 26,
          "metadata": {},
          "output_type": "execute_result"
        }
      ],
      "source": [
        "df_test_by_unq_user"
      ]
    },
    {
      "cell_type": "code",
      "execution_count": 27,
      "metadata": {},
      "outputs": [
        {
          "name": "stdout",
          "output_type": "stream",
          "text": [
            "1/1 [==============================] - 0s 128ms/step\n"
          ]
        }
      ],
      "source": [
        "predictions = model_a6.predict([df_test_by_unq_user['userId'], df_test_by_unq_user['movieId']])"
      ]
    },
    {
      "cell_type": "code",
      "execution_count": 28,
      "metadata": {},
      "outputs": [
        {
          "data": {
            "text/plain": [
              "array([[4.185048 ],\n",
              "       [5.13502  ],\n",
              "       [3.443277 ],\n",
              "       [5.13502  ],\n",
              "       [5.13502  ],\n",
              "       [2.945018 ],\n",
              "       [4.972691 ],\n",
              "       [3.3710778]], dtype=float32)"
            ]
          },
          "execution_count": 28,
          "metadata": {},
          "output_type": "execute_result"
        }
      ],
      "source": [
        "predictions"
      ]
    },
    {
      "cell_type": "code",
      "execution_count": null,
      "metadata": {},
      "outputs": [],
      "source": [
        "x_test"
      ]
    },
    {
      "cell_type": "code",
      "execution_count": null,
      "metadata": {},
      "outputs": [],
      "source": [
        "predictions.shape"
      ]
    },
    {
      "cell_type": "code",
      "execution_count": null,
      "metadata": {},
      "outputs": [],
      "source": [
        "predictions"
      ]
    },
    {
      "cell_type": "code",
      "execution_count": null,
      "metadata": {},
      "outputs": [],
      "source": [
        "y_test.shape"
      ]
    },
    {
      "cell_type": "code",
      "execution_count": null,
      "metadata": {},
      "outputs": [],
      "source": [
        "y_test"
      ]
    },
    {
      "cell_type": "code",
      "execution_count": null,
      "metadata": {},
      "outputs": [],
      "source": [
        "y_aux = y_test\n",
        "y_aux"
      ]
    },
    {
      "cell_type": "code",
      "execution_count": null,
      "metadata": {},
      "outputs": [],
      "source": [
        "import numpy as np\n",
        "\n",
        "def get_user_ratings(y_true):\n",
        "    \"\"\"\n",
        "    Obtiene las calificaciones reales de los usuarios.\n",
        "\n",
        "    Args:\n",
        "        y_true (pd.Series): Serie de pandas que contiene las calificaciones reales de los usuarios.\n",
        "\n",
        "    Returns:\n",
        "        dict: Un diccionario que mapea los índices de usuarios a sus calificaciones reales.\n",
        "    \"\"\"\n",
        "    user_ratings = {}\n",
        "    for user_id, rating in y_true.items():\n",
        "        user_ratings.setdefault(user_id, []).append(rating)\n",
        "    return user_ratings\n",
        "\n",
        "# Transformar y_true en un diccionario de calificaciones de usuario\n",
        "y_true_dict = get_user_ratings(y_test)\n",
        "\n",
        "# Convertir y_pred en una lista de listas de calificaciones predichas\n",
        "y_pred_list = y_pred.tolist()\n",
        "\n",
        "# Suponiendo que y_pred es una lista de calificaciones predichas para cada usuario en el mismo orden que y_true\n",
        "y_pred_dict = {}\n",
        "for i, (user_id, rating) in enumerate(y_test.items()):\n",
        "    y_pred_dict[user_id] = y_pred_list[i]\n",
        "\n",
        "# Ejemplo de cómo usar estos datos transformados\n",
        "print(\"Calificaciones reales del usuario 190102:\", y_true_dict[190102])\n",
        "print(\"Calificación predicha del usuario 190102:\", y_pred_dict[190102])\n"
      ]
    },
    {
      "cell_type": "code",
      "execution_count": null,
      "metadata": {},
      "outputs": [],
      "source": [
        "\n",
        "def mean_reciprocal_rank(y_true, y_pred):\n",
        "    \"\"\"\n",
        "    Calcula el Mean Reciprocal Rank para las predicciones del modelo.\n",
        "\n",
        "    Args:\n",
        "        y_true (list): Lista de listas que contiene las películas reales que cada usuario ha visto.\n",
        "        y_pred (list): Lista de listas que contiene las películas recomendadas por el modelo para cada usuario.\n",
        "\n",
        "    Returns:\n",
        "        float: El Mean Reciprocal Rank para todos los usuarios.\n",
        "    \"\"\"\n",
        "    reciprocal_ranks = []\n",
        "    total_users = len(y_true)\n",
        "    for i, (user_id, rating) in enumerate(y_test.items()):\n",
        "        relevant_items = set(y_true[user_id])\n",
        "        rank = next((idx for idx, val in enumerate(y_pred[i]) if val in relevant_items), None)\n",
        "        if rank is not None:\n",
        "            reciprocal_ranks.append(1.0 / (rank + 1))\n",
        "    mean_reciprocal_rank = sum(reciprocal_ranks) / total_users\n",
        "    return mean_reciprocal_rank"
      ]
    },
    {
      "cell_type": "code",
      "execution_count": null,
      "metadata": {},
      "outputs": [],
      "source": [
        "print(\"Mean Reciprocal Rank: {}\".format(mean_reciprocal_rank(y_true_dict, y_pred_list)))"
      ]
    },
    {
      "cell_type": "code",
      "execution_count": null,
      "metadata": {},
      "outputs": [],
      "source": [
        "from collections import defaultdict\n",
        "\n",
        "\n",
        "\n",
        "def precision_at_k(y_true, y_pred, k):\n",
        "    \"\"\"\n",
        "    Calcula la Precision@K para las predicciones del modelo.\n",
        "\n",
        "    Args:\n",
        "        y_true (list): Lista de listas que contiene las películas reales que cada usuario ha visto.\n",
        "        y_pred (list): Lista de listas que contiene las películas recomendadas por el modelo para cada usuario.\n",
        "        k (int): El número de recomendaciones consideradas para el cálculo de la Precision@K.\n",
        "\n",
        "    Returns:\n",
        "        float: El valor medio de la Precision@K para todos los usuarios.\n",
        "    \"\"\"\n",
        "    precision_sum = 0\n",
        "    total_users = len(y_true)\n",
        "    for i in range(total_users):\n",
        "        true_positives = len(set(y_true[i]) & set(y_pred[i][:k]))\n",
        "        precision_sum += true_positives / float(k)\n",
        "    precision_at_k = precision_sum / total_users\n",
        "    return precision_at_k\n",
        "\n",
        "def f1_score(y_true, y_pred, k):\n",
        "    \"\"\"\n",
        "    Calcula el F1 Score para las predicciones del modelo.\n",
        "\n",
        "    Args:\n",
        "        y_true (list): Lista de listas que contiene las películas reales que cada usuario ha visto.\n",
        "        y_pred (list): Lista de listas que contiene las películas recomendadas por el modelo para cada usuario.\n",
        "        k (int): El número de recomendaciones consideradas para el cálculo del F1 Score.\n",
        "\n",
        "    Returns:\n",
        "        float: El valor medio del F1 Score para todos los usuarios.\n",
        "    \"\"\"\n",
        "    precision = precision_at_k(y_true, y_pred, k)\n",
        "    recall = recall_at_k(y_true, y_pred, k)\n",
        "    f1 = 2 * (precision * recall) / (precision + recall)\n",
        "    return f1\n",
        "\n",
        "def average_precision(y_true, y_pred, k):\n",
        "    \"\"\"\n",
        "    Calcula el Mean Average Precision@K para las predicciones del modelo.\n",
        "\n",
        "    Args:\n",
        "        y_true (list): Lista de listas que contiene las películas reales que cada usuario ha visto.\n",
        "        y_pred (list): Lista de listas que contiene las películas recomendadas por el modelo para cada usuario.\n",
        "        k (int): El número de recomendaciones consideradas para el cálculo del Mean Average Precision@K.\n",
        "\n",
        "    Returns:\n",
        "        float: El valor medio del Mean Average Precision@K para todos los usuarios.\n",
        "    \"\"\"\n",
        "    average_precision_sum = 0\n",
        "    total_users = len(y_true)\n",
        "    for i in range(total_users):\n",
        "        true_positives = len(set(y_true[i]) & set(y_pred[i][:k]))\n",
        "        average_precision_sum += true_positives / float(k)\n",
        "    mean_average_precision = average_precision_sum / total_users\n",
        "    return mean_average_precision\n",
        "\n",
        "def discounted_cumulative_gain(y_true, y_pred, k):\n",
        "    \"\"\"\n",
        "    Calcula el Discounted Cumulative Gain para las predicciones del modelo.\n",
        "\n",
        "    Args:\n",
        "        y_true (list): Lista de listas que contiene las películas reales que cada usuario ha visto.\n",
        "        y_pred (list): Lista de listas que contiene las películas recomendadas por el modelo para cada usuario.\n",
        "        k (int): El número de recomendaciones consideradas para el cálculo del Discounted Cumulative Gain.\n",
        "\n",
        "    Returns:\n",
        "        list: Una lista que contiene el Discounted Cumulative Gain para cada usuario.\n",
        "    \"\"\"\n",
        "    dcg_values = []\n",
        "    total_users = len(y_true)\n",
        "    for i in range(total_users):\n",
        "        true_items = y_true[i]\n",
        "        pred_items = y_pred[i][:k]\n",
        "        dcg = 0\n",
        "        for idx, item in enumerate(pred_items):\n",
        "            if item in true_items:\n",
        "                relevance = 1\n",
        "            else:\n",
        "                relevance = 0\n",
        "            dcg += (2 ** relevance - 1) / (log2(idx + 2))\n",
        "        dcg_values.append(dcg)\n",
        "    return dcg_values\n",
        "\n",
        "def ideal_discounted_cumulative_gain(y_true, k):\n",
        "    \"\"\"\n",
        "    Calcula el Ideal Discounted Cumulative Gain para las predicciones del modelo.\n",
        "\n",
        "    Args:\n",
        "        y_true (list): Lista de listas que contiene las películas reales que cada usuario ha visto.\n",
        "        k (int): El número de recomendaciones consideradas para el cálculo del Ideal Discounted Cumulative Gain.\n",
        "\n",
        "    Returns:\n",
        "        list: Una lista que contiene el Ideal Discounted Cumulative Gain para cada usuario.\n",
        "    \"\"\"\n",
        "    idcg_values = []\n",
        "    total_users = len(y_true)\n",
        "    for i in range(total_users):\n",
        "        true_items = y_true[i]\n",
        "        num_true_items = len(true_items)\n",
        "        num_relevant_items = min(num_true_items, k)\n",
        "        idcg = sum((2 ** 1 - 1) / (log2(idx + 2)) for idx in range(num_relevant_items))\n",
        "        idcg_values.append(idcg)\n",
        "    return idcg_values\n",
        "\n",
        "def normalized_discounted_cumulative_gain(y_true, y_pred, k):\n",
        "    \"\"\"\n",
        "    Calcula el Normalized Discounted Cumulative Gain para las predicciones del modelo.\n",
        "\n",
        "    Args:\n",
        "        y_true (list): Lista de listas que contiene las películas reales que cada usuario ha visto.\n",
        "        y_pred (list): Lista de listas que contiene las películas recomendadas por el modelo para cada usuario.\n",
        "        k (int): El número de recomendaciones consideradas para el cálculo del Normalized Discounted Cumulative Gain.\n",
        "\n",
        "    Returns:\n",
        "        list: Una lista que contiene el Normalized Discounted Cumulative Gain para cada usuario.\n",
        "    \"\"\"\n",
        "    dcg = discounted_cumulative_gain(y_true, y_pred, k)\n",
        "    idcg = ideal_discounted_cumulative_gain(y_true, k)\n",
        "    ndcg_values = [dcg_val / idcg_val if idcg_val > 0 else 0 for dcg_val, idcg_val in zip(dcg, idcg)]\n",
        "    return ndcg_values"
      ]
    },
    {
      "cell_type": "code",
      "execution_count": null,
      "metadata": {},
      "outputs": [],
      "source": [
        "# Definir el valor de K\n",
        "k = 3\n",
        "\n",
        "print(\"Recall@{}: {}\".format(k, recall_at_k(y_test, y_pred, k)))\n",
        "print(\"Precision@{}: {}\".format(k, precision_at_k(y_test, y_pred, k)))\n",
        "print(\"F1 Score@{}: {}\".format(k, f1_score(y_test, y_pred, k)))\n",
        "print(\"Mean Average Precision@{}: {}\".format(k, average_precision(y_test, y_pred, k)))\n",
        "print(\"Mean Reciprocal Rank: {}\".format(mean_reciprocal_rank(y_test, y_pred)))\n",
        "print(\"Normalized Discounted Cumulative Gain@{}: {}\".format(k, normalized_discounted_cumulative_gain(y_test, y_pred, k)))"
      ]
    },
    {
      "cell_type": "markdown",
      "metadata": {
        "id": "axPNvKSzPZSb"
      },
      "source": [
        "### Arquitectura 7"
      ]
    },
    {
      "cell_type": "code",
      "execution_count": null,
      "metadata": {
        "id": "O3YTwFY9PZSb"
      },
      "outputs": [],
      "source": [
        "K.clear_session()\n",
        "tf.random.set_seed(51)\n",
        "np.random.seed(51)"
      ]
    },
    {
      "cell_type": "code",
      "execution_count": null,
      "metadata": {
        "id": "7C1Kc9j5PZSb"
      },
      "outputs": [],
      "source": [
        "hidden_units = [128, 64]\n",
        "\n",
        "user_input = Input(shape=(1,), name=\"user_id\", dtype=tf.int32)\n",
        "item_input = Input(shape=(1,), name=\"item_id\", dtype=tf.int32)\n",
        "user_embedding = Embedding(n_users,\n",
        "                                  n_latent_factors,\n",
        "                                  name=\"user_emb\")(user_input)\n",
        "item_embedding = Embedding(n_movies,\n",
        "                                  n_latent_factors,\n",
        "                                  name=\"item_emb\")(item_input)\n",
        "\n",
        "concatenated = Concatenate(name=\"concat\")([user_embedding, item_embedding])\n",
        "out = Flatten(name=\"flat\")(concatenated)\n",
        "\n",
        "for n_hidden in hidden_units:\n",
        "    out = Dense(n_hidden,\n",
        "                       activation=\"relu\")(out)\n",
        "    out = Dropout(0.4)(out)\n",
        "    out = BatchNormalization()(out)\n",
        "\n",
        "out = Dense(1, activation=\"sigmoid\", name=\"prediction\")(out)\n",
        "\n",
        "model_a7 = Model(inputs = [user_input, item_input],\n",
        "                      outputs = out, name=\"model_y\")\n",
        "\n",
        "model_a7.compile(loss=loss_function, optimizer = Adam(learning_rate=lr), metrics = ['accuracy'])\n",
        "\n",
        "model_a7.summary()"
      ]
    },
    {
      "cell_type": "code",
      "execution_count": null,
      "metadata": {
        "id": "gPDQIWssPZSb"
      },
      "outputs": [],
      "source": [
        "history_mda7 = train_model(model_a7)\n",
        "plot_loss(history_mda7)"
      ]
    },
    {
      "cell_type": "markdown",
      "metadata": {
        "id": "XvKF0exaPZSb"
      },
      "source": [
        "# Model Evaluation\n",
        "\n",
        "Intentamos medir el rendimiento del modelo proporcionando productos candidatos al modelo y evaluando los resultados. Los productos candidatos se combinan con 49 productos seleccionados entre los productos no comprados y un producto objetivo representado en la variable output_sequence. Si el producto objetivo aparece en los k primeros resultados del modelo, lo consideramos un acierto.\n",
        "\n",
        "Por otro lado; Hidasi y Karatzoglou (2018) definen \"recall@k\" como una métrica de evaluación como \"la proporción de casos que tienen el elemento deseado entre los primeros k elementos en todos los casos de prueba.\" Además, otra métrica de evaluación es \"MRR@k\", que es la media de los rangos recíprocos de los ítems objetivo. El rango recíproco se fija en cero si el rango es superior a k."
      ]
    }
  ],
  "metadata": {
    "accelerator": "GPU",
    "colab": {
      "gpuType": "T4",
      "include_colab_link": true,
      "provenance": []
    },
    "kernelspec": {
      "display_name": "Python 3",
      "name": "python3"
    },
    "language_info": {
      "codemirror_mode": {
        "name": "ipython",
        "version": 3
      },
      "file_extension": ".py",
      "mimetype": "text/x-python",
      "name": "python",
      "nbconvert_exporter": "python",
      "pygments_lexer": "ipython3",
      "version": "3.10.9"
    }
  },
  "nbformat": 4,
  "nbformat_minor": 0
}
