{
  "cells": [
    {
      "cell_type": "markdown",
      "metadata": {
        "colab_type": "text",
        "id": "view-in-github"
      },
      "source": [
        "<a href=\"https://colab.research.google.com/github/Jaime44/WorkSpace/blob/main/models/colaborative%20filter/movie-recommendation-system-collaborative-filter.ipynb\" target=\"_parent\"><img src=\"https://colab.research.google.com/assets/colab-badge.svg\" alt=\"Open In Colab\"/></a>"
      ]
    },
    {
      "cell_type": "markdown",
      "metadata": {
        "id": "FhEZoS7OyCMZ"
      },
      "source": [
        "https://www.kaggle.com/code/jaime44/movie-recommendation-system-collaborative-filter/edit"
      ]
    },
    {
      "cell_type": "code",
      "execution_count": 1,
      "metadata": {
        "colab": {
          "base_uri": "https://localhost:8080/"
        },
        "id": "oTbf6dHHyCMb",
        "outputId": "7e17d485-49a1-4311-beb5-b06efa1db466"
      },
      "outputs": [
        {
          "name": "stdout",
          "output_type": "stream",
          "text": [
            "El código se está ejecutando en un entorno local.\n"
          ]
        }
      ],
      "source": [
        "import os\n",
        "# Comprueba si el código se está ejecutando en Google Colab\n",
        "try:\n",
        "    import google.colab\n",
        "    IN_COLAB = True\n",
        "except:\n",
        "    IN_COLAB = False\n",
        "\n",
        "path_absolute = ''\n",
        "if IN_COLAB:\n",
        "    print(\"El código se está ejecutando en Google Colab.\")\n",
        "    from google.colab import drive\n",
        "\n",
        "    drive.mount('/content/drive')\n",
        "    path_absolute = '/content/drive/Othercomputers/Mi_portátil/TFM/WorkSpace/Models/colaborative filter'\n",
        "\n",
        "    # Cambia al directorio de tu carpeta en Google Drive\n",
        "    os.chdir(path_absolute)\n",
        "\n",
        "    # Lista los archivos y carpetas en el directorio actual\n",
        "    contenido_carpeta = os.listdir(path_absolute)\n",
        "    print(\"Contenido de la carpeta en Google Drive:\")\n",
        "    print(contenido_carpeta)\n",
        "else:\n",
        "    print(\"El código se está ejecutando en un entorno local.\")\n",
        "    path_absolute = os.getcwd().replace(\"\\\\\", \"/\")\n",
        "\n",
        "datasets_path = \"/datasets/\"\n",
        "path_absolute = path_absolute+datasets_path"
      ]
    },
    {
      "cell_type": "code",
      "execution_count": 2,
      "metadata": {
        "_cell_guid": "b1076dfc-b9ad-4769-8c92-a6c4dae69d19",
        "_uuid": "8f2839f25d086af736a60e9eeb907d3b93b6e0e5",
        "execution": {
          "iopub.execute_input": "2022-06-07T08:19:24.442335Z",
          "iopub.status.busy": "2022-06-07T08:19:24.441834Z",
          "iopub.status.idle": "2022-06-07T08:19:24.488356Z",
          "shell.execute_reply": "2022-06-07T08:19:24.487389Z",
          "shell.execute_reply.started": "2022-06-07T08:19:24.442238Z"
        },
        "id": "UoIicCwNyCMd",
        "trusted": true
      },
      "outputs": [],
      "source": [
        "# This Python 3 environment comes with many helpful analytics libraries installed\n",
        "# It is defined by the kaggle/python Docker image: https://github.com/kaggle/docker-python\n",
        "# For example, here's several helpful packages to load\n",
        "\n",
        "import numpy as np # linear algebra\n",
        "import pandas as pd # data processing, CSV file I/O (e.g. pd.read_csv)\n",
        "\n",
        "# Input data files are available in the read-only \"../input/\" directory\n",
        "# For example, running this (by clicking run or pressing Shift+Enter) will list all files under the input directory\n",
        "\n",
        "# import os\n",
        "# for dirname, _, filenames in os.walk('/kaggle/input'):\n",
        "#     for filename in filenames:\n",
        "#         print(os.path.join(dirname, filename))\n",
        "\n",
        "# You can write up to 20GB to the current directory (/kaggle/working/) that gets preserved as output when you create a version using \"Save & Run All\"\n",
        "# You can also write temporary files to /kaggle/temp/, but they won't be saved outside of the current session"
      ]
    },
    {
      "cell_type": "markdown",
      "metadata": {
        "id": "eYNuNT_DyCMe"
      },
      "source": [
        "# **Collaborative Filtering**\n",
        "\n",
        "<small>Collaborative filtering is a technique that can filter out items that a user might like on the basis of reactions by similar users.\n",
        "\n",
        "It works by searching a large group of people and finding a smaller set of users with tastes similar to a particular user. It looks at the items they like and combines them to create a ranked list of suggestions.\n",
        "\n",
        "There are many ways to decide which users are similar and combine their choices to create a list of recommendations</small>\n",
        "\n",
        "El filtrado colaborativo es una técnica que puede filtrar elementos que podrían gustar a un usuario basándose en las reacciones de usuarios similares.\n",
        "\n",
        "Funciona buscando en un grupo grande de personas y encontrando un conjunto más pequeño de usuarios con gustos similares a los de un usuario concreto. Observa los artículos que les gustan y los combina para crear una lista clasificada de sugerencias.\n",
        "\n",
        "Hay muchas formas de decidir qué usuarios son similares y combinar sus elecciones para crear una lista de recomendaciones"
      ]
    },
    {
      "cell_type": "markdown",
      "metadata": {
        "id": "xb1m9a4kyCMe"
      },
      "source": [
        "![colaborative filtering.png](attachment:5c14f24e-aec1-4538-9e9e-c3361ecad485.png)"
      ]
    },
    {
      "cell_type": "markdown",
      "metadata": {
        "id": "6boZkiT-yCMe"
      },
      "source": [
        "En nuestro proyecto utilizamos el método de correlación"
      ]
    },
    {
      "cell_type": "markdown",
      "metadata": {
        "id": "Gbi-TnnSyCMf"
      },
      "source": [
        "# 1.Import libraries"
      ]
    },
    {
      "cell_type": "code",
      "execution_count": 3,
      "metadata": {
        "colab": {
          "base_uri": "https://localhost:8080/"
        },
        "execution": {
          "iopub.execute_input": "2022-06-07T08:19:31.169531Z",
          "iopub.status.busy": "2022-06-07T08:19:31.169108Z",
          "iopub.status.idle": "2022-06-07T08:19:31.814336Z",
          "shell.execute_reply": "2022-06-07T08:19:31.812445Z",
          "shell.execute_reply.started": "2022-06-07T08:19:31.169494Z"
        },
        "id": "i-gmVfrvyCMf",
        "outputId": "ec828eb9-a1cf-43e1-ba26-67f635095213",
        "trusted": true
      },
      "outputs": [
        {
          "name": "stdout",
          "output_type": "stream",
          "text": [
            "libraries imported..\n"
          ]
        }
      ],
      "source": [
        "import numpy as np\n",
        "import pandas as pd\n",
        "import matplotlib.pyplot as plt\n",
        "import seaborn as sns\n",
        "%matplotlib inline\n",
        "print(\"libraries imported..\")"
      ]
    },
    {
      "cell_type": "markdown",
      "metadata": {
        "id": "4BHw-MS4yCMf"
      },
      "source": [
        "# 2. load two datasets"
      ]
    },
    {
      "cell_type": "code",
      "execution_count": 4,
      "metadata": {
        "execution": {
          "iopub.execute_input": "2022-06-07T08:19:35.65374Z",
          "iopub.status.busy": "2022-06-07T08:19:35.65335Z",
          "iopub.status.idle": "2022-06-07T08:19:35.730091Z",
          "shell.execute_reply": "2022-06-07T08:19:35.728995Z",
          "shell.execute_reply.started": "2022-06-07T08:19:35.653706Z"
        },
        "id": "d761VWTjyCMf",
        "trusted": true
      },
      "outputs": [],
      "source": [
        "rating = pd.read_csv(path_absolute+\"Dataset.csv\")"
      ]
    },
    {
      "cell_type": "code",
      "execution_count": 5,
      "metadata": {
        "colab": {
          "base_uri": "https://localhost:8080/",
          "height": 206
        },
        "execution": {
          "iopub.execute_input": "2022-06-07T08:19:38.560313Z",
          "iopub.status.busy": "2022-06-07T08:19:38.559884Z",
          "iopub.status.idle": "2022-06-07T08:19:38.580341Z",
          "shell.execute_reply": "2022-06-07T08:19:38.579305Z",
          "shell.execute_reply.started": "2022-06-07T08:19:38.560279Z"
        },
        "id": "vdB2FNq_yCMg",
        "outputId": "19f2c988-7ba6-46e2-fbd1-1e5ba1381062",
        "trusted": true
      },
      "outputs": [
        {
          "data": {
            "text/html": [
              "<div>\n",
              "<style scoped>\n",
              "    .dataframe tbody tr th:only-of-type {\n",
              "        vertical-align: middle;\n",
              "    }\n",
              "\n",
              "    .dataframe tbody tr th {\n",
              "        vertical-align: top;\n",
              "    }\n",
              "\n",
              "    .dataframe thead th {\n",
              "        text-align: right;\n",
              "    }\n",
              "</style>\n",
              "<table border=\"1\" class=\"dataframe\">\n",
              "  <thead>\n",
              "    <tr style=\"text-align: right;\">\n",
              "      <th></th>\n",
              "      <th>user_id</th>\n",
              "      <th>item_id</th>\n",
              "      <th>rating</th>\n",
              "      <th>timestamp</th>\n",
              "    </tr>\n",
              "  </thead>\n",
              "  <tbody>\n",
              "    <tr>\n",
              "      <th>0</th>\n",
              "      <td>0</td>\n",
              "      <td>50</td>\n",
              "      <td>5</td>\n",
              "      <td>881250949</td>\n",
              "    </tr>\n",
              "    <tr>\n",
              "      <th>1</th>\n",
              "      <td>0</td>\n",
              "      <td>172</td>\n",
              "      <td>5</td>\n",
              "      <td>881250949</td>\n",
              "    </tr>\n",
              "    <tr>\n",
              "      <th>2</th>\n",
              "      <td>0</td>\n",
              "      <td>133</td>\n",
              "      <td>1</td>\n",
              "      <td>881250949</td>\n",
              "    </tr>\n",
              "    <tr>\n",
              "      <th>3</th>\n",
              "      <td>196</td>\n",
              "      <td>242</td>\n",
              "      <td>3</td>\n",
              "      <td>881250949</td>\n",
              "    </tr>\n",
              "    <tr>\n",
              "      <th>4</th>\n",
              "      <td>186</td>\n",
              "      <td>302</td>\n",
              "      <td>3</td>\n",
              "      <td>891717742</td>\n",
              "    </tr>\n",
              "  </tbody>\n",
              "</table>\n",
              "</div>"
            ],
            "text/plain": [
              "   user_id  item_id  rating  timestamp\n",
              "0        0       50       5  881250949\n",
              "1        0      172       5  881250949\n",
              "2        0      133       1  881250949\n",
              "3      196      242       3  881250949\n",
              "4      186      302       3  891717742"
            ]
          },
          "execution_count": 5,
          "metadata": {},
          "output_type": "execute_result"
        }
      ],
      "source": [
        "rating.head()"
      ]
    },
    {
      "cell_type": "code",
      "execution_count": 6,
      "metadata": {
        "execution": {
          "iopub.execute_input": "2022-06-07T08:19:42.448784Z",
          "iopub.status.busy": "2022-06-07T08:19:42.448389Z",
          "iopub.status.idle": "2022-06-07T08:19:42.461908Z",
          "shell.execute_reply": "2022-06-07T08:19:42.46104Z",
          "shell.execute_reply.started": "2022-06-07T08:19:42.448751Z"
        },
        "id": "Sqb_k1clyCMg",
        "trusted": true
      },
      "outputs": [],
      "source": [
        "movie = pd.read_csv(path_absolute+\"Movie_Id_Titles.csv\")"
      ]
    },
    {
      "cell_type": "code",
      "execution_count": 7,
      "metadata": {
        "colab": {
          "base_uri": "https://localhost:8080/",
          "height": 206
        },
        "execution": {
          "iopub.execute_input": "2022-06-07T08:19:45.260265Z",
          "iopub.status.busy": "2022-06-07T08:19:45.259841Z",
          "iopub.status.idle": "2022-06-07T08:19:45.270613Z",
          "shell.execute_reply": "2022-06-07T08:19:45.26965Z",
          "shell.execute_reply.started": "2022-06-07T08:19:45.260231Z"
        },
        "id": "64eFgTW7yCMg",
        "outputId": "ae36a433-741b-4c3c-c347-be176bbe0105",
        "trusted": true
      },
      "outputs": [
        {
          "data": {
            "text/html": [
              "<div>\n",
              "<style scoped>\n",
              "    .dataframe tbody tr th:only-of-type {\n",
              "        vertical-align: middle;\n",
              "    }\n",
              "\n",
              "    .dataframe tbody tr th {\n",
              "        vertical-align: top;\n",
              "    }\n",
              "\n",
              "    .dataframe thead th {\n",
              "        text-align: right;\n",
              "    }\n",
              "</style>\n",
              "<table border=\"1\" class=\"dataframe\">\n",
              "  <thead>\n",
              "    <tr style=\"text-align: right;\">\n",
              "      <th></th>\n",
              "      <th>item_id</th>\n",
              "      <th>title</th>\n",
              "    </tr>\n",
              "  </thead>\n",
              "  <tbody>\n",
              "    <tr>\n",
              "      <th>0</th>\n",
              "      <td>1</td>\n",
              "      <td>Toy Story (1995)</td>\n",
              "    </tr>\n",
              "    <tr>\n",
              "      <th>1</th>\n",
              "      <td>2</td>\n",
              "      <td>GoldenEye (1995)</td>\n",
              "    </tr>\n",
              "    <tr>\n",
              "      <th>2</th>\n",
              "      <td>3</td>\n",
              "      <td>Four Rooms (1995)</td>\n",
              "    </tr>\n",
              "    <tr>\n",
              "      <th>3</th>\n",
              "      <td>4</td>\n",
              "      <td>Get Shorty (1995)</td>\n",
              "    </tr>\n",
              "    <tr>\n",
              "      <th>4</th>\n",
              "      <td>5</td>\n",
              "      <td>Copycat (1995)</td>\n",
              "    </tr>\n",
              "  </tbody>\n",
              "</table>\n",
              "</div>"
            ],
            "text/plain": [
              "   item_id              title\n",
              "0        1   Toy Story (1995)\n",
              "1        2   GoldenEye (1995)\n",
              "2        3  Four Rooms (1995)\n",
              "3        4  Get Shorty (1995)\n",
              "4        5     Copycat (1995)"
            ]
          },
          "execution_count": 7,
          "metadata": {},
          "output_type": "execute_result"
        }
      ],
      "source": [
        "movie.head()"
      ]
    },
    {
      "cell_type": "markdown",
      "metadata": {
        "id": "p-JhUvrYyCMg"
      },
      "source": [
        "# 3. Merge both the datasets based on Itemid"
      ]
    },
    {
      "cell_type": "code",
      "execution_count": 8,
      "metadata": {
        "execution": {
          "iopub.execute_input": "2022-06-07T08:19:48.7597Z",
          "iopub.status.busy": "2022-06-07T08:19:48.759315Z",
          "iopub.status.idle": "2022-06-07T08:19:48.798179Z",
          "shell.execute_reply": "2022-06-07T08:19:48.797294Z",
          "shell.execute_reply.started": "2022-06-07T08:19:48.759669Z"
        },
        "id": "5jGzveslyCMh",
        "trusted": true
      },
      "outputs": [],
      "source": [
        " df = pd.merge(movie,rating, on='item_id')"
      ]
    },
    {
      "cell_type": "code",
      "execution_count": 9,
      "metadata": {
        "colab": {
          "base_uri": "https://localhost:8080/",
          "height": 206
        },
        "execution": {
          "iopub.execute_input": "2022-06-07T08:19:52.040331Z",
          "iopub.status.busy": "2022-06-07T08:19:52.039788Z",
          "iopub.status.idle": "2022-06-07T08:19:52.049784Z",
          "shell.execute_reply": "2022-06-07T08:19:52.049014Z",
          "shell.execute_reply.started": "2022-06-07T08:19:52.040299Z"
        },
        "id": "6xsFzqo3yCMh",
        "outputId": "a839b7a8-e5c8-4de1-a3a5-3d3e868993c7",
        "trusted": true
      },
      "outputs": [
        {
          "data": {
            "text/html": [
              "<div>\n",
              "<style scoped>\n",
              "    .dataframe tbody tr th:only-of-type {\n",
              "        vertical-align: middle;\n",
              "    }\n",
              "\n",
              "    .dataframe tbody tr th {\n",
              "        vertical-align: top;\n",
              "    }\n",
              "\n",
              "    .dataframe thead th {\n",
              "        text-align: right;\n",
              "    }\n",
              "</style>\n",
              "<table border=\"1\" class=\"dataframe\">\n",
              "  <thead>\n",
              "    <tr style=\"text-align: right;\">\n",
              "      <th></th>\n",
              "      <th>item_id</th>\n",
              "      <th>title</th>\n",
              "      <th>user_id</th>\n",
              "      <th>rating</th>\n",
              "      <th>timestamp</th>\n",
              "    </tr>\n",
              "  </thead>\n",
              "  <tbody>\n",
              "    <tr>\n",
              "      <th>0</th>\n",
              "      <td>1</td>\n",
              "      <td>Toy Story (1995)</td>\n",
              "      <td>308</td>\n",
              "      <td>4</td>\n",
              "      <td>887736532</td>\n",
              "    </tr>\n",
              "    <tr>\n",
              "      <th>1</th>\n",
              "      <td>1</td>\n",
              "      <td>Toy Story (1995)</td>\n",
              "      <td>287</td>\n",
              "      <td>5</td>\n",
              "      <td>875334088</td>\n",
              "    </tr>\n",
              "    <tr>\n",
              "      <th>2</th>\n",
              "      <td>1</td>\n",
              "      <td>Toy Story (1995)</td>\n",
              "      <td>148</td>\n",
              "      <td>4</td>\n",
              "      <td>877019411</td>\n",
              "    </tr>\n",
              "    <tr>\n",
              "      <th>3</th>\n",
              "      <td>1</td>\n",
              "      <td>Toy Story (1995)</td>\n",
              "      <td>280</td>\n",
              "      <td>4</td>\n",
              "      <td>891700426</td>\n",
              "    </tr>\n",
              "    <tr>\n",
              "      <th>4</th>\n",
              "      <td>1</td>\n",
              "      <td>Toy Story (1995)</td>\n",
              "      <td>66</td>\n",
              "      <td>3</td>\n",
              "      <td>883601324</td>\n",
              "    </tr>\n",
              "  </tbody>\n",
              "</table>\n",
              "</div>"
            ],
            "text/plain": [
              "   item_id             title  user_id  rating  timestamp\n",
              "0        1  Toy Story (1995)      308       4  887736532\n",
              "1        1  Toy Story (1995)      287       5  875334088\n",
              "2        1  Toy Story (1995)      148       4  877019411\n",
              "3        1  Toy Story (1995)      280       4  891700426\n",
              "4        1  Toy Story (1995)       66       3  883601324"
            ]
          },
          "execution_count": 9,
          "metadata": {},
          "output_type": "execute_result"
        }
      ],
      "source": [
        "df.head()"
      ]
    },
    {
      "cell_type": "code",
      "execution_count": 10,
      "metadata": {
        "colab": {
          "base_uri": "https://localhost:8080/"
        },
        "id": "LXMO8AqoyCMh",
        "outputId": "bfab837c-ad7b-44c6-fb70-4b006e2f121a"
      },
      "outputs": [
        {
          "name": "stdout",
          "output_type": "stream",
          "text": [
            "(8949372, 13)\n",
            "(30000, 11)\n"
          ]
        }
      ],
      "source": [
        "ratings = pd.read_csv(path_absolute+'/df_mezclado_tags_ratings_movies_links_genTags.csv')\n",
        "print(ratings.shape)\n",
        "df_ratings_merge = ratings.copy()\n",
        "df_ratings_merge = df_ratings_merge.sample(n=30000, random_state=42)\n",
        "# Inserta la columna 'rating' en la última posición del DataFrame\n",
        "df_ratings_merge.insert(len(df_ratings_merge.columns)-1, 'rating', df_ratings_merge.pop('rating'))\n",
        "# Inserta la columna 'relevance' en la penúltima posición del DataFrame\n",
        "df_ratings_merge.insert(len(df_ratings_merge.columns)-2, 'relevance', df_ratings_merge.pop('relevance'))\n",
        "# Inserta la columna 'tag_etiquetas_genómicas' despues de tag_df_mezclado\n",
        "df_ratings_merge.insert(5, 'tag_etiquetas_genómicas', df_ratings_merge.pop('tag_etiquetas_genómicas'))\n",
        "\n",
        "# Renombrar algunas columnas:\n",
        "df_ratings_merge.rename(columns={'timestamp_valoraciones': 'timestamp_rt', 'timestamp_etiquetas': 'timestamp_tags', 'tag_df_mezclado_tags_ratings_movies_links_genMov': 'tag_by_user', 'tag_etiquetas_genómicas': 'gen_tag'}, inplace=True)\n",
        "\n",
        "# Elimino las columnas:\n",
        "columnas_a_eliminar = ['imdbId', 'tmdbId']\n",
        "df_ratings_merge = df_ratings_merge.drop(columnas_a_eliminar, axis=1)\n",
        "print(df_ratings_merge.shape)\n",
        "df_ratings_merge.head()\n",
        "\n",
        "df = df_ratings_merge.copy()"
      ]
    },
    {
      "cell_type": "markdown",
      "metadata": {
        "id": "LMvpmj58yCMh"
      },
      "source": [
        "# 4.EDA"
      ]
    },
    {
      "cell_type": "code",
      "execution_count": 11,
      "metadata": {
        "colab": {
          "base_uri": "https://localhost:8080/"
        },
        "execution": {
          "iopub.execute_input": "2022-06-07T08:19:55.280004Z",
          "iopub.status.busy": "2022-06-07T08:19:55.279481Z",
          "iopub.status.idle": "2022-06-07T08:19:55.286898Z",
          "shell.execute_reply": "2022-06-07T08:19:55.285885Z",
          "shell.execute_reply.started": "2022-06-07T08:19:55.279958Z"
        },
        "id": "vBZcKI24yCMh",
        "outputId": "50689b2f-e57a-47b8-8c2c-9e617c7cc893",
        "trusted": true
      },
      "outputs": [
        {
          "data": {
            "text/plain": [
              "(30000, 11)"
            ]
          },
          "execution_count": 11,
          "metadata": {},
          "output_type": "execute_result"
        }
      ],
      "source": [
        "df.shape"
      ]
    },
    {
      "cell_type": "code",
      "execution_count": 12,
      "metadata": {
        "colab": {
          "base_uri": "https://localhost:8080/"
        },
        "execution": {
          "iopub.execute_input": "2022-06-07T08:19:58.329297Z",
          "iopub.status.busy": "2022-06-07T08:19:58.328711Z",
          "iopub.status.idle": "2022-06-07T08:19:58.339332Z",
          "shell.execute_reply": "2022-06-07T08:19:58.338685Z",
          "shell.execute_reply.started": "2022-06-07T08:19:58.32926Z"
        },
        "id": "BBKi311xyCMi",
        "outputId": "a100ae55-e0b0-4f9d-e92b-9efefe62ebbd",
        "trusted": true
      },
      "outputs": [
        {
          "data": {
            "text/plain": [
              "4.0    6844\n",
              "5.0    6312\n",
              "4.5    5107\n",
              "3.5    4625\n",
              "3.0    2997\n",
              "2.5    1502\n",
              "2.0    1128\n",
              "1.5     573\n",
              "1.0     489\n",
              "0.5     423\n",
              "Name: rating, dtype: int64"
            ]
          },
          "execution_count": 12,
          "metadata": {},
          "output_type": "execute_result"
        }
      ],
      "source": [
        "df['rating'].value_counts()"
      ]
    },
    {
      "cell_type": "code",
      "execution_count": 13,
      "metadata": {
        "colab": {
          "base_uri": "https://localhost:8080/"
        },
        "execution": {
          "iopub.execute_input": "2022-06-07T08:20:01.439429Z",
          "iopub.status.busy": "2022-06-07T08:20:01.43869Z",
          "iopub.status.idle": "2022-06-07T08:20:01.461334Z",
          "shell.execute_reply": "2022-06-07T08:20:01.460372Z",
          "shell.execute_reply.started": "2022-06-07T08:20:01.439388Z"
        },
        "id": "ahDyXiwcyCMi",
        "outputId": "6322ef19-4a47-4026-f9b5-0fc806f941af",
        "trusted": true
      },
      "outputs": [
        {
          "data": {
            "text/plain": [
              "title\n",
              "Breakdown (1997)                                  5.0\n",
              "Human Centipede II (Full Sequence), The (2011)    5.0\n",
              "Honey, I Shrunk the Kids (1989)                   5.0\n",
              "Hoop Dreams (1994)                                5.0\n",
              "Requiem for the American Dream (2015)             5.0\n",
              "What a Girl Wants (2003)                          5.0\n",
              "The Distinguished Citizen (2016)                  5.0\n",
              "Reprise (2006)                                    5.0\n",
              "Anna and the King (1999)                          5.0\n",
              "Hostel: Part II (2007)                            5.0\n",
              "Name: rating, dtype: float64"
            ]
          },
          "execution_count": 13,
          "metadata": {},
          "output_type": "execute_result"
        }
      ],
      "source": [
        "df.groupby('title')['rating'].mean().sort_values(ascending=False).head(10)"
      ]
    },
    {
      "cell_type": "markdown",
      "metadata": {
        "id": "es_3P9ztyCMi"
      },
      "source": [
        "# 5.Visualisation"
      ]
    },
    {
      "cell_type": "code",
      "execution_count": 14,
      "metadata": {
        "colab": {
          "base_uri": "https://localhost:8080/",
          "height": 845
        },
        "execution": {
          "iopub.execute_input": "2022-06-07T08:20:07.040238Z",
          "iopub.status.busy": "2022-06-07T08:20:07.039821Z",
          "iopub.status.idle": "2022-06-07T08:20:07.320332Z",
          "shell.execute_reply": "2022-06-07T08:20:07.319235Z",
          "shell.execute_reply.started": "2022-06-07T08:20:07.040206Z"
        },
        "id": "QdDL-dfVyCMi",
        "outputId": "5b809a56-db96-411e-94ee-b01c59ff0577",
        "trusted": true
      },
      "outputs": [
        {
          "data": {
            "image/png": "[encoded data removed]",
            "text/plain": [
              "<Figure size 1000x1000 with 1 Axes>"
            ]
          },
          "metadata": {},
          "output_type": "display_data"
        }
      ],
      "source": [
        "df['rating'].hist(figsize= (10,10))\n",
        "plt.show()"
      ]
    },
    {
      "cell_type": "code",
      "execution_count": 15,
      "metadata": {
        "colab": {
          "base_uri": "https://localhost:8080/",
          "height": 588
        },
        "execution": {
          "iopub.execute_input": "2022-06-07T08:23:01.436321Z",
          "iopub.status.busy": "2022-06-07T08:23:01.435907Z",
          "iopub.status.idle": "2022-06-07T08:23:01.655958Z",
          "shell.execute_reply": "2022-06-07T08:23:01.654897Z",
          "shell.execute_reply.started": "2022-06-07T08:23:01.436291Z"
        },
        "id": "m1yZoSYSyCMi",
        "outputId": "2ee93710-4d76-4be8-bc35-0a541c660cfe",
        "trusted": true
      },
      "outputs": [
        {
          "name": "stderr",
          "output_type": "stream",
          "text": [
            "C:\\Users\\jaime\\AppData\\Local\\Temp\\ipykernel_32108\\1971095500.py:1: FutureWarning: The default value of numeric_only in DataFrame.corr is deprecated. In a future version, it will default to False. Select only valid columns or specify the value of numeric_only to silence this warning.\n",
            "  tc = df.corr()\n"
          ]
        },
        {
          "data": {
            "image/png": "[encoded data removed]",
            "text/plain": [
              "<Figure size 640x480 with 2 Axes>"
            ]
          },
          "metadata": {},
          "output_type": "display_data"
        }
      ],
      "source": [
        "tc = df.corr()\n",
        "sns.heatmap(tc)\n",
        "plt.show()\n"
      ]
    },
    {
      "cell_type": "markdown",
      "metadata": {
        "id": "L8kaSHhXyCMj"
      },
      "source": [
        "# 6.create a ratings dataframe with average rating and number of ratings"
      ]
    },
    {
      "cell_type": "code",
      "execution_count": 16,
      "metadata": {
        "colab": {
          "base_uri": "https://localhost:8080/",
          "height": 238
        },
        "execution": {
          "iopub.execute_input": "2022-06-07T08:25:15.410899Z",
          "iopub.status.busy": "2022-06-07T08:25:15.410514Z",
          "iopub.status.idle": "2022-06-07T08:25:15.437658Z",
          "shell.execute_reply": "2022-06-07T08:25:15.436907Z",
          "shell.execute_reply.started": "2022-06-07T08:25:15.410866Z"
        },
        "id": "2taXjagfyCMj",
        "outputId": "74948823-18c4-4cfc-d100-160c8bfaa3df",
        "trusted": true
      },
      "outputs": [
        {
          "data": {
            "text/html": [
              "<div>\n",
              "<style scoped>\n",
              "    .dataframe tbody tr th:only-of-type {\n",
              "        vertical-align: middle;\n",
              "    }\n",
              "\n",
              "    .dataframe tbody tr th {\n",
              "        vertical-align: top;\n",
              "    }\n",
              "\n",
              "    .dataframe thead th {\n",
              "        text-align: right;\n",
              "    }\n",
              "</style>\n",
              "<table border=\"1\" class=\"dataframe\">\n",
              "  <thead>\n",
              "    <tr style=\"text-align: right;\">\n",
              "      <th></th>\n",
              "      <th>rating</th>\n",
              "    </tr>\n",
              "    <tr>\n",
              "      <th>title</th>\n",
              "      <th></th>\n",
              "    </tr>\n",
              "  </thead>\n",
              "  <tbody>\n",
              "    <tr>\n",
              "      <th>'71 (2014)</th>\n",
              "      <td>4.500000</td>\n",
              "    </tr>\n",
              "    <tr>\n",
              "      <th>'Salem's Lot (2004)</th>\n",
              "      <td>5.000000</td>\n",
              "    </tr>\n",
              "    <tr>\n",
              "      <th>'burbs, The (1989)</th>\n",
              "      <td>3.500000</td>\n",
              "    </tr>\n",
              "    <tr>\n",
              "      <th>'night Mother (1986)</th>\n",
              "      <td>4.000000</td>\n",
              "    </tr>\n",
              "    <tr>\n",
              "      <th>(500) Days of Summer (2009)</th>\n",
              "      <td>4.213115</td>\n",
              "    </tr>\n",
              "  </tbody>\n",
              "</table>\n",
              "</div>"
            ],
            "text/plain": [
              "                               rating\n",
              "title                                \n",
              "'71 (2014)                   4.500000\n",
              "'Salem's Lot (2004)          5.000000\n",
              "'burbs, The (1989)           3.500000\n",
              "'night Mother (1986)         4.000000\n",
              "(500) Days of Summer (2009)  4.213115"
            ]
          },
          "execution_count": 16,
          "metadata": {},
          "output_type": "execute_result"
        }
      ],
      "source": [
        "ratings =pd.DataFrame(df.groupby('title')['rating'].mean())\n",
        "ratings.head()"
      ]
    },
    {
      "cell_type": "code",
      "execution_count": 17,
      "metadata": {
        "execution": {
          "iopub.execute_input": "2022-06-07T08:25:19.675189Z",
          "iopub.status.busy": "2022-06-07T08:25:19.674777Z",
          "iopub.status.idle": "2022-06-07T08:25:19.69524Z",
          "shell.execute_reply": "2022-06-07T08:25:19.693385Z",
          "shell.execute_reply.started": "2022-06-07T08:25:19.675155Z"
        },
        "id": "WYyy4sKJyCMj",
        "trusted": true
      },
      "outputs": [],
      "source": [
        "ratings['rating_numbers'] = pd.DataFrame(df.groupby('title')['rating'].count())"
      ]
    },
    {
      "cell_type": "code",
      "execution_count": 18,
      "metadata": {
        "colab": {
          "base_uri": "https://localhost:8080/",
          "height": 238
        },
        "execution": {
          "iopub.execute_input": "2022-06-07T08:25:22.037232Z",
          "iopub.status.busy": "2022-06-07T08:25:22.036804Z",
          "iopub.status.idle": "2022-06-07T08:25:22.04621Z",
          "shell.execute_reply": "2022-06-07T08:25:22.045218Z",
          "shell.execute_reply.started": "2022-06-07T08:25:22.0372Z"
        },
        "id": "ak4Fb1lsyCMj",
        "outputId": "496a6d15-c1fc-4277-a8fc-3db6e7b507b5",
        "trusted": true
      },
      "outputs": [
        {
          "data": {
            "text/html": [
              "<div>\n",
              "<style scoped>\n",
              "    .dataframe tbody tr th:only-of-type {\n",
              "        vertical-align: middle;\n",
              "    }\n",
              "\n",
              "    .dataframe tbody tr th {\n",
              "        vertical-align: top;\n",
              "    }\n",
              "\n",
              "    .dataframe thead th {\n",
              "        text-align: right;\n",
              "    }\n",
              "</style>\n",
              "<table border=\"1\" class=\"dataframe\">\n",
              "  <thead>\n",
              "    <tr style=\"text-align: right;\">\n",
              "      <th></th>\n",
              "      <th>rating</th>\n",
              "      <th>rating_numbers</th>\n",
              "    </tr>\n",
              "    <tr>\n",
              "      <th>title</th>\n",
              "      <th></th>\n",
              "      <th></th>\n",
              "    </tr>\n",
              "  </thead>\n",
              "  <tbody>\n",
              "    <tr>\n",
              "      <th>'71 (2014)</th>\n",
              "      <td>4.500000</td>\n",
              "      <td>2</td>\n",
              "    </tr>\n",
              "    <tr>\n",
              "      <th>'Salem's Lot (2004)</th>\n",
              "      <td>5.000000</td>\n",
              "      <td>1</td>\n",
              "    </tr>\n",
              "    <tr>\n",
              "      <th>'burbs, The (1989)</th>\n",
              "      <td>3.500000</td>\n",
              "      <td>4</td>\n",
              "    </tr>\n",
              "    <tr>\n",
              "      <th>'night Mother (1986)</th>\n",
              "      <td>4.000000</td>\n",
              "      <td>1</td>\n",
              "    </tr>\n",
              "    <tr>\n",
              "      <th>(500) Days of Summer (2009)</th>\n",
              "      <td>4.213115</td>\n",
              "      <td>61</td>\n",
              "    </tr>\n",
              "  </tbody>\n",
              "</table>\n",
              "</div>"
            ],
            "text/plain": [
              "                               rating  rating_numbers\n",
              "title                                                \n",
              "'71 (2014)                   4.500000               2\n",
              "'Salem's Lot (2004)          5.000000               1\n",
              "'burbs, The (1989)           3.500000               4\n",
              "'night Mother (1986)         4.000000               1\n",
              "(500) Days of Summer (2009)  4.213115              61"
            ]
          },
          "execution_count": 18,
          "metadata": {},
          "output_type": "execute_result"
        }
      ],
      "source": [
        "ratings.head()"
      ]
    },
    {
      "cell_type": "markdown",
      "metadata": {
        "id": "_XvIBgYByCMj"
      },
      "source": [
        "# 7. Create Pivot table"
      ]
    },
    {
      "cell_type": "code",
      "execution_count": 19,
      "metadata": {
        "colab": {
          "base_uri": "https://localhost:8080/",
          "height": 206
        },
        "id": "oCCp476AyCMj",
        "outputId": "cae2eb82-587a-422c-c9a4-cff1e2d8942d"
      },
      "outputs": [
        {
          "data": {
            "text/html": [
              "<div>\n",
              "<style scoped>\n",
              "    .dataframe tbody tr th:only-of-type {\n",
              "        vertical-align: middle;\n",
              "    }\n",
              "\n",
              "    .dataframe tbody tr th {\n",
              "        vertical-align: top;\n",
              "    }\n",
              "\n",
              "    .dataframe thead th {\n",
              "        text-align: right;\n",
              "    }\n",
              "</style>\n",
              "<table border=\"1\" class=\"dataframe\">\n",
              "  <thead>\n",
              "    <tr style=\"text-align: right;\">\n",
              "      <th></th>\n",
              "      <th>userId</th>\n",
              "      <th>movieId</th>\n",
              "      <th>timestamp_rt</th>\n",
              "      <th>tag_by_user</th>\n",
              "      <th>timestamp_tags</th>\n",
              "      <th>gen_tag</th>\n",
              "      <th>title</th>\n",
              "      <th>genres</th>\n",
              "      <th>tagId</th>\n",
              "      <th>relevance</th>\n",
              "      <th>rating</th>\n",
              "    </tr>\n",
              "  </thead>\n",
              "  <tbody>\n",
              "    <tr>\n",
              "      <th>1561133</th>\n",
              "      <td>60101</td>\n",
              "      <td>2571</td>\n",
              "      <td>1053445162</td>\n",
              "      <td>dystopia</td>\n",
              "      <td>1244667471</td>\n",
              "      <td>hitman</td>\n",
              "      <td>Matrix, The (1999)</td>\n",
              "      <td>Action|Sci-Fi|Thriller</td>\n",
              "      <td>512</td>\n",
              "      <td>0.12625</td>\n",
              "      <td>5.0</td>\n",
              "    </tr>\n",
              "    <tr>\n",
              "      <th>1499330</th>\n",
              "      <td>42923</td>\n",
              "      <td>1228</td>\n",
              "      <td>1330057917</td>\n",
              "      <td>classic</td>\n",
              "      <td>1330057913</td>\n",
              "      <td>nocturnal</td>\n",
              "      <td>Raging Bull (1980)</td>\n",
              "      <td>Drama</td>\n",
              "      <td>710</td>\n",
              "      <td>0.60700</td>\n",
              "      <td>4.0</td>\n",
              "    </tr>\n",
              "    <tr>\n",
              "      <th>1048680</th>\n",
              "      <td>7620</td>\n",
              "      <td>34532</td>\n",
              "      <td>1144937579</td>\n",
              "      <td>Magick</td>\n",
              "      <td>1144937622</td>\n",
              "      <td>true story</td>\n",
              "      <td>Skeleton Key, The (2005)</td>\n",
              "      <td>Drama|Horror|Mystery|Thriller</td>\n",
              "      <td>1047</td>\n",
              "      <td>0.05750</td>\n",
              "      <td>5.0</td>\n",
              "    </tr>\n",
              "    <tr>\n",
              "      <th>1703441</th>\n",
              "      <td>62199</td>\n",
              "      <td>5636</td>\n",
              "      <td>1199318408</td>\n",
              "      <td>Anthony Russo</td>\n",
              "      <td>1328741490</td>\n",
              "      <td>adoption</td>\n",
              "      <td>Welcome to Collinwood (2002)</td>\n",
              "      <td>Comedy|Crime</td>\n",
              "      <td>27</td>\n",
              "      <td>0.05325</td>\n",
              "      <td>3.0</td>\n",
              "    </tr>\n",
              "    <tr>\n",
              "      <th>5648649</th>\n",
              "      <td>29801</td>\n",
              "      <td>6250</td>\n",
              "      <td>1476349149</td>\n",
              "      <td>Stephen King</td>\n",
              "      <td>1476349186</td>\n",
              "      <td>cult film</td>\n",
              "      <td>Dreamcatcher (2003)</td>\n",
              "      <td>Drama|Horror|Sci-Fi|Thriller</td>\n",
              "      <td>276</td>\n",
              "      <td>0.36500</td>\n",
              "      <td>2.0</td>\n",
              "    </tr>\n",
              "  </tbody>\n",
              "</table>\n",
              "</div>"
            ],
            "text/plain": [
              "         userId  movieId  timestamp_rt    tag_by_user  timestamp_tags  \\\n",
              "1561133   60101     2571    1053445162       dystopia      1244667471   \n",
              "1499330   42923     1228    1330057917        classic      1330057913   \n",
              "1048680    7620    34532    1144937579         Magick      1144937622   \n",
              "1703441   62199     5636    1199318408  Anthony Russo      1328741490   \n",
              "5648649   29801     6250    1476349149   Stephen King      1476349186   \n",
              "\n",
              "            gen_tag                         title  \\\n",
              "1561133      hitman            Matrix, The (1999)   \n",
              "1499330   nocturnal            Raging Bull (1980)   \n",
              "1048680  true story      Skeleton Key, The (2005)   \n",
              "1703441    adoption  Welcome to Collinwood (2002)   \n",
              "5648649   cult film           Dreamcatcher (2003)   \n",
              "\n",
              "                                genres  tagId  relevance  rating  \n",
              "1561133         Action|Sci-Fi|Thriller    512    0.12625     5.0  \n",
              "1499330                          Drama    710    0.60700     4.0  \n",
              "1048680  Drama|Horror|Mystery|Thriller   1047    0.05750     5.0  \n",
              "1703441                   Comedy|Crime     27    0.05325     3.0  \n",
              "5648649   Drama|Horror|Sci-Fi|Thriller    276    0.36500     2.0  "
            ]
          },
          "execution_count": 19,
          "metadata": {},
          "output_type": "execute_result"
        }
      ],
      "source": [
        "df.head()"
      ]
    },
    {
      "cell_type": "markdown",
      "metadata": {},
      "source": [
        "## Esta matriz (movieRate) es una representación de las calificaciones dadas por los usuarios a las películas. Las filas representan usuarios, las columnas representan títulos de películas y los valores son las calificaciones. Las celdas que no tienen calificación se llenan con ceros."
      ]
    },
    {
      "cell_type": "code",
      "execution_count": 20,
      "metadata": {
        "execution": {
          "iopub.execute_input": "2022-06-07T08:25:25.475578Z",
          "iopub.status.busy": "2022-06-07T08:25:25.474985Z",
          "iopub.status.idle": "2022-06-07T08:25:25.621737Z",
          "shell.execute_reply": "2022-06-07T08:25:25.620984Z",
          "shell.execute_reply.started": "2022-06-07T08:25:25.475534Z"
        },
        "id": "SlyEs480yCMk",
        "trusted": true
      },
      "outputs": [],
      "source": [
        "movieRate = df.pivot_table(index='userId', columns='title', values='rating')\n",
        "movieRate.fillna(0, inplace=True)"
      ]
    },
    {
      "cell_type": "code",
      "execution_count": 21,
      "metadata": {
        "colab": {
          "base_uri": "https://localhost:8080/",
          "height": 354
        },
        "execution": {
          "iopub.execute_input": "2022-06-07T08:25:29.040355Z",
          "iopub.status.busy": "2022-06-07T08:25:29.039988Z",
          "iopub.status.idle": "2022-06-07T08:25:29.07078Z",
          "shell.execute_reply": "2022-06-07T08:25:29.070102Z",
          "shell.execute_reply.started": "2022-06-07T08:25:29.040325Z"
        },
        "id": "-N_J6TynyCMk",
        "outputId": "44313645-68ee-43bc-d400-84dbe171df72",
        "trusted": true
      },
      "outputs": [
        {
          "data": {
            "text/html": [
              "<div>\n",
              "<style scoped>\n",
              "    .dataframe tbody tr th:only-of-type {\n",
              "        vertical-align: middle;\n",
              "    }\n",
              "\n",
              "    .dataframe tbody tr th {\n",
              "        vertical-align: top;\n",
              "    }\n",
              "\n",
              "    .dataframe thead th {\n",
              "        text-align: right;\n",
              "    }\n",
              "</style>\n",
              "<table border=\"1\" class=\"dataframe\">\n",
              "  <thead>\n",
              "    <tr style=\"text-align: right;\">\n",
              "      <th>title</th>\n",
              "      <th>'71 (2014)</th>\n",
              "      <th>'Salem's Lot (2004)</th>\n",
              "      <th>'burbs, The (1989)</th>\n",
              "      <th>'night Mother (1986)</th>\n",
              "      <th>(500) Days of Summer (2009)</th>\n",
              "      <th>*batteries not included (1987)</th>\n",
              "      <th>+1 (2013)</th>\n",
              "      <th>...And Justice for All (1979)</th>\n",
              "      <th>10 (1979)</th>\n",
              "      <th>10 Cloverfield Lane (2016)</th>\n",
              "      <th>...</th>\n",
              "      <th>Zombieland (2009)</th>\n",
              "      <th>Zoolander (2001)</th>\n",
              "      <th>Zoolander 2 (2016)</th>\n",
              "      <th>Zootopia (2016)</th>\n",
              "      <th>[REC] (2007)</th>\n",
              "      <th>[REC]² (2009)</th>\n",
              "      <th>eXistenZ (1999)</th>\n",
              "      <th>loudQUIETloud: A Film About the Pixies (2006)</th>\n",
              "      <th>xXx (2002)</th>\n",
              "      <th>¡Three Amigos! (1986)</th>\n",
              "    </tr>\n",
              "    <tr>\n",
              "      <th>userId</th>\n",
              "      <th></th>\n",
              "      <th></th>\n",
              "      <th></th>\n",
              "      <th></th>\n",
              "      <th></th>\n",
              "      <th></th>\n",
              "      <th></th>\n",
              "      <th></th>\n",
              "      <th></th>\n",
              "      <th></th>\n",
              "      <th></th>\n",
              "      <th></th>\n",
              "      <th></th>\n",
              "      <th></th>\n",
              "      <th></th>\n",
              "      <th></th>\n",
              "      <th></th>\n",
              "      <th></th>\n",
              "      <th></th>\n",
              "      <th></th>\n",
              "      <th></th>\n",
              "    </tr>\n",
              "  </thead>\n",
              "  <tbody>\n",
              "    <tr>\n",
              "      <th>4</th>\n",
              "      <td>0.0</td>\n",
              "      <td>0.0</td>\n",
              "      <td>0.0</td>\n",
              "      <td>0.0</td>\n",
              "      <td>0.0</td>\n",
              "      <td>0.0</td>\n",
              "      <td>0.0</td>\n",
              "      <td>0.0</td>\n",
              "      <td>0.0</td>\n",
              "      <td>0.0</td>\n",
              "      <td>...</td>\n",
              "      <td>0.0</td>\n",
              "      <td>0.0</td>\n",
              "      <td>0.0</td>\n",
              "      <td>0.0</td>\n",
              "      <td>0.0</td>\n",
              "      <td>0.0</td>\n",
              "      <td>0.0</td>\n",
              "      <td>0.0</td>\n",
              "      <td>0.0</td>\n",
              "      <td>0.0</td>\n",
              "    </tr>\n",
              "    <tr>\n",
              "      <th>43</th>\n",
              "      <td>0.0</td>\n",
              "      <td>0.0</td>\n",
              "      <td>0.0</td>\n",
              "      <td>0.0</td>\n",
              "      <td>0.0</td>\n",
              "      <td>0.0</td>\n",
              "      <td>0.0</td>\n",
              "      <td>0.0</td>\n",
              "      <td>0.0</td>\n",
              "      <td>0.0</td>\n",
              "      <td>...</td>\n",
              "      <td>0.0</td>\n",
              "      <td>0.0</td>\n",
              "      <td>0.0</td>\n",
              "      <td>0.0</td>\n",
              "      <td>0.0</td>\n",
              "      <td>0.0</td>\n",
              "      <td>0.0</td>\n",
              "      <td>0.0</td>\n",
              "      <td>0.0</td>\n",
              "      <td>0.0</td>\n",
              "    </tr>\n",
              "    <tr>\n",
              "      <th>87</th>\n",
              "      <td>0.0</td>\n",
              "      <td>0.0</td>\n",
              "      <td>0.0</td>\n",
              "      <td>0.0</td>\n",
              "      <td>0.0</td>\n",
              "      <td>0.0</td>\n",
              "      <td>0.0</td>\n",
              "      <td>0.0</td>\n",
              "      <td>0.0</td>\n",
              "      <td>0.0</td>\n",
              "      <td>...</td>\n",
              "      <td>0.0</td>\n",
              "      <td>0.0</td>\n",
              "      <td>0.0</td>\n",
              "      <td>0.0</td>\n",
              "      <td>0.0</td>\n",
              "      <td>0.0</td>\n",
              "      <td>0.0</td>\n",
              "      <td>0.0</td>\n",
              "      <td>0.0</td>\n",
              "      <td>0.0</td>\n",
              "    </tr>\n",
              "    <tr>\n",
              "      <th>91</th>\n",
              "      <td>0.0</td>\n",
              "      <td>0.0</td>\n",
              "      <td>0.0</td>\n",
              "      <td>0.0</td>\n",
              "      <td>3.5</td>\n",
              "      <td>0.0</td>\n",
              "      <td>0.0</td>\n",
              "      <td>0.0</td>\n",
              "      <td>0.0</td>\n",
              "      <td>0.0</td>\n",
              "      <td>...</td>\n",
              "      <td>0.0</td>\n",
              "      <td>0.0</td>\n",
              "      <td>0.0</td>\n",
              "      <td>0.0</td>\n",
              "      <td>0.0</td>\n",
              "      <td>0.0</td>\n",
              "      <td>0.0</td>\n",
              "      <td>0.0</td>\n",
              "      <td>0.0</td>\n",
              "      <td>0.0</td>\n",
              "    </tr>\n",
              "    <tr>\n",
              "      <th>114</th>\n",
              "      <td>0.0</td>\n",
              "      <td>0.0</td>\n",
              "      <td>0.0</td>\n",
              "      <td>0.0</td>\n",
              "      <td>0.0</td>\n",
              "      <td>0.0</td>\n",
              "      <td>0.0</td>\n",
              "      <td>0.0</td>\n",
              "      <td>0.0</td>\n",
              "      <td>0.0</td>\n",
              "      <td>...</td>\n",
              "      <td>0.0</td>\n",
              "      <td>0.0</td>\n",
              "      <td>0.0</td>\n",
              "      <td>0.0</td>\n",
              "      <td>0.0</td>\n",
              "      <td>0.0</td>\n",
              "      <td>0.0</td>\n",
              "      <td>0.0</td>\n",
              "      <td>0.0</td>\n",
              "      <td>0.0</td>\n",
              "    </tr>\n",
              "  </tbody>\n",
              "</table>\n",
              "<p>5 rows × 5812 columns</p>\n",
              "</div>"
            ],
            "text/plain": [
              "title   '71 (2014)  'Salem's Lot (2004)  'burbs, The (1989)  \\\n",
              "userId                                                        \n",
              "4              0.0                  0.0                 0.0   \n",
              "43             0.0                  0.0                 0.0   \n",
              "87             0.0                  0.0                 0.0   \n",
              "91             0.0                  0.0                 0.0   \n",
              "114            0.0                  0.0                 0.0   \n",
              "\n",
              "title   'night Mother (1986)  (500) Days of Summer (2009)  \\\n",
              "userId                                                      \n",
              "4                        0.0                          0.0   \n",
              "43                       0.0                          0.0   \n",
              "87                       0.0                          0.0   \n",
              "91                       0.0                          3.5   \n",
              "114                      0.0                          0.0   \n",
              "\n",
              "title   *batteries not included (1987)  +1 (2013)  \\\n",
              "userId                                              \n",
              "4                                  0.0        0.0   \n",
              "43                                 0.0        0.0   \n",
              "87                                 0.0        0.0   \n",
              "91                                 0.0        0.0   \n",
              "114                                0.0        0.0   \n",
              "\n",
              "title   ...And Justice for All (1979)  10 (1979)  10 Cloverfield Lane (2016)  \\\n",
              "userId                                                                         \n",
              "4                                 0.0        0.0                         0.0   \n",
              "43                                0.0        0.0                         0.0   \n",
              "87                                0.0        0.0                         0.0   \n",
              "91                                0.0        0.0                         0.0   \n",
              "114                               0.0        0.0                         0.0   \n",
              "\n",
              "title   ...  Zombieland (2009)  Zoolander (2001)  Zoolander 2 (2016)  \\\n",
              "userId  ...                                                            \n",
              "4       ...                0.0               0.0                 0.0   \n",
              "43      ...                0.0               0.0                 0.0   \n",
              "87      ...                0.0               0.0                 0.0   \n",
              "91      ...                0.0               0.0                 0.0   \n",
              "114     ...                0.0               0.0                 0.0   \n",
              "\n",
              "title   Zootopia (2016)  [REC] (2007)  [REC]² (2009)  eXistenZ (1999)  \\\n",
              "userId                                                                  \n",
              "4                   0.0           0.0            0.0              0.0   \n",
              "43                  0.0           0.0            0.0              0.0   \n",
              "87                  0.0           0.0            0.0              0.0   \n",
              "91                  0.0           0.0            0.0              0.0   \n",
              "114                 0.0           0.0            0.0              0.0   \n",
              "\n",
              "title   loudQUIETloud: A Film About the Pixies (2006)  xXx (2002)  \\\n",
              "userId                                                              \n",
              "4                                                 0.0         0.0   \n",
              "43                                                0.0         0.0   \n",
              "87                                                0.0         0.0   \n",
              "91                                                0.0         0.0   \n",
              "114                                               0.0         0.0   \n",
              "\n",
              "title   ¡Three Amigos! (1986)  \n",
              "userId                         \n",
              "4                         0.0  \n",
              "43                        0.0  \n",
              "87                        0.0  \n",
              "91                        0.0  \n",
              "114                       0.0  \n",
              "\n",
              "[5 rows x 5812 columns]"
            ]
          },
          "execution_count": 21,
          "metadata": {},
          "output_type": "execute_result"
        }
      ],
      "source": [
        "movieRate.head()"
      ]
    },
    {
      "cell_type": "markdown",
      "metadata": {
        "id": "tqE20EAgyCMk"
      },
      "source": [
        "# 8.Recommendation system"
      ]
    },
    {
      "cell_type": "markdown",
      "metadata": {},
      "source": [
        "Calcular la correlación entre la película de entrada (la película para la cual queremos hacer recomendaciones) y todas las demás películas en la matriz movieRate\n",
        "\n",
        "Calcula la **correlación de Pearson** entre las calificaciones de cada película en movieRate y las calificaciones del usuario especificado por user_rating.\n",
        "La función **corrwith** compara las calificaciones de la película de entrada con las calificaciones de cada otra película en términos de su similitud. Esto puede ayudar a identificar películas que tienen calificaciones similares por parte de los usuarios.\n",
        "\n",
        "\n",
        "La variable min_rating_count en el código que proporcionaste es un umbral utilizado para filtrar las películas recomendadas basándose en el número mínimo de calificaciones que deben tener. Veamos cómo se utiliza en la función"
      ]
    },
    {
      "cell_type": "code",
      "execution_count": 22,
      "metadata": {
        "execution": {
          "iopub.execute_input": "2022-06-07T08:25:34.033969Z",
          "iopub.status.busy": "2022-06-07T08:25:34.033566Z",
          "iopub.status.idle": "2022-06-07T08:25:34.040604Z",
          "shell.execute_reply": "2022-06-07T08:25:34.039765Z",
          "shell.execute_reply.started": "2022-06-07T08:25:34.033935Z"
        },
        "id": "amDQxRFoyCMk",
        "trusted": true
      },
      "outputs": [],
      "source": [
        "def recommendMovies(name , min_rating_count = 50):\n",
        "    user_rating = movieRate[name]\n",
        "    similar_movies = movieRate.corrwith(user_rating)\n",
        "    corr_movies = pd.DataFrame(similar_movies, columns=['Correlation'])\n",
        "    corr_movies.dropna(inplace=True)\n",
        "    #corr_movies.sort_values('Correlation', ascending=False).head(10)\n",
        "    # Joining the rating_number list so that we can filter basis minimum count of ratings to be considered\n",
        "    # for recommending a movie\n",
        "    corr_movies = corr_movies.join(ratings['rating_numbers'], how='left', lsuffix='_left', rsuffix='_right')\n",
        "\n",
        "    final = corr_movies[corr_movies['rating_numbers']>min_rating_count].sort_values('Correlation', ascending=False)\n",
        "    return final"
      ]
    },
    {
      "cell_type": "code",
      "execution_count": 23,
      "metadata": {},
      "outputs": [],
      "source": [
        "user_rating = movieRate[\"Harry Potter and the Goblet of Fire (2005)\"]\n",
        "similar_movies = movieRate.corrwith(user_rating)\n",
        "corr_movies = pd.DataFrame(similar_movies, columns=['Correlation'])\n",
        "corr_movies.dropna(inplace=True)"
      ]
    },
    {
      "cell_type": "code",
      "execution_count": 24,
      "metadata": {
        "colab": {
          "base_uri": "https://localhost:8080/",
          "height": 394
        },
        "execution": {
          "iopub.execute_input": "2022-06-07T08:25:37.674694Z",
          "iopub.status.busy": "2022-06-07T08:25:37.674296Z",
          "iopub.status.idle": "2022-06-07T08:25:38.168412Z",
          "shell.execute_reply": "2022-06-07T08:25:38.167386Z",
          "shell.execute_reply.started": "2022-06-07T08:25:37.674662Z"
        },
        "id": "FPREjw6jyCMk",
        "outputId": "340c336b-cbb5-45f9-d486-f9c406e4dceb",
        "trusted": true
      },
      "outputs": [
        {
          "data": {
            "text/html": [
              "<div>\n",
              "<style scoped>\n",
              "    .dataframe tbody tr th:only-of-type {\n",
              "        vertical-align: middle;\n",
              "    }\n",
              "\n",
              "    .dataframe tbody tr th {\n",
              "        vertical-align: top;\n",
              "    }\n",
              "\n",
              "    .dataframe thead th {\n",
              "        text-align: right;\n",
              "    }\n",
              "</style>\n",
              "<table border=\"1\" class=\"dataframe\">\n",
              "  <thead>\n",
              "    <tr style=\"text-align: right;\">\n",
              "      <th></th>\n",
              "      <th>Correlation</th>\n",
              "      <th>rating_numbers</th>\n",
              "    </tr>\n",
              "    <tr>\n",
              "      <th>title</th>\n",
              "      <th></th>\n",
              "      <th></th>\n",
              "    </tr>\n",
              "  </thead>\n",
              "  <tbody>\n",
              "    <tr>\n",
              "      <th>Wolf of Wall Street, The (2013)</th>\n",
              "      <td>0.169063</td>\n",
              "      <td>89</td>\n",
              "    </tr>\n",
              "    <tr>\n",
              "      <th>Mr. Nobody (2009)</th>\n",
              "      <td>0.127147</td>\n",
              "      <td>63</td>\n",
              "    </tr>\n",
              "    <tr>\n",
              "      <th>Eternal Sunshine of the Spotless Mind (2004)</th>\n",
              "      <td>0.104735</td>\n",
              "      <td>58</td>\n",
              "    </tr>\n",
              "    <tr>\n",
              "      <th>Shutter Island (2010)</th>\n",
              "      <td>0.098319</td>\n",
              "      <td>90</td>\n",
              "    </tr>\n",
              "    <tr>\n",
              "      <th>American Beauty (1999)</th>\n",
              "      <td>0.096950</td>\n",
              "      <td>78</td>\n",
              "    </tr>\n",
              "    <tr>\n",
              "      <th>Amelie (Fabuleux destin d'Amélie Poulain, Le) (2001)</th>\n",
              "      <td>0.083046</td>\n",
              "      <td>119</td>\n",
              "    </tr>\n",
              "    <tr>\n",
              "      <th>Dark Knight, The (2008)</th>\n",
              "      <td>0.078645</td>\n",
              "      <td>85</td>\n",
              "    </tr>\n",
              "    <tr>\n",
              "      <th>Good Will Hunting (1997)</th>\n",
              "      <td>0.072983</td>\n",
              "      <td>73</td>\n",
              "    </tr>\n",
              "    <tr>\n",
              "      <th>WALL·E (2008)</th>\n",
              "      <td>0.069284</td>\n",
              "      <td>51</td>\n",
              "    </tr>\n",
              "    <tr>\n",
              "      <th>Arrival (2016)</th>\n",
              "      <td>0.067149</td>\n",
              "      <td>95</td>\n",
              "    </tr>\n",
              "  </tbody>\n",
              "</table>\n",
              "</div>"
            ],
            "text/plain": [
              "                                                    Correlation  \\\n",
              "title                                                             \n",
              "Wolf of Wall Street, The (2013)                        0.169063   \n",
              "Mr. Nobody (2009)                                      0.127147   \n",
              "Eternal Sunshine of the Spotless Mind (2004)           0.104735   \n",
              "Shutter Island (2010)                                  0.098319   \n",
              "American Beauty (1999)                                 0.096950   \n",
              "Amelie (Fabuleux destin d'Amélie Poulain, Le) (...     0.083046   \n",
              "Dark Knight, The (2008)                                0.078645   \n",
              "Good Will Hunting (1997)                               0.072983   \n",
              "WALL·E (2008)                                          0.069284   \n",
              "Arrival (2016)                                         0.067149   \n",
              "\n",
              "                                                    rating_numbers  \n",
              "title                                                               \n",
              "Wolf of Wall Street, The (2013)                                 89  \n",
              "Mr. Nobody (2009)                                               63  \n",
              "Eternal Sunshine of the Spotless Mind (2004)                    58  \n",
              "Shutter Island (2010)                                           90  \n",
              "American Beauty (1999)                                          78  \n",
              "Amelie (Fabuleux destin d'Amélie Poulain, Le) (...             119  \n",
              "Dark Knight, The (2008)                                         85  \n",
              "Good Will Hunting (1997)                                        73  \n",
              "WALL·E (2008)                                                   51  \n",
              "Arrival (2016)                                                  95  "
            ]
          },
          "execution_count": 24,
          "metadata": {},
          "output_type": "execute_result"
        }
      ],
      "source": [
        "recommendations = recommendMovies('Harry Potter and the Goblet of Fire (2005)')\n",
        "recommendations.head(n=10)"
      ]
    },
    {
      "cell_type": "markdown",
      "metadata": {
        "id": "bgHPDP-RyCMl"
      },
      "source": [
        "# Conclusion\n",
        "\n",
        "1. we build a collaborative recommendation system to recommend movies.\n",
        "2. memory based approch is used.\n",
        "\n",
        "**Enfoques colaborativos basados en la memoria**\n",
        "\n",
        "Las principales características de usuario-usuario e ítem-ítem se aproximan a que utilizan solo información de la matriz de interacción usuario-ítem y no asumen ningún modelo para producir nuevas recomendaciones.\n"
      ]
    },
    {
      "cell_type": "markdown",
      "metadata": {},
      "source": [
        "## Similitud con Pearson \n",
        "**.corr()**"
      ]
    },
    {
      "cell_type": "markdown",
      "metadata": {},
      "source": [
        "**df.corr(method='pearson'):**\n",
        "\n",
        "Esta función calcula la correlación entre las columnas de un DataFrame.\n",
        "method='pearson' indica que se está utilizando el coeficiente de correlación de Pearson, que mide la correlación lineal entre dos variables continuas. Toma valores entre -1 y 1, donde 1 significa una correlación positiva perfecta, -1 significa una correlación negativa perfecta, y 0 significa ausencia de correlación lineal.\n",
        "En el contexto del código que proporcionaste, se utiliza para calcular la correlación entre todas las columnas del DataFrame df."
      ]
    },
    {
      "cell_type": "code",
      "execution_count": 25,
      "metadata": {},
      "outputs": [],
      "source": [
        "ratings = df.copy()"
      ]
    },
    {
      "cell_type": "code",
      "execution_count": 26,
      "metadata": {},
      "outputs": [
        {
          "name": "stdout",
          "output_type": "stream",
          "text": [
            "Before:  (4369, 5812)\n",
            "After:  (4369, 600)\n"
          ]
        }
      ],
      "source": [
        "userRatings = ratings.pivot_table(index=['userId'],columns=['title'],values='rating')\n",
        "userRatings.head()\n",
        "print(\"Before: \",userRatings.shape)\n",
        "userRatings = userRatings.dropna(thresh=10, axis=1).fillna(0,axis=1)\n",
        "#userRatings.fillna(0, inplace=True)\n",
        "print(\"After: \",userRatings.shape)"
      ]
    },
    {
      "cell_type": "code",
      "execution_count": 27,
      "metadata": {},
      "outputs": [
        {
          "data": {
            "text/html": [
              "<div>\n",
              "<style scoped>\n",
              "    .dataframe tbody tr th:only-of-type {\n",
              "        vertical-align: middle;\n",
              "    }\n",
              "\n",
              "    .dataframe tbody tr th {\n",
              "        vertical-align: top;\n",
              "    }\n",
              "\n",
              "    .dataframe thead th {\n",
              "        text-align: right;\n",
              "    }\n",
              "</style>\n",
              "<table border=\"1\" class=\"dataframe\">\n",
              "  <thead>\n",
              "    <tr style=\"text-align: right;\">\n",
              "      <th>title</th>\n",
              "      <th>(500) Days of Summer (2009)</th>\n",
              "      <th>10 Cloverfield Lane (2016)</th>\n",
              "      <th>10 Things I Hate About You (1999)</th>\n",
              "      <th>12 Angry Men (1957)</th>\n",
              "      <th>127 Hours (2010)</th>\n",
              "      <th>2001: A Space Odyssey (1968)</th>\n",
              "      <th>2012 (2009)</th>\n",
              "      <th>28 Days Later (2002)</th>\n",
              "      <th>300 (2007)</th>\n",
              "      <th>40-Year-Old Virgin, The (2005)</th>\n",
              "      <th>...</th>\n",
              "      <th>X-Men: First Class (2011)</th>\n",
              "      <th>X-Men: The Last Stand (2006)</th>\n",
              "      <th>X2: X-Men United (2003)</th>\n",
              "      <th>Yes Man (2008)</th>\n",
              "      <th>Your Name. (2016)</th>\n",
              "      <th>Zodiac (2007)</th>\n",
              "      <th>Zombieland (2009)</th>\n",
              "      <th>Zoolander (2001)</th>\n",
              "      <th>Zootopia (2016)</th>\n",
              "      <th>[REC] (2007)</th>\n",
              "    </tr>\n",
              "    <tr>\n",
              "      <th>title</th>\n",
              "      <th></th>\n",
              "      <th></th>\n",
              "      <th></th>\n",
              "      <th></th>\n",
              "      <th></th>\n",
              "      <th></th>\n",
              "      <th></th>\n",
              "      <th></th>\n",
              "      <th></th>\n",
              "      <th></th>\n",
              "      <th></th>\n",
              "      <th></th>\n",
              "      <th></th>\n",
              "      <th></th>\n",
              "      <th></th>\n",
              "      <th></th>\n",
              "      <th></th>\n",
              "      <th></th>\n",
              "      <th></th>\n",
              "      <th></th>\n",
              "      <th></th>\n",
              "    </tr>\n",
              "  </thead>\n",
              "  <tbody>\n",
              "    <tr>\n",
              "      <th>(500) Days of Summer (2009)</th>\n",
              "      <td>1.000000</td>\n",
              "      <td>0.079470</td>\n",
              "      <td>0.025530</td>\n",
              "      <td>0.044719</td>\n",
              "      <td>0.039695</td>\n",
              "      <td>0.004368</td>\n",
              "      <td>-0.005330</td>\n",
              "      <td>-0.007893</td>\n",
              "      <td>-0.006972</td>\n",
              "      <td>-0.005761</td>\n",
              "      <td>...</td>\n",
              "      <td>-0.005010</td>\n",
              "      <td>-0.004227</td>\n",
              "      <td>-0.005323</td>\n",
              "      <td>0.094485</td>\n",
              "      <td>0.025544</td>\n",
              "      <td>0.032358</td>\n",
              "      <td>0.022235</td>\n",
              "      <td>-0.005407</td>\n",
              "      <td>-0.007161</td>\n",
              "      <td>0.029878</td>\n",
              "    </tr>\n",
              "    <tr>\n",
              "      <th>10 Cloverfield Lane (2016)</th>\n",
              "      <td>0.079470</td>\n",
              "      <td>1.000000</td>\n",
              "      <td>0.062743</td>\n",
              "      <td>0.016902</td>\n",
              "      <td>-0.003102</td>\n",
              "      <td>0.076167</td>\n",
              "      <td>-0.003249</td>\n",
              "      <td>0.068830</td>\n",
              "      <td>-0.004251</td>\n",
              "      <td>-0.003512</td>\n",
              "      <td>...</td>\n",
              "      <td>0.027423</td>\n",
              "      <td>-0.002577</td>\n",
              "      <td>-0.003245</td>\n",
              "      <td>-0.002832</td>\n",
              "      <td>0.072550</td>\n",
              "      <td>0.118810</td>\n",
              "      <td>0.085849</td>\n",
              "      <td>-0.003297</td>\n",
              "      <td>0.116086</td>\n",
              "      <td>0.064227</td>\n",
              "    </tr>\n",
              "    <tr>\n",
              "      <th>10 Things I Hate About You (1999)</th>\n",
              "      <td>0.025530</td>\n",
              "      <td>0.062743</td>\n",
              "      <td>1.000000</td>\n",
              "      <td>-0.003874</td>\n",
              "      <td>-0.002588</td>\n",
              "      <td>0.059734</td>\n",
              "      <td>0.015901</td>\n",
              "      <td>-0.004014</td>\n",
              "      <td>-0.003546</td>\n",
              "      <td>0.032663</td>\n",
              "      <td>...</td>\n",
              "      <td>-0.002548</td>\n",
              "      <td>0.109036</td>\n",
              "      <td>0.074037</td>\n",
              "      <td>-0.002363</td>\n",
              "      <td>-0.002456</td>\n",
              "      <td>-0.003664</td>\n",
              "      <td>0.048237</td>\n",
              "      <td>-0.002750</td>\n",
              "      <td>-0.003642</td>\n",
              "      <td>-0.002486</td>\n",
              "    </tr>\n",
              "    <tr>\n",
              "      <th>12 Angry Men (1957)</th>\n",
              "      <td>0.044719</td>\n",
              "      <td>0.016902</td>\n",
              "      <td>-0.003874</td>\n",
              "      <td>1.000000</td>\n",
              "      <td>0.030576</td>\n",
              "      <td>0.004981</td>\n",
              "      <td>-0.004285</td>\n",
              "      <td>-0.006346</td>\n",
              "      <td>-0.005606</td>\n",
              "      <td>-0.004632</td>\n",
              "      <td>...</td>\n",
              "      <td>0.011112</td>\n",
              "      <td>-0.003399</td>\n",
              "      <td>-0.004280</td>\n",
              "      <td>-0.003735</td>\n",
              "      <td>0.041837</td>\n",
              "      <td>0.061698</td>\n",
              "      <td>-0.006617</td>\n",
              "      <td>-0.004348</td>\n",
              "      <td>0.047975</td>\n",
              "      <td>-0.003930</td>\n",
              "    </tr>\n",
              "    <tr>\n",
              "      <th>127 Hours (2010)</th>\n",
              "      <td>0.039695</td>\n",
              "      <td>-0.003102</td>\n",
              "      <td>-0.002588</td>\n",
              "      <td>0.030576</td>\n",
              "      <td>1.000000</td>\n",
              "      <td>-0.005617</td>\n",
              "      <td>-0.002863</td>\n",
              "      <td>-0.004240</td>\n",
              "      <td>-0.003745</td>\n",
              "      <td>-0.003094</td>\n",
              "      <td>...</td>\n",
              "      <td>-0.002691</td>\n",
              "      <td>-0.002271</td>\n",
              "      <td>-0.002859</td>\n",
              "      <td>-0.002495</td>\n",
              "      <td>-0.002594</td>\n",
              "      <td>0.031291</td>\n",
              "      <td>0.071004</td>\n",
              "      <td>-0.002905</td>\n",
              "      <td>-0.003847</td>\n",
              "      <td>-0.002625</td>\n",
              "    </tr>\n",
              "  </tbody>\n",
              "</table>\n",
              "<p>5 rows × 600 columns</p>\n",
              "</div>"
            ],
            "text/plain": [
              "title                              (500) Days of Summer (2009)  \\\n",
              "title                                                            \n",
              "(500) Days of Summer (2009)                           1.000000   \n",
              "10 Cloverfield Lane (2016)                            0.079470   \n",
              "10 Things I Hate About You (1999)                     0.025530   \n",
              "12 Angry Men (1957)                                   0.044719   \n",
              "127 Hours (2010)                                      0.039695   \n",
              "\n",
              "title                              10 Cloverfield Lane (2016)  \\\n",
              "title                                                           \n",
              "(500) Days of Summer (2009)                          0.079470   \n",
              "10 Cloverfield Lane (2016)                           1.000000   \n",
              "10 Things I Hate About You (1999)                    0.062743   \n",
              "12 Angry Men (1957)                                  0.016902   \n",
              "127 Hours (2010)                                    -0.003102   \n",
              "\n",
              "title                              10 Things I Hate About You (1999)  \\\n",
              "title                                                                  \n",
              "(500) Days of Summer (2009)                                 0.025530   \n",
              "10 Cloverfield Lane (2016)                                  0.062743   \n",
              "10 Things I Hate About You (1999)                           1.000000   \n",
              "12 Angry Men (1957)                                        -0.003874   \n",
              "127 Hours (2010)                                           -0.002588   \n",
              "\n",
              "title                              12 Angry Men (1957)  127 Hours (2010)  \\\n",
              "title                                                                      \n",
              "(500) Days of Summer (2009)                   0.044719          0.039695   \n",
              "10 Cloverfield Lane (2016)                    0.016902         -0.003102   \n",
              "10 Things I Hate About You (1999)            -0.003874         -0.002588   \n",
              "12 Angry Men (1957)                           1.000000          0.030576   \n",
              "127 Hours (2010)                              0.030576          1.000000   \n",
              "\n",
              "title                              2001: A Space Odyssey (1968)  2012 (2009)  \\\n",
              "title                                                                          \n",
              "(500) Days of Summer (2009)                            0.004368    -0.005330   \n",
              "10 Cloverfield Lane (2016)                             0.076167    -0.003249   \n",
              "10 Things I Hate About You (1999)                      0.059734     0.015901   \n",
              "12 Angry Men (1957)                                    0.004981    -0.004285   \n",
              "127 Hours (2010)                                      -0.005617    -0.002863   \n",
              "\n",
              "title                              28 Days Later (2002)  300 (2007)  \\\n",
              "title                                                                 \n",
              "(500) Days of Summer (2009)                   -0.007893   -0.006972   \n",
              "10 Cloverfield Lane (2016)                     0.068830   -0.004251   \n",
              "10 Things I Hate About You (1999)             -0.004014   -0.003546   \n",
              "12 Angry Men (1957)                           -0.006346   -0.005606   \n",
              "127 Hours (2010)                              -0.004240   -0.003745   \n",
              "\n",
              "title                              40-Year-Old Virgin, The (2005)  ...  \\\n",
              "title                                                              ...   \n",
              "(500) Days of Summer (2009)                             -0.005761  ...   \n",
              "10 Cloverfield Lane (2016)                              -0.003512  ...   \n",
              "10 Things I Hate About You (1999)                        0.032663  ...   \n",
              "12 Angry Men (1957)                                     -0.004632  ...   \n",
              "127 Hours (2010)                                        -0.003094  ...   \n",
              "\n",
              "title                              X-Men: First Class (2011)  \\\n",
              "title                                                          \n",
              "(500) Days of Summer (2009)                        -0.005010   \n",
              "10 Cloverfield Lane (2016)                          0.027423   \n",
              "10 Things I Hate About You (1999)                  -0.002548   \n",
              "12 Angry Men (1957)                                 0.011112   \n",
              "127 Hours (2010)                                   -0.002691   \n",
              "\n",
              "title                              X-Men: The Last Stand (2006)  \\\n",
              "title                                                             \n",
              "(500) Days of Summer (2009)                           -0.004227   \n",
              "10 Cloverfield Lane (2016)                            -0.002577   \n",
              "10 Things I Hate About You (1999)                      0.109036   \n",
              "12 Angry Men (1957)                                   -0.003399   \n",
              "127 Hours (2010)                                      -0.002271   \n",
              "\n",
              "title                              X2: X-Men United (2003)  Yes Man (2008)  \\\n",
              "title                                                                        \n",
              "(500) Days of Summer (2009)                      -0.005323        0.094485   \n",
              "10 Cloverfield Lane (2016)                       -0.003245       -0.002832   \n",
              "10 Things I Hate About You (1999)                 0.074037       -0.002363   \n",
              "12 Angry Men (1957)                              -0.004280       -0.003735   \n",
              "127 Hours (2010)                                 -0.002859       -0.002495   \n",
              "\n",
              "title                              Your Name. (2016)  Zodiac (2007)  \\\n",
              "title                                                                 \n",
              "(500) Days of Summer (2009)                 0.025544       0.032358   \n",
              "10 Cloverfield Lane (2016)                  0.072550       0.118810   \n",
              "10 Things I Hate About You (1999)          -0.002456      -0.003664   \n",
              "12 Angry Men (1957)                         0.041837       0.061698   \n",
              "127 Hours (2010)                           -0.002594       0.031291   \n",
              "\n",
              "title                              Zombieland (2009)  Zoolander (2001)  \\\n",
              "title                                                                    \n",
              "(500) Days of Summer (2009)                 0.022235         -0.005407   \n",
              "10 Cloverfield Lane (2016)                  0.085849         -0.003297   \n",
              "10 Things I Hate About You (1999)           0.048237         -0.002750   \n",
              "12 Angry Men (1957)                        -0.006617         -0.004348   \n",
              "127 Hours (2010)                            0.071004         -0.002905   \n",
              "\n",
              "title                              Zootopia (2016)  [REC] (2007)  \n",
              "title                                                             \n",
              "(500) Days of Summer (2009)              -0.007161      0.029878  \n",
              "10 Cloverfield Lane (2016)                0.116086      0.064227  \n",
              "10 Things I Hate About You (1999)        -0.003642     -0.002486  \n",
              "12 Angry Men (1957)                       0.047975     -0.003930  \n",
              "127 Hours (2010)                         -0.003847     -0.002625  \n",
              "\n",
              "[5 rows x 600 columns]"
            ]
          },
          "execution_count": 27,
          "metadata": {},
          "output_type": "execute_result"
        }
      ],
      "source": [
        "corrMatrix = userRatings.corr(method='pearson')\n",
        "corrMatrix.head()"
      ]
    },
    {
      "cell_type": "code",
      "execution_count": 28,
      "metadata": {},
      "outputs": [],
      "source": [
        "def get_similar(movie_name,rating):\n",
        "    similar_ratings = corrMatrix[movie_name]*(rating-2.5)\n",
        "    similar_ratings = similar_ratings.sort_values(ascending=False)\n",
        "    #print(type(similar_ratings))\n",
        "    return similar_ratings"
      ]
    },
    {
      "cell_type": "code",
      "execution_count": 29,
      "metadata": {},
      "outputs": [
        {
          "name": "stderr",
          "output_type": "stream",
          "text": [
            "C:\\Users\\jaime\\AppData\\Local\\Temp\\ipykernel_32108\\2499626287.py:5: FutureWarning: The frame.append method is deprecated and will be removed from pandas in a future version. Use pandas.concat instead.\n",
            "  similar_movies = similar_movies.append(get_similar(movie,rating),ignore_index = True)\n",
            "C:\\Users\\jaime\\AppData\\Local\\Temp\\ipykernel_32108\\2499626287.py:5: FutureWarning: The frame.append method is deprecated and will be removed from pandas in a future version. Use pandas.concat instead.\n",
            "  similar_movies = similar_movies.append(get_similar(movie,rating),ignore_index = True)\n",
            "C:\\Users\\jaime\\AppData\\Local\\Temp\\ipykernel_32108\\2499626287.py:5: FutureWarning: The frame.append method is deprecated and will be removed from pandas in a future version. Use pandas.concat instead.\n",
            "  similar_movies = similar_movies.append(get_similar(movie,rating),ignore_index = True)\n",
            "C:\\Users\\jaime\\AppData\\Local\\Temp\\ipykernel_32108\\2499626287.py:5: FutureWarning: The frame.append method is deprecated and will be removed from pandas in a future version. Use pandas.concat instead.\n",
            "  similar_movies = similar_movies.append(get_similar(movie,rating),ignore_index = True)\n"
          ]
        },
        {
          "data": {
            "text/plain": [
              "title\n",
              "(500) Days of Summer (2009)                       2.487918\n",
              "Big Fish (2003)                                   0.434354\n",
              "Alice in Wonderland (2010)                        0.406069\n",
              "Aeon Flux (2005)                                  0.333582\n",
              "Separation, A (Jodaeiye Nader az Simin) (2011)    0.297235\n",
              "Virgin Suicides, The (1999)                       0.281546\n",
              "Yes Man (2008)                                    0.243989\n",
              "Before Sunset (2004)                              0.242406\n",
              "Time Traveler's Wife, The (2009)                  0.234057\n",
              "Adventureland (2009)                              0.217912\n",
              "Blue Valentine (2010)                             0.211308\n",
              "Bridesmaids (2011)                                0.210968\n",
              "Coherence (2013)                                  0.204631\n",
              "50/50 (2011)                                      0.202725\n",
              "dtype: float64"
            ]
          },
          "execution_count": 29,
          "metadata": {},
          "output_type": "execute_result"
        }
      ],
      "source": [
        "romantic_lover = [(\"(500) Days of Summer (2009)\",5),(\"Alice in Wonderland (2010)\",3),\n",
        "                  (\"Aliens (1986)\",1),(\"2001: A Space Odyssey (1968)\",2)]\n",
        "similar_movies = pd.DataFrame()\n",
        "for movie,rating in romantic_lover:\n",
        "    similar_movies = similar_movies.append(get_similar(movie,rating),ignore_index = True)\n",
        "\n",
        "similar_movies.head(14)\n",
        "similar_movies.sum().sort_values(ascending=False).head(14)"
      ]
    },
    {
      "cell_type": "code",
      "execution_count": 30,
      "metadata": {},
      "outputs": [
        {
          "name": "stderr",
          "output_type": "stream",
          "text": [
            "C:\\Users\\jaime\\AppData\\Local\\Temp\\ipykernel_32108\\2666596755.py:5: FutureWarning: The frame.append method is deprecated and will be removed from pandas in a future version. Use pandas.concat instead.\n",
            "  similar_movies = similar_movies.append(get_similar(movie,rating),ignore_index = True)\n"
          ]
        },
        {
          "ename": "KeyError",
          "evalue": "'Mission: Impossible III (2006)'",
          "output_type": "error",
          "traceback": [
            "\u001b[1;31m---------------------------------------------------------------------------\u001b[0m",
            "\u001b[1;31mKeyError\u001b[0m                                  Traceback (most recent call last)",
            "File \u001b[1;32mc:\\Users\\jaime\\Anaconda3\\lib\\site-packages\\pandas\\core\\indexes\\base.py:3802\u001b[0m, in \u001b[0;36mIndex.get_loc\u001b[1;34m(self, key, method, tolerance)\u001b[0m\n\u001b[0;32m   3801\u001b[0m \u001b[38;5;28;01mtry\u001b[39;00m:\n\u001b[1;32m-> 3802\u001b[0m     \u001b[38;5;28;01mreturn\u001b[39;00m \u001b[38;5;28;43mself\u001b[39;49m\u001b[38;5;241;43m.\u001b[39;49m\u001b[43m_engine\u001b[49m\u001b[38;5;241;43m.\u001b[39;49m\u001b[43mget_loc\u001b[49m\u001b[43m(\u001b[49m\u001b[43mcasted_key\u001b[49m\u001b[43m)\u001b[49m\n\u001b[0;32m   3803\u001b[0m \u001b[38;5;28;01mexcept\u001b[39;00m \u001b[38;5;167;01mKeyError\u001b[39;00m \u001b[38;5;28;01mas\u001b[39;00m err:\n",
            "File \u001b[1;32mc:\\Users\\jaime\\Anaconda3\\lib\\site-packages\\pandas\\_libs\\index.pyx:138\u001b[0m, in \u001b[0;36mpandas._libs.index.IndexEngine.get_loc\u001b[1;34m()\u001b[0m\n",
            "File \u001b[1;32mc:\\Users\\jaime\\Anaconda3\\lib\\site-packages\\pandas\\_libs\\index.pyx:165\u001b[0m, in \u001b[0;36mpandas._libs.index.IndexEngine.get_loc\u001b[1;34m()\u001b[0m\n",
            "File \u001b[1;32mpandas\\_libs\\hashtable_class_helper.pxi:5745\u001b[0m, in \u001b[0;36mpandas._libs.hashtable.PyObjectHashTable.get_item\u001b[1;34m()\u001b[0m\n",
            "File \u001b[1;32mpandas\\_libs\\hashtable_class_helper.pxi:5753\u001b[0m, in \u001b[0;36mpandas._libs.hashtable.PyObjectHashTable.get_item\u001b[1;34m()\u001b[0m\n",
            "\u001b[1;31mKeyError\u001b[0m: 'Mission: Impossible III (2006)'",
            "\nThe above exception was the direct cause of the following exception:\n",
            "\u001b[1;31mKeyError\u001b[0m                                  Traceback (most recent call last)",
            "Cell \u001b[1;32mIn[30], line 5\u001b[0m\n\u001b[0;32m      3\u001b[0m similar_movies \u001b[38;5;241m=\u001b[39m pd\u001b[38;5;241m.\u001b[39mDataFrame()\n\u001b[0;32m      4\u001b[0m \u001b[38;5;28;01mfor\u001b[39;00m movie,rating \u001b[38;5;129;01min\u001b[39;00m action_lover:\n\u001b[1;32m----> 5\u001b[0m     similar_movies \u001b[38;5;241m=\u001b[39m similar_movies\u001b[38;5;241m.\u001b[39mappend(\u001b[43mget_similar\u001b[49m\u001b[43m(\u001b[49m\u001b[43mmovie\u001b[49m\u001b[43m,\u001b[49m\u001b[43mrating\u001b[49m\u001b[43m)\u001b[49m,ignore_index \u001b[38;5;241m=\u001b[39m \u001b[38;5;28;01mTrue\u001b[39;00m)\n\u001b[0;32m      7\u001b[0m similar_movies\u001b[38;5;241m.\u001b[39mhead(\u001b[38;5;241m10\u001b[39m)\n\u001b[0;32m      8\u001b[0m similar_movies\u001b[38;5;241m.\u001b[39msum()\u001b[38;5;241m.\u001b[39msort_values(ascending\u001b[38;5;241m=\u001b[39m\u001b[38;5;28;01mFalse\u001b[39;00m)\u001b[38;5;241m.\u001b[39mhead(\u001b[38;5;241m14\u001b[39m)\n",
            "Cell \u001b[1;32mIn[28], line 2\u001b[0m, in \u001b[0;36mget_similar\u001b[1;34m(movie_name, rating)\u001b[0m\n\u001b[0;32m      1\u001b[0m \u001b[38;5;28;01mdef\u001b[39;00m \u001b[38;5;21mget_similar\u001b[39m(movie_name,rating):\n\u001b[1;32m----> 2\u001b[0m     similar_ratings \u001b[38;5;241m=\u001b[39m \u001b[43mcorrMatrix\u001b[49m\u001b[43m[\u001b[49m\u001b[43mmovie_name\u001b[49m\u001b[43m]\u001b[49m\u001b[38;5;241m*\u001b[39m(rating\u001b[38;5;241m-\u001b[39m\u001b[38;5;241m2.5\u001b[39m)\n\u001b[0;32m      3\u001b[0m     similar_ratings \u001b[38;5;241m=\u001b[39m similar_ratings\u001b[38;5;241m.\u001b[39msort_values(ascending\u001b[38;5;241m=\u001b[39m\u001b[38;5;28;01mFalse\u001b[39;00m)\n\u001b[0;32m      4\u001b[0m     \u001b[38;5;66;03m#print(type(similar_ratings))\u001b[39;00m\n",
            "File \u001b[1;32mc:\\Users\\jaime\\Anaconda3\\lib\\site-packages\\pandas\\core\\frame.py:3807\u001b[0m, in \u001b[0;36mDataFrame.__getitem__\u001b[1;34m(self, key)\u001b[0m\n\u001b[0;32m   3805\u001b[0m \u001b[38;5;28;01mif\u001b[39;00m \u001b[38;5;28mself\u001b[39m\u001b[38;5;241m.\u001b[39mcolumns\u001b[38;5;241m.\u001b[39mnlevels \u001b[38;5;241m>\u001b[39m \u001b[38;5;241m1\u001b[39m:\n\u001b[0;32m   3806\u001b[0m     \u001b[38;5;28;01mreturn\u001b[39;00m \u001b[38;5;28mself\u001b[39m\u001b[38;5;241m.\u001b[39m_getitem_multilevel(key)\n\u001b[1;32m-> 3807\u001b[0m indexer \u001b[38;5;241m=\u001b[39m \u001b[38;5;28;43mself\u001b[39;49m\u001b[38;5;241;43m.\u001b[39;49m\u001b[43mcolumns\u001b[49m\u001b[38;5;241;43m.\u001b[39;49m\u001b[43mget_loc\u001b[49m\u001b[43m(\u001b[49m\u001b[43mkey\u001b[49m\u001b[43m)\u001b[49m\n\u001b[0;32m   3808\u001b[0m \u001b[38;5;28;01mif\u001b[39;00m is_integer(indexer):\n\u001b[0;32m   3809\u001b[0m     indexer \u001b[38;5;241m=\u001b[39m [indexer]\n",
            "File \u001b[1;32mc:\\Users\\jaime\\Anaconda3\\lib\\site-packages\\pandas\\core\\indexes\\base.py:3804\u001b[0m, in \u001b[0;36mIndex.get_loc\u001b[1;34m(self, key, method, tolerance)\u001b[0m\n\u001b[0;32m   3802\u001b[0m     \u001b[38;5;28;01mreturn\u001b[39;00m \u001b[38;5;28mself\u001b[39m\u001b[38;5;241m.\u001b[39m_engine\u001b[38;5;241m.\u001b[39mget_loc(casted_key)\n\u001b[0;32m   3803\u001b[0m \u001b[38;5;28;01mexcept\u001b[39;00m \u001b[38;5;167;01mKeyError\u001b[39;00m \u001b[38;5;28;01mas\u001b[39;00m err:\n\u001b[1;32m-> 3804\u001b[0m     \u001b[38;5;28;01mraise\u001b[39;00m \u001b[38;5;167;01mKeyError\u001b[39;00m(key) \u001b[38;5;28;01mfrom\u001b[39;00m \u001b[38;5;21;01merr\u001b[39;00m\n\u001b[0;32m   3805\u001b[0m \u001b[38;5;28;01mexcept\u001b[39;00m \u001b[38;5;167;01mTypeError\u001b[39;00m:\n\u001b[0;32m   3806\u001b[0m     \u001b[38;5;66;03m# If we have a listlike key, _check_indexing_error will raise\u001b[39;00m\n\u001b[0;32m   3807\u001b[0m     \u001b[38;5;66;03m#  InvalidIndexError. Otherwise we fall through and re-raise\u001b[39;00m\n\u001b[0;32m   3808\u001b[0m     \u001b[38;5;66;03m#  the TypeError.\u001b[39;00m\n\u001b[0;32m   3809\u001b[0m     \u001b[38;5;28mself\u001b[39m\u001b[38;5;241m.\u001b[39m_check_indexing_error(key)\n",
            "\u001b[1;31mKeyError\u001b[0m: 'Mission: Impossible III (2006)'"
          ]
        }
      ],
      "source": [
        "action_lover = [(\"Amazing Spider-Man, The (2012)\",5),(\"Mission: Impossible III (2006)\",4),\n",
        "                (\"Toy Story 3 (2010)\",2),(\"2 Fast 2 Furious (Fast and the Furious 2, The) (2003)\",4)]\n",
        "similar_movies = pd.DataFrame()\n",
        "for movie,rating in action_lover:\n",
        "    similar_movies = similar_movies.append(get_similar(movie,rating),ignore_index = True)\n",
        "\n",
        "similar_movies.head(10)\n",
        "similar_movies.sum().sort_values(ascending=False).head(14)"
      ]
    },
    {
      "cell_type": "code",
      "execution_count": 31,
      "metadata": {},
      "outputs": [
        {
          "name": "stderr",
          "output_type": "stream",
          "text": [
            "C:\\Users\\jaime\\AppData\\Local\\Temp\\ipykernel_32108\\1170701911.py:4: FutureWarning: The frame.append method is deprecated and will be removed from pandas in a future version. Use pandas.concat instead.\n",
            "  similar_movies = similar_movies.append(get_similar(movie,rating),ignore_index = True)\n"
          ]
        },
        {
          "data": {
            "text/plain": [
              "title\n",
              "Harry Potter and the Goblet of Fire (2005)                                                        1.500000\n",
              "The Intern (2015)                                                                                 0.361768\n",
              "Armageddon (1998)                                                                                 0.346673\n",
              "Harry Potter and the Deathly Hallows: Part 1 (2010)                                               0.312192\n",
              "The Interview (2014)                                                                              0.304631\n",
              "It (2017)                                                                                         0.271346\n",
              "Breakfast Club, The (1985)                                                                        0.260525\n",
              "Wolf of Wall Street, The (2013)                                                                   0.253595\n",
              "Thor (2011)                                                                                       0.240914\n",
              "Taken (2008)                                                                                      0.233771\n",
              "Captain Fantastic (2016)                                                                          0.233422\n",
              "Zoolander (2001)                                                                                  0.231378\n",
              "Princess Mononoke (Mononoke-hime) (1997)                                                          0.218216\n",
              "Harry Potter and the Sorcerer's Stone (a.k.a. Harry Potter and the Philosopher's Stone) (2001)    0.214331\n",
              "dtype: float64"
            ]
          },
          "execution_count": 31,
          "metadata": {},
          "output_type": "execute_result"
        }
      ],
      "source": [
        "movies = [(\"Harry Potter and the Goblet of Fire (2005)\",4)]\n",
        "similar_movies = pd.DataFrame()\n",
        "for movie,rating in movies:\n",
        "    similar_movies = similar_movies.append(get_similar(movie,rating),ignore_index = True)\n",
        "\n",
        "similar_movies.head(10)\n",
        "similar_movies.sum().sort_values(ascending=False).head(14)"
      ]
    }
  ],
  "metadata": {
    "accelerator": "GPU",
    "colab": {
      "gpuType": "T4",
      "include_colab_link": true,
      "provenance": []
    },
    "kaggle": {
      "accelerator": "none",
      "dataSources": [
        {
          "datasetId": 1328499,
          "sourceId": 2212151,
          "sourceType": "datasetVersion"
        }
      ],
      "dockerImageVersionId": 30197,
      "isGpuEnabled": false,
      "isInternetEnabled": true,
      "language": "python",
      "sourceType": "notebook"
    },
    "kernelspec": {
      "display_name": "Python 3",
      "name": "python3"
    },
    "language_info": {
      "codemirror_mode": {
        "name": "ipython",
        "version": 3
      },
      "file_extension": ".py",
      "mimetype": "text/x-python",
      "name": "python",
      "nbconvert_exporter": "python",
      "pygments_lexer": "ipython3",
      "version": "3.10.9"
    }
  },
  "nbformat": 4,
  "nbformat_minor": 0
}
