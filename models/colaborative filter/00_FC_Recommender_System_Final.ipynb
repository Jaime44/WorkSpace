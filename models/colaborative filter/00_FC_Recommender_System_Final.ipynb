{
  "cells": [
    {
      "cell_type": "markdown",
      "metadata": {
        "id": "view-in-github",
        "colab_type": "text"
      },
      "source": [
        "<a href=\"https://colab.research.google.com/github/Jaime44/WorkSpace/blob/main/models/colaborative%20filter/00_FC_Recommender_System_Final.ipynb\" target=\"_parent\"><img src=\"https://colab.research.google.com/assets/colab-badge.svg\" alt=\"Open In Colab\"/></a>"
      ]
    },
    {
      "cell_type": "code",
      "execution_count": null,
      "metadata": {
        "id": "d5FnS7RyJmBo"
      },
      "outputs": [],
      "source": [
        "import os\n",
        "# Comprueba si el código se está ejecutando en Google Colab\n",
        "try:\n",
        "    import google.colab\n",
        "    IN_COLAB = True\n",
        "except:\n",
        "    IN_COLAB = False\n",
        "\n",
        "path_absolute = ''\n",
        "if IN_COLAB:\n",
        "    print(\"El código se está ejecutando en Google Colab.\")\n",
        "    from google.colab import drive\n",
        "\n",
        "    drive.mount('/content/drive')\n",
        "    path_absolute = '/content/drive/Othercomputers/Mi_portátil/TFM/WorkSpace/Models/colaborative filter'\n",
        "\n",
        "    # Cambia al directorio de tu carpeta en Google Drive\n",
        "    os.chdir(path_absolute)\n",
        "\n",
        "    # Lista los archivos y carpetas en el directorio actual\n",
        "    contenido_carpeta = os.listdir(path_absolute)\n",
        "    print(\"Contenido de la carpeta en Google Drive:\")\n",
        "    print(contenido_carpeta)\n",
        "else:\n",
        "    print(\"El código se está ejecutando en un entorno local.\")\n",
        "    path_absolute = os.getcwd().replace(\"\\\\\", \"/\")\n",
        "\n",
        "datasets_path = \"/datasets/\"\n",
        "path_absolute = path_absolute+datasets_path"
      ]
    },
    {
      "cell_type": "code",
      "execution_count": null,
      "metadata": {
        "id": "DLmW6q-eJmBp"
      },
      "outputs": [],
      "source": [
        "import numpy as np\n",
        "import pandas as pd\n",
        "import matplotlib.pyplot as plt\n",
        "import seaborn as sns\n",
        "from surprise import Reader, Dataset, SVD\n",
        "from surprise.model_selection import cross_validate, train_test_split"
      ]
    },
    {
      "cell_type": "code",
      "execution_count": null,
      "metadata": {
        "id": "pBLauZxhJmBq"
      },
      "outputs": [],
      "source": [
        "#Carga de datos y preprocesado\n",
        "\n",
        "dataFrame = pd.read_csv(path_absolute+'/df_mezclado_tags_ratings_movies_links_genTags.csv')\n",
        "\n",
        "print(dataFrame.shape)\n",
        "\n",
        "data = dataFrame.copy()\n",
        "# data = data.sample(n=10000, random_state=42)\n",
        "\n",
        "# Inserta la columna 'rating' en la última posición del DataFrame\n",
        "data.insert(len(data.columns)-1, 'rating', data.pop('rating'))\n",
        "# Inserta la columna 'relevance' en la penúltima posición del DataFrame\n",
        "data.insert(len(data.columns)-2, 'relevance', data.pop('relevance'))\n",
        "# Inserta la columna 'tag_etiquetas_genómicas' despues de tag_df_mezclado\n",
        "data.insert(5, 'tag_etiquetas_genómicas', data.pop('tag_etiquetas_genómicas'))\n",
        "\n",
        "# Renombrar algunas columnas:\n",
        "data.rename(columns={'timestamp_valoraciones': 'timestamp_rt', 'timestamp_etiquetas': 'timestamp_tags', 'tag_df_mezclado_tags_ratings_movies_links_genMov': 'tag_by_user', 'tag_etiquetas_genómicas': 'gen_tag'}, inplace=True)\n",
        "\n",
        "# Elimino las columnas:\n",
        "columnas_a_eliminar = ['imdbId', 'tmdbId']\n",
        "data = data.drop(columnas_a_eliminar, axis=1)\n",
        "print(data.shape)\n",
        "data.head()\n",
        "\n",
        "df = data.copy()"
      ]
    },
    {
      "cell_type": "code",
      "execution_count": null,
      "metadata": {
        "id": "Aul7dYq0JmBq"
      },
      "outputs": [],
      "source": [
        "# Se cuenta los valores unicos de usuarios\n",
        "df['userId'].value_counts()"
      ]
    },
    {
      "cell_type": "code",
      "execution_count": null,
      "metadata": {
        "id": "O5ui4b86JmBq"
      },
      "outputs": [],
      "source": [
        "# Se cuenta los valores unicos de rating\n",
        "df['rating'].value_counts()\n"
      ]
    },
    {
      "cell_type": "code",
      "execution_count": null,
      "metadata": {
        "id": "QgLe9ItgJmBq"
      },
      "outputs": [],
      "source": [
        "rango_valores = df['rating'].describe()['min'], df['rating'].describe()['max']\n",
        "print(\"Rango de valores cd rating:\", rango_valores)"
      ]
    },
    {
      "cell_type": "code",
      "execution_count": null,
      "metadata": {
        "id": "QvC4wZneJmBr"
      },
      "outputs": [],
      "source": [
        "# Se cuenta los valores unicos de peliculas\n",
        "df['movieId'].value_counts()"
      ]
    },
    {
      "cell_type": "code",
      "execution_count": null,
      "metadata": {
        "id": "YlnsitoVJmBr"
      },
      "outputs": [],
      "source": [
        "#promedio de calificaciones agrupado por titulos\n",
        "df.groupby('title')['rating'].mean().sort_values(ascending=False).head(10)"
      ]
    },
    {
      "cell_type": "code",
      "execution_count": null,
      "metadata": {
        "id": "ccTcMEfGJmBr"
      },
      "outputs": [],
      "source": [
        "#hisotgrama de la distribución de las disitntas calificaciones\n",
        "df['rating'].hist(figsize= (10,10))\n",
        "plt.show()"
      ]
    },
    {
      "cell_type": "markdown",
      "metadata": {
        "id": "MVQR5zBYJmBw"
      },
      "source": [
        "### Analizar la distribución del número de votos (o calificaciones) dados por los usuarios a las películas y el número de películas calificadas por cada usuario en un conjunto de datos de películas."
      ]
    },
    {
      "cell_type": "code",
      "execution_count": null,
      "metadata": {
        "id": "HRPZZqTmJmBw"
      },
      "outputs": [],
      "source": [
        "dataFrame = data.copy()"
      ]
    },
    {
      "cell_type": "code",
      "execution_count": null,
      "metadata": {
        "id": "UEAEyUr-JmBx"
      },
      "outputs": [],
      "source": [
        "# Contar el número de votos (calificaciones) por cada película\n",
        "numberOf_user_voted_for_movie = pd.DataFrame(dataFrame.groupby('movieId')['rating'].agg('count'))\n",
        "numberOf_user_voted_for_movie.reset_index(level = 0,inplace = True)\n",
        "numberOf_user_voted_for_movie.head()"
      ]
    },
    {
      "cell_type": "code",
      "execution_count": null,
      "metadata": {
        "id": "L1SY6P2IJmBx"
      },
      "outputs": [],
      "source": [
        "# Descripción estadística del número de votos por película\n",
        "numberOf_user_voted_for_movie.describe()"
      ]
    },
    {
      "cell_type": "markdown",
      "metadata": {
        "id": "lh7b3WYhJmBx"
      },
      "source": [
        "La tabla proporciona estadísticas descriptivas sobre el número de votos por película (rating) en el conjunto de datos. Aquí está la interpretación de las estadísticas:\n",
        "\n",
        "1. count (Recuento):\n",
        "    Hay 12,105 películas en el conjunto de datos.\n",
        "    \n",
        "2. mean (Media):\n",
        "    La media del número de votos por película es aproximadamente 739.31.\n",
        "\n",
        "3. std (Desviación estándar):\n",
        "    La desviación estándar es alta, aproximadamente 2308.42. Esto indica que la variabilidad en el número de votos por película es significativa y que hay películas con un rango amplio de votos.\n",
        "\n",
        "4. min (Mínimo):\n",
        "    La película con el menor número de votos tiene 3 votos.\n",
        "\n",
        "5. 25% (Cuartil 1 - Q1):\n",
        "    El 25% de las películas tienen 56 votos o menos.\n",
        "\n",
        "6. 50% (Cuartil 2 - Mediana):\n",
        "    La mediana (o el percentil 50) es 160, lo que significa que el 50% de las películas tienen 160 votos o menos.\n",
        "\n",
        "7. 75% (Cuartil 3 - Q3):\n",
        "    El 75% de las películas tienen 490 votos o menos.\n",
        "\n",
        "8. max (Máximo):\n",
        "    La película con el mayor número de votos tiene 84,546 votos.\n",
        "    \n",
        "En resumen, la distribución del número de votos por película varía significativamente, con algunas películas que tienen un gran número de votos, mientras que otras tienen menos votos. La mediana proporciona una indicación de la tendencia central, y la alta desviación estándar sugiere que la dispersión es amplia, lo que significa que algunas películas tienen una cantidad significativamente mayor de votos que otras."
      ]
    },
    {
      "cell_type": "code",
      "execution_count": null,
      "metadata": {
        "id": "m-khFsDWJmBx"
      },
      "outputs": [],
      "source": [
        "# Se cuenta el número de películas calificadas por cada usuario.\n",
        "numberOf_movies_voted_by_user = pd.DataFrame(dataFrame.groupby('userId')['rating'].agg('count'))\n",
        "numberOf_movies_voted_by_user.reset_index(level = 0,inplace = True)\n",
        "numberOf_movies_voted_by_user.head()"
      ]
    },
    {
      "cell_type": "code",
      "execution_count": null,
      "metadata": {
        "id": "tOaH_rLjJmB5"
      },
      "outputs": [],
      "source": [
        "# Descripción estadística del número de películas calificadas por usuario\n",
        "numberOf_movies_voted_by_user.describe()"
      ]
    },
    {
      "cell_type": "markdown",
      "metadata": {
        "id": "5nw3qTdZJmB5"
      },
      "source": [
        "La tabla proporciona estadísticas descriptivas sobre el número de películas calificadas (rating) por usuario en el conjunto de datos. Aquí está la interpretación de las estadísticas:\n",
        "\n",
        "1. count (Recuento):\n",
        "    Hay 12,918 usuarios en el conjunto de datos.\n",
        "\n",
        "2. mean (Media):\n",
        "    La media del número de películas calificadas por usuario es aproximadamente 692.78.\n",
        "\n",
        "3. std (Desviación estándar):\n",
        "    La desviación estándar es alta, aproximadamente 4142.74. Esto indica que la variabilidad en el número de películas calificadas por usuario es significativa y que hay usuarios que han calificado un rango amplio de películas.\n",
        "\n",
        "4. min (Mínimo):\n",
        "    El usuario con el menor número de películas calificadas ha calificado al menos 3 películas.\n",
        "\n",
        "5. 25% (Cuartil 1 - Q1):\n",
        "    El 25% de los usuarios han calificado 26 películas o menos.\n",
        "\n",
        "6. 50% (Cuartil 2 - Mediana):\n",
        "    La mediana (o el percentil 50) es 56, lo que significa que el 50% de los usuarios han calificado 56 películas o menos.\n",
        "\n",
        "7. 75% (Cuartil 3 - Q3):\n",
        "    El 75% de los usuarios han calificado 235 películas o menos.\n",
        "\n",
        "8. max (Máximo):\n",
        "    El usuario con el mayor número de películas calificadas ha calificado hasta 217,078 películas.\n",
        "\n",
        "En resumen, la distribución del número de películas calificadas por usuario varía significativamente, con algunos usuarios que han calificado un gran número de películas y otros que han calificado menos. La mediana proporciona una indicación de la tendencia central, y la alta desviación estándar sugiere que la dispersión es amplia, lo que significa que algunos usuarios han calificado muchas más películas que otros."
      ]
    },
    {
      "cell_type": "code",
      "execution_count": null,
      "metadata": {
        "id": "GW0HpoKPJmB6"
      },
      "outputs": [],
      "source": [
        "# Visualización del número de votos por película\n",
        "plt.figure()\n",
        "ax = sns.scatterplot(y = 'rating', x = 'movieId', data = numberOf_user_voted_for_movie)\n",
        "plt.axhline(y=50,color='r')\n",
        "plt.ylabel('Número de votos de usuariuos por pelicula')"
      ]
    },
    {
      "cell_type": "code",
      "execution_count": null,
      "metadata": {
        "id": "jrIgByZOJmB6"
      },
      "outputs": [],
      "source": [
        "# Número de películas calificadas por cada usuario\n",
        "plt.figure()\n",
        "ax = sns.scatterplot(y = 'rating', x = 'userId', data = numberOf_movies_voted_by_user)\n",
        "plt.axhline(y=60,color='r')\n",
        "plt.ylabel('Número de peliculas calificadas por usuario')"
      ]
    },
    {
      "cell_type": "code",
      "execution_count": null,
      "metadata": {
        "id": "Ns7DR1-dJmBr"
      },
      "outputs": [],
      "source": [
        "# Correlación de las diferentes variables usando un mapa de calor.\n",
        "# Util para identificar patrones y ralciones entre variables.\n",
        "# 1 (color claro): Correlación perfecta positiva. Aumentos en una variable se asocian\n",
        "#     con aumentos proporcionales en la otra en una relación lineal perfecta.\n",
        "\n",
        "# 0 (color intermedio): Falta de correlación. No hay una relación lineal entre las dos variables;\n",
        "#     cambios en una variable no predicen cambios en la otra.\n",
        "tc = df.corr()\n",
        "sns.heatmap(tc)\n",
        "plt.show()"
      ]
    },
    {
      "cell_type": "code",
      "execution_count": null,
      "metadata": {
        "id": "zcIeoMZuJmBs"
      },
      "outputs": [],
      "source": [
        "#Data frame con la media de calificaciones por pelicula y nímero de calificaciones\n",
        "ratings =pd.DataFrame(df.groupby('title')['rating'].mean())\n",
        "ratings['rating_numbers'] = pd.DataFrame(df.groupby('title')['rating'].count())\n",
        "ratings.head()"
      ]
    },
    {
      "cell_type": "code",
      "execution_count": null,
      "metadata": {
        "id": "mAJTgAbSJmBs"
      },
      "outputs": [],
      "source": [
        "#Creación de una matriz Pivot table\n",
        "#Matriz que representa las calificaciones dadas por los usuarios a las películas.\n",
        "# Las filas representan usuarios, las columnas representan títulos de películas y los valores son las calificaciones.\n",
        "# Las celdas que no tienen calificación se llenan con ceros.\n",
        "pivot_table_result = df.pivot_table(index='userId', columns='title', values='rating')\n",
        "pivot_table_result.fillna(0, inplace=True)\n",
        "pivot_table_result.shape\n",
        "pivot_table_result.head()"
      ]
    },
    {
      "cell_type": "code",
      "execution_count": null,
      "metadata": {
        "id": "O2TD1bY2JmBs"
      },
      "outputs": [],
      "source": [
        "#Creación de una matriz Pivot table con un umbral de al menos 10 peliuculas calificadas\n",
        "print(\"Before: \",pivot_table_result.shape)\n",
        "pivot_table_umbral_rating = pivot_table_result.copy()\n",
        "pivot_table_umbral_rating = pivot_table_umbral_rating.dropna(thresh=10, axis=1).fillna(0,axis=1)\n",
        "print(\"After: \",pivot_table_umbral_rating.shape)"
      ]
    },
    {
      "cell_type": "code",
      "execution_count": null,
      "metadata": {
        "id": "HstJkedgJmBs"
      },
      "outputs": [],
      "source": [
        "# Pivot table sin rellenar 0\n",
        "pivot_table_nan = df.pivot_table(index='userId', columns='title', values='rating')\n",
        "pivot_table_nan.shape\n",
        "pivot_table_nan.head()"
      ]
    },
    {
      "cell_type": "markdown",
      "metadata": {
        "id": "T8tLOsiKJmBs"
      },
      "source": [
        "Sí, tiene sentido eliminar filas duplicadas antes de crear la tabla pivote, especialmente si estás trabajando con datos de calificaciones de usuarios donde cada fila representa la calificación de un usuario para una película específica. Algunas razones para hacer esto son:\n",
        "\n",
        "1. **Evitar Duplicados en la Tabla Pivote:**\n",
        "   - Eliminar duplicados garantiza que no haya varias entradas para la misma combinación de usuario y película al crear la tabla pivote. Esto es crucial para obtener resultados coherentes y evitar distorsiones en las correlaciones.\n",
        "\n",
        "2. **Precisión y Consistencia:**\n",
        "   - La eliminación de duplicados mejora la precisión de las correlaciones, ya que cada entrada en la tabla pivote representa de manera única una calificación de un usuario para una película específica. Esto ayuda a evitar que las correlaciones estén influenciadas por datos duplicados.\n",
        "\n",
        "3. **Eficiencia Computacional:**\n",
        "   - Al reducir el tamaño del conjunto de datos antes de crear la tabla pivote, puedes mejorar la eficiencia computacional, especialmente si tienes un gran conjunto de datos. Menos duplicados significa menos cálculos y un mejor rendimiento.\n",
        "\n",
        "La línea de código que proporcionaste, `ratings = ratings.drop_duplicates(subset=['userId', 'movieId'])`, eliminará las filas duplicadas basadas en las columnas 'userId' y 'movieId'. Asegúrate de revisar los resultados después de esta operación para confirmar que los duplicados se han eliminado según tus expectativas."
      ]
    },
    {
      "cell_type": "code",
      "execution_count": null,
      "metadata": {
        "id": "15shJyPiJmBt"
      },
      "outputs": [],
      "source": [
        "# Se implementa el recomendador según una pelicula. Se usa la función de correlación.\n",
        "\n",
        "def recomendar_peliculas(nombre_pelicula, tabla_pivote, ratings,\n",
        "                         min_cantidad_calificaciones=50, tipo_correlacion='pearson'):\n",
        "    \"\"\"\n",
        "    Recomienda películas basadas en la correlación de calificaciones de usuarios.\n",
        "\n",
        "    Parámetros:\n",
        "    - nombre_pelicula: Nombre de la película para la cual se desean recomendaciones.\n",
        "    - tabla_pivote: DataFrame que contiene las calificaciones de los usuarios (formato de tabla pivote).\n",
        "    - ratings: DataFrame que contiene información adicional, incluyendo 'cantidad_calificaciones'.\n",
        "    - min_cantidad_calificaciones: Cantidad mínima de calificaciones para considerar una película.\n",
        "    - tipo_correlacion: Tipo de correlación a utilizar (pearson, kendall, spearman).\n",
        "\n",
        "    Retorna:\n",
        "    - DataFrame de películas recomendadas con puntajes de correlación.\n",
        "    \"\"\"\n",
        "\n",
        "    # Extraer las calificaciones de usuarios para la película especificada\n",
        "    calificaciones_usuario = tabla_pivote[nombre_pelicula]\n",
        "\n",
        "    # Calcular correlaciones con otras películas.\n",
        "    # Usando correlación de Pearson default\n",
        "    # Compara las calificaciones de la película de entrada con las\n",
        "    # calificaciones de cada otra película en términos de su similitud\n",
        "    peliculas_similares = tabla_pivote.corrwith(calificaciones_usuario, method=tipo_correlacion)\n",
        "\n",
        "    # Crear un DataFrame con los puntajes de correlación\n",
        "    peliculas_corr = pd.DataFrame(peliculas_similares, columns=['Correlacion'])\n",
        "\n",
        "    # Eliminar películas sin datos de correlación\n",
        "    peliculas_corr.dropna(inplace=True)\n",
        "\n",
        "    # Unir con el DataFrame de calificaciones para considerar la cantidad mínima de calificaciones\n",
        "    peliculas_corr = peliculas_corr.join(ratings['rating_numbers'], how='left')\n",
        "\n",
        "    # Filtrar películas según la cantidad mínima de calificaciones y ordenar por correlación\n",
        "    peliculas_recomendadas = peliculas_corr[peliculas_corr['rating_numbers'] > min_cantidad_calificaciones].sort_values('Correlacion', ascending=False)\n",
        "\n",
        "    return peliculas_recomendadas\n"
      ]
    },
    {
      "cell_type": "code",
      "execution_count": null,
      "metadata": {
        "id": "aqoP0c3GJmBt"
      },
      "outputs": [],
      "source": [
        "# Ejemplo usando correlación de Pearson\n",
        "recomendaciones_pearson_ptr = recomendar_peliculas('Harry Potter and the Goblet of Fire (2005)', pivot_table_result,\n",
        "                                               ratings, min_cantidad_calificaciones=50, tipo_correlacion='pearson')\n",
        "\n",
        "# Ejemplo usando correlación de Kendall\n",
        "recomendaciones_kendall_ptr = recomendar_peliculas('Harry Potter and the Goblet of Fire (2005)', pivot_table_result,\n",
        "                                               ratings, min_cantidad_calificaciones=50, tipo_correlacion='kendall')\n",
        "\n",
        "# Ejemplo usando correlación de Spearman\n",
        "recomendaciones_spearman_ptr = recomendar_peliculas('Harry Potter and the Goblet of Fire (2005)', pivot_table_result,\n",
        "                                                ratings, min_cantidad_calificaciones=50, tipo_correlacion='spearman')\n"
      ]
    },
    {
      "cell_type": "code",
      "execution_count": null,
      "metadata": {
        "id": "r1IHiWH_JmBu"
      },
      "outputs": [],
      "source": [
        "## Prueba con la matriz con el umbral de calificaciones por pelicula\n",
        "\n",
        "# Ejemplo usando correlación de Pearson\n",
        "recomendaciones_pearson_ptur = recomendar_peliculas('Harry Potter and the Goblet of Fire (2005)', pivot_table_umbral_rating,\n",
        "                                               ratings, min_cantidad_calificaciones=50, tipo_correlacion='pearson')\n",
        "print(\"Peliculas recomendadas habiendo visto Harry Potter and the Goblet of Fire (2005). pearson: \")\n",
        "recomendaciones_pearson_ptur.head(10)\n",
        "\n",
        "# Ejemplo usando correlación de Kendall\n",
        "recomendaciones_kendall_ptur = recomendar_peliculas('Harry Potter and the Goblet of Fire (2005)', pivot_table_umbral_rating,\n",
        "                                               ratings, min_cantidad_calificaciones=50, tipo_correlacion='kendall')\n",
        "\n",
        "print(\"Peliculas recomendadas habiendo visto Harry Potter and the Goblet of Fire (2005). kendall: \")\n",
        "recomendaciones_kendall_ptur.head(10)\n",
        "\n",
        "# Ejemplo usando correlación de Spearman\n",
        "recomendaciones_spearman_ptur = recomendar_peliculas('Harry Potter and the Goblet of Fire (2005)', pivot_table_umbral_rating,\n",
        "                                                ratings, min_cantidad_calificaciones=50, tipo_correlacion='spearman')\n",
        "print(\"Peliculas recomendadas habiendo visto Harry Potter and the Goblet of Fire (2005). spearman: \")\n",
        "recomendaciones_spearman_ptur.head(10)"
      ]
    },
    {
      "cell_type": "code",
      "execution_count": null,
      "metadata": {
        "id": "3SykGy_kJmBu"
      },
      "outputs": [],
      "source": [
        "# Prueba con la matriz sin los 0\n",
        "recomendaciones_pearson_nan = recomendar_peliculas('Harry Potter and the Goblet of Fire (2005)',\n",
        "                                                   pivot_table_nan, ratings,\n",
        "                                                   min_cantidad_calificaciones=50, tipo_correlacion='pearson')\n",
        "\n",
        "\n",
        "print(\"Peliculas recomendadas habiendo visto Harry Potter and the Goblet of Fire (2005). Matriz con valores NaN: \")\n",
        "recomendaciones_pearson_nan.head(10)\n"
      ]
    },
    {
      "cell_type": "code",
      "execution_count": null,
      "metadata": {
        "id": "ceRQsYevJmBu"
      },
      "outputs": [],
      "source": [
        "import pandas as pd\n",
        "\n",
        "def recomendar_peliculas(usuario_id, tabla_pivote, ratings, min_cantidad_calificaciones=50,\n",
        "                         top_n=10, tipo_correlacion='pearson'):\n",
        "    \"\"\"\n",
        "    Recomienda películas no vistas por un usuario basándose en la correlación de calificaciones de usuarios.\n",
        "\n",
        "    Parámetros:\n",
        "    - usuario_id: ID del usuario para el cual se desean recomendaciones.\n",
        "    - tabla_pivote: DataFrame que contiene las calificaciones de los usuarios (formato de tabla pivote).\n",
        "    - ratings: DataFrame que contiene información adicional, incluyendo 'cantidad_calificaciones'.\n",
        "    - min_cantidad_calificaciones: Cantidad mínima de calificaciones para considerar una película.\n",
        "    - top_n: Número de películas recomendadas a devolver.\n",
        "    - tipo_correlacion: Tipo de correlación a utilizar (pearson, kendall, spearman).\n",
        "\n",
        "    Retorna:\n",
        "    - DataFrame de películas no vistas recomendadas con puntajes de correlación.\n",
        "    \"\"\"\n",
        "\n",
        "    # Extraer las calificaciones del usuario\n",
        "    calificaciones_usuario = tabla_pivote.loc[usuario_id]\n",
        "\n",
        "    # Filtrar películas no vistas por el usuario\n",
        "    peliculas_no_vistas = calificaciones_usuario[calificaciones_usuario.isna()].index\n",
        "\n",
        "    # Calcular correlaciones con las películas no vistas. Usando el tipo de correlación especificado\n",
        "    # Mide la correlación lineal entre dos variables continuas. Toma valores entre -1 y 1, donde 1\n",
        "    # significa una correlación positiva perfecta, -1 significa una correlación negativa perfecta, y\n",
        "    # 0 significa ausencia de correlación lineal.\n",
        "    peliculas_similares = tabla_pivote[peliculas_no_vistas].corrwith(calificaciones_usuario, method=tipo_correlacion)\n",
        "\n",
        "    # Crear un DataFrame con los puntajes de correlación\n",
        "    peliculas_corr = pd.DataFrame(peliculas_similares, columns=['Correlacion'])\n",
        "\n",
        "    # Eliminar películas sin datos de correlación\n",
        "    peliculas_corr.dropna(inplace=True)\n",
        "\n",
        "    # Unir con el DataFrame de calificaciones para considerar la cantidad mínima de calificaciones\n",
        "    peliculas_corr = peliculas_corr.join(ratings['rating_numbers'], how='left')\n",
        "\n",
        "    # Filtrar películas según la cantidad mínima de calificaciones y ordenar por correlación\n",
        "    peliculas_recomendadas = peliculas_corr[peliculas_corr['rating_numbers'] > min_cantidad_calificaciones].sort_values('Correlacion', ascending=False)\n",
        "\n",
        "    # Tomar las primeras 'top_n' películas recomendadas\n",
        "    peliculas_recomendadas = peliculas_recomendadas.head(top_n)\n",
        "\n",
        "    return peliculas_recomendadas\n"
      ]
    },
    {
      "cell_type": "code",
      "execution_count": null,
      "metadata": {
        "id": "sJyQ1hDuJmBu"
      },
      "outputs": [],
      "source": [
        "userID = 264\n",
        "\n",
        "# Ejemplo usando correlación de Pearson\n",
        "recomendaciones_pearson = recomendar_peliculas(userID, pivot_table_result, ratings, min_cantidad_calificaciones=50,\n",
        "                                               top_n=10, tipo_correlacion='pearson')\n",
        "\n",
        "print(f\"Peliculas recomendadas para el usuario {userID}. pearson: \")\n",
        "recomendaciones_pearson.head(10)\n",
        "\n",
        "# Ejemplo usando correlación de Kendall\n",
        "recomendaciones_kendall = recomendar_peliculas(userID, pivot_table_result, ratings, min_cantidad_calificaciones=50,\n",
        "                                               top_n=10, tipo_correlacion='kendall')\n",
        "\n",
        "print(f\"Peliculas recomendadas para el usuario {userID}. kendall: \")\n",
        "recomendaciones_kendall.head(10)\n",
        "\n",
        "# Ejemplo usando correlación de Spearman\n",
        "recomendaciones_spearman = recomendar_peliculas(userID, pivot_table_result, ratings, min_cantidad_calificaciones=50,\n",
        "                                                top_n=10, tipo_correlacion='spearman')\n",
        "\n",
        "print(f\"Peliculas recomendadas para el usuario {userID}. spearman: \")\n",
        "recomendaciones_spearman.head(10)\n"
      ]
    },
    {
      "cell_type": "code",
      "execution_count": null,
      "metadata": {
        "id": "jWILP6lyJmBv"
      },
      "outputs": [],
      "source": [
        "## Prueba con la matriz con el umbral de calificaciones por pelicula\n",
        "\n",
        "# Ejemplo usando correlación de Pearson\n",
        "recomendaciones_pearson = recomendar_peliculas(userID, pivot_table_umbral_rating, ratings, min_cantidad_calificaciones=50,\n",
        "                                               top_n=10, tipo_correlacion='pearson')\n",
        "\n",
        "print(f\"Peliculas recomendadas para el usuario {userID}. spearman: \")\n",
        "recomendaciones_pearson.head(10)\n",
        "\n",
        "# Ejemplo usando correlación de Kendall\n",
        "recomendaciones_kendall = recomendar_peliculas(userID, pivot_table_umbral_rating, ratings, min_cantidad_calificaciones=50,\n",
        "                                               top_n=10, tipo_correlacion='kendall')\n",
        "\n",
        "print(f\"Peliculas recomendadas para el usuario {userID}. spearman: \")\n",
        "recomendaciones_kendall.head(10)\n",
        "\n",
        "# Ejemplo usando correlación de Spearman\n",
        "recomendaciones_spearman = recomendar_peliculas(userID, pivot_table_umbral_rating, ratings, min_cantidad_calificaciones=50,\n",
        "                                                top_n=10, tipo_correlacion='spearman')\n",
        "\n",
        "print(f\"Peliculas recomendadas para el usuario {userID}. spearman: \")\n",
        "recomendaciones_spearman.head(10)"
      ]
    },
    {
      "cell_type": "markdown",
      "metadata": {
        "id": "Gc4_E4P3JmBv"
      },
      "source": [
        "-----------------------------------------------------------------------------------------"
      ]
    },
    {
      "cell_type": "code",
      "execution_count": null,
      "metadata": {
        "id": "RGrk9eT-JmBv"
      },
      "outputs": [],
      "source": [
        "# RESET dataframe variable\n",
        "df = data.copy()\n",
        "df.head()"
      ]
    },
    {
      "cell_type": "code",
      "execution_count": null,
      "metadata": {
        "id": "KIZSxkRXJmBv"
      },
      "outputs": [],
      "source": [
        "# La línea de código carga un conjunto de datos utilizando la librería surprise\n",
        "# para modelos de recomendación. Se seleccionan las columnas 'userId', 'movieId', y\n",
        "# 'rating' del DataFrame ratings. El objeto Reader() se utiliza para especificar cómo\n",
        "# interpretar las calificaciones, y luego Dataset.load_from_df carga los datos en un\n",
        "# formato compatible con surprise. Este conjunto de datos surprise puede ser empleado para\n",
        "# entrenar y evaluar modelos de recomendación basados en filtrado colaborativo.\n",
        "# Al incluir el argumento rating_scale=(0.5, 5) al crear el objeto Reader,\n",
        "# le estás diciendo a surprise que las calificaciones están en el rango de 0.5 a 5\n",
        "\n",
        "# reader = Reader(rating_scale=(0.5, 5))\n",
        "# df = Dataset.load_from_df(df[['userId', 'movieId', 'rating']], reader)"
      ]
    },
    {
      "cell_type": "code",
      "execution_count": null,
      "metadata": {
        "id": "G_dab9TmJmBv"
      },
      "outputs": [],
      "source": [
        "# El conjunto de entrenamiento (trainset) se crea con build_full_trainset() en Surprise.\n",
        "# Contiene información vital como calificaciones, usuarios, ítems y la calificación media global.\n",
        "# Este conjunto es esencial para entrenar modelos de recomendación personalizados.\n",
        "\n",
        "# trainset = df.build_full_trainset()\n",
        "\n",
        "# trainset.ur proporciona las calificaciones dadas por un usuario específico.\n",
        "# Puedes explorar listas de usuarios e ítems con all_users() y all_items().\n",
        "# trainset.global_mean da la calificación media global en el conjunto de entrenamiento.\n",
        "\n",
        "# user_id = 264\n",
        "# user_ratings = trainset.ur[user_id]\n",
        "# print(user_ratings)"
      ]
    },
    {
      "cell_type": "code",
      "execution_count": null,
      "metadata": {
        "id": "ppKheDhbJmBv"
      },
      "outputs": [],
      "source": [
        "# Se instancia un modelo de descomposición de valores singulares (SVD) utilizando SVD().\n",
        "# Se evalúa el rendimiento del modelo utilizando la validación cruzada (cross_validate).\n",
        "\n",
        "# svd = SVD()\n",
        "\n",
        "# El modelo se ajusta y evalúa en cinco divisiones (cv=5) del conjunto de datos, utilizando\n",
        "# métricas como Error Cuadrático Medio (RMSE) y Error Absoluto Medio (MAE).\n",
        "# La evaluación proporciona información sobre la precisión y el rendimiento general del modelo en datos no vistos.\n",
        "# El parámetro verbose=True muestra detalles adicionales durante el proceso de evaluación.\n",
        "# Evaluación del modelo usando cross_validate\n",
        "\n",
        "# cross_validate(svd, df, measures=['RMSE', 'MAE'], cv=5, verbose=True)"
      ]
    },
    {
      "cell_type": "code",
      "execution_count": null,
      "metadata": {
        "id": "2KzLjlzkJmBv"
      },
      "outputs": [],
      "source": [
        "# Se entrena el modelo SVD utilizando el conjunto de entrenamiento completo.\n",
        "\n",
        "# svd.fit(trainset)"
      ]
    },
    {
      "cell_type": "code",
      "execution_count": null,
      "metadata": {
        "id": "DpxsZIYdJmBw"
      },
      "outputs": [],
      "source": [
        "# Dado el ID de la peícula, 215, el id del usuario 29801 y\n",
        "# el valor de calificación real que se utilizará para evaluar\n",
        "# la predicción. Si no se proporciona, la función devolverá\n",
        "# solo la predicción estimada. Intenta predecir el valor.\n",
        "\n",
        "# svd.predict(29801, 215, 5)"
      ]
    },
    {
      "cell_type": "code",
      "execution_count": null,
      "metadata": {
        "id": "9HDyTms0JmBw"
      },
      "outputs": [],
      "source": [
        "def recommend_movies_svd(user_id, dataset, n_recommendations=5):\n",
        "    \"\"\"\n",
        "    Recomienda películas no vistas para un usuario utilizando el algoritmo SVD.\n",
        "\n",
        "    Parámetros:\n",
        "    - user_id: ID del usuario para el cual se desean recomendaciones.\n",
        "    - dataset: DataFrame con las calificaciones de los usuarios.\n",
        "    - n_recommendations: Número de películas a recomendar.\n",
        "\n",
        "    Retorna:\n",
        "    - Lista de tuplas (movieId, predicted_rating) para las películas recomendadas.\n",
        "    \"\"\"\n",
        "\n",
        "    # Configuración del lector y carga del conjunto de datos en Surprise\n",
        "    reader = Reader(rating_scale=(0.5, 5))\n",
        "    data = Dataset.load_from_df(dataset[['userId', 'movieId', 'rating']], reader)\n",
        "\n",
        "    # División en conjunto de entrenamiento y prueba\n",
        "    trainset, testset = train_test_split(data, test_size=0.2, random_state=42)\n",
        "\n",
        "    # Inicialización del modelo SVD\n",
        "    svd = SVD()\n",
        "\n",
        "    # Entrenamiento del modelo en el conjunto de entrenamiento\n",
        "    svd.fit(trainset)\n",
        "\n",
        "    # Obtención de las películas no vistas por el usuario\n",
        "    user_movies = dataset[dataset['userId'] == user_id]['movieId']\n",
        "    unrated_movies = dataset[~dataset['movieId'].isin(user_movies)]['movieId'].unique()\n",
        "\n",
        "    # Predicciones para las películas no vistas\n",
        "    predictions = [(movie_id, svd.predict(user_id, movie_id).est) for movie_id in unrated_movies]\n",
        "\n",
        "    # Ordenar las predicciones por rating estimado de mayor a menor\n",
        "    recommendations = sorted(predictions, key=lambda x: x[1], reverse=True)\n",
        "\n",
        "    # Tomar las primeras n_recommendations películas recomendadas\n",
        "    top_recommendations = recommendations[:n_recommendations]\n",
        "\n",
        "    return top_recommendations\n"
      ]
    },
    {
      "cell_type": "code",
      "execution_count": null,
      "metadata": {
        "id": "4_MJV82tJmBw"
      },
      "outputs": [],
      "source": [
        "def recommend_movies_svd(user_id, dataset, n_recommendations=10):\n",
        "    \"\"\"\n",
        "    Recomienda películas no vistas para un usuario utilizando el algoritmo SVD.\n",
        "\n",
        "    Parámetros:\n",
        "    - user_id: ID del usuario para el cual se desean recomendaciones.\n",
        "    - dataset: DataFrame con las calificaciones de los usuarios.\n",
        "    - n_recommendations: Número de películas a recomendar.\n",
        "\n",
        "    Retorna:\n",
        "    - DataFrame con columnas 'title' y 'predicted_rating' para las películas recomendadas.\n",
        "    \"\"\"\n",
        "\n",
        "    # Configuración del lector y carga del conjunto de datos en Surprise\n",
        "    reader = Reader(rating_scale=(0.5, 5))\n",
        "    data = Dataset.load_from_df(dataset[['userId', 'movieId', 'rating']], reader)\n",
        "\n",
        "    # División en conjunto de entrenamiento y prueba\n",
        "    trainset, testset = train_test_split(data, test_size=0.2, random_state=42)\n",
        "\n",
        "    # Inicialización del modelo SVD\n",
        "    svd = SVD()\n",
        "\n",
        "    # Entrenamiento del modelo en el conjunto de entrenamiento\n",
        "    svd.fit(trainset)\n",
        "\n",
        "    # Obtención de las películas no vistas por el usuario\n",
        "    user_movies = dataset[dataset['userId'] == user_id]['movieId']\n",
        "    unrated_movies = dataset[~dataset['movieId'].isin(user_movies)]['movieId'].unique()\n",
        "\n",
        "    # Predicciones para las películas no vistas\n",
        "    predictions = [(movie_id, svd.predict(user_id, movie_id).est) for movie_id in unrated_movies]\n",
        "\n",
        "    # Ordenar las predicciones por rating estimado de mayor a menor\n",
        "    recommendations = sorted(predictions, key=lambda x: x[1], reverse=True)[:n_recommendations]\n",
        "\n",
        "    # Obtener los títulos de las películas recomendadas\n",
        "    recommended_movies = [(dataset[dataset['movieId'] == movie_id]['title'].iloc[0], rating) for movie_id, rating in recommendations]\n",
        "\n",
        "    # Crear un DataFrame a partir de las recomendaciones\n",
        "    df_recommended_movies = pd.DataFrame(recommended_movies, columns=['title', 'predicted_rating'])\n",
        "\n",
        "    return df_recommended_movies"
      ]
    },
    {
      "cell_type": "code",
      "execution_count": null,
      "metadata": {
        "id": "GPANXy4xJmBw"
      },
      "outputs": [],
      "source": [
        "# Supongamos que tienes tu DataFrame de calificaciones 'ratings'\n",
        "# con columnas 'userId', 'movieId', y 'rating'.\n",
        "\n",
        "# Define el ID del usuario para el cual quieres hacer recomendaciones\n",
        "user_id_to_recommend = 264\n",
        "\n",
        "# Define el número de películas que quieres recomendar\n",
        "num_recommendations = 10\n",
        "\n",
        "# Filtra las calificaciones del usuario específico\n",
        "user_ratings = df[df['userId'] == user_id_to_recommend]\n",
        "# Obtiene las películas vistas por el usuario sin duplicados\n",
        "movies_watched = user_ratings[['title', 'rating']].drop_duplicates()\n",
        "# Ordena las películas por calificación de mayor a menor\n",
        "movies_watched_sorted = movies_watched.sort_values(by='rating', ascending=False)\n",
        "# Muestra el DataFrame con los títulos de las películas vistas y las calificaciones\n",
        "print(\"Películas vistas por el usuario {}: \\n{}\".format(user_id_to_recommend, movies_watched_sorted))\n",
        "\n",
        "# Llama a la función para obtener las recomendaciones\n",
        "recommendations = recommend_movies_svd(user_id_to_recommend, df, num_recommendations)\n",
        "\n",
        "# Imprime las recomendaciones\n",
        "print(\"Recomendaciones para el usuario {}\".format(user_id_to_recommend))\n",
        "recommendations.head(10)\n"
      ]
    },
    {
      "cell_type": "markdown",
      "metadata": {
        "id": "2IxvBGJoJmBw"
      },
      "source": [
        "---------------------------------------------------------\n"
      ]
    },
    {
      "cell_type": "code",
      "execution_count": null,
      "metadata": {
        "id": "MY-eYgi8JmB6"
      },
      "outputs": [],
      "source": [
        "# # Eliminar filas duplicadas\n",
        "# # Eliminar filas duplicadas basadas en las columnas 'userId' y 'movieId'\n",
        "# df_remove_duplicates_rows = df.copy()\n",
        "# df_remove_duplicates_rows = df_remove_duplicates_rows.drop_duplicates(subset=['userId', 'movieId'])\n",
        "# pivot_table_result_rm_duplic_rw = df_remove_duplicates_rows.pivot_table(index='userId', columns='title', values='rating')\n",
        "# pivot_table_result_rm_duplic_rw.fillna(0, inplace=True)\n",
        "# pivot_table_result_rm_duplic_rw.head()"
      ]
    }
  ],
  "metadata": {
    "kernelspec": {
      "display_name": "base",
      "language": "python",
      "name": "python3"
    },
    "language_info": {
      "codemirror_mode": {
        "name": "ipython",
        "version": 3
      },
      "file_extension": ".py",
      "mimetype": "text/x-python",
      "name": "python",
      "nbconvert_exporter": "python",
      "pygments_lexer": "ipython3",
      "version": "3.10.9"
    },
    "colab": {
      "provenance": [],
      "include_colab_link": true
    }
  },
  "nbformat": 4,
  "nbformat_minor": 0
}