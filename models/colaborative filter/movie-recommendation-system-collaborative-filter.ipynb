{
  "cells": [
    {
      "cell_type": "markdown",
      "metadata": {
        "colab_type": "text",
        "id": "view-in-github"
      },
      "source": [
        "<a href=\"https://colab.research.google.com/github/Jaime44/WorkSpace/blob/main/models/colaborative%20filter/movie-recommendation-system-collaborative-filter.ipynb\" target=\"_parent\"><img src=\"https://colab.research.google.com/assets/colab-badge.svg\" alt=\"Open In Colab\"/></a>"
      ]
    },
    {
      "cell_type": "markdown",
      "metadata": {
        "id": "FhEZoS7OyCMZ"
      },
      "source": [
        "https://www.kaggle.com/code/jaime44/movie-recommendation-system-collaborative-filter/edit"
      ]
    },
    {
      "cell_type": "code",
      "execution_count": 1,
      "metadata": {
        "colab": {
          "base_uri": "https://localhost:8080/"
        },
        "id": "oTbf6dHHyCMb",
        "outputId": "7e17d485-49a1-4311-beb5-b06efa1db466"
      },
      "outputs": [
        {
          "name": "stdout",
          "output_type": "stream",
          "text": [
            "El código se está ejecutando en un entorno local.\n"
          ]
        }
      ],
      "source": [
        "import os\n",
        "# Comprueba si el código se está ejecutando en Google Colab\n",
        "try:\n",
        "    import google.colab\n",
        "    IN_COLAB = True\n",
        "except:\n",
        "    IN_COLAB = False\n",
        "\n",
        "path_absolute = ''\n",
        "if IN_COLAB:\n",
        "    print(\"El código se está ejecutando en Google Colab.\")\n",
        "    from google.colab import drive\n",
        "\n",
        "    drive.mount('/content/drive')\n",
        "    path_absolute = '/content/drive/Othercomputers/Mi_portátil/TFM/WorkSpace/Models/colaborative filter'\n",
        "\n",
        "    # Cambia al directorio de tu carpeta en Google Drive\n",
        "    os.chdir(path_absolute)\n",
        "\n",
        "    # Lista los archivos y carpetas en el directorio actual\n",
        "    contenido_carpeta = os.listdir(path_absolute)\n",
        "    print(\"Contenido de la carpeta en Google Drive:\")\n",
        "    print(contenido_carpeta)\n",
        "else:\n",
        "    print(\"El código se está ejecutando en un entorno local.\")\n",
        "    path_absolute = os.getcwd().replace(\"\\\\\", \"/\")\n",
        "\n",
        "datasets_path = \"/datasets/\"\n",
        "path_absolute = path_absolute+datasets_path"
      ]
    },
    {
      "cell_type": "code",
      "execution_count": 2,
      "metadata": {
        "_cell_guid": "b1076dfc-b9ad-4769-8c92-a6c4dae69d19",
        "_uuid": "8f2839f25d086af736a60e9eeb907d3b93b6e0e5",
        "execution": {
          "iopub.execute_input": "2022-06-07T08:19:24.442335Z",
          "iopub.status.busy": "2022-06-07T08:19:24.441834Z",
          "iopub.status.idle": "2022-06-07T08:19:24.488356Z",
          "shell.execute_reply": "2022-06-07T08:19:24.487389Z",
          "shell.execute_reply.started": "2022-06-07T08:19:24.442238Z"
        },
        "id": "UoIicCwNyCMd",
        "trusted": true
      },
      "outputs": [],
      "source": [
        "# This Python 3 environment comes with many helpful analytics libraries installed\n",
        "# It is defined by the kaggle/python Docker image: https://github.com/kaggle/docker-python\n",
        "# For example, here's several helpful packages to load\n",
        "\n",
        "import numpy as np # linear algebra\n",
        "import pandas as pd # data processing, CSV file I/O (e.g. pd.read_csv)\n",
        "\n",
        "# Input data files are available in the read-only \"../input/\" directory\n",
        "# For example, running this (by clicking run or pressing Shift+Enter) will list all files under the input directory\n",
        "\n",
        "# import os\n",
        "# for dirname, _, filenames in os.walk('/kaggle/input'):\n",
        "#     for filename in filenames:\n",
        "#         print(os.path.join(dirname, filename))\n",
        "\n",
        "# You can write up to 20GB to the current directory (/kaggle/working/) that gets preserved as output when you create a version using \"Save & Run All\"\n",
        "# You can also write temporary files to /kaggle/temp/, but they won't be saved outside of the current session"
      ]
    },
    {
      "cell_type": "markdown",
      "metadata": {
        "id": "eYNuNT_DyCMe"
      },
      "source": [
        "# **Collaborative Filtering**\n",
        "\n",
        "<small>Collaborative filtering is a technique that can filter out items that a user might like on the basis of reactions by similar users.\n",
        "\n",
        "It works by searching a large group of people and finding a smaller set of users with tastes similar to a particular user. It looks at the items they like and combines them to create a ranked list of suggestions.\n",
        "\n",
        "There are many ways to decide which users are similar and combine their choices to create a list of recommendations</small>\n",
        "\n",
        "El filtrado colaborativo es una técnica que puede filtrar elementos que podrían gustar a un usuario basándose en las reacciones de usuarios similares.\n",
        "\n",
        "Funciona buscando en un grupo grande de personas y encontrando un conjunto más pequeño de usuarios con gustos similares a los de un usuario concreto. Observa los artículos que les gustan y los combina para crear una lista clasificada de sugerencias.\n",
        "\n",
        "Hay muchas formas de decidir qué usuarios son similares y combinar sus elecciones para crear una lista de recomendaciones"
      ]
    },
    {
      "cell_type": "markdown",
      "metadata": {
        "id": "xb1m9a4kyCMe"
      },
      "source": [
        "![colaborative filtering.png](attachment:5c14f24e-aec1-4538-9e9e-c3361ecad485.png)"
      ]
    },
    {
      "cell_type": "markdown",
      "metadata": {
        "id": "6boZkiT-yCMe"
      },
      "source": [
        "En nuestro proyecto utilizamos el método de correlación"
      ]
    },
    {
      "cell_type": "markdown",
      "metadata": {
        "id": "Gbi-TnnSyCMf"
      },
      "source": [
        "# 1.Import libraries"
      ]
    },
    {
      "cell_type": "code",
      "execution_count": 3,
      "metadata": {
        "colab": {
          "base_uri": "https://localhost:8080/"
        },
        "execution": {
          "iopub.execute_input": "2022-06-07T08:19:31.169531Z",
          "iopub.status.busy": "2022-06-07T08:19:31.169108Z",
          "iopub.status.idle": "2022-06-07T08:19:31.814336Z",
          "shell.execute_reply": "2022-06-07T08:19:31.812445Z",
          "shell.execute_reply.started": "2022-06-07T08:19:31.169494Z"
        },
        "id": "i-gmVfrvyCMf",
        "outputId": "ec828eb9-a1cf-43e1-ba26-67f635095213",
        "trusted": true
      },
      "outputs": [
        {
          "name": "stdout",
          "output_type": "stream",
          "text": [
            "libraries imported..\n"
          ]
        }
      ],
      "source": [
        "import numpy as np\n",
        "import pandas as pd\n",
        "import matplotlib.pyplot as plt\n",
        "import seaborn as sns\n",
        "%matplotlib inline\n",
        "print(\"libraries imported..\")"
      ]
    },
    {
      "cell_type": "markdown",
      "metadata": {
        "id": "4BHw-MS4yCMf"
      },
      "source": [
        "# 2. load two datasets"
      ]
    },
    {
      "cell_type": "code",
      "execution_count": 4,
      "metadata": {
        "execution": {
          "iopub.execute_input": "2022-06-07T08:19:35.65374Z",
          "iopub.status.busy": "2022-06-07T08:19:35.65335Z",
          "iopub.status.idle": "2022-06-07T08:19:35.730091Z",
          "shell.execute_reply": "2022-06-07T08:19:35.728995Z",
          "shell.execute_reply.started": "2022-06-07T08:19:35.653706Z"
        },
        "id": "d761VWTjyCMf",
        "trusted": true
      },
      "outputs": [],
      "source": [
        "rating = pd.read_csv(path_absolute+\"Dataset.csv\")"
      ]
    },
    {
      "cell_type": "code",
      "execution_count": 5,
      "metadata": {
        "colab": {
          "base_uri": "https://localhost:8080/",
          "height": 206
        },
        "execution": {
          "iopub.execute_input": "2022-06-07T08:19:38.560313Z",
          "iopub.status.busy": "2022-06-07T08:19:38.559884Z",
          "iopub.status.idle": "2022-06-07T08:19:38.580341Z",
          "shell.execute_reply": "2022-06-07T08:19:38.579305Z",
          "shell.execute_reply.started": "2022-06-07T08:19:38.560279Z"
        },
        "id": "vdB2FNq_yCMg",
        "outputId": "19f2c988-7ba6-46e2-fbd1-1e5ba1381062",
        "trusted": true
      },
      "outputs": [
        {
          "data": {
            "text/html": [
              "<div>\n",
              "<style scoped>\n",
              "    .dataframe tbody tr th:only-of-type {\n",
              "        vertical-align: middle;\n",
              "    }\n",
              "\n",
              "    .dataframe tbody tr th {\n",
              "        vertical-align: top;\n",
              "    }\n",
              "\n",
              "    .dataframe thead th {\n",
              "        text-align: right;\n",
              "    }\n",
              "</style>\n",
              "<table border=\"1\" class=\"dataframe\">\n",
              "  <thead>\n",
              "    <tr style=\"text-align: right;\">\n",
              "      <th></th>\n",
              "      <th>user_id</th>\n",
              "      <th>item_id</th>\n",
              "      <th>rating</th>\n",
              "      <th>timestamp</th>\n",
              "    </tr>\n",
              "  </thead>\n",
              "  <tbody>\n",
              "    <tr>\n",
              "      <th>0</th>\n",
              "      <td>0</td>\n",
              "      <td>50</td>\n",
              "      <td>5</td>\n",
              "      <td>881250949</td>\n",
              "    </tr>\n",
              "    <tr>\n",
              "      <th>1</th>\n",
              "      <td>0</td>\n",
              "      <td>172</td>\n",
              "      <td>5</td>\n",
              "      <td>881250949</td>\n",
              "    </tr>\n",
              "    <tr>\n",
              "      <th>2</th>\n",
              "      <td>0</td>\n",
              "      <td>133</td>\n",
              "      <td>1</td>\n",
              "      <td>881250949</td>\n",
              "    </tr>\n",
              "    <tr>\n",
              "      <th>3</th>\n",
              "      <td>196</td>\n",
              "      <td>242</td>\n",
              "      <td>3</td>\n",
              "      <td>881250949</td>\n",
              "    </tr>\n",
              "    <tr>\n",
              "      <th>4</th>\n",
              "      <td>186</td>\n",
              "      <td>302</td>\n",
              "      <td>3</td>\n",
              "      <td>891717742</td>\n",
              "    </tr>\n",
              "  </tbody>\n",
              "</table>\n",
              "</div>"
            ],
            "text/plain": [
              "   user_id  item_id  rating  timestamp\n",
              "0        0       50       5  881250949\n",
              "1        0      172       5  881250949\n",
              "2        0      133       1  881250949\n",
              "3      196      242       3  881250949\n",
              "4      186      302       3  891717742"
            ]
          },
          "execution_count": 5,
          "metadata": {},
          "output_type": "execute_result"
        }
      ],
      "source": [
        "rating.head()"
      ]
    },
    {
      "cell_type": "code",
      "execution_count": 6,
      "metadata": {
        "execution": {
          "iopub.execute_input": "2022-06-07T08:19:42.448784Z",
          "iopub.status.busy": "2022-06-07T08:19:42.448389Z",
          "iopub.status.idle": "2022-06-07T08:19:42.461908Z",
          "shell.execute_reply": "2022-06-07T08:19:42.46104Z",
          "shell.execute_reply.started": "2022-06-07T08:19:42.448751Z"
        },
        "id": "Sqb_k1clyCMg",
        "trusted": true
      },
      "outputs": [],
      "source": [
        "movie = pd.read_csv(path_absolute+\"Movie_Id_Titles.csv\")"
      ]
    },
    {
      "cell_type": "code",
      "execution_count": 7,
      "metadata": {
        "colab": {
          "base_uri": "https://localhost:8080/",
          "height": 206
        },
        "execution": {
          "iopub.execute_input": "2022-06-07T08:19:45.260265Z",
          "iopub.status.busy": "2022-06-07T08:19:45.259841Z",
          "iopub.status.idle": "2022-06-07T08:19:45.270613Z",
          "shell.execute_reply": "2022-06-07T08:19:45.26965Z",
          "shell.execute_reply.started": "2022-06-07T08:19:45.260231Z"
        },
        "id": "64eFgTW7yCMg",
        "outputId": "ae36a433-741b-4c3c-c347-be176bbe0105",
        "trusted": true
      },
      "outputs": [
        {
          "data": {
            "text/html": [
              "<div>\n",
              "<style scoped>\n",
              "    .dataframe tbody tr th:only-of-type {\n",
              "        vertical-align: middle;\n",
              "    }\n",
              "\n",
              "    .dataframe tbody tr th {\n",
              "        vertical-align: top;\n",
              "    }\n",
              "\n",
              "    .dataframe thead th {\n",
              "        text-align: right;\n",
              "    }\n",
              "</style>\n",
              "<table border=\"1\" class=\"dataframe\">\n",
              "  <thead>\n",
              "    <tr style=\"text-align: right;\">\n",
              "      <th></th>\n",
              "      <th>item_id</th>\n",
              "      <th>title</th>\n",
              "    </tr>\n",
              "  </thead>\n",
              "  <tbody>\n",
              "    <tr>\n",
              "      <th>0</th>\n",
              "      <td>1</td>\n",
              "      <td>Toy Story (1995)</td>\n",
              "    </tr>\n",
              "    <tr>\n",
              "      <th>1</th>\n",
              "      <td>2</td>\n",
              "      <td>GoldenEye (1995)</td>\n",
              "    </tr>\n",
              "    <tr>\n",
              "      <th>2</th>\n",
              "      <td>3</td>\n",
              "      <td>Four Rooms (1995)</td>\n",
              "    </tr>\n",
              "    <tr>\n",
              "      <th>3</th>\n",
              "      <td>4</td>\n",
              "      <td>Get Shorty (1995)</td>\n",
              "    </tr>\n",
              "    <tr>\n",
              "      <th>4</th>\n",
              "      <td>5</td>\n",
              "      <td>Copycat (1995)</td>\n",
              "    </tr>\n",
              "  </tbody>\n",
              "</table>\n",
              "</div>"
            ],
            "text/plain": [
              "   item_id              title\n",
              "0        1   Toy Story (1995)\n",
              "1        2   GoldenEye (1995)\n",
              "2        3  Four Rooms (1995)\n",
              "3        4  Get Shorty (1995)\n",
              "4        5     Copycat (1995)"
            ]
          },
          "execution_count": 7,
          "metadata": {},
          "output_type": "execute_result"
        }
      ],
      "source": [
        "movie.head()"
      ]
    },
    {
      "cell_type": "markdown",
      "metadata": {
        "id": "p-JhUvrYyCMg"
      },
      "source": [
        "# 3. Merge both the datasets based on Itemid"
      ]
    },
    {
      "cell_type": "code",
      "execution_count": 8,
      "metadata": {
        "execution": {
          "iopub.execute_input": "2022-06-07T08:19:48.7597Z",
          "iopub.status.busy": "2022-06-07T08:19:48.759315Z",
          "iopub.status.idle": "2022-06-07T08:19:48.798179Z",
          "shell.execute_reply": "2022-06-07T08:19:48.797294Z",
          "shell.execute_reply.started": "2022-06-07T08:19:48.759669Z"
        },
        "id": "5jGzveslyCMh",
        "trusted": true
      },
      "outputs": [],
      "source": [
        " df = pd.merge(movie,rating, on='item_id')"
      ]
    },
    {
      "cell_type": "code",
      "execution_count": 9,
      "metadata": {
        "colab": {
          "base_uri": "https://localhost:8080/",
          "height": 206
        },
        "execution": {
          "iopub.execute_input": "2022-06-07T08:19:52.040331Z",
          "iopub.status.busy": "2022-06-07T08:19:52.039788Z",
          "iopub.status.idle": "2022-06-07T08:19:52.049784Z",
          "shell.execute_reply": "2022-06-07T08:19:52.049014Z",
          "shell.execute_reply.started": "2022-06-07T08:19:52.040299Z"
        },
        "id": "6xsFzqo3yCMh",
        "outputId": "a839b7a8-e5c8-4de1-a3a5-3d3e868993c7",
        "trusted": true
      },
      "outputs": [
        {
          "data": {
            "text/html": [
              "<div>\n",
              "<style scoped>\n",
              "    .dataframe tbody tr th:only-of-type {\n",
              "        vertical-align: middle;\n",
              "    }\n",
              "\n",
              "    .dataframe tbody tr th {\n",
              "        vertical-align: top;\n",
              "    }\n",
              "\n",
              "    .dataframe thead th {\n",
              "        text-align: right;\n",
              "    }\n",
              "</style>\n",
              "<table border=\"1\" class=\"dataframe\">\n",
              "  <thead>\n",
              "    <tr style=\"text-align: right;\">\n",
              "      <th></th>\n",
              "      <th>item_id</th>\n",
              "      <th>title</th>\n",
              "      <th>user_id</th>\n",
              "      <th>rating</th>\n",
              "      <th>timestamp</th>\n",
              "    </tr>\n",
              "  </thead>\n",
              "  <tbody>\n",
              "    <tr>\n",
              "      <th>0</th>\n",
              "      <td>1</td>\n",
              "      <td>Toy Story (1995)</td>\n",
              "      <td>308</td>\n",
              "      <td>4</td>\n",
              "      <td>887736532</td>\n",
              "    </tr>\n",
              "    <tr>\n",
              "      <th>1</th>\n",
              "      <td>1</td>\n",
              "      <td>Toy Story (1995)</td>\n",
              "      <td>287</td>\n",
              "      <td>5</td>\n",
              "      <td>875334088</td>\n",
              "    </tr>\n",
              "    <tr>\n",
              "      <th>2</th>\n",
              "      <td>1</td>\n",
              "      <td>Toy Story (1995)</td>\n",
              "      <td>148</td>\n",
              "      <td>4</td>\n",
              "      <td>877019411</td>\n",
              "    </tr>\n",
              "    <tr>\n",
              "      <th>3</th>\n",
              "      <td>1</td>\n",
              "      <td>Toy Story (1995)</td>\n",
              "      <td>280</td>\n",
              "      <td>4</td>\n",
              "      <td>891700426</td>\n",
              "    </tr>\n",
              "    <tr>\n",
              "      <th>4</th>\n",
              "      <td>1</td>\n",
              "      <td>Toy Story (1995)</td>\n",
              "      <td>66</td>\n",
              "      <td>3</td>\n",
              "      <td>883601324</td>\n",
              "    </tr>\n",
              "  </tbody>\n",
              "</table>\n",
              "</div>"
            ],
            "text/plain": [
              "   item_id             title  user_id  rating  timestamp\n",
              "0        1  Toy Story (1995)      308       4  887736532\n",
              "1        1  Toy Story (1995)      287       5  875334088\n",
              "2        1  Toy Story (1995)      148       4  877019411\n",
              "3        1  Toy Story (1995)      280       4  891700426\n",
              "4        1  Toy Story (1995)       66       3  883601324"
            ]
          },
          "execution_count": 9,
          "metadata": {},
          "output_type": "execute_result"
        }
      ],
      "source": [
        "df.head()"
      ]
    },
    {
      "cell_type": "code",
      "execution_count": 10,
      "metadata": {
        "colab": {
          "base_uri": "https://localhost:8080/"
        },
        "id": "LXMO8AqoyCMh",
        "outputId": "bfab837c-ad7b-44c6-fb70-4b006e2f121a"
      },
      "outputs": [
        {
          "name": "stdout",
          "output_type": "stream",
          "text": [
            "(8949372, 13)\n",
            "(10000, 11)\n"
          ]
        }
      ],
      "source": [
        "ratings = pd.read_csv(path_absolute+'/df_mezclado_tags_ratings_movies_links_genTags.csv')\n",
        "print(ratings.shape)\n",
        "df_ratings_merge = ratings.copy()\n",
        "df_ratings_merge = df_ratings_merge.sample(n=10000, random_state=42)\n",
        "# Inserta la columna 'rating' en la última posición del DataFrame\n",
        "df_ratings_merge.insert(len(df_ratings_merge.columns)-1, 'rating', df_ratings_merge.pop('rating'))\n",
        "# Inserta la columna 'relevance' en la penúltima posición del DataFrame\n",
        "df_ratings_merge.insert(len(df_ratings_merge.columns)-2, 'relevance', df_ratings_merge.pop('relevance'))\n",
        "# Inserta la columna 'tag_etiquetas_genómicas' despues de tag_df_mezclado\n",
        "df_ratings_merge.insert(5, 'tag_etiquetas_genómicas', df_ratings_merge.pop('tag_etiquetas_genómicas'))\n",
        "\n",
        "# Renombrar algunas columnas:\n",
        "df_ratings_merge.rename(columns={'timestamp_valoraciones': 'timestamp_rt', 'timestamp_etiquetas': 'timestamp_tags', 'tag_df_mezclado_tags_ratings_movies_links_genMov': 'tag_by_user', 'tag_etiquetas_genómicas': 'gen_tag'}, inplace=True)\n",
        "\n",
        "# Elimino las columnas:\n",
        "columnas_a_eliminar = ['imdbId', 'tmdbId']\n",
        "df_ratings_merge = df_ratings_merge.drop(columnas_a_eliminar, axis=1)\n",
        "print(df_ratings_merge.shape)\n",
        "df_ratings_merge.head()\n",
        "\n",
        "df = df_ratings_merge.copy()"
      ]
    },
    {
      "cell_type": "markdown",
      "metadata": {
        "id": "LMvpmj58yCMh"
      },
      "source": [
        "# 4.EDA"
      ]
    },
    {
      "cell_type": "code",
      "execution_count": 11,
      "metadata": {
        "colab": {
          "base_uri": "https://localhost:8080/"
        },
        "execution": {
          "iopub.execute_input": "2022-06-07T08:19:55.280004Z",
          "iopub.status.busy": "2022-06-07T08:19:55.279481Z",
          "iopub.status.idle": "2022-06-07T08:19:55.286898Z",
          "shell.execute_reply": "2022-06-07T08:19:55.285885Z",
          "shell.execute_reply.started": "2022-06-07T08:19:55.279958Z"
        },
        "id": "vBZcKI24yCMh",
        "outputId": "50689b2f-e57a-47b8-8c2c-9e617c7cc893",
        "trusted": true
      },
      "outputs": [
        {
          "data": {
            "text/plain": [
              "(10000, 11)"
            ]
          },
          "execution_count": 11,
          "metadata": {},
          "output_type": "execute_result"
        }
      ],
      "source": [
        "df.shape"
      ]
    },
    {
      "cell_type": "code",
      "execution_count": 12,
      "metadata": {
        "colab": {
          "base_uri": "https://localhost:8080/"
        },
        "execution": {
          "iopub.execute_input": "2022-06-07T08:19:58.329297Z",
          "iopub.status.busy": "2022-06-07T08:19:58.328711Z",
          "iopub.status.idle": "2022-06-07T08:19:58.339332Z",
          "shell.execute_reply": "2022-06-07T08:19:58.338685Z",
          "shell.execute_reply.started": "2022-06-07T08:19:58.32926Z"
        },
        "id": "BBKi311xyCMi",
        "outputId": "a100ae55-e0b0-4f9d-e92b-9efefe62ebbd",
        "trusted": true
      },
      "outputs": [
        {
          "data": {
            "text/plain": [
              "4.0    2311\n",
              "5.0    2019\n",
              "4.5    1753\n",
              "3.5    1525\n",
              "3.0    1034\n",
              "2.5     494\n",
              "2.0     365\n",
              "1.5     184\n",
              "1.0     159\n",
              "0.5     156\n",
              "Name: rating, dtype: int64"
            ]
          },
          "execution_count": 12,
          "metadata": {},
          "output_type": "execute_result"
        }
      ],
      "source": [
        "df['rating'].value_counts()"
      ]
    },
    {
      "cell_type": "code",
      "execution_count": 13,
      "metadata": {
        "colab": {
          "base_uri": "https://localhost:8080/"
        },
        "execution": {
          "iopub.execute_input": "2022-06-07T08:20:01.439429Z",
          "iopub.status.busy": "2022-06-07T08:20:01.43869Z",
          "iopub.status.idle": "2022-06-07T08:20:01.461334Z",
          "shell.execute_reply": "2022-06-07T08:20:01.460372Z",
          "shell.execute_reply.started": "2022-06-07T08:20:01.439388Z"
        },
        "id": "ahDyXiwcyCMi",
        "outputId": "6322ef19-4a47-4026-f9b5-0fc806f941af",
        "trusted": true
      },
      "outputs": [
        {
          "data": {
            "text/plain": [
              "title\n",
              "'Salem's Lot (2004)                                                                   5.0\n",
              "Most Dangerous Man in America: Daniel Ellsberg and the Pentagon Papers, The (2009)    5.0\n",
              "Becoming Jane (2007)                                                                  5.0\n",
              "The First Purge (2018)                                                                5.0\n",
              "Monty Python's And Now for Something Completely Different (1971)                      5.0\n",
              "Beautiful Creatures (2013)                                                            5.0\n",
              "Everlasting Moments (Maria Larssons eviga ögonblick) (2008)                           5.0\n",
              "The Hundred-Foot Journey (2014)                                                       5.0\n",
              "Beaches (1988)                                                                        5.0\n",
              "Baywatch (2017)                                                                       5.0\n",
              "Name: rating, dtype: float64"
            ]
          },
          "execution_count": 13,
          "metadata": {},
          "output_type": "execute_result"
        }
      ],
      "source": [
        "df.groupby('title')['rating'].mean().sort_values(ascending=False).head(10)"
      ]
    },
    {
      "cell_type": "markdown",
      "metadata": {
        "id": "es_3P9ztyCMi"
      },
      "source": [
        "# 5.Visualisation"
      ]
    },
    {
      "cell_type": "code",
      "execution_count": 14,
      "metadata": {
        "colab": {
          "base_uri": "https://localhost:8080/",
          "height": 845
        },
        "execution": {
          "iopub.execute_input": "2022-06-07T08:20:07.040238Z",
          "iopub.status.busy": "2022-06-07T08:20:07.039821Z",
          "iopub.status.idle": "2022-06-07T08:20:07.320332Z",
          "shell.execute_reply": "2022-06-07T08:20:07.319235Z",
          "shell.execute_reply.started": "2022-06-07T08:20:07.040206Z"
        },
        "id": "QdDL-dfVyCMi",
        "outputId": "5b809a56-db96-411e-94ee-b01c59ff0577",
        "trusted": true
      },
      "outputs": [
        {
          "data": {
            "image/png": "[encoded data removed]",
            "text/plain": [
              "<Figure size 1000x1000 with 1 Axes>"
            ]
          },
          "metadata": {},
          "output_type": "display_data"
        }
      ],
      "source": [
        "df['rating'].hist(figsize= (10,10))\n",
        "plt.show()"
      ]
    },
    {
      "cell_type": "code",
      "execution_count": 15,
      "metadata": {
        "colab": {
          "base_uri": "https://localhost:8080/",
          "height": 588
        },
        "execution": {
          "iopub.execute_input": "2022-06-07T08:23:01.436321Z",
          "iopub.status.busy": "2022-06-07T08:23:01.435907Z",
          "iopub.status.idle": "2022-06-07T08:23:01.655958Z",
          "shell.execute_reply": "2022-06-07T08:23:01.654897Z",
          "shell.execute_reply.started": "2022-06-07T08:23:01.436291Z"
        },
        "id": "m1yZoSYSyCMi",
        "outputId": "2ee93710-4d76-4be8-bc35-0a541c660cfe",
        "trusted": true
      },
      "outputs": [
        {
          "name": "stderr",
          "output_type": "stream",
          "text": [
            "C:\\Users\\jaime\\AppData\\Local\\Temp\\ipykernel_27860\\1971095500.py:1: FutureWarning: The default value of numeric_only in DataFrame.corr is deprecated. In a future version, it will default to False. Select only valid columns or specify the value of numeric_only to silence this warning.\n",
            "  tc = df.corr()\n"
          ]
        },
        {
          "data": {
            "image/png": "[encoded data removed]",
            "text/plain": [
              "<Figure size 640x480 with 2 Axes>"
            ]
          },
          "metadata": {},
          "output_type": "display_data"
        }
      ],
      "source": [
        "tc = df.corr()\n",
        "sns.heatmap(tc)\n",
        "plt.show()\n"
      ]
    },
    {
      "cell_type": "markdown",
      "metadata": {
        "id": "L8kaSHhXyCMj"
      },
      "source": [
        "# 6.create a ratings dataframe with average rating and number of ratings"
      ]
    },
    {
      "cell_type": "code",
      "execution_count": 16,
      "metadata": {
        "colab": {
          "base_uri": "https://localhost:8080/",
          "height": 238
        },
        "execution": {
          "iopub.execute_input": "2022-06-07T08:25:15.410899Z",
          "iopub.status.busy": "2022-06-07T08:25:15.410514Z",
          "iopub.status.idle": "2022-06-07T08:25:15.437658Z",
          "shell.execute_reply": "2022-06-07T08:25:15.436907Z",
          "shell.execute_reply.started": "2022-06-07T08:25:15.410866Z"
        },
        "id": "2taXjagfyCMj",
        "outputId": "74948823-18c4-4cfc-d100-160c8bfaa3df",
        "trusted": true
      },
      "outputs": [
        {
          "data": {
            "text/html": [
              "<div>\n",
              "<style scoped>\n",
              "    .dataframe tbody tr th:only-of-type {\n",
              "        vertical-align: middle;\n",
              "    }\n",
              "\n",
              "    .dataframe tbody tr th {\n",
              "        vertical-align: top;\n",
              "    }\n",
              "\n",
              "    .dataframe thead th {\n",
              "        text-align: right;\n",
              "    }\n",
              "</style>\n",
              "<table border=\"1\" class=\"dataframe\">\n",
              "  <thead>\n",
              "    <tr style=\"text-align: right;\">\n",
              "      <th></th>\n",
              "      <th>rating</th>\n",
              "    </tr>\n",
              "    <tr>\n",
              "      <th>title</th>\n",
              "      <th></th>\n",
              "    </tr>\n",
              "  </thead>\n",
              "  <tbody>\n",
              "    <tr>\n",
              "      <th>'Salem's Lot (2004)</th>\n",
              "      <td>5.000000</td>\n",
              "    </tr>\n",
              "    <tr>\n",
              "      <th>'burbs, The (1989)</th>\n",
              "      <td>3.500000</td>\n",
              "    </tr>\n",
              "    <tr>\n",
              "      <th>(500) Days of Summer (2009)</th>\n",
              "      <td>4.416667</td>\n",
              "    </tr>\n",
              "    <tr>\n",
              "      <th>...And Justice for All (1979)</th>\n",
              "      <td>4.500000</td>\n",
              "    </tr>\n",
              "    <tr>\n",
              "      <th>10 (1979)</th>\n",
              "      <td>2.250000</td>\n",
              "    </tr>\n",
              "  </tbody>\n",
              "</table>\n",
              "</div>"
            ],
            "text/plain": [
              "                                 rating\n",
              "title                                  \n",
              "'Salem's Lot (2004)            5.000000\n",
              "'burbs, The (1989)             3.500000\n",
              "(500) Days of Summer (2009)    4.416667\n",
              "...And Justice for All (1979)  4.500000\n",
              "10 (1979)                      2.250000"
            ]
          },
          "execution_count": 16,
          "metadata": {},
          "output_type": "execute_result"
        }
      ],
      "source": [
        "ratings =pd.DataFrame(df.groupby('title')['rating'].mean())\n",
        "ratings.head()"
      ]
    },
    {
      "cell_type": "code",
      "execution_count": 17,
      "metadata": {
        "execution": {
          "iopub.execute_input": "2022-06-07T08:25:19.675189Z",
          "iopub.status.busy": "2022-06-07T08:25:19.674777Z",
          "iopub.status.idle": "2022-06-07T08:25:19.69524Z",
          "shell.execute_reply": "2022-06-07T08:25:19.693385Z",
          "shell.execute_reply.started": "2022-06-07T08:25:19.675155Z"
        },
        "id": "WYyy4sKJyCMj",
        "trusted": true
      },
      "outputs": [],
      "source": [
        "ratings['rating_numbers'] = pd.DataFrame(df.groupby('title')['rating'].count())"
      ]
    },
    {
      "cell_type": "code",
      "execution_count": 18,
      "metadata": {
        "colab": {
          "base_uri": "https://localhost:8080/",
          "height": 238
        },
        "execution": {
          "iopub.execute_input": "2022-06-07T08:25:22.037232Z",
          "iopub.status.busy": "2022-06-07T08:25:22.036804Z",
          "iopub.status.idle": "2022-06-07T08:25:22.04621Z",
          "shell.execute_reply": "2022-06-07T08:25:22.045218Z",
          "shell.execute_reply.started": "2022-06-07T08:25:22.0372Z"
        },
        "id": "ak4Fb1lsyCMj",
        "outputId": "496a6d15-c1fc-4277-a8fc-3db6e7b507b5",
        "trusted": true
      },
      "outputs": [
        {
          "data": {
            "text/html": [
              "<div>\n",
              "<style scoped>\n",
              "    .dataframe tbody tr th:only-of-type {\n",
              "        vertical-align: middle;\n",
              "    }\n",
              "\n",
              "    .dataframe tbody tr th {\n",
              "        vertical-align: top;\n",
              "    }\n",
              "\n",
              "    .dataframe thead th {\n",
              "        text-align: right;\n",
              "    }\n",
              "</style>\n",
              "<table border=\"1\" class=\"dataframe\">\n",
              "  <thead>\n",
              "    <tr style=\"text-align: right;\">\n",
              "      <th></th>\n",
              "      <th>rating</th>\n",
              "      <th>rating_numbers</th>\n",
              "    </tr>\n",
              "    <tr>\n",
              "      <th>title</th>\n",
              "      <th></th>\n",
              "      <th></th>\n",
              "    </tr>\n",
              "  </thead>\n",
              "  <tbody>\n",
              "    <tr>\n",
              "      <th>'Salem's Lot (2004)</th>\n",
              "      <td>5.000000</td>\n",
              "      <td>1</td>\n",
              "    </tr>\n",
              "    <tr>\n",
              "      <th>'burbs, The (1989)</th>\n",
              "      <td>3.500000</td>\n",
              "      <td>3</td>\n",
              "    </tr>\n",
              "    <tr>\n",
              "      <th>(500) Days of Summer (2009)</th>\n",
              "      <td>4.416667</td>\n",
              "      <td>18</td>\n",
              "    </tr>\n",
              "    <tr>\n",
              "      <th>...And Justice for All (1979)</th>\n",
              "      <td>4.500000</td>\n",
              "      <td>1</td>\n",
              "    </tr>\n",
              "    <tr>\n",
              "      <th>10 (1979)</th>\n",
              "      <td>2.250000</td>\n",
              "      <td>2</td>\n",
              "    </tr>\n",
              "  </tbody>\n",
              "</table>\n",
              "</div>"
            ],
            "text/plain": [
              "                                 rating  rating_numbers\n",
              "title                                                  \n",
              "'Salem's Lot (2004)            5.000000               1\n",
              "'burbs, The (1989)             3.500000               3\n",
              "(500) Days of Summer (2009)    4.416667              18\n",
              "...And Justice for All (1979)  4.500000               1\n",
              "10 (1979)                      2.250000               2"
            ]
          },
          "execution_count": 18,
          "metadata": {},
          "output_type": "execute_result"
        }
      ],
      "source": [
        "ratings.head()"
      ]
    },
    {
      "cell_type": "markdown",
      "metadata": {
        "id": "_XvIBgYByCMj"
      },
      "source": [
        "# 7. Create Pivot table"
      ]
    },
    {
      "cell_type": "code",
      "execution_count": 19,
      "metadata": {
        "colab": {
          "base_uri": "https://localhost:8080/",
          "height": 206
        },
        "id": "oCCp476AyCMj",
        "outputId": "cae2eb82-587a-422c-c9a4-cff1e2d8942d"
      },
      "outputs": [
        {
          "data": {
            "text/html": [
              "<div>\n",
              "<style scoped>\n",
              "    .dataframe tbody tr th:only-of-type {\n",
              "        vertical-align: middle;\n",
              "    }\n",
              "\n",
              "    .dataframe tbody tr th {\n",
              "        vertical-align: top;\n",
              "    }\n",
              "\n",
              "    .dataframe thead th {\n",
              "        text-align: right;\n",
              "    }\n",
              "</style>\n",
              "<table border=\"1\" class=\"dataframe\">\n",
              "  <thead>\n",
              "    <tr style=\"text-align: right;\">\n",
              "      <th></th>\n",
              "      <th>userId</th>\n",
              "      <th>movieId</th>\n",
              "      <th>timestamp_rt</th>\n",
              "      <th>tag_by_user</th>\n",
              "      <th>timestamp_tags</th>\n",
              "      <th>gen_tag</th>\n",
              "      <th>title</th>\n",
              "      <th>genres</th>\n",
              "      <th>tagId</th>\n",
              "      <th>relevance</th>\n",
              "      <th>rating</th>\n",
              "    </tr>\n",
              "  </thead>\n",
              "  <tbody>\n",
              "    <tr>\n",
              "      <th>1561133</th>\n",
              "      <td>60101</td>\n",
              "      <td>2571</td>\n",
              "      <td>1053445162</td>\n",
              "      <td>dystopia</td>\n",
              "      <td>1244667471</td>\n",
              "      <td>hitman</td>\n",
              "      <td>Matrix, The (1999)</td>\n",
              "      <td>Action|Sci-Fi|Thriller</td>\n",
              "      <td>512</td>\n",
              "      <td>0.12625</td>\n",
              "      <td>5.0</td>\n",
              "    </tr>\n",
              "    <tr>\n",
              "      <th>1499330</th>\n",
              "      <td>42923</td>\n",
              "      <td>1228</td>\n",
              "      <td>1330057917</td>\n",
              "      <td>classic</td>\n",
              "      <td>1330057913</td>\n",
              "      <td>nocturnal</td>\n",
              "      <td>Raging Bull (1980)</td>\n",
              "      <td>Drama</td>\n",
              "      <td>710</td>\n",
              "      <td>0.60700</td>\n",
              "      <td>4.0</td>\n",
              "    </tr>\n",
              "    <tr>\n",
              "      <th>1048680</th>\n",
              "      <td>7620</td>\n",
              "      <td>34532</td>\n",
              "      <td>1144937579</td>\n",
              "      <td>Magick</td>\n",
              "      <td>1144937622</td>\n",
              "      <td>true story</td>\n",
              "      <td>Skeleton Key, The (2005)</td>\n",
              "      <td>Drama|Horror|Mystery|Thriller</td>\n",
              "      <td>1047</td>\n",
              "      <td>0.05750</td>\n",
              "      <td>5.0</td>\n",
              "    </tr>\n",
              "    <tr>\n",
              "      <th>1703441</th>\n",
              "      <td>62199</td>\n",
              "      <td>5636</td>\n",
              "      <td>1199318408</td>\n",
              "      <td>Anthony Russo</td>\n",
              "      <td>1328741490</td>\n",
              "      <td>adoption</td>\n",
              "      <td>Welcome to Collinwood (2002)</td>\n",
              "      <td>Comedy|Crime</td>\n",
              "      <td>27</td>\n",
              "      <td>0.05325</td>\n",
              "      <td>3.0</td>\n",
              "    </tr>\n",
              "    <tr>\n",
              "      <th>5648649</th>\n",
              "      <td>29801</td>\n",
              "      <td>6250</td>\n",
              "      <td>1476349149</td>\n",
              "      <td>Stephen King</td>\n",
              "      <td>1476349186</td>\n",
              "      <td>cult film</td>\n",
              "      <td>Dreamcatcher (2003)</td>\n",
              "      <td>Drama|Horror|Sci-Fi|Thriller</td>\n",
              "      <td>276</td>\n",
              "      <td>0.36500</td>\n",
              "      <td>2.0</td>\n",
              "    </tr>\n",
              "  </tbody>\n",
              "</table>\n",
              "</div>"
            ],
            "text/plain": [
              "         userId  movieId  timestamp_rt    tag_by_user  timestamp_tags  \\\n",
              "1561133   60101     2571    1053445162       dystopia      1244667471   \n",
              "1499330   42923     1228    1330057917        classic      1330057913   \n",
              "1048680    7620    34532    1144937579         Magick      1144937622   \n",
              "1703441   62199     5636    1199318408  Anthony Russo      1328741490   \n",
              "5648649   29801     6250    1476349149   Stephen King      1476349186   \n",
              "\n",
              "            gen_tag                         title  \\\n",
              "1561133      hitman            Matrix, The (1999)   \n",
              "1499330   nocturnal            Raging Bull (1980)   \n",
              "1048680  true story      Skeleton Key, The (2005)   \n",
              "1703441    adoption  Welcome to Collinwood (2002)   \n",
              "5648649   cult film           Dreamcatcher (2003)   \n",
              "\n",
              "                                genres  tagId  relevance  rating  \n",
              "1561133         Action|Sci-Fi|Thriller    512    0.12625     5.0  \n",
              "1499330                          Drama    710    0.60700     4.0  \n",
              "1048680  Drama|Horror|Mystery|Thriller   1047    0.05750     5.0  \n",
              "1703441                   Comedy|Crime     27    0.05325     3.0  \n",
              "5648649   Drama|Horror|Sci-Fi|Thriller    276    0.36500     2.0  "
            ]
          },
          "execution_count": 19,
          "metadata": {},
          "output_type": "execute_result"
        }
      ],
      "source": [
        "df.head()"
      ]
    },
    {
      "cell_type": "markdown",
      "metadata": {},
      "source": [
        "## Esta matriz (movieRate) es una representación de las calificaciones dadas por los usuarios a las películas. Las filas representan usuarios, las columnas representan títulos de películas y los valores son las calificaciones. Las celdas que no tienen calificación se llenan con ceros."
      ]
    },
    {
      "cell_type": "code",
      "execution_count": 20,
      "metadata": {
        "execution": {
          "iopub.execute_input": "2022-06-07T08:25:25.475578Z",
          "iopub.status.busy": "2022-06-07T08:25:25.474985Z",
          "iopub.status.idle": "2022-06-07T08:25:25.621737Z",
          "shell.execute_reply": "2022-06-07T08:25:25.620984Z",
          "shell.execute_reply.started": "2022-06-07T08:25:25.475534Z"
        },
        "id": "SlyEs480yCMk",
        "trusted": true
      },
      "outputs": [],
      "source": [
        "movieRate = df.pivot_table(index='userId', columns='title', values='rating')\n",
        "movieRate.fillna(0, inplace=True)"
      ]
    },
    {
      "cell_type": "code",
      "execution_count": 21,
      "metadata": {
        "colab": {
          "base_uri": "https://localhost:8080/",
          "height": 354
        },
        "execution": {
          "iopub.execute_input": "2022-06-07T08:25:29.040355Z",
          "iopub.status.busy": "2022-06-07T08:25:29.039988Z",
          "iopub.status.idle": "2022-06-07T08:25:29.07078Z",
          "shell.execute_reply": "2022-06-07T08:25:29.070102Z",
          "shell.execute_reply.started": "2022-06-07T08:25:29.040325Z"
        },
        "id": "-N_J6TynyCMk",
        "outputId": "44313645-68ee-43bc-d400-84dbe171df72",
        "trusted": true
      },
      "outputs": [
        {
          "data": {
            "text/html": [
              "<div>\n",
              "<style scoped>\n",
              "    .dataframe tbody tr th:only-of-type {\n",
              "        vertical-align: middle;\n",
              "    }\n",
              "\n",
              "    .dataframe tbody tr th {\n",
              "        vertical-align: top;\n",
              "    }\n",
              "\n",
              "    .dataframe thead th {\n",
              "        text-align: right;\n",
              "    }\n",
              "</style>\n",
              "<table border=\"1\" class=\"dataframe\">\n",
              "  <thead>\n",
              "    <tr style=\"text-align: right;\">\n",
              "      <th>title</th>\n",
              "      <th>'Salem's Lot (2004)</th>\n",
              "      <th>'burbs, The (1989)</th>\n",
              "      <th>(500) Days of Summer (2009)</th>\n",
              "      <th>...And Justice for All (1979)</th>\n",
              "      <th>10 (1979)</th>\n",
              "      <th>10 Cloverfield Lane (2016)</th>\n",
              "      <th>10 Items or Less (2006)</th>\n",
              "      <th>10 Rillington Place (1971)</th>\n",
              "      <th>10 Things I Hate About You (1999)</th>\n",
              "      <th>1000 Eyes of Dr. Mabuse, The (Die 1000 Augen des Dr. Mabuse) (1960)</th>\n",
              "      <th>...</th>\n",
              "      <th>Zero Dark Thirty (2012)</th>\n",
              "      <th>Zero Theorem, The (2013)</th>\n",
              "      <th>Zodiac (2007)</th>\n",
              "      <th>Zombieland (2009)</th>\n",
              "      <th>Zoolander (2001)</th>\n",
              "      <th>Zootopia (2016)</th>\n",
              "      <th>[REC] (2007)</th>\n",
              "      <th>eXistenZ (1999)</th>\n",
              "      <th>xXx (2002)</th>\n",
              "      <th>¡Three Amigos! (1986)</th>\n",
              "    </tr>\n",
              "    <tr>\n",
              "      <th>userId</th>\n",
              "      <th></th>\n",
              "      <th></th>\n",
              "      <th></th>\n",
              "      <th></th>\n",
              "      <th></th>\n",
              "      <th></th>\n",
              "      <th></th>\n",
              "      <th></th>\n",
              "      <th></th>\n",
              "      <th></th>\n",
              "      <th></th>\n",
              "      <th></th>\n",
              "      <th></th>\n",
              "      <th></th>\n",
              "      <th></th>\n",
              "      <th></th>\n",
              "      <th></th>\n",
              "      <th></th>\n",
              "      <th></th>\n",
              "      <th></th>\n",
              "      <th></th>\n",
              "    </tr>\n",
              "  </thead>\n",
              "  <tbody>\n",
              "    <tr>\n",
              "      <th>43</th>\n",
              "      <td>0.0</td>\n",
              "      <td>0.0</td>\n",
              "      <td>0.0</td>\n",
              "      <td>0.0</td>\n",
              "      <td>0.0</td>\n",
              "      <td>0.0</td>\n",
              "      <td>0.0</td>\n",
              "      <td>0.0</td>\n",
              "      <td>0.0</td>\n",
              "      <td>0.0</td>\n",
              "      <td>...</td>\n",
              "      <td>0.0</td>\n",
              "      <td>0.0</td>\n",
              "      <td>0.0</td>\n",
              "      <td>0.0</td>\n",
              "      <td>0.0</td>\n",
              "      <td>0.0</td>\n",
              "      <td>0.0</td>\n",
              "      <td>0.0</td>\n",
              "      <td>0.0</td>\n",
              "      <td>0.0</td>\n",
              "    </tr>\n",
              "    <tr>\n",
              "      <th>91</th>\n",
              "      <td>0.0</td>\n",
              "      <td>0.0</td>\n",
              "      <td>3.5</td>\n",
              "      <td>0.0</td>\n",
              "      <td>0.0</td>\n",
              "      <td>0.0</td>\n",
              "      <td>0.0</td>\n",
              "      <td>0.0</td>\n",
              "      <td>0.0</td>\n",
              "      <td>0.0</td>\n",
              "      <td>...</td>\n",
              "      <td>0.0</td>\n",
              "      <td>0.0</td>\n",
              "      <td>0.0</td>\n",
              "      <td>0.0</td>\n",
              "      <td>0.0</td>\n",
              "      <td>0.0</td>\n",
              "      <td>0.0</td>\n",
              "      <td>0.0</td>\n",
              "      <td>0.0</td>\n",
              "      <td>0.0</td>\n",
              "    </tr>\n",
              "    <tr>\n",
              "      <th>264</th>\n",
              "      <td>0.0</td>\n",
              "      <td>0.0</td>\n",
              "      <td>0.0</td>\n",
              "      <td>0.0</td>\n",
              "      <td>0.0</td>\n",
              "      <td>0.0</td>\n",
              "      <td>0.0</td>\n",
              "      <td>0.0</td>\n",
              "      <td>0.0</td>\n",
              "      <td>0.0</td>\n",
              "      <td>...</td>\n",
              "      <td>0.0</td>\n",
              "      <td>0.0</td>\n",
              "      <td>0.0</td>\n",
              "      <td>0.0</td>\n",
              "      <td>0.0</td>\n",
              "      <td>0.0</td>\n",
              "      <td>0.0</td>\n",
              "      <td>0.0</td>\n",
              "      <td>0.0</td>\n",
              "      <td>0.0</td>\n",
              "    </tr>\n",
              "    <tr>\n",
              "      <th>402</th>\n",
              "      <td>0.0</td>\n",
              "      <td>0.0</td>\n",
              "      <td>0.0</td>\n",
              "      <td>0.0</td>\n",
              "      <td>0.0</td>\n",
              "      <td>0.0</td>\n",
              "      <td>0.0</td>\n",
              "      <td>0.0</td>\n",
              "      <td>0.0</td>\n",
              "      <td>0.0</td>\n",
              "      <td>...</td>\n",
              "      <td>0.0</td>\n",
              "      <td>0.0</td>\n",
              "      <td>0.0</td>\n",
              "      <td>0.0</td>\n",
              "      <td>0.0</td>\n",
              "      <td>0.0</td>\n",
              "      <td>0.0</td>\n",
              "      <td>0.0</td>\n",
              "      <td>0.0</td>\n",
              "      <td>0.0</td>\n",
              "    </tr>\n",
              "    <tr>\n",
              "      <th>424</th>\n",
              "      <td>0.0</td>\n",
              "      <td>0.0</td>\n",
              "      <td>0.0</td>\n",
              "      <td>0.0</td>\n",
              "      <td>0.0</td>\n",
              "      <td>0.0</td>\n",
              "      <td>0.0</td>\n",
              "      <td>0.0</td>\n",
              "      <td>0.0</td>\n",
              "      <td>0.0</td>\n",
              "      <td>...</td>\n",
              "      <td>0.0</td>\n",
              "      <td>0.0</td>\n",
              "      <td>0.0</td>\n",
              "      <td>0.0</td>\n",
              "      <td>0.0</td>\n",
              "      <td>0.0</td>\n",
              "      <td>0.0</td>\n",
              "      <td>0.0</td>\n",
              "      <td>0.0</td>\n",
              "      <td>0.0</td>\n",
              "    </tr>\n",
              "  </tbody>\n",
              "</table>\n",
              "<p>5 rows × 3458 columns</p>\n",
              "</div>"
            ],
            "text/plain": [
              "title   'Salem's Lot (2004)  'burbs, The (1989)  (500) Days of Summer (2009)  \\\n",
              "userId                                                                         \n",
              "43                      0.0                 0.0                          0.0   \n",
              "91                      0.0                 0.0                          3.5   \n",
              "264                     0.0                 0.0                          0.0   \n",
              "402                     0.0                 0.0                          0.0   \n",
              "424                     0.0                 0.0                          0.0   \n",
              "\n",
              "title   ...And Justice for All (1979)  10 (1979)  10 Cloverfield Lane (2016)  \\\n",
              "userId                                                                         \n",
              "43                                0.0        0.0                         0.0   \n",
              "91                                0.0        0.0                         0.0   \n",
              "264                               0.0        0.0                         0.0   \n",
              "402                               0.0        0.0                         0.0   \n",
              "424                               0.0        0.0                         0.0   \n",
              "\n",
              "title   10 Items or Less (2006)  10 Rillington Place (1971)  \\\n",
              "userId                                                        \n",
              "43                          0.0                         0.0   \n",
              "91                          0.0                         0.0   \n",
              "264                         0.0                         0.0   \n",
              "402                         0.0                         0.0   \n",
              "424                         0.0                         0.0   \n",
              "\n",
              "title   10 Things I Hate About You (1999)  \\\n",
              "userId                                      \n",
              "43                                    0.0   \n",
              "91                                    0.0   \n",
              "264                                   0.0   \n",
              "402                                   0.0   \n",
              "424                                   0.0   \n",
              "\n",
              "title   1000 Eyes of Dr. Mabuse, The (Die 1000 Augen des Dr. Mabuse) (1960)  \\\n",
              "userId                                                                        \n",
              "43                                                    0.0                     \n",
              "91                                                    0.0                     \n",
              "264                                                   0.0                     \n",
              "402                                                   0.0                     \n",
              "424                                                   0.0                     \n",
              "\n",
              "title   ...  Zero Dark Thirty (2012)  Zero Theorem, The (2013)  Zodiac (2007)  \\\n",
              "userId  ...                                                                     \n",
              "43      ...                      0.0                       0.0            0.0   \n",
              "91      ...                      0.0                       0.0            0.0   \n",
              "264     ...                      0.0                       0.0            0.0   \n",
              "402     ...                      0.0                       0.0            0.0   \n",
              "424     ...                      0.0                       0.0            0.0   \n",
              "\n",
              "title   Zombieland (2009)  Zoolander (2001)  Zootopia (2016)  [REC] (2007)  \\\n",
              "userId                                                                       \n",
              "43                    0.0               0.0              0.0           0.0   \n",
              "91                    0.0               0.0              0.0           0.0   \n",
              "264                   0.0               0.0              0.0           0.0   \n",
              "402                   0.0               0.0              0.0           0.0   \n",
              "424                   0.0               0.0              0.0           0.0   \n",
              "\n",
              "title   eXistenZ (1999)  xXx (2002)  ¡Three Amigos! (1986)  \n",
              "userId                                                      \n",
              "43                  0.0         0.0                    0.0  \n",
              "91                  0.0         0.0                    0.0  \n",
              "264                 0.0         0.0                    0.0  \n",
              "402                 0.0         0.0                    0.0  \n",
              "424                 0.0         0.0                    0.0  \n",
              "\n",
              "[5 rows x 3458 columns]"
            ]
          },
          "execution_count": 21,
          "metadata": {},
          "output_type": "execute_result"
        }
      ],
      "source": [
        "movieRate.head()"
      ]
    },
    {
      "cell_type": "markdown",
      "metadata": {
        "id": "tqE20EAgyCMk"
      },
      "source": [
        "# 8.Recommendation system"
      ]
    },
    {
      "cell_type": "markdown",
      "metadata": {},
      "source": [
        "Calcular la correlación entre la película de entrada (la película para la cual queremos hacer recomendaciones) y todas las demás películas en la matriz movieRate\n",
        "\n",
        "Calcula la **correlación de Pearson** entre las calificaciones de cada película en movieRate y las calificaciones del usuario especificado por user_rating.\n",
        "La función **corrwith** compara las calificaciones de la película de entrada con las calificaciones de cada otra película en términos de su similitud. Esto puede ayudar a identificar películas que tienen calificaciones similares por parte de los usuarios.\n",
        "\n",
        "\n",
        "La variable min_rating_count en el código que proporcionaste es un umbral utilizado para filtrar las películas recomendadas basándose en el número mínimo de calificaciones que deben tener. Veamos cómo se utiliza en la función"
      ]
    },
    {
      "cell_type": "code",
      "execution_count": 22,
      "metadata": {
        "execution": {
          "iopub.execute_input": "2022-06-07T08:25:34.033969Z",
          "iopub.status.busy": "2022-06-07T08:25:34.033566Z",
          "iopub.status.idle": "2022-06-07T08:25:34.040604Z",
          "shell.execute_reply": "2022-06-07T08:25:34.039765Z",
          "shell.execute_reply.started": "2022-06-07T08:25:34.033935Z"
        },
        "id": "amDQxRFoyCMk",
        "trusted": true
      },
      "outputs": [],
      "source": [
        "def recommendMovies(name , min_rating_count = 50):\n",
        "    user_rating = movieRate[name]\n",
        "    similar_movies = movieRate.corrwith(user_rating)\n",
        "    corr_movies = pd.DataFrame(similar_movies, columns=['Correlation'])\n",
        "    corr_movies.dropna(inplace=True)\n",
        "    #corr_movies.sort_values('Correlation', ascending=False).head(10)\n",
        "    # Joining the rating_number list so that we can filter basis minimum count of ratings to be considered\n",
        "    # for recommending a movie\n",
        "    corr_movies = corr_movies.join(ratings['rating_numbers'], how='left', lsuffix='_left', rsuffix='_right')\n",
        "\n",
        "    final = corr_movies[corr_movies['rating_numbers']>min_rating_count].sort_values('Correlation', ascending=False)\n",
        "    return final"
      ]
    },
    {
      "cell_type": "code",
      "execution_count": 23,
      "metadata": {
        "colab": {
          "base_uri": "https://localhost:8080/",
          "height": 394
        },
        "execution": {
          "iopub.execute_input": "2022-06-07T08:25:37.674694Z",
          "iopub.status.busy": "2022-06-07T08:25:37.674296Z",
          "iopub.status.idle": "2022-06-07T08:25:38.168412Z",
          "shell.execute_reply": "2022-06-07T08:25:38.167386Z",
          "shell.execute_reply.started": "2022-06-07T08:25:37.674662Z"
        },
        "id": "FPREjw6jyCMk",
        "outputId": "340c336b-cbb5-45f9-d486-f9c406e4dceb",
        "trusted": true
      },
      "outputs": [
        {
          "data": {
            "text/html": [
              "<div>\n",
              "<style scoped>\n",
              "    .dataframe tbody tr th:only-of-type {\n",
              "        vertical-align: middle;\n",
              "    }\n",
              "\n",
              "    .dataframe tbody tr th {\n",
              "        vertical-align: top;\n",
              "    }\n",
              "\n",
              "    .dataframe thead th {\n",
              "        text-align: right;\n",
              "    }\n",
              "</style>\n",
              "<table border=\"1\" class=\"dataframe\">\n",
              "  <thead>\n",
              "    <tr style=\"text-align: right;\">\n",
              "      <th></th>\n",
              "      <th>Correlation</th>\n",
              "      <th>rating_numbers</th>\n",
              "    </tr>\n",
              "    <tr>\n",
              "      <th>title</th>\n",
              "      <th></th>\n",
              "      <th></th>\n",
              "    </tr>\n",
              "  </thead>\n",
              "  <tbody>\n",
              "    <tr>\n",
              "      <th>Pulp Fiction (1994)</th>\n",
              "      <td>0.041304</td>\n",
              "      <td>93</td>\n",
              "    </tr>\n",
              "    <tr>\n",
              "      <th>Star Wars: Episode IV - A New Hope (1977)</th>\n",
              "      <td>0.041032</td>\n",
              "      <td>62</td>\n",
              "    </tr>\n",
              "    <tr>\n",
              "      <th>Matrix, The (1999)</th>\n",
              "      <td>0.010067</td>\n",
              "      <td>74</td>\n",
              "    </tr>\n",
              "    <tr>\n",
              "      <th>Inception (2010)</th>\n",
              "      <td>-0.007730</td>\n",
              "      <td>55</td>\n",
              "    </tr>\n",
              "  </tbody>\n",
              "</table>\n",
              "</div>"
            ],
            "text/plain": [
              "                                           Correlation  rating_numbers\n",
              "title                                                                 \n",
              "Pulp Fiction (1994)                           0.041304              93\n",
              "Star Wars: Episode IV - A New Hope (1977)     0.041032              62\n",
              "Matrix, The (1999)                            0.010067              74\n",
              "Inception (2010)                             -0.007730              55"
            ]
          },
          "execution_count": 23,
          "metadata": {},
          "output_type": "execute_result"
        }
      ],
      "source": [
        "recommendations = recommendMovies('Harry Potter and the Goblet of Fire (2005)')\n",
        "recommendations.head(n=10)"
      ]
    },
    {
      "cell_type": "markdown",
      "metadata": {
        "id": "bgHPDP-RyCMl"
      },
      "source": [
        "# Conclusion\n",
        "\n",
        "1. we build a collaborative recommendation system to recommend movies.\n",
        "2. memory based approch is used.\n",
        "\n",
        "**Enfoques colaborativos basados en la memoria**\n",
        "\n",
        "Las principales características de usuario-usuario e ítem-ítem se aproximan a que utilizan solo información de la matriz de interacción usuario-ítem y no asumen ningún modelo para producir nuevas recomendaciones.\n"
      ]
    }
  ],
  "metadata": {
    "accelerator": "GPU",
    "colab": {
      "gpuType": "T4",
      "include_colab_link": true,
      "provenance": []
    },
    "kaggle": {
      "accelerator": "none",
      "dataSources": [
        {
          "datasetId": 1328499,
          "sourceId": 2212151,
          "sourceType": "datasetVersion"
        }
      ],
      "dockerImageVersionId": 30197,
      "isGpuEnabled": false,
      "isInternetEnabled": true,
      "language": "python",
      "sourceType": "notebook"
    },
    "kernelspec": {
      "display_name": "Python 3",
      "name": "python3"
    },
    "language_info": {
      "codemirror_mode": {
        "name": "ipython",
        "version": 3
      },
      "file_extension": ".py",
      "mimetype": "text/x-python",
      "name": "python",
      "nbconvert_exporter": "python",
      "pygments_lexer": "ipython3",
      "version": "3.10.9"
    }
  },
  "nbformat": 4,
  "nbformat_minor": 0
}
