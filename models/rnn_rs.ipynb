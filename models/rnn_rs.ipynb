{
  "cells": [
    {
      "cell_type": "markdown",
      "metadata": {
        "colab_type": "text",
        "id": "view-in-github"
      },
      "source": [
        "<a href=\"https://colab.research.google.com/github/Jaime44/WorkSpace/blob/main/models/rnn_rs.ipynb\" target=\"_parent\"><img src=\"https://colab.research.google.com/assets/colab-badge.svg\" alt=\"Open In Colab\"/></a>"
      ]
    },
    {
      "cell_type": "code",
      "execution_count": 1,
      "metadata": {
        "id": "q9oC_RTSaJYE"
      },
      "outputs": [],
      "source": [
        "import os\n",
        "import sys"
      ]
    },
    {
      "cell_type": "code",
      "execution_count": 2,
      "metadata": {
        "colab": {
          "base_uri": "https://localhost:8080/"
        },
        "id": "juAAHlEpaJYN",
        "outputId": "6c31748b-c211-4b7f-c667-59be8f51fee7"
      },
      "outputs": [
        {
          "name": "stdout",
          "output_type": "stream",
          "text": [
            "El código se está ejecutando en un entorno local.\n"
          ]
        }
      ],
      "source": [
        "# Comprueba si el código se está ejecutando en Google Colab\n",
        "try:\n",
        "    import google.colab\n",
        "    IN_COLAB = True\n",
        "except:\n",
        "    IN_COLAB = False\n",
        "\n",
        "path_absolute = ''\n",
        "if IN_COLAB:\n",
        "    print(\"El código se está ejecutando en Google Colab.\")\n",
        "    from google.colab import drive\n",
        "\n",
        "    drive.mount('/content/drive')\n",
        "    path_absolute = '/content/drive/Othercomputers/Mi_portátil/TFM/WorkSpace/'\n",
        "\n",
        "    # Cambia al directorio de tu carpeta en Google Drive\n",
        "    os.chdir(path_absolute)\n",
        "\n",
        "    # Lista los archivos y carpetas en el directorio actual\n",
        "    contenido_carpeta = os.listdir(path_absolute)\n",
        "    print(\"Contenido de la carpeta en Google Drive:\")\n",
        "    print(contenido_carpeta)\n",
        "else:\n",
        "    print(\"El código se está ejecutando en un entorno local.\")\n",
        "    path_absolute = 'C:/Users/jaime/OneDrive - Universidad de Málaga/Escritorio/UNIR/TFM/WorkSpace/'\n",
        "\n",
        "path_file = 'df_movies_rating_2.csv'\n",
        "\n",
        "sys.path.append(path_absolute)\n"
      ]
    },
    {
      "cell_type": "code",
      "execution_count": 14,
      "metadata": {
        "id": "Jaef6KzRaJYQ"
      },
      "outputs": [],
      "source": [
        "import numpy as np\n",
        "import pandas as pd\n",
        "\n",
        "import Utils.utils as util\n",
        "\n",
        "\n",
        "from tensorflow.keras.optimizers import Adam\n",
        "from sklearn.preprocessing import StandardScaler\n",
        "from sklearn.model_selection import train_test_split\n",
        "from tensorflow.keras.models import Model, Sequential\n",
        "from tensorflow.keras.layers import Input, Embedding, Flatten, Dense, Concatenate\n",
        "\n",
        "# import torch\n",
        "# import torch.nn as nn\n",
        "# import torch.optim as optim\n",
        "# from torch.utils.data import DataLoader, TensorDataset\n"
      ]
    },
    {
      "cell_type": "code",
      "execution_count": 15,
      "metadata": {
        "id": "MYOYZ4YfaJYS"
      },
      "outputs": [],
      "source": [
        "dataFrame = pd.read_csv(path_absolute+path_file, sep=',')\n",
        "data = dataFrame.copy()"
      ]
    },
    {
      "cell_type": "code",
      "execution_count": 16,
      "metadata": {
        "id": "thx5caLUaJYT"
      },
      "outputs": [],
      "source": [
        "if IN_COLAB:\n",
        "    tamano_muestra = data.shape[0]\n",
        "else:\n",
        "    # Especifica el tamaño de la muestra que deseas obtener\n",
        "    tamano_muestra = 500"
      ]
    },
    {
      "cell_type": "code",
      "execution_count": 17,
      "metadata": {
        "colab": {
          "base_uri": "https://localhost:8080/"
        },
        "id": "S9A03Hu-aJYU",
        "outputId": "5dbbb7c5-a393-4e05-90ab-337ccf7129d5"
      },
      "outputs": [
        {
          "data": {
            "text/plain": [
              "500"
            ]
          },
          "execution_count": 17,
          "metadata": {},
          "output_type": "execute_result"
        }
      ],
      "source": [
        "# Obtiene una muestra aleatoria uniforme del DataFrame\n",
        "data = data.sample(n=tamano_muestra, random_state=42)  # random_state para reproducibilidad\n",
        "tamano_muestra = data.shape[0]  # Cambia esto al tamaño de muestra que desees\n",
        "tamano_muestra"
      ]
    },
    {
      "cell_type": "code",
      "execution_count": 18,
      "metadata": {
        "colab": {
          "base_uri": "https://localhost:8080/"
        },
        "id": "jsfUuaGvaJYV",
        "outputId": "ca3e4874-08ce-4cda-da3f-e56080fc498c"
      },
      "outputs": [
        {
          "name": "stdout",
          "output_type": "stream",
          "text": [
            "<class 'pandas.core.frame.DataFrame'>\n",
            "Int64Index: 500 entries, 550126 to 190092\n",
            "Data columns (total 28 columns):\n",
            " #   Column              Non-Null Count  Dtype  \n",
            "---  ------              --------------  -----  \n",
            " 0   userId              500 non-null    int64  \n",
            " 1   movieId             500 non-null    int64  \n",
            " 2   timestamp_scr       500 non-null    int64  \n",
            " 3   tag                 500 non-null    object \n",
            " 4   tag_encoded         500 non-null    int64  \n",
            " 5   timestamp_tags      500 non-null    int64  \n",
            " 6   title               500 non-null    object \n",
            " 7   (no genres listed)  500 non-null    int64  \n",
            " 8   Action              500 non-null    int64  \n",
            " 9   Adventure           500 non-null    int64  \n",
            " 10  Animation           500 non-null    int64  \n",
            " 11  Children            500 non-null    int64  \n",
            " 12  Comedy              500 non-null    int64  \n",
            " 13  Crime               500 non-null    int64  \n",
            " 14  Documentary         500 non-null    int64  \n",
            " 15  Drama               500 non-null    int64  \n",
            " 16  Fantasy             500 non-null    int64  \n",
            " 17  Film-Noir           500 non-null    int64  \n",
            " 18  Horror              500 non-null    int64  \n",
            " 19  IMAX                500 non-null    int64  \n",
            " 20  Musical             500 non-null    int64  \n",
            " 21  Mystery             500 non-null    int64  \n",
            " 22  Romance             500 non-null    int64  \n",
            " 23  Sci-Fi              500 non-null    int64  \n",
            " 24  Thriller            500 non-null    int64  \n",
            " 25  War                 500 non-null    int64  \n",
            " 26  Western             500 non-null    int64  \n",
            " 27  rating              500 non-null    float64\n",
            "dtypes: float64(1), int64(25), object(2)\n",
            "memory usage: 113.3+ KB\n"
          ]
        }
      ],
      "source": [
        "data.info()"
      ]
    },
    {
      "cell_type": "markdown",
      "metadata": {
        "id": "bFjxIpD8aJYX"
      },
      "source": [
        "Quito las calumnas categoricas de título y tag ambas estan represnetadas en las columnas númericas de tag_encode e id movie."
      ]
    },
    {
      "cell_type": "code",
      "execution_count": 19,
      "metadata": {
        "id": "FPbqtIRxaJYb"
      },
      "outputs": [],
      "source": [
        "# util.contar_ocurrencias(data, '(no genres listed)')\n",
        "# util.mostrar_filas_por_valor(data, '(no genres listed)', 1)"
      ]
    },
    {
      "cell_type": "markdown",
      "metadata": {
        "id": "QT9sp4sFaJYc"
      },
      "source": [
        "Total de clases(Puntuaciones) a predecir"
      ]
    },
    {
      "cell_type": "code",
      "execution_count": 20,
      "metadata": {
        "colab": {
          "base_uri": "https://localhost:8080/"
        },
        "id": "XnN3kfsFaJYd",
        "outputId": "d2921495-41ea-443e-d234-42161ea2f9c0"
      },
      "outputs": [
        {
          "name": "stdout",
          "output_type": "stream",
          "text": [
            "Valor: 5.0, Frecuencia: 112\n",
            "Valor: 4.0, Frecuencia: 105\n",
            "Valor: 4.5, Frecuencia: 90\n",
            "Valor: 3.5, Frecuencia: 86\n",
            "Valor: 3.0, Frecuencia: 51\n",
            "Valor: 2.5, Frecuencia: 20\n",
            "Valor: 2.0, Frecuencia: 18\n",
            "Valor: 1.0, Frecuencia: 8\n",
            "Valor: 1.5, Frecuencia: 7\n",
            "Valor: 0.5, Frecuencia: 3\n",
            "Total de valores distintos: 10\n"
          ]
        }
      ],
      "source": [
        "data = util.eliminar_columnas(data, ['tag', 'title', '(no genres listed)'])\n",
        "util.contar_ocurrencias(data, 'rating')"
      ]
    },
    {
      "cell_type": "code",
      "execution_count": 22,
      "metadata": {
        "id": "Ymp_CaEkaJYf"
      },
      "outputs": [],
      "source": [
        "data = util.eliminar_columnas(data, ['timestamp_tags', 'timestamp_scr'])"
      ]
    },
    {
      "cell_type": "code",
      "execution_count": 23,
      "metadata": {
        "colab": {
          "base_uri": "https://localhost:8080/",
          "height": 236
        },
        "id": "ndlDXEC9aJYf",
        "outputId": "9340e2f8-add9-4959-9f8c-0b6dc7bff57d"
      },
      "outputs": [
        {
          "data": {
            "text/html": [
              "<div>\n",
              "<style scoped>\n",
              "    .dataframe tbody tr th:only-of-type {\n",
              "        vertical-align: middle;\n",
              "    }\n",
              "\n",
              "    .dataframe tbody tr th {\n",
              "        vertical-align: top;\n",
              "    }\n",
              "\n",
              "    .dataframe thead th {\n",
              "        text-align: right;\n",
              "    }\n",
              "</style>\n",
              "<table border=\"1\" class=\"dataframe\">\n",
              "  <thead>\n",
              "    <tr style=\"text-align: right;\">\n",
              "      <th></th>\n",
              "      <th>userId</th>\n",
              "      <th>movieId</th>\n",
              "      <th>tag_encoded</th>\n",
              "      <th>Action</th>\n",
              "      <th>Adventure</th>\n",
              "      <th>Animation</th>\n",
              "      <th>Children</th>\n",
              "      <th>Comedy</th>\n",
              "      <th>Crime</th>\n",
              "      <th>Documentary</th>\n",
              "      <th>...</th>\n",
              "      <th>Horror</th>\n",
              "      <th>IMAX</th>\n",
              "      <th>Musical</th>\n",
              "      <th>Mystery</th>\n",
              "      <th>Romance</th>\n",
              "      <th>Sci-Fi</th>\n",
              "      <th>Thriller</th>\n",
              "      <th>War</th>\n",
              "      <th>Western</th>\n",
              "      <th>rating</th>\n",
              "    </tr>\n",
              "  </thead>\n",
              "  <tbody>\n",
              "    <tr>\n",
              "      <th>550126</th>\n",
              "      <td>64333</td>\n",
              "      <td>42197</td>\n",
              "      <td>31405</td>\n",
              "      <td>0</td>\n",
              "      <td>0</td>\n",
              "      <td>0</td>\n",
              "      <td>0</td>\n",
              "      <td>1</td>\n",
              "      <td>1</td>\n",
              "      <td>0</td>\n",
              "      <td>...</td>\n",
              "      <td>0</td>\n",
              "      <td>0</td>\n",
              "      <td>0</td>\n",
              "      <td>0</td>\n",
              "      <td>0</td>\n",
              "      <td>0</td>\n",
              "      <td>0</td>\n",
              "      <td>0</td>\n",
              "      <td>0</td>\n",
              "      <td>1.5</td>\n",
              "    </tr>\n",
              "    <tr>\n",
              "      <th>722840</th>\n",
              "      <td>15078</td>\n",
              "      <td>3993</td>\n",
              "      <td>2699</td>\n",
              "      <td>0</td>\n",
              "      <td>0</td>\n",
              "      <td>0</td>\n",
              "      <td>0</td>\n",
              "      <td>0</td>\n",
              "      <td>0</td>\n",
              "      <td>0</td>\n",
              "      <td>...</td>\n",
              "      <td>0</td>\n",
              "      <td>0</td>\n",
              "      <td>0</td>\n",
              "      <td>0</td>\n",
              "      <td>1</td>\n",
              "      <td>0</td>\n",
              "      <td>0</td>\n",
              "      <td>0</td>\n",
              "      <td>0</td>\n",
              "      <td>5.0</td>\n",
              "    </tr>\n",
              "    <tr>\n",
              "      <th>606031</th>\n",
              "      <td>141263</td>\n",
              "      <td>5459</td>\n",
              "      <td>9448</td>\n",
              "      <td>1</td>\n",
              "      <td>0</td>\n",
              "      <td>0</td>\n",
              "      <td>0</td>\n",
              "      <td>1</td>\n",
              "      <td>0</td>\n",
              "      <td>0</td>\n",
              "      <td>...</td>\n",
              "      <td>0</td>\n",
              "      <td>0</td>\n",
              "      <td>0</td>\n",
              "      <td>0</td>\n",
              "      <td>0</td>\n",
              "      <td>1</td>\n",
              "      <td>0</td>\n",
              "      <td>0</td>\n",
              "      <td>0</td>\n",
              "      <td>1.0</td>\n",
              "    </tr>\n",
              "    <tr>\n",
              "      <th>49993</th>\n",
              "      <td>133400</td>\n",
              "      <td>134130</td>\n",
              "      <td>4293</td>\n",
              "      <td>0</td>\n",
              "      <td>1</td>\n",
              "      <td>0</td>\n",
              "      <td>0</td>\n",
              "      <td>0</td>\n",
              "      <td>0</td>\n",
              "      <td>0</td>\n",
              "      <td>...</td>\n",
              "      <td>0</td>\n",
              "      <td>0</td>\n",
              "      <td>0</td>\n",
              "      <td>0</td>\n",
              "      <td>0</td>\n",
              "      <td>1</td>\n",
              "      <td>0</td>\n",
              "      <td>0</td>\n",
              "      <td>0</td>\n",
              "      <td>5.0</td>\n",
              "    </tr>\n",
              "    <tr>\n",
              "      <th>122599</th>\n",
              "      <td>18057</td>\n",
              "      <td>4226</td>\n",
              "      <td>1582</td>\n",
              "      <td>0</td>\n",
              "      <td>0</td>\n",
              "      <td>0</td>\n",
              "      <td>0</td>\n",
              "      <td>0</td>\n",
              "      <td>0</td>\n",
              "      <td>0</td>\n",
              "      <td>...</td>\n",
              "      <td>0</td>\n",
              "      <td>0</td>\n",
              "      <td>0</td>\n",
              "      <td>1</td>\n",
              "      <td>0</td>\n",
              "      <td>0</td>\n",
              "      <td>1</td>\n",
              "      <td>0</td>\n",
              "      <td>0</td>\n",
              "      <td>5.0</td>\n",
              "    </tr>\n",
              "  </tbody>\n",
              "</table>\n",
              "<p>5 rows × 23 columns</p>\n",
              "</div>"
            ],
            "text/plain": [
              "        userId  movieId  tag_encoded  Action  Adventure  Animation  Children  \\\n",
              "550126   64333    42197        31405       0          0          0         0   \n",
              "722840   15078     3993         2699       0          0          0         0   \n",
              "606031  141263     5459         9448       1          0          0         0   \n",
              "49993   133400   134130         4293       0          1          0         0   \n",
              "122599   18057     4226         1582       0          0          0         0   \n",
              "\n",
              "        Comedy  Crime  Documentary  ...  Horror  IMAX  Musical  Mystery  \\\n",
              "550126       1      1            0  ...       0     0        0        0   \n",
              "722840       0      0            0  ...       0     0        0        0   \n",
              "606031       1      0            0  ...       0     0        0        0   \n",
              "49993        0      0            0  ...       0     0        0        0   \n",
              "122599       0      0            0  ...       0     0        0        1   \n",
              "\n",
              "        Romance  Sci-Fi  Thriller  War  Western  rating  \n",
              "550126        0       0         0    0        0     1.5  \n",
              "722840        1       0         0    0        0     5.0  \n",
              "606031        0       1         0    0        0     1.0  \n",
              "49993         0       1         0    0        0     5.0  \n",
              "122599        0       0         1    0        0     5.0  \n",
              "\n",
              "[5 rows x 23 columns]"
            ]
          },
          "execution_count": 23,
          "metadata": {},
          "output_type": "execute_result"
        }
      ],
      "source": [
        "data.head()"
      ]
    },
    {
      "cell_type": "markdown",
      "metadata": {
        "id": "J5_xjJKlaJYg"
      },
      "source": [
        "# MODELO CON KERAS"
      ]
    },
    {
      "cell_type": "code",
      "execution_count": 24,
      "metadata": {
        "colab": {
          "base_uri": "https://localhost:8080/"
        },
        "id": "t8kSbs2YaJYg",
        "outputId": "b210119f-48ee-440b-de59-722b25bead88"
      },
      "outputs": [
        {
          "name": "stdout",
          "output_type": "stream",
          "text": [
            "Epoch 1/100\n",
            "5/5 [==============================] - 1s 81ms/step - loss: 9.9487 - mean_absolute_error: 2.9720 - val_loss: 8.6792 - val_mean_absolute_error: 2.7853\n",
            "Epoch 2/100\n",
            "5/5 [==============================] - 0s 13ms/step - loss: 7.2885 - mean_absolute_error: 2.4935 - val_loss: 6.1949 - val_mean_absolute_error: 2.3113\n",
            "Epoch 3/100\n",
            "5/5 [==============================] - 0s 12ms/step - loss: 5.0800 - mean_absolute_error: 2.0399 - val_loss: 4.1993 - val_mean_absolute_error: 1.8573\n",
            "Epoch 4/100\n",
            "5/5 [==============================] - 0s 12ms/step - loss: 3.3828 - mean_absolute_error: 1.5945 - val_loss: 2.7926 - val_mean_absolute_error: 1.4541\n",
            "Epoch 5/100\n",
            "5/5 [==============================] - 0s 13ms/step - loss: 2.2741 - mean_absolute_error: 1.2624 - val_loss: 1.9851 - val_mean_absolute_error: 1.1670\n",
            "Epoch 6/100\n",
            "5/5 [==============================] - 0s 13ms/step - loss: 1.7323 - mean_absolute_error: 1.0500 - val_loss: 1.6233 - val_mean_absolute_error: 1.0231\n",
            "Epoch 7/100\n",
            "5/5 [==============================] - 0s 13ms/step - loss: 1.5680 - mean_absolute_error: 0.9762 - val_loss: 1.4738 - val_mean_absolute_error: 0.9470\n",
            "Epoch 8/100\n",
            "5/5 [==============================] - 0s 13ms/step - loss: 1.4841 - mean_absolute_error: 0.9348 - val_loss: 1.3232 - val_mean_absolute_error: 0.8900\n",
            "Epoch 9/100\n",
            "5/5 [==============================] - 0s 13ms/step - loss: 1.3568 - mean_absolute_error: 0.8966 - val_loss: 1.1563 - val_mean_absolute_error: 0.8399\n",
            "Epoch 10/100\n",
            "5/5 [==============================] - 0s 13ms/step - loss: 1.2075 - mean_absolute_error: 0.8473 - val_loss: 1.0300 - val_mean_absolute_error: 0.7965\n",
            "Epoch 11/100\n",
            "5/5 [==============================] - 0s 13ms/step - loss: 1.1018 - mean_absolute_error: 0.8140 - val_loss: 0.9699 - val_mean_absolute_error: 0.7901\n",
            "Epoch 12/100\n",
            "5/5 [==============================] - 0s 13ms/step - loss: 1.0401 - mean_absolute_error: 0.7938 - val_loss: 0.9420 - val_mean_absolute_error: 0.7946\n",
            "Epoch 13/100\n",
            "5/5 [==============================] - 0s 13ms/step - loss: 0.9957 - mean_absolute_error: 0.7832 - val_loss: 0.9070 - val_mean_absolute_error: 0.7866\n",
            "Epoch 14/100\n",
            "5/5 [==============================] - 0s 14ms/step - loss: 0.9602 - mean_absolute_error: 0.7682 - val_loss: 0.8728 - val_mean_absolute_error: 0.7730\n",
            "Epoch 15/100\n",
            "5/5 [==============================] - 0s 13ms/step - loss: 0.9292 - mean_absolute_error: 0.7543 - val_loss: 0.8344 - val_mean_absolute_error: 0.7550\n",
            "Epoch 16/100\n",
            "5/5 [==============================] - 0s 14ms/step - loss: 0.9043 - mean_absolute_error: 0.7418 - val_loss: 0.8050 - val_mean_absolute_error: 0.7412\n",
            "Epoch 17/100\n",
            "5/5 [==============================] - 0s 13ms/step - loss: 0.8862 - mean_absolute_error: 0.7307 - val_loss: 0.7882 - val_mean_absolute_error: 0.7334\n",
            "Epoch 18/100\n",
            "5/5 [==============================] - 0s 13ms/step - loss: 0.8660 - mean_absolute_error: 0.7210 - val_loss: 0.7798 - val_mean_absolute_error: 0.7296\n",
            "Epoch 19/100\n",
            "5/5 [==============================] - 0s 14ms/step - loss: 0.8508 - mean_absolute_error: 0.7136 - val_loss: 0.7712 - val_mean_absolute_error: 0.7256\n",
            "Epoch 20/100\n",
            "5/5 [==============================] - 0s 13ms/step - loss: 0.8366 - mean_absolute_error: 0.7084 - val_loss: 0.7721 - val_mean_absolute_error: 0.7271\n",
            "Epoch 21/100\n",
            "5/5 [==============================] - 0s 14ms/step - loss: 0.8224 - mean_absolute_error: 0.7035 - val_loss: 0.7690 - val_mean_absolute_error: 0.7256\n",
            "Epoch 22/100\n",
            "5/5 [==============================] - 0s 13ms/step - loss: 0.8083 - mean_absolute_error: 0.6973 - val_loss: 0.7618 - val_mean_absolute_error: 0.7201\n",
            "Epoch 23/100\n",
            "5/5 [==============================] - 0s 13ms/step - loss: 0.7953 - mean_absolute_error: 0.6910 - val_loss: 0.7601 - val_mean_absolute_error: 0.7183\n",
            "Epoch 24/100\n",
            "5/5 [==============================] - 0s 13ms/step - loss: 0.7849 - mean_absolute_error: 0.6855 - val_loss: 0.7541 - val_mean_absolute_error: 0.7132\n",
            "Epoch 25/100\n",
            "5/5 [==============================] - 0s 13ms/step - loss: 0.7743 - mean_absolute_error: 0.6806 - val_loss: 0.7586 - val_mean_absolute_error: 0.7152\n",
            "Epoch 26/100\n",
            "5/5 [==============================] - 0s 14ms/step - loss: 0.7621 - mean_absolute_error: 0.6748 - val_loss: 0.7536 - val_mean_absolute_error: 0.7112\n",
            "Epoch 27/100\n",
            "5/5 [==============================] - 0s 14ms/step - loss: 0.7530 - mean_absolute_error: 0.6686 - val_loss: 0.7482 - val_mean_absolute_error: 0.7081\n",
            "Epoch 28/100\n",
            "5/5 [==============================] - 0s 14ms/step - loss: 0.7433 - mean_absolute_error: 0.6634 - val_loss: 0.7480 - val_mean_absolute_error: 0.7074\n",
            "Epoch 29/100\n",
            "5/5 [==============================] - 0s 14ms/step - loss: 0.7340 - mean_absolute_error: 0.6591 - val_loss: 0.7502 - val_mean_absolute_error: 0.7089\n",
            "Epoch 30/100\n",
            "5/5 [==============================] - 0s 14ms/step - loss: 0.7256 - mean_absolute_error: 0.6572 - val_loss: 0.7528 - val_mean_absolute_error: 0.7096\n",
            "Epoch 31/100\n",
            "5/5 [==============================] - 0s 13ms/step - loss: 0.7175 - mean_absolute_error: 0.6536 - val_loss: 0.7482 - val_mean_absolute_error: 0.7059\n",
            "Epoch 32/100\n",
            "5/5 [==============================] - 0s 12ms/step - loss: 0.7096 - mean_absolute_error: 0.6483 - val_loss: 0.7482 - val_mean_absolute_error: 0.7045\n",
            "Epoch 33/100\n",
            "5/5 [==============================] - 0s 13ms/step - loss: 0.7020 - mean_absolute_error: 0.6424 - val_loss: 0.7456 - val_mean_absolute_error: 0.7017\n",
            "Epoch 34/100\n",
            "5/5 [==============================] - 0s 13ms/step - loss: 0.6955 - mean_absolute_error: 0.6378 - val_loss: 0.7463 - val_mean_absolute_error: 0.7021\n",
            "Epoch 35/100\n",
            "5/5 [==============================] - 0s 13ms/step - loss: 0.6883 - mean_absolute_error: 0.6338 - val_loss: 0.7448 - val_mean_absolute_error: 0.7009\n",
            "Epoch 36/100\n",
            "5/5 [==============================] - 0s 13ms/step - loss: 0.6802 - mean_absolute_error: 0.6299 - val_loss: 0.7511 - val_mean_absolute_error: 0.7028\n",
            "Epoch 37/100\n",
            "5/5 [==============================] - 0s 12ms/step - loss: 0.6737 - mean_absolute_error: 0.6277 - val_loss: 0.7551 - val_mean_absolute_error: 0.7043\n",
            "Epoch 38/100\n",
            "5/5 [==============================] - 0s 12ms/step - loss: 0.6689 - mean_absolute_error: 0.6255 - val_loss: 0.7614 - val_mean_absolute_error: 0.7067\n",
            "Epoch 39/100\n",
            "5/5 [==============================] - 0s 12ms/step - loss: 0.6627 - mean_absolute_error: 0.6236 - val_loss: 0.7623 - val_mean_absolute_error: 0.7066\n",
            "Epoch 40/100\n",
            "5/5 [==============================] - 0s 13ms/step - loss: 0.6552 - mean_absolute_error: 0.6183 - val_loss: 0.7623 - val_mean_absolute_error: 0.7063\n",
            "Epoch 41/100\n",
            "5/5 [==============================] - 0s 12ms/step - loss: 0.6511 - mean_absolute_error: 0.6134 - val_loss: 0.7596 - val_mean_absolute_error: 0.7057\n",
            "Epoch 42/100\n",
            "5/5 [==============================] - 0s 12ms/step - loss: 0.6443 - mean_absolute_error: 0.6092 - val_loss: 0.7658 - val_mean_absolute_error: 0.7083\n",
            "Epoch 43/100\n",
            "5/5 [==============================] - 0s 12ms/step - loss: 0.6394 - mean_absolute_error: 0.6075 - val_loss: 0.7650 - val_mean_absolute_error: 0.7083\n",
            "Epoch 44/100\n",
            "5/5 [==============================] - 0s 13ms/step - loss: 0.6343 - mean_absolute_error: 0.6052 - val_loss: 0.7714 - val_mean_absolute_error: 0.7119\n",
            "Epoch 45/100\n",
            "5/5 [==============================] - 0s 12ms/step - loss: 0.6279 - mean_absolute_error: 0.6019 - val_loss: 0.7685 - val_mean_absolute_error: 0.7098\n",
            "Epoch 46/100\n",
            "5/5 [==============================] - 0s 13ms/step - loss: 0.6233 - mean_absolute_error: 0.5979 - val_loss: 0.7683 - val_mean_absolute_error: 0.7098\n",
            "Epoch 47/100\n",
            "5/5 [==============================] - 0s 13ms/step - loss: 0.6188 - mean_absolute_error: 0.5945 - val_loss: 0.7680 - val_mean_absolute_error: 0.7089\n",
            "Epoch 48/100\n",
            "5/5 [==============================] - 0s 13ms/step - loss: 0.6131 - mean_absolute_error: 0.5912 - val_loss: 0.7728 - val_mean_absolute_error: 0.7119\n",
            "Epoch 49/100\n",
            "5/5 [==============================] - 0s 13ms/step - loss: 0.6082 - mean_absolute_error: 0.5889 - val_loss: 0.7788 - val_mean_absolute_error: 0.7147\n",
            "Epoch 50/100\n",
            "5/5 [==============================] - 0s 14ms/step - loss: 0.6039 - mean_absolute_error: 0.5871 - val_loss: 0.7817 - val_mean_absolute_error: 0.7152\n",
            "Epoch 51/100\n",
            "5/5 [==============================] - 0s 13ms/step - loss: 0.5990 - mean_absolute_error: 0.5842 - val_loss: 0.7816 - val_mean_absolute_error: 0.7145\n",
            "Epoch 52/100\n",
            "5/5 [==============================] - 0s 13ms/step - loss: 0.5957 - mean_absolute_error: 0.5803 - val_loss: 0.7768 - val_mean_absolute_error: 0.7107\n",
            "Epoch 53/100\n",
            "5/5 [==============================] - 0s 14ms/step - loss: 0.5904 - mean_absolute_error: 0.5768 - val_loss: 0.7850 - val_mean_absolute_error: 0.7152\n",
            "Epoch 54/100\n",
            "5/5 [==============================] - 0s 13ms/step - loss: 0.5867 - mean_absolute_error: 0.5757 - val_loss: 0.7878 - val_mean_absolute_error: 0.7161\n",
            "Epoch 55/100\n",
            "5/5 [==============================] - 0s 14ms/step - loss: 0.5820 - mean_absolute_error: 0.5731 - val_loss: 0.7881 - val_mean_absolute_error: 0.7155\n",
            "Epoch 56/100\n",
            "5/5 [==============================] - 0s 16ms/step - loss: 0.5832 - mean_absolute_error: 0.5707 - val_loss: 0.7790 - val_mean_absolute_error: 0.7105\n",
            "Epoch 57/100\n",
            "5/5 [==============================] - 0s 13ms/step - loss: 0.5767 - mean_absolute_error: 0.5667 - val_loss: 0.7948 - val_mean_absolute_error: 0.7182\n",
            "Epoch 58/100\n",
            "5/5 [==============================] - 0s 13ms/step - loss: 0.5707 - mean_absolute_error: 0.5666 - val_loss: 0.8004 - val_mean_absolute_error: 0.7203\n",
            "Epoch 59/100\n",
            "5/5 [==============================] - 0s 13ms/step - loss: 0.5667 - mean_absolute_error: 0.5639 - val_loss: 0.7971 - val_mean_absolute_error: 0.7168\n",
            "Epoch 60/100\n",
            "5/5 [==============================] - 0s 14ms/step - loss: 0.5633 - mean_absolute_error: 0.5602 - val_loss: 0.7966 - val_mean_absolute_error: 0.7159\n",
            "Epoch 61/100\n",
            "5/5 [==============================] - 0s 22ms/step - loss: 0.5614 - mean_absolute_error: 0.5575 - val_loss: 0.7969 - val_mean_absolute_error: 0.7161\n",
            "Epoch 62/100\n",
            "5/5 [==============================] - 0s 13ms/step - loss: 0.5579 - mean_absolute_error: 0.5557 - val_loss: 0.8037 - val_mean_absolute_error: 0.7201\n",
            "Epoch 63/100\n",
            "5/5 [==============================] - 0s 13ms/step - loss: 0.5556 - mean_absolute_error: 0.5572 - val_loss: 0.8120 - val_mean_absolute_error: 0.7261\n",
            "Epoch 64/100\n",
            "5/5 [==============================] - 0s 13ms/step - loss: 0.5517 - mean_absolute_error: 0.5530 - val_loss: 0.8080 - val_mean_absolute_error: 0.7215\n",
            "Epoch 65/100\n",
            "5/5 [==============================] - 0s 13ms/step - loss: 0.5470 - mean_absolute_error: 0.5474 - val_loss: 0.8054 - val_mean_absolute_error: 0.7189\n",
            "Epoch 66/100\n",
            "5/5 [==============================] - 0s 13ms/step - loss: 0.5485 - mean_absolute_error: 0.5458 - val_loss: 0.7980 - val_mean_absolute_error: 0.7153\n",
            "Epoch 67/100\n",
            "5/5 [==============================] - 0s 13ms/step - loss: 0.5418 - mean_absolute_error: 0.5423 - val_loss: 0.8092 - val_mean_absolute_error: 0.7207\n",
            "Epoch 68/100\n",
            "5/5 [==============================] - 0s 13ms/step - loss: 0.5387 - mean_absolute_error: 0.5439 - val_loss: 0.8206 - val_mean_absolute_error: 0.7265\n",
            "Epoch 69/100\n",
            "5/5 [==============================] - 0s 13ms/step - loss: 0.5337 - mean_absolute_error: 0.5399 - val_loss: 0.8182 - val_mean_absolute_error: 0.7243\n",
            "Epoch 70/100\n",
            "5/5 [==============================] - 0s 13ms/step - loss: 0.5312 - mean_absolute_error: 0.5373 - val_loss: 0.8207 - val_mean_absolute_error: 0.7245\n",
            "Epoch 71/100\n",
            "5/5 [==============================] - 0s 13ms/step - loss: 0.5286 - mean_absolute_error: 0.5346 - val_loss: 0.8195 - val_mean_absolute_error: 0.7225\n",
            "Epoch 72/100\n",
            "5/5 [==============================] - 0s 13ms/step - loss: 0.5243 - mean_absolute_error: 0.5318 - val_loss: 0.8212 - val_mean_absolute_error: 0.7234\n",
            "Epoch 73/100\n",
            "5/5 [==============================] - 0s 13ms/step - loss: 0.5234 - mean_absolute_error: 0.5328 - val_loss: 0.8267 - val_mean_absolute_error: 0.7269\n",
            "Epoch 74/100\n",
            "5/5 [==============================] - 0s 13ms/step - loss: 0.5196 - mean_absolute_error: 0.5293 - val_loss: 0.8241 - val_mean_absolute_error: 0.7246\n",
            "Epoch 75/100\n",
            "5/5 [==============================] - 0s 13ms/step - loss: 0.5177 - mean_absolute_error: 0.5265 - val_loss: 0.8199 - val_mean_absolute_error: 0.7209\n",
            "Epoch 76/100\n",
            "5/5 [==============================] - 0s 14ms/step - loss: 0.5144 - mean_absolute_error: 0.5242 - val_loss: 0.8309 - val_mean_absolute_error: 0.7266\n",
            "Epoch 77/100\n",
            "5/5 [==============================] - 0s 13ms/step - loss: 0.5103 - mean_absolute_error: 0.5227 - val_loss: 0.8333 - val_mean_absolute_error: 0.7273\n",
            "Epoch 78/100\n",
            "5/5 [==============================] - 0s 14ms/step - loss: 0.5089 - mean_absolute_error: 0.5222 - val_loss: 0.8362 - val_mean_absolute_error: 0.7280\n",
            "Epoch 79/100\n",
            "5/5 [==============================] - 0s 15ms/step - loss: 0.5048 - mean_absolute_error: 0.5184 - val_loss: 0.8328 - val_mean_absolute_error: 0.7251\n",
            "Epoch 80/100\n",
            "5/5 [==============================] - 0s 14ms/step - loss: 0.5031 - mean_absolute_error: 0.5166 - val_loss: 0.8344 - val_mean_absolute_error: 0.7275\n",
            "Epoch 81/100\n",
            "5/5 [==============================] - 0s 14ms/step - loss: 0.4992 - mean_absolute_error: 0.5133 - val_loss: 0.8346 - val_mean_absolute_error: 0.7266\n",
            "Epoch 82/100\n",
            "5/5 [==============================] - 0s 17ms/step - loss: 0.4988 - mean_absolute_error: 0.5119 - val_loss: 0.8388 - val_mean_absolute_error: 0.7261\n",
            "Epoch 83/100\n",
            "5/5 [==============================] - 0s 13ms/step - loss: 0.4962 - mean_absolute_error: 0.5104 - val_loss: 0.8426 - val_mean_absolute_error: 0.7283\n",
            "Epoch 84/100\n",
            "5/5 [==============================] - 0s 13ms/step - loss: 0.4938 - mean_absolute_error: 0.5095 - val_loss: 0.8399 - val_mean_absolute_error: 0.7278\n",
            "Epoch 85/100\n",
            "5/5 [==============================] - 0s 13ms/step - loss: 0.4912 - mean_absolute_error: 0.5068 - val_loss: 0.8454 - val_mean_absolute_error: 0.7308\n",
            "Epoch 86/100\n",
            "5/5 [==============================] - 0s 14ms/step - loss: 0.4895 - mean_absolute_error: 0.5044 - val_loss: 0.8441 - val_mean_absolute_error: 0.7275\n",
            "Epoch 87/100\n",
            "5/5 [==============================] - 0s 13ms/step - loss: 0.4866 - mean_absolute_error: 0.5038 - val_loss: 0.8505 - val_mean_absolute_error: 0.7312\n",
            "Epoch 88/100\n",
            "5/5 [==============================] - 0s 13ms/step - loss: 0.4846 - mean_absolute_error: 0.5012 - val_loss: 0.8507 - val_mean_absolute_error: 0.7289\n",
            "Epoch 89/100\n",
            "5/5 [==============================] - 0s 13ms/step - loss: 0.4834 - mean_absolute_error: 0.4999 - val_loss: 0.8463 - val_mean_absolute_error: 0.7274\n",
            "Epoch 90/100\n",
            "5/5 [==============================] - 0s 14ms/step - loss: 0.4827 - mean_absolute_error: 0.4995 - val_loss: 0.8508 - val_mean_absolute_error: 0.7318\n",
            "Epoch 91/100\n",
            "5/5 [==============================] - 0s 13ms/step - loss: 0.4773 - mean_absolute_error: 0.4961 - val_loss: 0.8594 - val_mean_absolute_error: 0.7337\n",
            "Epoch 92/100\n",
            "5/5 [==============================] - 0s 13ms/step - loss: 0.4744 - mean_absolute_error: 0.4929 - val_loss: 0.8607 - val_mean_absolute_error: 0.7323\n",
            "Epoch 93/100\n",
            "5/5 [==============================] - 0s 13ms/step - loss: 0.4770 - mean_absolute_error: 0.4916 - val_loss: 0.8506 - val_mean_absolute_error: 0.7274\n",
            "Epoch 94/100\n",
            "5/5 [==============================] - 0s 14ms/step - loss: 0.4713 - mean_absolute_error: 0.4903 - val_loss: 0.8595 - val_mean_absolute_error: 0.7311\n",
            "Epoch 95/100\n",
            "5/5 [==============================] - 0s 14ms/step - loss: 0.4682 - mean_absolute_error: 0.4899 - val_loss: 0.8599 - val_mean_absolute_error: 0.7306\n",
            "Epoch 96/100\n",
            "5/5 [==============================] - 0s 14ms/step - loss: 0.4666 - mean_absolute_error: 0.4886 - val_loss: 0.8689 - val_mean_absolute_error: 0.7347\n",
            "Epoch 97/100\n",
            "5/5 [==============================] - 0s 14ms/step - loss: 0.4644 - mean_absolute_error: 0.4857 - val_loss: 0.8684 - val_mean_absolute_error: 0.7355\n",
            "Epoch 98/100\n",
            "5/5 [==============================] - 0s 13ms/step - loss: 0.4621 - mean_absolute_error: 0.4825 - val_loss: 0.8629 - val_mean_absolute_error: 0.7327\n",
            "Epoch 99/100\n",
            "5/5 [==============================] - 0s 13ms/step - loss: 0.4598 - mean_absolute_error: 0.4801 - val_loss: 0.8630 - val_mean_absolute_error: 0.7331\n",
            "Epoch 100/100\n",
            "5/5 [==============================] - 0s 13ms/step - loss: 0.4582 - mean_absolute_error: 0.4789 - val_loss: 0.8716 - val_mean_absolute_error: 0.7364\n",
            "4/4 [==============================] - 0s 3ms/step - loss: 1.1918 - mean_absolute_error: 0.8016\n",
            "Mean Absolute Error on Test Data: 0.8016188144683838\n",
            "4/4 [==============================] - 0s 2ms/step\n"
          ]
        }
      ],
      "source": [
        "# Dividir datos en entrenamiento y prueba\n",
        "train_data, test_data = train_test_split(data, test_size=0.2, random_state=42)\n",
        "\n",
        "# train_data_scaled = train_data[['userId', 'movieId', 'timestamp_scr', 'tag_encoded']]\n",
        "# test_data_scaled = test_data[['userId', 'movieId', 'timestamp_scr', 'tag_encoded']]\n",
        "\n",
        "train_data_scaled = train_data.drop(\"rating\", axis=1)\n",
        "test_data_scaled = test_data.drop(\"rating\", axis=1)\n",
        "num_features = len(train_data.columns) - 1\n",
        "\n",
        "# Normalizar datos\n",
        "scaler = StandardScaler()\n",
        "train_data_scaled = scaler.fit_transform(train_data_scaled)\n",
        "test_data_scaled = scaler.transform(test_data_scaled)\n",
        "\n",
        "# Construir el modelo de recomendación sin escalado\n",
        "model = Sequential()\n",
        "\n",
        "# Capas de entrada para datos numéricos\n",
        "model.add(Dense(128, activation='relu', input_shape=(num_features,)))\n",
        "model.add(Dense(10, activation='relu'))\n",
        "\n",
        "# Capa de salida para predicción de puntuación\n",
        "model.add(Dense(1, activation='linear'))\n",
        "\n",
        "# Compilar el modelo\n",
        "model.compile(optimizer='adam', loss='mean_squared_error', metrics=['mean_absolute_error'])\n",
        "\n",
        "# Entrenar el modelo\n",
        "history = model.fit(train_data_scaled, train_data['rating'], epochs=100, batch_size=64, validation_split=0.2, verbose=1)\n",
        "\n",
        "# Evaluar el modelo en el conjunto de prueba\n",
        "loss, mae = model.evaluate(test_data_scaled, test_data['rating'])\n",
        "print(f'Mean Absolute Error on Test Data: {mae}')\n",
        "\n",
        "# Realizar predicciones\n",
        "predictions = model.predict(test_data_scaled)\n"
      ]
    },
    {
      "cell_type": "code",
      "execution_count": 25,
      "metadata": {
        "colab": {
          "base_uri": "https://localhost:8080/",
          "height": 472
        },
        "id": "M69N0firaJYh",
        "outputId": "52e089d1-df21-44d1-a9a8-bd9ec7e4d94b"
      },
      "outputs": [
        {
          "data": {
            "image/png": "[encoded data removed]",
            "text/plain": [
              "<Figure size 640x480 with 1 Axes>"
            ]
          },
          "metadata": {},
          "output_type": "display_data"
        }
      ],
      "source": [
        "util.plot_loss(history)"
      ]
    },
    {
      "cell_type": "markdown",
      "metadata": {},
      "source": [
        "# MODELO CON KERAS CON PROCENTAJES"
      ]
    },
    {
      "cell_type": "markdown",
      "metadata": {},
      "source": [
        "Cambios clave en este código:\n",
        "\n",
        "- Número de Clases: La capa de salida ahora tiene un número de nodos igual al número de clases únicas en las valoraciones. Esto se determina mediante num_classes.\n",
        "\n",
        "- Activación Softmax: La capa de salida utiliza la función de activación softmax, que asigna una probabilidad a cada clase y garantiza que la suma de las probabilidades sea igual a 1.\n",
        "\n",
        "- Loss Function: El modelo utiliza la pérdida categorical_crossentropy porque estamos tratando con múltiples clases.\n",
        "\n",
        "- One-Hot Encoding: Convertimos las etiquetas de las valoraciones a formato one-hot encoding para adaptarse al formato de salida de la red neuronal.\n",
        "\n",
        "Después de entrenar el modelo, las predicciones (predictions_proba) serán matrices de probabilidad para cada clase. Puedes interpretar la probabilidad más alta como la predicción de la valoración que el modelo considera más probable para cada ejemplo."
      ]
    },
    {
      "cell_type": "code",
      "execution_count": 30,
      "metadata": {},
      "outputs": [
        {
          "name": "stdout",
          "output_type": "stream",
          "text": [
            "Epoch 1/10\n",
            "5/5 [==============================] - 1s 79ms/step - loss: 13160.1436 - accuracy: 0.0469 - val_loss: 10505.0703 - val_accuracy: 0.1000\n",
            "Epoch 2/10\n",
            "5/5 [==============================] - 0s 13ms/step - loss: 8912.7041 - accuracy: 0.1469 - val_loss: 8211.2803 - val_accuracy: 0.1250\n",
            "Epoch 3/10\n",
            "5/5 [==============================] - 0s 13ms/step - loss: 7136.1494 - accuracy: 0.2031 - val_loss: 6029.0742 - val_accuracy: 0.1375\n",
            "Epoch 4/10\n",
            "5/5 [==============================] - 0s 12ms/step - loss: 5218.1519 - accuracy: 0.1406 - val_loss: 4032.7141 - val_accuracy: 0.2125\n",
            "Epoch 5/10\n",
            "5/5 [==============================] - 0s 12ms/step - loss: 3431.9102 - accuracy: 0.2000 - val_loss: 2352.9587 - val_accuracy: 0.1625\n",
            "Epoch 6/10\n",
            "5/5 [==============================] - 0s 13ms/step - loss: 2570.3787 - accuracy: 0.1813 - val_loss: 2201.0327 - val_accuracy: 0.2250\n",
            "Epoch 7/10\n",
            "5/5 [==============================] - 0s 13ms/step - loss: 2350.6414 - accuracy: 0.2156 - val_loss: 1996.4954 - val_accuracy: 0.2625\n",
            "Epoch 8/10\n",
            "5/5 [==============================] - 0s 12ms/step - loss: 1942.4821 - accuracy: 0.1844 - val_loss: 1729.7552 - val_accuracy: 0.2750\n",
            "Epoch 9/10\n",
            "5/5 [==============================] - 0s 13ms/step - loss: 1649.1051 - accuracy: 0.1781 - val_loss: 1517.5349 - val_accuracy: 0.1750\n",
            "Epoch 10/10\n",
            "5/5 [==============================] - 0s 13ms/step - loss: 1355.7346 - accuracy: 0.1688 - val_loss: 1310.7782 - val_accuracy: 0.1875\n",
            "4/4 [==============================] - 0s 2ms/step - loss: 1431.0125 - accuracy: 0.1800\n",
            "Accuracy on Test Data: 0.18000000715255737\n",
            "4/4 [==============================] - 0s 3ms/step\n"
          ]
        },
        {
          "data": {
            "image/png": "[encoded data removed]",
            "text/plain": [
              "<Figure size 640x480 with 1 Axes>"
            ]
          },
          "metadata": {},
          "output_type": "display_data"
        }
      ],
      "source": [
        "# Convertir las etiquetas a formato one-hot encoding\n",
        "y_train_onehot = pd.get_dummies(train_data['rating'])\n",
        "y_test_onehot = pd.get_dummies(test_data['rating'])\n",
        "\n",
        "# Asegurarse de que las columnas en y_train_onehot y y_test_onehot coincidan\n",
        "# Esto es necesario porque puede haber algunas clases ausentes en el conjunto de prueba\n",
        "y_test_onehot = y_test_onehot.reindex(columns=y_train_onehot.columns, fill_value=0)\n",
        "\n",
        "# Construir el modelo de recomendación con predicción de probabilidad\n",
        "model = Sequential()\n",
        "\n",
        "# Capas de entrada para datos numéricos\n",
        "model.add(Dense(64, activation='relu', input_shape=(len(train_data.columns) - 1,)))\n",
        "model.add(Dense(32, activation='relu'))\n",
        "\n",
        "# Capa de salida para predicción de probabilidad con activación softmax\n",
        "num_classes = len(y_train_onehot.columns)\n",
        "model.add(Dense(num_classes, activation='softmax'))\n",
        "\n",
        "# Compilar el modelo\n",
        "model.compile(optimizer='adam', loss='categorical_crossentropy', metrics=['accuracy'])\n",
        "\n",
        "# Entrenar el modelo\n",
        "history_perc = model.fit(train_data.drop('rating', axis=1), y_train_onehot, epochs=10, batch_size=64, validation_split=0.2)\n",
        "\n",
        "# Evaluar el modelo en el conjunto de prueba\n",
        "loss, accuracy = model.evaluate(test_data.drop('rating', axis=1), y_test_onehot)\n",
        "print(f'Accuracy on Test Data: {accuracy}')\n",
        "\n",
        "# Realizar predicciones de probabilidad\n",
        "predictions_proba = model.predict(test_data.drop('rating', axis=1))\n",
        "\n",
        "util.plot_loss(history_perc)"
      ]
    },
    {
      "cell_type": "markdown",
      "metadata": {},
      "source": [
        "    KERAS SIMPLIFICADO"
      ]
    },
    {
      "cell_type": "code",
      "execution_count": null,
      "metadata": {
        "colab": {
          "base_uri": "https://localhost:8080/",
          "height": 390
        },
        "id": "EPWFrraHaJYh",
        "outputId": "ffb4ae22-0704-4009-d957-100c1f3da8b7"
      },
      "outputs": [],
      "source": [
        "# Dividir datos en entrenamiento y prueba\n",
        "train_data, test_data = train_test_split(data, test_size=0.2, random_state=42)\n",
        "\n",
        "# Normalizar datos\n",
        "scaler = StandardScaler()\n",
        "train_data_scaled = scaler.fit_transform(train_data[['userId', 'movieId', 'timestamp_scr', 'tag_encoded']])\n",
        "test_data_scaled = scaler.transform(test_data[['userId', 'movieId', 'timestamp_scr', 'tag_encoded']])\n",
        "\n",
        "# Construir el modelo de recomendación\n",
        "model = Sequential()\n",
        "\n",
        "# Capas de entrada para datos numéricos\n",
        "model.add(Dense(64, activation='relu', input_shape=(train_data_scaled.shape[1],)))\n",
        "model.add(Dense(32, activation='relu'))\n",
        "\n",
        "# Capa de salida para predicción de puntuación\n",
        "model.add(Dense(1, activation='linear'))\n",
        "\n",
        "#--------------------------------------------------------------------------------------------------------------------------------------------------#\n",
        "\n",
        "# Compilar el modelo\n",
        "model.compile(optimizer='adam', loss='mean_squared_error', metrics=['mean_absolute_error'])\n",
        "\n",
        "# Entrenar el modelo\n",
        "model.fit(train_data_scaled, train_data['rating'], epochs=10, batch_size=64, validation_split=0.2)\n",
        "\n",
        "# Evaluar el modelo en el conjunto de prueba\n",
        "loss, mae = model.evaluate(test_data_scaled, test_data['rating'])\n",
        "print(f'Mean Absolute Error on Test Data: {mae}')\n",
        "\n",
        "# Realizar predicciones\n",
        "predictions = model.predict(test_data_scaled)\n"
      ]
    },
    {
      "cell_type": "markdown",
      "metadata": {
        "id": "N2-MyCsaaJYi"
      },
      "source": [
        "# MODELO CON TORCH"
      ]
    },
    {
      "cell_type": "code",
      "execution_count": null,
      "metadata": {
        "id": "VVp68VezaJYi"
      },
      "outputs": [],
      "source": [
        "# # Preprocesamiento de datos\n",
        "# num_movies = data['movieId'].nunique()\n",
        "\n",
        "# # Define el tamaño máximo del índice + 1 (porque los índices comienzan desde 0)\n",
        "# input_dim = max(max(data['userId']), max(data['movieId'])) + 1\n",
        "# num_movies = input_dim\n",
        "\n",
        "# # Crear embeddings para usuarios y películas\n",
        "# user_embedding = nn.Embedding(input_dim, 50)\n",
        "# movie_embedding = nn.Embedding(input_dim, 50)\n",
        "\n",
        "# # Crear conjuntos de entrenamiento y prueba\n",
        "# train, test = train_test_split(data, test_size=0.2, random_state=42)\n",
        "\n",
        "# # Preparar datos para DataLoader\n",
        "# train_users = torch.LongTensor(train['userId'].values)\n",
        "# train_movies = torch.LongTensor(train['movieId'].values)\n",
        "# train_ratings = torch.FloatTensor(train['rating'].values)\n",
        "\n",
        "# test_users = torch.LongTensor(test['userId'].values)\n",
        "# test_movies = torch.LongTensor(test['movieId'].values)\n",
        "# test_ratings = torch.FloatTensor(test['rating'].values)\n",
        "\n",
        "# train_dataset = TensorDataset(train_users, train_movies, train_ratings)\n",
        "# test_dataset = TensorDataset(test_users, test_movies, test_ratings)\n",
        "\n",
        "# # Crear DataLoader\n",
        "# batch_size = 512\n",
        "# train_loader = DataLoader(train_dataset, batch_size=batch_size, shuffle=True)\n",
        "# test_loader = DataLoader(test_dataset, batch_size=batch_size)\n",
        "\n",
        "# # Definir el modelo de recomendación\n",
        "# class Recommender(nn.Module):\n",
        "#     def __init__(self, num_usr, num_movs, embedding_size=50, hidden_size=128):\n",
        "#         super(Recommender, self).__init__()\n",
        "#         self.user_embedding = nn.Embedding(num_usr, embedding_size)\n",
        "#         self.movie_embedding = nn.Embedding(num_movs, embedding_size)\n",
        "#         self.fc1 = nn.Linear(embedding_size * 2, hidden_size)\n",
        "#         self.fc2 = nn.Linear(hidden_size, 1)\n",
        "\n",
        "#     def forward(self, user, movie):\n",
        "#         user_embed = self.user_embedding(user)\n",
        "#         movie_embed = self.movie_embedding(movie)\n",
        "#         x = torch.cat([user_embed, movie_embed], dim=1)\n",
        "#         x = torch.relu(self.fc1(x))\n",
        "#         x = self.fc2(x)\n",
        "#         return x\n",
        "\n",
        "# # Instanciar el modelo, la función de pérdida y el optimizador\n",
        "# model = Recommender(input_dim, num_movies)\n",
        "# criterion = nn.MSELoss()\n",
        "# optimizer = optim.Adam(model.parameters(), lr=0.001)\n",
        "\n",
        "# # Entrenar el modelo\n",
        "# num_epochs = 100\n",
        "\n",
        "# print_interval = int(num_epochs / 10)\n",
        "\n",
        "# for epoch in range(num_epochs):\n",
        "#     model.train()\n",
        "#     train_loss = 0.0\n",
        "#     for user, movie, rating in train_loader:\n",
        "#         optimizer.zero_grad()\n",
        "#         output = model(user, movie).view(-1)\n",
        "#         loss = criterion(output, rating)\n",
        "#         loss.backward()\n",
        "#         optimizer.step()\n",
        "#         train_loss += loss.item() * user.size(0)\n",
        "#     train_loss /= len(train_loader.dataset)\n",
        "#     # Imprimir progreso cada 10% de las épocas\n",
        "#     if (epoch + 1) % print_interval == 0 or epoch == num_epochs - 1:\n",
        "#         print(f'Epoch [{epoch+1}/{num_epochs}], Loss: {train_loss:.4f}')\n",
        "#     # print(f'Epoch [{epoch+1}/{num_epochs}], Loss: {train_loss:.4f}')\n",
        "\n",
        "# # Evaluar el modelo en el conjunto de prueba\n",
        "# model.eval()\n",
        "# test_loss = 0.0\n",
        "# with torch.no_grad():\n",
        "#     for user, movie, rating in test_loader:\n",
        "#         output = model(user, movie).view(-1)\n",
        "#         print(f'REAL RATINFG: {rating} ------------ PREDICT RATING {output}')\n",
        "#         loss = criterion(output, rating)\n",
        "#         test_loss += loss.item() * user.size(0)\n",
        "# test_loss /= len(test_loader.dataset)\n",
        "# print(f'Test Loss: {test_loss:.4f}')\n"
      ]
    },
    {
      "cell_type": "code",
      "execution_count": null,
      "metadata": {
        "id": "pPcWeJbVaJYi"
      },
      "outputs": [],
      "source": [
        "# # Cargar datos (por ejemplo, desde un archivo CSV)\n",
        "# # Suponiendo que tienes un DataFrame llamado 'data' con columnas 'userId', 'movieId' y 'rating'\n",
        "# # ...\n",
        "\n",
        "# # Preprocesamiento de datos\n",
        "# # Define el tamaño máximo del índice + 1 (porque los índices comienzan desde 0)\n",
        "# input_dim = max(max(data['userId']), max(data['movieId'])) + 1\n",
        "\n",
        "# # Define el tamaño de la capa de embeddings (puedes ajustar este valor según sea necesario)\n",
        "# embedding_size = 50\n",
        "\n",
        "# # Crear conjuntos de entrenamiento y prueba\n",
        "# train, test = train_test_split(data, test_size=0.2, random_state=42)\n",
        "\n",
        "# # Definir la arquitectura del modelo de recomendación\n",
        "# user_input = Input(shape=(1,))\n",
        "# movie_input = Input(shape=(1,))\n",
        "\n",
        "# user_embedding = Embedding(input_dim=input_dim, output_dim=embedding_size)(user_input)\n",
        "# movie_embedding = Embedding(input_dim=input_dim, output_dim=embedding_size)(movie_input)\n",
        "\n",
        "# user_flat = Flatten()(user_embedding)\n",
        "# movie_flat = Flatten()(movie_embedding)\n",
        "\n",
        "# concatenated = Concatenate()([user_flat, movie_flat])\n",
        "\n",
        "# dense_1 = Dense(128, activation='relu')(concatenated)\n",
        "# output = Dense(1)(dense_1)\n",
        "\n",
        "# # Crear el modelo\n",
        "# model = Model(inputs=[user_input, movie_input], outputs=output)\n",
        "\n",
        "# # Compilar el modelo\n",
        "# model.compile(loss='mean_squared_error', optimizer=Adam(lr=0.01))\n",
        "\n",
        "# # Entrenar el modelo\n",
        "# model.fit([train['userId'], train['movieId']], train['rating'], batch_size=512, epochs=100, validation_split=0.2, verbose=0)\n",
        "\n",
        "# # Evaluar el modelo en el conjunto de prueba\n",
        "# loss = model.evaluate([test['userId'], test['movieId']], test['rating'])\n",
        "# print(f'Loss en el conjunto de prueba: {loss}')\n"
      ]
    }
  ],
  "metadata": {
    "colab": {
      "include_colab_link": true,
      "provenance": []
    },
    "kernelspec": {
      "display_name": "base",
      "language": "python",
      "name": "python3"
    },
    "language_info": {
      "codemirror_mode": {
        "name": "ipython",
        "version": 3
      },
      "file_extension": ".py",
      "mimetype": "text/x-python",
      "name": "python",
      "nbconvert_exporter": "python",
      "pygments_lexer": "ipython3",
      "version": "3.10.9"
    }
  },
  "nbformat": 4,
  "nbformat_minor": 0
}
