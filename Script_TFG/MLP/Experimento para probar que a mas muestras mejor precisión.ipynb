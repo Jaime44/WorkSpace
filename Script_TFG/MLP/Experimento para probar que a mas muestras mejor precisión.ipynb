{
 "cells": [
  {
   "cell_type": "code",
   "execution_count": null,
   "id": "f697cfeb",
   "metadata": {},
   "outputs": [],
   "source": [
    "experimento = 'Experimento para probar que a mas muestras mejor precisión'"
   ]
  },
  {
   "cell_type": "code",
   "execution_count": null,
   "id": "protective-chase",
   "metadata": {},
   "outputs": [],
   "source": [
    "#Importamos las librerias necesarias\n",
    "import torch\n",
    "import numpy as np\n",
    "import pandas as pd\n",
    "import Modulo_MLP\n",
    "import matplotlib.pyplot as plt\n",
    "from sklearn.metrics import accuracy_score\n",
    "from sklearn.metrics import confusion_matrix\n",
    "from sklearn.metrics import classification_report\n",
    "from sklearn.metrics import plot_confusion_matrix\n",
    "from sklearn.model_selection import train_test_split"
   ]
  },
  {
   "cell_type": "code",
   "execution_count": null,
   "id": "e48c6c5e",
   "metadata": {},
   "outputs": [],
   "source": [
    "def evaluate_aux(model, test_loader):\n",
    "        \"\"\"\n",
    "        Evalua el modelo previamente entrnado\n",
    "        Argumentos de entrada: modelo, conjunto de test\n",
    "        \"\"\"\n",
    "        model.eval()\n",
    "        model.to(device)\n",
    "        acc = []\n",
    "        with torch.no_grad():\n",
    "            for batch in test_loader:\n",
    "                X, y = batch\n",
    "                y_hat = model(X.float())\n",
    "                acc.append((y == torch.argmax(y_hat, axis=1)).sum().item() / len(y))\n",
    "\n",
    "        return np.mean(acc)\n"
   ]
  },
  {
   "cell_type": "code",
   "execution_count": null,
   "id": "domestic-proxy",
   "metadata": {},
   "outputs": [],
   "source": [
    "#device config\n",
    "device = torch.device('cuda' if torch.cuda.is_available() else 'cpu')"
   ]
  },
  {
   "cell_type": "code",
   "execution_count": null,
   "id": "obvious-character",
   "metadata": {},
   "outputs": [],
   "source": [
    "#Cargamos el data set\n",
    "data = pd.read_csv('C:/Users/jaime/OneDrive - Universidad de Málaga/Escritorio/Jaime/TFG/HuGaDB-master/HuGaDB_v2_Digest/DataFrameFinal.csv')\n",
    "\n",
    "#Elimino las filas con algún valor de columna vacio \n",
    "data = data.dropna()"
   ]
  },
  {
   "cell_type": "code",
   "execution_count": null,
   "id": "6c1022ad",
   "metadata": {},
   "outputs": [],
   "source": [
    "print(f'\\033[5;35m EXPERIMENTO --> {experimento} \\033[0;m')"
   ]
  },
  {
   "cell_type": "code",
   "execution_count": null,
   "id": "religious-ivory",
   "metadata": {},
   "outputs": [],
   "source": [
    "#hyper parameters\n",
    "    #Numero de muestras del todo el dataset, numero de entradas de la red, numero de clases a clasificar, \n",
    "    # numero de neuronas en la capa oculta, numero de epocas, numero de lotes, tasa de aprendizaje, k del K-Fold\n",
    "\n",
    "# nSamples = 5000\n",
    "\n",
    "input_size = 38\n",
    "num_classes = 12\n",
    "\n",
    "hidden_size = 100\n",
    "num_epochs = 500\n",
    "batch_size = 256\n",
    "learning_rate = 0.001\n",
    "\n",
    "num_splits = 10\n",
    "\n",
    "nTest = 0.2\n",
    "\n",
    "class_names = ['Walking', 'Running', 'Going up', 'Going down', 'Sitting', 'Sitting down', 'Standing up', 'Standing', \n",
    "                'Up by elevator',  'Down by elevator'] "
   ]
  },
  {
   "cell_type": "code",
   "execution_count": null,
   "id": "internal-rebecca",
   "metadata": {},
   "outputs": [],
   "source": [
    "# Obtengo un subconjunto del data set original \n",
    "# TODO Conocer la distribución de cada clase \n",
    "df = data\n",
    "df = df[0:nSamples]"
   ]
  },
  {
   "cell_type": "code",
   "execution_count": null,
   "id": "revised-charter",
   "metadata": {},
   "outputs": [],
   "source": [
    "# df = df[(df.act == 1) | (df.act == 2) | (df.act == 3) | (df.act == 4) | (df.act == 5) | (df.act == 6) | (df.act == 7) \n",
    "#         | (df.act == 8) | (df.act == 10) | (df.act == 11)]\n",
    "# # Elimino las muesta correpondientes a las actividades subir y bajar ascensor(10, 11)\n",
    "\n",
    "# df = df[(df.act == 1) | (df.act == 2) | (df.act == 3) | (df.act == 4) | (df.act == 5) | (df.act == 6) | (df.act == 7) \n",
    "#         | (df.act == 8) | (df.act == 9) | (df.act == 12)]\n",
    "\n",
    "# df = df[(df.act == 8) | (df.act == 10) | (df.act == 11)]"
   ]
  },
  {
   "cell_type": "code",
   "execution_count": null,
   "id": "classical-dietary",
   "metadata": {},
   "outputs": [],
   "source": [
    "#Divido el conjunto de muestras en variable clasificatoria(y) y las demas(X)\n",
    "\n",
    "X = df.drop(['act'], axis = 'columns')\n",
    "# X.head()\n",
    "\n",
    "y = df.act\n",
    "# y.head()"
   ]
  },
  {
   "cell_type": "code",
   "execution_count": null,
   "id": "77b510ee",
   "metadata": {},
   "outputs": [],
   "source": [
    "x_values = ['Walking', 'Running', 'Going up', 'Going down', 'Sitting', 'Sitting down', 'Standing up', 'Standing', \n",
    "               'Bicycling', 'Up by elevator',  'Down by elevator',  'Sitting in car']\n",
    "# x_values = ['Walking', 'Running', 'Going up', 'Going down', 'Sitting', 'Sitting down', 'Standing up', 'Standing', \n",
    "#             'Up by elevator',  'Down by elevator']\n",
    "y_values = []\n",
    "y_values.append((df[(df.act == 1)]).shape[0])\n",
    "y_values.append((df[(df.act == 2)]).shape[0])\n",
    "y_values.append((df[(df.act == 3)]).shape[0])\n",
    "y_values.append((df[(df.act == 4)]).shape[0])\n",
    "y_values.append((df[(df.act == 5)]).shape[0])\n",
    "y_values.append((df[(df.act == 6)]).shape[0])\n",
    "y_values.append((df[(df.act == 7)]).shape[0])\n",
    "y_values.append((df[(df.act == 8)]).shape[0])\n",
    "y_values.append((df[(df.act == 9)]).shape[0])\n",
    "y_values.append((df[(df.act == 10)]).shape[0])\n",
    "y_values.append((df[(df.act == 11)]).shape[0])\n",
    "y_values.append((df[(df.act == 12)]).shape[0])\n",
    "print(f'num of samples: {sum(y_values)}')\n",
    "print(y_values)\n",
    "plt.figure(figsize=(20,10))\n",
    "plt.bar(x_values, y_values, width=0.8)            "
   ]
  },
  {
   "cell_type": "code",
   "execution_count": null,
   "id": "ef631304",
   "metadata": {},
   "outputs": [],
   "source": [
    "# # Porcentaje de cada clase en un conjunto de datos\n",
    "# s = sum(y_values)\n",
    "# w = 0\n",
    "# for x in y_values:\n",
    "#     y = x * 100\n",
    "#     z = y / s\n",
    "#     w = w + z\n",
    "#     print(f'La muestra es {x} y su porcentaje es {z}')\n",
    "# print(f'Total: {w}')"
   ]
  },
  {
   "cell_type": "code",
   "execution_count": null,
   "id": "substantial-academy",
   "metadata": {},
   "outputs": [],
   "source": [
    "#Obtengo los valores de los conjuntos anteriores\n",
    "X_val = X.values\n",
    "y_val = y.values"
   ]
  },
  {
   "cell_type": "code",
   "execution_count": null,
   "id": "raised-economics",
   "metadata": {},
   "outputs": [],
   "source": [
    "X_train, X_test, y_train, y_test = train_test_split(X_val,y_val,test_size=nTest, random_state=0)"
   ]
  },
  {
   "cell_type": "code",
   "execution_count": null,
   "id": "efcdd999",
   "metadata": {},
   "outputs": [],
   "source": [
    "# modelo_pre_train = torch.jit.load('modelo_final_2021-06-05_0.8053_Test.zip')\n",
    "# evaluate_aux(modelo_pre_train, test_loader)\n",
    "modelo_pre_train = None"
   ]
  },
  {
   "cell_type": "code",
   "execution_count": null,
   "id": "063a8e03",
   "metadata": {
    "scrolled": false
   },
   "outputs": [],
   "source": [
    "for nSamples in range(5000, 95000, 10000):\n",
    "    print(f'\\033[1;36m============ Launch with {nSamples} Samples, {num_epochs} Epochs, {batch_size} Batch, {num_splits} Splits, {learning_rate} lr, {hidden_size} Hidden neurons ============\\033[0;m')\n",
    "    #  Llamo al metodo que implementa el K-fold\n",
    "    time_mean, modelo_trained, loss_test_list, acc_test= Modulo_MLP.CV_Kfold(device, num_classes, input_size, X_train, \n",
    "                                                                   y_train,hidden_size,num_splits,batch_size,num_epochs,\n",
    "                                                                   learning_rate, (X_test, y_test), modelo_pre_train)"
   ]
  },
  {
   "cell_type": "code",
   "execution_count": null,
   "id": "d8a9cfaa",
   "metadata": {},
   "outputs": [],
   "source": [
    "# # Muestro el tiempo medio del entrenamiento de mi red neuronal \n",
    "# if(time_mean> 3600):\n",
    "#     print(f'\\nTime: {int(time_mean/3600)}h {int((time_mean%3600)/60)}m {round((time_mean%3600)%60)}s')\n",
    "# elif(time_mean> 60):\n",
    "#     print(f'\\nTime: {int(time_mean /60)}m {time_mean%60}s')\n",
    "# else:\n",
    "#     print(f'\\nTime: {time_mean}')\n"
   ]
  },
  {
   "cell_type": "code",
   "execution_count": null,
   "id": "854bc2da",
   "metadata": {},
   "outputs": [],
   "source": [
    "# Calacular el accuracy de test con un conjunto nunca antes visto \n",
    "d = data[800000:900000]\n",
    "\n",
    "# d = d[(d.act == 1) | (d.act == 2) | (d.act == 3) | (d.act == 4) | (d.act == 5) | (d.act == 6) | (d.act == 7) \n",
    "#         | (d.act == 8) | (d.act == 9) | (d.act == 12)]\n",
    "\n",
    "X_t = d.drop(['act'], axis = 'columns')\n",
    "y_t = d.act\n",
    "\n",
    "Xt_tensor = torch.tensor(X_t.values).cuda()\n",
    "\n",
    "yt_tensor = torch.tensor(y_t.values).cuda()\n",
    "\n",
    "testset = torch.utils.data.TensorDataset(Xt_tensor,  yt_tensor)\n",
    "test_loader = torch.utils.data.DataLoader(testset, batch_size = batch_size, shuffle=False)\n",
    "\n",
    "accuracy_test = Modulo_MLP.evaluate(modelo_trained.to(device),test_loader)\n",
    "print(f'Accuracy de test {accuracy_test}')\n",
    "\n",
    "\n",
    "# #Guardo el modelo con el accuracy de tes\n",
    "# # Scripting load\n",
    "# acc_label = evaluate_aux(modelo_trained.to(device), test_loader)\n",
    "# scripted_model_final = torch.jit.script(modelo_trained.cpu())\n",
    "# # Scripting save\n",
    "# from datetime import datetime\n",
    "# now = datetime.now()\n",
    "# scripted_model_final.save('modelo_final_'+str(now.date())+'_'+str(round(acc_label, 4))+'_Test'+'.zip')"
   ]
  },
  {
   "cell_type": "code",
   "execution_count": null,
   "id": "aef924b5",
   "metadata": {},
   "outputs": [],
   "source": [
    "#Libera toda la memoria caché no utilizada de PyTorch\n",
    "torch.cuda.empty_cache()"
   ]
  }
 ],
 "metadata": {
  "kernelspec": {
   "display_name": "Python 3",
   "language": "python",
   "name": "python3"
  },
  "language_info": {
   "codemirror_mode": {
    "name": "ipython",
    "version": 3
   },
   "file_extension": ".py",
   "mimetype": "text/x-python",
   "name": "python",
   "nbconvert_exporter": "python",
   "pygments_lexer": "ipython3",
   "version": "3.8.5"
  }
 },
 "nbformat": 4,
 "nbformat_minor": 5
}
