{
 "cells": [
  {
   "cell_type": "code",
   "execution_count": null,
   "id": "bce88897",
   "metadata": {},
   "outputs": [],
   "source": [
    "# #Metodo para probar todas las posibles combinaciones de algunos hyperparametras dentro de un rango\n",
    "# for nn in range (100, 200+1, 100):\n",
    "#     for lr in learning_rate:\n",
    "#         for batch in [128, 256]:\n",
    "\n",
    "#             X = df.drop(['act'], axis = 'columns')\n",
    "#             y = df.act\n",
    "\n",
    "#             X_val = X.values\n",
    "#             y_val = y.values\n",
    "\n",
    "#             X_train, X_test, y_train, y_test = train_test_split(X_val,y_val,test_size=nTest, random_state=0)\n",
    "            \n",
    "#             print('\\033[5;34m'+'Número de muestras:',nSamples ,'// Número de neuronas:', nn, '// Learning rate:', lr,'// Lotes:',batch, '// Epoca:',num_epochs,'\\033[0;m')\n",
    "            \n",
    "#             #  Llamo al metodo que implementa el K-fold\n",
    "#             time_mean,modelo = Modulo_MLP.CV_Kfold(device, num_classes,input_size,X_train,y_train,nn,num_splits,batch,\n",
    "#                                                    num_epochs,lr,(X_test, y_test))\n",
    "\n",
    "#             if(time_mean> 3600):\n",
    "#                 print('\\n Time in horas:', (time_mean/3600))\n",
    "#             elif(time_mean> 60):\n",
    "#                 print('\\n Time:', int(time_mean /60),'m',(time_mean%60),'s')\n",
    "#             else:\n",
    "#                 print(\"\\n Time in seconds:\",time_mean)     "
   ]
  }
 ],
 "metadata": {
  "kernelspec": {
   "display_name": "Python 3",
   "language": "python",
   "name": "python3"
  },
  "language_info": {
   "codemirror_mode": {
    "name": "ipython",
    "version": 3
   },
   "file_extension": ".py",
   "mimetype": "text/x-python",
   "name": "python",
   "nbconvert_exporter": "python",
   "pygments_lexer": "ipython3",
   "version": "3.8.5"
  }
 },
 "nbformat": 4,
 "nbformat_minor": 5
}
