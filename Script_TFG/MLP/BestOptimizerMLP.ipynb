{
 "cells": [
  {
   "cell_type": "code",
   "execution_count": null,
   "id": "ee3528ed",
   "metadata": {},
   "outputs": [],
   "source": [
    "# optimizers = ['SGD', 'Adagrad','RMSprop', 'Adadelta','Adam', 'AdamW', 'Adamax','Rprop']\n",
    "# ########### Script para el experimento de buscar el mejor optimizador ############\n",
    "# print(f'\\033[1;36m######### Launch with {nSamples} Samples, {num_epochs} Epochs, {batch_size} \\\n",
    "#       Batch, {num_splits} Splits, {num_classes} Class, {hidden_size} Hidden neurons ######### \\033[0;m')\n",
    "# for opt in optimizers:\n",
    "#     print(\"\\n################################# \"+opt+' #################################')\n",
    "#     time_mean, modelo_trained, loss_test_list = Modulo_MLP.CV_Kfold(device, num_classes, input_size, X_train,\n",
    "#                                                                     y_train,hidden_size,num_splits,batch_size,num_epochs,\n",
    "#                                                                     learning_rate, (X_test, y_test), modelo_pre_train,opt)\n",
    "     \n",
    "#     # Muestro el tiempo medio del entrenamiento de mi red neuronal \n",
    "#     if(time_mean> 3600):\n",
    "#         print(f'\\nTime: {int(time_mean/3600)}h {int((time_mean%3600)/60)}m {round((time_mean%3600)%60)}s')\n",
    "#     elif(time_mean> 60):\n",
    "#         print(f'\\nTime: {int(time_mean /60)}m {time_mean%60}s')\n",
    "#     else:\n",
    "#         print(f'\\nTime: {time_mean}')\n",
    "    \n",
    "#     d = data[nSamples:50000]\n",
    "\n",
    "#     X_t = d.drop(['act'], axis = 'columns')\n",
    "#     y_t = d.act\n",
    "\n",
    "#     Xt_tensor = torch.tensor(X_t.values).cuda()\n",
    "\n",
    "#     yt_tensor = torch.tensor(y_t.values).cuda()\n",
    "\n",
    "#     testset = torch.utils.data.TensorDataset(Xt_tensor,  yt_tensor)\n",
    "#     test_loader = torch.utils.data.DataLoader(testset, batch_size = batch_size, shuffle=False)\n",
    "\n",
    "#     accuracy_test = modelo.evaluate(test_loader)\n",
    "#     print(f'Accuracy de test {accuracy_test}')\n",
    "#     print(\"####################################################################\")"
   ]
  },
  {
   "cell_type": "code",
   "execution_count": null,
   "id": "e503c89e",
   "metadata": {},
   "outputs": [],
   "source": [
    "# optimizer = torch.optim\n",
    "#         if opt == 'SGD':\n",
    "#            optimizer = torch.optim.SGD(self.parameters(), lr=0.02)\n",
    "\n",
    "#         elif opt == 'Adagrad':\n",
    "#            optimizer = torch.optim.Adagrad(self.parameters())\n",
    "\n",
    "#         elif opt == 'RMSprop':\n",
    "#             optimizer = torch.optim.RMSprop(self.parameters())\n",
    "\n",
    "#         elif opt == 'Adadelta':\n",
    "#             optimizer = torch.optim.Adadelta(self.parameters())\n",
    "\n",
    "#         elif opt == 'Adam':\n",
    "#             optimizer = torch.optim.Adam(self.parameters())\n",
    "\n",
    "#         elif opt == 'AdamW':\n",
    "#             optimizer = torch.optim.AdamW(self.parameters())\n",
    "\n",
    "#         elif opt == 'Adamax':\n",
    "#             optimizer = torch.optim.Adamax(self.parameters())\n",
    "\n",
    "#         elif opt == 'Rprop':\n",
    "#             optimizer = torch.optim.Rprop(self.parameters())"
   ]
  }
 ],
 "metadata": {
  "kernelspec": {
   "display_name": "Python 3",
   "language": "python",
   "name": "python3"
  },
  "language_info": {
   "codemirror_mode": {
    "name": "ipython",
    "version": 3
   },
   "file_extension": ".py",
   "mimetype": "text/x-python",
   "name": "python",
   "nbconvert_exporter": "python",
   "pygments_lexer": "ipython3",
   "version": "3.8.5"
  }
 },
 "nbformat": 4,
 "nbformat_minor": 5
}
