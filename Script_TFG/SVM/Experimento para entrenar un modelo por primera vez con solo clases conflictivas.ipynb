{
 "cells": [
  {
   "cell_type": "code",
   "execution_count": 1,
   "id": "0a604c3e",
   "metadata": {},
   "outputs": [],
   "source": [
    "experimento = 'Experimento para entrenar un modelo por primera vez con solo clases conflictivas\\n'"
   ]
  },
  {
   "cell_type": "code",
   "execution_count": 2,
   "id": "independent-limit",
   "metadata": {},
   "outputs": [],
   "source": [
    "#Importamos las librerias necesarias\n",
    "import numpy as np\n",
    "import pandas as pd \n",
    "import matplotlib.pyplot as plt\n",
    "import joblib\n",
    "\n",
    "import Modulo_SVM\n",
    "\n",
    "from sklearn.svm import SVC\n",
    "from sklearn.preprocessing import scale\n",
    "from sklearn.model_selection import GridSearchCV\n",
    "from sklearn.model_selection import train_test_split"
   ]
  },
  {
   "cell_type": "code",
   "execution_count": 3,
   "id": "adaptive-treasury",
   "metadata": {},
   "outputs": [],
   "source": [
    "#Cargamos el data set\n",
    "data = pd.read_csv('C:/Users/jaime/OneDrive - Universidad de Málaga/Escritorio/Jaime/TFG/HuGaDB-master/HuGaDB_v2_Digest/DataFrameFinal.csv')\n",
    "#Elimino las filas con algún valor de columna vacio \n",
    "data = data.dropna()"
   ]
  },
  {
   "cell_type": "code",
   "execution_count": 4,
   "id": "ff97e0b1",
   "metadata": {},
   "outputs": [
    {
     "name": "stdout",
     "output_type": "stream",
     "text": [
      "\u001b[5;35m EXPERIMENTO --> Experimento para entrenar un modelo por primera vez con solo clases conflictivas\n",
      " \u001b[0;m\n"
     ]
    }
   ],
   "source": [
    "print(f'\\033[5;35m EXPERIMENTO --> {experimento} \\033[0;m')"
   ]
  },
  {
   "cell_type": "code",
   "execution_count": 5,
   "id": "tired-reason",
   "metadata": {},
   "outputs": [],
   "source": [
    "# Hyperparametros\n",
    "nTest = 0.2\n",
    "\n",
    "samples = 75000\n",
    "\n",
    "nTrain = 1-nTest\n",
    "nSamples =  round(samples / nTrain)\n",
    "num_splits = 10\n",
    "kernels = ['poly','rbf', 'linear', 'sigmoide']\n",
    "\n",
    "nSamples_more = 75000\n",
    "class_names = ['Standing', 'Up by elevator',  'Down by elevator'] \n",
    "labels = [8,10,11]"
   ]
  },
  {
   "cell_type": "code",
   "execution_count": 6,
   "id": "settled-medicaid",
   "metadata": {},
   "outputs": [],
   "source": [
    "df = data\n",
    "# samples = df.shape[0]\n",
    "df = df[:nSamples]\n",
    "# df = df[nSamples:(nSamples+nSamples_more)]"
   ]
  },
  {
   "cell_type": "code",
   "execution_count": 7,
   "id": "further-flash",
   "metadata": {},
   "outputs": [],
   "source": [
    "# Elimino las clases de las cuales no tengo muestras\n",
    "# df = df[(df.act == 1) | (df.act == 2) | (df.act == 3) | (df.act == 4) | (df.act == 5) | (df.act == 6) | (df.act == 7) \n",
    "#         | (df.act == 8) | (df.act == 9) | (df.act == 12)]\n",
    "df = df[(df.act == 8) | (df.act == 10) | (df.act == 11)]"
   ]
  },
  {
   "cell_type": "code",
   "execution_count": 8,
   "id": "involved-poultry",
   "metadata": {},
   "outputs": [],
   "source": [
    "X = df.drop(['act'], axis = 'columns')\n",
    "y = df.act"
   ]
  },
  {
   "cell_type": "code",
   "execution_count": 9,
   "id": "c197bd9d",
   "metadata": {},
   "outputs": [
    {
     "name": "stdout",
     "output_type": "stream",
     "text": [
      "num of samples: 31368\n",
      "[18288, 7399, 5681]\n"
     ]
    },
    {
     "data": {
      "text/plain": [
       "<BarContainer object of 3 artists>"
      ]
     },
     "execution_count": 9,
     "metadata": {},
     "output_type": "execute_result"
    },
    {
     "data": {
      "image/png": "[encoded data removed]",
      "text/plain": [
       "<Figure size 720x576 with 1 Axes>"
      ]
     },
     "metadata": {
      "needs_background": "light"
     },
     "output_type": "display_data"
    }
   ],
   "source": [
    "x_values = class_names\n",
    "# x_values = ['Walking', 'Running', 'Going up', 'Going down', 'Sitting', 'Sitting down', 'Standing up', 'Standing', \n",
    "#             'Up by elevator',  'Down by elevator']\n",
    "y_values = []\n",
    "\n",
    "y_values.append((df[(df.act == 8)]).shape[0])\n",
    "y_values.append((df[(df.act == 10)]).shape[0])\n",
    "y_values.append((df[(df.act == 11)]).shape[0])\n",
    "print(f'num of samples: {sum(y_values)}')\n",
    "print(y_values)\n",
    "plt.figure(figsize=(10,8))\n",
    "plt.bar(x_values, y_values, width=0.8)           "
   ]
  },
  {
   "cell_type": "code",
   "execution_count": 10,
   "id": "9bb95179",
   "metadata": {},
   "outputs": [],
   "source": [
    "X_train, X_test, y_train, y_test = train_test_split(X, y, test_size=nTest, random_state=42)"
   ]
  },
  {
   "cell_type": "code",
   "execution_count": 12,
   "id": "upset-storage",
   "metadata": {},
   "outputs": [],
   "source": [
    "# # Modelo que entrenaremos \n",
    "# # model = SVC(C=0.5,kernel = 'poly', degree=3, gamma='scale', coef0= 4, decision_function_shape='ovo'\n",
    "# #             ,shrinking=True, probability=True, verbose = True, random_state=42, cache_size = 600)\n",
    "# # model = SVC(kernel = 'rbf', decision_function_shape='ovo')\n",
    "modelo = SVC(kernel = 'rbf', C= 100, gamma= 1, decision_function_shape='ovo')\n",
    "model = modelo"
   ]
  },
  {
   "cell_type": "code",
   "execution_count": 13,
   "id": "e651eaf7",
   "metadata": {},
   "outputs": [],
   "source": [
    "# # load the model from disk\n",
    "# filename = 'modelo_final_2021-09-04_0.8077_Train_[25000-100000].sav'\n",
    "# loaded_model = joblib.load(filename)\n",
    "# result = loaded_model.score(X_test, y_test)\n",
    "# print(result)\n",
    "# model = loaded_model"
   ]
  },
  {
   "cell_type": "code",
   "execution_count": 14,
   "id": "3d4a0ec5",
   "metadata": {},
   "outputs": [],
   "source": [
    "model_name = f'[{0}-{samples}]'\n",
    "# model_name = f'[{samples}-{nSamples_more + samples}]'"
   ]
  },
  {
   "cell_type": "code",
   "execution_count": 15,
   "id": "633e109d",
   "metadata": {
    "scrolled": true
   },
   "outputs": [
    {
     "name": "stdout",
     "output_type": "stream",
     "text": [
      "\u001b[5;34mNúmero de muestras: 75000 // kernel: fbf\u001b[0;m\n",
      "Accuracy test en split 1 --> 0.5924302788844622\n",
      "Accuracy test en split 2 --> 0.5892430278884462\n",
      "Accuracy test en split 3 --> 0.5900398406374502\n",
      "Accuracy test en split 4 --> 0.5768924302788845\n",
      "Accuracy test en split 5 --> 0.5906735751295337\n",
      "Accuracy test en split 6 --> 0.5950577919489837\n",
      "Accuracy test en split 7 --> 0.5922678357911518\n",
      "Accuracy test en split 8 --> 0.5946592267835791\n",
      "Accuracy test en split 9 --> 0.5986448784376246\n",
      "Accuracy test en split 10 --> 0.5978477481068155\n",
      "Time: 7m 8.1875s\n"
     ]
    },
    {
     "data": {
      "image/png": "[encoded data removed]",
      "text/plain": [
       "<Figure size 1440x720 with 1 Axes>"
      ]
     },
     "metadata": {
      "needs_background": "light"
     },
     "output_type": "display_data"
    },
    {
     "name": "stdout",
     "output_type": "stream",
     "text": [
      "\u001b[5;32mAccuracy medio: 0.5917756633886931 \n",
      "\u001b[0;m\n"
     ]
    }
   ],
   "source": [
    "#Pruebas sin bucle\n",
    "print('\\033[5;34m'+'Número de muestras:', samples, '// kernel: fbf'+'\\033[0;m')\n",
    "list_acc, time, best_model = Modulo_SVM.modl(model, X_train, y_train, num_splits, model_name, class_names)\n",
    "mean_acc = np.mean(list_acc) \n",
    "print('\\033[5;32m'+'Accuracy medio:', mean_acc, '\\n'+'\\033[0;m')"
   ]
  }
 ],
 "metadata": {
  "kernelspec": {
   "display_name": "Python 3",
   "language": "python",
   "name": "python3"
  },
  "language_info": {
   "codemirror_mode": {
    "name": "ipython",
    "version": 3
   },
   "file_extension": ".py",
   "mimetype": "text/x-python",
   "name": "python",
   "nbconvert_exporter": "python",
   "pygments_lexer": "ipython3",
   "version": "3.8.5"
  }
 },
 "nbformat": 4,
 "nbformat_minor": 5
}
