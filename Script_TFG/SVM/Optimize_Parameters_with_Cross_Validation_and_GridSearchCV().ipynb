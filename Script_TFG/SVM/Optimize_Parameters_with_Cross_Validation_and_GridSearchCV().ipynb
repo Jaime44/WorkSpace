{
 "cells": [
  {
   "cell_type": "code",
   "execution_count": null,
   "id": "baba4def",
   "metadata": {},
   "outputs": [],
   "source": [
    "from sklearn.model_selection import GridSearchCV\n",
    "# Optimize Parameters with Cross  Validation and GridSearchCV()\n",
    "param_grid = [\n",
    "    {'C' : [0.5, 1, 10, 100],\n",
    "     'gamma': ['scale', 1, 0.1, 0.01, 0.001, 0.0001], \n",
    "     'kernel': ['rbf', 'poly']}, \n",
    "]\n",
    "\n",
    "optimal_params = GridSearchCV(SVC(), param_grid,cv=10, scoring='accuracy', verbose=0)\n",
    "optimal_params.fit(X_train_scaled, y_train)\n",
    "print(f'Los mejores parametros para el kernel rbf son: {optimal_params.best_params_}')"
   ]
  }
 ],
 "metadata": {
  "kernelspec": {
   "display_name": "Python 3",
   "language": "python",
   "name": "python3"
  },
  "language_info": {
   "codemirror_mode": {
    "name": "ipython",
    "version": 3
   },
   "file_extension": ".py",
   "mimetype": "text/x-python",
   "name": "python",
   "nbconvert_exporter": "python",
   "pygments_lexer": "ipython3",
   "version": "3.8.5"
  }
 },
 "nbformat": 4,
 "nbformat_minor": 5
}
