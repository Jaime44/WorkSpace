{
  "cells": [
    {
      "cell_type": "markdown",
      "metadata": {
        "colab_type": "text",
        "id": "view-in-github"
      },
      "source": [
        "<a href=\"https://colab.research.google.com/github/Jaime44/Sistemas-Cognitivos-A.-/blob/main/Actividad%201%20-%20Lab%20Conceptos%20generales%20de%20las%20ANN/Actividad_1_Redes_Neuronales_Artificiales_ANN.ipynb\" target=\"_parent\"><img src=\"https://colab.research.google.com/assets/colab-badge.svg\" alt=\"Open In Colab\"/></a>"
      ]
    },
    {
      "cell_type": "markdown",
      "metadata": {
        "id": "iiDzBoKGwmMZ"
      },
      "source": [
        "# REDES NEURONALES\n",
        "\n",
        "---\n",
        "\n",
        "\n",
        "\n",
        "En esta actividad vamos a utilizar una red neuronal para clasificar imágenes de prendas de ropa. Para ello, utilizaremos Keras con TensorFlow.\n",
        "\n",
        "El dataset a utilizar es Fashion MNIST, un problema sencillo con imágenes pequeñas de ropa, pero más interesante que el dataset de MNIST. Puedes consultar más información sobre el dataset en [este enlace](https://github.com/zalandoresearch/fashion-mnist).\n",
        "\n",
        "El código utilizado para contestar tiene que quedar claramente reflejado en el Notebook. Puedes crear nuevas celdas si así lo deseas para estructurar tu código y sus salidas. A la hora de entregar el notebook, **asegúrate de que los resultados de ejecutar tu código han quedado guardados**. Por ejemplo, a la hora de entrenar una red neuronal tiene que verse claramente un log de los resultados de cada epoch."
      ]
    },
    {
      "cell_type": "code",
      "execution_count": 1,
      "metadata": {
        "id": "gSHr268SwmMa"
      },
      "outputs": [],
      "source": [
        "import keras\n",
        "import pandas as pd\n",
        "import tensorflow as tf\n",
        "import matplotlib.pyplot as plt\n",
        "\n",
        "from keras.datasets import fashion_mnist\n",
        "from keras.models import Sequential\n",
        "from keras.layers import Dense, Flatten, BatchNormalization, Dropout\n",
        "from keras.callbacks import EarlyStopping"
      ]
    },
    {
      "cell_type": "markdown",
      "metadata": {
        "id": "zScMKU2OKSPD"
      },
      "source": [
        "En primer lugar vamos a importar el dataset Fashion MNIST (recordad que este es uno de los dataset de entranamiento que estan guardados en keras) que es el que vamos a utilizar en esta actividad:"
      ]
    },
    {
      "cell_type": "code",
      "execution_count": 2,
      "metadata": {
        "id": "4voG2hxxG4h3"
      },
      "outputs": [],
      "source": [
        "mnist = tf.keras.datasets.fashion_mnist"
      ]
    },
    {
      "cell_type": "markdown",
      "metadata": {
        "id": "JphLsCvgKrzb"
      },
      "source": [
        "Llamar a **load_data** en este dataset nos dará dos conjuntos de dos listas, estos serán los valores de entrenamiento y prueba para los gráficos que contienen las prendas de vestir y sus etiquetas.\n",
        "\n",
        "Nota: Aunque en esta actividad lo veis de esta forma, también lo vais a poder encontrar como 4 variables de esta forma: training_images, training_labels, test_images, test_labels = mnist.load_data()"
      ]
    },
    {
      "cell_type": "code",
      "execution_count": 3,
      "metadata": {
        "colab": {
          "base_uri": "https://localhost:8080/"
        },
        "id": "1muD4PHEG4h6",
        "outputId": "8366d5d3-0f74-40cc-c714-3428c01eea31"
      },
      "outputs": [],
      "source": [
        "(training_images, training_labels), (test_images, test_labels) = mnist.load_data()"
      ]
    },
    {
      "cell_type": "markdown",
      "metadata": {
        "id": "ZWGpJqVVLT3Y"
      },
      "source": [
        "Antes de continuar vamos a dar un vistazo a nuestro dataset, para ello vamos a ver una imagen de entrenamiento y su etiqueta o clase."
      ]
    },
    {
      "cell_type": "code",
      "execution_count": 4,
      "metadata": {
        "colab": {
          "base_uri": "https://localhost:8080/",
          "height": 933
        },
        "id": "t5a5PlswG4h8",
        "outputId": "a0b6c36d-b281-4402-afe4-7f2677736bd4"
      },
      "outputs": [
        {
          "name": "stdout",
          "output_type": "stream",
          "text": [
            "9\n",
            "[[  0   0   0   0   0   0   0   0   0   0   0   0   0   0   0   0   0   0   0   0   0   0   0   0   0   0   0   0]\n",
            " [  0   0   0   0   0   0   0   0   0   0   0   0   0   0   0   0   0   0   0   0   0   0   0   0   0   0   0   0]\n",
            " [  0   0   0   0   0   0   0   0   0   0   0   0   0   0   0   0   0   0   0   0   0   0   0   0   0   0   0   0]\n",
            " [  0   0   0   0   0   0   0   0   0   0   0   0   1   0   0  13  73   0   0   1   4   0   0   0   0   1   1   0]\n",
            " [  0   0   0   0   0   0   0   0   0   0   0   0   3   0  36 136 127  62  54   0   0   0   1   3   4   0   0   3]\n",
            " [  0   0   0   0   0   0   0   0   0   0   0   0   6   0 102 204 176 134 144 123  23   0   0   0   0  12  10   0]\n",
            " [  0   0   0   0   0   0   0   0   0   0   0   0   0   0 155 236 207 178 107 156 161 109  64  23  77 130  72  15]\n",
            " [  0   0   0   0   0   0   0   0   0   0   0   1   0  69 207 223 218 216 216 163 127 121 122 146 141  88 172  66]\n",
            " [  0   0   0   0   0   0   0   0   0   1   1   1   0 200 232 232 233 229 223 223 215 213 164 127 123 196 229   0]\n",
            " [  0   0   0   0   0   0   0   0   0   0   0   0   0 183 225 216 223 228 235 227 224 222 224 221 223 245 173   0]\n",
            " [  0   0   0   0   0   0   0   0   0   0   0   0   0 193 228 218 213 198 180 212 210 211 213 223 220 243 202   0]\n",
            " [  0   0   0   0   0   0   0   0   0   1   3   0  12 219 220 212 218 192 169 227 208 218 224 212 226 197 209  52]\n",
            " [  0   0   0   0   0   0   0   0   0   0   6   0  99 244 222 220 218 203 198 221 215 213 222 220 245 119 167  56]\n",
            " [  0   0   0   0   0   0   0   0   0   4   0   0  55 236 228 230 228 240 232 213 218 223 234 217 217 209  92   0]\n",
            " [  0   0   1   4   6   7   2   0   0   0   0   0 237 226 217 223 222 219 222 221 216 223 229 215 218 255  77   0]\n",
            " [  0   3   0   0   0   0   0   0   0  62 145 204 228 207 213 221 218 208 211 218 224 223 219 215 224 244 159   0]\n",
            " [  0   0   0   0  18  44  82 107 189 228 220 222 217 226 200 205 211 230 224 234 176 188 250 248 233 238 215   0]\n",
            " [  0  57 187 208 224 221 224 208 204 214 208 209 200 159 245 193 206 223 255 255 221 234 221 211 220 232 246   0]\n",
            " [  3 202 228 224 221 211 211 214 205 205 205 220 240  80 150 255 229 221 188 154 191 210 204 209 222 228 225   0]\n",
            " [ 98 233 198 210 222 229 229 234 249 220 194 215 217 241  65  73 106 117 168 219 221 215 217 223 223 224 229  29]\n",
            " [ 75 204 212 204 193 205 211 225 216 185 197 206 198 213 240 195 227 245 239 223 218 212 209 222 220 221 230  67]\n",
            " [ 48 203 183 194 213 197 185 190 194 192 202 214 219 221 220 236 225 216 199 206 186 181 177 172 181 205 206 115]\n",
            " [  0 122 219 193 179 171 183 196 204 210 213 207 211 210 200 196 194 191 195 191 198 192 176 156 167 177 210  92]\n",
            " [  0   0  74 189 212 191 175 172 175 181 185 188 189 188 193 198 204 209 210 210 211 188 188 194 192 216 170   0]\n",
            " [  2   0   0   0  66 200 222 237 239 242 246 243 244 221 220 193 191 179 182 182 181 176 166 168  99  58   0   0]\n",
            " [  0   0   0   0   0   0   0  40  61  44  72  41  35   0   0   0   0   0   0   0   0   0   0   0   0   0   0   0]\n",
            " [  0   0   0   0   0   0   0   0   0   0   0   0   0   0   0   0   0   0   0   0   0   0   0   0   0   0   0   0]\n",
            " [  0   0   0   0   0   0   0   0   0   0   0   0   0   0   0   0   0   0   0   0   0   0   0   0   0   0   0   0]]\n"
          ]
        },
        {
          "data": {
            "image/png": "[encoded data removed]",
            "text/plain": [
              "<Figure size 640x480 with 1 Axes>"
            ]
          },
          "metadata": {},
          "output_type": "display_data"
        }
      ],
      "source": [
        "import numpy as np\n",
        "np.set_printoptions(linewidth=200)\n",
        "import matplotlib.pyplot as plt\n",
        "plt.imshow(training_images[0], cmap=\"gray\") # recordad que siempre es preferible trabajar en blanco y negro\n",
        "print(training_labels[0])\n",
        "print(training_images[0])"
      ]
    },
    {
      "cell_type": "markdown",
      "metadata": {
        "id": "WCJvZx3MLucY"
      },
      "source": [
        "Habreis notado que todos los valores numericos están entre 0 y 255. Si estamos entrenando una red neuronal, una buena practica es transformar todos los valores entre 0 y 1, un proceso llamado \"normalización\" y afortunadamente en Python es fácil normalizar una lista. Lo puedes hacer de esta manera:"
      ]
    },
    {
      "cell_type": "code",
      "execution_count": 5,
      "metadata": {
        "id": "tojL1BmjG4h_"
      },
      "outputs": [],
      "source": [
        "training_images  = training_images / 255.0\n",
        "test_images = test_images / 255.0"
      ]
    },
    {
      "cell_type": "markdown",
      "metadata": {
        "id": "BaqXlSMBwmMg"
      },
      "source": [
        "## 1. Información sobre el dataset"
      ]
    },
    {
      "cell_type": "markdown",
      "metadata": {
        "id": "e0aer8ZZwmMh"
      },
      "source": [
        "Una vez tenemos los datos cargados en memoria, vamos a obtener información sobre los mismos."
      ]
    },
    {
      "cell_type": "markdown",
      "metadata": {
        "id": "E-im9PnEwmMh"
      },
      "source": [
        "**Pregunta 1.1 *(0.25 puntos)*** ¿Cuántas imágenes hay de *training* y de *test*? ¿Qué tamaño tienen las imágenes?"
      ]
    },
    {
      "cell_type": "code",
      "execution_count": 6,
      "metadata": {
        "colab": {
          "base_uri": "https://localhost:8080/"
        },
        "id": "lvP0Y4SCwmMi",
        "outputId": "37c92270-3804-4fda-9fa7-3756c68e5051"
      },
      "outputs": [
        {
          "name": "stdout",
          "output_type": "stream",
          "text": [
            "Para el conjunto de datos de entrenamiento hay 60000 imagenes de 28x28\n",
            "Para el conjunto de datos de entrenamiento hay 10000 imagenes de 28x28\n"
          ]
        }
      ],
      "source": [
        "### Tu código aquí ###\n",
        "info_img_train = training_images.shape\n",
        "print(f\"Para el conjunto de datos de entrenamiento hay {info_img_train[0]} imagenes de {info_img_train[1]}x{info_img_train[2]}\")\n",
        "info_img_test = test_images.shape\n",
        "print(f\"Para el conjunto de datos de entrenamiento hay {info_img_test[0]} imagenes de {info_img_test[1]}x{info_img_test[2]}\")"
      ]
    },
    {
      "cell_type": "markdown",
      "metadata": {
        "id": "Xwp5ljFKwmMj"
      },
      "source": [
        "*Tu respuesta aquí*\n",
        "\n",
        "Para el conjunto de datos de entrenamiento hay 60000 imagenes de 28x28.\n",
        "\n",
        "Para el conjunto de datos de entrenamiento hay 10000 imagenes de 28x28."
      ]
    },
    {
      "cell_type": "markdown",
      "metadata": {
        "id": "F2LsvfHOwmMk"
      },
      "source": [
        "**Pregunta 1.2 *(0.25 puntos)*** Realizar una exploración de las variables que contienen los datos. Describir en qué consiste un example del dataset (qué información se guarda en cada imagen) y describir qué contiene la información en y."
      ]
    },
    {
      "cell_type": "code",
      "execution_count": 7,
      "metadata": {
        "colab": {
          "base_uri": "https://localhost:8080/"
        },
        "id": "Q440IYKX7941",
        "outputId": "42917069-5dbd-465b-e4d9-759306db650f"
      },
      "outputs": [
        {
          "data": {
            "text/plain": [
              "array([9, 0, 0, ..., 3, 0, 5], dtype=uint8)"
            ]
          },
          "execution_count": 7,
          "metadata": {},
          "output_type": "execute_result"
        }
      ],
      "source": [
        "training_labels"
      ]
    },
    {
      "cell_type": "code",
      "execution_count": 8,
      "metadata": {
        "colab": {
          "base_uri": "https://localhost:8080/"
        },
        "id": "3W5rzaGxwmMk",
        "outputId": "69c4824e-4bd8-4dad-e490-3405359cfabb"
      },
      "outputs": [
        {
          "data": {
            "text/plain": [
              "array([[0.        , 0.        , 0.        , 0.        , 0.        , 0.        , 0.        , 0.        , 0.        , 0.        , 0.        , 0.        , 0.        , 0.        , 0.        ,\n",
              "        0.        , 0.        , 0.        , 0.        , 0.        , 0.        , 0.        , 0.        , 0.        , 0.        , 0.        , 0.        , 0.        ],\n",
              "       [0.        , 0.        , 0.        , 0.        , 0.        , 0.        , 0.        , 0.        , 0.        , 0.        , 0.        , 0.        , 0.        , 0.        , 0.        ,\n",
              "        0.        , 0.        , 0.        , 0.        , 0.        , 0.        , 0.        , 0.        , 0.        , 0.        , 0.        , 0.        , 0.        ],\n",
              "       [0.        , 0.        , 0.        , 0.        , 0.        , 0.        , 0.        , 0.        , 0.        , 0.        , 0.        , 0.        , 0.        , 0.        , 0.        ,\n",
              "        0.        , 0.        , 0.        , 0.        , 0.        , 0.        , 0.        , 0.        , 0.        , 0.        , 0.        , 0.        , 0.        ],\n",
              "       [0.        , 0.        , 0.        , 0.        , 0.        , 0.        , 0.        , 0.        , 0.        , 0.        , 0.        , 0.        , 0.00392157, 0.        , 0.        ,\n",
              "        0.05098039, 0.28627451, 0.        , 0.        , 0.00392157, 0.01568627, 0.        , 0.        , 0.        , 0.        , 0.00392157, 0.00392157, 0.        ],\n",
              "       [0.        , 0.        , 0.        , 0.        , 0.        , 0.        , 0.        , 0.        , 0.        , 0.        , 0.        , 0.        , 0.01176471, 0.        , 0.14117647,\n",
              "        0.53333333, 0.49803922, 0.24313725, 0.21176471, 0.        , 0.        , 0.        , 0.00392157, 0.01176471, 0.01568627, 0.        , 0.        , 0.01176471],\n",
              "       [0.        , 0.        , 0.        , 0.        , 0.        , 0.        , 0.        , 0.        , 0.        , 0.        , 0.        , 0.        , 0.02352941, 0.        , 0.4       ,\n",
              "        0.8       , 0.69019608, 0.5254902 , 0.56470588, 0.48235294, 0.09019608, 0.        , 0.        , 0.        , 0.        , 0.04705882, 0.03921569, 0.        ],\n",
              "       [0.        , 0.        , 0.        , 0.        , 0.        , 0.        , 0.        , 0.        , 0.        , 0.        , 0.        , 0.        , 0.        , 0.        , 0.60784314,\n",
              "        0.9254902 , 0.81176471, 0.69803922, 0.41960784, 0.61176471, 0.63137255, 0.42745098, 0.25098039, 0.09019608, 0.30196078, 0.50980392, 0.28235294, 0.05882353],\n",
              "       [0.        , 0.        , 0.        , 0.        , 0.        , 0.        , 0.        , 0.        , 0.        , 0.        , 0.        , 0.00392157, 0.        , 0.27058824, 0.81176471,\n",
              "        0.8745098 , 0.85490196, 0.84705882, 0.84705882, 0.63921569, 0.49803922, 0.4745098 , 0.47843137, 0.57254902, 0.55294118, 0.34509804, 0.6745098 , 0.25882353],\n",
              "       [0.        , 0.        , 0.        , 0.        , 0.        , 0.        , 0.        , 0.        , 0.        , 0.00392157, 0.00392157, 0.00392157, 0.        , 0.78431373, 0.90980392,\n",
              "        0.90980392, 0.91372549, 0.89803922, 0.8745098 , 0.8745098 , 0.84313725, 0.83529412, 0.64313725, 0.49803922, 0.48235294, 0.76862745, 0.89803922, 0.        ],\n",
              "       [0.        , 0.        , 0.        , 0.        , 0.        , 0.        , 0.        , 0.        , 0.        , 0.        , 0.        , 0.        , 0.        , 0.71764706, 0.88235294,\n",
              "        0.84705882, 0.8745098 , 0.89411765, 0.92156863, 0.89019608, 0.87843137, 0.87058824, 0.87843137, 0.86666667, 0.8745098 , 0.96078431, 0.67843137, 0.        ],\n",
              "       [0.        , 0.        , 0.        , 0.        , 0.        , 0.        , 0.        , 0.        , 0.        , 0.        , 0.        , 0.        , 0.        , 0.75686275, 0.89411765,\n",
              "        0.85490196, 0.83529412, 0.77647059, 0.70588235, 0.83137255, 0.82352941, 0.82745098, 0.83529412, 0.8745098 , 0.8627451 , 0.95294118, 0.79215686, 0.        ],\n",
              "       [0.        , 0.        , 0.        , 0.        , 0.        , 0.        , 0.        , 0.        , 0.        , 0.00392157, 0.01176471, 0.        , 0.04705882, 0.85882353, 0.8627451 ,\n",
              "        0.83137255, 0.85490196, 0.75294118, 0.6627451 , 0.89019608, 0.81568627, 0.85490196, 0.87843137, 0.83137255, 0.88627451, 0.77254902, 0.81960784, 0.20392157],\n",
              "       [0.        , 0.        , 0.        , 0.        , 0.        , 0.        , 0.        , 0.        , 0.        , 0.        , 0.02352941, 0.        , 0.38823529, 0.95686275, 0.87058824,\n",
              "        0.8627451 , 0.85490196, 0.79607843, 0.77647059, 0.86666667, 0.84313725, 0.83529412, 0.87058824, 0.8627451 , 0.96078431, 0.46666667, 0.65490196, 0.21960784],\n",
              "       [0.        , 0.        , 0.        , 0.        , 0.        , 0.        , 0.        , 0.        , 0.        , 0.01568627, 0.        , 0.        , 0.21568627, 0.9254902 , 0.89411765,\n",
              "        0.90196078, 0.89411765, 0.94117647, 0.90980392, 0.83529412, 0.85490196, 0.8745098 , 0.91764706, 0.85098039, 0.85098039, 0.81960784, 0.36078431, 0.        ],\n",
              "       [0.        , 0.        , 0.00392157, 0.01568627, 0.02352941, 0.02745098, 0.00784314, 0.        , 0.        , 0.        , 0.        , 0.        , 0.92941176, 0.88627451, 0.85098039,\n",
              "        0.8745098 , 0.87058824, 0.85882353, 0.87058824, 0.86666667, 0.84705882, 0.8745098 , 0.89803922, 0.84313725, 0.85490196, 1.        , 0.30196078, 0.        ],\n",
              "       [0.        , 0.01176471, 0.        , 0.        , 0.        , 0.        , 0.        , 0.        , 0.        , 0.24313725, 0.56862745, 0.8       , 0.89411765, 0.81176471, 0.83529412,\n",
              "        0.86666667, 0.85490196, 0.81568627, 0.82745098, 0.85490196, 0.87843137, 0.8745098 , 0.85882353, 0.84313725, 0.87843137, 0.95686275, 0.62352941, 0.        ],\n",
              "       [0.        , 0.        , 0.        , 0.        , 0.07058824, 0.17254902, 0.32156863, 0.41960784, 0.74117647, 0.89411765, 0.8627451 , 0.87058824, 0.85098039, 0.88627451, 0.78431373,\n",
              "        0.80392157, 0.82745098, 0.90196078, 0.87843137, 0.91764706, 0.69019608, 0.7372549 , 0.98039216, 0.97254902, 0.91372549, 0.93333333, 0.84313725, 0.        ],\n",
              "       [0.        , 0.22352941, 0.73333333, 0.81568627, 0.87843137, 0.86666667, 0.87843137, 0.81568627, 0.8       , 0.83921569, 0.81568627, 0.81960784, 0.78431373, 0.62352941, 0.96078431,\n",
              "        0.75686275, 0.80784314, 0.8745098 , 1.        , 1.        , 0.86666667, 0.91764706, 0.86666667, 0.82745098, 0.8627451 , 0.90980392, 0.96470588, 0.        ],\n",
              "       [0.01176471, 0.79215686, 0.89411765, 0.87843137, 0.86666667, 0.82745098, 0.82745098, 0.83921569, 0.80392157, 0.80392157, 0.80392157, 0.8627451 , 0.94117647, 0.31372549, 0.58823529,\n",
              "        1.        , 0.89803922, 0.86666667, 0.7372549 , 0.60392157, 0.74901961, 0.82352941, 0.8       , 0.81960784, 0.87058824, 0.89411765, 0.88235294, 0.        ],\n",
              "       [0.38431373, 0.91372549, 0.77647059, 0.82352941, 0.87058824, 0.89803922, 0.89803922, 0.91764706, 0.97647059, 0.8627451 , 0.76078431, 0.84313725, 0.85098039, 0.94509804, 0.25490196,\n",
              "        0.28627451, 0.41568627, 0.45882353, 0.65882353, 0.85882353, 0.86666667, 0.84313725, 0.85098039, 0.8745098 , 0.8745098 , 0.87843137, 0.89803922, 0.11372549],\n",
              "       [0.29411765, 0.8       , 0.83137255, 0.8       , 0.75686275, 0.80392157, 0.82745098, 0.88235294, 0.84705882, 0.7254902 , 0.77254902, 0.80784314, 0.77647059, 0.83529412, 0.94117647,\n",
              "        0.76470588, 0.89019608, 0.96078431, 0.9372549 , 0.8745098 , 0.85490196, 0.83137255, 0.81960784, 0.87058824, 0.8627451 , 0.86666667, 0.90196078, 0.2627451 ],\n",
              "       [0.18823529, 0.79607843, 0.71764706, 0.76078431, 0.83529412, 0.77254902, 0.7254902 , 0.74509804, 0.76078431, 0.75294118, 0.79215686, 0.83921569, 0.85882353, 0.86666667, 0.8627451 ,\n",
              "        0.9254902 , 0.88235294, 0.84705882, 0.78039216, 0.80784314, 0.72941176, 0.70980392, 0.69411765, 0.6745098 , 0.70980392, 0.80392157, 0.80784314, 0.45098039],\n",
              "       [0.        , 0.47843137, 0.85882353, 0.75686275, 0.70196078, 0.67058824, 0.71764706, 0.76862745, 0.8       , 0.82352941, 0.83529412, 0.81176471, 0.82745098, 0.82352941, 0.78431373,\n",
              "        0.76862745, 0.76078431, 0.74901961, 0.76470588, 0.74901961, 0.77647059, 0.75294118, 0.69019608, 0.61176471, 0.65490196, 0.69411765, 0.82352941, 0.36078431],\n",
              "       [0.        , 0.        , 0.29019608, 0.74117647, 0.83137255, 0.74901961, 0.68627451, 0.6745098 , 0.68627451, 0.70980392, 0.7254902 , 0.7372549 , 0.74117647, 0.7372549 , 0.75686275,\n",
              "        0.77647059, 0.8       , 0.81960784, 0.82352941, 0.82352941, 0.82745098, 0.7372549 , 0.7372549 , 0.76078431, 0.75294118, 0.84705882, 0.66666667, 0.        ],\n",
              "       [0.00784314, 0.        , 0.        , 0.        , 0.25882353, 0.78431373, 0.87058824, 0.92941176, 0.9372549 , 0.94901961, 0.96470588, 0.95294118, 0.95686275, 0.86666667, 0.8627451 ,\n",
              "        0.75686275, 0.74901961, 0.70196078, 0.71372549, 0.71372549, 0.70980392, 0.69019608, 0.65098039, 0.65882353, 0.38823529, 0.22745098, 0.        , 0.        ],\n",
              "       [0.        , 0.        , 0.        , 0.        , 0.        , 0.        , 0.        , 0.15686275, 0.23921569, 0.17254902, 0.28235294, 0.16078431, 0.1372549 , 0.        , 0.        ,\n",
              "        0.        , 0.        , 0.        , 0.        , 0.        , 0.        , 0.        , 0.        , 0.        , 0.        , 0.        , 0.        , 0.        ],\n",
              "       [0.        , 0.        , 0.        , 0.        , 0.        , 0.        , 0.        , 0.        , 0.        , 0.        , 0.        , 0.        , 0.        , 0.        , 0.        ,\n",
              "        0.        , 0.        , 0.        , 0.        , 0.        , 0.        , 0.        , 0.        , 0.        , 0.        , 0.        , 0.        , 0.        ],\n",
              "       [0.        , 0.        , 0.        , 0.        , 0.        , 0.        , 0.        , 0.        , 0.        , 0.        , 0.        , 0.        , 0.        , 0.        , 0.        ,\n",
              "        0.        , 0.        , 0.        , 0.        , 0.        , 0.        , 0.        , 0.        , 0.        , 0.        , 0.        , 0.        , 0.        ]])"
            ]
          },
          "execution_count": 8,
          "metadata": {},
          "output_type": "execute_result"
        }
      ],
      "source": [
        "### Tu código aquí ###\n",
        "training_images[0]"
      ]
    },
    {
      "cell_type": "code",
      "execution_count": 9,
      "metadata": {
        "colab": {
          "base_uri": "https://localhost:8080/"
        },
        "id": "wNZPDt408vti",
        "outputId": "15281962-f8d1-4ecb-86d2-5278b53f0f67"
      },
      "outputs": [
        {
          "data": {
            "text/plain": [
              "0.0"
            ]
          },
          "execution_count": 9,
          "metadata": {},
          "output_type": "execute_result"
        }
      ],
      "source": [
        "training_images[0][0][0]"
      ]
    },
    {
      "cell_type": "markdown",
      "metadata": {
        "id": "zaEWKFyvwmMm"
      },
      "source": [
        "*Tu respuesta aquí*\n",
        "\n",
        "Un example del dataset consiste en una imagen y su etiqueta correspondiente. Por ejemplo, \"training_images[0]\" sería la primera imagen del conjunto de datos de entrenamiento y training_label [0] sería la etiqueta asociada a esa imagen.\n",
        "\n",
        "training_images[0][0][0]--> sería el primer pixel de la primera imagen de esta forma se podría acceder a los pixeles individuales de cada imagen que están en escala de grises y normalizados.\n",
        "\n",
        "La variable y hace referencia a training_labels. Contiene las etiquetas (clases) a las que pertenecen las imágenes del conjunto de entrenamiento. Es una lista de números enteros donde cada número representa la clase de la prenda de vestir correspondiente a la imagen en training_images.\n"
      ]
    },
    {
      "cell_type": "markdown",
      "metadata": {
        "id": "dI3IAhOQ8zHi"
      },
      "source": [
        "## 2. Creación del Modelo"
      ]
    },
    {
      "cell_type": "markdown",
      "metadata": {
        "id": "yYUWWsszMAKt"
      },
      "source": [
        "Ahora vamos a definir el modelo, pero antes vamos a repasar algunos comandos y conceptos muy útiles:\n",
        "* **Sequential**: Eso define una SECUENCIA de capas en la red neuronal\n",
        "* **Dense**: Añade una capa de neuronas\n",
        "* **Flatten**: ¿Recuerdas cómo eran las imágenes cuando las imprimiste para poder verlas? Un cuadrado, Flatten toma ese cuadrado y lo convierte en un vector de una dimensión.\n",
        "\n",
        "Cada capa de neuronas necesita una función de activación. Normalmente se usa la función relu en las capas intermedias y softmax en la ultima capa (en problemas de clasificación de más de dos items)\n",
        "* **Relu** significa que \"Si X>0 devuelve X, si no, devuelve 0\", así que lo que hace es pasar sólo valores 0 o mayores a la siguiente capa de la red.\n",
        "* **Softmax** toma un conjunto de valores, y escoge el más grande."
      ]
    },
    {
      "cell_type": "markdown",
      "metadata": {
        "id": "QgBW1yE2MwPp"
      },
      "source": [
        " **Pregunta 2.1 (2 puntos)**. Utilizando Keras, y preparando los datos de X e y como fuera necesario, define y entrena una red neuronal que sea capaz de clasificar imágenes de Fashion MNIST con las siguientes características:\n",
        "\n",
        "* Una hidden layer de tamaños 128, utilizando unidades sigmoid\n",
        "Optimizador Adam.\n",
        "* Durante el entrenamiento, la red tiene que mostrar resultados de loss y accuracy por cada epoch.\n",
        "* La red debe entrenar durante 10 epochs y batch size de 64.\n",
        "* La última capa debe de ser una capa softmax.\n",
        "* Tu red tendría que ser capaz de superar fácilmente 80% de accuracy."
      ]
    },
    {
      "cell_type": "code",
      "execution_count": 10,
      "metadata": {
        "colab": {
          "base_uri": "https://localhost:8080/"
        },
        "id": "aTaD2QXIORwu",
        "outputId": "ef9cbf63-38d1-4c62-daaf-7ae0b9de11b5"
      },
      "outputs": [
        {
          "ename": "",
          "evalue": "",
          "output_type": "error",
          "traceback": [
            "\u001b[1;31mThe Kernel crashed while executing code in the the current cell or a previous cell. Please review the code in the cell(s) to identify a possible cause of the failure. Click <a href='https://aka.ms/vscodeJupyterKernelCrash'>here</a> for more info. View Jupyter <a href='command:jupyter.viewOutput'>log</a> for further details."
          ]
        }
      ],
      "source": [
        "### Tu código para la red neuronal de la pregunta 2 aquí ###\n",
        "model = Sequential()\n",
        "model.add(Flatten(input_shape=[28,28])) #Convertir la imagen a vector. \n",
        "model.add(Dense(128, activation='sigmoid'))\n",
        "model.add(Dense(10, activation='softmax'))\n",
        "model.compile(loss=\"sparse_categorical_crossentropy\", optimizer='adam', metrics=[\"accuracy\"])\n",
        "model.summary()"
      ]
    },
    {
      "cell_type": "code",
      "execution_count": null,
      "metadata": {
        "colab": {
          "base_uri": "https://localhost:8080/"
        },
        "id": "bvstjuqoL6JR",
        "outputId": "9a4ab35b-d849-4751-e091-31a9a3baa643"
      },
      "outputs": [],
      "source": [
        "### Tu código para la evaluación de la red neuronal de la pregunta 2 aquí ###\n",
        "result = model.fit(training_images, training_labels, epochs=10, batch_size=64, validation_data=(test_images, test_labels))"
      ]
    },
    {
      "cell_type": "markdown",
      "metadata": {
        "id": "Bxr5hTKYOQnK"
      },
      "source": [
        "Para concluir el entrenamiento de la red neuronal, una buena practica es evaluar el modelo para ver si la precisión de entrenamiento es real\n",
        "\n",
        "**pregunta 2.2 (0.5 puntos)**: evalua el modelo con las imagenes y etiquetas test."
      ]
    },
    {
      "cell_type": "code",
      "execution_count": null,
      "metadata": {
        "colab": {
          "base_uri": "https://localhost:8080/"
        },
        "id": "VNjQEtUUG4iI",
        "outputId": "75c4789b-ffdf-48cc-c9cd-898e665ce6d0"
      },
      "outputs": [],
      "source": [
        "### Tu código para la evaluación de la red neuronal de la pregunta 2 aquí ###\n",
        "model.evaluate(test_images,test_labels)"
      ]
    },
    {
      "cell_type": "markdown",
      "metadata": {
        "id": "ygMVnmSYO83U"
      },
      "source": [
        "Ahora vamos a explorar el código con una serie de ejercicios para alcanzar un grado de comprensión mayor sobre las redes neuronales y su entrenamiento.\n",
        "\n",
        "## 3: Funcionamiento de las predicción de la red neuronal\n",
        "\n",
        "Sigue los siguientes pasos:\n",
        "\n",
        "* Crea una variable llamada **classifications** para construir un clasificador con las imágenes de prueba, para ello puedes utilizar la función predict sobre el conjunto de test\n",
        "* Imprime con la función print la primera entrada en las clasificaciones.\n",
        "\n",
        "**pregunta 3.1 (0.25 puntos)**, el resultado al imprimirlo es un vector de números,\n",
        "* ¿Por qué crees que ocurre esto, y qué representa este vector de números?\n",
        "\n",
        "**pregunta 3.2 (0.25 puntos)**\n",
        "* ¿Cúal es la clase de la primera entrada#  de la variable **classifications**? La respuesta puede ser un número o su etiqueta/clase equivalente."
      ]
    },
    {
      "cell_type": "code",
      "execution_count": null,
      "metadata": {
        "colab": {
          "base_uri": "https://localhost:8080/"
        },
        "id": "b-mL-h4xQhCm",
        "outputId": "235b666c-7507-4805-9dd8-cc3169f9ec78"
      },
      "outputs": [],
      "source": [
        "### Tu código del clasificador de la pregunta 3 aquí ###\n",
        "classifications = model.predict(test_images)\n",
        "\n"
      ]
    },
    {
      "cell_type": "code",
      "execution_count": null,
      "metadata": {
        "colab": {
          "base_uri": "https://localhost:8080/"
        },
        "id": "17ErPwacNk2W",
        "outputId": "5754ceff-7b55-4f6f-b996-4e0a42caa00b"
      },
      "outputs": [],
      "source": [
        "print(classifications[0])\n",
        "print(test_labels[0])"
      ]
    },
    {
      "cell_type": "markdown",
      "metadata": {
        "id": "pvbVC9gaQhMY"
      },
      "source": [
        "Tu respuesta a la pregunta 3.1 aquí:\n",
        "\n",
        "La primera entrada es un vector de porcentajes, en concreto 10 valores que suman uno. Estos 10 valores corresponden a las 10 clases de nuestro conjunto de dataset. Cada valor es la probabilidad que se ha obtenido de que la imagen pertenezca a esa clase.\n",
        "Este vector o matriz con tantos vectores como imágenes hay en el set de test se obtiene gracias a la función de salida softmax. Esta función normaliza los resultados de tal amanera que tenemos una salida por cada clase y con su correspondiente porcentaje de pertenecer a esa clase.\n"
      ]
    },
    {
      "cell_type": "markdown",
      "metadata": {
        "id": "oRWo-75tdgv0"
      },
      "source": [
        "Tu respuesta a la pregunta 3.2 aquí:\n",
        "\n",
        "Pertenece a la clase última, 10 (Ankle boot), con un porcentaje de  8.7047446e-01 ~= 87%."
      ]
    },
    {
      "cell_type": "markdown",
      "metadata": {
        "id": "hiQ8qAzhRQ4L"
      },
      "source": [
        "# **4: Impacto variar el número de neuronas en las capas ocultas**\n",
        "\n",
        "En este ejercicio vamos a experimentar con nuestra red neuronal cambiando el numero de neuronas por 512 y por 1024. Para ello, utiliza la red neuronal de la pregunta 1, y su capa oculta cambia las 128 neuronas:\n",
        "\n",
        "* **512 neuronas en la capa oculta\n",
        "* **1024 neuronas en la capa oculta\n",
        "\n",
        "y entrena la red en ambos casos.\n",
        "\n"
      ]
    },
    {
      "cell_type": "code",
      "execution_count": null,
      "metadata": {
        "colab": {
          "base_uri": "https://localhost:8080/"
        },
        "id": "cdP8ZwuaUV93",
        "outputId": "f5341bcb-859e-463e-fac3-511db5c5607d"
      },
      "outputs": [],
      "source": [
        "### Tu código para 512 neuronas aquí ###\n",
        "model_500n = Sequential()\n",
        "model_500n.add(Flatten(input_shape=[28,28]))\n",
        "model_500n.add(Dense(512, activation='sigmoid'))\n",
        "model_500n.add(Dense(10, activation='softmax'))\n",
        "model_500n.compile(loss=\"sparse_categorical_crossentropy\", optimizer='adam', metrics=[\"accuracy\"])\n",
        "result_500n = model_500n.fit(training_images, training_labels, epochs=10, batch_size=64, validation_data=(test_images, test_labels))\n",
        "model_500n.evaluate(test_images,test_labels)"
      ]
    },
    {
      "cell_type": "code",
      "execution_count": null,
      "metadata": {
        "colab": {
          "base_uri": "https://localhost:8080/"
        },
        "id": "YXBlbbfuUaPa",
        "outputId": "8f6ac1c7-97c3-4a72-8a01-b3a42eb9a297"
      },
      "outputs": [],
      "source": [
        "### Tu código para 1024 neuronas aquí ###\n",
        "model_1024n = Sequential()\n",
        "model_1024n.add(Flatten(input_shape=[28,28]))\n",
        "model_1024n.add(Dense(1024, activation='sigmoid'))\n",
        "model_1024n.add(Dense(10, activation='softmax'))\n",
        "model_1024n.compile(loss=\"sparse_categorical_crossentropy\", optimizer='adam', metrics=[\"accuracy\"])\n",
        "result_1024n = model_1024n.fit(training_images, training_labels, epochs=10, batch_size=64, validation_data=(test_images, test_labels))\n",
        "model_1024n.evaluate(test_images,test_labels)"
      ]
    },
    {
      "cell_type": "markdown",
      "metadata": {
        "id": "wG0h2HL-Uj93"
      },
      "source": [
        "**pregunta 4.1 (0.5 puntos)**:\n",
        "\n",
        "¿Cuál es el impacto que tiene la red neuronal? Tu respuesta a la pregunta 4.1 aquí: En el accuracy de entrenamiento de estos dos últimos modelos se llega a un porcentaje de más del 90%, con respecto a la perdida en el modelo de 500 neuronas hay una ligera mejora y se reduce un poco más la perdida, pero en el caso de 1024 neuronas no hay mucha diferencia con respecto a la red de 128 neuronas o 500. Por último, el impacto en la métrica de precisión en la validación hay una ligera mejora en la red de 500 neuronas con respecto a la de 128 y una muy ligera mejora en la 1024 pero es de un orden muy bajo en el accuracy. No ha mejorado la precisión en comparación o aumento del número de neuronas de echo mejora el accuracy de entrenamiento, pero no tanto el de validación, estoy puede tender al overfiting."
      ]
    },
    {
      "cell_type": "markdown",
      "metadata": {
        "id": "b-NpUI9EVkVz"
      },
      "source": [
        "Si ahora entrenais el modelo de esta forma (con 512 y 1024 neuronas en la capa oculta) y volveis a ejecutar el predictor guardado en la variable **classifications**, escribir el código del clasificador del ejercicio 1 de nuevo e imprimid el primer objeto guardado en la variable classifications.\n",
        "\n",
        "**pregunta 4.2 (0.25 puntos)**:\n",
        "\n",
        "* ¿En que clase esta clasificado ahora la primera prenda de vestir de la variable classifications?\n",
        "\n",
        "**pregunta 4.3 (0.25 puntos)**:\n",
        "\n",
        "* ¿Porque crees que ha ocurrido esto?"
      ]
    },
    {
      "cell_type": "code",
      "execution_count": null,
      "metadata": {
        "colab": {
          "base_uri": "https://localhost:8080/"
        },
        "id": "RdJHl3V-G4iS",
        "outputId": "930bd33a-5ce9-4dac-81d1-634a0f57f935"
      },
      "outputs": [],
      "source": [
        "### Tu código del clasificador de la pregunta 5 aquí ###\n",
        "classifications_500n = model_500n.predict(test_images)\n",
        "print(f'Classifications to model with 500 neurons: {classifications_500n[0]}')\n",
        "\n",
        "classifications_1024n = model_1024n.predict(test_images)\n",
        "print(f'Classifications to model with 1024 neurons: {classifications_1024n[0]}')"
      ]
    },
    {
      "cell_type": "markdown",
      "metadata": {
        "id": "P3NfwdOGZcAa"
      },
      "source": [
        "Tu respuesta a la pregunta 4.2 aquí:\n",
        "\n",
        "Predice con aun más porcentaje que la primera prenda sigue siendo la etiquetada con el número 10, Ankle boot. El porcentaje es del 98%"
      ]
    },
    {
      "cell_type": "markdown",
      "metadata": {
        "id": "nFmfpxE1ZcJx"
      },
      "source": [
        "Tu respuesta a la pregunta 4.3 aquí:\n",
        "\n",
        "Porque hay una ligera mejora en la obtención del entrenamiento con más neuronas."
      ]
    },
    {
      "cell_type": "markdown",
      "metadata": {
        "id": "59eM76O1YekZ"
      },
      "source": [
        "# **5: Capa Flatten**\n",
        "\n",
        "En este ejercicio vamos a ver que ocurre cuando quitamos la capa flatten, para ello, escribe la red neuronal de la pregunta 1 y no pongas la capa Flatten.\n",
        "\n",
        "**pregunta 5 (0.5 puntos):** ¿puedes explicar porque da el error que da?\n",
        "\n"
      ]
    },
    {
      "cell_type": "code",
      "execution_count": null,
      "metadata": {
        "id": "ecfEVKEuG4iU"
      },
      "outputs": [],
      "source": [
        "### Tu código de la red neuronal sin capa flatten de la pregunta 6 aquí ###\n",
        "model_without_flatten = Sequential()\n",
        "model_without_flatten.add(Dense(128, activation='sigmoid'))\n",
        "model_without_flatten.add(Dense(10, activation='softmax'))\n",
        "model_without_flatten.compile(loss=\"sparse_categorical_crossentropy\", optimizer='adam', metrics=[\"accuracy\"])"
      ]
    },
    {
      "cell_type": "code",
      "execution_count": null,
      "metadata": {
        "id": "Hp94XoCDUE6g"
      },
      "outputs": [],
      "source": [
        "# result_without_flatten = model_without_flatten.fit(training_images, training_labels, epochs=10, batch_size=64, validation_data=(test_images, test_labels))"
      ]
    },
    {
      "cell_type": "markdown",
      "metadata": {
        "id": "-aNmrkkOZN6D"
      },
      "source": [
        "Tu respuesta a la pregunta 5 aquí:\n",
        "\n",
        "El error que da es porque espera un tensor de 1D y las imágenes son de 28x28. Espera imágenes de una dimensión porque se ha quitado la capa Flatten para indicarle a la red cual va a ser la entrada en la red en función del conjunto de datos."
      ]
    },
    {
      "cell_type": "markdown",
      "metadata": {
        "id": "f37cIr81ZYJj"
      },
      "source": [
        "# **6: Número de neuronas de la capa de salida**\n",
        "Considerad la capa final, la de salida de la red neuronal de la pregunta 1.\n",
        "\n",
        "**pregunta 6.1 (0.25 puntos)**: ¿Por qué son 10 las neuronas de la última capa?\n",
        "\n",
        "**pregunta 6.2 (0.25 puntos)**: ¿Qué pasaría si tuvieras una cantidad diferente a 10?\n",
        "\n",
        "Por ejemplo, intenta entrenar la red con 5, para ello utiliza la red neuronal de la pregunta 1 y cambia a 5 el número de neuronas en la última capa."
      ]
    },
    {
      "cell_type": "code",
      "execution_count": null,
      "metadata": {
        "colab": {
          "base_uri": "https://localhost:8080/"
        },
        "id": "FhbZkppYZOCS",
        "outputId": "4429dcfc-0d2c-4aa2-98c7-2a50ae8f1139"
      },
      "outputs": [],
      "source": [
        "### Tu código de la red neuronal con 5 neuronas en la capa de salida de la pregunta 7 aquí ###\n",
        "model_5_out = Sequential()\n",
        "model_5_out.add(Flatten(input_shape=[28,28]))\n",
        "model_5_out.add(Dense(128, activation='sigmoid'))\n",
        "model_5_out.add(Dense(5, activation='softmax'))\n",
        "model_5_out.compile(loss=\"sparse_categorical_crossentropy\", optimizer='adam', metrics=[\"accuracy\"])\n",
        "model_5_out.summary()"
      ]
    },
    {
      "cell_type": "code",
      "execution_count": null,
      "metadata": {
        "id": "tYcpZu11T_GC"
      },
      "outputs": [],
      "source": [
        "# result_5_out = model_5_out.fit(training_images, training_labels, epochs=10, batch_size=64, validation_data=(test_images, test_labels))"
      ]
    },
    {
      "cell_type": "code",
      "execution_count": null,
      "metadata": {
        "id": "YHxY-SJgNvXy"
      },
      "outputs": [],
      "source": [
        "# model_5_out.evaluate(test_images,test_labels)"
      ]
    },
    {
      "cell_type": "code",
      "execution_count": null,
      "metadata": {
        "id": "ryqToQvyN2JO"
      },
      "outputs": [],
      "source": [
        "# classifications = model_5_out.predict(test_images)\n",
        "# print(classifications[0])"
      ]
    },
    {
      "cell_type": "markdown",
      "metadata": {
        "id": "SLsQcq-6aUoD"
      },
      "source": [
        "Tu respuestas a la pregunta 6.1 aquí:\n",
        "\n",
        "Para obtener una salida por cada clase del conjunto de datos."
      ]
    },
    {
      "cell_type": "markdown",
      "metadata": {
        "id": "J1f_7ZFeaUu6"
      },
      "source": [
        "Tu respuestas a la pregunta 6.2 aquí:\n",
        "\n",
        "La red estaría intentando clasificar las imágenes en solo 5 clases en lugar de las 10 clases originales. Esto crearía un problema de clasificación diferente, donde la red intentaría agrupar las prendas de vestir en solo 5 categorías en lugar de distinguir entre las 10 clases detalladas en Fashion MNIS."
      ]
    },
    {
      "cell_type": "markdown",
      "metadata": {
        "id": "HNIBCkshaf2y"
      },
      "source": [
        "# 7: Aumento de epoch y su efecto en la red neuronal\n",
        "En este ejercicio vamos a ver el impacto de aumentar los epoch en el entrenamiento. Usando la red neuronal de la pregunta 1:\n",
        "\n",
        "**pregunta 7.1 (0.15 puntos)**\n",
        "* Intentad 15 epoch para su entrenamiento, probablemente obtendras un modelo con una pérdida mucho mejor que el que tiene 5.\n",
        "\n",
        "**pregunta 7.2 (0.15 puntos)**\n",
        "* Intenta ahora con 30 epoch para su entrenamiento, podrás ver que el valor de la pérdida deja de disminuir, y a veces aumenta.\n",
        "\n",
        "**pregunta 7.3 (0.30 puntos)**\n",
        "* ¿Porque que piensas que ocurre esto? Explica tu respuesta y da el nombre de este efecto si lo conoces."
      ]
    },
    {
      "cell_type": "code",
      "execution_count": null,
      "metadata": {
        "colab": {
          "base_uri": "https://localhost:8080/"
        },
        "id": "Cb5vk_imG4iZ",
        "outputId": "3f76820f-4206-4188-d2d8-a6940e12ae21"
      },
      "outputs": [],
      "source": [
        "### Tu código para 15 epoch aquí ###\n",
        "result_15_epochs = model.fit(training_images, training_labels, epochs=15, batch_size=64, validation_data=(test_images, test_labels))"
      ]
    },
    {
      "cell_type": "code",
      "execution_count": null,
      "metadata": {
        "colab": {
          "base_uri": "https://localhost:8080/"
        },
        "id": "I9jQ26Gda5cv",
        "outputId": "454518b9-f4ee-4a6b-d823-60a4a20e412d"
      },
      "outputs": [],
      "source": [
        "### Tu código para 30 epoch aquí ###\n",
        "result_30_epochs = model.fit(training_images, training_labels, epochs=30, batch_size=64, validation_data=(test_images, test_labels))"
      ]
    },
    {
      "cell_type": "markdown",
      "metadata": {
        "id": "Fs0fjzH4bmSR"
      },
      "source": [
        "Tu respuesta a la pregunta 7.3 aquí:\n",
        "\n",
        "Al aumentar el número de epochs a 30, el modelo podría comenzar a memorizar los datos de entrenamiento en lugar de generalizarlos. Esto puede llevar a un sobreajuste, donde el modelo se vuelve demasiado específico para los datos de entrenamiento y no puede generalizar bien a nuevos datos. Este fenómeno se llama sobreajuste (overfitting)."
      ]
    },
    {
      "cell_type": "markdown",
      "metadata": {
        "id": "HlIgNG4Yb_N6"
      },
      "source": [
        "# 8: Early stop\n",
        "En el ejercicio anterior, cuando entrenabas con epoch extras, tenías un problema en el que tu pérdida podía cambiar. Puede que te haya llevado un poco de tiempo esperar a que el entrenamiento lo hiciera,  y puede que hayas pensado \"¿no estaría bien si pudiera parar el entrenamiento cuando alcance un valor deseado?\", es decir, una precisión del 85% podría ser suficiente para ti, y si alcanzas eso después de 3 epoch, ¿por qué sentarte a esperar a que termine muchas más épocas? Como cualquier otro programa existen formas de parar la ejecución\n",
        "\n",
        "A partir del código de ejemplo, hacer una nueva función que tenga en cuenta la perdida (loss) y que pueda parar el código para evitar que ocurra el efeto secundario que vimos en el ejercicio 5."
      ]
    },
    {
      "cell_type": "code",
      "execution_count": null,
      "metadata": {
        "id": "b5UwceFUG4ic"
      },
      "outputs": [],
      "source": [
        "### Ejemplo de código\n",
        "\n",
        "class myCallback(tf.keras.callbacks.Callback):\n",
        "      def on_epoch_end(self, epoch, logs={}):\n",
        "        # if(logs.get('accuracy')> 0.85):\n",
        "        #       print(\"\\nAlcanzado el 85% de precisión, se cancela el entrenamiento!!\")\n",
        "        #       self.model.stop_training = True\n",
        "        if(logs.get('loss') <= 0.4):\n",
        "          print(\"\\nAlcanzado el 40% de loss, se cancela el entrenamiento!!\")\n",
        "          self.model.stop_training = True"
      ]
    },
    {
      "cell_type": "markdown",
      "metadata": {
        "id": "0Bjd8wGKccrn"
      },
      "source": [
        "**Ejercicio 8 *(0.75 puntos)***: Completa el siguiente código con una clase callback que una vez alcanzado el 40% de perdida detenga el entrenamiento."
      ]
    },
    {
      "cell_type": "code",
      "execution_count": null,
      "metadata": {
        "colab": {
          "base_uri": "https://localhost:8080/"
        },
        "id": "29LSfdOvc270",
        "outputId": "56004b55-677e-47d1-c6be-69e0f99dd30c"
      },
      "outputs": [],
      "source": [
        "import tensorflow as tf\n",
        "print(tf.__version__)\n",
        "\n",
        "### Tu código de la función callback para parar el entrenamiento de la red neuronal al 40% de loss aqui: ###\n",
        "\n",
        "callbacks = myCallback()\n",
        "mnist = tf.keras.datasets.fashion_mnist\n",
        "(training_images, training_labels) ,  (test_images, test_labels) = mnist.load_data()\n",
        "\n",
        "training_images = training_images/255.0\n",
        "test_images = test_images/255.0\n",
        "\n",
        "model = tf.keras.models.Sequential([tf.keras.layers.Flatten(),\n",
        "                                    tf.keras.layers.Dense(512, activation=tf.nn.relu),\n",
        "                                    tf.keras.layers.Dense(10, activation=tf.nn.softmax)])\n",
        "\n",
        "model.compile(optimizer = 'adam',\n",
        "              loss = 'sparse_categorical_crossentropy',\n",
        "              metrics=['accuracy'])\n",
        "\n",
        "model.fit(training_images, training_labels, epochs=50, callbacks=[callbacks])"
      ]
    },
    {
      "cell_type": "markdown",
      "metadata": {
        "id": "M_yZ9B8gTFqR"
      },
      "source": [
        "## 9. Unidades de activación"
      ]
    },
    {
      "cell_type": "markdown",
      "metadata": {
        "id": "MuVNxmXSTFqR"
      },
      "source": [
        "En este ejercicio, vamos a evaluar la importancia de utilizar las unidades de activación adecuadas. Como hemos visto en clase, funciones de activación como sigmoid han dejado de utilizarse en favor de otras unidades como ReLU.\n",
        "\n",
        "**Ejercicio 9 *(0.75 puntos)***: Partiendo de una red sencilla como la desarrollada en el Trabajo 1, escribir un breve análisis comparando la utilización de unidades sigmoid y ReLU (por ejemplo, se pueden comentar aspectos como velocidad de convergencia, métricas obtenidas...). Explicar por qué pueden darse estas diferencias. Opcionalmente, comparar con otras activaciones disponibles en Keras.\n",
        "\n",
        "*Pista: Usando redes más grandes se hace más sencillo apreciar las diferencias. Es mejor utilizar al menos 3 o 4 capas densas.*"
      ]
    },
    {
      "cell_type": "code",
      "execution_count": null,
      "metadata": {
        "colab": {
          "base_uri": "https://localhost:8080/"
        },
        "id": "hoYUajTuTFqS",
        "outputId": "46be78a3-cf60-4469-f202-2c4c9b9ee9e4"
      },
      "outputs": [],
      "source": [
        "## Tu código y comentarios de texto aquí\n",
        "## Puedes incluir tantas celdas como quieras\n",
        "## No olvides utilizar celdas de Markdown para texto\n",
        "### Tu código para la red neuronal de la pregunta 2 aquí ###\n",
        "model_sigmoid = Sequential()\n",
        "model_sigmoid.add(Flatten(input_shape=[28,28]))\n",
        "model_sigmoid.add(Dense(128, activation='sigmoid'))\n",
        "model_sigmoid.add(Dense(128, activation='sigmoid'))\n",
        "model_sigmoid.add(Dense(128, activation='sigmoid'))\n",
        "model_sigmoid.add(Dense(10, activation='softmax'))\n",
        "model_sigmoid.compile(loss=\"sparse_categorical_crossentropy\", optimizer='adam', metrics=[\"accuracy\"])\n",
        "model_sigmoid.summary()\n"
      ]
    },
    {
      "cell_type": "code",
      "execution_count": null,
      "metadata": {
        "colab": {
          "base_uri": "https://localhost:8080/"
        },
        "id": "6APZJN5hWWHj",
        "outputId": "ab845e41-2741-443b-873f-8f74097d1cbd"
      },
      "outputs": [],
      "source": [
        "model_relu = Sequential()\n",
        "model_relu.add(Flatten(input_shape=[28,28]))\n",
        "model_relu.add(Dense(128, activation='relu'))\n",
        "model_relu.add(Dense(128, activation='relu'))\n",
        "model_relu.add(Dense(128, activation='relu'))\n",
        "model_relu.add(Dense(10, activation='softmax'))\n",
        "model_relu.compile(loss=\"sparse_categorical_crossentropy\", optimizer='adam', metrics=[\"accuracy\"])\n",
        "model_relu.summary()\n"
      ]
    },
    {
      "cell_type": "code",
      "execution_count": null,
      "metadata": {
        "colab": {
          "base_uri": "https://localhost:8080/"
        },
        "id": "fVHyKF6xWVLT",
        "outputId": "6de47d2f-1210-4094-90c1-81eff1e7bb3e"
      },
      "outputs": [],
      "source": [
        "result_sigmoid = model_sigmoid.fit(training_images, training_labels, epochs=10, batch_size=64, validation_data=(test_images, test_labels))"
      ]
    },
    {
      "cell_type": "code",
      "execution_count": null,
      "metadata": {
        "colab": {
          "base_uri": "https://localhost:8080/"
        },
        "id": "kVlYxfDNW3CX",
        "outputId": "aba136a3-73a6-475a-f990-76241ce71d64"
      },
      "outputs": [],
      "source": [
        "model_sigmoid.evaluate(test_images,test_labels)"
      ]
    },
    {
      "cell_type": "code",
      "execution_count": null,
      "metadata": {
        "colab": {
          "base_uri": "https://localhost:8080/"
        },
        "id": "XYDZ02dkWkHU",
        "outputId": "fd8fff28-b969-4fe6-dff2-d3d30db47d28"
      },
      "outputs": [],
      "source": [
        "result_relu = model_relu.fit(training_images, training_labels, epochs=10, batch_size=64, validation_data=(test_images, test_labels))"
      ]
    },
    {
      "cell_type": "code",
      "execution_count": null,
      "metadata": {
        "colab": {
          "base_uri": "https://localhost:8080/"
        },
        "id": "vbQKNbZjW3yS",
        "outputId": "7c8cf3a8-6625-48cf-a968-98570a71f767"
      },
      "outputs": [],
      "source": [
        "model_relu.evaluate(test_images,test_labels)"
      ]
    },
    {
      "cell_type": "code",
      "execution_count": null,
      "metadata": {
        "colab": {
          "base_uri": "https://localhost:8080/",
          "height": 451
        },
        "id": "1LVaFX7DWRYJ",
        "outputId": "9f09484c-c603-4615-9e1f-eba692c7e7fb"
      },
      "outputs": [],
      "source": [
        "pd.DataFrame(result_sigmoid.history).plot(figsize=(8,5))\n",
        "plt.grid(True)\n",
        "plt.gca().set_ylim(0,1)\n",
        "plt.show()"
      ]
    },
    {
      "cell_type": "code",
      "execution_count": null,
      "metadata": {
        "colab": {
          "base_uri": "https://localhost:8080/",
          "height": 451
        },
        "id": "wSzyLcSNWxIF",
        "outputId": "39442103-bf60-45fb-e114-09de5dd36845"
      },
      "outputs": [],
      "source": [
        "pd.DataFrame(result_relu.history).plot(figsize=(8,5))\n",
        "plt.grid(True)\n",
        "plt.gca().set_ylim(0,1)\n",
        "plt.show()"
      ]
    },
    {
      "cell_type": "markdown",
      "metadata": {
        "id": "ajpY9zOLXknT"
      },
      "source": [
        "ReLu tiende a converger más rápido que sigmoid, se puede observar en las gráficas de arriba, en la perdida empieza con menos perdida y desciende más rápido y llega a mejor perdida que con sigmoid. En términos de precisión hay una ligera mejora en la precisión del modelo con la función ReLU.\n",
        "La función ReLU es menos propensa a neuronas muertas que la sigmoid. La sigmoid es más usada para problemas de clasificación binario en el rango de 0-1.\n"
      ]
    },
    {
      "cell_type": "markdown",
      "metadata": {
        "id": "pu6RbUFKTFqT"
      },
      "source": [
        "## 10. Inicialización de parámetros"
      ]
    },
    {
      "cell_type": "markdown",
      "metadata": {
        "id": "Abmm05UPTFqU"
      },
      "source": [
        "En este ejercicio, vamos a evaluar la importancia de una correcta inicialización de parámetros en una red neuronal.\n",
        "\n",
        "**Ejercicio 10 *(0.75 puntos)***: Partiendo de una red similar a la del ejercicio anterior (usando ya ReLUs), comentar las diferencias que se aprecian en el entrenamiento al utilizar distintas estrategias de inicialización de parámetros. Para ello, inicializar todas las capas con las siguientes estrategias, disponibles en Keras, y analizar sus diferencias:\n",
        "\n",
        "* Inicialización con ceros.\n",
        "* Inicialización con una variable aleatoria normal.\n",
        "* Inicialización con los valores por defecto de Keras para una capa Dense (estrategia *glorot uniform*)"
      ]
    },
    {
      "cell_type": "code",
      "execution_count": null,
      "metadata": {
        "id": "qcMt7pSkTFqU"
      },
      "outputs": [],
      "source": [
        "## Tu código y comentarios de texto aquí\n",
        "## Puedes incluir tantas celdas como quieras\n",
        "## No olvides utilizar celdas de Markdown para texto\n",
        "model_params_zeros = Sequential()\n",
        "model_params_zeros.add(Flatten(input_shape=[28,28]))\n",
        "model_params_zeros.add(Dense(128, activation='relu', kernel_initializer='zeros', bias_initializer='zeros'))\n",
        "model_params_zeros.add(Dense(128, activation='relu', kernel_initializer='zeros', bias_initializer='zeros'))\n",
        "model_params_zeros.add(Dense(128, activation='relu', kernel_initializer='zeros', bias_initializer='zeros'))\n",
        "model_params_zeros.add(Dense(10, activation='softmax'))\n",
        "model_params_zeros.compile(loss=\"sparse_categorical_crossentropy\", optimizer='adam', metrics=[\"accuracy\"])\n",
        "# model_params_zeros.summary()\n"
      ]
    },
    {
      "cell_type": "code",
      "execution_count": null,
      "metadata": {
        "id": "C-PfncIKYurd"
      },
      "outputs": [],
      "source": [
        "model_params_random = Sequential()\n",
        "model_params_random.add(Flatten(input_shape=[28,28]))\n",
        "model_params_random.add(Dense(128, activation='relu', kernel_initializer='random_normal', bias_initializer='random_normal'))\n",
        "model_params_random.add(Dense(128, activation='relu', kernel_initializer='random_normal', bias_initializer='random_normal'))\n",
        "model_params_random.add(Dense(128, activation='relu', kernel_initializer='random_normal', bias_initializer='random_normal'))\n",
        "model_params_random.add(Dense(10, activation='softmax'))\n",
        "model_params_random.compile(loss=\"sparse_categorical_crossentropy\", optimizer='adam', metrics=[\"accuracy\"])\n",
        "# model_params_random.summary()"
      ]
    },
    {
      "cell_type": "code",
      "execution_count": null,
      "metadata": {
        "id": "u7P_3MKnZF8F"
      },
      "outputs": [],
      "source": [
        "initializer = keras.initializers.GlorotUniform()\n",
        "values = initializer(shape=(2, 2))"
      ]
    },
    {
      "cell_type": "code",
      "execution_count": null,
      "metadata": {
        "colab": {
          "base_uri": "https://localhost:8080/"
        },
        "id": "b9KCj7sTZWIf",
        "outputId": "7ecf2ec2-d7c6-45d4-d6c3-813918c79be4"
      },
      "outputs": [],
      "source": [
        "model_params_glorot = Sequential()\n",
        "model_params_glorot.add(Flatten(input_shape=[28,28]))\n",
        "model_params_glorot.add(Dense(128, activation='relu', kernel_initializer=initializer, bias_initializer=initializer))\n",
        "model_params_glorot.add(Dense(128, activation='relu', kernel_initializer=initializer, bias_initializer=initializer))\n",
        "model_params_glorot.add(Dense(128, activation='relu', kernel_initializer=initializer, bias_initializer=initializer))\n",
        "model_params_glorot.add(Dense(10, activation='softmax'))\n",
        "model_params_glorot.compile(loss=\"sparse_categorical_crossentropy\", optimizer='adam', metrics=[\"accuracy\"])\n",
        "# model_params_glorot.summary()"
      ]
    },
    {
      "cell_type": "code",
      "execution_count": null,
      "metadata": {
        "colab": {
          "base_uri": "https://localhost:8080/"
        },
        "id": "O9MeeWn1ZpP8",
        "outputId": "697ca41c-e8f9-4598-f2ef-6eeaa5eba141"
      },
      "outputs": [],
      "source": [
        "result_params_zeros = model_params_zeros.fit(training_images, training_labels, epochs=10, batch_size=64, validation_data=(test_images, test_labels))\n",
        "model_params_zeros.evaluate(test_images,test_labels)"
      ]
    },
    {
      "cell_type": "code",
      "execution_count": null,
      "metadata": {
        "colab": {
          "base_uri": "https://localhost:8080/"
        },
        "id": "tbvccespZwCJ",
        "outputId": "a6d6b6d8-4ad3-41ce-a6fc-ed5d1437fe33"
      },
      "outputs": [],
      "source": [
        "result_params_randoms = model_params_random.fit(training_images, training_labels, epochs=10, batch_size=64, validation_data=(test_images, test_labels))\n",
        "model_params_random.evaluate(test_images,test_labels)"
      ]
    },
    {
      "cell_type": "code",
      "execution_count": null,
      "metadata": {
        "colab": {
          "base_uri": "https://localhost:8080/"
        },
        "id": "TqZ6M9LIZzje",
        "outputId": "9f1fe037-a46f-43c2-c6e2-6aeca636e6e8"
      },
      "outputs": [],
      "source": [
        "result_params_glorot = model_params_glorot.fit(training_images, training_labels, epochs=10, batch_size=64, validation_data=(test_images, test_labels))\n",
        "model_params_glorot.evaluate(test_images,test_labels)"
      ]
    },
    {
      "cell_type": "code",
      "execution_count": null,
      "metadata": {
        "colab": {
          "base_uri": "https://localhost:8080/"
        },
        "id": "lbrIW1KwaUo9",
        "outputId": "84866193-b915-409d-c948-8f16d11c3c65"
      },
      "outputs": [],
      "source": [
        "classifications = model_params_zeros.predict(test_images)\n",
        "print(classifications[0])"
      ]
    },
    {
      "cell_type": "code",
      "execution_count": null,
      "metadata": {
        "colab": {
          "base_uri": "https://localhost:8080/"
        },
        "id": "V7HUA7fjaYgj",
        "outputId": "d410aeed-c780-45da-e607-0f9fed697ff0"
      },
      "outputs": [],
      "source": [
        "classifications = model_params_random.predict(test_images)\n",
        "print(classifications[0])"
      ]
    },
    {
      "cell_type": "code",
      "execution_count": null,
      "metadata": {
        "colab": {
          "base_uri": "https://localhost:8080/"
        },
        "id": "AlRP10QeaY7y",
        "outputId": "96665321-5c72-4f81-cc60-10bb1e7bb7af"
      },
      "outputs": [],
      "source": [
        "classifications = model_params_glorot.predict(test_images)\n",
        "print(classifications[0])"
      ]
    },
    {
      "cell_type": "markdown",
      "metadata": {
        "id": "LznP4IAy89ir"
      },
      "source": [
        "Respuesta pregunta 10:\n",
        "\n",
        "En la inicialización con ceros la pérdida y la precisión no mejora durante el entrenamiento. Al inicializar todos los pesos y sesgos a cero provoca que todas las neuronas en las mismas capas se comporten de la misma manera. Eso provoca que la red actúe como si solo tuviera una sola neurona en cada capa y por consiguiente no aprende.\n",
        "\n",
        "En la inicialización aleatorio con una distribución normal la red pudo aprender y mejorar su rendimiento en el conjunto de prueba. Esta inicialización facilita el aprendizaje de la red. Con esta aleatoriedad la red es capaz de aprender más patrones.\n",
        "\n",
        "La última inicialización no se obtiene mejoras sustanciales con respecto a la inicialización aleatoria.\n",
        "\n"
      ]
    },
    {
      "cell_type": "markdown",
      "metadata": {
        "id": "NqIAyVWrTFqV"
      },
      "source": [
        "## 11. Optimizadores"
      ]
    },
    {
      "cell_type": "markdown",
      "metadata": {
        "id": "lcYj29hYTFqW"
      },
      "source": [
        "**Ejercicio 11 *(0.75 puntos)***: Partiendo de una red similar a la del ejercicio anterior (utilizando la mejor estrategia de inicialización observada), comparar y analizar las diferencias que se observan  al entrenar con varios de los optimizadores vistos en clase, incluyendo SGD como optimizador básico (se puede explorar el espacio de hiperparámetros de cada optimizador, aunque para optimizadores más avanzados del estilo de adam y RMSprop es buena idea dejar los valores por defecto provistos por Keras)."
      ]
    },
    {
      "cell_type": "code",
      "execution_count": null,
      "metadata": {
        "id": "0fWDiqXvTFqW"
      },
      "outputs": [],
      "source": [
        "## Tu código y comentarios de texto aquí\n",
        "## Puedes incluir tantas celdas como quieras\n",
        "## No olvides utilizar celdas de Markdown para texto\n",
        "\n",
        "# Adam\n",
        "opt_adam = tf.keras.optimizers.Adam()\n",
        "\n",
        "model_adam = Sequential()\n",
        "model_adam.add(Flatten(input_shape=[28,28]))\n",
        "model_adam.add(Dense(128, activation='relu', kernel_initializer='random_normal', bias_initializer='random_normal'))\n",
        "model_adam.add(Dense(128, activation='relu', kernel_initializer='random_normal', bias_initializer='random_normal'))\n",
        "model_adam.add(Dense(128, activation='relu', kernel_initializer='random_normal', bias_initializer='random_normal'))\n",
        "model_adam.add(Dense(10, activation='softmax'))\n",
        "model_adam.compile(loss=\"sparse_categorical_crossentropy\", optimizer=opt_adam, metrics=[\"accuracy\"])\n"
      ]
    },
    {
      "cell_type": "code",
      "execution_count": null,
      "metadata": {
        "id": "8Q8N5QzIA1eV"
      },
      "outputs": [],
      "source": [
        "# AdaGrad\n",
        "opt_adagrad = keras.optimizers.Adagrad()\n",
        "\n",
        "model_adagrad = Sequential()\n",
        "model_adagrad.add(Flatten(input_shape=[28,28]))\n",
        "model_adagrad.add(Dense(128, activation='relu', kernel_initializer='random_normal', bias_initializer='random_normal'))\n",
        "model_adagrad.add(Dense(128, activation='relu', kernel_initializer='random_normal', bias_initializer='random_normal'))\n",
        "model_adagrad.add(Dense(128, activation='relu', kernel_initializer='random_normal', bias_initializer='random_normal'))\n",
        "model_adagrad.add(Dense(10, activation='softmax'))\n",
        "model_adagrad.compile(loss=\"sparse_categorical_crossentropy\", optimizer=opt_adagrad, metrics=[\"accuracy\"])"
      ]
    },
    {
      "cell_type": "code",
      "execution_count": null,
      "metadata": {
        "id": "L6lhX7_nA294"
      },
      "outputs": [],
      "source": [
        "# RMSProp\n",
        "opt_rmsprop = tf.keras.optimizers.RMSprop()\n",
        "\n",
        "model_rmsprop = Sequential()\n",
        "model_rmsprop.add(Flatten(input_shape=[28,28]))\n",
        "model_rmsprop.add(Dense(128, activation='relu', kernel_initializer='random_normal', bias_initializer='random_normal'))\n",
        "model_rmsprop.add(Dense(128, activation='relu', kernel_initializer='random_normal', bias_initializer='random_normal'))\n",
        "model_rmsprop.add(Dense(128, activation='relu', kernel_initializer='random_normal', bias_initializer='random_normal'))\n",
        "model_rmsprop.add(Dense(10, activation='softmax'))\n",
        "model_rmsprop.compile(loss=\"sparse_categorical_crossentropy\", optimizer=opt_rmsprop, metrics=[\"accuracy\"])"
      ]
    },
    {
      "cell_type": "code",
      "execution_count": null,
      "metadata": {
        "id": "xZ3KtIgAA-XU"
      },
      "outputs": [],
      "source": [
        "# SGD\n",
        "opt_sgd = tf.keras.optimizers.SGD()\n",
        "\n",
        "model_sgd = Sequential()\n",
        "model_sgd.add(Flatten(input_shape=[28,28]))\n",
        "model_sgd.add(Dense(128, activation='relu', kernel_initializer='random_normal', bias_initializer='random_normal'))\n",
        "model_sgd.add(Dense(128, activation='relu', kernel_initializer='random_normal', bias_initializer='random_normal'))\n",
        "model_sgd.add(Dense(128, activation='relu', kernel_initializer='random_normal', bias_initializer='random_normal'))\n",
        "model_sgd.add(Dense(10, activation='softmax'))\n",
        "model_sgd.compile(loss=\"sparse_categorical_crossentropy\", optimizer=opt_sgd, metrics=[\"accuracy\"])"
      ]
    },
    {
      "cell_type": "code",
      "execution_count": null,
      "metadata": {
        "colab": {
          "base_uri": "https://localhost:8080/"
        },
        "id": "q7qmgp-OBLgd",
        "outputId": "da98bcf9-e80e-4699-fcab-c28e5157aff3"
      },
      "outputs": [],
      "source": [
        "result_adam = model_adam.fit(training_images, training_labels, epochs=10, batch_size=64, validation_data=(test_images, test_labels))\n",
        "print(f'ADAM Evaluate: {model_adam.evaluate(test_images,test_labels)}')\n",
        "classifications_adam = model_adam.predict(test_images)\n",
        "print(f'ADAM Classifications: {classifications_adam[0]}\\n')\n",
        "\n",
        "result_adagrad = model_adagrad.fit(training_images, training_labels, epochs=10, batch_size=64, validation_data=(test_images, test_labels))\n",
        "print(f'AdaGrad Evaluate: {model_adagrad.evaluate(test_images,test_labels)}')\n",
        "classifications_adagrad = model_adagrad.predict(test_images)\n",
        "print(f'AdaGrad Classifications: {classifications_adagrad[0]}\\n')\n",
        "\n",
        "result_rmsprop = model_rmsprop.fit(training_images, training_labels, epochs=10, batch_size=64, validation_data=(test_images, test_labels))\n",
        "print(f'RMSProp Evaluate: {model_rmsprop.evaluate(test_images,test_labels)}')\n",
        "classifications_rmsprop = model_rmsprop.predict(test_images)\n",
        "print(f'RMSProp Classifications: {classifications_rmsprop[0]}\\n')\n",
        "\n",
        "result_sgd = model_sgd.fit(training_images, training_labels, epochs=10, batch_size=64, validation_data=(test_images, test_labels))\n",
        "print(f'SGD Evaluate: {model_sgd.evaluate(test_images,test_labels)}')\n",
        "classifications_sgd = model_sgd.predict(test_images)\n",
        "print(f'SGD Classifications: {classifications_sgd[0]}\\n')\n",
        "\n"
      ]
    },
    {
      "cell_type": "markdown",
      "metadata": {
        "id": "5W2ueFHSohvM"
      },
      "source": [
        "Respuesta al ejercicico 11:\n",
        "\n",
        "Para el optimizador Adam se ha obtenido un 87,76% de precisión en la validación, es el mejor resultado junto con el optimizador RMSProp. En este caso, ha mostrado un buen rendimiento y una convergencia rápida en comparación con otros optimizadores.\n",
        "Para el optimizador AdaGrad el resultado es el peor de todos en comparación con una precisión de 70,9%. AdaGrad puede converger demasiado rápido para problemas complejos, lo que puede llevar a soluciones subóptimas.\n",
        "RMSProp maneja mejor el problema de AdaGrad de converger demasiado rápido, en este caso se ha observado una convergencia más estable. Por último, SGD ajusta los pesos en función del gradiente calculado en cada lote de datos.  Aunque SGD es simple, puede ser difícil de entrenar y puede llevar más tiempo converger en comparación con optimizadores adaptativos como Adam y RMSProp.\n"
      ]
    },
    {
      "cell_type": "markdown",
      "metadata": {
        "id": "BkfTFoJOTFqZ"
      },
      "source": [
        "## 12. Regularización y red final *(1.25 puntos)*"
      ]
    },
    {
      "cell_type": "markdown",
      "metadata": {
        "id": "f6CQhK7ZTFqZ"
      },
      "source": [
        "**Ejercicio 12 *(1 punto)***: Entrenar una red final que sea capaz de obtener una accuracy en el validation set cercana al 90%. Para ello, combinar todo lo aprendido anteriormente y utilizar técnicas de regularización para evitar overfitting. Algunos de los elementos que pueden tenerse en cuenta son los siguientes.\n",
        "\n",
        "* Número de capas y neuronas por capa\n",
        "* Optimizadores y sus parámetros\n",
        "* Batch size\n",
        "* Unidades de activación\n",
        "* Uso de capas dropout, regularización L2, regularización L1...\n",
        "* Early stopping (se puede aplicar como un callback de Keras, o se puede ver un poco \"a ojo\" cuándo el modelo empieza a caer en overfitting y seleccionar el número de epochs necesarias)\n",
        "* Batch normalization\n",
        "\n",
        "Si los modelos entrenados anteriormente ya se acercaban al valor requerido de accuracy, probar distintas estrategias igualmente y comentar los resultados.\n",
        "\n",
        "Explicar brevemente la estrategia seguida y los modelos probados para obtener el modelo final, que debe verse entrenado en este Notebook. No es necesario guardar el entrenamiento de todos los modelos que se han probado, es suficiente con explicar cómo se ha llegado al modelo final."
      ]
    },
    {
      "cell_type": "code",
      "execution_count": null,
      "metadata": {
        "id": "AUJ5AtunTFqa"
      },
      "outputs": [],
      "source": [
        "## Tu modelo y comentarios de texto aquí\n",
        "## Puedes incluir tantas celdas como quieras\n",
        "## No olvides utilizar celdas de Markdown para texto"
      ]
    },
    {
      "cell_type": "code",
      "execution_count": null,
      "metadata": {
        "colab": {
          "base_uri": "https://localhost:8080/"
        },
        "id": "5R4ML32IFU2k",
        "outputId": "b404cc6a-f02f-4c72-9032-4e0fd61f1254"
      },
      "outputs": [],
      "source": [
        "from tensorflow.keras.regularizers import l2\n",
        "\n",
        "# Carga del conjunto de datos Fashion MNIST\n",
        "mnist = tf.keras.datasets.fashion_mnist\n",
        "(training_images, training_labels), (test_images, test_labels) = mnist.load_data()\n",
        "\n",
        "\n",
        "training_images = training_images/255.0\n",
        "test_images = test_images/255.0\n",
        "\n",
        "# Limitar el número de muestras para acelerar el entrenamiento\n",
        "# samples = 900000\n",
        "# training_images = training_images[:samples]/255.0\n",
        "# test_images = test_images[:samples]/255.0\n",
        "\n",
        "# training_labels = training_labels[:samples]\n",
        "# test_labels =test_labels[:samples]\n",
        "\n",
        "# Construcción del modelo de la red neuronal\n",
        "model_final = Sequential()\n",
        "model_final.add(Flatten(input_shape=[28, 28]))  # Capa de entrada: aplanar las imágenes 28x28\n",
        "model_final.add(Dense(256, activation='relu', kernel_initializer='random_normal', bias_initializer='random_normal'))\n",
        "model_final.add(BatchNormalization())  # Capa de normalización para estabilizar el aprendizaje\n",
        "model_final.add(Dropout(0.2))  # Dropout para prevenir el sobreajuste\n",
        "model_final.add(Dense(256, activation='relu', kernel_initializer='random_normal', bias_initializer='random_normal'))\n",
        "model_final.add(BatchNormalization())\n",
        "model_final.add(Dropout(0.2))\n",
        "model_final.add(Dense(256, activation='relu', kernel_initializer='random_normal', bias_initializer='random_normal'))\n",
        "model_final.add(BatchNormalization())\n",
        "model_final.add(Dropout(0.2))\n",
        "model_final.add(Dense(10, activation='softmax'))  # Capa de salida: 10 clases para las categorías de moda\n",
        "\n",
        "# Compilación del modelo con sparse_categorical_crossentropy como función de pérdida\n",
        "model_final.compile(optimizer=keras.optimizers.Adam(),\n",
        "                    loss='sparse_categorical_crossentropy',  # Usar sparse_categorical_crossentropy aquí\n",
        "                    metrics=['accuracy'])\n",
        "\n",
        "# Configuración de EarlyStopping para evitar el sobreajuste\n",
        "early_stopping = EarlyStopping(monitor='val_loss', patience=5)\n",
        "\n",
        "# Entrenamiento del modelo\n",
        "history = model_final.fit(training_images, training_labels,\n",
        "                         epochs=50,\n",
        "                         batch_size=64,\n",
        "                         validation_data=(test_images, test_labels),\n",
        "                         callbacks=[early_stopping])\n",
        "\n",
        "# Evaluación del modelo en el conjunto de prueba\n",
        "test_loss, test_accuracy = model_final.evaluate(test_images, test_labels)\n",
        "\n",
        "# Impresión de la precisión en el conjunto de prueba\n",
        "print(f'Precisión en el conjunto de prueba: {test_accuracy * 100:.2f}%')\n"
      ]
    },
    {
      "cell_type": "markdown",
      "metadata": {
        "id": "RaWeKoBwwHKT"
      },
      "source": [
        "No se ha podido conseguir un modelo con el que obtener una precesión de 90% o más. En elcódigo se explica que se hace encada aprte del código. En general: Se divide el conjunto de datos para obtener unas muestras y hacer el entrenamiento mas raido y poder agilizar el proceso de busqueda de párametros.\n",
        "La función de perdida elegida ha sido Adam que es la que mejores resultados a dado y como función de salida la softmax por razones explicadas anteriormente.\n",
        "Se ha realizado un rpoceso de pruebas de hiperparametros para encontrar el mejor rt de la función de perdidad que finalamente se decide dejar el de por defecto 0.001. Los mejores valores de Dropout son por debajo de 0.5. Tampoco se han obtenido buenos resultados aumentendo el número de capas, tampoco el bach. No ha hecho falta poner más de 50 epocas porque para antes de tiempo devido a la fucnión EarlyStopping.\n",
        "El mejor número de neuronas es de 256 en cada capa.     "
      ]
    },
    {
      "cell_type": "code",
      "execution_count": null,
      "metadata": {
        "colab": {
          "base_uri": "https://localhost:8080/",
          "height": 451
        },
        "id": "sEix9xbYViyn",
        "outputId": "b4a73f82-da98-4397-e36a-9b18a49ae85b"
      },
      "outputs": [],
      "source": [
        "pd.DataFrame(history.history).plot(figsize=(8,5))\n",
        "plt.grid(True)\n",
        "plt.gca().set_ylim(0,1)\n",
        "plt.show()"
      ]
    }
  ],
  "metadata": {
    "accelerator": "GPU",
    "colab": {
      "gpuType": "T4",
      "include_colab_link": true,
      "name": "Actividad 1: Redes Neuronales.ipynb",
      "provenance": []
    },
    "kernelspec": {
      "display_name": "Python 3",
      "name": "python3"
    },
    "language_info": {
      "codemirror_mode": {
        "name": "ipython",
        "version": 3
      },
      "file_extension": ".py",
      "mimetype": "text/x-python",
      "name": "python",
      "nbconvert_exporter": "python",
      "pygments_lexer": "ipython3",
      "version": "3.10.9"
    }
  },
  "nbformat": 4,
  "nbformat_minor": 0
}
