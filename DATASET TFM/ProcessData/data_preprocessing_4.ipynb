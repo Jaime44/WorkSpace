{
 "cells": [
  {
   "cell_type": "code",
   "execution_count": 1,
   "metadata": {},
   "outputs": [
    {
     "name": "stdout",
     "output_type": "stream",
     "text": [
      "El código se está ejecutando en un entorno local.\n"
     ]
    }
   ],
   "source": [
    "import os\n",
    "import sys\n",
    "\n",
    "# Comprueba si el código se está ejecutando en Google Colab\n",
    "try:\n",
    "    import google.colab\n",
    "    IN_COLAB = True\n",
    "except:\n",
    "    IN_COLAB = False\n",
    "\n",
    "path_absolute = ''\n",
    "if IN_COLAB:\n",
    "    print(\"El código se está ejecutando en Google Colab.\")\n",
    "    from google.colab import drive\n",
    "    import tensorflow as tf\n",
    "    print(\"Versión de TensorFlow:\", tf.__version__)\n",
    "    print(\"Dispositivos disponibles:\", tf.config.list_physical_devices())\n",
    "\n",
    "    drive.mount('/content/drive')\n",
    "    path_absolute = '/content/drive/Othercomputers/Mi_portátil/TFM/WorkSpace/DATASET TFM'\n",
    "\n",
    "    path_workspace = '/content/drive/Othercomputers/Mi_portátil/TFM/WorkSpace/'\n",
    "\n",
    "    # Cambia al directorio de tu carpeta en Google Drive\n",
    "    os.chdir(path_absolute)\n",
    "\n",
    "    # Lista los archivos y carpetas en el directorio actual\n",
    "    contenido_carpeta = os.listdir(path_absolute)\n",
    "    print(\"Contenido de la carpeta en Google Drive:\")\n",
    "    print(contenido_carpeta)\n",
    "\n",
    "    # Verificar la GPU\n",
    "    device_name = tf.test.gpu_device_name()\n",
    "    if device_name != '/device:GPU:0':\n",
    "        raise SystemError('GPU no encontrada')\n",
    "    print(f'Encontrada GPU: {device_name}')\n",
    "\n",
    "    # Habilitar la GPU para TensorFlow\n",
    "    physical_devices = tf.config.list_physical_devices('GPU')\n",
    "    if len(physical_devices) > 0:\n",
    "        tf.config.experimental.set_memory_growth(physical_devices[0], True)\n",
    "        print('Memoria de la GPU configurada dinámicamente')\n",
    "    else:\n",
    "        print('No se encontraron dispositivos GPU configurables')\n",
    "else:\n",
    "    print(\"El código se está ejecutando en un entorno local.\")\n",
    "    path_workspace ='C:/Users/jaime/OneDrive - Universidad de Málaga/Escritorio/UNIR/TFM/WorkSpace/'\n",
    "    path_absolute = os.getcwd().replace(\"\\\\\", \"/\")\n",
    "    path_absolute = 'C:/Users/jaime/OneDrive - Universidad de Málaga/Escritorio/UNIR/TFM/WorkSpace/DATASET TFM'\n",
    "\n",
    "datasets_path = \"/ml-25m/\"\n",
    "path_absolute = path_absolute+datasets_path\n",
    "\n",
    "\n",
    "sys.path.append(path_workspace)"
   ]
  },
  {
   "cell_type": "markdown",
   "metadata": {},
   "source": [
    "Se ha elejido los 5 tags mas relevantes por pelicula y se ha fusionado con el conjunto de datos de genome tags para tener una clumna con los 5 tas más relevantes por pelicula. "
   ]
  },
  {
   "cell_type": "code",
   "execution_count": 2,
   "metadata": {},
   "outputs": [],
   "source": [
    "import pandas as pd\n",
    "import Utils.utils as util"
   ]
  },
  {
   "cell_type": "code",
   "execution_count": null,
   "metadata": {},
   "outputs": [],
   "source": [
    "ratings= pd.read_csv(path_absolute+'ratings.csv')\n",
    "movies= pd.read_csv(path_absolute+'movies.csv')"
   ]
  },
  {
   "cell_type": "code",
   "execution_count": null,
   "metadata": {},
   "outputs": [],
   "source": [
    "print(ratings.shape)\n",
    "ratings.head()\n"
   ]
  },
  {
   "cell_type": "code",
   "execution_count": null,
   "metadata": {},
   "outputs": [],
   "source": [
    "print(movies.shape)\n",
    "movies.head()\n"
   ]
  },
  {
   "cell_type": "code",
   "execution_count": null,
   "metadata": {},
   "outputs": [],
   "source": [
    "num_unique_movieId = movies['movieId'].nunique()\n",
    "num_unique_title = movies['title'].nunique()\n",
    "\n",
    "print(\"Número de valores únicos en la columna movieId:\", num_unique_movieId)\n",
    "print(\"Número de valores únicos en la columna title:\", num_unique_title)"
   ]
  },
  {
   "cell_type": "code",
   "execution_count": null,
   "metadata": {},
   "outputs": [],
   "source": [
    "# Contar el número de valores únicos en la columna movieId\n",
    "num_unique_userID = ratings['userId'].nunique()\n",
    "num_unique_movieId = ratings['movieId'].nunique()\n",
    "\n",
    "print(\"Número de valores únicos en la columna userId:\", num_unique_userID)\n",
    "print(\"Número de valores únicos en la columna movieId:\", num_unique_movieId)"
   ]
  },
  {
   "cell_type": "code",
   "execution_count": null,
   "metadata": {},
   "outputs": [],
   "source": [
    "merged_df_ratings_movies = pd.merge(ratings, movies, on='movieId', suffixes=('_df1', '_df2'))"
   ]
  },
  {
   "cell_type": "code",
   "execution_count": null,
   "metadata": {},
   "outputs": [],
   "source": [
    "print(merged_df_ratings_movies.shape)\n",
    "merged_df_ratings_movies.head()"
   ]
  },
  {
   "cell_type": "code",
   "execution_count": null,
   "metadata": {},
   "outputs": [],
   "source": [
    "# Contar el número de valores únicos en la columna movieId\n",
    "num_unique_userID = merged_df_ratings_movies['userId'].nunique()\n",
    "num_unique_movieId = merged_df_ratings_movies['movieId'].nunique()\n",
    "num_unique_title = merged_df_ratings_movies['title'].nunique()\n",
    "\n",
    "print(\"Número de valores únicos en la columna userId:\", num_unique_userID)\n",
    "print(\"Número de valores únicos en la columna movieId:\", num_unique_movieId)\n",
    "print(\"Número de valores únicos en la columna titte:\", num_unique_title)"
   ]
  },
  {
   "cell_type": "code",
   "execution_count": null,
   "metadata": {},
   "outputs": [],
   "source": [
    "merged_df_ratings_movies_non_duplicated = merged_df_ratings_movies[~merged_df_ratings_movies.duplicated(subset=['userId', 'movieId'], keep='first')]\n"
   ]
  },
  {
   "cell_type": "code",
   "execution_count": null,
   "metadata": {},
   "outputs": [],
   "source": [
    "print(merged_df_ratings_movies_non_duplicated.shape)\n",
    "merged_df_ratings_movies_non_duplicated.head()"
   ]
  },
  {
   "cell_type": "code",
   "execution_count": null,
   "metadata": {},
   "outputs": [],
   "source": [
    "# Contar el número de valores únicos en la columna movieId\n",
    "num_unique_userID = merged_df_ratings_movies_non_duplicated['userId'].nunique()\n",
    "num_unique_movieId = merged_df_ratings_movies_non_duplicated['movieId'].nunique()\n",
    "num_unique_title = merged_df_ratings_movies_non_duplicated['title'].nunique()\n",
    "\n",
    "print(\"Número de valores únicos en la columna userId:\", num_unique_userID)\n",
    "print(\"Número de valores únicos en la columna movieId:\", num_unique_movieId)\n",
    "print(\"Número de valores únicos en la columna titte:\", num_unique_title)"
   ]
  },
  {
   "cell_type": "code",
   "execution_count": null,
   "metadata": {},
   "outputs": [],
   "source": [
    "# Cuenta los valores nulos en cada columna del DataFrame\n",
    "valores_nulos_por_columna = merged_df_ratings_movies_non_duplicated.isnull().sum()\n",
    "# Cuenta los valores nulos en todo el DataFrame\n",
    "total_valores_nulos = merged_df_ratings_movies_non_duplicated.isnull().sum().sum()\n",
    "# Imprime la cantidad de valores nulos por columna\n",
    "print(\"Valores nulos por columna:\")\n",
    "print(valores_nulos_por_columna)\n",
    "# Imprime el total de valores nulos en el DataFrame\n",
    "print(\"\\nTotal de valores nulos en el dataset:\", total_valores_nulos)"
   ]
  },
  {
   "cell_type": "code",
   "execution_count": null,
   "metadata": {},
   "outputs": [],
   "source": [
    "df_movies_genome_tags= pd.read_csv(path_absolute+'movies_genome_tags.csv')"
   ]
  },
  {
   "cell_type": "code",
   "execution_count": null,
   "metadata": {},
   "outputs": [],
   "source": [
    "print(df_movies_genome_tags.shape)\n",
    "df_movies_genome_tags.head()"
   ]
  },
  {
   "cell_type": "code",
   "execution_count": null,
   "metadata": {},
   "outputs": [],
   "source": [
    "# Contar el número de valores únicos en la columna movieId\n",
    "num_unique_movieId = df_movies_genome_tags['movieId'].nunique()\n",
    "print(\"Número de valores únicos en la columna movieId:\", num_unique_movieId)"
   ]
  },
  {
   "cell_type": "code",
   "execution_count": null,
   "metadata": {},
   "outputs": [],
   "source": [
    "merged_df_ratings_movies_genomeTag = pd.merge(merged_df_ratings_movies_non_duplicated, df_movies_genome_tags, on='movieId', how='left', suffixes=('_df1', '_df2'))"
   ]
  },
  {
   "cell_type": "code",
   "execution_count": null,
   "metadata": {},
   "outputs": [],
   "source": [
    "print(merged_df_ratings_movies_genomeTag.shape)\n",
    "merged_df_ratings_movies_genomeTag.head()"
   ]
  },
  {
   "cell_type": "code",
   "execution_count": null,
   "metadata": {},
   "outputs": [],
   "source": [
    "# Contar el número de valores únicos en la columna movieId\n",
    "num_unique_userID = merged_df_ratings_movies_genomeTag['userId'].nunique()\n",
    "num_unique_movieId = merged_df_ratings_movies_genomeTag['movieId'].nunique()\n",
    "\n",
    "print(\"Número de valores únicos en la columna userId:\", num_unique_userID)\n",
    "print(\"Número de valores únicos en la columna movieId:\", num_unique_movieId)"
   ]
  },
  {
   "cell_type": "code",
   "execution_count": null,
   "metadata": {},
   "outputs": [],
   "source": [
    "# Cuenta los valores nulos en cada columna del DataFrame\n",
    "valores_nulos_por_columna = merged_df_ratings_movies_genomeTag.isnull().sum()\n",
    "# Cuenta los valores nulos en todo el DataFrame\n",
    "total_valores_nulos = merged_df_ratings_movies_genomeTag.isnull().sum().sum()\n",
    "# Imprime la cantidad de valores nulos por columna\n",
    "print(\"Valores nulos por columna:\")\n",
    "print(valores_nulos_por_columna)\n",
    "# Imprime el total de valores nulos en el DataFrame\n",
    "print(\"\\nTotal de valores nulos en el dataset:\", total_valores_nulos)"
   ]
  },
  {
   "cell_type": "markdown",
   "metadata": {},
   "source": [
    "Hay 325982 usurio-pelicula que no tienen etiqueta genomica."
   ]
  },
  {
   "cell_type": "code",
   "execution_count": null,
   "metadata": {},
   "outputs": [],
   "source": [
    "merged_df_ratings_movies_genomeTag_nonduplicated = merged_df_ratings_movies_genomeTag[~merged_df_ratings_movies_genomeTag.duplicated(\n",
    "    subset=['userId', 'movieId'], keep='first')]\n"
   ]
  },
  {
   "cell_type": "code",
   "execution_count": null,
   "metadata": {},
   "outputs": [],
   "source": [
    "print(merged_df_ratings_movies_genomeTag_nonduplicated.shape)\n",
    "merged_df_ratings_movies_genomeTag_nonduplicated.head()"
   ]
  },
  {
   "cell_type": "code",
   "execution_count": null,
   "metadata": {},
   "outputs": [],
   "source": [
    "# Contar el número de valores únicos en la columna movieId\n",
    "num_unique_userID = merged_df_ratings_movies_genomeTag_nonduplicated['userId'].nunique()\n",
    "num_unique_movieId = merged_df_ratings_movies_genomeTag_nonduplicated['movieId'].nunique()\n",
    "\n",
    "print(\"Número de valores únicos en la columna userId:\", num_unique_userID)\n",
    "print(\"Número de valores únicos en la columna movieId:\", num_unique_movieId)"
   ]
  },
  {
   "cell_type": "code",
   "execution_count": null,
   "metadata": {},
   "outputs": [],
   "source": [
    "df_movies_tags_by_user= pd.read_csv(path_absolute+'movies_tags_by_users.csv')"
   ]
  },
  {
   "cell_type": "code",
   "execution_count": null,
   "metadata": {},
   "outputs": [],
   "source": [
    "print(df_movies_tags_by_user.shape)\n",
    "df_movies_tags_by_user.head()"
   ]
  },
  {
   "cell_type": "code",
   "execution_count": null,
   "metadata": {},
   "outputs": [],
   "source": [
    "# Contar el número de valores únicos en la columna movieId\n",
    "num_unique_userID = df_movies_tags_by_user['userId'].nunique()\n",
    "num_unique_movieId = df_movies_tags_by_user['movieId'].nunique()\n",
    "\n",
    "print(\"Número de valores únicos en la columna userId:\", num_unique_userID)\n",
    "print(\"Número de valores únicos en la columna movieId:\", num_unique_movieId)"
   ]
  },
  {
   "cell_type": "code",
   "execution_count": null,
   "metadata": {},
   "outputs": [],
   "source": [
    "# df_filter = df_movies_tags_by_user[(df_movies_tags_by_user['userId'] == 1) & (df_movies_tags_by_user['movieId'] == 44665)]\n",
    "# df_filter = df_movies_tags_by_user[(df_movies_tags_by_user['userId'] == 1)]\n",
    "# df_filter.head()\n"
   ]
  },
  {
   "cell_type": "code",
   "execution_count": null,
   "metadata": {},
   "outputs": [],
   "source": [
    "merged_df_movies_tagGenome_tag_Users = pd.merge(merged_df_ratings_movies_genomeTag_nonduplicated, df_movies_tags_by_user, on=['userId', 'movieId'], how='left', suffixes=('_genome', '_by_user'))"
   ]
  },
  {
   "cell_type": "code",
   "execution_count": null,
   "metadata": {},
   "outputs": [],
   "source": [
    "print(merged_df_movies_tagGenome_tag_Users.shape)\n",
    "merged_df_movies_tagGenome_tag_Users.head()"
   ]
  },
  {
   "cell_type": "code",
   "execution_count": null,
   "metadata": {},
   "outputs": [],
   "source": [
    "# Contar el número de valores únicos en la columna movieId\n",
    "num_unique_userID = merged_df_movies_tagGenome_tag_Users['userId'].nunique()\n",
    "num_unique_movieId = merged_df_movies_tagGenome_tag_Users['movieId'].nunique()\n",
    "\n",
    "print(\"Número de valores únicos en la columna userId:\", num_unique_userID)\n",
    "print(\"Número de valores únicos en la columna movieId:\", num_unique_movieId)"
   ]
  },
  {
   "cell_type": "code",
   "execution_count": null,
   "metadata": {},
   "outputs": [],
   "source": [
    "# Cuenta los valores nulos en cada columna del DataFrame\n",
    "valores_nulos_por_columna = merged_df_movies_tagGenome_tag_Users.isnull().sum()\n",
    "# Cuenta los valores nulos en todo el DataFrame\n",
    "total_valores_nulos = merged_df_movies_tagGenome_tag_Users.isnull().sum().sum()\n",
    "# Imprime la cantidad de valores nulos por columna\n",
    "print(\"Valores nulos por columna:\")\n",
    "print(valores_nulos_por_columna)\n",
    "# Imprime el total de valores nulos en el DataFrame\n",
    "print(\"\\nTotal de valores nulos en el dataset:\", total_valores_nulos)"
   ]
  },
  {
   "cell_type": "markdown",
   "metadata": {},
   "source": [
    "Hay 325982 usurio-pelicula que no tienen etiqueta genomica.\n",
    "\n",
    "Hay 24789370 usuario pelicula que no tienen etiqueta por usuario."
   ]
  },
  {
   "cell_type": "code",
   "execution_count": null,
   "metadata": {},
   "outputs": [],
   "source": [
    "merged_df_movies_tagGenome_tag_Users_non_duplicated = merged_df_movies_tagGenome_tag_Users[~merged_df_movies_tagGenome_tag_Users.duplicated(\n",
    "    subset=['userId', 'movieId'], keep='first')]"
   ]
  },
  {
   "cell_type": "code",
   "execution_count": null,
   "metadata": {},
   "outputs": [],
   "source": [
    "filas_nulas = merged_df_movies_tagGenome_tag_Users_non_duplicated[merged_df_movies_tagGenome_tag_Users_non_duplicated[['tag_genome', 'tag_by_user']].isnull().all(axis=1)]\n",
    "print(filas_nulas.shape)\n",
    "filas_nulas.head()"
   ]
  },
  {
   "cell_type": "code",
   "execution_count": null,
   "metadata": {},
   "outputs": [],
   "source": [
    "print(merged_df_movies_tagGenome_tag_Users_non_duplicated.shape)\n",
    "merged_df_movies_tagGenome_tag_Users_non_duplicated.head()"
   ]
  },
  {
   "cell_type": "code",
   "execution_count": null,
   "metadata": {},
   "outputs": [],
   "source": [
    "# Contar el número de valores únicos en la columna movieId\n",
    "num_unique_userID = merged_df_movies_tagGenome_tag_Users_non_duplicated['userId'].nunique()\n",
    "num_unique_movieId = merged_df_movies_tagGenome_tag_Users_non_duplicated['movieId'].nunique()\n",
    "\n",
    "print(\"Número de valores únicos en la columna userId:\", num_unique_userID)\n",
    "print(\"Número de valores únicos en la columna movieId:\", num_unique_movieId)"
   ]
  },
  {
   "cell_type": "code",
   "execution_count": null,
   "metadata": {},
   "outputs": [],
   "source": [
    "# Cuenta los valores nulos en cada columna del DataFrame\n",
    "valores_nulos_por_columna = merged_df_movies_tagGenome_tag_Users_non_duplicated.isnull().sum()\n",
    "# Cuenta los valores nulos en todo el DataFrame\n",
    "total_valores_nulos = merged_df_movies_tagGenome_tag_Users_non_duplicated.isnull().sum().sum()\n",
    "# Imprime la cantidad de valores nulos por columna\n",
    "print(\"Valores nulos por columna:\")\n",
    "print(valores_nulos_por_columna)\n",
    "# Imprime el total de valores nulos en el DataFrame\n",
    "print(\"\\nTotal de valores nulos en el dataset:\", total_valores_nulos)"
   ]
  },
  {
   "cell_type": "code",
   "execution_count": null,
   "metadata": {},
   "outputs": [],
   "source": [
    "# Lista con el nuevo orden de las columnas\n",
    "new_column_order = ['userId', 'movieId', 'tag_by_user', 'tag_genome', 'title', 'genres', 'timestamp', 'rating']\n",
    "# Reordenar las columnas\n",
    "merged_df_movies_tagGenome_tag_Users_non_duplicated = merged_df_movies_tagGenome_tag_Users_non_duplicated.reindex(columns=new_column_order)\n"
   ]
  },
  {
   "cell_type": "code",
   "execution_count": null,
   "metadata": {},
   "outputs": [],
   "source": [
    "print(merged_df_movies_tagGenome_tag_Users_non_duplicated.shape)\n",
    "merged_df_movies_tagGenome_tag_Users_non_duplicated.head()"
   ]
  },
  {
   "cell_type": "code",
   "execution_count": null,
   "metadata": {},
   "outputs": [],
   "source": [
    "# merged_df_movies_tagGenome_tag_Users_non_duplicated.to_csv(path_absolute+'data_moviesRating_tgGen_tgUsrs.csv', index=False)"
   ]
  },
  {
   "cell_type": "markdown",
   "metadata": {},
   "source": [
    "-----------------------------------"
   ]
  },
  {
   "cell_type": "code",
   "execution_count": 3,
   "metadata": {},
   "outputs": [],
   "source": [
    "# Especificar el tipo de datos de la columna como cadena (string)\n",
    "dataFrame = pd.read_csv(path_absolute + 'data_moviesRating_tgGen_tgUsrs.csv', dtype=str)\n"
   ]
  },
  {
   "cell_type": "code",
   "execution_count": 4,
   "metadata": {},
   "outputs": [],
   "source": [
    "# Divide la columna 'géneros' en múltiples columnas usando '|' como delimitador y convierte en binario (0 o 1)\n",
    "generos_separados = dataFrame['genres'].str.get_dummies(sep='|')\n",
    "\n",
    "# Concatena los nuevos géneros_separados con el DataFrame original\n",
    "df_full_tag_genome_byuser_onehot_encode = pd.concat([dataFrame, generos_separados], axis=1)\n",
    "\n",
    "# Elimina la columna original 'géneros' si ya no la necesitas\n",
    "df_full_tag_genome_byuser_onehot_encode = df_full_tag_genome_byuser_onehot_encode.drop(columns=['genres'])"
   ]
  },
  {
   "cell_type": "code",
   "execution_count": 5,
   "metadata": {},
   "outputs": [
    {
     "name": "stdout",
     "output_type": "stream",
     "text": [
      "(25000095, 27)\n"
     ]
    },
    {
     "data": {
      "text/html": [
       "<div>\n",
       "<style scoped>\n",
       "    .dataframe tbody tr th:only-of-type {\n",
       "        vertical-align: middle;\n",
       "    }\n",
       "\n",
       "    .dataframe tbody tr th {\n",
       "        vertical-align: top;\n",
       "    }\n",
       "\n",
       "    .dataframe thead th {\n",
       "        text-align: right;\n",
       "    }\n",
       "</style>\n",
       "<table border=\"1\" class=\"dataframe\">\n",
       "  <thead>\n",
       "    <tr style=\"text-align: right;\">\n",
       "      <th></th>\n",
       "      <th>userId</th>\n",
       "      <th>movieId</th>\n",
       "      <th>tag_by_user</th>\n",
       "      <th>tag_genome</th>\n",
       "      <th>title</th>\n",
       "      <th>timestamp</th>\n",
       "      <th>rating</th>\n",
       "      <th>(no genres listed)</th>\n",
       "      <th>Action</th>\n",
       "      <th>Adventure</th>\n",
       "      <th>...</th>\n",
       "      <th>Film-Noir</th>\n",
       "      <th>Horror</th>\n",
       "      <th>IMAX</th>\n",
       "      <th>Musical</th>\n",
       "      <th>Mystery</th>\n",
       "      <th>Romance</th>\n",
       "      <th>Sci-Fi</th>\n",
       "      <th>Thriller</th>\n",
       "      <th>War</th>\n",
       "      <th>Western</th>\n",
       "    </tr>\n",
       "  </thead>\n",
       "  <tbody>\n",
       "    <tr>\n",
       "      <th>0</th>\n",
       "      <td>1</td>\n",
       "      <td>296</td>\n",
       "      <td>NaN</td>\n",
       "      <td>masterpiece, hit men, gratuitous violence, dar...</td>\n",
       "      <td>Pulp Fiction (1994)</td>\n",
       "      <td>1147880044</td>\n",
       "      <td>5.0</td>\n",
       "      <td>0</td>\n",
       "      <td>0</td>\n",
       "      <td>0</td>\n",
       "      <td>...</td>\n",
       "      <td>0</td>\n",
       "      <td>0</td>\n",
       "      <td>0</td>\n",
       "      <td>0</td>\n",
       "      <td>0</td>\n",
       "      <td>0</td>\n",
       "      <td>0</td>\n",
       "      <td>1</td>\n",
       "      <td>0</td>\n",
       "      <td>0</td>\n",
       "    </tr>\n",
       "    <tr>\n",
       "      <th>1</th>\n",
       "      <td>3</td>\n",
       "      <td>296</td>\n",
       "      <td>NaN</td>\n",
       "      <td>masterpiece, hit men, gratuitous violence, dar...</td>\n",
       "      <td>Pulp Fiction (1994)</td>\n",
       "      <td>1439474476</td>\n",
       "      <td>5.0</td>\n",
       "      <td>0</td>\n",
       "      <td>0</td>\n",
       "      <td>0</td>\n",
       "      <td>...</td>\n",
       "      <td>0</td>\n",
       "      <td>0</td>\n",
       "      <td>0</td>\n",
       "      <td>0</td>\n",
       "      <td>0</td>\n",
       "      <td>0</td>\n",
       "      <td>0</td>\n",
       "      <td>1</td>\n",
       "      <td>0</td>\n",
       "      <td>0</td>\n",
       "    </tr>\n",
       "    <tr>\n",
       "      <th>2</th>\n",
       "      <td>4</td>\n",
       "      <td>296</td>\n",
       "      <td>NaN</td>\n",
       "      <td>masterpiece, hit men, gratuitous violence, dar...</td>\n",
       "      <td>Pulp Fiction (1994)</td>\n",
       "      <td>1573938898</td>\n",
       "      <td>4.0</td>\n",
       "      <td>0</td>\n",
       "      <td>0</td>\n",
       "      <td>0</td>\n",
       "      <td>...</td>\n",
       "      <td>0</td>\n",
       "      <td>0</td>\n",
       "      <td>0</td>\n",
       "      <td>0</td>\n",
       "      <td>0</td>\n",
       "      <td>0</td>\n",
       "      <td>0</td>\n",
       "      <td>1</td>\n",
       "      <td>0</td>\n",
       "      <td>0</td>\n",
       "    </tr>\n",
       "    <tr>\n",
       "      <th>3</th>\n",
       "      <td>5</td>\n",
       "      <td>296</td>\n",
       "      <td>NaN</td>\n",
       "      <td>masterpiece, hit men, gratuitous violence, dar...</td>\n",
       "      <td>Pulp Fiction (1994)</td>\n",
       "      <td>830786155</td>\n",
       "      <td>4.0</td>\n",
       "      <td>0</td>\n",
       "      <td>0</td>\n",
       "      <td>0</td>\n",
       "      <td>...</td>\n",
       "      <td>0</td>\n",
       "      <td>0</td>\n",
       "      <td>0</td>\n",
       "      <td>0</td>\n",
       "      <td>0</td>\n",
       "      <td>0</td>\n",
       "      <td>0</td>\n",
       "      <td>1</td>\n",
       "      <td>0</td>\n",
       "      <td>0</td>\n",
       "    </tr>\n",
       "    <tr>\n",
       "      <th>4</th>\n",
       "      <td>7</td>\n",
       "      <td>296</td>\n",
       "      <td>NaN</td>\n",
       "      <td>masterpiece, hit men, gratuitous violence, dar...</td>\n",
       "      <td>Pulp Fiction (1994)</td>\n",
       "      <td>835444730</td>\n",
       "      <td>4.0</td>\n",
       "      <td>0</td>\n",
       "      <td>0</td>\n",
       "      <td>0</td>\n",
       "      <td>...</td>\n",
       "      <td>0</td>\n",
       "      <td>0</td>\n",
       "      <td>0</td>\n",
       "      <td>0</td>\n",
       "      <td>0</td>\n",
       "      <td>0</td>\n",
       "      <td>0</td>\n",
       "      <td>1</td>\n",
       "      <td>0</td>\n",
       "      <td>0</td>\n",
       "    </tr>\n",
       "  </tbody>\n",
       "</table>\n",
       "<p>5 rows × 27 columns</p>\n",
       "</div>"
      ],
      "text/plain": [
       "  userId movieId tag_by_user  \\\n",
       "0      1     296         NaN   \n",
       "1      3     296         NaN   \n",
       "2      4     296         NaN   \n",
       "3      5     296         NaN   \n",
       "4      7     296         NaN   \n",
       "\n",
       "                                          tag_genome                title  \\\n",
       "0  masterpiece, hit men, gratuitous violence, dar...  Pulp Fiction (1994)   \n",
       "1  masterpiece, hit men, gratuitous violence, dar...  Pulp Fiction (1994)   \n",
       "2  masterpiece, hit men, gratuitous violence, dar...  Pulp Fiction (1994)   \n",
       "3  masterpiece, hit men, gratuitous violence, dar...  Pulp Fiction (1994)   \n",
       "4  masterpiece, hit men, gratuitous violence, dar...  Pulp Fiction (1994)   \n",
       "\n",
       "    timestamp rating  (no genres listed)  Action  Adventure  ...  Film-Noir  \\\n",
       "0  1147880044    5.0                   0       0          0  ...          0   \n",
       "1  1439474476    5.0                   0       0          0  ...          0   \n",
       "2  1573938898    4.0                   0       0          0  ...          0   \n",
       "3   830786155    4.0                   0       0          0  ...          0   \n",
       "4   835444730    4.0                   0       0          0  ...          0   \n",
       "\n",
       "   Horror  IMAX  Musical  Mystery  Romance  Sci-Fi  Thriller  War  Western  \n",
       "0       0     0        0        0        0       0         1    0        0  \n",
       "1       0     0        0        0        0       0         1    0        0  \n",
       "2       0     0        0        0        0       0         1    0        0  \n",
       "3       0     0        0        0        0       0         1    0        0  \n",
       "4       0     0        0        0        0       0         1    0        0  \n",
       "\n",
       "[5 rows x 27 columns]"
      ]
     },
     "execution_count": 5,
     "metadata": {},
     "output_type": "execute_result"
    }
   ],
   "source": [
    "print(df_full_tag_genome_byuser_onehot_encode.shape)\n",
    "df_full_tag_genome_byuser_onehot_encode.head()"
   ]
  },
  {
   "cell_type": "code",
   "execution_count": 14,
   "metadata": {},
   "outputs": [],
   "source": [
    "df_aux = df_full_tag_genome_byuser_onehot_encode.copy()"
   ]
  },
  {
   "cell_type": "code",
   "execution_count": 15,
   "metadata": {},
   "outputs": [],
   "source": [
    "columna_a_mover = df_aux.pop('rating')\n",
    "# Inserta la columna 'rating' en la última posición del DataFrame\n",
    "df_aux.insert(len(df_aux.columns), 'rating', columna_a_mover)\n",
    "\n",
    "columna_a_mover = df_aux.pop('timestamp')\n",
    "# Inserta la columna 'rating' en la última posición del DataFrame\n",
    "df_aux.insert(len(df_aux.columns)-1, 'timestamp', columna_a_mover)\n",
    "data_moviesRating_tgGen_tgUsrs_onehot_encode = df_aux.copy()"
   ]
  },
  {
   "cell_type": "code",
   "execution_count": 16,
   "metadata": {},
   "outputs": [],
   "source": [
    "data_moviesRating_tgGen_tgUsrs_onehot_encode = data_moviesRating_tgGen_tgUsrs_onehot_encode.drop(columns=['(no genres listed)'])"
   ]
  },
  {
   "cell_type": "code",
   "execution_count": 17,
   "metadata": {},
   "outputs": [
    {
     "name": "stdout",
     "output_type": "stream",
     "text": [
      "(25000095, 26)\n"
     ]
    },
    {
     "data": {
      "text/html": [
       "<div>\n",
       "<style scoped>\n",
       "    .dataframe tbody tr th:only-of-type {\n",
       "        vertical-align: middle;\n",
       "    }\n",
       "\n",
       "    .dataframe tbody tr th {\n",
       "        vertical-align: top;\n",
       "    }\n",
       "\n",
       "    .dataframe thead th {\n",
       "        text-align: right;\n",
       "    }\n",
       "</style>\n",
       "<table border=\"1\" class=\"dataframe\">\n",
       "  <thead>\n",
       "    <tr style=\"text-align: right;\">\n",
       "      <th></th>\n",
       "      <th>userId</th>\n",
       "      <th>movieId</th>\n",
       "      <th>tag_by_user</th>\n",
       "      <th>tag_genome</th>\n",
       "      <th>title</th>\n",
       "      <th>Action</th>\n",
       "      <th>Adventure</th>\n",
       "      <th>Animation</th>\n",
       "      <th>Children</th>\n",
       "      <th>Comedy</th>\n",
       "      <th>...</th>\n",
       "      <th>IMAX</th>\n",
       "      <th>Musical</th>\n",
       "      <th>Mystery</th>\n",
       "      <th>Romance</th>\n",
       "      <th>Sci-Fi</th>\n",
       "      <th>Thriller</th>\n",
       "      <th>War</th>\n",
       "      <th>Western</th>\n",
       "      <th>timestamp</th>\n",
       "      <th>rating</th>\n",
       "    </tr>\n",
       "  </thead>\n",
       "  <tbody>\n",
       "    <tr>\n",
       "      <th>0</th>\n",
       "      <td>1</td>\n",
       "      <td>296</td>\n",
       "      <td>NaN</td>\n",
       "      <td>masterpiece, hit men, gratuitous violence, dar...</td>\n",
       "      <td>Pulp Fiction (1994)</td>\n",
       "      <td>0</td>\n",
       "      <td>0</td>\n",
       "      <td>0</td>\n",
       "      <td>0</td>\n",
       "      <td>1</td>\n",
       "      <td>...</td>\n",
       "      <td>0</td>\n",
       "      <td>0</td>\n",
       "      <td>0</td>\n",
       "      <td>0</td>\n",
       "      <td>0</td>\n",
       "      <td>1</td>\n",
       "      <td>0</td>\n",
       "      <td>0</td>\n",
       "      <td>1147880044</td>\n",
       "      <td>5.0</td>\n",
       "    </tr>\n",
       "    <tr>\n",
       "      <th>1</th>\n",
       "      <td>3</td>\n",
       "      <td>296</td>\n",
       "      <td>NaN</td>\n",
       "      <td>masterpiece, hit men, gratuitous violence, dar...</td>\n",
       "      <td>Pulp Fiction (1994)</td>\n",
       "      <td>0</td>\n",
       "      <td>0</td>\n",
       "      <td>0</td>\n",
       "      <td>0</td>\n",
       "      <td>1</td>\n",
       "      <td>...</td>\n",
       "      <td>0</td>\n",
       "      <td>0</td>\n",
       "      <td>0</td>\n",
       "      <td>0</td>\n",
       "      <td>0</td>\n",
       "      <td>1</td>\n",
       "      <td>0</td>\n",
       "      <td>0</td>\n",
       "      <td>1439474476</td>\n",
       "      <td>5.0</td>\n",
       "    </tr>\n",
       "    <tr>\n",
       "      <th>2</th>\n",
       "      <td>4</td>\n",
       "      <td>296</td>\n",
       "      <td>NaN</td>\n",
       "      <td>masterpiece, hit men, gratuitous violence, dar...</td>\n",
       "      <td>Pulp Fiction (1994)</td>\n",
       "      <td>0</td>\n",
       "      <td>0</td>\n",
       "      <td>0</td>\n",
       "      <td>0</td>\n",
       "      <td>1</td>\n",
       "      <td>...</td>\n",
       "      <td>0</td>\n",
       "      <td>0</td>\n",
       "      <td>0</td>\n",
       "      <td>0</td>\n",
       "      <td>0</td>\n",
       "      <td>1</td>\n",
       "      <td>0</td>\n",
       "      <td>0</td>\n",
       "      <td>1573938898</td>\n",
       "      <td>4.0</td>\n",
       "    </tr>\n",
       "    <tr>\n",
       "      <th>3</th>\n",
       "      <td>5</td>\n",
       "      <td>296</td>\n",
       "      <td>NaN</td>\n",
       "      <td>masterpiece, hit men, gratuitous violence, dar...</td>\n",
       "      <td>Pulp Fiction (1994)</td>\n",
       "      <td>0</td>\n",
       "      <td>0</td>\n",
       "      <td>0</td>\n",
       "      <td>0</td>\n",
       "      <td>1</td>\n",
       "      <td>...</td>\n",
       "      <td>0</td>\n",
       "      <td>0</td>\n",
       "      <td>0</td>\n",
       "      <td>0</td>\n",
       "      <td>0</td>\n",
       "      <td>1</td>\n",
       "      <td>0</td>\n",
       "      <td>0</td>\n",
       "      <td>830786155</td>\n",
       "      <td>4.0</td>\n",
       "    </tr>\n",
       "    <tr>\n",
       "      <th>4</th>\n",
       "      <td>7</td>\n",
       "      <td>296</td>\n",
       "      <td>NaN</td>\n",
       "      <td>masterpiece, hit men, gratuitous violence, dar...</td>\n",
       "      <td>Pulp Fiction (1994)</td>\n",
       "      <td>0</td>\n",
       "      <td>0</td>\n",
       "      <td>0</td>\n",
       "      <td>0</td>\n",
       "      <td>1</td>\n",
       "      <td>...</td>\n",
       "      <td>0</td>\n",
       "      <td>0</td>\n",
       "      <td>0</td>\n",
       "      <td>0</td>\n",
       "      <td>0</td>\n",
       "      <td>1</td>\n",
       "      <td>0</td>\n",
       "      <td>0</td>\n",
       "      <td>835444730</td>\n",
       "      <td>4.0</td>\n",
       "    </tr>\n",
       "  </tbody>\n",
       "</table>\n",
       "<p>5 rows × 26 columns</p>\n",
       "</div>"
      ],
      "text/plain": [
       "  userId movieId tag_by_user  \\\n",
       "0      1     296         NaN   \n",
       "1      3     296         NaN   \n",
       "2      4     296         NaN   \n",
       "3      5     296         NaN   \n",
       "4      7     296         NaN   \n",
       "\n",
       "                                          tag_genome                title  \\\n",
       "0  masterpiece, hit men, gratuitous violence, dar...  Pulp Fiction (1994)   \n",
       "1  masterpiece, hit men, gratuitous violence, dar...  Pulp Fiction (1994)   \n",
       "2  masterpiece, hit men, gratuitous violence, dar...  Pulp Fiction (1994)   \n",
       "3  masterpiece, hit men, gratuitous violence, dar...  Pulp Fiction (1994)   \n",
       "4  masterpiece, hit men, gratuitous violence, dar...  Pulp Fiction (1994)   \n",
       "\n",
       "   Action  Adventure  Animation  Children  Comedy  ...  IMAX  Musical  \\\n",
       "0       0          0          0         0       1  ...     0        0   \n",
       "1       0          0          0         0       1  ...     0        0   \n",
       "2       0          0          0         0       1  ...     0        0   \n",
       "3       0          0          0         0       1  ...     0        0   \n",
       "4       0          0          0         0       1  ...     0        0   \n",
       "\n",
       "   Mystery  Romance  Sci-Fi  Thriller  War  Western   timestamp  rating  \n",
       "0        0        0       0         1    0        0  1147880044     5.0  \n",
       "1        0        0       0         1    0        0  1439474476     5.0  \n",
       "2        0        0       0         1    0        0  1573938898     4.0  \n",
       "3        0        0       0         1    0        0   830786155     4.0  \n",
       "4        0        0       0         1    0        0   835444730     4.0  \n",
       "\n",
       "[5 rows x 26 columns]"
      ]
     },
     "execution_count": 17,
     "metadata": {},
     "output_type": "execute_result"
    }
   ],
   "source": [
    "print(data_moviesRating_tgGen_tgUsrs_onehot_encode.shape)\n",
    "data_moviesRating_tgGen_tgUsrs_onehot_encode.head()"
   ]
  },
  {
   "cell_type": "code",
   "execution_count": 18,
   "metadata": {},
   "outputs": [],
   "source": [
    "# data_moviesRating_tgGen_tgUsrs_onehot_encode.to_csv(path_absolute+'data_moviesRating_tgGen_tgUsrs_onehot_encode.csv', index=False)"
   ]
  },
  {
   "cell_type": "markdown",
   "metadata": {},
   "source": [
    "---------------------------------------------------------------------------------------------------------------------"
   ]
  }
 ],
 "metadata": {
  "kernelspec": {
   "display_name": "base",
   "language": "python",
   "name": "python3"
  },
  "language_info": {
   "codemirror_mode": {
    "name": "ipython",
    "version": 3
   },
   "file_extension": ".py",
   "mimetype": "text/x-python",
   "name": "python",
   "nbconvert_exporter": "python",
   "pygments_lexer": "ipython3",
   "version": "3.10.9"
  }
 },
 "nbformat": 4,
 "nbformat_minor": 2
}
